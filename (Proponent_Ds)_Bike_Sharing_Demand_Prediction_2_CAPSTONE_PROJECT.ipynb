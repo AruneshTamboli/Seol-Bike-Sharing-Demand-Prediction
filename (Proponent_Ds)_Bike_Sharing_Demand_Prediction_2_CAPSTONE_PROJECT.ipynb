{
  "nbformat": 4,
  "nbformat_minor": 0,
  "metadata": {
    "colab": {
      "name": "(Proponent_Ds) Bike Sharing Demand Prediction - 2 CAPSTONE PROJECT.ipynb",
      "provenance": [],
      "collapsed_sections": [],
      "include_colab_link": true
    },
    "kernelspec": {
      "display_name": "Python 3",
      "language": "python",
      "name": "python3"
    },
    "language_info": {
      "codemirror_mode": {
        "name": "ipython",
        "version": 3
      },
      "file_extension": ".py",
      "mimetype": "text/x-python",
      "name": "python",
      "nbconvert_exporter": "python",
      "pygments_lexer": "ipython3",
      "version": "3.6.6"
    }
  },
  "cells": [
    {
      "cell_type": "markdown",
      "metadata": {
        "id": "view-in-github",
        "colab_type": "text"
      },
      "source": [
        "<a href=\"https://colab.research.google.com/github/AruneshTamboli/Seol-Bike-Sharing-Demand-Prediction/blob/main/(Proponent_Ds)_Bike_Sharing_Demand_Prediction_2_CAPSTONE_PROJECT.ipynb\" target=\"_parent\"><img src=\"https://colab.research.google.com/assets/colab-badge.svg\" alt=\"Open In Colab\"/></a>"
      ]
    },
    {
      "cell_type": "markdown",
      "metadata": {
        "id": "tOGC-qoyhJeX"
      },
      "source": [
        "# <b><u> Project Title : Seoul Bike Sharing Demand Prediction </u></b>"
      ]
    },
    {
      "cell_type": "markdown",
      "metadata": {
        "id": "Y06xIdG26kRF"
      },
      "source": [
        "## <b> Problem Description </b>\n",
        "\n",
        "### Currently Rental bikes are introduced in many urban cities for the enhancement of mobility comfort. It is important to make the rental bike available and accessible to the public at the right time as it lessens the waiting time. Eventually, providing the city with a stable supply of rental bikes becomes a major concern. The crucial part is the prediction of bike count required at each hour for the stable supply of rental bikes.\n"
      ]
    },
    {
      "cell_type": "markdown",
      "metadata": {
        "id": "AlLxAtlziMbP"
      },
      "source": [
        "## <b> Data Description </b>\n",
        "\n",
        "### <b> The dataset contains weather information (Temperature, Humidity, Windspeed, Visibility, Dewpoint, Solar radiation, Snowfall, Rainfall), the number of bikes rented per hour and date information.</b>\n",
        "\n",
        "\n",
        "### <b>Attribute Information: </b>\n",
        "\n",
        "* ### Date : year-month-day\n",
        "* ### Rented Bike count - Count of bikes rented at each hour\n",
        "* ### Hour - Hour of he day\n",
        "* ### Temperature-Temperature in Celsius\n",
        "* ### Humidity - %\n",
        "* ### Windspeed - m/s\n",
        "* ### Visibility - 10m\n",
        "* ### Dew point temperature - Celsius\n",
        "* ### Solar radiation - MJ/m2\n",
        "* ### Rainfall - mm\n",
        "* ### Snowfall - cm\n",
        "* ### Seasons - Winter, Spring, Summer, Autumn\n",
        "* ### Holiday - Holiday/No holiday\n",
        "* ### Functional Day - NoFunc(Non Functional Hours), Fun(Functional hours)"
      ]
    },
    {
      "cell_type": "markdown",
      "metadata": {
        "id": "9YxGsurwPNIN"
      },
      "source": [
        "#Importing libraries"
      ]
    },
    {
      "cell_type": "code",
      "metadata": {
        "id": "dByMsuzT8Tnw"
      },
      "source": [
        "# Importing the  common libraries\n",
        "import numpy as np\n",
        "import pandas as pd\n",
        "from numpy import math\n",
        "from numpy import loadtxt\n",
        "import seaborn as sns\n",
        "import matplotlib.pyplot as plt\n",
        "%matplotlib inline\n",
        "from datetime import datetime     #importing for date time application\n",
        "import datetime as dt\n",
        "from sklearn import tree\n",
        "from sklearn.tree import DecisionTreeRegressor\n",
        "from sklearn.tree import export_graphviz\n",
        "from graphviz import Source\n",
        "\n",
        "from IPython.display import SVG\n",
        "from IPython.display import display\n",
        "\n",
        "\n",
        "from sklearn.model_selection import cross_validate\n",
        "from sklearn.model_selection import train_test_split\n",
        "from sklearn.model_selection import GridSearchCV\n",
        "from sklearn.model_selection import cross_val_score\n",
        "from sklearn.model_selection import RepeatedStratifiedKFold\n",
        "from sklearn.model_selection import RandomizedSearchCV\n",
        "from sklearn import metrics\n",
        "from sklearn.metrics import r2_score\n",
        "from sklearn.metrics import mean_squared_error\n",
        "from sklearn import ensemble\n",
        "from sklearn.ensemble import RandomForestRegressor\n",
        "from sklearn.ensemble import GradientBoostingRegressor\n",
        "from sklearn.ensemble import AdaBoostRegressor\n",
        "import xgboost as xgb\n",
        "\n"
      ],
      "execution_count": 1,
      "outputs": []
    },
    {
      "cell_type": "markdown",
      "metadata": {
        "id": "TpVWj-7llEu5"
      },
      "source": [
        "## Data Initialization"
      ]
    },
    {
      "cell_type": "code",
      "metadata": {
        "colab": {
          "base_uri": "https://localhost:8080/"
        },
        "id": "T07YYUhpH6LA",
        "outputId": "777912d7-e6c7-4063-c21a-5f45ae856b91"
      },
      "source": [
        "from google.colab import drive\n",
        "drive.mount('/content/drive')"
      ],
      "execution_count": 2,
      "outputs": [
        {
          "output_type": "stream",
          "name": "stdout",
          "text": [
            "Mounted at /content/drive\n"
          ]
        }
      ]
    },
    {
      "cell_type": "code",
      "metadata": {
        "id": "b4tnOCTiIRmq"
      },
      "source": [
        "bike_data = pd.read_csv(\"/content/drive/MyDrive/Almabetter/Capstone Projects/ML CAPSTONE PROJECT 09-09-21/Bike Sharing Demand Prediction/SeoulBikeData.csv\", encoding= 'unicode_escape')"
      ],
      "execution_count": 6,
      "outputs": []
    },
    {
      "cell_type": "markdown",
      "metadata": {
        "id": "H-FN82WDGCzZ"
      },
      "source": [
        "# **Exploratory Data Analysis**"
      ]
    },
    {
      "cell_type": "markdown",
      "metadata": {
        "id": "sG_A1fbQPIkp"
      },
      "source": [
        "Taking a quick look at our Data"
      ]
    },
    {
      "cell_type": "code",
      "metadata": {
        "colab": {
          "base_uri": "https://localhost:8080/",
          "height": 321
        },
        "id": "KnKH6g0_IdX0",
        "outputId": "d961b2d5-079f-4ef2-de93-2b74457aa0cb"
      },
      "source": [
        "bike_data.head()"
      ],
      "execution_count": 7,
      "outputs": [
        {
          "output_type": "execute_result",
          "data": {
            "text/html": [
              "<div>\n",
              "<style scoped>\n",
              "    .dataframe tbody tr th:only-of-type {\n",
              "        vertical-align: middle;\n",
              "    }\n",
              "\n",
              "    .dataframe tbody tr th {\n",
              "        vertical-align: top;\n",
              "    }\n",
              "\n",
              "    .dataframe thead th {\n",
              "        text-align: right;\n",
              "    }\n",
              "</style>\n",
              "<table border=\"1\" class=\"dataframe\">\n",
              "  <thead>\n",
              "    <tr style=\"text-align: right;\">\n",
              "      <th></th>\n",
              "      <th>Date</th>\n",
              "      <th>Rented Bike Count</th>\n",
              "      <th>Hour</th>\n",
              "      <th>Temperature(°C)</th>\n",
              "      <th>Humidity(%)</th>\n",
              "      <th>Wind speed (m/s)</th>\n",
              "      <th>Visibility (10m)</th>\n",
              "      <th>Dew point temperature(°C)</th>\n",
              "      <th>Solar Radiation (MJ/m2)</th>\n",
              "      <th>Rainfall(mm)</th>\n",
              "      <th>Snowfall (cm)</th>\n",
              "      <th>Seasons</th>\n",
              "      <th>Holiday</th>\n",
              "      <th>Functioning Day</th>\n",
              "    </tr>\n",
              "  </thead>\n",
              "  <tbody>\n",
              "    <tr>\n",
              "      <th>0</th>\n",
              "      <td>01/12/2017</td>\n",
              "      <td>254</td>\n",
              "      <td>0</td>\n",
              "      <td>-5.2</td>\n",
              "      <td>37</td>\n",
              "      <td>2.2</td>\n",
              "      <td>2000</td>\n",
              "      <td>-17.6</td>\n",
              "      <td>0.0</td>\n",
              "      <td>0.0</td>\n",
              "      <td>0.0</td>\n",
              "      <td>Winter</td>\n",
              "      <td>No Holiday</td>\n",
              "      <td>Yes</td>\n",
              "    </tr>\n",
              "    <tr>\n",
              "      <th>1</th>\n",
              "      <td>01/12/2017</td>\n",
              "      <td>204</td>\n",
              "      <td>1</td>\n",
              "      <td>-5.5</td>\n",
              "      <td>38</td>\n",
              "      <td>0.8</td>\n",
              "      <td>2000</td>\n",
              "      <td>-17.6</td>\n",
              "      <td>0.0</td>\n",
              "      <td>0.0</td>\n",
              "      <td>0.0</td>\n",
              "      <td>Winter</td>\n",
              "      <td>No Holiday</td>\n",
              "      <td>Yes</td>\n",
              "    </tr>\n",
              "    <tr>\n",
              "      <th>2</th>\n",
              "      <td>01/12/2017</td>\n",
              "      <td>173</td>\n",
              "      <td>2</td>\n",
              "      <td>-6.0</td>\n",
              "      <td>39</td>\n",
              "      <td>1.0</td>\n",
              "      <td>2000</td>\n",
              "      <td>-17.7</td>\n",
              "      <td>0.0</td>\n",
              "      <td>0.0</td>\n",
              "      <td>0.0</td>\n",
              "      <td>Winter</td>\n",
              "      <td>No Holiday</td>\n",
              "      <td>Yes</td>\n",
              "    </tr>\n",
              "    <tr>\n",
              "      <th>3</th>\n",
              "      <td>01/12/2017</td>\n",
              "      <td>107</td>\n",
              "      <td>3</td>\n",
              "      <td>-6.2</td>\n",
              "      <td>40</td>\n",
              "      <td>0.9</td>\n",
              "      <td>2000</td>\n",
              "      <td>-17.6</td>\n",
              "      <td>0.0</td>\n",
              "      <td>0.0</td>\n",
              "      <td>0.0</td>\n",
              "      <td>Winter</td>\n",
              "      <td>No Holiday</td>\n",
              "      <td>Yes</td>\n",
              "    </tr>\n",
              "    <tr>\n",
              "      <th>4</th>\n",
              "      <td>01/12/2017</td>\n",
              "      <td>78</td>\n",
              "      <td>4</td>\n",
              "      <td>-6.0</td>\n",
              "      <td>36</td>\n",
              "      <td>2.3</td>\n",
              "      <td>2000</td>\n",
              "      <td>-18.6</td>\n",
              "      <td>0.0</td>\n",
              "      <td>0.0</td>\n",
              "      <td>0.0</td>\n",
              "      <td>Winter</td>\n",
              "      <td>No Holiday</td>\n",
              "      <td>Yes</td>\n",
              "    </tr>\n",
              "  </tbody>\n",
              "</table>\n",
              "</div>"
            ],
            "text/plain": [
              "         Date  Rented Bike Count  Hour  ...  Seasons     Holiday  Functioning Day\n",
              "0  01/12/2017                254     0  ...   Winter  No Holiday              Yes\n",
              "1  01/12/2017                204     1  ...   Winter  No Holiday              Yes\n",
              "2  01/12/2017                173     2  ...   Winter  No Holiday              Yes\n",
              "3  01/12/2017                107     3  ...   Winter  No Holiday              Yes\n",
              "4  01/12/2017                 78     4  ...   Winter  No Holiday              Yes\n",
              "\n",
              "[5 rows x 14 columns]"
            ]
          },
          "metadata": {},
          "execution_count": 7
        }
      ]
    },
    {
      "cell_type": "code",
      "metadata": {
        "colab": {
          "base_uri": "https://localhost:8080/",
          "height": 458
        },
        "id": "xX7_oL5nJS38",
        "outputId": "5a0b4227-72fe-442a-e169-64c8df56c8c4"
      },
      "source": [
        "# dat description for the info\n",
        "bike_data.describe(include='all')"
      ],
      "execution_count": 8,
      "outputs": [
        {
          "output_type": "execute_result",
          "data": {
            "text/html": [
              "<div>\n",
              "<style scoped>\n",
              "    .dataframe tbody tr th:only-of-type {\n",
              "        vertical-align: middle;\n",
              "    }\n",
              "\n",
              "    .dataframe tbody tr th {\n",
              "        vertical-align: top;\n",
              "    }\n",
              "\n",
              "    .dataframe thead th {\n",
              "        text-align: right;\n",
              "    }\n",
              "</style>\n",
              "<table border=\"1\" class=\"dataframe\">\n",
              "  <thead>\n",
              "    <tr style=\"text-align: right;\">\n",
              "      <th></th>\n",
              "      <th>Date</th>\n",
              "      <th>Rented Bike Count</th>\n",
              "      <th>Hour</th>\n",
              "      <th>Temperature(°C)</th>\n",
              "      <th>Humidity(%)</th>\n",
              "      <th>Wind speed (m/s)</th>\n",
              "      <th>Visibility (10m)</th>\n",
              "      <th>Dew point temperature(°C)</th>\n",
              "      <th>Solar Radiation (MJ/m2)</th>\n",
              "      <th>Rainfall(mm)</th>\n",
              "      <th>Snowfall (cm)</th>\n",
              "      <th>Seasons</th>\n",
              "      <th>Holiday</th>\n",
              "      <th>Functioning Day</th>\n",
              "    </tr>\n",
              "  </thead>\n",
              "  <tbody>\n",
              "    <tr>\n",
              "      <th>count</th>\n",
              "      <td>8760</td>\n",
              "      <td>8760.000000</td>\n",
              "      <td>8760.000000</td>\n",
              "      <td>8760.000000</td>\n",
              "      <td>8760.000000</td>\n",
              "      <td>8760.000000</td>\n",
              "      <td>8760.000000</td>\n",
              "      <td>8760.000000</td>\n",
              "      <td>8760.000000</td>\n",
              "      <td>8760.000000</td>\n",
              "      <td>8760.000000</td>\n",
              "      <td>8760</td>\n",
              "      <td>8760</td>\n",
              "      <td>8760</td>\n",
              "    </tr>\n",
              "    <tr>\n",
              "      <th>unique</th>\n",
              "      <td>365</td>\n",
              "      <td>NaN</td>\n",
              "      <td>NaN</td>\n",
              "      <td>NaN</td>\n",
              "      <td>NaN</td>\n",
              "      <td>NaN</td>\n",
              "      <td>NaN</td>\n",
              "      <td>NaN</td>\n",
              "      <td>NaN</td>\n",
              "      <td>NaN</td>\n",
              "      <td>NaN</td>\n",
              "      <td>4</td>\n",
              "      <td>2</td>\n",
              "      <td>2</td>\n",
              "    </tr>\n",
              "    <tr>\n",
              "      <th>top</th>\n",
              "      <td>14/05/2018</td>\n",
              "      <td>NaN</td>\n",
              "      <td>NaN</td>\n",
              "      <td>NaN</td>\n",
              "      <td>NaN</td>\n",
              "      <td>NaN</td>\n",
              "      <td>NaN</td>\n",
              "      <td>NaN</td>\n",
              "      <td>NaN</td>\n",
              "      <td>NaN</td>\n",
              "      <td>NaN</td>\n",
              "      <td>Summer</td>\n",
              "      <td>No Holiday</td>\n",
              "      <td>Yes</td>\n",
              "    </tr>\n",
              "    <tr>\n",
              "      <th>freq</th>\n",
              "      <td>24</td>\n",
              "      <td>NaN</td>\n",
              "      <td>NaN</td>\n",
              "      <td>NaN</td>\n",
              "      <td>NaN</td>\n",
              "      <td>NaN</td>\n",
              "      <td>NaN</td>\n",
              "      <td>NaN</td>\n",
              "      <td>NaN</td>\n",
              "      <td>NaN</td>\n",
              "      <td>NaN</td>\n",
              "      <td>2208</td>\n",
              "      <td>8328</td>\n",
              "      <td>8465</td>\n",
              "    </tr>\n",
              "    <tr>\n",
              "      <th>mean</th>\n",
              "      <td>NaN</td>\n",
              "      <td>704.602055</td>\n",
              "      <td>11.500000</td>\n",
              "      <td>12.882922</td>\n",
              "      <td>58.226256</td>\n",
              "      <td>1.724909</td>\n",
              "      <td>1436.825799</td>\n",
              "      <td>4.073813</td>\n",
              "      <td>0.569111</td>\n",
              "      <td>0.148687</td>\n",
              "      <td>0.075068</td>\n",
              "      <td>NaN</td>\n",
              "      <td>NaN</td>\n",
              "      <td>NaN</td>\n",
              "    </tr>\n",
              "    <tr>\n",
              "      <th>std</th>\n",
              "      <td>NaN</td>\n",
              "      <td>644.997468</td>\n",
              "      <td>6.922582</td>\n",
              "      <td>11.944825</td>\n",
              "      <td>20.362413</td>\n",
              "      <td>1.036300</td>\n",
              "      <td>608.298712</td>\n",
              "      <td>13.060369</td>\n",
              "      <td>0.868746</td>\n",
              "      <td>1.128193</td>\n",
              "      <td>0.436746</td>\n",
              "      <td>NaN</td>\n",
              "      <td>NaN</td>\n",
              "      <td>NaN</td>\n",
              "    </tr>\n",
              "    <tr>\n",
              "      <th>min</th>\n",
              "      <td>NaN</td>\n",
              "      <td>0.000000</td>\n",
              "      <td>0.000000</td>\n",
              "      <td>-17.800000</td>\n",
              "      <td>0.000000</td>\n",
              "      <td>0.000000</td>\n",
              "      <td>27.000000</td>\n",
              "      <td>-30.600000</td>\n",
              "      <td>0.000000</td>\n",
              "      <td>0.000000</td>\n",
              "      <td>0.000000</td>\n",
              "      <td>NaN</td>\n",
              "      <td>NaN</td>\n",
              "      <td>NaN</td>\n",
              "    </tr>\n",
              "    <tr>\n",
              "      <th>25%</th>\n",
              "      <td>NaN</td>\n",
              "      <td>191.000000</td>\n",
              "      <td>5.750000</td>\n",
              "      <td>3.500000</td>\n",
              "      <td>42.000000</td>\n",
              "      <td>0.900000</td>\n",
              "      <td>940.000000</td>\n",
              "      <td>-4.700000</td>\n",
              "      <td>0.000000</td>\n",
              "      <td>0.000000</td>\n",
              "      <td>0.000000</td>\n",
              "      <td>NaN</td>\n",
              "      <td>NaN</td>\n",
              "      <td>NaN</td>\n",
              "    </tr>\n",
              "    <tr>\n",
              "      <th>50%</th>\n",
              "      <td>NaN</td>\n",
              "      <td>504.500000</td>\n",
              "      <td>11.500000</td>\n",
              "      <td>13.700000</td>\n",
              "      <td>57.000000</td>\n",
              "      <td>1.500000</td>\n",
              "      <td>1698.000000</td>\n",
              "      <td>5.100000</td>\n",
              "      <td>0.010000</td>\n",
              "      <td>0.000000</td>\n",
              "      <td>0.000000</td>\n",
              "      <td>NaN</td>\n",
              "      <td>NaN</td>\n",
              "      <td>NaN</td>\n",
              "    </tr>\n",
              "    <tr>\n",
              "      <th>75%</th>\n",
              "      <td>NaN</td>\n",
              "      <td>1065.250000</td>\n",
              "      <td>17.250000</td>\n",
              "      <td>22.500000</td>\n",
              "      <td>74.000000</td>\n",
              "      <td>2.300000</td>\n",
              "      <td>2000.000000</td>\n",
              "      <td>14.800000</td>\n",
              "      <td>0.930000</td>\n",
              "      <td>0.000000</td>\n",
              "      <td>0.000000</td>\n",
              "      <td>NaN</td>\n",
              "      <td>NaN</td>\n",
              "      <td>NaN</td>\n",
              "    </tr>\n",
              "    <tr>\n",
              "      <th>max</th>\n",
              "      <td>NaN</td>\n",
              "      <td>3556.000000</td>\n",
              "      <td>23.000000</td>\n",
              "      <td>39.400000</td>\n",
              "      <td>98.000000</td>\n",
              "      <td>7.400000</td>\n",
              "      <td>2000.000000</td>\n",
              "      <td>27.200000</td>\n",
              "      <td>3.520000</td>\n",
              "      <td>35.000000</td>\n",
              "      <td>8.800000</td>\n",
              "      <td>NaN</td>\n",
              "      <td>NaN</td>\n",
              "      <td>NaN</td>\n",
              "    </tr>\n",
              "  </tbody>\n",
              "</table>\n",
              "</div>"
            ],
            "text/plain": [
              "              Date  Rented Bike Count  ...     Holiday  Functioning Day\n",
              "count         8760        8760.000000  ...        8760             8760\n",
              "unique         365                NaN  ...           2                2\n",
              "top     14/05/2018                NaN  ...  No Holiday              Yes\n",
              "freq            24                NaN  ...        8328             8465\n",
              "mean           NaN         704.602055  ...         NaN              NaN\n",
              "std            NaN         644.997468  ...         NaN              NaN\n",
              "min            NaN           0.000000  ...         NaN              NaN\n",
              "25%            NaN         191.000000  ...         NaN              NaN\n",
              "50%            NaN         504.500000  ...         NaN              NaN\n",
              "75%            NaN        1065.250000  ...         NaN              NaN\n",
              "max            NaN        3556.000000  ...         NaN              NaN\n",
              "\n",
              "[11 rows x 14 columns]"
            ]
          },
          "metadata": {},
          "execution_count": 8
        }
      ]
    },
    {
      "cell_type": "code",
      "metadata": {
        "colab": {
          "base_uri": "https://localhost:8080/"
        },
        "id": "HiaxYPfRd3Ga",
        "outputId": "87010c78-ea71-47a7-b949-e70a886c5b22"
      },
      "source": [
        "#reading no of row and column\n",
        "bike_data.shape"
      ],
      "execution_count": 9,
      "outputs": [
        {
          "output_type": "execute_result",
          "data": {
            "text/plain": [
              "(8760, 14)"
            ]
          },
          "metadata": {},
          "execution_count": 9
        }
      ]
    },
    {
      "cell_type": "markdown",
      "metadata": {
        "id": "EPOGeZZvP2lJ"
      },
      "source": [
        "#Changing column names into simple column names"
      ]
    },
    {
      "cell_type": "code",
      "metadata": {
        "colab": {
          "base_uri": "https://localhost:8080/"
        },
        "id": "Dlm1iAA1OL5b",
        "outputId": "5cb60842-4ca3-46c6-e876-72291d609932"
      },
      "source": [
        "# all the column or feature\n",
        "bike_data.columns"
      ],
      "execution_count": 10,
      "outputs": [
        {
          "output_type": "execute_result",
          "data": {
            "text/plain": [
              "Index(['Date', 'Rented Bike Count', 'Hour', 'Temperature(°C)', 'Humidity(%)',\n",
              "       'Wind speed (m/s)', 'Visibility (10m)', 'Dew point temperature(°C)',\n",
              "       'Solar Radiation (MJ/m2)', 'Rainfall(mm)', 'Snowfall (cm)', 'Seasons',\n",
              "       'Holiday', 'Functioning Day'],\n",
              "      dtype='object')"
            ]
          },
          "metadata": {},
          "execution_count": 10
        }
      ]
    },
    {
      "cell_type": "code",
      "metadata": {
        "id": "jfz_rZ5tQp8T"
      },
      "source": [
        "#rename column\n",
        "bike_data = bike_data.rename(columns={'Rented Bike Count': 'Rented_Bike_Count', \n",
        "                        'Temperature(°C)': 'Temperature',\n",
        "                        'Humidity(%)': 'Humidity', \n",
        "                        'Wind speed (m/s)': 'Wind_speed', \n",
        "                        'Visibility (10m)': 'Visibility', \n",
        "                        'Dew point temperature(°C)': 'Dew_point_temperature', \n",
        "                        'Solar Radiation (MJ/m2)': 'Solar_Radiation', \n",
        "                        'Rainfall(mm)': 'Rainfall', \n",
        "                        'Snowfall (cm)': 'Snowfall',\n",
        "                        'Functioning Day': 'Functioning_Day'})"
      ],
      "execution_count": 11,
      "outputs": []
    },
    {
      "cell_type": "markdown",
      "metadata": {
        "id": "v-BrdtDwliVd"
      },
      "source": [
        "Simplifying column names for ease of reading."
      ]
    },
    {
      "cell_type": "markdown",
      "metadata": {
        "id": "sXNY_hPxUK-G"
      },
      "source": [
        "#Finding categorical features in our dataset."
      ]
    },
    {
      "cell_type": "code",
      "metadata": {
        "colab": {
          "base_uri": "https://localhost:8080/"
        },
        "id": "MHtgpm-UeUFG",
        "outputId": "a2563890-52b7-494f-ca06-48ca62147940"
      },
      "source": [
        "#To find out categorical features in our dataset\n",
        "bike_data.dtypes"
      ],
      "execution_count": 12,
      "outputs": [
        {
          "output_type": "execute_result",
          "data": {
            "text/plain": [
              "Date                      object\n",
              "Rented_Bike_Count          int64\n",
              "Hour                       int64\n",
              "Temperature              float64\n",
              "Humidity                   int64\n",
              "Wind_speed               float64\n",
              "Visibility                 int64\n",
              "Dew_point_temperature    float64\n",
              "Solar_Radiation          float64\n",
              "Rainfall                 float64\n",
              "Snowfall                 float64\n",
              "Seasons                   object\n",
              "Holiday                   object\n",
              "Functioning_Day           object\n",
              "dtype: object"
            ]
          },
          "metadata": {},
          "execution_count": 12
        }
      ]
    },
    {
      "cell_type": "code",
      "metadata": {
        "colab": {
          "base_uri": "https://localhost:8080/"
        },
        "id": "-VbN5SIhEyym",
        "outputId": "4c49396e-b5a6-4792-d128-6d239e59dcf4"
      },
      "source": [
        "print(bike_data.dtypes.astype(str).value_counts())"
      ],
      "execution_count": 13,
      "outputs": [
        {
          "output_type": "stream",
          "name": "stdout",
          "text": [
            "float64    6\n",
            "int64      4\n",
            "object     4\n",
            "dtype: int64\n"
          ]
        }
      ]
    },
    {
      "cell_type": "code",
      "metadata": {
        "colab": {
          "base_uri": "https://localhost:8080/"
        },
        "id": "bCsVfid_OL2r",
        "outputId": "45b1af90-bd31-4b6d-e090-b8df7af70b81"
      },
      "source": [
        "# see all the date or diffrent sesaons and holiday and functioning day\n",
        "print(bike_data['Seasons'].unique())\n",
        "print(bike_data['Holiday'].unique())\n",
        "print(bike_data['Functioning_Day'].unique())\n",
        "print(bike_data['Date'].unique())"
      ],
      "execution_count": 14,
      "outputs": [
        {
          "output_type": "stream",
          "name": "stdout",
          "text": [
            "['Winter' 'Spring' 'Summer' 'Autumn']\n",
            "['No Holiday' 'Holiday']\n",
            "['Yes' 'No']\n",
            "['01/12/2017' '02/12/2017' '03/12/2017' '04/12/2017' '05/12/2017'\n",
            " '06/12/2017' '07/12/2017' '08/12/2017' '09/12/2017' '10/12/2017'\n",
            " '11/12/2017' '12/12/2017' '13/12/2017' '14/12/2017' '15/12/2017'\n",
            " '16/12/2017' '17/12/2017' '18/12/2017' '19/12/2017' '20/12/2017'\n",
            " '21/12/2017' '22/12/2017' '23/12/2017' '24/12/2017' '25/12/2017'\n",
            " '26/12/2017' '27/12/2017' '28/12/2017' '29/12/2017' '30/12/2017'\n",
            " '31/12/2017' '01/01/2018' '02/01/2018' '03/01/2018' '04/01/2018'\n",
            " '05/01/2018' '06/01/2018' '07/01/2018' '08/01/2018' '09/01/2018'\n",
            " '10/01/2018' '11/01/2018' '12/01/2018' '13/01/2018' '14/01/2018'\n",
            " '15/01/2018' '16/01/2018' '17/01/2018' '18/01/2018' '19/01/2018'\n",
            " '20/01/2018' '21/01/2018' '22/01/2018' '23/01/2018' '24/01/2018'\n",
            " '25/01/2018' '26/01/2018' '27/01/2018' '28/01/2018' '29/01/2018'\n",
            " '30/01/2018' '31/01/2018' '01/02/2018' '02/02/2018' '03/02/2018'\n",
            " '04/02/2018' '05/02/2018' '06/02/2018' '07/02/2018' '08/02/2018'\n",
            " '09/02/2018' '10/02/2018' '11/02/2018' '12/02/2018' '13/02/2018'\n",
            " '14/02/2018' '15/02/2018' '16/02/2018' '17/02/2018' '18/02/2018'\n",
            " '19/02/2018' '20/02/2018' '21/02/2018' '22/02/2018' '23/02/2018'\n",
            " '24/02/2018' '25/02/2018' '26/02/2018' '27/02/2018' '28/02/2018'\n",
            " '01/03/2018' '02/03/2018' '03/03/2018' '04/03/2018' '05/03/2018'\n",
            " '06/03/2018' '07/03/2018' '08/03/2018' '09/03/2018' '10/03/2018'\n",
            " '11/03/2018' '12/03/2018' '13/03/2018' '14/03/2018' '15/03/2018'\n",
            " '16/03/2018' '17/03/2018' '18/03/2018' '19/03/2018' '20/03/2018'\n",
            " '21/03/2018' '22/03/2018' '23/03/2018' '24/03/2018' '25/03/2018'\n",
            " '26/03/2018' '27/03/2018' '28/03/2018' '29/03/2018' '30/03/2018'\n",
            " '31/03/2018' '01/04/2018' '02/04/2018' '03/04/2018' '04/04/2018'\n",
            " '05/04/2018' '06/04/2018' '07/04/2018' '08/04/2018' '09/04/2018'\n",
            " '10/04/2018' '11/04/2018' '12/04/2018' '13/04/2018' '14/04/2018'\n",
            " '15/04/2018' '16/04/2018' '17/04/2018' '18/04/2018' '19/04/2018'\n",
            " '20/04/2018' '21/04/2018' '22/04/2018' '23/04/2018' '24/04/2018'\n",
            " '25/04/2018' '26/04/2018' '27/04/2018' '28/04/2018' '29/04/2018'\n",
            " '30/04/2018' '01/05/2018' '02/05/2018' '03/05/2018' '04/05/2018'\n",
            " '05/05/2018' '06/05/2018' '07/05/2018' '08/05/2018' '09/05/2018'\n",
            " '10/05/2018' '11/05/2018' '12/05/2018' '13/05/2018' '14/05/2018'\n",
            " '15/05/2018' '16/05/2018' '17/05/2018' '18/05/2018' '19/05/2018'\n",
            " '20/05/2018' '21/05/2018' '22/05/2018' '23/05/2018' '24/05/2018'\n",
            " '25/05/2018' '26/05/2018' '27/05/2018' '28/05/2018' '29/05/2018'\n",
            " '30/05/2018' '31/05/2018' '01/06/2018' '02/06/2018' '03/06/2018'\n",
            " '04/06/2018' '05/06/2018' '06/06/2018' '07/06/2018' '08/06/2018'\n",
            " '09/06/2018' '10/06/2018' '11/06/2018' '12/06/2018' '13/06/2018'\n",
            " '14/06/2018' '15/06/2018' '16/06/2018' '17/06/2018' '18/06/2018'\n",
            " '19/06/2018' '20/06/2018' '21/06/2018' '22/06/2018' '23/06/2018'\n",
            " '24/06/2018' '25/06/2018' '26/06/2018' '27/06/2018' '28/06/2018'\n",
            " '29/06/2018' '30/06/2018' '01/07/2018' '02/07/2018' '03/07/2018'\n",
            " '04/07/2018' '05/07/2018' '06/07/2018' '07/07/2018' '08/07/2018'\n",
            " '09/07/2018' '10/07/2018' '11/07/2018' '12/07/2018' '13/07/2018'\n",
            " '14/07/2018' '15/07/2018' '16/07/2018' '17/07/2018' '18/07/2018'\n",
            " '19/07/2018' '20/07/2018' '21/07/2018' '22/07/2018' '23/07/2018'\n",
            " '24/07/2018' '25/07/2018' '26/07/2018' '27/07/2018' '28/07/2018'\n",
            " '29/07/2018' '30/07/2018' '31/07/2018' '01/08/2018' '02/08/2018'\n",
            " '03/08/2018' '04/08/2018' '05/08/2018' '06/08/2018' '07/08/2018'\n",
            " '08/08/2018' '09/08/2018' '10/08/2018' '11/08/2018' '12/08/2018'\n",
            " '13/08/2018' '14/08/2018' '15/08/2018' '16/08/2018' '17/08/2018'\n",
            " '18/08/2018' '19/08/2018' '20/08/2018' '21/08/2018' '22/08/2018'\n",
            " '23/08/2018' '24/08/2018' '25/08/2018' '26/08/2018' '27/08/2018'\n",
            " '28/08/2018' '29/08/2018' '30/08/2018' '31/08/2018' '01/09/2018'\n",
            " '02/09/2018' '03/09/2018' '04/09/2018' '05/09/2018' '06/09/2018'\n",
            " '07/09/2018' '08/09/2018' '09/09/2018' '10/09/2018' '11/09/2018'\n",
            " '12/09/2018' '13/09/2018' '14/09/2018' '15/09/2018' '16/09/2018'\n",
            " '17/09/2018' '18/09/2018' '19/09/2018' '20/09/2018' '21/09/2018'\n",
            " '22/09/2018' '23/09/2018' '24/09/2018' '25/09/2018' '26/09/2018'\n",
            " '27/09/2018' '28/09/2018' '29/09/2018' '30/09/2018' '01/10/2018'\n",
            " '02/10/2018' '03/10/2018' '04/10/2018' '05/10/2018' '06/10/2018'\n",
            " '07/10/2018' '08/10/2018' '09/10/2018' '10/10/2018' '11/10/2018'\n",
            " '12/10/2018' '13/10/2018' '14/10/2018' '15/10/2018' '16/10/2018'\n",
            " '17/10/2018' '18/10/2018' '19/10/2018' '20/10/2018' '21/10/2018'\n",
            " '22/10/2018' '23/10/2018' '24/10/2018' '25/10/2018' '26/10/2018'\n",
            " '27/10/2018' '28/10/2018' '29/10/2018' '30/10/2018' '31/10/2018'\n",
            " '01/11/2018' '02/11/2018' '03/11/2018' '04/11/2018' '05/11/2018'\n",
            " '06/11/2018' '07/11/2018' '08/11/2018' '09/11/2018' '10/11/2018'\n",
            " '11/11/2018' '12/11/2018' '13/11/2018' '14/11/2018' '15/11/2018'\n",
            " '16/11/2018' '17/11/2018' '18/11/2018' '19/11/2018' '20/11/2018'\n",
            " '21/11/2018' '22/11/2018' '23/11/2018' '24/11/2018' '25/11/2018'\n",
            " '26/11/2018' '27/11/2018' '28/11/2018' '29/11/2018' '30/11/2018']\n"
          ]
        }
      ]
    },
    {
      "cell_type": "markdown",
      "metadata": {
        "id": "J9HFaR0rl02T"
      },
      "source": [
        "### There are 14 columns. 10 are numerical and 4 are categorical columns. 'date' column has multiple information, extracting those informations can be insightful."
      ]
    },
    {
      "cell_type": "markdown",
      "metadata": {
        "id": "TJCRVcNfPAdy"
      },
      "source": [
        "#Checking for null values"
      ]
    },
    {
      "cell_type": "code",
      "metadata": {
        "colab": {
          "base_uri": "https://localhost:8080/"
        },
        "id": "CZVBF-N4KLnB",
        "outputId": "916c8bf9-3f21-46eb-f9bb-f609f900c68a"
      },
      "source": [
        "# data information for null value\n",
        "bike_data.info()"
      ],
      "execution_count": 15,
      "outputs": [
        {
          "output_type": "stream",
          "name": "stdout",
          "text": [
            "<class 'pandas.core.frame.DataFrame'>\n",
            "RangeIndex: 8760 entries, 0 to 8759\n",
            "Data columns (total 14 columns):\n",
            " #   Column                 Non-Null Count  Dtype  \n",
            "---  ------                 --------------  -----  \n",
            " 0   Date                   8760 non-null   object \n",
            " 1   Rented_Bike_Count      8760 non-null   int64  \n",
            " 2   Hour                   8760 non-null   int64  \n",
            " 3   Temperature            8760 non-null   float64\n",
            " 4   Humidity               8760 non-null   int64  \n",
            " 5   Wind_speed             8760 non-null   float64\n",
            " 6   Visibility             8760 non-null   int64  \n",
            " 7   Dew_point_temperature  8760 non-null   float64\n",
            " 8   Solar_Radiation        8760 non-null   float64\n",
            " 9   Rainfall               8760 non-null   float64\n",
            " 10  Snowfall               8760 non-null   float64\n",
            " 11  Seasons                8760 non-null   object \n",
            " 12  Holiday                8760 non-null   object \n",
            " 13  Functioning_Day        8760 non-null   object \n",
            "dtypes: float64(6), int64(4), object(4)\n",
            "memory usage: 958.2+ KB\n"
          ]
        }
      ]
    },
    {
      "cell_type": "code",
      "metadata": {
        "colab": {
          "base_uri": "https://localhost:8080/"
        },
        "id": "4BDvOtFpeUCO",
        "outputId": "5ca0ef89-c0b4-4e10-e763-90cb85cc54df"
      },
      "source": [
        "# checkng for no null value\n",
        "bike_data.isnull().sum()"
      ],
      "execution_count": 16,
      "outputs": [
        {
          "output_type": "execute_result",
          "data": {
            "text/plain": [
              "Date                     0\n",
              "Rented_Bike_Count        0\n",
              "Hour                     0\n",
              "Temperature              0\n",
              "Humidity                 0\n",
              "Wind_speed               0\n",
              "Visibility               0\n",
              "Dew_point_temperature    0\n",
              "Solar_Radiation          0\n",
              "Rainfall                 0\n",
              "Snowfall                 0\n",
              "Seasons                  0\n",
              "Holiday                  0\n",
              "Functioning_Day          0\n",
              "dtype: int64"
            ]
          },
          "metadata": {},
          "execution_count": 16
        }
      ]
    },
    {
      "cell_type": "markdown",
      "metadata": {
        "id": "QyM4SYH2Po4M"
      },
      "source": [
        "### Hooray! Dataset has no null values."
      ]
    },
    {
      "cell_type": "markdown",
      "metadata": {
        "id": "qlNJZum5-706"
      },
      "source": [
        "#Extracting features from date"
      ]
    },
    {
      "cell_type": "code",
      "metadata": {
        "id": "TiN_UMDoOLxV"
      },
      "source": [
        "#extarcting all usefull from date formate\n",
        "bike_data['Date']=pd.to_datetime(bike_data['Date'])\n",
        "bike_data['Year'] = pd.DatetimeIndex(bike_data['Date']).year\n",
        "bike_data['Day'] = pd.DatetimeIndex(bike_data['Date']).day\n",
        "bike_data['Month']= pd.DatetimeIndex(bike_data['Date']).month\n",
        "bike_data['weekday']=pd.DatetimeIndex(bike_data['Date']).weekday"
      ],
      "execution_count": 17,
      "outputs": []
    },
    {
      "cell_type": "code",
      "metadata": {
        "colab": {
          "base_uri": "https://localhost:8080/",
          "height": 164
        },
        "id": "gMViq3cJOLt6",
        "outputId": "a5609ad7-fdfa-47ef-9e2e-bdd6e2f180fb"
      },
      "source": [
        "# data after date time extraction\n",
        "bike_data.head(2)"
      ],
      "execution_count": 18,
      "outputs": [
        {
          "output_type": "execute_result",
          "data": {
            "text/html": [
              "<div>\n",
              "<style scoped>\n",
              "    .dataframe tbody tr th:only-of-type {\n",
              "        vertical-align: middle;\n",
              "    }\n",
              "\n",
              "    .dataframe tbody tr th {\n",
              "        vertical-align: top;\n",
              "    }\n",
              "\n",
              "    .dataframe thead th {\n",
              "        text-align: right;\n",
              "    }\n",
              "</style>\n",
              "<table border=\"1\" class=\"dataframe\">\n",
              "  <thead>\n",
              "    <tr style=\"text-align: right;\">\n",
              "      <th></th>\n",
              "      <th>Date</th>\n",
              "      <th>Rented_Bike_Count</th>\n",
              "      <th>Hour</th>\n",
              "      <th>Temperature</th>\n",
              "      <th>Humidity</th>\n",
              "      <th>Wind_speed</th>\n",
              "      <th>Visibility</th>\n",
              "      <th>Dew_point_temperature</th>\n",
              "      <th>Solar_Radiation</th>\n",
              "      <th>Rainfall</th>\n",
              "      <th>Snowfall</th>\n",
              "      <th>Seasons</th>\n",
              "      <th>Holiday</th>\n",
              "      <th>Functioning_Day</th>\n",
              "      <th>Year</th>\n",
              "      <th>Day</th>\n",
              "      <th>Month</th>\n",
              "      <th>weekday</th>\n",
              "    </tr>\n",
              "  </thead>\n",
              "  <tbody>\n",
              "    <tr>\n",
              "      <th>0</th>\n",
              "      <td>2017-01-12</td>\n",
              "      <td>254</td>\n",
              "      <td>0</td>\n",
              "      <td>-5.2</td>\n",
              "      <td>37</td>\n",
              "      <td>2.2</td>\n",
              "      <td>2000</td>\n",
              "      <td>-17.6</td>\n",
              "      <td>0.0</td>\n",
              "      <td>0.0</td>\n",
              "      <td>0.0</td>\n",
              "      <td>Winter</td>\n",
              "      <td>No Holiday</td>\n",
              "      <td>Yes</td>\n",
              "      <td>2017</td>\n",
              "      <td>12</td>\n",
              "      <td>1</td>\n",
              "      <td>3</td>\n",
              "    </tr>\n",
              "    <tr>\n",
              "      <th>1</th>\n",
              "      <td>2017-01-12</td>\n",
              "      <td>204</td>\n",
              "      <td>1</td>\n",
              "      <td>-5.5</td>\n",
              "      <td>38</td>\n",
              "      <td>0.8</td>\n",
              "      <td>2000</td>\n",
              "      <td>-17.6</td>\n",
              "      <td>0.0</td>\n",
              "      <td>0.0</td>\n",
              "      <td>0.0</td>\n",
              "      <td>Winter</td>\n",
              "      <td>No Holiday</td>\n",
              "      <td>Yes</td>\n",
              "      <td>2017</td>\n",
              "      <td>12</td>\n",
              "      <td>1</td>\n",
              "      <td>3</td>\n",
              "    </tr>\n",
              "  </tbody>\n",
              "</table>\n",
              "</div>"
            ],
            "text/plain": [
              "        Date  Rented_Bike_Count  Hour  Temperature  ...  Year  Day  Month  weekday\n",
              "0 2017-01-12                254     0         -5.2  ...  2017   12      1        3\n",
              "1 2017-01-12                204     1         -5.5  ...  2017   12      1        3\n",
              "\n",
              "[2 rows x 18 columns]"
            ]
          },
          "metadata": {},
          "execution_count": 18
        }
      ]
    },
    {
      "cell_type": "code",
      "metadata": {
        "colab": {
          "base_uri": "https://localhost:8080/",
          "height": 34
        },
        "id": "68xiCZG8jO0E",
        "outputId": "4dc3b18c-4db5-4586-f51c-1471cd50965f"
      },
      "source": [
        "display(bike_data['weekday'].unique())"
      ],
      "execution_count": 19,
      "outputs": [
        {
          "output_type": "display_data",
          "data": {
            "text/plain": [
              "array([3, 6, 2, 4, 0, 5, 1])"
            ]
          },
          "metadata": {}
        }
      ]
    },
    {
      "cell_type": "code",
      "metadata": {
        "colab": {
          "base_uri": "https://localhost:8080/",
          "height": 34
        },
        "id": "ICfESTE7jOyU",
        "outputId": "4d2eaf7a-ef0c-4c15-f33c-df195966b29a"
      },
      "source": [
        "#weekday is in range 0-6, so we need to make it to normal 1-7\n",
        "bike_data['weekday'] = np.array(bike_data['weekday'])+1\n",
        "display(bike_data['weekday'].unique())"
      ],
      "execution_count": 20,
      "outputs": [
        {
          "output_type": "display_data",
          "data": {
            "text/plain": [
              "array([4, 7, 3, 5, 1, 6, 2])"
            ]
          },
          "metadata": {}
        }
      ]
    },
    {
      "cell_type": "code",
      "metadata": {
        "colab": {
          "base_uri": "https://localhost:8080/",
          "height": 265
        },
        "id": "q6ttkHrojOva",
        "outputId": "717f9fb4-1814-40b6-e2d0-9957530fe720"
      },
      "source": [
        "# Rented_bike_per_year = pd.DataFrame(df['Rented Bike Count'].groupby(by=df['Year']).sum()).reset_index().sort_values(\"Year\", ascending=True)\n",
        "# Rented_bike_per_month = pd.DataFrame(df['Rented Bike Count'].groupby(by=df['Month']).sum()).reset_index().sort_values(\"Month\", ascending=True)\n",
        "# Rented_bike_per_Day= pd.DataFrame(df['Rented Bike Count'].groupby(by=df['Day']).sum()).reset_index().sort_values(\"Day\", ascending=True)\n",
        "Rented_bike_per_Weekday= pd.DataFrame(bike_data['Rented_Bike_Count'].groupby(by=bike_data['weekday']).sum()).reset_index().sort_values(\"weekday\", ascending=True)\n",
        "Rented_bike_per_Weekday"
      ],
      "execution_count": 21,
      "outputs": [
        {
          "output_type": "execute_result",
          "data": {
            "text/html": [
              "<div>\n",
              "<style scoped>\n",
              "    .dataframe tbody tr th:only-of-type {\n",
              "        vertical-align: middle;\n",
              "    }\n",
              "\n",
              "    .dataframe tbody tr th {\n",
              "        vertical-align: top;\n",
              "    }\n",
              "\n",
              "    .dataframe thead th {\n",
              "        text-align: right;\n",
              "    }\n",
              "</style>\n",
              "<table border=\"1\" class=\"dataframe\">\n",
              "  <thead>\n",
              "    <tr style=\"text-align: right;\">\n",
              "      <th></th>\n",
              "      <th>weekday</th>\n",
              "      <th>Rented_Bike_Count</th>\n",
              "    </tr>\n",
              "  </thead>\n",
              "  <tbody>\n",
              "    <tr>\n",
              "      <th>0</th>\n",
              "      <td>1</td>\n",
              "      <td>863563</td>\n",
              "    </tr>\n",
              "    <tr>\n",
              "      <th>1</th>\n",
              "      <td>2</td>\n",
              "      <td>862877</td>\n",
              "    </tr>\n",
              "    <tr>\n",
              "      <th>2</th>\n",
              "      <td>3</td>\n",
              "      <td>908871</td>\n",
              "    </tr>\n",
              "    <tr>\n",
              "      <th>3</th>\n",
              "      <td>4</td>\n",
              "      <td>928267</td>\n",
              "    </tr>\n",
              "    <tr>\n",
              "      <th>4</th>\n",
              "      <td>5</td>\n",
              "      <td>898966</td>\n",
              "    </tr>\n",
              "    <tr>\n",
              "      <th>5</th>\n",
              "      <td>6</td>\n",
              "      <td>911475</td>\n",
              "    </tr>\n",
              "    <tr>\n",
              "      <th>6</th>\n",
              "      <td>7</td>\n",
              "      <td>798295</td>\n",
              "    </tr>\n",
              "  </tbody>\n",
              "</table>\n",
              "</div>"
            ],
            "text/plain": [
              "   weekday  Rented_Bike_Count\n",
              "0        1             863563\n",
              "1        2             862877\n",
              "2        3             908871\n",
              "3        4             928267\n",
              "4        5             898966\n",
              "5        6             911475\n",
              "6        7             798295"
            ]
          },
          "metadata": {},
          "execution_count": 21
        }
      ]
    },
    {
      "cell_type": "code",
      "metadata": {
        "colab": {
          "base_uri": "https://localhost:8080/"
        },
        "id": "-DiJVQXeWSrY",
        "outputId": "750deb5d-f481-413d-cb2f-d5c2d067527f"
      },
      "source": [
        "# read the data for the year\n",
        "bike_data['Year'].value_counts()"
      ],
      "execution_count": 22,
      "outputs": [
        {
          "output_type": "execute_result",
          "data": {
            "text/plain": [
              "2018    8016\n",
              "2017     744\n",
              "Name: Year, dtype: int64"
            ]
          },
          "metadata": {},
          "execution_count": 22
        }
      ]
    },
    {
      "cell_type": "code",
      "metadata": {
        "colab": {
          "base_uri": "https://localhost:8080/",
          "height": 819
        },
        "id": "Q9-P0QBQWSpk",
        "outputId": "2f772c38-bb69-49a5-d34c-3b4cc6fb5bcb"
      },
      "source": [
        "# year mont count from the data set\n",
        "bike_data.groupby(['Year','Month']).agg({'Rented_Bike_Count':['sum']}).reset_index()"
      ],
      "execution_count": 23,
      "outputs": [
        {
          "output_type": "execute_result",
          "data": {
            "text/html": [
              "<div>\n",
              "<style scoped>\n",
              "    .dataframe tbody tr th:only-of-type {\n",
              "        vertical-align: middle;\n",
              "    }\n",
              "\n",
              "    .dataframe tbody tr th {\n",
              "        vertical-align: top;\n",
              "    }\n",
              "\n",
              "    .dataframe thead tr th {\n",
              "        text-align: left;\n",
              "    }\n",
              "</style>\n",
              "<table border=\"1\" class=\"dataframe\">\n",
              "  <thead>\n",
              "    <tr>\n",
              "      <th></th>\n",
              "      <th>Year</th>\n",
              "      <th>Month</th>\n",
              "      <th>Rented_Bike_Count</th>\n",
              "    </tr>\n",
              "    <tr>\n",
              "      <th></th>\n",
              "      <th></th>\n",
              "      <th></th>\n",
              "      <th>sum</th>\n",
              "    </tr>\n",
              "  </thead>\n",
              "  <tbody>\n",
              "    <tr>\n",
              "      <th>0</th>\n",
              "      <td>2017</td>\n",
              "      <td>1</td>\n",
              "      <td>9539</td>\n",
              "    </tr>\n",
              "    <tr>\n",
              "      <th>1</th>\n",
              "      <td>2017</td>\n",
              "      <td>2</td>\n",
              "      <td>8523</td>\n",
              "    </tr>\n",
              "    <tr>\n",
              "      <th>2</th>\n",
              "      <td>2017</td>\n",
              "      <td>3</td>\n",
              "      <td>7222</td>\n",
              "    </tr>\n",
              "    <tr>\n",
              "      <th>3</th>\n",
              "      <td>2017</td>\n",
              "      <td>4</td>\n",
              "      <td>8729</td>\n",
              "    </tr>\n",
              "    <tr>\n",
              "      <th>4</th>\n",
              "      <td>2017</td>\n",
              "      <td>5</td>\n",
              "      <td>8307</td>\n",
              "    </tr>\n",
              "    <tr>\n",
              "      <th>5</th>\n",
              "      <td>2017</td>\n",
              "      <td>6</td>\n",
              "      <td>6669</td>\n",
              "    </tr>\n",
              "    <tr>\n",
              "      <th>6</th>\n",
              "      <td>2017</td>\n",
              "      <td>7</td>\n",
              "      <td>8549</td>\n",
              "    </tr>\n",
              "    <tr>\n",
              "      <th>7</th>\n",
              "      <td>2017</td>\n",
              "      <td>8</td>\n",
              "      <td>8032</td>\n",
              "    </tr>\n",
              "    <tr>\n",
              "      <th>8</th>\n",
              "      <td>2017</td>\n",
              "      <td>9</td>\n",
              "      <td>7233</td>\n",
              "    </tr>\n",
              "    <tr>\n",
              "      <th>9</th>\n",
              "      <td>2017</td>\n",
              "      <td>10</td>\n",
              "      <td>3453</td>\n",
              "    </tr>\n",
              "    <tr>\n",
              "      <th>10</th>\n",
              "      <td>2017</td>\n",
              "      <td>11</td>\n",
              "      <td>5848</td>\n",
              "    </tr>\n",
              "    <tr>\n",
              "      <th>11</th>\n",
              "      <td>2017</td>\n",
              "      <td>12</td>\n",
              "      <td>103226</td>\n",
              "    </tr>\n",
              "    <tr>\n",
              "      <th>12</th>\n",
              "      <td>2018</td>\n",
              "      <td>1</td>\n",
              "      <td>277705</td>\n",
              "    </tr>\n",
              "    <tr>\n",
              "      <th>13</th>\n",
              "      <td>2018</td>\n",
              "      <td>2</td>\n",
              "      <td>255589</td>\n",
              "    </tr>\n",
              "    <tr>\n",
              "      <th>14</th>\n",
              "      <td>2018</td>\n",
              "      <td>3</td>\n",
              "      <td>447815</td>\n",
              "    </tr>\n",
              "    <tr>\n",
              "      <th>15</th>\n",
              "      <td>2018</td>\n",
              "      <td>4</td>\n",
              "      <td>547490</td>\n",
              "    </tr>\n",
              "    <tr>\n",
              "      <th>16</th>\n",
              "      <td>2018</td>\n",
              "      <td>5</td>\n",
              "      <td>657641</td>\n",
              "    </tr>\n",
              "    <tr>\n",
              "      <th>17</th>\n",
              "      <td>2018</td>\n",
              "      <td>6</td>\n",
              "      <td>700059</td>\n",
              "    </tr>\n",
              "    <tr>\n",
              "      <th>18</th>\n",
              "      <td>2018</td>\n",
              "      <td>7</td>\n",
              "      <td>682790</td>\n",
              "    </tr>\n",
              "    <tr>\n",
              "      <th>19</th>\n",
              "      <td>2018</td>\n",
              "      <td>8</td>\n",
              "      <td>606158</td>\n",
              "    </tr>\n",
              "    <tr>\n",
              "      <th>20</th>\n",
              "      <td>2018</td>\n",
              "      <td>9</td>\n",
              "      <td>492093</td>\n",
              "    </tr>\n",
              "    <tr>\n",
              "      <th>21</th>\n",
              "      <td>2018</td>\n",
              "      <td>10</td>\n",
              "      <td>623535</td>\n",
              "    </tr>\n",
              "    <tr>\n",
              "      <th>22</th>\n",
              "      <td>2018</td>\n",
              "      <td>11</td>\n",
              "      <td>487564</td>\n",
              "    </tr>\n",
              "    <tr>\n",
              "      <th>23</th>\n",
              "      <td>2018</td>\n",
              "      <td>12</td>\n",
              "      <td>208545</td>\n",
              "    </tr>\n",
              "  </tbody>\n",
              "</table>\n",
              "</div>"
            ],
            "text/plain": [
              "    Year Month Rented_Bike_Count\n",
              "                             sum\n",
              "0   2017     1              9539\n",
              "1   2017     2              8523\n",
              "2   2017     3              7222\n",
              "3   2017     4              8729\n",
              "4   2017     5              8307\n",
              "5   2017     6              6669\n",
              "6   2017     7              8549\n",
              "7   2017     8              8032\n",
              "8   2017     9              7233\n",
              "9   2017    10              3453\n",
              "10  2017    11              5848\n",
              "11  2017    12            103226\n",
              "12  2018     1            277705\n",
              "13  2018     2            255589\n",
              "14  2018     3            447815\n",
              "15  2018     4            547490\n",
              "16  2018     5            657641\n",
              "17  2018     6            700059\n",
              "18  2018     7            682790\n",
              "19  2018     8            606158\n",
              "20  2018     9            492093\n",
              "21  2018    10            623535\n",
              "22  2018    11            487564\n",
              "23  2018    12            208545"
            ]
          },
          "metadata": {},
          "execution_count": 23
        }
      ]
    },
    {
      "cell_type": "code",
      "metadata": {
        "id": "NcrBppxPeT6A"
      },
      "source": [
        "bike_data['Months_string'] = bike_data['Month'].map({1:'January',2:'February',3:'March',4:'April',5:'May',6:'June',7:'July',8:'August',9:'September',10:'October',11:'November',12:'December'})"
      ],
      "execution_count": 24,
      "outputs": []
    },
    {
      "cell_type": "code",
      "metadata": {
        "id": "qSOhKnRkf52O"
      },
      "source": [
        "import plotly.express as px"
      ],
      "execution_count": 25,
      "outputs": []
    },
    {
      "cell_type": "code",
      "metadata": {
        "colab": {
          "base_uri": "https://localhost:8080/",
          "height": 517
        },
        "id": "cRa6dZoiVgeZ",
        "outputId": "9c51c9e8-9ea4-49d9-93cf-d23e091ff0c9"
      },
      "source": [
        "#line plot for the month_year group\n",
        "month_year_group= bike_data.groupby(by=['Month','Months_string','Year']).agg({'Rented_Bike_Count':'sum'}).reset_index()\n",
        "px.line(month_year_group,y= 'Rented_Bike_Count',x= 'Months_string',color= 'Year',title='Total Rented Bikes in 2017 and 2018 on monthly basis',width=1000, height=500)"
      ],
      "execution_count": 26,
      "outputs": [
        {
          "output_type": "display_data",
          "data": {
            "text/html": [
              "<html>\n",
              "<head><meta charset=\"utf-8\" /></head>\n",
              "<body>\n",
              "    <div>\n",
              "            <script src=\"https://cdnjs.cloudflare.com/ajax/libs/mathjax/2.7.5/MathJax.js?config=TeX-AMS-MML_SVG\"></script><script type=\"text/javascript\">if (window.MathJax) {MathJax.Hub.Config({SVG: {font: \"STIX-Web\"}});}</script>\n",
              "                <script type=\"text/javascript\">window.PlotlyConfig = {MathJaxConfig: 'local'};</script>\n",
              "        <script src=\"https://cdn.plot.ly/plotly-latest.min.js\"></script>    \n",
              "            <div id=\"2c89231e-e11b-4cfe-a7fe-48b4bb8aeb6a\" class=\"plotly-graph-div\" style=\"height:500px; width:1000px;\"></div>\n",
              "            <script type=\"text/javascript\">\n",
              "                \n",
              "                    window.PLOTLYENV=window.PLOTLYENV || {};\n",
              "                    \n",
              "                if (document.getElementById(\"2c89231e-e11b-4cfe-a7fe-48b4bb8aeb6a\")) {\n",
              "                    Plotly.newPlot(\n",
              "                        '2c89231e-e11b-4cfe-a7fe-48b4bb8aeb6a',\n",
              "                        [{\"hoverlabel\": {\"namelength\": 0}, \"hovertemplate\": \"Year=2017<br>Months_string=%{x}<br>Rented_Bike_Count=%{y}\", \"legendgroup\": \"Year=2017\", \"line\": {\"color\": \"#636efa\", \"dash\": \"solid\"}, \"mode\": \"lines\", \"name\": \"Year=2017\", \"showlegend\": true, \"type\": \"scatter\", \"x\": [\"January\", \"February\", \"March\", \"April\", \"May\", \"June\", \"July\", \"August\", \"September\", \"October\", \"November\", \"December\"], \"xaxis\": \"x\", \"y\": [9539, 8523, 7222, 8729, 8307, 6669, 8549, 8032, 7233, 3453, 5848, 103226], \"yaxis\": \"y\"}, {\"hoverlabel\": {\"namelength\": 0}, \"hovertemplate\": \"Year=2018<br>Months_string=%{x}<br>Rented_Bike_Count=%{y}\", \"legendgroup\": \"Year=2018\", \"line\": {\"color\": \"#EF553B\", \"dash\": \"solid\"}, \"mode\": \"lines\", \"name\": \"Year=2018\", \"showlegend\": true, \"type\": \"scatter\", \"x\": [\"January\", \"February\", \"March\", \"April\", \"May\", \"June\", \"July\", \"August\", \"September\", \"October\", \"November\", \"December\"], \"xaxis\": \"x\", \"y\": [277705, 255589, 447815, 547490, 657641, 700059, 682790, 606158, 492093, 623535, 487564, 208545], \"yaxis\": \"y\"}],\n",
              "                        {\"height\": 500, \"legend\": {\"tracegroupgap\": 0}, \"template\": {\"data\": {\"bar\": [{\"error_x\": {\"color\": \"#2a3f5f\"}, \"error_y\": {\"color\": \"#2a3f5f\"}, \"marker\": {\"line\": {\"color\": \"#E5ECF6\", \"width\": 0.5}}, \"type\": \"bar\"}], \"barpolar\": [{\"marker\": {\"line\": {\"color\": \"#E5ECF6\", \"width\": 0.5}}, \"type\": \"barpolar\"}], \"carpet\": [{\"aaxis\": {\"endlinecolor\": \"#2a3f5f\", \"gridcolor\": \"white\", \"linecolor\": \"white\", \"minorgridcolor\": \"white\", \"startlinecolor\": \"#2a3f5f\"}, \"baxis\": {\"endlinecolor\": \"#2a3f5f\", \"gridcolor\": \"white\", \"linecolor\": \"white\", \"minorgridcolor\": \"white\", \"startlinecolor\": \"#2a3f5f\"}, \"type\": \"carpet\"}], \"choropleth\": [{\"colorbar\": {\"outlinewidth\": 0, \"ticks\": \"\"}, \"type\": \"choropleth\"}], \"contour\": [{\"colorbar\": {\"outlinewidth\": 0, \"ticks\": \"\"}, \"colorscale\": [[0.0, \"#0d0887\"], [0.1111111111111111, \"#46039f\"], [0.2222222222222222, \"#7201a8\"], [0.3333333333333333, \"#9c179e\"], [0.4444444444444444, \"#bd3786\"], [0.5555555555555556, \"#d8576b\"], [0.6666666666666666, \"#ed7953\"], [0.7777777777777778, \"#fb9f3a\"], [0.8888888888888888, \"#fdca26\"], [1.0, \"#f0f921\"]], \"type\": \"contour\"}], \"contourcarpet\": [{\"colorbar\": {\"outlinewidth\": 0, \"ticks\": \"\"}, \"type\": \"contourcarpet\"}], \"heatmap\": [{\"colorbar\": {\"outlinewidth\": 0, \"ticks\": \"\"}, \"colorscale\": [[0.0, \"#0d0887\"], [0.1111111111111111, \"#46039f\"], [0.2222222222222222, \"#7201a8\"], [0.3333333333333333, \"#9c179e\"], [0.4444444444444444, \"#bd3786\"], [0.5555555555555556, \"#d8576b\"], [0.6666666666666666, \"#ed7953\"], [0.7777777777777778, \"#fb9f3a\"], [0.8888888888888888, \"#fdca26\"], [1.0, \"#f0f921\"]], \"type\": \"heatmap\"}], \"heatmapgl\": [{\"colorbar\": {\"outlinewidth\": 0, \"ticks\": \"\"}, \"colorscale\": [[0.0, \"#0d0887\"], [0.1111111111111111, \"#46039f\"], [0.2222222222222222, \"#7201a8\"], [0.3333333333333333, \"#9c179e\"], [0.4444444444444444, \"#bd3786\"], [0.5555555555555556, \"#d8576b\"], [0.6666666666666666, \"#ed7953\"], [0.7777777777777778, \"#fb9f3a\"], [0.8888888888888888, \"#fdca26\"], [1.0, \"#f0f921\"]], \"type\": \"heatmapgl\"}], \"histogram\": [{\"marker\": {\"colorbar\": {\"outlinewidth\": 0, \"ticks\": \"\"}}, \"type\": \"histogram\"}], \"histogram2d\": [{\"colorbar\": {\"outlinewidth\": 0, \"ticks\": \"\"}, \"colorscale\": [[0.0, \"#0d0887\"], [0.1111111111111111, \"#46039f\"], [0.2222222222222222, \"#7201a8\"], [0.3333333333333333, \"#9c179e\"], [0.4444444444444444, \"#bd3786\"], [0.5555555555555556, \"#d8576b\"], [0.6666666666666666, \"#ed7953\"], [0.7777777777777778, \"#fb9f3a\"], [0.8888888888888888, \"#fdca26\"], [1.0, \"#f0f921\"]], \"type\": \"histogram2d\"}], \"histogram2dcontour\": [{\"colorbar\": {\"outlinewidth\": 0, \"ticks\": \"\"}, \"colorscale\": [[0.0, \"#0d0887\"], [0.1111111111111111, \"#46039f\"], [0.2222222222222222, \"#7201a8\"], [0.3333333333333333, \"#9c179e\"], [0.4444444444444444, \"#bd3786\"], [0.5555555555555556, \"#d8576b\"], [0.6666666666666666, \"#ed7953\"], [0.7777777777777778, \"#fb9f3a\"], [0.8888888888888888, \"#fdca26\"], [1.0, \"#f0f921\"]], \"type\": \"histogram2dcontour\"}], \"mesh3d\": [{\"colorbar\": {\"outlinewidth\": 0, \"ticks\": \"\"}, \"type\": \"mesh3d\"}], \"parcoords\": [{\"line\": {\"colorbar\": {\"outlinewidth\": 0, \"ticks\": \"\"}}, \"type\": \"parcoords\"}], \"pie\": [{\"automargin\": true, \"type\": \"pie\"}], \"scatter\": [{\"marker\": {\"colorbar\": {\"outlinewidth\": 0, \"ticks\": \"\"}}, \"type\": \"scatter\"}], \"scatter3d\": [{\"line\": {\"colorbar\": {\"outlinewidth\": 0, \"ticks\": \"\"}}, \"marker\": {\"colorbar\": {\"outlinewidth\": 0, \"ticks\": \"\"}}, \"type\": \"scatter3d\"}], \"scattercarpet\": [{\"marker\": {\"colorbar\": {\"outlinewidth\": 0, \"ticks\": \"\"}}, \"type\": \"scattercarpet\"}], \"scattergeo\": [{\"marker\": {\"colorbar\": {\"outlinewidth\": 0, \"ticks\": \"\"}}, \"type\": \"scattergeo\"}], \"scattergl\": [{\"marker\": {\"colorbar\": {\"outlinewidth\": 0, \"ticks\": \"\"}}, \"type\": \"scattergl\"}], \"scattermapbox\": [{\"marker\": {\"colorbar\": {\"outlinewidth\": 0, \"ticks\": \"\"}}, \"type\": \"scattermapbox\"}], \"scatterpolar\": [{\"marker\": {\"colorbar\": {\"outlinewidth\": 0, \"ticks\": \"\"}}, \"type\": \"scatterpolar\"}], \"scatterpolargl\": [{\"marker\": {\"colorbar\": {\"outlinewidth\": 0, \"ticks\": \"\"}}, \"type\": \"scatterpolargl\"}], \"scatterternary\": [{\"marker\": {\"colorbar\": {\"outlinewidth\": 0, \"ticks\": \"\"}}, \"type\": \"scatterternary\"}], \"surface\": [{\"colorbar\": {\"outlinewidth\": 0, \"ticks\": \"\"}, \"colorscale\": [[0.0, \"#0d0887\"], [0.1111111111111111, \"#46039f\"], [0.2222222222222222, \"#7201a8\"], [0.3333333333333333, \"#9c179e\"], [0.4444444444444444, \"#bd3786\"], [0.5555555555555556, \"#d8576b\"], [0.6666666666666666, \"#ed7953\"], [0.7777777777777778, \"#fb9f3a\"], [0.8888888888888888, \"#fdca26\"], [1.0, \"#f0f921\"]], \"type\": \"surface\"}], \"table\": [{\"cells\": {\"fill\": {\"color\": \"#EBF0F8\"}, \"line\": {\"color\": \"white\"}}, \"header\": {\"fill\": {\"color\": \"#C8D4E3\"}, \"line\": {\"color\": \"white\"}}, \"type\": \"table\"}]}, \"layout\": {\"annotationdefaults\": {\"arrowcolor\": \"#2a3f5f\", \"arrowhead\": 0, \"arrowwidth\": 1}, \"coloraxis\": {\"colorbar\": {\"outlinewidth\": 0, \"ticks\": \"\"}}, \"colorscale\": {\"diverging\": [[0, \"#8e0152\"], [0.1, \"#c51b7d\"], [0.2, \"#de77ae\"], [0.3, \"#f1b6da\"], [0.4, \"#fde0ef\"], [0.5, \"#f7f7f7\"], [0.6, \"#e6f5d0\"], [0.7, \"#b8e186\"], [0.8, \"#7fbc41\"], [0.9, \"#4d9221\"], [1, \"#276419\"]], \"sequential\": [[0.0, \"#0d0887\"], [0.1111111111111111, \"#46039f\"], [0.2222222222222222, \"#7201a8\"], [0.3333333333333333, \"#9c179e\"], [0.4444444444444444, \"#bd3786\"], [0.5555555555555556, \"#d8576b\"], [0.6666666666666666, \"#ed7953\"], [0.7777777777777778, \"#fb9f3a\"], [0.8888888888888888, \"#fdca26\"], [1.0, \"#f0f921\"]], \"sequentialminus\": [[0.0, \"#0d0887\"], [0.1111111111111111, \"#46039f\"], [0.2222222222222222, \"#7201a8\"], [0.3333333333333333, \"#9c179e\"], [0.4444444444444444, \"#bd3786\"], [0.5555555555555556, \"#d8576b\"], [0.6666666666666666, \"#ed7953\"], [0.7777777777777778, \"#fb9f3a\"], [0.8888888888888888, \"#fdca26\"], [1.0, \"#f0f921\"]]}, \"colorway\": [\"#636efa\", \"#EF553B\", \"#00cc96\", \"#ab63fa\", \"#FFA15A\", \"#19d3f3\", \"#FF6692\", \"#B6E880\", \"#FF97FF\", \"#FECB52\"], \"font\": {\"color\": \"#2a3f5f\"}, \"geo\": {\"bgcolor\": \"white\", \"lakecolor\": \"white\", \"landcolor\": \"#E5ECF6\", \"showlakes\": true, \"showland\": true, \"subunitcolor\": \"white\"}, \"hoverlabel\": {\"align\": \"left\"}, \"hovermode\": \"closest\", \"mapbox\": {\"style\": \"light\"}, \"paper_bgcolor\": \"white\", \"plot_bgcolor\": \"#E5ECF6\", \"polar\": {\"angularaxis\": {\"gridcolor\": \"white\", \"linecolor\": \"white\", \"ticks\": \"\"}, \"bgcolor\": \"#E5ECF6\", \"radialaxis\": {\"gridcolor\": \"white\", \"linecolor\": \"white\", \"ticks\": \"\"}}, \"scene\": {\"xaxis\": {\"backgroundcolor\": \"#E5ECF6\", \"gridcolor\": \"white\", \"gridwidth\": 2, \"linecolor\": \"white\", \"showbackground\": true, \"ticks\": \"\", \"zerolinecolor\": \"white\"}, \"yaxis\": {\"backgroundcolor\": \"#E5ECF6\", \"gridcolor\": \"white\", \"gridwidth\": 2, \"linecolor\": \"white\", \"showbackground\": true, \"ticks\": \"\", \"zerolinecolor\": \"white\"}, \"zaxis\": {\"backgroundcolor\": \"#E5ECF6\", \"gridcolor\": \"white\", \"gridwidth\": 2, \"linecolor\": \"white\", \"showbackground\": true, \"ticks\": \"\", \"zerolinecolor\": \"white\"}}, \"shapedefaults\": {\"line\": {\"color\": \"#2a3f5f\"}}, \"ternary\": {\"aaxis\": {\"gridcolor\": \"white\", \"linecolor\": \"white\", \"ticks\": \"\"}, \"baxis\": {\"gridcolor\": \"white\", \"linecolor\": \"white\", \"ticks\": \"\"}, \"bgcolor\": \"#E5ECF6\", \"caxis\": {\"gridcolor\": \"white\", \"linecolor\": \"white\", \"ticks\": \"\"}}, \"title\": {\"x\": 0.05}, \"xaxis\": {\"automargin\": true, \"gridcolor\": \"white\", \"linecolor\": \"white\", \"ticks\": \"\", \"title\": {\"standoff\": 15}, \"zerolinecolor\": \"white\", \"zerolinewidth\": 2}, \"yaxis\": {\"automargin\": true, \"gridcolor\": \"white\", \"linecolor\": \"white\", \"ticks\": \"\", \"title\": {\"standoff\": 15}, \"zerolinecolor\": \"white\", \"zerolinewidth\": 2}}}, \"title\": {\"text\": \"Total Rented Bikes in 2017 and 2018 on monthly basis\"}, \"width\": 1000, \"xaxis\": {\"anchor\": \"y\", \"domain\": [0.0, 1.0], \"title\": {\"text\": \"Months_string\"}}, \"yaxis\": {\"anchor\": \"x\", \"domain\": [0.0, 1.0], \"title\": {\"text\": \"Rented_Bike_Count\"}}},\n",
              "                        {\"responsive\": true}\n",
              "                    ).then(function(){\n",
              "                            \n",
              "var gd = document.getElementById('2c89231e-e11b-4cfe-a7fe-48b4bb8aeb6a');\n",
              "var x = new MutationObserver(function (mutations, observer) {{\n",
              "        var display = window.getComputedStyle(gd).display;\n",
              "        if (!display || display === 'none') {{\n",
              "            console.log([gd, 'removed!']);\n",
              "            Plotly.purge(gd);\n",
              "            observer.disconnect();\n",
              "        }}\n",
              "}});\n",
              "\n",
              "// Listen for the removal of the full notebook cells\n",
              "var notebookContainer = gd.closest('#notebook-container');\n",
              "if (notebookContainer) {{\n",
              "    x.observe(notebookContainer, {childList: true});\n",
              "}}\n",
              "\n",
              "// Listen for the clearing of the current output cell\n",
              "var outputEl = gd.closest('.output');\n",
              "if (outputEl) {{\n",
              "    x.observe(outputEl, {childList: true});\n",
              "}}\n",
              "\n",
              "                        })\n",
              "                };\n",
              "                \n",
              "            </script>\n",
              "        </div>\n",
              "</body>\n",
              "</html>"
            ]
          },
          "metadata": {}
        }
      ]
    },
    {
      "cell_type": "code",
      "metadata": {
        "colab": {
          "base_uri": "https://localhost:8080/",
          "height": 617
        },
        "id": "czo8T1LPVgbn",
        "outputId": "5f4a970a-f12a-414e-ee2f-41db2bec2f44"
      },
      "source": [
        "#bar plot for diffrent year\n",
        "px.bar(month_year_group,y= 'Rented_Bike_Count',x='Months_string' ,facet_row= 'Year',title='Total Rented Bikes on monthly basis in 2017 and 2018',width=800, height=600)\n"
      ],
      "execution_count": 27,
      "outputs": [
        {
          "output_type": "display_data",
          "data": {
            "text/html": [
              "<html>\n",
              "<head><meta charset=\"utf-8\" /></head>\n",
              "<body>\n",
              "    <div>\n",
              "            <script src=\"https://cdnjs.cloudflare.com/ajax/libs/mathjax/2.7.5/MathJax.js?config=TeX-AMS-MML_SVG\"></script><script type=\"text/javascript\">if (window.MathJax) {MathJax.Hub.Config({SVG: {font: \"STIX-Web\"}});}</script>\n",
              "                <script type=\"text/javascript\">window.PlotlyConfig = {MathJaxConfig: 'local'};</script>\n",
              "        <script src=\"https://cdn.plot.ly/plotly-latest.min.js\"></script>    \n",
              "            <div id=\"e03c3b3c-3dbf-4c64-94ef-a7b908d0d4bd\" class=\"plotly-graph-div\" style=\"height:600px; width:800px;\"></div>\n",
              "            <script type=\"text/javascript\">\n",
              "                \n",
              "                    window.PLOTLYENV=window.PLOTLYENV || {};\n",
              "                    \n",
              "                if (document.getElementById(\"e03c3b3c-3dbf-4c64-94ef-a7b908d0d4bd\")) {\n",
              "                    Plotly.newPlot(\n",
              "                        'e03c3b3c-3dbf-4c64-94ef-a7b908d0d4bd',\n",
              "                        [{\"alignmentgroup\": \"True\", \"hoverlabel\": {\"namelength\": 0}, \"hovertemplate\": \"Year=2017<br>Months_string=%{x}<br>Rented_Bike_Count=%{y}\", \"legendgroup\": \"\", \"marker\": {\"color\": \"#636efa\"}, \"name\": \"\", \"offsetgroup\": \"\", \"orientation\": \"v\", \"showlegend\": false, \"textposition\": \"auto\", \"type\": \"bar\", \"x\": [\"January\", \"February\", \"March\", \"April\", \"May\", \"June\", \"July\", \"August\", \"September\", \"October\", \"November\", \"December\"], \"xaxis\": \"x2\", \"y\": [9539, 8523, 7222, 8729, 8307, 6669, 8549, 8032, 7233, 3453, 5848, 103226], \"yaxis\": \"y2\"}, {\"alignmentgroup\": \"True\", \"hoverlabel\": {\"namelength\": 0}, \"hovertemplate\": \"Year=2018<br>Months_string=%{x}<br>Rented_Bike_Count=%{y}\", \"legendgroup\": \"\", \"marker\": {\"color\": \"#636efa\"}, \"name\": \"\", \"offsetgroup\": \"\", \"orientation\": \"v\", \"showlegend\": false, \"textposition\": \"auto\", \"type\": \"bar\", \"x\": [\"January\", \"February\", \"March\", \"April\", \"May\", \"June\", \"July\", \"August\", \"September\", \"October\", \"November\", \"December\"], \"xaxis\": \"x\", \"y\": [277705, 255589, 447815, 547490, 657641, 700059, 682790, 606158, 492093, 623535, 487564, 208545], \"yaxis\": \"y\"}],\n",
              "                        {\"annotations\": [{\"font\": {}, \"showarrow\": false, \"text\": \"Year=2018\", \"textangle\": 90, \"x\": 0.98, \"xanchor\": \"left\", \"xref\": \"paper\", \"y\": 0.2425, \"yanchor\": \"middle\", \"yref\": \"paper\"}, {\"font\": {}, \"showarrow\": false, \"text\": \"Year=2017\", \"textangle\": 90, \"x\": 0.98, \"xanchor\": \"left\", \"xref\": \"paper\", \"y\": 0.7575000000000001, \"yanchor\": \"middle\", \"yref\": \"paper\"}], \"barmode\": \"relative\", \"height\": 600, \"legend\": {\"tracegroupgap\": 0}, \"template\": {\"data\": {\"bar\": [{\"error_x\": {\"color\": \"#2a3f5f\"}, \"error_y\": {\"color\": \"#2a3f5f\"}, \"marker\": {\"line\": {\"color\": \"#E5ECF6\", \"width\": 0.5}}, \"type\": \"bar\"}], \"barpolar\": [{\"marker\": {\"line\": {\"color\": \"#E5ECF6\", \"width\": 0.5}}, \"type\": \"barpolar\"}], \"carpet\": [{\"aaxis\": {\"endlinecolor\": \"#2a3f5f\", \"gridcolor\": \"white\", \"linecolor\": \"white\", \"minorgridcolor\": \"white\", \"startlinecolor\": \"#2a3f5f\"}, \"baxis\": {\"endlinecolor\": \"#2a3f5f\", \"gridcolor\": \"white\", \"linecolor\": \"white\", \"minorgridcolor\": \"white\", \"startlinecolor\": \"#2a3f5f\"}, \"type\": \"carpet\"}], \"choropleth\": [{\"colorbar\": {\"outlinewidth\": 0, \"ticks\": \"\"}, \"type\": \"choropleth\"}], \"contour\": [{\"colorbar\": {\"outlinewidth\": 0, \"ticks\": \"\"}, \"colorscale\": [[0.0, \"#0d0887\"], [0.1111111111111111, \"#46039f\"], [0.2222222222222222, \"#7201a8\"], [0.3333333333333333, \"#9c179e\"], [0.4444444444444444, \"#bd3786\"], [0.5555555555555556, \"#d8576b\"], [0.6666666666666666, \"#ed7953\"], [0.7777777777777778, \"#fb9f3a\"], [0.8888888888888888, \"#fdca26\"], [1.0, \"#f0f921\"]], \"type\": \"contour\"}], \"contourcarpet\": [{\"colorbar\": {\"outlinewidth\": 0, \"ticks\": \"\"}, \"type\": \"contourcarpet\"}], \"heatmap\": [{\"colorbar\": {\"outlinewidth\": 0, \"ticks\": \"\"}, \"colorscale\": [[0.0, \"#0d0887\"], [0.1111111111111111, \"#46039f\"], [0.2222222222222222, \"#7201a8\"], [0.3333333333333333, \"#9c179e\"], [0.4444444444444444, \"#bd3786\"], [0.5555555555555556, \"#d8576b\"], [0.6666666666666666, \"#ed7953\"], [0.7777777777777778, \"#fb9f3a\"], [0.8888888888888888, \"#fdca26\"], [1.0, \"#f0f921\"]], \"type\": \"heatmap\"}], \"heatmapgl\": [{\"colorbar\": {\"outlinewidth\": 0, \"ticks\": \"\"}, \"colorscale\": [[0.0, \"#0d0887\"], [0.1111111111111111, \"#46039f\"], [0.2222222222222222, \"#7201a8\"], [0.3333333333333333, \"#9c179e\"], [0.4444444444444444, \"#bd3786\"], [0.5555555555555556, \"#d8576b\"], [0.6666666666666666, \"#ed7953\"], [0.7777777777777778, \"#fb9f3a\"], [0.8888888888888888, \"#fdca26\"], [1.0, \"#f0f921\"]], \"type\": \"heatmapgl\"}], \"histogram\": [{\"marker\": {\"colorbar\": {\"outlinewidth\": 0, \"ticks\": \"\"}}, \"type\": \"histogram\"}], \"histogram2d\": [{\"colorbar\": {\"outlinewidth\": 0, \"ticks\": \"\"}, \"colorscale\": [[0.0, \"#0d0887\"], [0.1111111111111111, \"#46039f\"], [0.2222222222222222, \"#7201a8\"], [0.3333333333333333, \"#9c179e\"], [0.4444444444444444, \"#bd3786\"], [0.5555555555555556, \"#d8576b\"], [0.6666666666666666, \"#ed7953\"], [0.7777777777777778, \"#fb9f3a\"], [0.8888888888888888, \"#fdca26\"], [1.0, \"#f0f921\"]], \"type\": \"histogram2d\"}], \"histogram2dcontour\": [{\"colorbar\": {\"outlinewidth\": 0, \"ticks\": \"\"}, \"colorscale\": [[0.0, \"#0d0887\"], [0.1111111111111111, \"#46039f\"], [0.2222222222222222, \"#7201a8\"], [0.3333333333333333, \"#9c179e\"], [0.4444444444444444, \"#bd3786\"], [0.5555555555555556, \"#d8576b\"], [0.6666666666666666, \"#ed7953\"], [0.7777777777777778, \"#fb9f3a\"], [0.8888888888888888, \"#fdca26\"], [1.0, \"#f0f921\"]], \"type\": \"histogram2dcontour\"}], \"mesh3d\": [{\"colorbar\": {\"outlinewidth\": 0, \"ticks\": \"\"}, \"type\": \"mesh3d\"}], \"parcoords\": [{\"line\": {\"colorbar\": {\"outlinewidth\": 0, \"ticks\": \"\"}}, \"type\": \"parcoords\"}], \"pie\": [{\"automargin\": true, \"type\": \"pie\"}], \"scatter\": [{\"marker\": {\"colorbar\": {\"outlinewidth\": 0, \"ticks\": \"\"}}, \"type\": \"scatter\"}], \"scatter3d\": [{\"line\": {\"colorbar\": {\"outlinewidth\": 0, \"ticks\": \"\"}}, \"marker\": {\"colorbar\": {\"outlinewidth\": 0, \"ticks\": \"\"}}, \"type\": \"scatter3d\"}], \"scattercarpet\": [{\"marker\": {\"colorbar\": {\"outlinewidth\": 0, \"ticks\": \"\"}}, \"type\": \"scattercarpet\"}], \"scattergeo\": [{\"marker\": {\"colorbar\": {\"outlinewidth\": 0, \"ticks\": \"\"}}, \"type\": \"scattergeo\"}], \"scattergl\": [{\"marker\": {\"colorbar\": {\"outlinewidth\": 0, \"ticks\": \"\"}}, \"type\": \"scattergl\"}], \"scattermapbox\": [{\"marker\": {\"colorbar\": {\"outlinewidth\": 0, \"ticks\": \"\"}}, \"type\": \"scattermapbox\"}], \"scatterpolar\": [{\"marker\": {\"colorbar\": {\"outlinewidth\": 0, \"ticks\": \"\"}}, \"type\": \"scatterpolar\"}], \"scatterpolargl\": [{\"marker\": {\"colorbar\": {\"outlinewidth\": 0, \"ticks\": \"\"}}, \"type\": \"scatterpolargl\"}], \"scatterternary\": [{\"marker\": {\"colorbar\": {\"outlinewidth\": 0, \"ticks\": \"\"}}, \"type\": \"scatterternary\"}], \"surface\": [{\"colorbar\": {\"outlinewidth\": 0, \"ticks\": \"\"}, \"colorscale\": [[0.0, \"#0d0887\"], [0.1111111111111111, \"#46039f\"], [0.2222222222222222, \"#7201a8\"], [0.3333333333333333, \"#9c179e\"], [0.4444444444444444, \"#bd3786\"], [0.5555555555555556, \"#d8576b\"], [0.6666666666666666, \"#ed7953\"], [0.7777777777777778, \"#fb9f3a\"], [0.8888888888888888, \"#fdca26\"], [1.0, \"#f0f921\"]], \"type\": \"surface\"}], \"table\": [{\"cells\": {\"fill\": {\"color\": \"#EBF0F8\"}, \"line\": {\"color\": \"white\"}}, \"header\": {\"fill\": {\"color\": \"#C8D4E3\"}, \"line\": {\"color\": \"white\"}}, \"type\": \"table\"}]}, \"layout\": {\"annotationdefaults\": {\"arrowcolor\": \"#2a3f5f\", \"arrowhead\": 0, \"arrowwidth\": 1}, \"coloraxis\": {\"colorbar\": {\"outlinewidth\": 0, \"ticks\": \"\"}}, \"colorscale\": {\"diverging\": [[0, \"#8e0152\"], [0.1, \"#c51b7d\"], [0.2, \"#de77ae\"], [0.3, \"#f1b6da\"], [0.4, \"#fde0ef\"], [0.5, \"#f7f7f7\"], [0.6, \"#e6f5d0\"], [0.7, \"#b8e186\"], [0.8, \"#7fbc41\"], [0.9, \"#4d9221\"], [1, \"#276419\"]], \"sequential\": [[0.0, \"#0d0887\"], [0.1111111111111111, \"#46039f\"], [0.2222222222222222, \"#7201a8\"], [0.3333333333333333, \"#9c179e\"], [0.4444444444444444, \"#bd3786\"], [0.5555555555555556, \"#d8576b\"], [0.6666666666666666, \"#ed7953\"], [0.7777777777777778, \"#fb9f3a\"], [0.8888888888888888, \"#fdca26\"], [1.0, \"#f0f921\"]], \"sequentialminus\": [[0.0, \"#0d0887\"], [0.1111111111111111, \"#46039f\"], [0.2222222222222222, \"#7201a8\"], [0.3333333333333333, \"#9c179e\"], [0.4444444444444444, \"#bd3786\"], [0.5555555555555556, \"#d8576b\"], [0.6666666666666666, \"#ed7953\"], [0.7777777777777778, \"#fb9f3a\"], [0.8888888888888888, \"#fdca26\"], [1.0, \"#f0f921\"]]}, \"colorway\": [\"#636efa\", \"#EF553B\", \"#00cc96\", \"#ab63fa\", \"#FFA15A\", \"#19d3f3\", \"#FF6692\", \"#B6E880\", \"#FF97FF\", \"#FECB52\"], \"font\": {\"color\": \"#2a3f5f\"}, \"geo\": {\"bgcolor\": \"white\", \"lakecolor\": \"white\", \"landcolor\": \"#E5ECF6\", \"showlakes\": true, \"showland\": true, \"subunitcolor\": \"white\"}, \"hoverlabel\": {\"align\": \"left\"}, \"hovermode\": \"closest\", \"mapbox\": {\"style\": \"light\"}, \"paper_bgcolor\": \"white\", \"plot_bgcolor\": \"#E5ECF6\", \"polar\": {\"angularaxis\": {\"gridcolor\": \"white\", \"linecolor\": \"white\", \"ticks\": \"\"}, \"bgcolor\": \"#E5ECF6\", \"radialaxis\": {\"gridcolor\": \"white\", \"linecolor\": \"white\", \"ticks\": \"\"}}, \"scene\": {\"xaxis\": {\"backgroundcolor\": \"#E5ECF6\", \"gridcolor\": \"white\", \"gridwidth\": 2, \"linecolor\": \"white\", \"showbackground\": true, \"ticks\": \"\", \"zerolinecolor\": \"white\"}, \"yaxis\": {\"backgroundcolor\": \"#E5ECF6\", \"gridcolor\": \"white\", \"gridwidth\": 2, \"linecolor\": \"white\", \"showbackground\": true, \"ticks\": \"\", \"zerolinecolor\": \"white\"}, \"zaxis\": {\"backgroundcolor\": \"#E5ECF6\", \"gridcolor\": \"white\", \"gridwidth\": 2, \"linecolor\": \"white\", \"showbackground\": true, \"ticks\": \"\", \"zerolinecolor\": \"white\"}}, \"shapedefaults\": {\"line\": {\"color\": \"#2a3f5f\"}}, \"ternary\": {\"aaxis\": {\"gridcolor\": \"white\", \"linecolor\": \"white\", \"ticks\": \"\"}, \"baxis\": {\"gridcolor\": \"white\", \"linecolor\": \"white\", \"ticks\": \"\"}, \"bgcolor\": \"#E5ECF6\", \"caxis\": {\"gridcolor\": \"white\", \"linecolor\": \"white\", \"ticks\": \"\"}}, \"title\": {\"x\": 0.05}, \"xaxis\": {\"automargin\": true, \"gridcolor\": \"white\", \"linecolor\": \"white\", \"ticks\": \"\", \"title\": {\"standoff\": 15}, \"zerolinecolor\": \"white\", \"zerolinewidth\": 2}, \"yaxis\": {\"automargin\": true, \"gridcolor\": \"white\", \"linecolor\": \"white\", \"ticks\": \"\", \"title\": {\"standoff\": 15}, \"zerolinecolor\": \"white\", \"zerolinewidth\": 2}}}, \"title\": {\"text\": \"Total Rented Bikes on monthly basis in 2017 and 2018\"}, \"width\": 800, \"xaxis\": {\"anchor\": \"y\", \"domain\": [0.0, 0.98], \"title\": {\"text\": \"Months_string\"}}, \"xaxis2\": {\"anchor\": \"y2\", \"domain\": [0.0, 0.98], \"matches\": \"x\", \"showticklabels\": false}, \"yaxis\": {\"anchor\": \"x\", \"domain\": [0.0, 0.485], \"title\": {\"text\": \"Rented_Bike_Count\"}}, \"yaxis2\": {\"anchor\": \"x2\", \"domain\": [0.515, 1.0], \"matches\": \"y\", \"title\": {\"text\": \"Rented_Bike_Count\"}}},\n",
              "                        {\"responsive\": true}\n",
              "                    ).then(function(){\n",
              "                            \n",
              "var gd = document.getElementById('e03c3b3c-3dbf-4c64-94ef-a7b908d0d4bd');\n",
              "var x = new MutationObserver(function (mutations, observer) {{\n",
              "        var display = window.getComputedStyle(gd).display;\n",
              "        if (!display || display === 'none') {{\n",
              "            console.log([gd, 'removed!']);\n",
              "            Plotly.purge(gd);\n",
              "            observer.disconnect();\n",
              "        }}\n",
              "}});\n",
              "\n",
              "// Listen for the removal of the full notebook cells\n",
              "var notebookContainer = gd.closest('#notebook-container');\n",
              "if (notebookContainer) {{\n",
              "    x.observe(notebookContainer, {childList: true});\n",
              "}}\n",
              "\n",
              "// Listen for the clearing of the current output cell\n",
              "var outputEl = gd.closest('.output');\n",
              "if (outputEl) {{\n",
              "    x.observe(outputEl, {childList: true});\n",
              "}}\n",
              "\n",
              "                        })\n",
              "                };\n",
              "                \n",
              "            </script>\n",
              "        </div>\n",
              "</body>\n",
              "</html>"
            ]
          },
          "metadata": {}
        }
      ]
    },
    {
      "cell_type": "markdown",
      "metadata": {
        "id": "QkTI-IbDhDgH"
      },
      "source": [
        "As we can see, Rented bike count was very low in 2017.\n",
        "\n",
        "In the year 2018, we can see a sharp increase in Rented bike count.\n",
        "\n",
        "Highest Demand for rented bike is in midyear (may, june, july)"
      ]
    },
    {
      "cell_type": "markdown",
      "metadata": {
        "id": "0dmR9Ukxj0DH"
      },
      "source": [
        "### Checking distribution of our dependent variable"
      ]
    },
    {
      "cell_type": "code",
      "metadata": {
        "colab": {
          "base_uri": "https://localhost:8080/",
          "height": 542
        },
        "id": "G8n2gyErayIR",
        "outputId": "a9e11cc9-ac7e-4580-e866-e0d5a3a64e33"
      },
      "source": [
        "# histogram  plot for the rented bike and year\n",
        "px.histogram(bike_data, x=\"Rented_Bike_Count\",marginal=\"violin\",color='Year')"
      ],
      "execution_count": 28,
      "outputs": [
        {
          "output_type": "display_data",
          "data": {
            "text/html": [
              "<html>\n",
              "<head><meta charset=\"utf-8\" /></head>\n",
              "<body>\n",
              "    <div>\n",
              "            <script src=\"https://cdnjs.cloudflare.com/ajax/libs/mathjax/2.7.5/MathJax.js?config=TeX-AMS-MML_SVG\"></script><script type=\"text/javascript\">if (window.MathJax) {MathJax.Hub.Config({SVG: {font: \"STIX-Web\"}});}</script>\n",
              "                <script type=\"text/javascript\">window.PlotlyConfig = {MathJaxConfig: 'local'};</script>\n",
              "        <script src=\"https://cdn.plot.ly/plotly-latest.min.js\"></script>    \n",
              "            <div id=\"e4976e82-73dc-4fad-a2c8-bee827455b98\" class=\"plotly-graph-div\" style=\"height:525px; width:100%;\"></div>\n",
              "            <script type=\"text/javascript\">\n",
              "                \n",
              "                    window.PLOTLYENV=window.PLOTLYENV || {};\n",
              "                    \n",
              "                if (document.getElementById(\"e4976e82-73dc-4fad-a2c8-bee827455b98\")) {\n",
              "                    Plotly.newPlot(\n",
              "                        'e4976e82-73dc-4fad-a2c8-bee827455b98',\n",
              "                        [{\"alignmentgroup\": \"True\", \"bingroup\": \"x\", \"hoverlabel\": {\"namelength\": 0}, \"hovertemplate\": \"Year=2017<br>Rented_Bike_Count=%{x}<br>count=%{y}\", \"legendgroup\": \"Year=2017\", \"marker\": {\"color\": \"#636efa\"}, \"name\": \"Year=2017\", \"offsetgroup\": \"Year=2017\", \"orientation\": \"v\", \"showlegend\": true, \"type\": \"histogram\", \"x\": [254, 204, 173, 107, 78, 100, 181, 460, 930, 490, 339, 360, 449, 451, 447, 463, 484, 555, 862, 600, 426, 405, 398, 323, 328, 308, 262, 167, 89, 79, 70, 146, 219, 328, 334, 388, 479, 606, 611, 589, 618, 572, 489, 385, 359, 377, 354, 366, 342, 227, 228, 117, 76, 32, 13, 22, 85, 152, 200, 273, 333, 495, 563, 621, 598, 545, 443, 422, 397, 385, 350, 303, 285, 186, 112, 65, 41, 82, 200, 498, 937, 509, 311, 379, 393, 391, 338, 341, 375, 515, 807, 568, 398, 397, 353, 248, 216, 198, 124, 62, 42, 82, 172, 381, 812, 462, 269, 334, 321, 325, 334, 353, 435, 529, 789, 597, 418, 415, 393, 244, 145, 144, 117, 78, 58, 87, 142, 379, 802, 440, 307, 381, 405, 442, 416, 412, 496, 239, 204, 205, 190, 165, 222, 193, 198, 218, 149, 102, 62, 83, 137, 367, 754, 415, 321, 333, 431, 394, 390, 430, 471, 552, 795, 507, 390, 402, 389, 259, 233, 230, 131, 99, 71, 84, 158, 387, 780, 395, 261, 310, 355, 354, 350, 362, 401, 500, 752, 477, 384, 336, 347, 275, 267, 296, 237, 169, 96, 56, 76, 127, 222, 291, 273, 351, 427, 431, 486, 569, 546, 481, 384, 275, 298, 321, 289, 265, 326, 280, 243, 169, 71, 13, 9, 20, 35, 31, 19, 58, 119, 182, 235, 180, 214, 226, 210, 181, 165, 167, 152, 148, 125, 111, 67, 45, 44, 86, 136, 325, 653, 326, 212, 226, 247, 241, 253, 269, 277, 361, 557, 371, 254, 266, 222, 174, 133, 127, 95, 54, 46, 65, 104, 280, 580, 275, 184, 201, 228, 225, 258, 250, 248, 305, 529, 350, 260, 270, 256, 173, 168, 183, 120, 79, 41, 68, 109, 310, 591, 340, 202, 251, 267, 251, 240, 240, 278, 392, 537, 373, 263, 271, 271, 174, 171, 170, 107, 80, 52, 62, 108, 279, 621, 305, 189, 247, 278, 282, 294, 301, 335, 382, 612, 410, 277, 316, 309, 211, 227, 241, 162, 110, 69, 68, 129, 285, 658, 330, 221, 279, 309, 325, 329, 342, 354, 464, 682, 451, 320, 300, 296, 247, 217, 302, 228, 129, 80, 45, 66, 90, 190, 195, 201, 239, 252, 296, 292, 291, 258, 277, 212, 173, 143, 159, 155, 142, 175, 146, 132, 100, 41, 31, 39, 53, 94, 122, 142, 189, 216, 223, 268, 278, 256, 266, 204, 157, 166, 168, 172, 138, 151, 97, 38, 32, 29, 27, 45, 96, 146, 52, 36, 44, 62, 76, 116, 137, 181, 175, 281, 198, 165, 148, 160, 128, 122, 122, 93, 55, 39, 55, 78, 165, 390, 199, 151, 174, 191, 189, 178, 195, 211, 256, 384, 276, 225, 224, 213, 149, 142, 172, 108, 71, 38, 56, 97, 213, 466, 239, 162, 204, 209, 228, 243, 240, 225, 237, 329, 190, 165, 197, 184, 153, 166, 189, 132, 79, 58, 49, 84, 178, 423, 265, 169, 243, 290, 285, 255, 316, 301, 366, 531, 355, 288, 248, 252, 212, 196, 250, 161, 99, 64, 76, 114, 283, 544, 298, 248, 278, 301, 320, 326, 386, 416, 477, 671, 481, 323, 309, 314, 249, 282, 337, 312, 230, 120, 59, 63, 99, 188, 239, 235, 282, 325, 423, 405, 443, 473, 453, 340, 260, 258, 279, 282, 237, 266, 251, 196, 149, 79, 44, 12, 3, 4, 3, 4, 9, 4, 7, 28, 38, 54, 104, 128, 132, 116, 145, 110, 128, 160, 132, 115, 100, 72, 32, 59, 61, 94, 107, 133, 179, 221, 244, 274, 319, 272, 260, 237, 184, 181, 185, 176, 169, 178, 127, 85, 72, 49, 65, 120, 296, 578, 293, 180, 250, 262, 262, 271, 246, 282, 350, 481, 317, 252, 220, 213, 156, 133, 142, 93, 81, 55, 66, 105, 262, 502, 279, 146, 213, 230, 258, 231, 228, 269, 314, 466, 315, 262, 242, 243, 216, 164, 169, 163, 86, 50, 61, 103, 257, 554, 326, 225, 288, 286, 301, 311, 303, 390, 407, 552, 402, 319, 332, 285, 260, 233, 269, 210, 135, 85, 67, 128, 289, 636, 353, 252, 317, 363, 370, 419, 426, 504, 534, 574, 395, 292, 282, 294, 236, 240, 234, 192, 127, 86, 52, 62, 88, 162, 224, 208, 237, 274, 333, 356, 337, 345, 183, 45, 40, 66, 64, 30, 42, 43, 43, 65, 65, 32, 22, 25, 39, 84, 103, 110, 142, 209, 267, 262, 300, 272, 240, 215, 163, 161, 179, 155, 227], \"xaxis\": \"x\", \"yaxis\": \"y\"}, {\"alignmentgroup\": \"True\", \"hoverlabel\": {\"namelength\": 0}, \"hovertemplate\": \"Year=2017<br>Rented_Bike_Count=%{x}\", \"legendgroup\": \"Year=2017\", \"marker\": {\"color\": \"#636efa\"}, \"name\": \"Year=2017\", \"offsetgroup\": \"Year=2017\", \"scalegroup\": \"x\", \"showlegend\": false, \"type\": \"violin\", \"x\": [254, 204, 173, 107, 78, 100, 181, 460, 930, 490, 339, 360, 449, 451, 447, 463, 484, 555, 862, 600, 426, 405, 398, 323, 328, 308, 262, 167, 89, 79, 70, 146, 219, 328, 334, 388, 479, 606, 611, 589, 618, 572, 489, 385, 359, 377, 354, 366, 342, 227, 228, 117, 76, 32, 13, 22, 85, 152, 200, 273, 333, 495, 563, 621, 598, 545, 443, 422, 397, 385, 350, 303, 285, 186, 112, 65, 41, 82, 200, 498, 937, 509, 311, 379, 393, 391, 338, 341, 375, 515, 807, 568, 398, 397, 353, 248, 216, 198, 124, 62, 42, 82, 172, 381, 812, 462, 269, 334, 321, 325, 334, 353, 435, 529, 789, 597, 418, 415, 393, 244, 145, 144, 117, 78, 58, 87, 142, 379, 802, 440, 307, 381, 405, 442, 416, 412, 496, 239, 204, 205, 190, 165, 222, 193, 198, 218, 149, 102, 62, 83, 137, 367, 754, 415, 321, 333, 431, 394, 390, 430, 471, 552, 795, 507, 390, 402, 389, 259, 233, 230, 131, 99, 71, 84, 158, 387, 780, 395, 261, 310, 355, 354, 350, 362, 401, 500, 752, 477, 384, 336, 347, 275, 267, 296, 237, 169, 96, 56, 76, 127, 222, 291, 273, 351, 427, 431, 486, 569, 546, 481, 384, 275, 298, 321, 289, 265, 326, 280, 243, 169, 71, 13, 9, 20, 35, 31, 19, 58, 119, 182, 235, 180, 214, 226, 210, 181, 165, 167, 152, 148, 125, 111, 67, 45, 44, 86, 136, 325, 653, 326, 212, 226, 247, 241, 253, 269, 277, 361, 557, 371, 254, 266, 222, 174, 133, 127, 95, 54, 46, 65, 104, 280, 580, 275, 184, 201, 228, 225, 258, 250, 248, 305, 529, 350, 260, 270, 256, 173, 168, 183, 120, 79, 41, 68, 109, 310, 591, 340, 202, 251, 267, 251, 240, 240, 278, 392, 537, 373, 263, 271, 271, 174, 171, 170, 107, 80, 52, 62, 108, 279, 621, 305, 189, 247, 278, 282, 294, 301, 335, 382, 612, 410, 277, 316, 309, 211, 227, 241, 162, 110, 69, 68, 129, 285, 658, 330, 221, 279, 309, 325, 329, 342, 354, 464, 682, 451, 320, 300, 296, 247, 217, 302, 228, 129, 80, 45, 66, 90, 190, 195, 201, 239, 252, 296, 292, 291, 258, 277, 212, 173, 143, 159, 155, 142, 175, 146, 132, 100, 41, 31, 39, 53, 94, 122, 142, 189, 216, 223, 268, 278, 256, 266, 204, 157, 166, 168, 172, 138, 151, 97, 38, 32, 29, 27, 45, 96, 146, 52, 36, 44, 62, 76, 116, 137, 181, 175, 281, 198, 165, 148, 160, 128, 122, 122, 93, 55, 39, 55, 78, 165, 390, 199, 151, 174, 191, 189, 178, 195, 211, 256, 384, 276, 225, 224, 213, 149, 142, 172, 108, 71, 38, 56, 97, 213, 466, 239, 162, 204, 209, 228, 243, 240, 225, 237, 329, 190, 165, 197, 184, 153, 166, 189, 132, 79, 58, 49, 84, 178, 423, 265, 169, 243, 290, 285, 255, 316, 301, 366, 531, 355, 288, 248, 252, 212, 196, 250, 161, 99, 64, 76, 114, 283, 544, 298, 248, 278, 301, 320, 326, 386, 416, 477, 671, 481, 323, 309, 314, 249, 282, 337, 312, 230, 120, 59, 63, 99, 188, 239, 235, 282, 325, 423, 405, 443, 473, 453, 340, 260, 258, 279, 282, 237, 266, 251, 196, 149, 79, 44, 12, 3, 4, 3, 4, 9, 4, 7, 28, 38, 54, 104, 128, 132, 116, 145, 110, 128, 160, 132, 115, 100, 72, 32, 59, 61, 94, 107, 133, 179, 221, 244, 274, 319, 272, 260, 237, 184, 181, 185, 176, 169, 178, 127, 85, 72, 49, 65, 120, 296, 578, 293, 180, 250, 262, 262, 271, 246, 282, 350, 481, 317, 252, 220, 213, 156, 133, 142, 93, 81, 55, 66, 105, 262, 502, 279, 146, 213, 230, 258, 231, 228, 269, 314, 466, 315, 262, 242, 243, 216, 164, 169, 163, 86, 50, 61, 103, 257, 554, 326, 225, 288, 286, 301, 311, 303, 390, 407, 552, 402, 319, 332, 285, 260, 233, 269, 210, 135, 85, 67, 128, 289, 636, 353, 252, 317, 363, 370, 419, 426, 504, 534, 574, 395, 292, 282, 294, 236, 240, 234, 192, 127, 86, 52, 62, 88, 162, 224, 208, 237, 274, 333, 356, 337, 345, 183, 45, 40, 66, 64, 30, 42, 43, 43, 65, 65, 32, 22, 25, 39, 84, 103, 110, 142, 209, 267, 262, 300, 272, 240, 215, 163, 161, 179, 155, 227], \"xaxis\": \"x2\", \"yaxis\": \"y2\"}, {\"alignmentgroup\": \"True\", \"bingroup\": \"x\", \"hoverlabel\": {\"namelength\": 0}, \"hovertemplate\": \"Year=2018<br>Rented_Bike_Count=%{x}<br>count=%{y}\", \"legendgroup\": \"Year=2018\", \"marker\": {\"color\": \"#EF553B\"}, \"name\": \"Year=2018\", \"offsetgroup\": \"Year=2018\", \"orientation\": \"v\", \"showlegend\": true, \"type\": \"histogram\", \"x\": [206, 230, 178, 119, 62, 61, 65, 81, 89, 121, 139, 169, 225, 248, 298, 344, 310, 271, 218, 125, 206, 203, 168, 154, 148, 108, 69, 41, 31, 58, 139, 344, 655, 315, 208, 269, 293, 273, 302, 295, 320, 373, 675, 403, 364, 304, 273, 186, 160, 130, 110, 67, 43, 67, 137, 308, 670, 342, 213, 267, 297, 279, 270, 286, 299, 382, 637, 431, 294, 335, 291, 197, 159, 150, 123, 57, 38, 66, 120, 302, 646, 340, 197, 264, 290, 284, 262, 281, 309, 397, 603, 417, 311, 310, 306, 221, 202, 170, 118, 67, 47, 75, 123, 327, 665, 354, 232, 308, 362, 312, 343, 333, 329, 446, 635, 443, 322, 284, 281, 189, 184, 222, 176, 103, 61, 48, 69, 105, 186, 221, 204, 245, 283, 356, 370, 373, 352, 354, 271, 207, 189, 214, 218, 169, 192, 162, 128, 102, 62, 40, 38, 60, 122, 143, 179, 214, 278, 265, 331, 368, 333, 349, 270, 246, 233, 236, 214, 149, 149, 109, 77, 53, 46, 67, 159, 374, 701, 387, 253, 278, 356, 303, 349, 318, 353, 385, 316, 127, 144, 146, 149, 112, 100, 107, 75, 52, 38, 52, 126, 245, 554, 320, 190, 247, 262, 265, 265, 257, 262, 332, 558, 364, 302, 281, 166, 80, 61, 78, 63, 40, 31, 39, 84, 158, 387, 225, 150, 168, 217, 207, 177, 193, 196, 266, 437, 259, 207, 214, 165, 139, 98, 100, 89, 38, 33, 42, 82, 203, 443, 227, 152, 146, 187, 178, 187, 181, 179, 219, 352, 251, 177, 162, 172, 119, 105, 99, 83, 42, 30, 35, 92, 189, 419, 196, 119, 140, 178, 177, 173, 177, 196, 259, 405, 273, 210, 184, 186, 144, 152, 168, 145, 77, 47, 40, 42, 43, 67, 102, 106, 133, 174, 212, 215, 251, 249, 277, 223, 167, 158, 156, 168, 131, 149, 150, 111, 79, 48, 29, 49, 59, 81, 118, 134, 174, 226, 272, 304, 353, 366, 302, 250, 208, 210, 213, 196, 144, 171, 122, 74, 58, 38, 55, 82, 209, 444, 303, 212, 254, 311, 309, 306, 349, 365, 455, 555, 444, 321, 334, 333, 230, 212, 207, 141, 81, 51, 58, 140, 318, 650, 376, 221, 256, 276, 296, 276, 250, 277, 381, 592, 409, 332, 342, 321, 242, 204, 183, 140, 75, 55, 72, 115, 272, 537, 337, 212, 270, 310, 273, 258, 278, 314, 380, 501, 360, 286, 320, 313, 227, 215, 190, 137, 95, 50, 68, 107, 279, 537, 305, 188, 261, 267, 307, 301, 269, 328, 416, 506, 365, 303, 339, 318, 232, 211, 207, 140, 93, 58, 61, 151, 334, 648, 387, 255, 283, 341, 341, 349, 381, 390, 468, 702, 471, 342, 331, 292, 236, 228, 258, 216, 118, 89, 56, 50, 101, 191, 234, 259, 285, 325, 356, 334, 406, 352, 377, 283, 223, 219, 220, 232, 164, 196, 177, 107, 107, 73, 32, 36, 61, 115, 152, 189, 216, 271, 343, 340, 389, 396, 383, 295, 223, 258, 237, 207, 170, 171, 97, 73, 53, 31, 60, 165, 316, 683, 365, 221, 277, 323, 281, 249, 63, 18, 43, 170, 167, 181, 187, 170, 139, 96, 120, 75, 55, 45, 44, 84, 211, 423, 228, 132, 184, 180, 189, 169, 181, 181, 239, 351, 248, 178, 145, 117, 106, 90, 89, 50, 32, 24, 34, 71, 164, 364, 192, 90, 124, 121, 140, 125, 149, 124, 203, 297, 211, 125, 132, 121, 82, 78, 68, 60, 32, 22, 34, 71, 165, 349, 187, 105, 122, 142, 130, 160, 130, 152, 170, 288, 178, 141, 137, 113, 79, 68, 93, 54, 41, 24, 36, 64, 142, 322, 149, 96, 93, 111, 115, 116, 140, 147, 196, 305, 171, 121, 130, 108, 89, 80, 94, 75, 41, 36, 25, 33, 57, 84, 105, 96, 125, 145, 189, 193, 192, 195, 207, 162, 122, 117, 103, 114, 103, 125, 103, 72, 67, 38, 21, 30, 42, 72, 104, 111, 145, 189, 206, 225, 217, 187, 178, 157, 134, 113, 106, 105, 81, 80, 62, 49, 27, 26, 50, 94, 231, 450, 217, 135, 166, 186, 166, 168, 177, 195, 239, 438, 282, 197, 182, 172, 99, 108, 129, 84, 54, 33, 47, 94, 214, 491, 254, 170, 220, 253, 225, 238, 173, 94, 53, 100, 59, 72, 60, 73, 62, 69, 96, 60, 47, 34, 34, 63, 124, 273, 137, 102, 144, 160, 171, 156, 214, 216, 279, 403, 270, 229, 229, 188, 132, 122, 149, 103, 81, 37, 51, 95, 244, 459, 259, 168, 194, 240, 233, 256, 293, 268, 341, 542, 344, 263, 257, 235, 143, 138, 159, 102, 65, 47, 48, 115, 267, 558, 280, 187, 234, 303, 294, 293, 310, 330, 382, 592, 379, 241, 225, 227, 178, 182, 184, 123, 60, 35, 31, 33, 67, 116, 168, 144, 195, 192, 229, 196, 210, 205, 211, 175, 135, 109, 107, 92, 91, 98, 90, 60, 54, 35, 21, 23, 34, 70, 97, 103, 115, 165, 152, 177, 190, 181, 184, 154, 124, 98, 107, 78, 77, 82, 52, 39, 33, 20, 37, 110, 227, 433, 216, 123, 156, 157, 169, 170, 169, 199, 225, 388, 246, 206, 177, 183, 115, 126, 87, 59, 36, 32, 40, 94, 213, 438, 217, 128, 175, 172, 165, 147, 171, 175, 227, 392, 251, 193, 175, 169, 106, 116, 96, 83, 51, 34, 45, 92, 214, 469, 237, 155, 176, 188, 228, 199, 221, 240, 320, 448, 280, 218, 223, 200, 164, 136, 126, 103, 57, 46, 39, 99, 255, 507, 270, 160, 217, 253, 270, 253, 286, 284, 337, 564, 378, 277, 268, 233, 195, 178, 159, 107, 78, 46, 36, 117, 273, 589, 308, 199, 238, 260, 268, 283, 315, 319, 422, 659, 407, 308, 243, 263, 193, 197, 237, 169, 145, 79, 41, 48, 97, 188, 222, 223, 235, 248, 296, 286, 277, 291, 277, 216, 151, 132, 124, 128, 118, 112, 95, 93, 58, 34, 19, 39, 40, 81, 126, 130, 155, 174, 212, 191, 181, 175, 198, 150, 147, 127, 119, 103, 91, 103, 69, 45, 21, 33, 30, 109, 236, 517, 262, 161, 190, 202, 246, 182, 228, 239, 288, 475, 340, 244, 253, 200, 140, 158, 146, 106, 70, 46, 51, 96, 294, 568, 285, 200, 252, 281, 256, 300, 295, 328, 410, 604, 406, 323, 290, 291, 211, 178, 213, 129, 101, 51, 56, 108, 292, 606, 326, 241, 288, 312, 349, 398, 461, 447, 484, 559, 316, 262, 216, 218, 160, 126, 123, 112, 74, 58, 32, 39, 55, 112, 112, 127, 170, 174, 240, 270, 276, 273, 236, 190, 166, 148, 134, 145, 92, 105, 77, 47, 36, 35, 28, 30, 49, 68, 48, 78, 93, 137, 169, 196, 243, 189, 210, 165, 126, 150, 114, 116, 84, 79, 71, 56, 34, 20, 14, 39, 35, 80, 98, 103, 155, 183, 193, 258, 273, 267, 250, 223, 169, 145, 133, 123, 117, 99, 103, 86, 56, 37, 22, 38, 52, 92, 137, 156, 183, 263, 337, 372, 440, 404, 354, 310, 238, 213, 226, 191, 153, 148, 101, 59, 42, 50, 59, 139, 349, 646, 347, 235, 314, 361, 332, 373, 392, 403, 522, 819, 533, 417, 388, 357, 218, 177, 172, 115, 63, 64, 79, 164, 404, 727, 384, 265, 322, 356, 370, 335, 431, 393, 514, 764, 522, 358, 415, 319, 242, 171, 162, 105, 59, 50, 63, 159, 385, 718, 373, 244, 276, 351, 299, 365, 366, 409, 469, 784, 460, 356, 345, 299, 223, 195, 190, 116, 71, 66, 75, 151, 373, 783, 383, 259, 308, 352, 316, 331, 356, 404, 465, 730, 499, 348, 393, 346, 202, 42, 55, 62, 32, 36, 39, 63, 174, 391, 214, 184, 230, 283, 304, 312, 312, 354, 470, 669, 421, 295, 321, 291, 243, 226, 263, 197, 133, 63, 58, 72, 108, 203, 253, 259, 298, 363, 412, 454, 467, 509, 462, 379, 306, 233, 232, 219, 187, 182, 189, 124, 103, 52, 37, 54, 77, 158, 173, 195, 244, 396, 482, 572, 612, 688, 589, 402, 297, 232, 239, 230, 173, 135, 122, 80, 46, 46, 65, 161, 402, 786, 416, 289, 356, 428, 444, 455, 521, 555, 646, 929, 619, 483, 512, 443, 308, 236, 213, 145, 102, 62, 72, 183, 443, 767, 455, 261, 342, 353, 335, 357, 402, 411, 529, 897, 616, 461, 449, 461, 310, 266, 229, 174, 116, 72, 62, 165, 426, 816, 419, 285, 332, 305, 28, 17, 7, 9, 8, 11, 19, 8, 10, 13, 23, 71, 147, 180, 92, 28, 11, 33, 61, 148, 160, 191, 239, 311, 358, 375, 458, 460, 423, 317, 231, 246, 212, 190, 190, 156, 108, 71, 49, 47, 65, 135, 401, 617, 343, 274, 343, 388, 375, 450, 463, 574, 631, 854, 568, 427, 396, 414, 284, 218, 229, 176, 149, 93, 55, 71, 159, 306, 329, 354, 431, 605, 771, 1025, 1238, 1285, 1197, 920, 630, 631, 588, 516, 215, 161, 118, 95, 90, 34, 15, 20, 23, 70, 157, 239, 273, 358, 429, 475, 468, 396, 492, 436, 289, 26, 7, 8, 9, 22, 23, 9, 2, 4, 22, 20, 85, 184, 211, 232, 322, 438, 465, 550, 637, 718, 865, 1155, 782, 578, 533, 466, 274, 224, 188, 122, 82, 79, 80, 214, 583, 997, 556, 380, 475, 504, 528, 567, 616, 680, 883, 1246, 833, 666, 625, 514, 361, 289, 194, 134, 92, 49, 97, 232, 598, 1032, 566, 410, 441, 550, 509, 505, 620, 646, 849, 1365, 799, 587, 411, 147, 48, 49, 23, 19, 12, 8, 17, 32, 64, 88, 100, 165, 290, 375, 405, 452, 555, 594, 757, 1091, 683, 586, 533, 498, 315, 272, 228, 155, 105, 66, 88, 195, 574, 1041, 570, 361, 444, 510, 509, 542, 611, 686, 834, 1231, 718, 535, 537, 521, 309, 328, 305, 241, 139, 91, 79, 74, 208, 340, 381, 416, 497, 650, 757, 906, 931, 972, 829, 664, 573, 447, 470, 421, 345, 376, 222, 171, 115, 80, 45, 63, 119, 212, 289, 394, 425, 666, 843, 1154, 1294, 1205, 1028, 776, 596, 530, 533, 419, 288, 222, 163, 95, 60, 47, 106, 261, 662, 1066, 604, 406, 463, 581, 588, 603, 694, 752, 931, 1425, 946, 801, 771, 695, 397, 309, 231, 161, 103, 88, 97, 252, 668, 1215, 616, 428, 571, 626, 678, 705, 815, 890, 1085, 1749, 1224, 986, 982, 912, 572, 412, 309, 226, 142, 82, 123, 290, 786, 1371, 761, 552, 643, 813, 789, 878, 1025, 1049, 1325, 2100, 1478, 1275, 1181, 983, 587, 466, 355, 203, 51, 9, 8, 10, 15, 39, 32, 27, 65, 204, 269, 289, 329, 214, 411, 676, 606, 533, 567, 506, 343, 287, 278, 178, 102, 85, 85, 222, 652, 1176, 683, 507, 557, 705, 715, 772, 923, 976, 1160, 1641, 974, 774, 710, 660, 455, 414, 366, 268, 157, 103, 60, 109, 193, 384, 520, 561, 742, 933, 1111, 1294, 1514, 1440, 1272, 934, 718, 688, 624, 562, 422, 407, 309, 226, 174, 106, 67, 73, 152, 293, 398, 460, 587, 751, 881, 993, 1128, 1059, 603, 365, 237, 146, 71, 70, 53, 67, 38, 28, 12, 9, 27, 91, 370, 592, 387, 292, 393, 403, 387, 326, 263, 271, 605, 1200, 818, 711, 731, 565, 382, 297, 243, 165, 95, 69, 92, 235, 677, 1212, 661, 418, 488, 522, 516, 478, 492, 518, 719, 1111, 716, 543, 494, 460, 294, 240, 223, 147, 82, 70, 80, 209, 605, 1097, 614, 374, 339, 333, 196, 117, 184, 241, 319, 615, 402, 120, 231, 320, 226, 243, 247, 173, 107, 75, 81, 212, 600, 1174, 653, 446, 565, 668, 648, 674, 758, 752, 999, 1495, 923, 739, 726, 621, 428, 335, 283, 216, 128, 92, 95, 243, 661, 1216, 664, 461, 584, 690, 682, 758, 849, 901, 1108, 1611, 932, 724, 676, 638, 422, 403, 360, 305, 197, 122, 82, 113, 198, 424, 456, 494, 589, 806, 880, 855, 1025, 947, 916, 736, 521, 513, 487, 460, 354, 372, 267, 195, 139, 90, 60, 71, 137, 225, 331, 359, 466, 626, 784, 882, 960, 1031, 911, 768, 571, 502, 456, 424, 336, 244, 185, 93, 62, 65, 98, 227, 581, 983, 540, 415, 422, 492, 504, 575, 604, 819, 925, 1477, 1031, 835, 798, 662, 447, 380, 278, 163, 127, 95, 110, 231, 705, 1201, 699, 462, 560, 586, 563, 618, 636, 774, 960, 1521, 1020, 864, 866, 764, 527, 400, 337, 225, 150, 104, 107, 258, 741, 1353, 723, 494, 588, 629, 723, 698, 785, 943, 1221, 1839, 1288, 1133, 1035, 907, 614, 466, 390, 254, 170, 109, 106, 274, 781, 1281, 757, 482, 583, 714, 716, 711, 781, 957, 1194, 1776, 1260, 1079, 1046, 949, 614, 490, 401, 261, 184, 115, 117, 284, 747, 1406, 772, 583, 739, 939, 860, 965, 1068, 1156, 1460, 1935, 1268, 1045, 948, 880, 678, 537, 502, 397, 264, 163, 108, 142, 264, 489, 642, 618, 824, 1072, 1218, 1381, 1542, 1578, 1531, 1391, 1025, 972, 1010, 922, 655, 579, 453, 322, 221, 147, 96, 110, 169, 342, 485, 566, 737, 926, 1156, 1201, 1349, 1409, 1362, 1296, 1066, 984, 983, 841, 588, 468, 295, 155, 111, 86, 125, 359, 918, 1469, 806, 579, 662, 818, 818, 920, 993, 1218, 1569, 2401, 1779, 1517, 1503, 1213, 803, 532, 430, 275, 156, 124, 163, 388, 1033, 1677, 867, 664, 696, 913, 870, 931, 961, 1173, 1436, 2134, 1415, 1470, 1223, 1030, 454, 355, 113, 15, 22, 14, 19, 172, 665, 1284, 378, 505, 744, 928, 951, 1096, 1209, 1413, 1745, 2402, 1626, 1374, 1256, 1041, 668, 436, 373, 220, 150, 87, 18, 21, 38, 207, 129, 95, 47, 70, 84, 46, 37, 31, 46, 75, 75, 56, 99, 77, 79, 56, 50, 27, 18, 9, 54, 178, 591, 1235, 719, 529, 598, 756, 683, 572, 545, 585, 776, 1114, 659, 508, 447, 499, 312, 282, 225, 123, 122, 80, 57, 108, 206, 399, 426, 453, 553, 697, 852, 919, 925, 897, 908, 714, 518, 458, 443, 426, 368, 325, 224, 191, 141, 90, 59, 101, 159, 332, 405, 494, 586, 709, 847, 777, 343, 137, 58, 22, 44, 93, 170, 177, 182, 197, 140, 97, 52, 43, 91, 239, 651, 1163, 682, 506, 644, 799, 869, 921, 1038, 1185, 1479, 2401, 1599, 1362, 1232, 1069, 623, 485, 376, 250, 149, 102, 123, 370, 981, 1702, 982, 703, 839, 1023, 967, 913, 933, 1080, 1004, 1805, 1153, 336, 133, 75, 212, 0, 0, 0, 0, 0, 0, 0, 0, 0, 0, 0, 0, 0, 0, 0, 0, 0, 0, 0, 0, 0, 0, 0, 0, 504, 374, 269, 182, 98, 144, 375, 1054, 1789, 952, 686, 829, 969, 1029, 990, 1074, 1273, 1664, 2359, 1641, 1319, 1241, 1142, 772, 525, 432, 257, 167, 112, 156, 368, 999, 1721, 982, 741, 867, 1095, 973, 1063, 1108, 1270, 1662, 2404, 1641, 1359, 1311, 1178, 849, 664, 513, 253, 62, 39, 20, 12, 18, 17, 17, 43, 52, 75, 70, 122, 203, 445, 675, 706, 612, 640, 633, 586, 503, 475, 349, 254, 183, 110, 65, 102, 223, 401, 513, 582, 797, 1105, 1229, 1083, 62, 124, 42, 343, 317, 297, 464, 620, 467, 401, 226, 126, 107, 75, 132, 405, 1049, 1713, 922, 700, 855, 1052, 973, 1016, 1145, 1452, 1753, 2692, 1719, 1498, 1355, 1099, 733, 503, 421, 237, 164, 110, 143, 406, 1100, 1920, 1013, 731, 822, 1112, 1007, 1037, 1120, 1312, 1632, 1727, 1356, 1290, 1320, 1071, 680, 515, 375, 260, 164, 105, 154, 395, 1083, 1815, 987, 761, 845, 1047, 975, 967, 1149, 1346, 1738, 1918, 842, 1346, 1209, 1003, 671, 520, 42, 281, 206, 125, 153, 367, 254, 20, 316, 139, 795, 919, 930, 996, 1039, 1198, 1534, 2198, 1489, 1313, 1165, 1054, 677, 553, 436, 305, 188, 134, 168, 414, 979, 1659, 962, 708, 805, 1019, 973, 970, 1080, 1206, 1543, 2268, 1578, 1358, 1213, 1183, 891, 707, 628, 436, 307, 166, 122, 184, 324, 600, 647, 702, 872, 1130, 1315, 1511, 1730, 1942, 2032, 1986, 1711, 1581, 1491, 1292, 988, 826, 578, 410, 289, 192, 136, 155, 278, 429, 247, 486, 424, 631, 842, 384, 234, 103, 46, 63, 32, 12, 24, 13, 18, 81, 41, 21, 8, 2, 6, 5, 17, 25, 9, 12, 10, 10, 11, 17, 14, 41, 42, 39, 50, 37, 82, 164, 233, 213, 157, 68, 35, 34, 77, 262, 751, 1502, 814, 638, 710, 925, 923, 942, 971, 1118, 1462, 2318, 1580, 1332, 1372, 1215, 725, 536, 444, 306, 206, 117, 148, 449, 1123, 1900, 1066, 756, 938, 1192, 1141, 1161, 1180, 1447, 1878, 2807, 1958, 1651, 1593, 1382, 906, 692, 546, 409, 239, 140, 180, 452, 1124, 1933, 1027, 745, 930, 1197, 1084, 1123, 1227, 1386, 1796, 2574, 1891, 1531, 1447, 1146, 851, 663, 562, 361, 258, 140, 170, 427, 1129, 1922, 985, 789, 986, 1142, 1133, 1115, 1253, 1446, 1877, 2577, 1812, 1499, 1362, 1278, 975, 777, 672, 522, 325, 166, 152, 230, 376, 647, 795, 808, 1000, 1278, 1404, 1597, 1875, 1945, 2043, 1882, 1590, 1435, 1351, 1165, 905, 790, 554, 425, 263, 183, 138, 183, 307, 485, 716, 787, 1060, 1375, 1635, 1814, 2019, 2044, 2094, 1950, 1712, 1485, 1382, 1128, 820, 569, 362, 246, 157, 132, 185, 397, 1075, 1791, 983, 742, 901, 1094, 1019, 1055, 1168, 1344, 1706, 2558, 2064, 1703, 1711, 1456, 1044, 782, 705, 534, 343, 187, 166, 306, 614, 1067, 1024, 1002, 1117, 1315, 1493, 1536, 1639, 1759, 1898, 2082, 1696, 1656, 1644, 1400, 855, 612, 413, 245, 170, 93, 76, 67, 102, 555, 609, 486, 206, 63, 327, 376, 143, 400, 813, 518, 131, 123, 327, 299, 294, 361, 323, 251, 156, 109, 163, 469, 1160, 1946, 1061, 762, 794, 871, 516, 367, 590, 911, 1421, 2310, 1663, 1401, 1388, 1202, 832, 624, 480, 352, 224, 138, 186, 521, 1260, 2041, 1155, 864, 1021, 1206, 1222, 1266, 1323, 1501, 1857, 2661, 1890, 1389, 1298, 1256, 935, 796, 716, 508, 392, 252, 190, 247, 352, 579, 759, 877, 1024, 1258, 1408, 1669, 1837, 1223, 2014, 1929, 1753, 1562, 1551, 1360, 1097, 733, 181, 74, 43, 16, 11, 7, 16, 16, 12, 13, 10, 71, 211, 384, 770, 1482, 1737, 1848, 1639, 1526, 1450, 1290, 1016, 778, 609, 404, 249, 185, 170, 221, 389, 600, 737, 895, 1167, 1414, 1665, 1970, 2191, 2213, 2392, 2268, 1664, 1912, 1717, 1336, 994, 712, 430, 287, 194, 155, 200, 555, 1280, 1976, 1128, 792, 956, 1135, 1117, 1096, 1267, 1457, 2020, 2142, 2241, 1726, 1513, 1283, 767, 552, 34, 245, 187, 114, 203, 556, 1333, 2068, 928, 954, 1015, 1242, 1188, 1186, 1324, 1603, 2034, 3130, 2405, 1979, 1940, 1602, 1073, 0, 0, 0, 0, 0, 0, 0, 0, 0, 0, 0, 0, 0, 0, 0, 0, 0, 0, 0, 0, 0, 0, 0, 0, 724, 565, 378, 252, 154, 223, 486, 1156, 1881, 850, 816, 972, 1161, 1177, 1174, 1295, 1496, 1863, 2701, 1999, 941, 1644, 1556, 1185, 862, 669, 416, 358, 207, 70, 37, 43, 20, 16, 6, 18, 11, 19, 22, 17, 34, 24, 22, 29, 29, 25, 30, 50, 145, 178, 189, 141, 83, 72, 139, 220, 397, 579, 716, 993, 1434, 1839, 2055, 2329, 2379, 2410, 2338, 2023, 1714, 1571, 1155, 814, 581, 377, 241, 167, 121, 199, 552, 1251, 1997, 1106, 779, 946, 1095, 1051, 1124, 1171, 1433, 1891, 2906, 2236, 1965, 1885, 1648, 1071, 764, 563, 372, 241, 170, 182, 562, 1239, 2059, 1148, 832, 944, 1058, 1080, 1092, 1210, 1458, 1951, 2915, 2248, 1958, 1944, 1640, 848, 662, 502, 145, 166, 124, 52, 135, 367, 291, 97, 81, 243, 59, 151, 248, 240, 223, 304, 562, 404, 338, 398, 399, 225, 118, 144, 78, 38, 51, 54, 69, 80, 152, 28, 141, 182, 467, 592, 352, 186, 102, 131, 431, 29, 17, 18, 26, 35, 129, 116, 48, 47, 22, 29, 77, 210, 400, 427, 454, 352, 185, 509, 697, 906, 1182, 1551, 2261, 1751, 1386, 1263, 1221, 864, 689, 676, 526, 320, 213, 198, 234, 436, 766, 932, 1051, 1290, 1573, 1865, 2128, 2268, 2479, 2355, 2439, 2140, 1872, 1780, 1595, 1169, 986, 713, 473, 347, 205, 160, 190, 341, 524, 676, 899, 1013, 1313, 1559, 1680, 1999, 2143, 2310, 2403, 2145, 1846, 1636, 1325, 943, 666, 420, 262, 165, 113, 200, 467, 1135, 1785, 1118, 962, 1129, 1373, 1456, 1483, 1612, 1820, 2214, 3069, 2450, 2167, 2065, 1832, 1273, 957, 810, 590, 406, 248, 182, 277, 443, 694, 912, 1119, 1438, 1798, 2000, 1407, 163, 86, 50, 30, 45, 30, 58, 29, 18, 32, 25, 34, 43, 59, 152, 436, 1241, 2035, 1125, 871, 1012, 1216, 1167, 1183, 1332, 1563, 2069, 3123, 2454, 2001, 1833, 1588, 1080, 778, 578, 385, 265, 161, 205, 530, 1390, 2081, 1226, 880, 922, 1087, 1078, 1059, 1174, 1455, 1863, 2825, 2334, 1902, 1838, 1678, 1087, 831, 610, 437, 286, 188, 201, 531, 1250, 1996, 1121, 819, 959, 1082, 1106, 1161, 1306, 1533, 2013, 2916, 2227, 1905, 1740, 1630, 1209, 987, 837, 572, 419, 232, 198, 299, 503, 763, 992, 1010, 1164, 1285, 1441, 1448, 1575, 1690, 1886, 2020, 1985, 1909, 1851, 1683, 1330, 1089, 799, 555, 423, 208, 174, 234, 341, 608, 762, 821, 1004, 1404, 1579, 1730, 2019, 2242, 2307, 2267, 2207, 2044, 1729, 1374, 1071, 770, 440, 335, 185, 134, 247, 641, 1502, 2194, 1131, 828, 986, 1139, 1124, 1128, 1258, 1497, 2060, 3245, 2656, 2252, 2140, 1881, 1247, 841, 721, 466, 285, 204, 252, 625, 1427, 2234, 1192, 893, 949, 1184, 1103, 1174, 1234, 1592, 2022, 2154, 477, 422, 1041, 1121, 742, 507, 570, 422, 238, 167, 239, 505, 1150, 1937, 1200, 916, 975, 1187, 1134, 1119, 1280, 1571, 2166, 3251, 2650, 2224, 2074, 1732, 1158, 844, 610, 470, 328, 188, 265, 646, 1401, 2281, 1277, 936, 979, 1134, 1151, 1164, 1280, 1550, 2047, 3119, 2534, 2164, 2070, 1900, 1343, 963, 776, 554, 366, 265, 306, 672, 1421, 2149, 1219, 862, 1036, 1076, 1093, 1071, 1235, 1488, 2123, 3088, 2505, 2163, 2066, 1991, 1440, 1165, 989, 677, 475, 312, 264, 342, 560, 898, 1005, 1044, 1094, 1253, 1334, 1396, 1535, 1707, 2025, 2246, 2337, 2338, 2238, 1969, 1490, 1248, 902, 673, 437, 294, 193, 228, 423, 659, 831, 938, 977, 1134, 1393, 1399, 1556, 1834, 2131, 2349, 2514, 2460, 2173, 1741, 1274, 938, 596, 351, 244, 172, 299, 742, 1505, 2287, 1243, 970, 1008, 1152, 1085, 1148, 1249, 1671, 2190, 3380, 2788, 2508, 2377, 2000, 1354, 927, 742, 448, 314, 214, 282, 733, 1602, 2322, 1344, 959, 974, 1111, 1058, 1120, 1250, 1434, 2115, 3227, 2615, 2346, 2404, 2237, 1646, 1268, 1031, 792, 562, 332, 218, 351, 536, 799, 925, 1087, 1152, 1400, 1444, 1603, 1674, 1940, 2104, 2162, 2163, 2145, 1935, 1624, 1251, 978, 606, 418, 275, 191, 288, 716, 1551, 2317, 1342, 914, 967, 1099, 1071, 1116, 1171, 1442, 2002, 3221, 2649, 2278, 2161, 1939, 1290, 926, 769, 525, 365, 255, 299, 744, 1544, 2348, 1283, 1002, 1095, 1256, 1314, 1249, 1416, 1668, 2314, 3309, 2797, 2476, 2337, 2140, 1672, 1247, 1029, 732, 535, 352, 262, 381, 616, 963, 1102, 1156, 1200, 1462, 1583, 1744, 1890, 2297, 2355, 1934, 1058, 246, 225, 776, 766, 483, 375, 162, 150, 174, 138, 216, 313, 619, 786, 942, 1074, 1442, 1752, 1985, 2182, 2333, 2431, 2367, 2267, 2300, 2026, 1634, 1191, 918, 555, 353, 232, 194, 324, 807, 1629, 2375, 1307, 992, 1107, 1204, 1033, 1075, 1240, 1220, 1475, 1491, 873, 1280, 1647, 1117, 384, 470, 454, 385, 206, 144, 296, 740, 1573, 2495, 1317, 971, 1092, 1202, 1215, 1246, 1427, 1714, 2270, 3404, 2873, 2579, 2505, 2309, 1657, 1274, 1088, 847, 591, 421, 290, 416, 657, 959, 1111, 1269, 1478, 1747, 1834, 2088, 2288, 2474, 2664, 2479, 2404, 2276, 2166, 1934, 1394, 1047, 715, 453, 289, 193, 154, 100, 94, 187, 175, 532, 735, 945, 1056, 1153, 1292, 1550, 1934, 2962, 1856, 1557, 1807, 1737, 1295, 986, 717, 403, 154, 72, 161, 609, 1467, 2328, 1170, 1004, 1118, 1193, 1035, 1027, 1461, 1726, 2460, 2891, 2984, 2441, 2337, 2155, 1593, 1217, 1056, 764, 518, 317, 277, 381, 583, 892, 1144, 1166, 1330, 1525, 1704, 1783, 1861, 1991, 2383, 2451, 2475, 2497, 2435, 1995, 1615, 1394, 929, 755, 491, 304, 238, 324, 475, 715, 944, 953, 1146, 1422, 1563, 1709, 1979, 2235, 2330, 2474, 2481, 2429, 2055, 1819, 1323, 917, 547, 436, 202, 164, 383, 779, 1590, 2357, 1263, 822, 915, 988, 938, 997, 1177, 1401, 2040, 746, 1557, 2515, 1702, 1373, 1732, 1055, 766, 527, 369, 268, 317, 746, 1616, 2430, 1381, 937, 1014, 1224, 1230, 1258, 1363, 1700, 2328, 3556, 2809, 2525, 2378, 2096, 1456, 1030, 803, 576, 340, 249, 336, 714, 1629, 2440, 1401, 1002, 1100, 1252, 1184, 1158, 1266, 1600, 2289, 3384, 2741, 2519, 2246, 1979, 1401, 1083, 794, 539, 394, 215, 308, 709, 1543, 2370, 1360, 922, 1066, 1197, 1147, 1152, 1276, 1473, 2176, 3418, 2811, 2556, 2436, 2179, 1497, 1137, 912, 602, 413, 268, 336, 710, 1529, 2283, 1284, 902, 1020, 1116, 1073, 1087, 1203, 1466, 2146, 3365, 2732, 2493, 2251, 2103, 1648, 1322, 1073, 818, 540, 375, 339, 417, 622, 934, 1072, 1064, 1229, 1374, 1483, 1445, 1589, 1837, 2101, 2256, 2288, 2262, 2175, 1932, 1402, 849, 545, 1254, 644, 286, 235, 258, 369, 561, 734, 763, 870, 1042, 1062, 1064, 1213, 1471, 1754, 2094, 2290, 2387, 2153, 1801, 1329, 962, 585, 424, 264, 199, 338, 785, 1620, 2331, 1293, 878, 968, 1039, 1073, 1016, 1184, 1407, 2008, 3238, 2779, 2456, 2372, 2046, 1437, 1052, 783, 524, 353, 143, 45, 37, 49, 53, 19, 9, 11, 10, 24, 26, 65, 56, 113, 156, 203, 199, 275, 443, 552, 513, 254, 164, 152, 110, 162, 417, 1084, 1995, 1238, 862, 1015, 1145, 1234, 1243, 1362, 1618, 2115, 3172, 2487, 2274, 2200, 1959, 980, 561, 1068, 652, 344, 233, 266, 594, 1391, 2288, 1246, 826, 938, 1158, 1040, 1030, 1209, 766, 65, 596, 944, 1039, 1223, 1239, 931, 470, 460, 345, 227, 123, 133, 308, 883, 2028, 1195, 913, 956, 1168, 1117, 1175, 1209, 1554, 2099, 3113, 2602, 2339, 2225, 2103, 1552, 1275, 1070, 859, 625, 382, 247, 310, 468, 825, 862, 933, 871, 858, 1144, 1235, 1311, 1317, 1291, 306, 481, 778, 1005, 1107, 919, 865, 740, 586, 368, 211, 54, 60, 25, 20, 9, 13, 11, 9, 30, 14, 51, 41, 25, 17, 18, 16, 17, 16, 15, 26, 28, 17, 23, 58, 28, 40, 126, 104, 128, 27, 153, 218, 304, 381, 619, 839, 861, 832, 44, 61, 72, 83, 168, 349, 407, 354, 233, 149, 224, 600, 1308, 2135, 1156, 818, 906, 944, 994, 1001, 1069, 1325, 1783, 2965, 2598, 2398, 2264, 1948, 1365, 971, 796, 555, 372, 234, 316, 747, 1450, 2215, 1191, 831, 941, 1021, 1007, 1005, 1038, 1306, 1856, 3080, 2637, 2415, 2274, 2091, 1432, 1078, 846, 568, 376, 267, 326, 438, 828, 1836, 1112, 827, 890, 996, 929, 933, 1011, 1105, 1381, 2594, 2309, 2122, 2063, 1941, 1406, 1075, 839, 558, 403, 273, 311, 723, 1449, 2273, 1318, 998, 1024, 1216, 1210, 1209, 1346, 1635, 2282, 3196, 2557, 2223, 2183, 1917, 1458, 1191, 1079, 760, 545, 331, 273, 396, 567, 832, 1009, 1050, 1129, 1328, 1399, 1430, 1579, 1764, 2020, 2238, 2352, 2232, 2235, 1921, 1416, 1208, 946, 648, 460, 277, 253, 267, 410, 684, 787, 867, 1053, 1237, 1442, 1517, 1693, 2070, 2266, 2351, 2272, 2348, 2055, 1717, 1252, 900, 554, 387, 285, 206, 301, 486, 451, 670, 575, 217, 186, 71, 99, 110, 59, 68, 104, 140, 68, 48, 95, 71, 40, 29, 39, 84, 136, 133, 174, 534, 1209, 2017, 1061, 768, 909, 1035, 1074, 1142, 1169, 1462, 1603, 1665, 794, 908, 1352, 971, 373, 240, 240, 236, 157, 71, 76, 187, 303, 827, 634, 581, 792, 964, 991, 1052, 1106, 1344, 1923, 2931, 2328, 2048, 1936, 1870, 1298, 938, 787, 517, 322, 159, 231, 593, 1279, 1811, 982, 746, 805, 991, 959, 976, 1163, 1296, 1915, 3016, 2313, 2214, 2115, 1945, 1355, 1006, 760, 600, 377, 241, 301, 665, 1321, 2114, 1240, 836, 887, 1013, 1046, 999, 1094, 1291, 1782, 2884, 2320, 2069, 1924, 1879, 1439, 1169, 1062, 783, 545, 307, 266, 356, 537, 787, 909, 910, 945, 1039, 1078, 1038, 1058, 1177, 1433, 1624, 1797, 2023, 2011, 1682, 1278, 1143, 868, 632, 443, 278, 223, 292, 402, 613, 715, 701, 712, 803, 810, 822, 946, 1125, 1247, 1466, 1847, 2058, 1924, 1607, 1113, 732, 498, 469, 276, 211, 324, 703, 1344, 1935, 1014, 678, 688, 719, 727, 691, 745, 818, 1425, 2636, 2368, 2362, 2241, 1934, 1285, 1003, 692, 497, 372, 222, 372, 713, 1356, 1955, 1031, 719, 797, 803, 763, 786, 878, 1062, 1591, 2770, 2326, 2174, 2273, 1940, 1340, 1002, 741, 526, 381, 266, 327, 695, 1308, 1944, 982, 722, 701, 780, 778, 762, 776, 912, 1596, 2692, 2281, 2202, 2188, 1980, 1354, 1068, 824, 591, 393, 231, 329, 672, 1315, 1993, 985, 695, 687, 828, 798, 722, 827, 1017, 1536, 2640, 2245, 2114, 2122, 1870, 1318, 1041, 773, 557, 428, 267, 327, 672, 1251, 1896, 1029, 641, 791, 822, 805, 741, 794, 928, 1468, 2419, 2084, 1888, 1869, 1782, 1426, 1132, 945, 684, 477, 347, 292, 381, 491, 720, 729, 699, 676, 735, 727, 682, 785, 883, 1011, 1202, 1423, 1655, 1731, 1588, 1288, 1088, 772, 587, 438, 270, 256, 286, 360, 477, 526, 522, 499, 560, 569, 565, 632, 771, 965, 1212, 1478, 1688, 1666, 1346, 1030, 792, 542, 382, 238, 174, 310, 652, 1241, 1889, 985, 636, 611, 655, 688, 670, 739, 960, 1310, 2405, 2112, 2051, 1994, 1697, 1157, 874, 715, 487, 332, 218, 306, 673, 1213, 1820, 926, 610, 620, 671, 688, 649, 735, 834, 1297, 2300, 1968, 1834, 1899, 1773, 1193, 939, 726, 499, 327, 212, 299, 657, 1171, 1893, 995, 696, 749, 791, 783, 754, 781, 977, 1412, 2416, 2039, 1935, 1811, 1767, 1289, 939, 718, 498, 355, 252, 306, 602, 1175, 1823, 966, 644, 614, 600, 628, 706, 774, 920, 1394, 2367, 1994, 1790, 1868, 1709, 1273, 909, 747, 537, 371, 218, 295, 647, 1111, 1763, 934, 639, 619, 714, 653, 507, 776, 905, 1289, 2183, 1657, 1565, 1547, 1507, 1182, 992, 875, 656, 461, 340, 248, 313, 428, 606, 671, 654, 592, 632, 741, 314, 468, 706, 863, 843, 974, 1095, 1211, 1158, 1039, 921, 636, 511, 403, 245, 199, 266, 345, 456, 519, 473, 476, 644, 622, 630, 713, 760, 895, 1141, 1486, 1697, 1638, 1406, 1108, 810, 575, 363, 253, 209, 273, 668, 1130, 1646, 866, 609, 623, 663, 688, 645, 666, 845, 1224, 2347, 2016, 1947, 1875, 1552, 1202, 901, 695, 476, 334, 244, 284, 584, 1091, 1665, 860, 582, 583, 626, 623, 579, 665, 763, 1184, 2092, 1865, 1772, 1719, 1613, 1097, 875, 724, 501, 362, 250, 315, 622, 1061, 1550, 853, 540, 521, 569, 533, 475, 531, 561, 1033, 1929, 1553, 1441, 1500, 1367, 1046, 850, 647, 459, 295, 215, 265, 578, 1006, 1579, 813, 549, 547, 562, 550, 535, 605, 676, 1066, 1881, 1605, 1480, 1535, 1375, 1020, 763, 675, 443, 327, 236, 266, 544, 937, 1471, 784, 530, 575, 585, 585, 575, 600, 763, 1105, 1920, 1558, 1517, 1511, 1421, 1103, 953, 872, 594, 435, 304, 234, 289, 405, 568, 598, 569, 655, 640, 703, 676, 690, 700, 901, 1044, 1277, 1387, 1377, 1337, 1155, 983, 758, 509, 401, 253, 188, 222, 223, 309, 422, 461, 499, 565, 600, 639, 712, 818, 978, 1247, 1411, 1524, 1465, 1286, 942, 707, 455, 309, 219, 162, 258, 546, 699, 797, 614, 533, 569, 613, 666, 571, 646, 752, 1063, 1956, 1548, 1537, 1611, 1371, 969, 842, 619, 443, 278, 201, 273, 634, 1059, 1695, 961, 635, 657, 770, 662, 658, 698, 855, 1232, 2274, 1898, 1836, 1826, 1664, 1136, 853, 700, 489, 322, 183, 260, 614, 1079, 1693, 920, 657, 624, 629, 673, 670, 687, 839, 1266, 2326, 1983, 1822, 1783, 1628, 1180, 929, 733, 466, 334, 189, 292, 619, 1088, 1731, 977, 649, 659, 484, 628, 561, 644, 559, 740, 1850, 1698, 1591, 1654, 1494, 1075, 903, 708, 484, 346, 214, 283, 645, 1027, 1728, 892, 683, 697, 721, 696, 658, 725, 853, 1293, 2289, 1903, 1702, 1641, 1544, 1198, 1022, 881, 691, 441, 266, 263, 355, 425, 647, 672, 643, 766, 759, 830, 733, 694, 826, 1006, 1274, 1482, 1469, 1437, 1351, 1076, 997, 703, 554, 387, 260, 196, 261, 316, 520, 568, 483, 526, 670, 704, 697, 820, 959, 1156, 1225, 1117, 1208, 1337, 1127, 707, 409, 231, 212, 196, 151, 230, 594, 1065, 1657, 903, 639, 677, 724, 698, 651, 709, 901, 1358, 2367, 2036, 1847, 1851, 1635, 1086, 872, 681, 467, 345, 209, 254, 643, 1097, 1708, 944, 615, 636, 699, 695, 627, 700, 920, 1306, 2305, 1972, 1705, 1684, 1587, 1165, 1034, 850, 676, 474, 310, 227, 346, 429, 553, 563, 547, 586, 563, 591, 627, 761, 877, 960, 925, 1301, 1500, 1507, 1350, 1008, 808, 535, 381, 252, 173, 263, 631, 1105, 1660, 876, 612, 672, 668, 652, 638, 720, 902, 1384, 2481, 2286, 2114, 2127, 1943, 1446, 1109, 842, 572, 375, 276, 304, 719, 1271, 1918, 1069, 717, 844, 904, 820, 791, 970, 1112, 1666, 2797, 2353, 2130, 2008, 1787, 1466, 1191, 969, 698, 483, 316, 262, 397, 475, 754, 771, 769, 857, 952, 1003, 1121, 1196, 1398, 1806, 1979, 2127, 1965, 1886, 1681, 1342, 1100, 844, 611, 425, 264, 223, 260, 392, 592, 645, 732, 795, 926, 943, 972, 1181, 1395, 1721, 1928, 2186, 2029, 1821, 1546, 1016, 818, 527, 352, 255, 193, 281, 675, 1285, 1912, 993, 719, 766, 808, 847, 816, 992, 1253, 1704, 2628, 2162, 1999, 1971, 1630, 1241, 898, 690, 376, 173, 49, 57, 73, 608, 1530, 876, 402, 681, 848, 827, 788, 957, 1112, 1663, 2830, 2364, 2169, 2057, 1828, 1277, 1025, 782, 512, 346, 214, 289, 655, 1330, 1990, 1015, 700, 710, 784, 727, 760, 842, 993, 1495, 2528, 2087, 1808, 1807, 1556, 1117, 908, 745, 492, 304, 168, 185, 492, 720, 1678, 924, 551, 711, 769, 584, 740, 837, 944, 1249, 1447, 582, 257, 189, 215, 267, 238, 208, 83, 62, 30, 45, 173, 400, 578, 484, 286, 415, 355, 274, 152, 405, 455, 403, 916, 948, 1162, 1300, 1202, 1084, 980, 886, 708, 456, 306, 232, 318, 490, 721, 808, 858, 916, 1070, 1231, 1261, 1516, 1592, 1797, 2080, 2043, 2022, 1937, 1717, 1357, 1163, 769, 600, 426, 290, 188, 243, 381, 566, 725, 681, 791, 1070, 657, 417, 782, 1025, 1399, 1479, 1596, 1674, 1276, 764, 348, 325, 61, 44, 22, 27, 38, 47, 103, 328, 75, 104, 148, 137, 149, 231, 580, 886, 1356, 2153, 1615, 1560, 1762, 1571, 1113, 870, 653, 482, 281, 200, 218, 581, 1182, 1841, 865, 670, 411, 25, 31, 126, 122, 60, 39, 96, 84, 10, 122, 64, 59, 208, 334, 243, 171, 128, 109, 346, 862, 1595, 867, 642, 671, 648, 540, 490, 583, 193, 160, 57, 24, 19, 22, 74, 198, 214, 99, 80, 81, 42, 73, 285, 771, 1330, 846, 589, 716, 768, 865, 837, 982, 1142, 1473, 1887, 1707, 1685, 1732, 1582, 1173, 861, 652, 381, 297, 170, 217, 436, 828, 1686, 1049, 794, 868, 982, 965, 987, 1119, 1404, 1869, 2836, 2372, 1995, 1931, 1789, 1329, 1075, 975, 785, 514, 338, 260, 362, 511, 812, 925, 861, 981, 1086, 1303, 1371, 1480, 1678, 1845, 1892, 1891, 1440, 1110, 992, 1523, 1336, 930, 610, 440, 255, 179, 249, 388, 576, 721, 802, 940, 1075, 1254, 1395, 1550, 1853, 2069, 2118, 1986, 1838, 1759, 1511, 1047, 763, 524, 321, 211, 153, 264, 656, 1287, 1580, 719, 434, 443, 673, 731, 532, 137, 39, 23, 113, 73, 151, 110, 379, 486, 500, 486, 324, 223, 186, 219, 602, 1289, 2059, 1083, 822, 940, 995, 997, 987, 1178, 1429, 1993, 3166, 2491, 2259, 2212, 1856, 1233, 983, 748, 493, 376, 220, 249, 676, 1487, 2312, 1195, 847, 937, 1072, 1039, 989, 1131, 1446, 2068, 3160, 2468, 2177, 2024, 1798, 1219, 963, 743, 531, 320, 215, 247, 680, 1438, 2270, 1186, 835, 941, 1041, 1049, 1032, 1089, 1292, 1525, 2497, 1990, 1900, 1851, 1641, 562, 556, 345, 259, 259, 185, 247, 624, 1346, 2260, 1194, 896, 988, 1213, 1119, 1187, 1391, 1577, 2183, 3154, 2365, 1959, 1915, 1796, 1363, 1107, 1001, 692, 504, 285, 227, 322, 511, 827, 956, 1096, 1179, 1273, 1505, 1554, 1792, 1943, 2167, 2255, 1978, 1944, 1878, 1675, 1142, 1185, 835, 589, 395, 264, 165, 255, 366, 644, 803, 928, 1051, 1220, 1432, 1662, 1877, 2099, 2201, 2368, 2033, 1930, 1820, 1291, 941, 792, 487, 332, 176, 188, 226, 691, 1463, 2278, 1125, 862, 934, 1095, 1057, 1064, 1249, 1467, 2147, 3298, 2518, 2240, 2090, 1779, 1223, 910, 662, 435, 261, 193, 258, 678, 1556, 2369, 1234, 922, 1012, 1192, 1102, 1115, 1222, 1527, 2171, 3222, 2455, 2072, 2018, 1868, 1240, 949, 691, 462, 297, 215, 241, 656, 1551, 2391, 1234, 923, 1017, 1165, 1066, 1087, 1251, 1494, 2129, 3256, 2443, 2146, 2012, 1824, 1309, 968, 736, 437, 304, 240, 248, 655, 1448, 2329, 1322, 915, 972, 1119, 1014, 1097, 1200, 1436, 2021, 3146, 2365, 2003, 2000, 1713, 1303, 971, 775, 482, 349, 223, 249, 644, 1456, 2253, 1201, 936, 982, 1088, 1155, 1199, 1347, 1503, 2059, 2826, 1996, 1869, 1259, 567, 810, 906, 881, 580, 302, 234, 169, 272, 453, 829, 934, 1017, 1212, 1284, 1465, 1474, 1077, 1273, 1474, 1566, 1578, 1613, 1710, 1566, 1210, 1014, 764, 432, 258, 188, 123, 137, 258, 464, 725, 813, 1014, 989, 754, 409, 222, 142, 322, 520, 852, 1073, 1146, 988, 571, 531, 337, 227, 186, 160, 246, 625, 1487, 2276, 1185, 868, 954, 1083, 1069, 1092, 1207, 1445, 2056, 3277, 2489, 2232, 2100, 1865, 1293, 0, 0, 0, 0, 0, 0, 0, 0, 0, 0, 0, 0, 0, 0, 0, 0, 0, 0, 0, 0, 0, 0, 0, 0, 0, 0, 0, 0, 0, 0, 0, 0, 0, 0, 0, 0, 0, 0, 0, 0, 0, 0, 0, 0, 0, 0, 0, 0, 886, 761, 524, 294, 241, 137, 47, 130, 299, 89, 87, 111, 180, 301, 573, 696, 912, 1290, 1786, 1272, 898, 784, 1049, 935, 809, 674, 122, 28, 24, 24, 23, 45, 127, 47, 78, 98, 143, 600, 972, 1288, 1550, 1904, 2235, 1720, 1551, 1540, 1493, 1171, 953, 875, 655, 458, 96, 93, 215, 363, 654, 810, 925, 1062, 1273, 1409, 1532, 1814, 1840, 2045, 1939, 1743, 1604, 1502, 1430, 1108, 880, 644, 489, 334, 202, 106, 144, 261, 439, 534, 620, 764, 915, 1031, 1136, 1366, 1502, 1591, 1492, 1333, 1287, 1148, 1074, 768, 620, 426, 302, 216, 141, 105, 141, 205, 296, 310, 426, 588, 754, 885, 1099, 1273, 1433, 1442, 1237, 1280, 1227, 1145, 958, 750, 558, 408, 292, 222, 157, 105, 132, 262, 440, 542, 667, 853, 1045, 1309, 1522, 1747, 1955, 2033, 1885, 1608, 1583, 1565, 1418, 1042, 880, 594, 453, 355, 222, 150, 230, 335, 598, 680, 923, 1152, 1358, 1686, 1972, 2170, 2270, 2349, 2339, 1937, 1653, 1529, 1249, 934, 770, 488, 326, 178, 151, 207, 589, 1364, 2129, 1120, 907, 1019, 1189, 1191, 1305, 1404, 1636, 2189, 3154, 2422, 2098, 1930, 1801, 1222, 0, 0, 0, 0, 0, 0, 0, 0, 0, 0, 0, 0, 0, 0, 0, 0, 0, 0, 0, 0, 0, 0, 0, 0, 1037, 982, 690, 493, 301, 208, 290, 513, 848, 1076, 1071, 1284, 1495, 1752, 1892, 2065, 2254, 2432, 2397, 2021, 1835, 1781, 1501, 1229, 0, 0, 0, 0, 0, 0, 0, 0, 0, 0, 0, 0, 0, 0, 0, 0, 0, 0, 0, 0, 0, 0, 0, 0, 680, 402, 262, 179, 143, 246, 632, 1429, 2101, 1106, 856, 959, 1138, 1087, 1137, 1258, 1357, 1799, 2857, 2122, 1824, 1777, 1501, 1057, 0, 0, 0, 0, 0, 0, 0, 0, 0, 0, 0, 0, 0, 0, 0, 0, 0, 0, 0, 0, 0, 0, 0, 0, 1040, 882, 685, 497, 284, 173, 278, 440, 762, 966, 1113, 1248, 1634, 1849, 1995, 2200, 2112, 2400, 2235, 1792, 1744, 1594, 1393, 1033, 0, 0, 0, 0, 0, 0, 0, 0, 0, 0, 0, 0, 0, 0, 0, 0, 0, 0, 0, 0, 0, 0, 0, 0, 973, 735, 515, 329, 221, 223, 531, 282, 208, 47, 33, 29, 23, 22, 17, 8, 28, 66, 74, 55, 44, 32, 23, 4, 0, 0, 0, 0, 0, 0, 0, 5, 6, 5, 2, 20, 130, 529, 941, 1236, 1601, 1870, 2012, 1761, 1567, 1731, 1459, 1162, 1049, 768, 538, 372, 255, 146, 189, 345, 589, 753, 932, 1188, 1516, 1714, 1987, 2167, 2270, 2255, 2069, 1608, 1519, 1385, 1160, 840, 711, 390, 265, 192, 123, 215, 503, 1206, 2005, 1166, 943, 1117, 1238, 1303, 1358, 1502, 1603, 2127, 2787, 2150, 1838, 1788, 1636, 1196, 0, 0, 0, 0, 0, 0, 0, 0, 0, 0, 0, 0, 0, 0, 0, 0, 0, 0, 0, 0, 0, 0, 0, 0, 643, 144, 55, 90, 82, 152, 441, 1220, 2082, 1097, 792, 914, 1006, 1015, 1041, 1171, 1363, 1775, 2514, 1723, 1489, 1445, 1255, 901, 707, 541, 341, 218, 145, 197, 518, 1233, 2000, 1070, 792, 926, 967, 1000, 991, 1054, 1284, 1685, 2378, 1614, 1389, 1398, 1221, 857, 706, 531, 409, 225, 168, 183, 412, 1142, 1996, 1106, 877, 959, 1073, 1110, 1187, 1322, 1488, 1902, 2618, 1804, 1440, 1292, 1347, 940, 835, 739, 512, 374, 226, 148, 209, 412, 728, 853, 1037, 1179, 1402, 1652, 1712, 1846, 1916, 1995, 1695, 1381, 1261, 1312, 1147, 971, 811, 584, 429, 308, 185, 110, 150, 304, 556, 775, 847, 1056, 1394, 1593, 1767, 1948, 2097, 1990, 1662, 1377, 1306, 1261, 1029, 810, 638, 393, 272, 171, 152, 209, 504, 1271, 2070, 1119, 837, 910, 1052, 1058, 1121, 1183, 1413, 1773, 2635, 1911, 1659, 1556, 1377, 914, 726, 568, 427, 253, 145, 202, 491, 1216, 2134, 1177, 854, 914, 1063, 1108, 1113, 1203, 1407, 1811, 2716, 1867, 1568, 1618, 1425, 950, 739, 600, 381, 239, 157, 210, 503, 1213, 2202, 1200, 842, 961, 1088, 1115, 1083, 1175, 1409, 1896, 2445, 1819, 1558, 1493, 1278, 896, 694, 579, 385, 244, 165, 185, 458, 1191, 2154, 1165, 864, 917, 1132, 1152, 1122, 1203, 1473, 1804, 2499, 1878, 1528, 1466, 1302, 944, 783, 653, 433, 262, 184, 162, 491, 1188, 2113, 1191, 850, 981, 1161, 1190, 1221, 1390, 1527, 1939, 2631, 1769, 1512, 1457, 1331, 1018, 891, 774, 522, 386, 246, 154, 219, 427, 784, 921, 997, 1175, 1407, 1585, 1649, 1760, 1813, 1949, 1707, 1407, 1270, 1249, 1141, 922, 848, 622, 428, 342, 206, 146, 172, 315, 534, 679, 936, 1055, 1417, 1519, 1642, 1891, 1976, 1883, 1618, 1464, 1306, 1158, 1025, 724, 623, 372, 253, 175, 110, 202, 513, 1244, 2111, 1104, 817, 941, 1034, 1064, 1122, 1167, 1464, 1904, 2613, 1860, 1593, 1513, 1360, 916, 726, 547, 356, 243, 170, 193, 456, 839, 1423, 1026, 735, 81, 363, 652, 837, 1010, 1294, 1604, 2415, 1685, 1433, 1380, 1257, 876, 708, 573, 371, 249, 162, 164, 453, 1165, 2108, 1151, 811, 940, 1126, 1106, 1150, 1161, 1492, 1904, 2612, 1827, 1556, 1464, 1281, 884, 729, 572, 421, 266, 161, 193, 450, 1251, 2070, 1168, 779, 956, 1188, 1154, 1192, 1275, 1528, 1961, 2632, 1968, 1596, 1513, 1316, 919, 753, 629, 434, 327, 185, 178, 376, 556, 556, 144, 191, 54, 29, 18, 147, 576, 900, 1386, 1882, 1228, 1003, 542, 680, 603, 640, 585, 478, 346, 233, 146, 197, 388, 713, 785, 898, 996, 1076, 1118, 1183, 1254, 1308, 1176, 1054, 864, 775, 775, 752, 658, 699, 531, 450, 299, 148, 27, 55, 134, 74, 195, 330, 544, 630, 916, 962, 948, 385, 535, 651, 645, 624, 670, 625, 512, 434, 326, 184, 123, 117, 161, 436, 1070, 1888, 1021, 771, 796, 737, 815, 838, 884, 1069, 1274, 1987, 1377, 1026, 979, 906, 658, 488, 440, 283, 182, 150, 162, 394, 1005, 1883, 982, 684, 782, 881, 847, 903, 965, 1110, 1357, 2074, 1442, 1186, 1147, 948, 527, 294, 324, 287, 227, 146, 141, 402, 1060, 1907, 996, 717, 818, 907, 983, 963, 994, 1185, 1462, 2094, 1507, 1176, 1069, 1088, 798, 584, 524, 362, 242, 147, 154, 433, 1055, 1899, 1011, 696, 852, 926, 968, 1040, 1094, 1206, 1569, 2254, 1561, 1269, 1197, 1115, 806, 642, 560, 369, 251, 166, 153, 403, 1024, 1906, 1027, 751, 880, 1023, 1130, 1160, 1251, 1424, 1730, 2314, 1568, 1242, 1146, 1106, 851, 0, 0, 0, 0, 0, 0, 0, 0, 0, 0, 0, 0, 0, 0, 0, 0, 0, 0, 0, 0, 0, 0, 0, 0, 720, 517, 378, 296, 188, 112, 141, 259, 481, 632, 747, 963, 1145, 1355, 1511, 1579, 1690, 1596, 1335, 1180, 1077, 1001, 912, 656, 520, 346, 206, 161, 107, 166, 448, 1115, 1975, 1005, 790, 829, 971, 986, 993, 1100, 1318, 1664, 2357, 1618, 1464, 1289, 1215, 829, 0, 0, 0, 0, 0, 0, 0, 0, 0, 0, 0, 0, 0, 0, 0, 0, 0, 0, 0, 0, 0, 0, 0, 0, 639, 410, 136, 40, 47, 71, 194, 526, 1171, 740, 555, 608, 697, 798, 767, 848, 834, 1115, 1347, 1176, 1062, 1062, 1003, 679, 395, 158, 122, 78, 50, 49, 136, 174, 148, 56, 17, 25, 17, 18, 46, 56, 14, 30, 40, 19, 12, 21, 14, 26, 0, 0, 0, 0, 0, 0, 0, 0, 0, 0, 0, 0, 0, 0, 0, 0, 0, 0, 0, 0, 0, 0, 0, 0, 754, 679, 568, 372, 223, 137, 167, 309, 589, 628, 699, 768, 1034, 1094, 1113, 1229, 1263, 1379, 1226, 957, 877, 847, 885, 676, 655, 518, 370, 314, 189, 111, 117, 228, 395, 574, 563, 578, 769, 758, 810, 832, 616, 660, 752, 685, 711, 689, 690, 554, 456, 344, 187, 122, 109, 158, 419, 1004, 1699, 931, 683, 785, 888, 889, 886, 1084, 1193, 1472, 2022, 1466, 1292, 1189, 1023, 702, 587, 487, 330, 205, 133, 162, 402, 1066, 1910, 990, 710, 789, 890, 912, 928, 980, 1188, 1420, 2159, 1529, 1208, 1163, 1126, 718, 612, 517, 327, 210, 164, 135, 362, 1047, 1916, 1019, 779, 892, 963, 1028, 1001, 1063, 1137, 1532, 2200, 1464, 1269, 1239, 1074, 757, 610, 489, 313, 219, 154, 172, 357, 883, 1686, 1300, 782, 770, 942, 883, 899, 971, 1123, 1416, 2034, 1448, 1146, 1123, 1061, 721, 683, 520, 376, 262, 171, 151, 412, 939, 1692, 991, 699, 834, 886, 920, 915, 995, 1126, 1346, 1956, 1303, 995, 907, 894, 687, 626, 597, 456, 288, 195, 129, 151, 315, 530, 644, 733, 830, 994, 1037, 969, 1018, 974, 1031, 877, 735, 644, 685, 655, 576, 592, 443, 335, 258, 165, 92, 114, 191, 371, 457, 583, 645, 776, 905, 1054, 1047, 1026, 1039, 902, 759, 719, 682, 632, 532, 457, 277, 190, 133, 88, 167, 418, 991, 1751, 889, 651, 745, 785, 785, 793, 839, 968, 1233, 1904, 1304, 1030, 1019, 910, 629, 478, 422, 286, 202, 119, 141, 369, 934, 1818, 955, 659, 699, 788, 798, 790, 861, 967, 1269, 1857, 1317, 1078, 1020, 922, 378, 119, 159, 129, 112, 97, 118, 299, 788, 1622, 867, 611, 649, 697, 623, 474, 550, 755, 1101, 1679, 1113, 936, 838, 825, 571, 443, 382, 271, 164, 121, 133, 332, 848, 1671, 883, 603, 644, 717, 678, 692, 716, 759, 1101, 1591, 1032, 777, 759, 691, 488, 470, 401, 279, 191, 109, 129, 339, 727, 1516, 800, 582, 635, 664, 731, 719, 752, 891, 1101, 1548, 1007, 767, 679, 729, 548, 499, 507, 335, 272, 151, 95, 79, 30, 33, 24, 62, 114, 167, 241, 298, 330, 436, 435, 426, 420, 349, 392, 396, 386, 420, 370, 285, 184, 138, 88, 75, 142, 250, 355, 430, 522, 700, 675, 777, 846, 872, 813, 663, 616, 570, 546, 496, 379, 387, 214, 175, 119, 99, 115, 339, 819, 1524, 795, 586, 643, 752, 718, 796, 794, 935, 1156, 1708, 1181, 943, 955, 846, 563, 496, 408, 299, 183, 95, 140, 317, 815, 1577, 800, 616, 623, 672, 671, 600, 666, 775, 1033, 1538, 1023, 825, 777, 740, 593, 450, 434, 275, 167, 128, 140, 287, 796, 1540, 798, 583, 608, 635, 681, 675, 798, 808, 1099, 1536, 1039, 842, 846, 804, 555, 517, 485, 319, 195, 107, 126, 328, 800, 1635, 825, 595, 623, 661, 645, 668, 652, 748, 996, 1577, 1026, 818, 792, 726, 559, 474, 456, 300, 213, 116, 149, 293, 750, 1527, 809, 554, 642, 720, 740, 761, 768, 837, 1047, 1384, 1003, 764, 694, 712, 584], \"xaxis\": \"x\", \"yaxis\": \"y\"}, {\"alignmentgroup\": \"True\", \"hoverlabel\": {\"namelength\": 0}, \"hovertemplate\": \"Year=2018<br>Rented_Bike_Count=%{x}\", \"legendgroup\": \"Year=2018\", \"marker\": {\"color\": \"#EF553B\"}, \"name\": \"Year=2018\", \"offsetgroup\": \"Year=2018\", \"scalegroup\": \"x\", \"showlegend\": false, \"type\": \"violin\", \"x\": [206, 230, 178, 119, 62, 61, 65, 81, 89, 121, 139, 169, 225, 248, 298, 344, 310, 271, 218, 125, 206, 203, 168, 154, 148, 108, 69, 41, 31, 58, 139, 344, 655, 315, 208, 269, 293, 273, 302, 295, 320, 373, 675, 403, 364, 304, 273, 186, 160, 130, 110, 67, 43, 67, 137, 308, 670, 342, 213, 267, 297, 279, 270, 286, 299, 382, 637, 431, 294, 335, 291, 197, 159, 150, 123, 57, 38, 66, 120, 302, 646, 340, 197, 264, 290, 284, 262, 281, 309, 397, 603, 417, 311, 310, 306, 221, 202, 170, 118, 67, 47, 75, 123, 327, 665, 354, 232, 308, 362, 312, 343, 333, 329, 446, 635, 443, 322, 284, 281, 189, 184, 222, 176, 103, 61, 48, 69, 105, 186, 221, 204, 245, 283, 356, 370, 373, 352, 354, 271, 207, 189, 214, 218, 169, 192, 162, 128, 102, 62, 40, 38, 60, 122, 143, 179, 214, 278, 265, 331, 368, 333, 349, 270, 246, 233, 236, 214, 149, 149, 109, 77, 53, 46, 67, 159, 374, 701, 387, 253, 278, 356, 303, 349, 318, 353, 385, 316, 127, 144, 146, 149, 112, 100, 107, 75, 52, 38, 52, 126, 245, 554, 320, 190, 247, 262, 265, 265, 257, 262, 332, 558, 364, 302, 281, 166, 80, 61, 78, 63, 40, 31, 39, 84, 158, 387, 225, 150, 168, 217, 207, 177, 193, 196, 266, 437, 259, 207, 214, 165, 139, 98, 100, 89, 38, 33, 42, 82, 203, 443, 227, 152, 146, 187, 178, 187, 181, 179, 219, 352, 251, 177, 162, 172, 119, 105, 99, 83, 42, 30, 35, 92, 189, 419, 196, 119, 140, 178, 177, 173, 177, 196, 259, 405, 273, 210, 184, 186, 144, 152, 168, 145, 77, 47, 40, 42, 43, 67, 102, 106, 133, 174, 212, 215, 251, 249, 277, 223, 167, 158, 156, 168, 131, 149, 150, 111, 79, 48, 29, 49, 59, 81, 118, 134, 174, 226, 272, 304, 353, 366, 302, 250, 208, 210, 213, 196, 144, 171, 122, 74, 58, 38, 55, 82, 209, 444, 303, 212, 254, 311, 309, 306, 349, 365, 455, 555, 444, 321, 334, 333, 230, 212, 207, 141, 81, 51, 58, 140, 318, 650, 376, 221, 256, 276, 296, 276, 250, 277, 381, 592, 409, 332, 342, 321, 242, 204, 183, 140, 75, 55, 72, 115, 272, 537, 337, 212, 270, 310, 273, 258, 278, 314, 380, 501, 360, 286, 320, 313, 227, 215, 190, 137, 95, 50, 68, 107, 279, 537, 305, 188, 261, 267, 307, 301, 269, 328, 416, 506, 365, 303, 339, 318, 232, 211, 207, 140, 93, 58, 61, 151, 334, 648, 387, 255, 283, 341, 341, 349, 381, 390, 468, 702, 471, 342, 331, 292, 236, 228, 258, 216, 118, 89, 56, 50, 101, 191, 234, 259, 285, 325, 356, 334, 406, 352, 377, 283, 223, 219, 220, 232, 164, 196, 177, 107, 107, 73, 32, 36, 61, 115, 152, 189, 216, 271, 343, 340, 389, 396, 383, 295, 223, 258, 237, 207, 170, 171, 97, 73, 53, 31, 60, 165, 316, 683, 365, 221, 277, 323, 281, 249, 63, 18, 43, 170, 167, 181, 187, 170, 139, 96, 120, 75, 55, 45, 44, 84, 211, 423, 228, 132, 184, 180, 189, 169, 181, 181, 239, 351, 248, 178, 145, 117, 106, 90, 89, 50, 32, 24, 34, 71, 164, 364, 192, 90, 124, 121, 140, 125, 149, 124, 203, 297, 211, 125, 132, 121, 82, 78, 68, 60, 32, 22, 34, 71, 165, 349, 187, 105, 122, 142, 130, 160, 130, 152, 170, 288, 178, 141, 137, 113, 79, 68, 93, 54, 41, 24, 36, 64, 142, 322, 149, 96, 93, 111, 115, 116, 140, 147, 196, 305, 171, 121, 130, 108, 89, 80, 94, 75, 41, 36, 25, 33, 57, 84, 105, 96, 125, 145, 189, 193, 192, 195, 207, 162, 122, 117, 103, 114, 103, 125, 103, 72, 67, 38, 21, 30, 42, 72, 104, 111, 145, 189, 206, 225, 217, 187, 178, 157, 134, 113, 106, 105, 81, 80, 62, 49, 27, 26, 50, 94, 231, 450, 217, 135, 166, 186, 166, 168, 177, 195, 239, 438, 282, 197, 182, 172, 99, 108, 129, 84, 54, 33, 47, 94, 214, 491, 254, 170, 220, 253, 225, 238, 173, 94, 53, 100, 59, 72, 60, 73, 62, 69, 96, 60, 47, 34, 34, 63, 124, 273, 137, 102, 144, 160, 171, 156, 214, 216, 279, 403, 270, 229, 229, 188, 132, 122, 149, 103, 81, 37, 51, 95, 244, 459, 259, 168, 194, 240, 233, 256, 293, 268, 341, 542, 344, 263, 257, 235, 143, 138, 159, 102, 65, 47, 48, 115, 267, 558, 280, 187, 234, 303, 294, 293, 310, 330, 382, 592, 379, 241, 225, 227, 178, 182, 184, 123, 60, 35, 31, 33, 67, 116, 168, 144, 195, 192, 229, 196, 210, 205, 211, 175, 135, 109, 107, 92, 91, 98, 90, 60, 54, 35, 21, 23, 34, 70, 97, 103, 115, 165, 152, 177, 190, 181, 184, 154, 124, 98, 107, 78, 77, 82, 52, 39, 33, 20, 37, 110, 227, 433, 216, 123, 156, 157, 169, 170, 169, 199, 225, 388, 246, 206, 177, 183, 115, 126, 87, 59, 36, 32, 40, 94, 213, 438, 217, 128, 175, 172, 165, 147, 171, 175, 227, 392, 251, 193, 175, 169, 106, 116, 96, 83, 51, 34, 45, 92, 214, 469, 237, 155, 176, 188, 228, 199, 221, 240, 320, 448, 280, 218, 223, 200, 164, 136, 126, 103, 57, 46, 39, 99, 255, 507, 270, 160, 217, 253, 270, 253, 286, 284, 337, 564, 378, 277, 268, 233, 195, 178, 159, 107, 78, 46, 36, 117, 273, 589, 308, 199, 238, 260, 268, 283, 315, 319, 422, 659, 407, 308, 243, 263, 193, 197, 237, 169, 145, 79, 41, 48, 97, 188, 222, 223, 235, 248, 296, 286, 277, 291, 277, 216, 151, 132, 124, 128, 118, 112, 95, 93, 58, 34, 19, 39, 40, 81, 126, 130, 155, 174, 212, 191, 181, 175, 198, 150, 147, 127, 119, 103, 91, 103, 69, 45, 21, 33, 30, 109, 236, 517, 262, 161, 190, 202, 246, 182, 228, 239, 288, 475, 340, 244, 253, 200, 140, 158, 146, 106, 70, 46, 51, 96, 294, 568, 285, 200, 252, 281, 256, 300, 295, 328, 410, 604, 406, 323, 290, 291, 211, 178, 213, 129, 101, 51, 56, 108, 292, 606, 326, 241, 288, 312, 349, 398, 461, 447, 484, 559, 316, 262, 216, 218, 160, 126, 123, 112, 74, 58, 32, 39, 55, 112, 112, 127, 170, 174, 240, 270, 276, 273, 236, 190, 166, 148, 134, 145, 92, 105, 77, 47, 36, 35, 28, 30, 49, 68, 48, 78, 93, 137, 169, 196, 243, 189, 210, 165, 126, 150, 114, 116, 84, 79, 71, 56, 34, 20, 14, 39, 35, 80, 98, 103, 155, 183, 193, 258, 273, 267, 250, 223, 169, 145, 133, 123, 117, 99, 103, 86, 56, 37, 22, 38, 52, 92, 137, 156, 183, 263, 337, 372, 440, 404, 354, 310, 238, 213, 226, 191, 153, 148, 101, 59, 42, 50, 59, 139, 349, 646, 347, 235, 314, 361, 332, 373, 392, 403, 522, 819, 533, 417, 388, 357, 218, 177, 172, 115, 63, 64, 79, 164, 404, 727, 384, 265, 322, 356, 370, 335, 431, 393, 514, 764, 522, 358, 415, 319, 242, 171, 162, 105, 59, 50, 63, 159, 385, 718, 373, 244, 276, 351, 299, 365, 366, 409, 469, 784, 460, 356, 345, 299, 223, 195, 190, 116, 71, 66, 75, 151, 373, 783, 383, 259, 308, 352, 316, 331, 356, 404, 465, 730, 499, 348, 393, 346, 202, 42, 55, 62, 32, 36, 39, 63, 174, 391, 214, 184, 230, 283, 304, 312, 312, 354, 470, 669, 421, 295, 321, 291, 243, 226, 263, 197, 133, 63, 58, 72, 108, 203, 253, 259, 298, 363, 412, 454, 467, 509, 462, 379, 306, 233, 232, 219, 187, 182, 189, 124, 103, 52, 37, 54, 77, 158, 173, 195, 244, 396, 482, 572, 612, 688, 589, 402, 297, 232, 239, 230, 173, 135, 122, 80, 46, 46, 65, 161, 402, 786, 416, 289, 356, 428, 444, 455, 521, 555, 646, 929, 619, 483, 512, 443, 308, 236, 213, 145, 102, 62, 72, 183, 443, 767, 455, 261, 342, 353, 335, 357, 402, 411, 529, 897, 616, 461, 449, 461, 310, 266, 229, 174, 116, 72, 62, 165, 426, 816, 419, 285, 332, 305, 28, 17, 7, 9, 8, 11, 19, 8, 10, 13, 23, 71, 147, 180, 92, 28, 11, 33, 61, 148, 160, 191, 239, 311, 358, 375, 458, 460, 423, 317, 231, 246, 212, 190, 190, 156, 108, 71, 49, 47, 65, 135, 401, 617, 343, 274, 343, 388, 375, 450, 463, 574, 631, 854, 568, 427, 396, 414, 284, 218, 229, 176, 149, 93, 55, 71, 159, 306, 329, 354, 431, 605, 771, 1025, 1238, 1285, 1197, 920, 630, 631, 588, 516, 215, 161, 118, 95, 90, 34, 15, 20, 23, 70, 157, 239, 273, 358, 429, 475, 468, 396, 492, 436, 289, 26, 7, 8, 9, 22, 23, 9, 2, 4, 22, 20, 85, 184, 211, 232, 322, 438, 465, 550, 637, 718, 865, 1155, 782, 578, 533, 466, 274, 224, 188, 122, 82, 79, 80, 214, 583, 997, 556, 380, 475, 504, 528, 567, 616, 680, 883, 1246, 833, 666, 625, 514, 361, 289, 194, 134, 92, 49, 97, 232, 598, 1032, 566, 410, 441, 550, 509, 505, 620, 646, 849, 1365, 799, 587, 411, 147, 48, 49, 23, 19, 12, 8, 17, 32, 64, 88, 100, 165, 290, 375, 405, 452, 555, 594, 757, 1091, 683, 586, 533, 498, 315, 272, 228, 155, 105, 66, 88, 195, 574, 1041, 570, 361, 444, 510, 509, 542, 611, 686, 834, 1231, 718, 535, 537, 521, 309, 328, 305, 241, 139, 91, 79, 74, 208, 340, 381, 416, 497, 650, 757, 906, 931, 972, 829, 664, 573, 447, 470, 421, 345, 376, 222, 171, 115, 80, 45, 63, 119, 212, 289, 394, 425, 666, 843, 1154, 1294, 1205, 1028, 776, 596, 530, 533, 419, 288, 222, 163, 95, 60, 47, 106, 261, 662, 1066, 604, 406, 463, 581, 588, 603, 694, 752, 931, 1425, 946, 801, 771, 695, 397, 309, 231, 161, 103, 88, 97, 252, 668, 1215, 616, 428, 571, 626, 678, 705, 815, 890, 1085, 1749, 1224, 986, 982, 912, 572, 412, 309, 226, 142, 82, 123, 290, 786, 1371, 761, 552, 643, 813, 789, 878, 1025, 1049, 1325, 2100, 1478, 1275, 1181, 983, 587, 466, 355, 203, 51, 9, 8, 10, 15, 39, 32, 27, 65, 204, 269, 289, 329, 214, 411, 676, 606, 533, 567, 506, 343, 287, 278, 178, 102, 85, 85, 222, 652, 1176, 683, 507, 557, 705, 715, 772, 923, 976, 1160, 1641, 974, 774, 710, 660, 455, 414, 366, 268, 157, 103, 60, 109, 193, 384, 520, 561, 742, 933, 1111, 1294, 1514, 1440, 1272, 934, 718, 688, 624, 562, 422, 407, 309, 226, 174, 106, 67, 73, 152, 293, 398, 460, 587, 751, 881, 993, 1128, 1059, 603, 365, 237, 146, 71, 70, 53, 67, 38, 28, 12, 9, 27, 91, 370, 592, 387, 292, 393, 403, 387, 326, 263, 271, 605, 1200, 818, 711, 731, 565, 382, 297, 243, 165, 95, 69, 92, 235, 677, 1212, 661, 418, 488, 522, 516, 478, 492, 518, 719, 1111, 716, 543, 494, 460, 294, 240, 223, 147, 82, 70, 80, 209, 605, 1097, 614, 374, 339, 333, 196, 117, 184, 241, 319, 615, 402, 120, 231, 320, 226, 243, 247, 173, 107, 75, 81, 212, 600, 1174, 653, 446, 565, 668, 648, 674, 758, 752, 999, 1495, 923, 739, 726, 621, 428, 335, 283, 216, 128, 92, 95, 243, 661, 1216, 664, 461, 584, 690, 682, 758, 849, 901, 1108, 1611, 932, 724, 676, 638, 422, 403, 360, 305, 197, 122, 82, 113, 198, 424, 456, 494, 589, 806, 880, 855, 1025, 947, 916, 736, 521, 513, 487, 460, 354, 372, 267, 195, 139, 90, 60, 71, 137, 225, 331, 359, 466, 626, 784, 882, 960, 1031, 911, 768, 571, 502, 456, 424, 336, 244, 185, 93, 62, 65, 98, 227, 581, 983, 540, 415, 422, 492, 504, 575, 604, 819, 925, 1477, 1031, 835, 798, 662, 447, 380, 278, 163, 127, 95, 110, 231, 705, 1201, 699, 462, 560, 586, 563, 618, 636, 774, 960, 1521, 1020, 864, 866, 764, 527, 400, 337, 225, 150, 104, 107, 258, 741, 1353, 723, 494, 588, 629, 723, 698, 785, 943, 1221, 1839, 1288, 1133, 1035, 907, 614, 466, 390, 254, 170, 109, 106, 274, 781, 1281, 757, 482, 583, 714, 716, 711, 781, 957, 1194, 1776, 1260, 1079, 1046, 949, 614, 490, 401, 261, 184, 115, 117, 284, 747, 1406, 772, 583, 739, 939, 860, 965, 1068, 1156, 1460, 1935, 1268, 1045, 948, 880, 678, 537, 502, 397, 264, 163, 108, 142, 264, 489, 642, 618, 824, 1072, 1218, 1381, 1542, 1578, 1531, 1391, 1025, 972, 1010, 922, 655, 579, 453, 322, 221, 147, 96, 110, 169, 342, 485, 566, 737, 926, 1156, 1201, 1349, 1409, 1362, 1296, 1066, 984, 983, 841, 588, 468, 295, 155, 111, 86, 125, 359, 918, 1469, 806, 579, 662, 818, 818, 920, 993, 1218, 1569, 2401, 1779, 1517, 1503, 1213, 803, 532, 430, 275, 156, 124, 163, 388, 1033, 1677, 867, 664, 696, 913, 870, 931, 961, 1173, 1436, 2134, 1415, 1470, 1223, 1030, 454, 355, 113, 15, 22, 14, 19, 172, 665, 1284, 378, 505, 744, 928, 951, 1096, 1209, 1413, 1745, 2402, 1626, 1374, 1256, 1041, 668, 436, 373, 220, 150, 87, 18, 21, 38, 207, 129, 95, 47, 70, 84, 46, 37, 31, 46, 75, 75, 56, 99, 77, 79, 56, 50, 27, 18, 9, 54, 178, 591, 1235, 719, 529, 598, 756, 683, 572, 545, 585, 776, 1114, 659, 508, 447, 499, 312, 282, 225, 123, 122, 80, 57, 108, 206, 399, 426, 453, 553, 697, 852, 919, 925, 897, 908, 714, 518, 458, 443, 426, 368, 325, 224, 191, 141, 90, 59, 101, 159, 332, 405, 494, 586, 709, 847, 777, 343, 137, 58, 22, 44, 93, 170, 177, 182, 197, 140, 97, 52, 43, 91, 239, 651, 1163, 682, 506, 644, 799, 869, 921, 1038, 1185, 1479, 2401, 1599, 1362, 1232, 1069, 623, 485, 376, 250, 149, 102, 123, 370, 981, 1702, 982, 703, 839, 1023, 967, 913, 933, 1080, 1004, 1805, 1153, 336, 133, 75, 212, 0, 0, 0, 0, 0, 0, 0, 0, 0, 0, 0, 0, 0, 0, 0, 0, 0, 0, 0, 0, 0, 0, 0, 0, 504, 374, 269, 182, 98, 144, 375, 1054, 1789, 952, 686, 829, 969, 1029, 990, 1074, 1273, 1664, 2359, 1641, 1319, 1241, 1142, 772, 525, 432, 257, 167, 112, 156, 368, 999, 1721, 982, 741, 867, 1095, 973, 1063, 1108, 1270, 1662, 2404, 1641, 1359, 1311, 1178, 849, 664, 513, 253, 62, 39, 20, 12, 18, 17, 17, 43, 52, 75, 70, 122, 203, 445, 675, 706, 612, 640, 633, 586, 503, 475, 349, 254, 183, 110, 65, 102, 223, 401, 513, 582, 797, 1105, 1229, 1083, 62, 124, 42, 343, 317, 297, 464, 620, 467, 401, 226, 126, 107, 75, 132, 405, 1049, 1713, 922, 700, 855, 1052, 973, 1016, 1145, 1452, 1753, 2692, 1719, 1498, 1355, 1099, 733, 503, 421, 237, 164, 110, 143, 406, 1100, 1920, 1013, 731, 822, 1112, 1007, 1037, 1120, 1312, 1632, 1727, 1356, 1290, 1320, 1071, 680, 515, 375, 260, 164, 105, 154, 395, 1083, 1815, 987, 761, 845, 1047, 975, 967, 1149, 1346, 1738, 1918, 842, 1346, 1209, 1003, 671, 520, 42, 281, 206, 125, 153, 367, 254, 20, 316, 139, 795, 919, 930, 996, 1039, 1198, 1534, 2198, 1489, 1313, 1165, 1054, 677, 553, 436, 305, 188, 134, 168, 414, 979, 1659, 962, 708, 805, 1019, 973, 970, 1080, 1206, 1543, 2268, 1578, 1358, 1213, 1183, 891, 707, 628, 436, 307, 166, 122, 184, 324, 600, 647, 702, 872, 1130, 1315, 1511, 1730, 1942, 2032, 1986, 1711, 1581, 1491, 1292, 988, 826, 578, 410, 289, 192, 136, 155, 278, 429, 247, 486, 424, 631, 842, 384, 234, 103, 46, 63, 32, 12, 24, 13, 18, 81, 41, 21, 8, 2, 6, 5, 17, 25, 9, 12, 10, 10, 11, 17, 14, 41, 42, 39, 50, 37, 82, 164, 233, 213, 157, 68, 35, 34, 77, 262, 751, 1502, 814, 638, 710, 925, 923, 942, 971, 1118, 1462, 2318, 1580, 1332, 1372, 1215, 725, 536, 444, 306, 206, 117, 148, 449, 1123, 1900, 1066, 756, 938, 1192, 1141, 1161, 1180, 1447, 1878, 2807, 1958, 1651, 1593, 1382, 906, 692, 546, 409, 239, 140, 180, 452, 1124, 1933, 1027, 745, 930, 1197, 1084, 1123, 1227, 1386, 1796, 2574, 1891, 1531, 1447, 1146, 851, 663, 562, 361, 258, 140, 170, 427, 1129, 1922, 985, 789, 986, 1142, 1133, 1115, 1253, 1446, 1877, 2577, 1812, 1499, 1362, 1278, 975, 777, 672, 522, 325, 166, 152, 230, 376, 647, 795, 808, 1000, 1278, 1404, 1597, 1875, 1945, 2043, 1882, 1590, 1435, 1351, 1165, 905, 790, 554, 425, 263, 183, 138, 183, 307, 485, 716, 787, 1060, 1375, 1635, 1814, 2019, 2044, 2094, 1950, 1712, 1485, 1382, 1128, 820, 569, 362, 246, 157, 132, 185, 397, 1075, 1791, 983, 742, 901, 1094, 1019, 1055, 1168, 1344, 1706, 2558, 2064, 1703, 1711, 1456, 1044, 782, 705, 534, 343, 187, 166, 306, 614, 1067, 1024, 1002, 1117, 1315, 1493, 1536, 1639, 1759, 1898, 2082, 1696, 1656, 1644, 1400, 855, 612, 413, 245, 170, 93, 76, 67, 102, 555, 609, 486, 206, 63, 327, 376, 143, 400, 813, 518, 131, 123, 327, 299, 294, 361, 323, 251, 156, 109, 163, 469, 1160, 1946, 1061, 762, 794, 871, 516, 367, 590, 911, 1421, 2310, 1663, 1401, 1388, 1202, 832, 624, 480, 352, 224, 138, 186, 521, 1260, 2041, 1155, 864, 1021, 1206, 1222, 1266, 1323, 1501, 1857, 2661, 1890, 1389, 1298, 1256, 935, 796, 716, 508, 392, 252, 190, 247, 352, 579, 759, 877, 1024, 1258, 1408, 1669, 1837, 1223, 2014, 1929, 1753, 1562, 1551, 1360, 1097, 733, 181, 74, 43, 16, 11, 7, 16, 16, 12, 13, 10, 71, 211, 384, 770, 1482, 1737, 1848, 1639, 1526, 1450, 1290, 1016, 778, 609, 404, 249, 185, 170, 221, 389, 600, 737, 895, 1167, 1414, 1665, 1970, 2191, 2213, 2392, 2268, 1664, 1912, 1717, 1336, 994, 712, 430, 287, 194, 155, 200, 555, 1280, 1976, 1128, 792, 956, 1135, 1117, 1096, 1267, 1457, 2020, 2142, 2241, 1726, 1513, 1283, 767, 552, 34, 245, 187, 114, 203, 556, 1333, 2068, 928, 954, 1015, 1242, 1188, 1186, 1324, 1603, 2034, 3130, 2405, 1979, 1940, 1602, 1073, 0, 0, 0, 0, 0, 0, 0, 0, 0, 0, 0, 0, 0, 0, 0, 0, 0, 0, 0, 0, 0, 0, 0, 0, 724, 565, 378, 252, 154, 223, 486, 1156, 1881, 850, 816, 972, 1161, 1177, 1174, 1295, 1496, 1863, 2701, 1999, 941, 1644, 1556, 1185, 862, 669, 416, 358, 207, 70, 37, 43, 20, 16, 6, 18, 11, 19, 22, 17, 34, 24, 22, 29, 29, 25, 30, 50, 145, 178, 189, 141, 83, 72, 139, 220, 397, 579, 716, 993, 1434, 1839, 2055, 2329, 2379, 2410, 2338, 2023, 1714, 1571, 1155, 814, 581, 377, 241, 167, 121, 199, 552, 1251, 1997, 1106, 779, 946, 1095, 1051, 1124, 1171, 1433, 1891, 2906, 2236, 1965, 1885, 1648, 1071, 764, 563, 372, 241, 170, 182, 562, 1239, 2059, 1148, 832, 944, 1058, 1080, 1092, 1210, 1458, 1951, 2915, 2248, 1958, 1944, 1640, 848, 662, 502, 145, 166, 124, 52, 135, 367, 291, 97, 81, 243, 59, 151, 248, 240, 223, 304, 562, 404, 338, 398, 399, 225, 118, 144, 78, 38, 51, 54, 69, 80, 152, 28, 141, 182, 467, 592, 352, 186, 102, 131, 431, 29, 17, 18, 26, 35, 129, 116, 48, 47, 22, 29, 77, 210, 400, 427, 454, 352, 185, 509, 697, 906, 1182, 1551, 2261, 1751, 1386, 1263, 1221, 864, 689, 676, 526, 320, 213, 198, 234, 436, 766, 932, 1051, 1290, 1573, 1865, 2128, 2268, 2479, 2355, 2439, 2140, 1872, 1780, 1595, 1169, 986, 713, 473, 347, 205, 160, 190, 341, 524, 676, 899, 1013, 1313, 1559, 1680, 1999, 2143, 2310, 2403, 2145, 1846, 1636, 1325, 943, 666, 420, 262, 165, 113, 200, 467, 1135, 1785, 1118, 962, 1129, 1373, 1456, 1483, 1612, 1820, 2214, 3069, 2450, 2167, 2065, 1832, 1273, 957, 810, 590, 406, 248, 182, 277, 443, 694, 912, 1119, 1438, 1798, 2000, 1407, 163, 86, 50, 30, 45, 30, 58, 29, 18, 32, 25, 34, 43, 59, 152, 436, 1241, 2035, 1125, 871, 1012, 1216, 1167, 1183, 1332, 1563, 2069, 3123, 2454, 2001, 1833, 1588, 1080, 778, 578, 385, 265, 161, 205, 530, 1390, 2081, 1226, 880, 922, 1087, 1078, 1059, 1174, 1455, 1863, 2825, 2334, 1902, 1838, 1678, 1087, 831, 610, 437, 286, 188, 201, 531, 1250, 1996, 1121, 819, 959, 1082, 1106, 1161, 1306, 1533, 2013, 2916, 2227, 1905, 1740, 1630, 1209, 987, 837, 572, 419, 232, 198, 299, 503, 763, 992, 1010, 1164, 1285, 1441, 1448, 1575, 1690, 1886, 2020, 1985, 1909, 1851, 1683, 1330, 1089, 799, 555, 423, 208, 174, 234, 341, 608, 762, 821, 1004, 1404, 1579, 1730, 2019, 2242, 2307, 2267, 2207, 2044, 1729, 1374, 1071, 770, 440, 335, 185, 134, 247, 641, 1502, 2194, 1131, 828, 986, 1139, 1124, 1128, 1258, 1497, 2060, 3245, 2656, 2252, 2140, 1881, 1247, 841, 721, 466, 285, 204, 252, 625, 1427, 2234, 1192, 893, 949, 1184, 1103, 1174, 1234, 1592, 2022, 2154, 477, 422, 1041, 1121, 742, 507, 570, 422, 238, 167, 239, 505, 1150, 1937, 1200, 916, 975, 1187, 1134, 1119, 1280, 1571, 2166, 3251, 2650, 2224, 2074, 1732, 1158, 844, 610, 470, 328, 188, 265, 646, 1401, 2281, 1277, 936, 979, 1134, 1151, 1164, 1280, 1550, 2047, 3119, 2534, 2164, 2070, 1900, 1343, 963, 776, 554, 366, 265, 306, 672, 1421, 2149, 1219, 862, 1036, 1076, 1093, 1071, 1235, 1488, 2123, 3088, 2505, 2163, 2066, 1991, 1440, 1165, 989, 677, 475, 312, 264, 342, 560, 898, 1005, 1044, 1094, 1253, 1334, 1396, 1535, 1707, 2025, 2246, 2337, 2338, 2238, 1969, 1490, 1248, 902, 673, 437, 294, 193, 228, 423, 659, 831, 938, 977, 1134, 1393, 1399, 1556, 1834, 2131, 2349, 2514, 2460, 2173, 1741, 1274, 938, 596, 351, 244, 172, 299, 742, 1505, 2287, 1243, 970, 1008, 1152, 1085, 1148, 1249, 1671, 2190, 3380, 2788, 2508, 2377, 2000, 1354, 927, 742, 448, 314, 214, 282, 733, 1602, 2322, 1344, 959, 974, 1111, 1058, 1120, 1250, 1434, 2115, 3227, 2615, 2346, 2404, 2237, 1646, 1268, 1031, 792, 562, 332, 218, 351, 536, 799, 925, 1087, 1152, 1400, 1444, 1603, 1674, 1940, 2104, 2162, 2163, 2145, 1935, 1624, 1251, 978, 606, 418, 275, 191, 288, 716, 1551, 2317, 1342, 914, 967, 1099, 1071, 1116, 1171, 1442, 2002, 3221, 2649, 2278, 2161, 1939, 1290, 926, 769, 525, 365, 255, 299, 744, 1544, 2348, 1283, 1002, 1095, 1256, 1314, 1249, 1416, 1668, 2314, 3309, 2797, 2476, 2337, 2140, 1672, 1247, 1029, 732, 535, 352, 262, 381, 616, 963, 1102, 1156, 1200, 1462, 1583, 1744, 1890, 2297, 2355, 1934, 1058, 246, 225, 776, 766, 483, 375, 162, 150, 174, 138, 216, 313, 619, 786, 942, 1074, 1442, 1752, 1985, 2182, 2333, 2431, 2367, 2267, 2300, 2026, 1634, 1191, 918, 555, 353, 232, 194, 324, 807, 1629, 2375, 1307, 992, 1107, 1204, 1033, 1075, 1240, 1220, 1475, 1491, 873, 1280, 1647, 1117, 384, 470, 454, 385, 206, 144, 296, 740, 1573, 2495, 1317, 971, 1092, 1202, 1215, 1246, 1427, 1714, 2270, 3404, 2873, 2579, 2505, 2309, 1657, 1274, 1088, 847, 591, 421, 290, 416, 657, 959, 1111, 1269, 1478, 1747, 1834, 2088, 2288, 2474, 2664, 2479, 2404, 2276, 2166, 1934, 1394, 1047, 715, 453, 289, 193, 154, 100, 94, 187, 175, 532, 735, 945, 1056, 1153, 1292, 1550, 1934, 2962, 1856, 1557, 1807, 1737, 1295, 986, 717, 403, 154, 72, 161, 609, 1467, 2328, 1170, 1004, 1118, 1193, 1035, 1027, 1461, 1726, 2460, 2891, 2984, 2441, 2337, 2155, 1593, 1217, 1056, 764, 518, 317, 277, 381, 583, 892, 1144, 1166, 1330, 1525, 1704, 1783, 1861, 1991, 2383, 2451, 2475, 2497, 2435, 1995, 1615, 1394, 929, 755, 491, 304, 238, 324, 475, 715, 944, 953, 1146, 1422, 1563, 1709, 1979, 2235, 2330, 2474, 2481, 2429, 2055, 1819, 1323, 917, 547, 436, 202, 164, 383, 779, 1590, 2357, 1263, 822, 915, 988, 938, 997, 1177, 1401, 2040, 746, 1557, 2515, 1702, 1373, 1732, 1055, 766, 527, 369, 268, 317, 746, 1616, 2430, 1381, 937, 1014, 1224, 1230, 1258, 1363, 1700, 2328, 3556, 2809, 2525, 2378, 2096, 1456, 1030, 803, 576, 340, 249, 336, 714, 1629, 2440, 1401, 1002, 1100, 1252, 1184, 1158, 1266, 1600, 2289, 3384, 2741, 2519, 2246, 1979, 1401, 1083, 794, 539, 394, 215, 308, 709, 1543, 2370, 1360, 922, 1066, 1197, 1147, 1152, 1276, 1473, 2176, 3418, 2811, 2556, 2436, 2179, 1497, 1137, 912, 602, 413, 268, 336, 710, 1529, 2283, 1284, 902, 1020, 1116, 1073, 1087, 1203, 1466, 2146, 3365, 2732, 2493, 2251, 2103, 1648, 1322, 1073, 818, 540, 375, 339, 417, 622, 934, 1072, 1064, 1229, 1374, 1483, 1445, 1589, 1837, 2101, 2256, 2288, 2262, 2175, 1932, 1402, 849, 545, 1254, 644, 286, 235, 258, 369, 561, 734, 763, 870, 1042, 1062, 1064, 1213, 1471, 1754, 2094, 2290, 2387, 2153, 1801, 1329, 962, 585, 424, 264, 199, 338, 785, 1620, 2331, 1293, 878, 968, 1039, 1073, 1016, 1184, 1407, 2008, 3238, 2779, 2456, 2372, 2046, 1437, 1052, 783, 524, 353, 143, 45, 37, 49, 53, 19, 9, 11, 10, 24, 26, 65, 56, 113, 156, 203, 199, 275, 443, 552, 513, 254, 164, 152, 110, 162, 417, 1084, 1995, 1238, 862, 1015, 1145, 1234, 1243, 1362, 1618, 2115, 3172, 2487, 2274, 2200, 1959, 980, 561, 1068, 652, 344, 233, 266, 594, 1391, 2288, 1246, 826, 938, 1158, 1040, 1030, 1209, 766, 65, 596, 944, 1039, 1223, 1239, 931, 470, 460, 345, 227, 123, 133, 308, 883, 2028, 1195, 913, 956, 1168, 1117, 1175, 1209, 1554, 2099, 3113, 2602, 2339, 2225, 2103, 1552, 1275, 1070, 859, 625, 382, 247, 310, 468, 825, 862, 933, 871, 858, 1144, 1235, 1311, 1317, 1291, 306, 481, 778, 1005, 1107, 919, 865, 740, 586, 368, 211, 54, 60, 25, 20, 9, 13, 11, 9, 30, 14, 51, 41, 25, 17, 18, 16, 17, 16, 15, 26, 28, 17, 23, 58, 28, 40, 126, 104, 128, 27, 153, 218, 304, 381, 619, 839, 861, 832, 44, 61, 72, 83, 168, 349, 407, 354, 233, 149, 224, 600, 1308, 2135, 1156, 818, 906, 944, 994, 1001, 1069, 1325, 1783, 2965, 2598, 2398, 2264, 1948, 1365, 971, 796, 555, 372, 234, 316, 747, 1450, 2215, 1191, 831, 941, 1021, 1007, 1005, 1038, 1306, 1856, 3080, 2637, 2415, 2274, 2091, 1432, 1078, 846, 568, 376, 267, 326, 438, 828, 1836, 1112, 827, 890, 996, 929, 933, 1011, 1105, 1381, 2594, 2309, 2122, 2063, 1941, 1406, 1075, 839, 558, 403, 273, 311, 723, 1449, 2273, 1318, 998, 1024, 1216, 1210, 1209, 1346, 1635, 2282, 3196, 2557, 2223, 2183, 1917, 1458, 1191, 1079, 760, 545, 331, 273, 396, 567, 832, 1009, 1050, 1129, 1328, 1399, 1430, 1579, 1764, 2020, 2238, 2352, 2232, 2235, 1921, 1416, 1208, 946, 648, 460, 277, 253, 267, 410, 684, 787, 867, 1053, 1237, 1442, 1517, 1693, 2070, 2266, 2351, 2272, 2348, 2055, 1717, 1252, 900, 554, 387, 285, 206, 301, 486, 451, 670, 575, 217, 186, 71, 99, 110, 59, 68, 104, 140, 68, 48, 95, 71, 40, 29, 39, 84, 136, 133, 174, 534, 1209, 2017, 1061, 768, 909, 1035, 1074, 1142, 1169, 1462, 1603, 1665, 794, 908, 1352, 971, 373, 240, 240, 236, 157, 71, 76, 187, 303, 827, 634, 581, 792, 964, 991, 1052, 1106, 1344, 1923, 2931, 2328, 2048, 1936, 1870, 1298, 938, 787, 517, 322, 159, 231, 593, 1279, 1811, 982, 746, 805, 991, 959, 976, 1163, 1296, 1915, 3016, 2313, 2214, 2115, 1945, 1355, 1006, 760, 600, 377, 241, 301, 665, 1321, 2114, 1240, 836, 887, 1013, 1046, 999, 1094, 1291, 1782, 2884, 2320, 2069, 1924, 1879, 1439, 1169, 1062, 783, 545, 307, 266, 356, 537, 787, 909, 910, 945, 1039, 1078, 1038, 1058, 1177, 1433, 1624, 1797, 2023, 2011, 1682, 1278, 1143, 868, 632, 443, 278, 223, 292, 402, 613, 715, 701, 712, 803, 810, 822, 946, 1125, 1247, 1466, 1847, 2058, 1924, 1607, 1113, 732, 498, 469, 276, 211, 324, 703, 1344, 1935, 1014, 678, 688, 719, 727, 691, 745, 818, 1425, 2636, 2368, 2362, 2241, 1934, 1285, 1003, 692, 497, 372, 222, 372, 713, 1356, 1955, 1031, 719, 797, 803, 763, 786, 878, 1062, 1591, 2770, 2326, 2174, 2273, 1940, 1340, 1002, 741, 526, 381, 266, 327, 695, 1308, 1944, 982, 722, 701, 780, 778, 762, 776, 912, 1596, 2692, 2281, 2202, 2188, 1980, 1354, 1068, 824, 591, 393, 231, 329, 672, 1315, 1993, 985, 695, 687, 828, 798, 722, 827, 1017, 1536, 2640, 2245, 2114, 2122, 1870, 1318, 1041, 773, 557, 428, 267, 327, 672, 1251, 1896, 1029, 641, 791, 822, 805, 741, 794, 928, 1468, 2419, 2084, 1888, 1869, 1782, 1426, 1132, 945, 684, 477, 347, 292, 381, 491, 720, 729, 699, 676, 735, 727, 682, 785, 883, 1011, 1202, 1423, 1655, 1731, 1588, 1288, 1088, 772, 587, 438, 270, 256, 286, 360, 477, 526, 522, 499, 560, 569, 565, 632, 771, 965, 1212, 1478, 1688, 1666, 1346, 1030, 792, 542, 382, 238, 174, 310, 652, 1241, 1889, 985, 636, 611, 655, 688, 670, 739, 960, 1310, 2405, 2112, 2051, 1994, 1697, 1157, 874, 715, 487, 332, 218, 306, 673, 1213, 1820, 926, 610, 620, 671, 688, 649, 735, 834, 1297, 2300, 1968, 1834, 1899, 1773, 1193, 939, 726, 499, 327, 212, 299, 657, 1171, 1893, 995, 696, 749, 791, 783, 754, 781, 977, 1412, 2416, 2039, 1935, 1811, 1767, 1289, 939, 718, 498, 355, 252, 306, 602, 1175, 1823, 966, 644, 614, 600, 628, 706, 774, 920, 1394, 2367, 1994, 1790, 1868, 1709, 1273, 909, 747, 537, 371, 218, 295, 647, 1111, 1763, 934, 639, 619, 714, 653, 507, 776, 905, 1289, 2183, 1657, 1565, 1547, 1507, 1182, 992, 875, 656, 461, 340, 248, 313, 428, 606, 671, 654, 592, 632, 741, 314, 468, 706, 863, 843, 974, 1095, 1211, 1158, 1039, 921, 636, 511, 403, 245, 199, 266, 345, 456, 519, 473, 476, 644, 622, 630, 713, 760, 895, 1141, 1486, 1697, 1638, 1406, 1108, 810, 575, 363, 253, 209, 273, 668, 1130, 1646, 866, 609, 623, 663, 688, 645, 666, 845, 1224, 2347, 2016, 1947, 1875, 1552, 1202, 901, 695, 476, 334, 244, 284, 584, 1091, 1665, 860, 582, 583, 626, 623, 579, 665, 763, 1184, 2092, 1865, 1772, 1719, 1613, 1097, 875, 724, 501, 362, 250, 315, 622, 1061, 1550, 853, 540, 521, 569, 533, 475, 531, 561, 1033, 1929, 1553, 1441, 1500, 1367, 1046, 850, 647, 459, 295, 215, 265, 578, 1006, 1579, 813, 549, 547, 562, 550, 535, 605, 676, 1066, 1881, 1605, 1480, 1535, 1375, 1020, 763, 675, 443, 327, 236, 266, 544, 937, 1471, 784, 530, 575, 585, 585, 575, 600, 763, 1105, 1920, 1558, 1517, 1511, 1421, 1103, 953, 872, 594, 435, 304, 234, 289, 405, 568, 598, 569, 655, 640, 703, 676, 690, 700, 901, 1044, 1277, 1387, 1377, 1337, 1155, 983, 758, 509, 401, 253, 188, 222, 223, 309, 422, 461, 499, 565, 600, 639, 712, 818, 978, 1247, 1411, 1524, 1465, 1286, 942, 707, 455, 309, 219, 162, 258, 546, 699, 797, 614, 533, 569, 613, 666, 571, 646, 752, 1063, 1956, 1548, 1537, 1611, 1371, 969, 842, 619, 443, 278, 201, 273, 634, 1059, 1695, 961, 635, 657, 770, 662, 658, 698, 855, 1232, 2274, 1898, 1836, 1826, 1664, 1136, 853, 700, 489, 322, 183, 260, 614, 1079, 1693, 920, 657, 624, 629, 673, 670, 687, 839, 1266, 2326, 1983, 1822, 1783, 1628, 1180, 929, 733, 466, 334, 189, 292, 619, 1088, 1731, 977, 649, 659, 484, 628, 561, 644, 559, 740, 1850, 1698, 1591, 1654, 1494, 1075, 903, 708, 484, 346, 214, 283, 645, 1027, 1728, 892, 683, 697, 721, 696, 658, 725, 853, 1293, 2289, 1903, 1702, 1641, 1544, 1198, 1022, 881, 691, 441, 266, 263, 355, 425, 647, 672, 643, 766, 759, 830, 733, 694, 826, 1006, 1274, 1482, 1469, 1437, 1351, 1076, 997, 703, 554, 387, 260, 196, 261, 316, 520, 568, 483, 526, 670, 704, 697, 820, 959, 1156, 1225, 1117, 1208, 1337, 1127, 707, 409, 231, 212, 196, 151, 230, 594, 1065, 1657, 903, 639, 677, 724, 698, 651, 709, 901, 1358, 2367, 2036, 1847, 1851, 1635, 1086, 872, 681, 467, 345, 209, 254, 643, 1097, 1708, 944, 615, 636, 699, 695, 627, 700, 920, 1306, 2305, 1972, 1705, 1684, 1587, 1165, 1034, 850, 676, 474, 310, 227, 346, 429, 553, 563, 547, 586, 563, 591, 627, 761, 877, 960, 925, 1301, 1500, 1507, 1350, 1008, 808, 535, 381, 252, 173, 263, 631, 1105, 1660, 876, 612, 672, 668, 652, 638, 720, 902, 1384, 2481, 2286, 2114, 2127, 1943, 1446, 1109, 842, 572, 375, 276, 304, 719, 1271, 1918, 1069, 717, 844, 904, 820, 791, 970, 1112, 1666, 2797, 2353, 2130, 2008, 1787, 1466, 1191, 969, 698, 483, 316, 262, 397, 475, 754, 771, 769, 857, 952, 1003, 1121, 1196, 1398, 1806, 1979, 2127, 1965, 1886, 1681, 1342, 1100, 844, 611, 425, 264, 223, 260, 392, 592, 645, 732, 795, 926, 943, 972, 1181, 1395, 1721, 1928, 2186, 2029, 1821, 1546, 1016, 818, 527, 352, 255, 193, 281, 675, 1285, 1912, 993, 719, 766, 808, 847, 816, 992, 1253, 1704, 2628, 2162, 1999, 1971, 1630, 1241, 898, 690, 376, 173, 49, 57, 73, 608, 1530, 876, 402, 681, 848, 827, 788, 957, 1112, 1663, 2830, 2364, 2169, 2057, 1828, 1277, 1025, 782, 512, 346, 214, 289, 655, 1330, 1990, 1015, 700, 710, 784, 727, 760, 842, 993, 1495, 2528, 2087, 1808, 1807, 1556, 1117, 908, 745, 492, 304, 168, 185, 492, 720, 1678, 924, 551, 711, 769, 584, 740, 837, 944, 1249, 1447, 582, 257, 189, 215, 267, 238, 208, 83, 62, 30, 45, 173, 400, 578, 484, 286, 415, 355, 274, 152, 405, 455, 403, 916, 948, 1162, 1300, 1202, 1084, 980, 886, 708, 456, 306, 232, 318, 490, 721, 808, 858, 916, 1070, 1231, 1261, 1516, 1592, 1797, 2080, 2043, 2022, 1937, 1717, 1357, 1163, 769, 600, 426, 290, 188, 243, 381, 566, 725, 681, 791, 1070, 657, 417, 782, 1025, 1399, 1479, 1596, 1674, 1276, 764, 348, 325, 61, 44, 22, 27, 38, 47, 103, 328, 75, 104, 148, 137, 149, 231, 580, 886, 1356, 2153, 1615, 1560, 1762, 1571, 1113, 870, 653, 482, 281, 200, 218, 581, 1182, 1841, 865, 670, 411, 25, 31, 126, 122, 60, 39, 96, 84, 10, 122, 64, 59, 208, 334, 243, 171, 128, 109, 346, 862, 1595, 867, 642, 671, 648, 540, 490, 583, 193, 160, 57, 24, 19, 22, 74, 198, 214, 99, 80, 81, 42, 73, 285, 771, 1330, 846, 589, 716, 768, 865, 837, 982, 1142, 1473, 1887, 1707, 1685, 1732, 1582, 1173, 861, 652, 381, 297, 170, 217, 436, 828, 1686, 1049, 794, 868, 982, 965, 987, 1119, 1404, 1869, 2836, 2372, 1995, 1931, 1789, 1329, 1075, 975, 785, 514, 338, 260, 362, 511, 812, 925, 861, 981, 1086, 1303, 1371, 1480, 1678, 1845, 1892, 1891, 1440, 1110, 992, 1523, 1336, 930, 610, 440, 255, 179, 249, 388, 576, 721, 802, 940, 1075, 1254, 1395, 1550, 1853, 2069, 2118, 1986, 1838, 1759, 1511, 1047, 763, 524, 321, 211, 153, 264, 656, 1287, 1580, 719, 434, 443, 673, 731, 532, 137, 39, 23, 113, 73, 151, 110, 379, 486, 500, 486, 324, 223, 186, 219, 602, 1289, 2059, 1083, 822, 940, 995, 997, 987, 1178, 1429, 1993, 3166, 2491, 2259, 2212, 1856, 1233, 983, 748, 493, 376, 220, 249, 676, 1487, 2312, 1195, 847, 937, 1072, 1039, 989, 1131, 1446, 2068, 3160, 2468, 2177, 2024, 1798, 1219, 963, 743, 531, 320, 215, 247, 680, 1438, 2270, 1186, 835, 941, 1041, 1049, 1032, 1089, 1292, 1525, 2497, 1990, 1900, 1851, 1641, 562, 556, 345, 259, 259, 185, 247, 624, 1346, 2260, 1194, 896, 988, 1213, 1119, 1187, 1391, 1577, 2183, 3154, 2365, 1959, 1915, 1796, 1363, 1107, 1001, 692, 504, 285, 227, 322, 511, 827, 956, 1096, 1179, 1273, 1505, 1554, 1792, 1943, 2167, 2255, 1978, 1944, 1878, 1675, 1142, 1185, 835, 589, 395, 264, 165, 255, 366, 644, 803, 928, 1051, 1220, 1432, 1662, 1877, 2099, 2201, 2368, 2033, 1930, 1820, 1291, 941, 792, 487, 332, 176, 188, 226, 691, 1463, 2278, 1125, 862, 934, 1095, 1057, 1064, 1249, 1467, 2147, 3298, 2518, 2240, 2090, 1779, 1223, 910, 662, 435, 261, 193, 258, 678, 1556, 2369, 1234, 922, 1012, 1192, 1102, 1115, 1222, 1527, 2171, 3222, 2455, 2072, 2018, 1868, 1240, 949, 691, 462, 297, 215, 241, 656, 1551, 2391, 1234, 923, 1017, 1165, 1066, 1087, 1251, 1494, 2129, 3256, 2443, 2146, 2012, 1824, 1309, 968, 736, 437, 304, 240, 248, 655, 1448, 2329, 1322, 915, 972, 1119, 1014, 1097, 1200, 1436, 2021, 3146, 2365, 2003, 2000, 1713, 1303, 971, 775, 482, 349, 223, 249, 644, 1456, 2253, 1201, 936, 982, 1088, 1155, 1199, 1347, 1503, 2059, 2826, 1996, 1869, 1259, 567, 810, 906, 881, 580, 302, 234, 169, 272, 453, 829, 934, 1017, 1212, 1284, 1465, 1474, 1077, 1273, 1474, 1566, 1578, 1613, 1710, 1566, 1210, 1014, 764, 432, 258, 188, 123, 137, 258, 464, 725, 813, 1014, 989, 754, 409, 222, 142, 322, 520, 852, 1073, 1146, 988, 571, 531, 337, 227, 186, 160, 246, 625, 1487, 2276, 1185, 868, 954, 1083, 1069, 1092, 1207, 1445, 2056, 3277, 2489, 2232, 2100, 1865, 1293, 0, 0, 0, 0, 0, 0, 0, 0, 0, 0, 0, 0, 0, 0, 0, 0, 0, 0, 0, 0, 0, 0, 0, 0, 0, 0, 0, 0, 0, 0, 0, 0, 0, 0, 0, 0, 0, 0, 0, 0, 0, 0, 0, 0, 0, 0, 0, 0, 886, 761, 524, 294, 241, 137, 47, 130, 299, 89, 87, 111, 180, 301, 573, 696, 912, 1290, 1786, 1272, 898, 784, 1049, 935, 809, 674, 122, 28, 24, 24, 23, 45, 127, 47, 78, 98, 143, 600, 972, 1288, 1550, 1904, 2235, 1720, 1551, 1540, 1493, 1171, 953, 875, 655, 458, 96, 93, 215, 363, 654, 810, 925, 1062, 1273, 1409, 1532, 1814, 1840, 2045, 1939, 1743, 1604, 1502, 1430, 1108, 880, 644, 489, 334, 202, 106, 144, 261, 439, 534, 620, 764, 915, 1031, 1136, 1366, 1502, 1591, 1492, 1333, 1287, 1148, 1074, 768, 620, 426, 302, 216, 141, 105, 141, 205, 296, 310, 426, 588, 754, 885, 1099, 1273, 1433, 1442, 1237, 1280, 1227, 1145, 958, 750, 558, 408, 292, 222, 157, 105, 132, 262, 440, 542, 667, 853, 1045, 1309, 1522, 1747, 1955, 2033, 1885, 1608, 1583, 1565, 1418, 1042, 880, 594, 453, 355, 222, 150, 230, 335, 598, 680, 923, 1152, 1358, 1686, 1972, 2170, 2270, 2349, 2339, 1937, 1653, 1529, 1249, 934, 770, 488, 326, 178, 151, 207, 589, 1364, 2129, 1120, 907, 1019, 1189, 1191, 1305, 1404, 1636, 2189, 3154, 2422, 2098, 1930, 1801, 1222, 0, 0, 0, 0, 0, 0, 0, 0, 0, 0, 0, 0, 0, 0, 0, 0, 0, 0, 0, 0, 0, 0, 0, 0, 1037, 982, 690, 493, 301, 208, 290, 513, 848, 1076, 1071, 1284, 1495, 1752, 1892, 2065, 2254, 2432, 2397, 2021, 1835, 1781, 1501, 1229, 0, 0, 0, 0, 0, 0, 0, 0, 0, 0, 0, 0, 0, 0, 0, 0, 0, 0, 0, 0, 0, 0, 0, 0, 680, 402, 262, 179, 143, 246, 632, 1429, 2101, 1106, 856, 959, 1138, 1087, 1137, 1258, 1357, 1799, 2857, 2122, 1824, 1777, 1501, 1057, 0, 0, 0, 0, 0, 0, 0, 0, 0, 0, 0, 0, 0, 0, 0, 0, 0, 0, 0, 0, 0, 0, 0, 0, 1040, 882, 685, 497, 284, 173, 278, 440, 762, 966, 1113, 1248, 1634, 1849, 1995, 2200, 2112, 2400, 2235, 1792, 1744, 1594, 1393, 1033, 0, 0, 0, 0, 0, 0, 0, 0, 0, 0, 0, 0, 0, 0, 0, 0, 0, 0, 0, 0, 0, 0, 0, 0, 973, 735, 515, 329, 221, 223, 531, 282, 208, 47, 33, 29, 23, 22, 17, 8, 28, 66, 74, 55, 44, 32, 23, 4, 0, 0, 0, 0, 0, 0, 0, 5, 6, 5, 2, 20, 130, 529, 941, 1236, 1601, 1870, 2012, 1761, 1567, 1731, 1459, 1162, 1049, 768, 538, 372, 255, 146, 189, 345, 589, 753, 932, 1188, 1516, 1714, 1987, 2167, 2270, 2255, 2069, 1608, 1519, 1385, 1160, 840, 711, 390, 265, 192, 123, 215, 503, 1206, 2005, 1166, 943, 1117, 1238, 1303, 1358, 1502, 1603, 2127, 2787, 2150, 1838, 1788, 1636, 1196, 0, 0, 0, 0, 0, 0, 0, 0, 0, 0, 0, 0, 0, 0, 0, 0, 0, 0, 0, 0, 0, 0, 0, 0, 643, 144, 55, 90, 82, 152, 441, 1220, 2082, 1097, 792, 914, 1006, 1015, 1041, 1171, 1363, 1775, 2514, 1723, 1489, 1445, 1255, 901, 707, 541, 341, 218, 145, 197, 518, 1233, 2000, 1070, 792, 926, 967, 1000, 991, 1054, 1284, 1685, 2378, 1614, 1389, 1398, 1221, 857, 706, 531, 409, 225, 168, 183, 412, 1142, 1996, 1106, 877, 959, 1073, 1110, 1187, 1322, 1488, 1902, 2618, 1804, 1440, 1292, 1347, 940, 835, 739, 512, 374, 226, 148, 209, 412, 728, 853, 1037, 1179, 1402, 1652, 1712, 1846, 1916, 1995, 1695, 1381, 1261, 1312, 1147, 971, 811, 584, 429, 308, 185, 110, 150, 304, 556, 775, 847, 1056, 1394, 1593, 1767, 1948, 2097, 1990, 1662, 1377, 1306, 1261, 1029, 810, 638, 393, 272, 171, 152, 209, 504, 1271, 2070, 1119, 837, 910, 1052, 1058, 1121, 1183, 1413, 1773, 2635, 1911, 1659, 1556, 1377, 914, 726, 568, 427, 253, 145, 202, 491, 1216, 2134, 1177, 854, 914, 1063, 1108, 1113, 1203, 1407, 1811, 2716, 1867, 1568, 1618, 1425, 950, 739, 600, 381, 239, 157, 210, 503, 1213, 2202, 1200, 842, 961, 1088, 1115, 1083, 1175, 1409, 1896, 2445, 1819, 1558, 1493, 1278, 896, 694, 579, 385, 244, 165, 185, 458, 1191, 2154, 1165, 864, 917, 1132, 1152, 1122, 1203, 1473, 1804, 2499, 1878, 1528, 1466, 1302, 944, 783, 653, 433, 262, 184, 162, 491, 1188, 2113, 1191, 850, 981, 1161, 1190, 1221, 1390, 1527, 1939, 2631, 1769, 1512, 1457, 1331, 1018, 891, 774, 522, 386, 246, 154, 219, 427, 784, 921, 997, 1175, 1407, 1585, 1649, 1760, 1813, 1949, 1707, 1407, 1270, 1249, 1141, 922, 848, 622, 428, 342, 206, 146, 172, 315, 534, 679, 936, 1055, 1417, 1519, 1642, 1891, 1976, 1883, 1618, 1464, 1306, 1158, 1025, 724, 623, 372, 253, 175, 110, 202, 513, 1244, 2111, 1104, 817, 941, 1034, 1064, 1122, 1167, 1464, 1904, 2613, 1860, 1593, 1513, 1360, 916, 726, 547, 356, 243, 170, 193, 456, 839, 1423, 1026, 735, 81, 363, 652, 837, 1010, 1294, 1604, 2415, 1685, 1433, 1380, 1257, 876, 708, 573, 371, 249, 162, 164, 453, 1165, 2108, 1151, 811, 940, 1126, 1106, 1150, 1161, 1492, 1904, 2612, 1827, 1556, 1464, 1281, 884, 729, 572, 421, 266, 161, 193, 450, 1251, 2070, 1168, 779, 956, 1188, 1154, 1192, 1275, 1528, 1961, 2632, 1968, 1596, 1513, 1316, 919, 753, 629, 434, 327, 185, 178, 376, 556, 556, 144, 191, 54, 29, 18, 147, 576, 900, 1386, 1882, 1228, 1003, 542, 680, 603, 640, 585, 478, 346, 233, 146, 197, 388, 713, 785, 898, 996, 1076, 1118, 1183, 1254, 1308, 1176, 1054, 864, 775, 775, 752, 658, 699, 531, 450, 299, 148, 27, 55, 134, 74, 195, 330, 544, 630, 916, 962, 948, 385, 535, 651, 645, 624, 670, 625, 512, 434, 326, 184, 123, 117, 161, 436, 1070, 1888, 1021, 771, 796, 737, 815, 838, 884, 1069, 1274, 1987, 1377, 1026, 979, 906, 658, 488, 440, 283, 182, 150, 162, 394, 1005, 1883, 982, 684, 782, 881, 847, 903, 965, 1110, 1357, 2074, 1442, 1186, 1147, 948, 527, 294, 324, 287, 227, 146, 141, 402, 1060, 1907, 996, 717, 818, 907, 983, 963, 994, 1185, 1462, 2094, 1507, 1176, 1069, 1088, 798, 584, 524, 362, 242, 147, 154, 433, 1055, 1899, 1011, 696, 852, 926, 968, 1040, 1094, 1206, 1569, 2254, 1561, 1269, 1197, 1115, 806, 642, 560, 369, 251, 166, 153, 403, 1024, 1906, 1027, 751, 880, 1023, 1130, 1160, 1251, 1424, 1730, 2314, 1568, 1242, 1146, 1106, 851, 0, 0, 0, 0, 0, 0, 0, 0, 0, 0, 0, 0, 0, 0, 0, 0, 0, 0, 0, 0, 0, 0, 0, 0, 720, 517, 378, 296, 188, 112, 141, 259, 481, 632, 747, 963, 1145, 1355, 1511, 1579, 1690, 1596, 1335, 1180, 1077, 1001, 912, 656, 520, 346, 206, 161, 107, 166, 448, 1115, 1975, 1005, 790, 829, 971, 986, 993, 1100, 1318, 1664, 2357, 1618, 1464, 1289, 1215, 829, 0, 0, 0, 0, 0, 0, 0, 0, 0, 0, 0, 0, 0, 0, 0, 0, 0, 0, 0, 0, 0, 0, 0, 0, 639, 410, 136, 40, 47, 71, 194, 526, 1171, 740, 555, 608, 697, 798, 767, 848, 834, 1115, 1347, 1176, 1062, 1062, 1003, 679, 395, 158, 122, 78, 50, 49, 136, 174, 148, 56, 17, 25, 17, 18, 46, 56, 14, 30, 40, 19, 12, 21, 14, 26, 0, 0, 0, 0, 0, 0, 0, 0, 0, 0, 0, 0, 0, 0, 0, 0, 0, 0, 0, 0, 0, 0, 0, 0, 754, 679, 568, 372, 223, 137, 167, 309, 589, 628, 699, 768, 1034, 1094, 1113, 1229, 1263, 1379, 1226, 957, 877, 847, 885, 676, 655, 518, 370, 314, 189, 111, 117, 228, 395, 574, 563, 578, 769, 758, 810, 832, 616, 660, 752, 685, 711, 689, 690, 554, 456, 344, 187, 122, 109, 158, 419, 1004, 1699, 931, 683, 785, 888, 889, 886, 1084, 1193, 1472, 2022, 1466, 1292, 1189, 1023, 702, 587, 487, 330, 205, 133, 162, 402, 1066, 1910, 990, 710, 789, 890, 912, 928, 980, 1188, 1420, 2159, 1529, 1208, 1163, 1126, 718, 612, 517, 327, 210, 164, 135, 362, 1047, 1916, 1019, 779, 892, 963, 1028, 1001, 1063, 1137, 1532, 2200, 1464, 1269, 1239, 1074, 757, 610, 489, 313, 219, 154, 172, 357, 883, 1686, 1300, 782, 770, 942, 883, 899, 971, 1123, 1416, 2034, 1448, 1146, 1123, 1061, 721, 683, 520, 376, 262, 171, 151, 412, 939, 1692, 991, 699, 834, 886, 920, 915, 995, 1126, 1346, 1956, 1303, 995, 907, 894, 687, 626, 597, 456, 288, 195, 129, 151, 315, 530, 644, 733, 830, 994, 1037, 969, 1018, 974, 1031, 877, 735, 644, 685, 655, 576, 592, 443, 335, 258, 165, 92, 114, 191, 371, 457, 583, 645, 776, 905, 1054, 1047, 1026, 1039, 902, 759, 719, 682, 632, 532, 457, 277, 190, 133, 88, 167, 418, 991, 1751, 889, 651, 745, 785, 785, 793, 839, 968, 1233, 1904, 1304, 1030, 1019, 910, 629, 478, 422, 286, 202, 119, 141, 369, 934, 1818, 955, 659, 699, 788, 798, 790, 861, 967, 1269, 1857, 1317, 1078, 1020, 922, 378, 119, 159, 129, 112, 97, 118, 299, 788, 1622, 867, 611, 649, 697, 623, 474, 550, 755, 1101, 1679, 1113, 936, 838, 825, 571, 443, 382, 271, 164, 121, 133, 332, 848, 1671, 883, 603, 644, 717, 678, 692, 716, 759, 1101, 1591, 1032, 777, 759, 691, 488, 470, 401, 279, 191, 109, 129, 339, 727, 1516, 800, 582, 635, 664, 731, 719, 752, 891, 1101, 1548, 1007, 767, 679, 729, 548, 499, 507, 335, 272, 151, 95, 79, 30, 33, 24, 62, 114, 167, 241, 298, 330, 436, 435, 426, 420, 349, 392, 396, 386, 420, 370, 285, 184, 138, 88, 75, 142, 250, 355, 430, 522, 700, 675, 777, 846, 872, 813, 663, 616, 570, 546, 496, 379, 387, 214, 175, 119, 99, 115, 339, 819, 1524, 795, 586, 643, 752, 718, 796, 794, 935, 1156, 1708, 1181, 943, 955, 846, 563, 496, 408, 299, 183, 95, 140, 317, 815, 1577, 800, 616, 623, 672, 671, 600, 666, 775, 1033, 1538, 1023, 825, 777, 740, 593, 450, 434, 275, 167, 128, 140, 287, 796, 1540, 798, 583, 608, 635, 681, 675, 798, 808, 1099, 1536, 1039, 842, 846, 804, 555, 517, 485, 319, 195, 107, 126, 328, 800, 1635, 825, 595, 623, 661, 645, 668, 652, 748, 996, 1577, 1026, 818, 792, 726, 559, 474, 456, 300, 213, 116, 149, 293, 750, 1527, 809, 554, 642, 720, 740, 761, 768, 837, 1047, 1384, 1003, 764, 694, 712, 584], \"xaxis\": \"x2\", \"yaxis\": \"y2\"}],\n",
              "                        {\"barmode\": \"relative\", \"legend\": {\"tracegroupgap\": 0}, \"margin\": {\"t\": 60}, \"template\": {\"data\": {\"bar\": [{\"error_x\": {\"color\": \"#2a3f5f\"}, \"error_y\": {\"color\": \"#2a3f5f\"}, \"marker\": {\"line\": {\"color\": \"#E5ECF6\", \"width\": 0.5}}, \"type\": \"bar\"}], \"barpolar\": [{\"marker\": {\"line\": {\"color\": \"#E5ECF6\", \"width\": 0.5}}, \"type\": \"barpolar\"}], \"carpet\": [{\"aaxis\": {\"endlinecolor\": \"#2a3f5f\", \"gridcolor\": \"white\", \"linecolor\": \"white\", \"minorgridcolor\": \"white\", \"startlinecolor\": \"#2a3f5f\"}, \"baxis\": {\"endlinecolor\": \"#2a3f5f\", \"gridcolor\": \"white\", \"linecolor\": \"white\", \"minorgridcolor\": \"white\", \"startlinecolor\": \"#2a3f5f\"}, \"type\": \"carpet\"}], \"choropleth\": [{\"colorbar\": {\"outlinewidth\": 0, \"ticks\": \"\"}, \"type\": \"choropleth\"}], \"contour\": [{\"colorbar\": {\"outlinewidth\": 0, \"ticks\": \"\"}, \"colorscale\": [[0.0, \"#0d0887\"], [0.1111111111111111, \"#46039f\"], [0.2222222222222222, \"#7201a8\"], [0.3333333333333333, \"#9c179e\"], [0.4444444444444444, \"#bd3786\"], [0.5555555555555556, \"#d8576b\"], [0.6666666666666666, \"#ed7953\"], [0.7777777777777778, \"#fb9f3a\"], [0.8888888888888888, \"#fdca26\"], [1.0, \"#f0f921\"]], \"type\": \"contour\"}], \"contourcarpet\": [{\"colorbar\": {\"outlinewidth\": 0, \"ticks\": \"\"}, \"type\": \"contourcarpet\"}], \"heatmap\": [{\"colorbar\": {\"outlinewidth\": 0, \"ticks\": \"\"}, \"colorscale\": [[0.0, \"#0d0887\"], [0.1111111111111111, \"#46039f\"], [0.2222222222222222, \"#7201a8\"], [0.3333333333333333, \"#9c179e\"], [0.4444444444444444, \"#bd3786\"], [0.5555555555555556, \"#d8576b\"], [0.6666666666666666, \"#ed7953\"], [0.7777777777777778, \"#fb9f3a\"], [0.8888888888888888, \"#fdca26\"], [1.0, \"#f0f921\"]], \"type\": \"heatmap\"}], \"heatmapgl\": [{\"colorbar\": {\"outlinewidth\": 0, \"ticks\": \"\"}, \"colorscale\": [[0.0, \"#0d0887\"], [0.1111111111111111, \"#46039f\"], [0.2222222222222222, \"#7201a8\"], [0.3333333333333333, \"#9c179e\"], [0.4444444444444444, \"#bd3786\"], [0.5555555555555556, \"#d8576b\"], [0.6666666666666666, \"#ed7953\"], [0.7777777777777778, \"#fb9f3a\"], [0.8888888888888888, \"#fdca26\"], [1.0, \"#f0f921\"]], \"type\": \"heatmapgl\"}], \"histogram\": [{\"marker\": {\"colorbar\": {\"outlinewidth\": 0, \"ticks\": \"\"}}, \"type\": \"histogram\"}], \"histogram2d\": [{\"colorbar\": {\"outlinewidth\": 0, \"ticks\": \"\"}, \"colorscale\": [[0.0, \"#0d0887\"], [0.1111111111111111, \"#46039f\"], [0.2222222222222222, \"#7201a8\"], [0.3333333333333333, \"#9c179e\"], [0.4444444444444444, \"#bd3786\"], [0.5555555555555556, \"#d8576b\"], [0.6666666666666666, \"#ed7953\"], [0.7777777777777778, \"#fb9f3a\"], [0.8888888888888888, \"#fdca26\"], [1.0, \"#f0f921\"]], \"type\": \"histogram2d\"}], \"histogram2dcontour\": [{\"colorbar\": {\"outlinewidth\": 0, \"ticks\": \"\"}, \"colorscale\": [[0.0, \"#0d0887\"], [0.1111111111111111, \"#46039f\"], [0.2222222222222222, \"#7201a8\"], [0.3333333333333333, \"#9c179e\"], [0.4444444444444444, \"#bd3786\"], [0.5555555555555556, \"#d8576b\"], [0.6666666666666666, \"#ed7953\"], [0.7777777777777778, \"#fb9f3a\"], [0.8888888888888888, \"#fdca26\"], [1.0, \"#f0f921\"]], \"type\": \"histogram2dcontour\"}], \"mesh3d\": [{\"colorbar\": {\"outlinewidth\": 0, \"ticks\": \"\"}, \"type\": \"mesh3d\"}], \"parcoords\": [{\"line\": {\"colorbar\": {\"outlinewidth\": 0, \"ticks\": \"\"}}, \"type\": \"parcoords\"}], \"pie\": [{\"automargin\": true, \"type\": \"pie\"}], \"scatter\": [{\"marker\": {\"colorbar\": {\"outlinewidth\": 0, \"ticks\": \"\"}}, \"type\": \"scatter\"}], \"scatter3d\": [{\"line\": {\"colorbar\": {\"outlinewidth\": 0, \"ticks\": \"\"}}, \"marker\": {\"colorbar\": {\"outlinewidth\": 0, \"ticks\": \"\"}}, \"type\": \"scatter3d\"}], \"scattercarpet\": [{\"marker\": {\"colorbar\": {\"outlinewidth\": 0, \"ticks\": \"\"}}, \"type\": \"scattercarpet\"}], \"scattergeo\": [{\"marker\": {\"colorbar\": {\"outlinewidth\": 0, \"ticks\": \"\"}}, \"type\": \"scattergeo\"}], \"scattergl\": [{\"marker\": {\"colorbar\": {\"outlinewidth\": 0, \"ticks\": \"\"}}, \"type\": \"scattergl\"}], \"scattermapbox\": [{\"marker\": {\"colorbar\": {\"outlinewidth\": 0, \"ticks\": \"\"}}, \"type\": \"scattermapbox\"}], \"scatterpolar\": [{\"marker\": {\"colorbar\": {\"outlinewidth\": 0, \"ticks\": \"\"}}, \"type\": \"scatterpolar\"}], \"scatterpolargl\": [{\"marker\": {\"colorbar\": {\"outlinewidth\": 0, \"ticks\": \"\"}}, \"type\": \"scatterpolargl\"}], \"scatterternary\": [{\"marker\": {\"colorbar\": {\"outlinewidth\": 0, \"ticks\": \"\"}}, \"type\": \"scatterternary\"}], \"surface\": [{\"colorbar\": {\"outlinewidth\": 0, \"ticks\": \"\"}, \"colorscale\": [[0.0, \"#0d0887\"], [0.1111111111111111, \"#46039f\"], [0.2222222222222222, \"#7201a8\"], [0.3333333333333333, \"#9c179e\"], [0.4444444444444444, \"#bd3786\"], [0.5555555555555556, \"#d8576b\"], [0.6666666666666666, \"#ed7953\"], [0.7777777777777778, \"#fb9f3a\"], [0.8888888888888888, \"#fdca26\"], [1.0, \"#f0f921\"]], \"type\": \"surface\"}], \"table\": [{\"cells\": {\"fill\": {\"color\": \"#EBF0F8\"}, \"line\": {\"color\": \"white\"}}, \"header\": {\"fill\": {\"color\": \"#C8D4E3\"}, \"line\": {\"color\": \"white\"}}, \"type\": \"table\"}]}, \"layout\": {\"annotationdefaults\": {\"arrowcolor\": \"#2a3f5f\", \"arrowhead\": 0, \"arrowwidth\": 1}, \"coloraxis\": {\"colorbar\": {\"outlinewidth\": 0, \"ticks\": \"\"}}, \"colorscale\": {\"diverging\": [[0, \"#8e0152\"], [0.1, \"#c51b7d\"], [0.2, \"#de77ae\"], [0.3, \"#f1b6da\"], [0.4, \"#fde0ef\"], [0.5, \"#f7f7f7\"], [0.6, \"#e6f5d0\"], [0.7, \"#b8e186\"], [0.8, \"#7fbc41\"], [0.9, \"#4d9221\"], [1, \"#276419\"]], \"sequential\": [[0.0, \"#0d0887\"], [0.1111111111111111, \"#46039f\"], [0.2222222222222222, \"#7201a8\"], [0.3333333333333333, \"#9c179e\"], [0.4444444444444444, \"#bd3786\"], [0.5555555555555556, \"#d8576b\"], [0.6666666666666666, \"#ed7953\"], [0.7777777777777778, \"#fb9f3a\"], [0.8888888888888888, \"#fdca26\"], [1.0, \"#f0f921\"]], \"sequentialminus\": [[0.0, \"#0d0887\"], [0.1111111111111111, \"#46039f\"], [0.2222222222222222, \"#7201a8\"], [0.3333333333333333, \"#9c179e\"], [0.4444444444444444, \"#bd3786\"], [0.5555555555555556, \"#d8576b\"], [0.6666666666666666, \"#ed7953\"], [0.7777777777777778, \"#fb9f3a\"], [0.8888888888888888, \"#fdca26\"], [1.0, \"#f0f921\"]]}, \"colorway\": [\"#636efa\", \"#EF553B\", \"#00cc96\", \"#ab63fa\", \"#FFA15A\", \"#19d3f3\", \"#FF6692\", \"#B6E880\", \"#FF97FF\", \"#FECB52\"], \"font\": {\"color\": \"#2a3f5f\"}, \"geo\": {\"bgcolor\": \"white\", \"lakecolor\": \"white\", \"landcolor\": \"#E5ECF6\", \"showlakes\": true, \"showland\": true, \"subunitcolor\": \"white\"}, \"hoverlabel\": {\"align\": \"left\"}, \"hovermode\": \"closest\", \"mapbox\": {\"style\": \"light\"}, \"paper_bgcolor\": \"white\", \"plot_bgcolor\": \"#E5ECF6\", \"polar\": {\"angularaxis\": {\"gridcolor\": \"white\", \"linecolor\": \"white\", \"ticks\": \"\"}, \"bgcolor\": \"#E5ECF6\", \"radialaxis\": {\"gridcolor\": \"white\", \"linecolor\": \"white\", \"ticks\": \"\"}}, \"scene\": {\"xaxis\": {\"backgroundcolor\": \"#E5ECF6\", \"gridcolor\": \"white\", \"gridwidth\": 2, \"linecolor\": \"white\", \"showbackground\": true, \"ticks\": \"\", \"zerolinecolor\": \"white\"}, \"yaxis\": {\"backgroundcolor\": \"#E5ECF6\", \"gridcolor\": \"white\", \"gridwidth\": 2, \"linecolor\": \"white\", \"showbackground\": true, \"ticks\": \"\", \"zerolinecolor\": \"white\"}, \"zaxis\": {\"backgroundcolor\": \"#E5ECF6\", \"gridcolor\": \"white\", \"gridwidth\": 2, \"linecolor\": \"white\", \"showbackground\": true, \"ticks\": \"\", \"zerolinecolor\": \"white\"}}, \"shapedefaults\": {\"line\": {\"color\": \"#2a3f5f\"}}, \"ternary\": {\"aaxis\": {\"gridcolor\": \"white\", \"linecolor\": \"white\", \"ticks\": \"\"}, \"baxis\": {\"gridcolor\": \"white\", \"linecolor\": \"white\", \"ticks\": \"\"}, \"bgcolor\": \"#E5ECF6\", \"caxis\": {\"gridcolor\": \"white\", \"linecolor\": \"white\", \"ticks\": \"\"}}, \"title\": {\"x\": 0.05}, \"xaxis\": {\"automargin\": true, \"gridcolor\": \"white\", \"linecolor\": \"white\", \"ticks\": \"\", \"title\": {\"standoff\": 15}, \"zerolinecolor\": \"white\", \"zerolinewidth\": 2}, \"yaxis\": {\"automargin\": true, \"gridcolor\": \"white\", \"linecolor\": \"white\", \"ticks\": \"\", \"title\": {\"standoff\": 15}, \"zerolinecolor\": \"white\", \"zerolinewidth\": 2}}}, \"xaxis\": {\"anchor\": \"y\", \"domain\": [0.0, 1.0], \"title\": {\"text\": \"Rented_Bike_Count\"}}, \"xaxis2\": {\"anchor\": \"y2\", \"domain\": [0.0, 1.0], \"matches\": \"x\", \"showgrid\": true, \"showticklabels\": false}, \"yaxis\": {\"anchor\": \"x\", \"domain\": [0.0, 0.7326], \"title\": {\"text\": \"count\"}}, \"yaxis2\": {\"anchor\": \"x2\", \"domain\": [0.7426, 1.0], \"matches\": \"y2\", \"showgrid\": false, \"showline\": false, \"showticklabels\": false, \"ticks\": \"\"}},\n",
              "                        {\"responsive\": true}\n",
              "                    ).then(function(){\n",
              "                            \n",
              "var gd = document.getElementById('e4976e82-73dc-4fad-a2c8-bee827455b98');\n",
              "var x = new MutationObserver(function (mutations, observer) {{\n",
              "        var display = window.getComputedStyle(gd).display;\n",
              "        if (!display || display === 'none') {{\n",
              "            console.log([gd, 'removed!']);\n",
              "            Plotly.purge(gd);\n",
              "            observer.disconnect();\n",
              "        }}\n",
              "}});\n",
              "\n",
              "// Listen for the removal of the full notebook cells\n",
              "var notebookContainer = gd.closest('#notebook-container');\n",
              "if (notebookContainer) {{\n",
              "    x.observe(notebookContainer, {childList: true});\n",
              "}}\n",
              "\n",
              "// Listen for the clearing of the current output cell\n",
              "var outputEl = gd.closest('.output');\n",
              "if (outputEl) {{\n",
              "    x.observe(outputEl, {childList: true});\n",
              "}}\n",
              "\n",
              "                        })\n",
              "                };\n",
              "                \n",
              "            </script>\n",
              "        </div>\n",
              "</body>\n",
              "</html>"
            ]
          },
          "metadata": {}
        }
      ]
    },
    {
      "cell_type": "code",
      "metadata": {
        "colab": {
          "base_uri": "https://localhost:8080/",
          "height": 542
        },
        "id": "6SIq9YrPv6gQ",
        "outputId": "b1eccd3f-7cf4-4ad5-f43c-a15425f9a0f1"
      },
      "source": [
        "#square root transformation\n",
        "px.histogram(bike_data, x=np.sqrt(bike_data[\"Rented_Bike_Count\"]),color='Year',marginal=\"violin\", title='Probalility density of Square root transformation of Number of Rented Bikes',histnorm='probability density')"
      ],
      "execution_count": 29,
      "outputs": [
        {
          "output_type": "display_data",
          "data": {
            "text/html": [
              "<html>\n",
              "<head><meta charset=\"utf-8\" /></head>\n",
              "<body>\n",
              "    <div>\n",
              "            <script src=\"https://cdnjs.cloudflare.com/ajax/libs/mathjax/2.7.5/MathJax.js?config=TeX-AMS-MML_SVG\"></script><script type=\"text/javascript\">if (window.MathJax) {MathJax.Hub.Config({SVG: {font: \"STIX-Web\"}});}</script>\n",
              "                <script type=\"text/javascript\">window.PlotlyConfig = {MathJaxConfig: 'local'};</script>\n",
              "        <script src=\"https://cdn.plot.ly/plotly-latest.min.js\"></script>    \n",
              "            <div id=\"3324a647-162d-48b7-a660-2930d102e5c9\" class=\"plotly-graph-div\" style=\"height:525px; width:100%;\"></div>\n",
              "            <script type=\"text/javascript\">\n",
              "                \n",
              "                    window.PLOTLYENV=window.PLOTLYENV || {};\n",
              "                    \n",
              "                if (document.getElementById(\"3324a647-162d-48b7-a660-2930d102e5c9\")) {\n",
              "                    Plotly.newPlot(\n",
              "                        '3324a647-162d-48b7-a660-2930d102e5c9',\n",
              "                        [{\"alignmentgroup\": \"True\", \"bingroup\": \"x\", \"histnorm\": \"probability density\", \"hoverlabel\": {\"namelength\": 0}, \"hovertemplate\": \"Year=2017<br>x=%{x}<br>count=%{y}\", \"legendgroup\": \"Year=2017\", \"marker\": {\"color\": \"#636efa\"}, \"name\": \"Year=2017\", \"offsetgroup\": \"Year=2017\", \"orientation\": \"v\", \"showlegend\": true, \"type\": \"histogram\", \"x\": [15.937377450509228, 14.2828568570857, 13.152946437965905, 10.344080432788601, 8.831760866327848, 10.0, 13.45362404707371, 21.447610589527216, 30.495901363953813, 22.135943621178654, 18.411952639521967, 18.973665961010276, 21.18962010041709, 21.236760581595302, 21.142374511865974, 21.517434791350013, 22.0, 23.558437978779494, 29.359836511806396, 24.49489742783178, 20.639767440550294, 20.12461179749811, 19.949937343260004, 17.97220075561143, 18.110770276274835, 17.549928774784245, 16.186414056238647, 12.922847983320086, 9.433981132056603, 8.888194417315589, 8.366600265340756, 12.083045973594572, 14.798648586948742, 18.110770276274835, 18.275666882497067, 19.697715603592208, 21.88606862823929, 24.61706725018234, 24.71841418861655, 24.269322199023193, 24.859605789312106, 23.916521486202797, 22.11334438749598, 19.621416870348583, 18.947295321496416, 19.4164878389476, 18.81488772222678, 19.131126469708992, 18.49324200890693, 15.066519173319364, 15.0996688705415, 10.816653826391969, 8.717797887081348, 5.656854249492381, 3.605551275463989, 4.69041575982343, 9.219544457292887, 12.328828005937952, 14.142135623730951, 16.522711641858304, 18.24828759089466, 22.24859546128699, 23.727621035409346, 24.919871588754223, 24.454038521274967, 23.345235059857504, 21.047565179849187, 20.54263858417414, 19.924858845171276, 19.621416870348583, 18.708286933869708, 17.406895185529212, 16.881943016134134, 13.638181696985855, 10.583005244258363, 8.06225774829855, 6.4031242374328485, 9.055385138137417, 14.142135623730951, 22.315913604421397, 30.610455730027933, 22.561028345356956, 17.635192088548397, 19.467922333931785, 19.82422760159901, 19.77371993328519, 18.384776310850235, 18.466185312619388, 19.364916731037084, 22.693611435820433, 28.407745422683583, 23.83275057562597, 19.949937343260004, 19.924858845171276, 18.788294228055936, 15.748015748023622, 14.696938456699069, 14.071247279470288, 11.135528725660043, 7.874007874011811, 6.48074069840786, 9.055385138137417, 13.114877048604, 19.519221295943137, 28.495613697550013, 21.494185260204677, 16.401219466856727, 18.275666882497067, 17.916472867168917, 18.027756377319946, 18.275666882497067, 18.788294228055936, 20.85665361461421, 23.0, 28.089143810376278, 24.43358344574123, 20.445048300260872, 20.37154878746336, 19.82422760159901, 15.620499351813308, 12.041594578792296, 12.0, 10.816653826391969, 8.831760866327848, 7.615773105863909, 9.327379053088816, 11.916375287812984, 19.467922333931785, 28.319604517012593, 20.97617696340303, 17.52141546793523, 19.519221295943137, 20.12461179749811, 21.02379604162864, 20.396078054371138, 20.29778313018444, 22.271057451320086, 15.459624833740307, 14.2828568570857, 14.317821063276353, 13.784048752090222, 12.84523257866513, 14.89966442575134, 13.892443989449804, 14.071247279470288, 14.7648230602334, 12.206555615733702, 10.099504938362077, 7.874007874011811, 9.1104335791443, 11.704699910719626, 19.157244060668017, 27.459060435491963, 20.37154878746336, 17.916472867168917, 18.24828759089466, 20.760539492026695, 19.849433241279208, 19.748417658131498, 20.73644135332772, 21.702534414210707, 23.49468024894146, 28.19574435974337, 22.516660498395403, 19.748417658131498, 20.049937655763422, 19.72308292331602, 16.09347693943108, 15.264337522473747, 15.165750888103101, 11.445523142259598, 9.9498743710662, 8.426149773176359, 9.16515138991168, 12.569805089976535, 19.672315572906, 27.92848008753788, 19.87460691435179, 16.15549442140351, 17.60681686165901, 18.841443681416774, 18.81488772222678, 18.708286933869708, 19.026297590440446, 20.024984394500787, 22.360679774997898, 27.422618401604176, 21.840329667841555, 19.595917942265423, 18.33030277982336, 18.627936010197157, 16.583123951777, 16.34013463836819, 17.204650534085253, 15.394804318340652, 13.0, 9.797958971132712, 7.483314773547883, 8.717797887081348, 11.269427669584644, 14.89966442575134, 17.05872210923198, 16.522711641858304, 18.734993995195193, 20.663978319771825, 20.760539492026695, 22.045407685048602, 23.853720883753127, 23.366642891095847, 21.93171219946131, 19.595917942265423, 16.583123951777, 17.26267650163207, 17.916472867168917, 17.0, 16.278820596099706, 18.05547008526779, 16.73320053068151, 15.588457268119896, 13.0, 8.426149773176359, 3.605551275463989, 3.0, 4.47213595499958, 5.916079783099616, 5.5677643628300215, 4.358898943540674, 7.615773105863909, 10.908712114635714, 13.490737563232042, 15.329709716755891, 13.416407864998739, 14.628738838327793, 15.033296378372908, 14.491376746189438, 13.45362404707371, 12.84523257866513, 12.922847983320086, 12.328828005937952, 12.165525060596439, 11.180339887498949, 10.535653752852738, 8.18535277187245, 6.708203932499369, 6.6332495807108, 9.273618495495704, 11.661903789690601, 18.027756377319946, 25.553864678361276, 18.05547008526779, 14.560219778561036, 15.033296378372908, 15.716233645501712, 15.524174696260024, 15.905973720586866, 16.401219466856727, 16.64331697709324, 19.0, 23.600847442411894, 19.261360284258224, 15.937377450509228, 16.30950643030009, 14.89966442575134, 13.19090595827292, 11.532562594670797, 11.269427669584644, 9.746794344808963, 7.3484692283495345, 6.782329983125268, 8.06225774829855, 10.198039027185569, 16.73320053068151, 24.08318915758459, 16.583123951777, 13.564659966250536, 14.177446878757825, 15.0996688705415, 15.0, 16.06237840420901, 15.811388300841896, 15.748015748023622, 17.46424919657298, 23.0, 18.708286933869708, 16.1245154965971, 16.431676725154983, 16.0, 13.152946437965905, 12.96148139681572, 13.527749258468683, 10.954451150103322, 8.888194417315589, 6.4031242374328485, 8.246211251235321, 10.44030650891055, 17.60681686165901, 24.310491562286437, 18.439088914585774, 14.212670403551895, 15.84297951775486, 16.34013463836819, 15.84297951775486, 15.491933384829668, 15.491933384829668, 16.673332000533065, 19.79898987322333, 23.173260452512935, 19.313207915827967, 16.217274740226856, 16.46207763315433, 16.46207763315433, 13.19090595827292, 13.076696830622021, 13.038404810405298, 10.344080432788601, 8.94427190999916, 7.211102550927978, 7.874007874011811, 10.392304845413264, 16.703293088490067, 24.919871588754223, 17.46424919657298, 13.74772708486752, 15.716233645501712, 16.673332000533065, 16.792855623746664, 17.146428199482248, 17.349351572897472, 18.303005217723125, 19.544820285692065, 24.73863375370596, 20.248456731316587, 16.64331697709324, 17.776388834631177, 17.578395831246947, 14.52583904633395, 15.066519173319364, 15.524174696260024, 12.727922061357855, 10.488088481701515, 8.306623862918075, 8.246211251235321, 11.357816691600547, 16.881943016134134, 25.65151067676132, 18.16590212458495, 14.866068747318506, 16.703293088490067, 17.578395831246947, 18.027756377319946, 18.138357147217054, 18.49324200890693, 18.81488772222678, 21.540659228538015, 26.115129714401192, 21.236760581595302, 17.88854381999832, 17.320508075688775, 17.204650534085253, 15.716233645501712, 14.730919862656235, 17.378147196982766, 15.0996688705415, 11.357816691600547, 8.94427190999916, 6.708203932499369, 8.12403840463596, 9.486832980505138, 13.784048752090222, 13.96424004376894, 14.177446878757825, 15.459624833740307, 15.874507866387544, 17.204650534085253, 17.08800749063506, 17.05872210923198, 16.06237840420901, 16.64331697709324, 14.560219778561036, 13.152946437965905, 11.958260743101398, 12.609520212918492, 12.449899597988733, 11.916375287812984, 13.228756555322953, 12.083045973594572, 11.489125293076057, 10.0, 6.4031242374328485, 5.5677643628300215, 6.244997998398398, 7.280109889280518, 9.695359714832659, 11.045361017187261, 11.916375287812984, 13.74772708486752, 14.696938456699069, 14.933184523068078, 16.3707055437449, 16.673332000533065, 16.0, 16.30950643030009, 14.2828568570857, 12.529964086141668, 12.884098726725126, 12.96148139681572, 13.114877048604, 11.74734012447073, 12.288205727444508, 9.848857801796104, 6.164414002968976, 5.656854249492381, 5.385164807134504, 5.196152422706632, 6.708203932499369, 9.797958971132712, 12.083045973594572, 7.211102550927978, 6.0, 6.6332495807108, 7.874007874011811, 8.717797887081348, 10.770329614269007, 11.704699910719626, 13.45362404707371, 13.228756555322953, 16.76305461424021, 14.071247279470288, 12.84523257866513, 12.165525060596439, 12.649110640673518, 11.313708498984761, 11.045361017187261, 11.045361017187261, 9.643650760992955, 7.416198487095663, 6.244997998398398, 7.416198487095663, 8.831760866327848, 12.84523257866513, 19.748417658131498, 14.106735979665885, 12.288205727444508, 13.19090595827292, 13.820274961085254, 13.74772708486752, 13.341664064126334, 13.96424004376894, 14.52583904633395, 16.0, 19.595917942265423, 16.61324772583615, 15.0, 14.966629547095765, 14.594519519326424, 12.206555615733702, 11.916375287812984, 13.114877048604, 10.392304845413264, 8.426149773176359, 6.164414002968976, 7.483314773547883, 9.848857801796104, 14.594519519326424, 21.587033144922902, 15.459624833740307, 12.727922061357855, 14.2828568570857, 14.45683229480096, 15.0996688705415, 15.588457268119896, 15.491933384829668, 15.0, 15.394804318340652, 18.138357147217054, 13.784048752090222, 12.84523257866513, 14.035668847618199, 13.564659966250536, 12.36931687685298, 12.884098726725126, 13.74772708486752, 11.489125293076057, 8.888194417315589, 7.615773105863909, 7.0, 9.16515138991168, 13.341664064126334, 20.566963801203133, 16.278820596099706, 13.0, 15.588457268119896, 17.029386365926403, 16.881943016134134, 15.968719422671311, 17.776388834631177, 17.349351572897472, 19.131126469708992, 23.043437243605826, 18.841443681416774, 16.97056274847714, 15.748015748023622, 15.874507866387544, 14.560219778561036, 14.0, 15.811388300841896, 12.68857754044952, 9.9498743710662, 8.0, 8.717797887081348, 10.677078252031311, 16.822603841260722, 23.323807579381203, 17.26267650163207, 15.748015748023622, 16.673332000533065, 17.349351572897472, 17.88854381999832, 18.05547008526779, 19.6468827043885, 20.396078054371138, 21.840329667841555, 25.903667693977237, 21.93171219946131, 17.97220075561143, 17.578395831246947, 17.72004514666935, 15.7797338380595, 16.792855623746664, 18.35755975068582, 17.663521732655695, 15.165750888103101, 10.954451150103322, 7.681145747868608, 7.937253933193772, 9.9498743710662, 13.711309200802088, 15.459624833740307, 15.329709716755891, 16.792855623746664, 18.027756377319946, 20.566963801203133, 20.12461179749811, 21.047565179849187, 21.748563170931547, 21.283796653792763, 18.439088914585774, 16.1245154965971, 16.06237840420901, 16.703293088490067, 16.792855623746664, 15.394804318340652, 16.30950643030009, 15.84297951775486, 14.0, 12.206555615733702, 8.888194417315589, 6.6332495807108, 3.4641016151377544, 1.7320508075688772, 2.0, 1.7320508075688772, 2.0, 3.0, 2.0, 2.6457513110645907, 5.291502622129181, 6.164414002968976, 7.3484692283495345, 10.198039027185569, 11.313708498984761, 11.489125293076057, 10.770329614269007, 12.041594578792296, 10.488088481701515, 11.313708498984761, 12.649110640673518, 11.489125293076057, 10.723805294763608, 10.0, 8.48528137423857, 5.656854249492381, 7.681145747868608, 7.810249675906654, 9.695359714832659, 10.344080432788601, 11.532562594670797, 13.379088160259652, 14.866068747318506, 15.620499351813308, 16.55294535724685, 17.86057109949175, 16.492422502470642, 16.1245154965971, 15.394804318340652, 13.564659966250536, 13.45362404707371, 13.601470508735444, 13.2664991614216, 13.0, 13.341664064126334, 11.269427669584644, 9.219544457292887, 8.48528137423857, 7.0, 8.06225774829855, 10.954451150103322, 17.204650534085253, 24.041630560342615, 17.11724276862369, 13.416407864998739, 15.811388300841896, 16.186414056238647, 16.186414056238647, 16.46207763315433, 15.684387141358123, 16.792855623746664, 18.708286933869708, 21.93171219946131, 17.804493814764857, 15.874507866387544, 14.832396974191326, 14.594519519326424, 12.489995996796797, 11.532562594670797, 11.916375287812984, 9.643650760992955, 9.0, 7.416198487095663, 8.12403840463596, 10.246950765959598, 16.186414056238647, 22.40535650240808, 16.703293088490067, 12.083045973594572, 14.594519519326424, 15.165750888103101, 16.06237840420901, 15.198684153570664, 15.0996688705415, 16.401219466856727, 17.72004514666935, 21.587033144922902, 17.74823934929885, 16.186414056238647, 15.556349186104045, 15.588457268119896, 14.696938456699069, 12.806248474865697, 13.0, 12.767145334803704, 9.273618495495704, 7.0710678118654755, 7.810249675906654, 10.14889156509222, 16.0312195418814, 23.53720459187964, 18.05547008526779, 15.0, 16.97056274847714, 16.911534525287763, 17.349351572897472, 17.635192088548397, 17.406895185529212, 19.748417658131498, 20.174241001832016, 23.49468024894146, 20.049937655763422, 17.86057109949175, 18.2208671582886, 16.881943016134134, 16.1245154965971, 15.264337522473747, 16.401219466856727, 14.491376746189438, 11.61895003862225, 9.219544457292887, 8.18535277187245, 11.313708498984761, 17.0, 25.219040425836983, 18.788294228055936, 15.874507866387544, 17.804493814764857, 19.05255888325765, 19.235384061671343, 20.46948949045872, 20.639767440550294, 22.44994432064365, 23.108440016582687, 23.958297101421877, 19.87460691435179, 17.08800749063506, 16.792855623746664, 17.146428199482248, 15.362291495737216, 15.491933384829668, 15.297058540778355, 13.856406460551018, 11.269427669584644, 9.273618495495704, 7.211102550927978, 7.874007874011811, 9.38083151964686, 12.727922061357855, 14.966629547095765, 14.422205101855956, 15.394804318340652, 16.55294535724685, 18.24828759089466, 18.867962264113206, 18.35755975068582, 18.57417562100671, 13.527749258468683, 6.708203932499369, 6.324555320336759, 8.12403840463596, 8.0, 5.477225575051661, 6.48074069840786, 6.557438524302, 6.557438524302, 8.06225774829855, 8.06225774829855, 5.656854249492381, 4.69041575982343, 5.0, 6.244997998398398, 9.16515138991168, 10.14889156509222, 10.488088481701515, 11.916375287812984, 14.45683229480096, 16.34013463836819, 16.186414056238647, 17.320508075688775, 16.492422502470642, 15.491933384829668, 14.66287829861518, 12.767145334803704, 12.68857754044952, 13.379088160259652, 12.449899597988733, 15.066519173319364], \"xaxis\": \"x\", \"yaxis\": \"y\"}, {\"alignmentgroup\": \"True\", \"hoverlabel\": {\"namelength\": 0}, \"hovertemplate\": \"Year=2017<br>x=%{x}\", \"legendgroup\": \"Year=2017\", \"marker\": {\"color\": \"#636efa\"}, \"name\": \"Year=2017\", \"offsetgroup\": \"Year=2017\", \"scalegroup\": \"x\", \"showlegend\": false, \"type\": \"violin\", \"x\": [15.937377450509228, 14.2828568570857, 13.152946437965905, 10.344080432788601, 8.831760866327848, 10.0, 13.45362404707371, 21.447610589527216, 30.495901363953813, 22.135943621178654, 18.411952639521967, 18.973665961010276, 21.18962010041709, 21.236760581595302, 21.142374511865974, 21.517434791350013, 22.0, 23.558437978779494, 29.359836511806396, 24.49489742783178, 20.639767440550294, 20.12461179749811, 19.949937343260004, 17.97220075561143, 18.110770276274835, 17.549928774784245, 16.186414056238647, 12.922847983320086, 9.433981132056603, 8.888194417315589, 8.366600265340756, 12.083045973594572, 14.798648586948742, 18.110770276274835, 18.275666882497067, 19.697715603592208, 21.88606862823929, 24.61706725018234, 24.71841418861655, 24.269322199023193, 24.859605789312106, 23.916521486202797, 22.11334438749598, 19.621416870348583, 18.947295321496416, 19.4164878389476, 18.81488772222678, 19.131126469708992, 18.49324200890693, 15.066519173319364, 15.0996688705415, 10.816653826391969, 8.717797887081348, 5.656854249492381, 3.605551275463989, 4.69041575982343, 9.219544457292887, 12.328828005937952, 14.142135623730951, 16.522711641858304, 18.24828759089466, 22.24859546128699, 23.727621035409346, 24.919871588754223, 24.454038521274967, 23.345235059857504, 21.047565179849187, 20.54263858417414, 19.924858845171276, 19.621416870348583, 18.708286933869708, 17.406895185529212, 16.881943016134134, 13.638181696985855, 10.583005244258363, 8.06225774829855, 6.4031242374328485, 9.055385138137417, 14.142135623730951, 22.315913604421397, 30.610455730027933, 22.561028345356956, 17.635192088548397, 19.467922333931785, 19.82422760159901, 19.77371993328519, 18.384776310850235, 18.466185312619388, 19.364916731037084, 22.693611435820433, 28.407745422683583, 23.83275057562597, 19.949937343260004, 19.924858845171276, 18.788294228055936, 15.748015748023622, 14.696938456699069, 14.071247279470288, 11.135528725660043, 7.874007874011811, 6.48074069840786, 9.055385138137417, 13.114877048604, 19.519221295943137, 28.495613697550013, 21.494185260204677, 16.401219466856727, 18.275666882497067, 17.916472867168917, 18.027756377319946, 18.275666882497067, 18.788294228055936, 20.85665361461421, 23.0, 28.089143810376278, 24.43358344574123, 20.445048300260872, 20.37154878746336, 19.82422760159901, 15.620499351813308, 12.041594578792296, 12.0, 10.816653826391969, 8.831760866327848, 7.615773105863909, 9.327379053088816, 11.916375287812984, 19.467922333931785, 28.319604517012593, 20.97617696340303, 17.52141546793523, 19.519221295943137, 20.12461179749811, 21.02379604162864, 20.396078054371138, 20.29778313018444, 22.271057451320086, 15.459624833740307, 14.2828568570857, 14.317821063276353, 13.784048752090222, 12.84523257866513, 14.89966442575134, 13.892443989449804, 14.071247279470288, 14.7648230602334, 12.206555615733702, 10.099504938362077, 7.874007874011811, 9.1104335791443, 11.704699910719626, 19.157244060668017, 27.459060435491963, 20.37154878746336, 17.916472867168917, 18.24828759089466, 20.760539492026695, 19.849433241279208, 19.748417658131498, 20.73644135332772, 21.702534414210707, 23.49468024894146, 28.19574435974337, 22.516660498395403, 19.748417658131498, 20.049937655763422, 19.72308292331602, 16.09347693943108, 15.264337522473747, 15.165750888103101, 11.445523142259598, 9.9498743710662, 8.426149773176359, 9.16515138991168, 12.569805089976535, 19.672315572906, 27.92848008753788, 19.87460691435179, 16.15549442140351, 17.60681686165901, 18.841443681416774, 18.81488772222678, 18.708286933869708, 19.026297590440446, 20.024984394500787, 22.360679774997898, 27.422618401604176, 21.840329667841555, 19.595917942265423, 18.33030277982336, 18.627936010197157, 16.583123951777, 16.34013463836819, 17.204650534085253, 15.394804318340652, 13.0, 9.797958971132712, 7.483314773547883, 8.717797887081348, 11.269427669584644, 14.89966442575134, 17.05872210923198, 16.522711641858304, 18.734993995195193, 20.663978319771825, 20.760539492026695, 22.045407685048602, 23.853720883753127, 23.366642891095847, 21.93171219946131, 19.595917942265423, 16.583123951777, 17.26267650163207, 17.916472867168917, 17.0, 16.278820596099706, 18.05547008526779, 16.73320053068151, 15.588457268119896, 13.0, 8.426149773176359, 3.605551275463989, 3.0, 4.47213595499958, 5.916079783099616, 5.5677643628300215, 4.358898943540674, 7.615773105863909, 10.908712114635714, 13.490737563232042, 15.329709716755891, 13.416407864998739, 14.628738838327793, 15.033296378372908, 14.491376746189438, 13.45362404707371, 12.84523257866513, 12.922847983320086, 12.328828005937952, 12.165525060596439, 11.180339887498949, 10.535653752852738, 8.18535277187245, 6.708203932499369, 6.6332495807108, 9.273618495495704, 11.661903789690601, 18.027756377319946, 25.553864678361276, 18.05547008526779, 14.560219778561036, 15.033296378372908, 15.716233645501712, 15.524174696260024, 15.905973720586866, 16.401219466856727, 16.64331697709324, 19.0, 23.600847442411894, 19.261360284258224, 15.937377450509228, 16.30950643030009, 14.89966442575134, 13.19090595827292, 11.532562594670797, 11.269427669584644, 9.746794344808963, 7.3484692283495345, 6.782329983125268, 8.06225774829855, 10.198039027185569, 16.73320053068151, 24.08318915758459, 16.583123951777, 13.564659966250536, 14.177446878757825, 15.0996688705415, 15.0, 16.06237840420901, 15.811388300841896, 15.748015748023622, 17.46424919657298, 23.0, 18.708286933869708, 16.1245154965971, 16.431676725154983, 16.0, 13.152946437965905, 12.96148139681572, 13.527749258468683, 10.954451150103322, 8.888194417315589, 6.4031242374328485, 8.246211251235321, 10.44030650891055, 17.60681686165901, 24.310491562286437, 18.439088914585774, 14.212670403551895, 15.84297951775486, 16.34013463836819, 15.84297951775486, 15.491933384829668, 15.491933384829668, 16.673332000533065, 19.79898987322333, 23.173260452512935, 19.313207915827967, 16.217274740226856, 16.46207763315433, 16.46207763315433, 13.19090595827292, 13.076696830622021, 13.038404810405298, 10.344080432788601, 8.94427190999916, 7.211102550927978, 7.874007874011811, 10.392304845413264, 16.703293088490067, 24.919871588754223, 17.46424919657298, 13.74772708486752, 15.716233645501712, 16.673332000533065, 16.792855623746664, 17.146428199482248, 17.349351572897472, 18.303005217723125, 19.544820285692065, 24.73863375370596, 20.248456731316587, 16.64331697709324, 17.776388834631177, 17.578395831246947, 14.52583904633395, 15.066519173319364, 15.524174696260024, 12.727922061357855, 10.488088481701515, 8.306623862918075, 8.246211251235321, 11.357816691600547, 16.881943016134134, 25.65151067676132, 18.16590212458495, 14.866068747318506, 16.703293088490067, 17.578395831246947, 18.027756377319946, 18.138357147217054, 18.49324200890693, 18.81488772222678, 21.540659228538015, 26.115129714401192, 21.236760581595302, 17.88854381999832, 17.320508075688775, 17.204650534085253, 15.716233645501712, 14.730919862656235, 17.378147196982766, 15.0996688705415, 11.357816691600547, 8.94427190999916, 6.708203932499369, 8.12403840463596, 9.486832980505138, 13.784048752090222, 13.96424004376894, 14.177446878757825, 15.459624833740307, 15.874507866387544, 17.204650534085253, 17.08800749063506, 17.05872210923198, 16.06237840420901, 16.64331697709324, 14.560219778561036, 13.152946437965905, 11.958260743101398, 12.609520212918492, 12.449899597988733, 11.916375287812984, 13.228756555322953, 12.083045973594572, 11.489125293076057, 10.0, 6.4031242374328485, 5.5677643628300215, 6.244997998398398, 7.280109889280518, 9.695359714832659, 11.045361017187261, 11.916375287812984, 13.74772708486752, 14.696938456699069, 14.933184523068078, 16.3707055437449, 16.673332000533065, 16.0, 16.30950643030009, 14.2828568570857, 12.529964086141668, 12.884098726725126, 12.96148139681572, 13.114877048604, 11.74734012447073, 12.288205727444508, 9.848857801796104, 6.164414002968976, 5.656854249492381, 5.385164807134504, 5.196152422706632, 6.708203932499369, 9.797958971132712, 12.083045973594572, 7.211102550927978, 6.0, 6.6332495807108, 7.874007874011811, 8.717797887081348, 10.770329614269007, 11.704699910719626, 13.45362404707371, 13.228756555322953, 16.76305461424021, 14.071247279470288, 12.84523257866513, 12.165525060596439, 12.649110640673518, 11.313708498984761, 11.045361017187261, 11.045361017187261, 9.643650760992955, 7.416198487095663, 6.244997998398398, 7.416198487095663, 8.831760866327848, 12.84523257866513, 19.748417658131498, 14.106735979665885, 12.288205727444508, 13.19090595827292, 13.820274961085254, 13.74772708486752, 13.341664064126334, 13.96424004376894, 14.52583904633395, 16.0, 19.595917942265423, 16.61324772583615, 15.0, 14.966629547095765, 14.594519519326424, 12.206555615733702, 11.916375287812984, 13.114877048604, 10.392304845413264, 8.426149773176359, 6.164414002968976, 7.483314773547883, 9.848857801796104, 14.594519519326424, 21.587033144922902, 15.459624833740307, 12.727922061357855, 14.2828568570857, 14.45683229480096, 15.0996688705415, 15.588457268119896, 15.491933384829668, 15.0, 15.394804318340652, 18.138357147217054, 13.784048752090222, 12.84523257866513, 14.035668847618199, 13.564659966250536, 12.36931687685298, 12.884098726725126, 13.74772708486752, 11.489125293076057, 8.888194417315589, 7.615773105863909, 7.0, 9.16515138991168, 13.341664064126334, 20.566963801203133, 16.278820596099706, 13.0, 15.588457268119896, 17.029386365926403, 16.881943016134134, 15.968719422671311, 17.776388834631177, 17.349351572897472, 19.131126469708992, 23.043437243605826, 18.841443681416774, 16.97056274847714, 15.748015748023622, 15.874507866387544, 14.560219778561036, 14.0, 15.811388300841896, 12.68857754044952, 9.9498743710662, 8.0, 8.717797887081348, 10.677078252031311, 16.822603841260722, 23.323807579381203, 17.26267650163207, 15.748015748023622, 16.673332000533065, 17.349351572897472, 17.88854381999832, 18.05547008526779, 19.6468827043885, 20.396078054371138, 21.840329667841555, 25.903667693977237, 21.93171219946131, 17.97220075561143, 17.578395831246947, 17.72004514666935, 15.7797338380595, 16.792855623746664, 18.35755975068582, 17.663521732655695, 15.165750888103101, 10.954451150103322, 7.681145747868608, 7.937253933193772, 9.9498743710662, 13.711309200802088, 15.459624833740307, 15.329709716755891, 16.792855623746664, 18.027756377319946, 20.566963801203133, 20.12461179749811, 21.047565179849187, 21.748563170931547, 21.283796653792763, 18.439088914585774, 16.1245154965971, 16.06237840420901, 16.703293088490067, 16.792855623746664, 15.394804318340652, 16.30950643030009, 15.84297951775486, 14.0, 12.206555615733702, 8.888194417315589, 6.6332495807108, 3.4641016151377544, 1.7320508075688772, 2.0, 1.7320508075688772, 2.0, 3.0, 2.0, 2.6457513110645907, 5.291502622129181, 6.164414002968976, 7.3484692283495345, 10.198039027185569, 11.313708498984761, 11.489125293076057, 10.770329614269007, 12.041594578792296, 10.488088481701515, 11.313708498984761, 12.649110640673518, 11.489125293076057, 10.723805294763608, 10.0, 8.48528137423857, 5.656854249492381, 7.681145747868608, 7.810249675906654, 9.695359714832659, 10.344080432788601, 11.532562594670797, 13.379088160259652, 14.866068747318506, 15.620499351813308, 16.55294535724685, 17.86057109949175, 16.492422502470642, 16.1245154965971, 15.394804318340652, 13.564659966250536, 13.45362404707371, 13.601470508735444, 13.2664991614216, 13.0, 13.341664064126334, 11.269427669584644, 9.219544457292887, 8.48528137423857, 7.0, 8.06225774829855, 10.954451150103322, 17.204650534085253, 24.041630560342615, 17.11724276862369, 13.416407864998739, 15.811388300841896, 16.186414056238647, 16.186414056238647, 16.46207763315433, 15.684387141358123, 16.792855623746664, 18.708286933869708, 21.93171219946131, 17.804493814764857, 15.874507866387544, 14.832396974191326, 14.594519519326424, 12.489995996796797, 11.532562594670797, 11.916375287812984, 9.643650760992955, 9.0, 7.416198487095663, 8.12403840463596, 10.246950765959598, 16.186414056238647, 22.40535650240808, 16.703293088490067, 12.083045973594572, 14.594519519326424, 15.165750888103101, 16.06237840420901, 15.198684153570664, 15.0996688705415, 16.401219466856727, 17.72004514666935, 21.587033144922902, 17.74823934929885, 16.186414056238647, 15.556349186104045, 15.588457268119896, 14.696938456699069, 12.806248474865697, 13.0, 12.767145334803704, 9.273618495495704, 7.0710678118654755, 7.810249675906654, 10.14889156509222, 16.0312195418814, 23.53720459187964, 18.05547008526779, 15.0, 16.97056274847714, 16.911534525287763, 17.349351572897472, 17.635192088548397, 17.406895185529212, 19.748417658131498, 20.174241001832016, 23.49468024894146, 20.049937655763422, 17.86057109949175, 18.2208671582886, 16.881943016134134, 16.1245154965971, 15.264337522473747, 16.401219466856727, 14.491376746189438, 11.61895003862225, 9.219544457292887, 8.18535277187245, 11.313708498984761, 17.0, 25.219040425836983, 18.788294228055936, 15.874507866387544, 17.804493814764857, 19.05255888325765, 19.235384061671343, 20.46948949045872, 20.639767440550294, 22.44994432064365, 23.108440016582687, 23.958297101421877, 19.87460691435179, 17.08800749063506, 16.792855623746664, 17.146428199482248, 15.362291495737216, 15.491933384829668, 15.297058540778355, 13.856406460551018, 11.269427669584644, 9.273618495495704, 7.211102550927978, 7.874007874011811, 9.38083151964686, 12.727922061357855, 14.966629547095765, 14.422205101855956, 15.394804318340652, 16.55294535724685, 18.24828759089466, 18.867962264113206, 18.35755975068582, 18.57417562100671, 13.527749258468683, 6.708203932499369, 6.324555320336759, 8.12403840463596, 8.0, 5.477225575051661, 6.48074069840786, 6.557438524302, 6.557438524302, 8.06225774829855, 8.06225774829855, 5.656854249492381, 4.69041575982343, 5.0, 6.244997998398398, 9.16515138991168, 10.14889156509222, 10.488088481701515, 11.916375287812984, 14.45683229480096, 16.34013463836819, 16.186414056238647, 17.320508075688775, 16.492422502470642, 15.491933384829668, 14.66287829861518, 12.767145334803704, 12.68857754044952, 13.379088160259652, 12.449899597988733, 15.066519173319364], \"xaxis\": \"x2\", \"yaxis\": \"y2\"}, {\"alignmentgroup\": \"True\", \"bingroup\": \"x\", \"histnorm\": \"probability density\", \"hoverlabel\": {\"namelength\": 0}, \"hovertemplate\": \"Year=2018<br>x=%{x}<br>count=%{y}\", \"legendgroup\": \"Year=2018\", \"marker\": {\"color\": \"#EF553B\"}, \"name\": \"Year=2018\", \"offsetgroup\": \"Year=2018\", \"orientation\": \"v\", \"showlegend\": true, \"type\": \"histogram\", \"x\": [14.352700094407323, 15.165750888103101, 13.341664064126334, 10.908712114635714, 7.874007874011811, 7.810249675906654, 8.06225774829855, 9.0, 9.433981132056603, 11.0, 11.789826122551595, 13.0, 15.0, 15.748015748023622, 17.26267650163207, 18.547236990991408, 17.60681686165901, 16.46207763315433, 14.7648230602334, 11.180339887498949, 14.352700094407323, 14.247806848775006, 12.96148139681572, 12.409673645990857, 12.165525060596439, 10.392304845413264, 8.306623862918075, 6.4031242374328485, 5.5677643628300215, 7.615773105863909, 11.789826122551595, 18.547236990991408, 25.592967784139454, 17.74823934929885, 14.422205101855956, 16.401219466856727, 17.11724276862369, 16.522711641858304, 17.378147196982766, 17.175564037317667, 17.88854381999832, 19.313207915827967, 25.98076211353316, 20.074859899884732, 19.078784028338912, 17.435595774162696, 16.522711641858304, 13.638181696985855, 12.649110640673518, 11.40175425099138, 10.488088481701515, 8.18535277187245, 6.557438524302, 8.18535277187245, 11.704699910719626, 17.549928774784245, 25.88435821108957, 18.49324200890693, 14.594519519326424, 16.34013463836819, 17.233687939614086, 16.703293088490067, 16.431676725154983, 16.911534525287763, 17.291616465790582, 19.544820285692065, 25.238858928247925, 20.760539492026695, 17.146428199482248, 18.303005217723125, 17.05872210923198, 14.035668847618199, 12.609520212918492, 12.24744871391589, 11.090536506409418, 7.54983443527075, 6.164414002968976, 8.12403840463596, 10.954451150103322, 17.378147196982766, 25.41653005427767, 18.439088914585774, 14.035668847618199, 16.24807680927192, 17.029386365926403, 16.852299546352718, 16.186414056238647, 16.76305461424021, 17.578395831246947, 19.924858845171276, 24.55605831561735, 20.42057785666214, 17.635192088548397, 17.60681686165901, 17.4928556845359, 14.866068747318506, 14.212670403551895, 13.038404810405298, 10.862780491200215, 8.18535277187245, 6.855654600401044, 8.660254037844387, 11.090536506409418, 18.083141320025124, 25.787593916455254, 18.81488772222678, 15.231546211727817, 17.549928774784245, 19.026297590440446, 17.663521732655695, 18.520259177452136, 18.24828759089466, 18.138357147217054, 21.118712081942874, 25.199206336708304, 21.047565179849187, 17.944358444926362, 16.852299546352718, 16.76305461424021, 13.74772708486752, 13.564659966250536, 14.89966442575134, 13.2664991614216, 10.14889156509222, 7.810249675906654, 6.928203230275509, 8.306623862918075, 10.246950765959598, 13.638181696985855, 14.866068747318506, 14.2828568570857, 15.652475842498529, 16.822603841260722, 18.867962264113206, 19.235384061671343, 19.313207915827967, 18.76166303929372, 18.81488772222678, 16.46207763315433, 14.38749456993816, 13.74772708486752, 14.628738838327793, 14.7648230602334, 13.0, 13.856406460551018, 12.727922061357855, 11.313708498984761, 10.099504938362077, 7.874007874011811, 6.324555320336759, 6.164414002968976, 7.745966692414834, 11.045361017187261, 11.958260743101398, 13.379088160259652, 14.628738838327793, 16.673332000533065, 16.278820596099706, 18.193405398660254, 19.183326093250876, 18.24828759089466, 18.681541692269406, 16.431676725154983, 15.684387141358123, 15.264337522473747, 15.362291495737216, 14.628738838327793, 12.206555615733702, 12.206555615733702, 10.44030650891055, 8.774964387392123, 7.280109889280518, 6.782329983125268, 8.18535277187245, 12.609520212918492, 19.339079605813716, 26.476404589747453, 19.672315572906, 15.905973720586866, 16.673332000533065, 18.867962264113206, 17.406895185529212, 18.681541692269406, 17.832554500127006, 18.788294228055936, 19.621416870348583, 17.776388834631177, 11.269427669584644, 12.0, 12.083045973594572, 12.206555615733702, 10.583005244258363, 10.0, 10.344080432788601, 8.660254037844387, 7.211102550927978, 6.164414002968976, 7.211102550927978, 11.224972160321824, 15.652475842498529, 23.53720459187964, 17.88854381999832, 13.784048752090222, 15.716233645501712, 16.186414056238647, 16.278820596099706, 16.278820596099706, 16.0312195418814, 16.186414056238647, 18.2208671582886, 23.62202362203543, 19.078784028338912, 17.378147196982766, 16.76305461424021, 12.884098726725126, 8.94427190999916, 7.810249675906654, 8.831760866327848, 7.937253933193772, 6.324555320336759, 5.5677643628300215, 6.244997998398398, 9.16515138991168, 12.569805089976535, 19.672315572906, 15.0, 12.24744871391589, 12.96148139681572, 14.730919862656235, 14.38749456993816, 13.30413469565007, 13.892443989449804, 14.0, 16.30950643030009, 20.904544960366874, 16.09347693943108, 14.38749456993816, 14.628738838327793, 12.84523257866513, 11.789826122551595, 9.899494936611665, 10.0, 9.433981132056603, 6.164414002968976, 5.744562646538029, 6.48074069840786, 9.055385138137417, 14.247806848775006, 21.047565179849187, 15.066519173319364, 12.328828005937952, 12.083045973594572, 13.674794331177344, 13.341664064126334, 13.674794331177344, 13.45362404707371, 13.379088160259652, 14.798648586948742, 18.76166303929372, 15.84297951775486, 13.30413469565007, 12.727922061357855, 13.114877048604, 10.908712114635714, 10.246950765959598, 9.9498743710662, 9.1104335791443, 6.48074069840786, 5.477225575051661, 5.916079783099616, 9.591663046625438, 13.74772708486752, 20.46948949045872, 14.0, 10.908712114635714, 11.832159566199232, 13.341664064126334, 13.30413469565007, 13.152946437965905, 13.30413469565007, 14.0, 16.09347693943108, 20.12461179749811, 16.522711641858304, 14.491376746189438, 13.564659966250536, 13.638181696985855, 12.0, 12.328828005937952, 12.96148139681572, 12.041594578792296, 8.774964387392123, 6.855654600401044, 6.324555320336759, 6.48074069840786, 6.557438524302, 8.18535277187245, 10.099504938362077, 10.295630140987, 11.532562594670797, 13.19090595827292, 14.560219778561036, 14.66287829861518, 15.84297951775486, 15.7797338380595, 16.64331697709324, 14.933184523068078, 12.922847983320086, 12.569805089976535, 12.489995996796797, 12.96148139681572, 11.445523142259598, 12.206555615733702, 12.24744871391589, 10.535653752852738, 8.888194417315589, 6.928203230275509, 5.385164807134504, 7.0, 7.681145747868608, 9.0, 10.862780491200215, 11.575836902790225, 13.19090595827292, 15.033296378372908, 16.492422502470642, 17.435595774162696, 18.788294228055936, 19.131126469708992, 17.378147196982766, 15.811388300841896, 14.422205101855956, 14.491376746189438, 14.594519519326424, 14.0, 12.0, 13.076696830622021, 11.045361017187261, 8.602325267042627, 7.615773105863909, 6.164414002968976, 7.416198487095663, 9.055385138137417, 14.45683229480096, 21.071307505705477, 17.406895185529212, 14.560219778561036, 15.937377450509228, 17.635192088548397, 17.578395831246947, 17.4928556845359, 18.681541692269406, 19.1049731745428, 21.330729007701542, 23.558437978779494, 21.071307505705477, 17.916472867168917, 18.275666882497067, 18.24828759089466, 15.165750888103101, 14.560219778561036, 14.38749456993816, 11.874342087037917, 9.0, 7.14142842854285, 7.615773105863909, 11.832159566199232, 17.832554500127006, 25.495097567963924, 19.390719429665317, 14.866068747318506, 16.0, 16.61324772583615, 17.204650534085253, 16.61324772583615, 15.811388300841896, 16.64331697709324, 19.519221295943137, 24.331050121192877, 20.223748416156685, 18.2208671582886, 18.49324200890693, 17.916472867168917, 15.556349186104045, 14.2828568570857, 13.527749258468683, 11.832159566199232, 8.660254037844387, 7.416198487095663, 8.48528137423857, 10.723805294763608, 16.492422502470642, 23.173260452512935, 18.35755975068582, 14.560219778561036, 16.431676725154983, 17.60681686165901, 16.522711641858304, 16.06237840420901, 16.673332000533065, 17.72004514666935, 19.493588689617926, 22.38302928559939, 18.973665961010276, 16.911534525287763, 17.88854381999832, 17.69180601295413, 15.066519173319364, 14.66287829861518, 13.784048752090222, 11.704699910719626, 9.746794344808963, 7.0710678118654755, 8.246211251235321, 10.344080432788601, 16.703293088490067, 23.173260452512935, 17.46424919657298, 13.711309200802088, 16.15549442140351, 16.34013463836819, 17.52141546793523, 17.349351572897472, 16.401219466856727, 18.110770276274835, 20.396078054371138, 22.494443758403985, 19.1049731745428, 17.406895185529212, 18.411952639521967, 17.832554500127006, 15.231546211727817, 14.52583904633395, 14.38749456993816, 11.832159566199232, 9.643650760992955, 7.615773105863909, 7.810249675906654, 12.288205727444508, 18.275666882497067, 25.45584412271571, 19.672315572906, 15.968719422671311, 16.822603841260722, 18.466185312619388, 18.466185312619388, 18.681541692269406, 19.519221295943137, 19.748417658131498, 21.633307652783937, 26.49528259898354, 21.702534414210707, 18.49324200890693, 18.193405398660254, 17.08800749063506, 15.362291495737216, 15.0996688705415, 16.06237840420901, 14.696938456699069, 10.862780491200215, 9.433981132056603, 7.483314773547883, 7.0710678118654755, 10.04987562112089, 13.820274961085254, 15.297058540778355, 16.09347693943108, 16.881943016134134, 18.027756377319946, 18.867962264113206, 18.275666882497067, 20.149441679609886, 18.76166303929372, 19.4164878389476, 16.822603841260722, 14.933184523068078, 14.798648586948742, 14.832396974191326, 15.231546211727817, 12.806248474865697, 14.0, 13.30413469565007, 10.344080432788601, 10.344080432788601, 8.54400374531753, 5.656854249492381, 6.0, 7.810249675906654, 10.723805294763608, 12.328828005937952, 13.74772708486752, 14.696938456699069, 16.46207763315433, 18.520259177452136, 18.439088914585774, 19.72308292331602, 19.8997487421324, 19.570385790780925, 17.175564037317667, 14.933184523068078, 16.06237840420901, 15.394804318340652, 14.38749456993816, 13.038404810405298, 13.076696830622021, 9.848857801796104, 8.54400374531753, 7.280109889280518, 5.5677643628300215, 7.745966692414834, 12.84523257866513, 17.776388834631177, 26.13426869074396, 19.1049731745428, 14.866068747318506, 16.64331697709324, 17.97220075561143, 16.76305461424021, 15.7797338380595, 7.937253933193772, 4.242640687119285, 6.557438524302, 13.038404810405298, 12.922847983320086, 13.45362404707371, 13.674794331177344, 13.038404810405298, 11.789826122551595, 9.797958971132712, 10.954451150103322, 8.660254037844387, 7.416198487095663, 6.708203932499369, 6.6332495807108, 9.16515138991168, 14.52583904633395, 20.566963801203133, 15.0996688705415, 11.489125293076057, 13.564659966250536, 13.416407864998739, 13.74772708486752, 13.0, 13.45362404707371, 13.45362404707371, 15.459624833740307, 18.734993995195193, 15.748015748023622, 13.341664064126334, 12.041594578792296, 10.816653826391969, 10.295630140987, 9.486832980505138, 9.433981132056603, 7.0710678118654755, 5.656854249492381, 4.898979485566356, 5.830951894845301, 8.426149773176359, 12.806248474865697, 19.078784028338912, 13.856406460551018, 9.486832980505138, 11.135528725660043, 11.0, 11.832159566199232, 11.180339887498949, 12.206555615733702, 11.135528725660043, 14.247806848775006, 17.233687939614086, 14.52583904633395, 11.180339887498949, 11.489125293076057, 11.0, 9.055385138137417, 8.831760866327848, 8.246211251235321, 7.745966692414834, 5.656854249492381, 4.69041575982343, 5.830951894845301, 8.426149773176359, 12.84523257866513, 18.681541692269406, 13.674794331177344, 10.246950765959598, 11.045361017187261, 11.916375287812984, 11.40175425099138, 12.649110640673518, 11.40175425099138, 12.328828005937952, 13.038404810405298, 16.97056274847714, 13.341664064126334, 11.874342087037917, 11.704699910719626, 10.63014581273465, 8.888194417315589, 8.246211251235321, 9.643650760992955, 7.3484692283495345, 6.4031242374328485, 4.898979485566356, 6.0, 8.0, 11.916375287812984, 17.944358444926362, 12.206555615733702, 9.797958971132712, 9.643650760992955, 10.535653752852738, 10.723805294763608, 10.770329614269007, 11.832159566199232, 12.12435565298214, 14.0, 17.46424919657298, 13.076696830622021, 11.0, 11.40175425099138, 10.392304845413264, 9.433981132056603, 8.94427190999916, 9.695359714832659, 8.660254037844387, 6.4031242374328485, 6.0, 5.0, 5.744562646538029, 7.54983443527075, 9.16515138991168, 10.246950765959598, 9.797958971132712, 11.180339887498949, 12.041594578792296, 13.74772708486752, 13.892443989449804, 13.856406460551018, 13.96424004376894, 14.38749456993816, 12.727922061357855, 11.045361017187261, 10.816653826391969, 10.14889156509222, 10.677078252031311, 10.14889156509222, 11.180339887498949, 10.14889156509222, 8.48528137423857, 8.18535277187245, 6.164414002968976, 4.58257569495584, 5.477225575051661, 6.48074069840786, 8.48528137423857, 10.198039027185569, 10.535653752852738, 12.041594578792296, 13.74772708486752, 14.352700094407323, 15.0, 14.730919862656235, 13.674794331177344, 13.341664064126334, 12.529964086141668, 11.575836902790225, 10.63014581273465, 10.295630140987, 10.246950765959598, 9.0, 8.94427190999916, 7.874007874011811, 7.0, 5.196152422706632, 5.0990195135927845, 7.0710678118654755, 9.695359714832659, 15.198684153570664, 21.213203435596427, 14.730919862656235, 11.61895003862225, 12.884098726725126, 13.638181696985855, 12.884098726725126, 12.96148139681572, 13.30413469565007, 13.96424004376894, 15.459624833740307, 20.92844953645635, 16.792855623746664, 14.035668847618199, 13.490737563232042, 13.114877048604, 9.9498743710662, 10.392304845413264, 11.357816691600547, 9.16515138991168, 7.3484692283495345, 5.744562646538029, 6.855654600401044, 9.695359714832659, 14.628738838327793, 22.15851980616034, 15.937377450509228, 13.038404810405298, 14.832396974191326, 15.905973720586866, 15.0, 15.427248620541512, 13.152946437965905, 9.695359714832659, 7.280109889280518, 10.0, 7.681145747868608, 8.48528137423857, 7.745966692414834, 8.54400374531753, 7.874007874011811, 8.306623862918075, 9.797958971132712, 7.745966692414834, 6.855654600401044, 5.830951894845301, 5.830951894845301, 7.937253933193772, 11.135528725660043, 16.522711641858304, 11.704699910719626, 10.099504938362077, 12.0, 12.649110640673518, 13.076696830622021, 12.489995996796797, 14.628738838327793, 14.696938456699069, 16.703293088490067, 20.074859899884732, 16.431676725154983, 15.132745950421556, 15.132745950421556, 13.711309200802088, 11.489125293076057, 11.045361017187261, 12.206555615733702, 10.14889156509222, 9.0, 6.082762530298219, 7.14142842854285, 9.746794344808963, 15.620499351813308, 21.42428528562855, 16.09347693943108, 12.96148139681572, 13.92838827718412, 15.491933384829668, 15.264337522473747, 16.0, 17.11724276862369, 16.3707055437449, 18.466185312619388, 23.280893453645632, 18.547236990991408, 16.217274740226856, 16.0312195418814, 15.329709716755891, 11.958260743101398, 11.74734012447073, 12.609520212918492, 10.099504938362077, 8.06225774829855, 6.855654600401044, 6.928203230275509, 10.723805294763608, 16.34013463836819, 23.62202362203543, 16.73320053068151, 13.674794331177344, 15.297058540778355, 17.406895185529212, 17.146428199482248, 17.11724276862369, 17.60681686165901, 18.16590212458495, 19.544820285692065, 24.331050121192877, 19.467922333931785, 15.524174696260024, 15.0, 15.066519173319364, 13.341664064126334, 13.490737563232042, 13.564659966250536, 11.090536506409418, 7.745966692414834, 5.916079783099616, 5.5677643628300215, 5.744562646538029, 8.18535277187245, 10.770329614269007, 12.96148139681572, 12.0, 13.96424004376894, 13.856406460551018, 15.132745950421556, 14.0, 14.491376746189438, 14.317821063276353, 14.52583904633395, 13.228756555322953, 11.61895003862225, 10.44030650891055, 10.344080432788601, 9.591663046625438, 9.539392014169456, 9.899494936611665, 9.486832980505138, 7.745966692414834, 7.3484692283495345, 5.916079783099616, 4.58257569495584, 4.795831523312719, 5.830951894845301, 8.366600265340756, 9.848857801796104, 10.14889156509222, 10.723805294763608, 12.84523257866513, 12.328828005937952, 13.30413469565007, 13.784048752090222, 13.45362404707371, 13.564659966250536, 12.409673645990857, 11.135528725660043, 9.899494936611665, 10.344080432788601, 8.831760866327848, 8.774964387392123, 9.055385138137417, 7.211102550927978, 6.244997998398398, 5.744562646538029, 4.47213595499958, 6.082762530298219, 10.488088481701515, 15.066519173319364, 20.808652046684813, 14.696938456699069, 11.090536506409418, 12.489995996796797, 12.529964086141668, 13.0, 13.038404810405298, 13.0, 14.106735979665885, 15.0, 19.697715603592208, 15.684387141358123, 14.352700094407323, 13.30413469565007, 13.527749258468683, 10.723805294763608, 11.224972160321824, 9.327379053088816, 7.681145747868608, 6.0, 5.656854249492381, 6.324555320336759, 9.695359714832659, 14.594519519326424, 20.92844953645635, 14.730919862656235, 11.313708498984761, 13.228756555322953, 13.114877048604, 12.84523257866513, 12.12435565298214, 13.076696830622021, 13.228756555322953, 15.066519173319364, 19.79898987322333, 15.84297951775486, 13.892443989449804, 13.228756555322953, 13.0, 10.295630140987, 10.770329614269007, 9.797958971132712, 9.1104335791443, 7.14142842854285, 5.830951894845301, 6.708203932499369, 9.591663046625438, 14.628738838327793, 21.656407827707714, 15.394804318340652, 12.449899597988733, 13.2664991614216, 13.711309200802088, 15.0996688705415, 14.106735979665885, 14.866068747318506, 15.491933384829668, 17.88854381999832, 21.166010488516726, 16.73320053068151, 14.7648230602334, 14.933184523068078, 14.142135623730951, 12.806248474865697, 11.661903789690601, 11.224972160321824, 10.14889156509222, 7.54983443527075, 6.782329983125268, 6.244997998398398, 9.9498743710662, 15.968719422671311, 22.516660498395403, 16.431676725154983, 12.649110640673518, 14.730919862656235, 15.905973720586866, 16.431676725154983, 15.905973720586866, 16.911534525287763, 16.852299546352718, 18.35755975068582, 23.748684174075834, 19.44222209522358, 16.64331697709324, 16.3707055437449, 15.264337522473747, 13.96424004376894, 13.341664064126334, 12.609520212918492, 10.344080432788601, 8.831760866327848, 6.782329983125268, 6.0, 10.816653826391969, 16.522711641858304, 24.269322199023193, 17.549928774784245, 14.106735979665885, 15.427248620541512, 16.1245154965971, 16.3707055437449, 16.822603841260722, 17.74823934929885, 17.86057109949175, 20.54263858417414, 25.67099530598687, 20.174241001832016, 17.549928774784245, 15.588457268119896, 16.217274740226856, 13.892443989449804, 14.035668847618199, 15.394804318340652, 13.0, 12.041594578792296, 8.888194417315589, 6.4031242374328485, 6.928203230275509, 9.848857801796104, 13.711309200802088, 14.89966442575134, 14.933184523068078, 15.329709716755891, 15.748015748023622, 17.204650534085253, 16.911534525287763, 16.64331697709324, 17.05872210923198, 16.64331697709324, 14.696938456699069, 12.288205727444508, 11.489125293076057, 11.135528725660043, 11.313708498984761, 10.862780491200215, 10.583005244258363, 9.746794344808963, 9.643650760992955, 7.615773105863909, 5.830951894845301, 4.358898943540674, 6.244997998398398, 6.324555320336759, 9.0, 11.224972160321824, 11.40175425099138, 12.449899597988733, 13.19090595827292, 14.560219778561036, 13.820274961085254, 13.45362404707371, 13.228756555322953, 14.071247279470288, 12.24744871391589, 12.12435565298214, 11.269427669584644, 10.908712114635714, 10.14889156509222, 9.539392014169456, 10.14889156509222, 8.306623862918075, 6.708203932499369, 4.58257569495584, 5.744562646538029, 5.477225575051661, 10.44030650891055, 15.362291495737216, 22.737634001804146, 16.186414056238647, 12.68857754044952, 13.784048752090222, 14.212670403551895, 15.684387141358123, 13.490737563232042, 15.0996688705415, 15.459624833740307, 16.97056274847714, 21.79449471770337, 18.439088914585774, 15.620499351813308, 15.905973720586866, 14.142135623730951, 11.832159566199232, 12.569805089976535, 12.083045973594572, 10.295630140987, 8.366600265340756, 6.782329983125268, 7.14142842854285, 9.797958971132712, 17.146428199482248, 23.83275057562597, 16.881943016134134, 14.142135623730951, 15.874507866387544, 16.76305461424021, 16.0, 17.320508075688775, 17.175564037317667, 18.110770276274835, 20.248456731316587, 24.576411454889016, 20.149441679609886, 17.97220075561143, 17.029386365926403, 17.05872210923198, 14.52583904633395, 13.341664064126334, 14.594519519326424, 11.357816691600547, 10.04987562112089, 7.14142842854285, 7.483314773547883, 10.392304845413264, 17.08800749063506, 24.61706725018234, 18.05547008526779, 15.524174696260024, 16.97056274847714, 17.663521732655695, 18.681541692269406, 19.949937343260004, 21.470910553583888, 21.142374511865974, 22.0, 23.643180835073778, 17.776388834631177, 16.186414056238647, 14.696938456699069, 14.7648230602334, 12.649110640673518, 11.224972160321824, 11.090536506409418, 10.583005244258363, 8.602325267042627, 7.615773105863909, 5.656854249492381, 6.244997998398398, 7.416198487095663, 10.583005244258363, 10.583005244258363, 11.269427669584644, 13.038404810405298, 13.19090595827292, 15.491933384829668, 16.431676725154983, 16.61324772583615, 16.522711641858304, 15.362291495737216, 13.784048752090222, 12.884098726725126, 12.165525060596439, 11.575836902790225, 12.041594578792296, 9.591663046625438, 10.246950765959598, 8.774964387392123, 6.855654600401044, 6.0, 5.916079783099616, 5.291502622129181, 5.477225575051661, 7.0, 8.246211251235321, 6.928203230275509, 8.831760866327848, 9.643650760992955, 11.704699910719626, 13.0, 14.0, 15.588457268119896, 13.74772708486752, 14.491376746189438, 12.84523257866513, 11.224972160321824, 12.24744871391589, 10.677078252031311, 10.770329614269007, 9.16515138991168, 8.888194417315589, 8.426149773176359, 7.483314773547883, 5.830951894845301, 4.47213595499958, 3.7416573867739413, 6.244997998398398, 5.916079783099616, 8.94427190999916, 9.899494936611665, 10.14889156509222, 12.449899597988733, 13.527749258468683, 13.892443989449804, 16.06237840420901, 16.522711641858304, 16.34013463836819, 15.811388300841896, 14.933184523068078, 13.0, 12.041594578792296, 11.532562594670797, 11.090536506409418, 10.816653826391969, 9.9498743710662, 10.14889156509222, 9.273618495495704, 7.483314773547883, 6.082762530298219, 4.69041575982343, 6.164414002968976, 7.211102550927978, 9.591663046625438, 11.704699910719626, 12.489995996796797, 13.527749258468683, 16.217274740226856, 18.35755975068582, 19.28730152198591, 20.97617696340303, 20.09975124224178, 18.81488772222678, 17.60681686165901, 15.427248620541512, 14.594519519326424, 15.033296378372908, 13.820274961085254, 12.36931687685298, 12.165525060596439, 10.04987562112089, 7.681145747868608, 6.48074069840786, 7.0710678118654755, 7.681145747868608, 11.789826122551595, 18.681541692269406, 25.41653005427767, 18.627936010197157, 15.329709716755891, 17.72004514666935, 19.0, 18.2208671582886, 19.313207915827967, 19.79898987322333, 20.074859899884732, 22.847319317591726, 28.61817604250837, 23.08679276123039, 20.42057785666214, 19.697715603592208, 18.894443627691185, 14.7648230602334, 13.30413469565007, 13.114877048604, 10.723805294763608, 7.937253933193772, 8.0, 8.888194417315589, 12.806248474865697, 20.09975124224178, 26.962937525425527, 19.595917942265423, 16.278820596099706, 17.944358444926362, 18.867962264113206, 19.235384061671343, 18.303005217723125, 20.760539492026695, 19.82422760159901, 22.67156809750927, 27.640549922170507, 22.847319317591726, 18.920887928424502, 20.37154878746336, 17.86057109949175, 15.556349186104045, 13.076696830622021, 12.727922061357855, 10.246950765959598, 7.681145747868608, 7.0710678118654755, 7.937253933193772, 12.609520212918492, 19.621416870348583, 26.795522013948524, 19.313207915827967, 15.620499351813308, 16.61324772583615, 18.734993995195193, 17.291616465790582, 19.1049731745428, 19.131126469708992, 20.223748416156685, 21.656407827707714, 28.0, 21.447610589527216, 18.867962264113206, 18.57417562100671, 17.291616465790582, 14.933184523068078, 13.96424004376894, 13.784048752090222, 10.770329614269007, 8.426149773176359, 8.12403840463596, 8.660254037844387, 12.288205727444508, 19.313207915827967, 27.982137159266443, 19.570385790780925, 16.09347693943108, 17.549928774784245, 18.76166303929372, 17.776388834631177, 18.193405398660254, 18.867962264113206, 20.09975124224178, 21.563858652847824, 27.018512172212592, 22.338307903688676, 18.65475810617763, 19.82422760159901, 18.601075237738275, 14.212670403551895, 6.48074069840786, 7.416198487095663, 7.874007874011811, 5.656854249492381, 6.0, 6.244997998398398, 7.937253933193772, 13.19090595827292, 19.77371993328519, 14.628738838327793, 13.564659966250536, 15.165750888103101, 16.822603841260722, 17.435595774162696, 17.663521732655695, 17.663521732655695, 18.81488772222678, 21.6794833886788, 25.865034312755125, 20.518284528683193, 17.175564037317667, 17.916472867168917, 17.05872210923198, 15.588457268119896, 15.033296378372908, 16.217274740226856, 14.035668847618199, 11.532562594670797, 7.937253933193772, 7.615773105863909, 8.48528137423857, 10.392304845413264, 14.247806848775006, 15.905973720586866, 16.09347693943108, 17.26267650163207, 19.05255888325765, 20.29778313018444, 21.307275752662516, 21.61018278497431, 22.561028345356956, 21.494185260204677, 19.467922333931785, 17.4928556845359, 15.264337522473747, 15.231546211727817, 14.798648586948742, 13.674794331177344, 13.490737563232042, 13.74772708486752, 11.135528725660043, 10.14889156509222, 7.211102550927978, 6.082762530298219, 7.3484692283495345, 8.774964387392123, 12.569805089976535, 13.152946437965905, 13.96424004376894, 15.620499351813308, 19.8997487421324, 21.95449840010015, 23.916521486202797, 24.73863375370596, 26.229754097208, 24.269322199023193, 20.049937655763422, 17.233687939614086, 15.231546211727817, 15.459624833740307, 15.165750888103101, 13.152946437965905, 11.61895003862225, 11.045361017187261, 8.94427190999916, 6.782329983125268, 6.782329983125268, 8.06225774829855, 12.68857754044952, 20.049937655763422, 28.035691537752374, 20.396078054371138, 17.0, 18.867962264113206, 20.688160865577203, 21.071307505705477, 21.330729007701542, 22.825424421026653, 23.558437978779494, 25.41653005427767, 30.479501308256342, 24.879710609249457, 21.97726097583591, 22.627416997969522, 21.047565179849187, 17.549928774784245, 15.362291495737216, 14.594519519326424, 12.041594578792296, 10.099504938362077, 7.874007874011811, 8.48528137423857, 13.527749258468683, 21.047565179849187, 27.694764848252458, 21.330729007701542, 16.15549442140351, 18.49324200890693, 18.788294228055936, 18.303005217723125, 18.894443627691185, 20.049937655763422, 20.273134932713294, 23.0, 29.949958263743873, 24.819347291981714, 21.470910553583888, 21.18962010041709, 21.470910553583888, 17.60681686165901, 16.30950643030009, 15.132745950421556, 13.19090595827292, 10.770329614269007, 8.48528137423857, 7.874007874011811, 12.84523257866513, 20.639767440550294, 28.5657137141714, 20.46948949045872, 16.881943016134134, 18.2208671582886, 17.46424919657298, 5.291502622129181, 4.123105625617661, 2.6457513110645907, 3.0, 2.8284271247461903, 3.3166247903554, 4.358898943540674, 2.8284271247461903, 3.1622776601683795, 3.605551275463989, 4.795831523312719, 8.426149773176359, 12.12435565298214, 13.416407864998739, 9.591663046625438, 5.291502622129181, 3.3166247903554, 5.744562646538029, 7.810249675906654, 12.165525060596439, 12.649110640673518, 13.820274961085254, 15.459624833740307, 17.635192088548397, 18.920887928424502, 19.364916731037084, 21.400934559032695, 21.447610589527216, 20.566963801203133, 17.804493814764857, 15.198684153570664, 15.684387141358123, 14.560219778561036, 13.784048752090222, 13.784048752090222, 12.489995996796797, 10.392304845413264, 8.426149773176359, 7.0, 6.855654600401044, 8.06225774829855, 11.61895003862225, 20.024984394500787, 24.839484696748443, 18.520259177452136, 16.55294535724685, 18.520259177452136, 19.697715603592208, 19.364916731037084, 21.213203435596427, 21.517434791350013, 23.958297101421877, 25.11971337416094, 29.223278392404914, 23.83275057562597, 20.663978319771825, 19.8997487421324, 20.346989949375804, 16.852299546352718, 14.7648230602334, 15.132745950421556, 13.2664991614216, 12.206555615733702, 9.643650760992955, 7.416198487095663, 8.426149773176359, 12.609520212918492, 17.4928556845359, 18.138357147217054, 18.81488772222678, 20.760539492026695, 24.596747752497688, 27.76688675382964, 32.01562118716424, 35.185224171518364, 35.84689665786984, 34.597687784012386, 30.331501776206203, 25.099800796022265, 25.11971337416094, 24.24871130596428, 22.715633383201094, 14.66287829861518, 12.68857754044952, 10.862780491200215, 9.746794344808963, 9.486832980505138, 5.830951894845301, 3.872983346207417, 4.47213595499958, 4.795831523312719, 8.366600265340756, 12.529964086141668, 15.459624833740307, 16.522711641858304, 18.920887928424502, 20.71231517720798, 21.79449471770337, 21.633307652783937, 19.8997487421324, 22.181073012818835, 20.8806130178211, 17.0, 5.0990195135927845, 2.6457513110645907, 2.8284271247461903, 3.0, 4.69041575982343, 4.795831523312719, 3.0, 1.4142135623730951, 2.0, 4.69041575982343, 4.47213595499958, 9.219544457292887, 13.564659966250536, 14.52583904633395, 15.231546211727817, 17.944358444926362, 20.92844953645635, 21.563858652847824, 23.45207879911715, 25.238858928247925, 26.795522013948524, 29.410882339705484, 33.98529093593286, 27.964262908219126, 24.041630560342615, 23.08679276123039, 21.587033144922902, 16.55294535724685, 14.966629547095765, 13.711309200802088, 11.045361017187261, 9.055385138137417, 8.888194417315589, 8.94427190999916, 14.628738838327793, 24.145392935299274, 31.575306807693888, 23.57965224510319, 19.493588689617926, 21.79449471770337, 22.44994432064365, 22.978250586152114, 23.811761799581316, 24.819347291981714, 26.076809620810597, 29.715315916207253, 35.298725189445584, 28.861739379323623, 25.80697580112788, 25.0, 22.67156809750927, 19.0, 17.0, 13.92838827718412, 11.575836902790225, 9.591663046625438, 7.0, 9.848857801796104, 15.231546211727817, 24.454038521274967, 32.12475680841802, 23.790754506740637, 20.248456731316587, 21.0, 23.45207879911715, 22.561028345356956, 22.47220505424423, 24.899799195977465, 25.41653005427767, 29.13760456866693, 36.945906403822335, 28.26658805020514, 24.228082879171435, 20.273134932713294, 12.12435565298214, 6.928203230275509, 7.0, 4.795831523312719, 4.358898943540674, 3.4641016151377544, 2.8284271247461903, 4.123105625617661, 5.656854249492381, 8.0, 9.38083151964686, 10.0, 12.84523257866513, 17.029386365926403, 19.364916731037084, 20.12461179749811, 21.2602916254693, 23.558437978779494, 24.372115213907882, 27.51363298439521, 33.03028912982749, 26.13426869074396, 24.20743687382041, 23.08679276123039, 22.315913604421397, 17.74823934929885, 16.492422502470642, 15.0996688705415, 12.449899597988733, 10.246950765959598, 8.12403840463596, 9.38083151964686, 13.96424004376894, 23.958297101421877, 32.264531609803356, 23.874672772626646, 19.0, 21.071307505705477, 22.58317958127243, 22.561028345356956, 23.280893453645632, 24.71841418861655, 26.19160170741759, 28.879058156387302, 35.08560958569767, 26.795522013948524, 23.130067012440755, 23.173260452512935, 22.825424421026653, 17.578395831246947, 18.110770276274835, 17.46424919657298, 15.524174696260024, 11.789826122551595, 9.539392014169456, 8.888194417315589, 8.602325267042627, 14.422205101855956, 18.439088914585774, 19.519221295943137, 20.396078054371138, 22.293496809607955, 25.495097567963924, 27.51363298439521, 30.099833886584822, 30.512292604784715, 31.176914536239792, 28.792360097775937, 25.768197453450252, 23.93741840717165, 21.142374511865974, 21.6794833886788, 20.518284528683193, 18.57417562100671, 19.390719429665317, 14.89966442575134, 13.076696830622021, 10.723805294763608, 8.94427190999916, 6.708203932499369, 7.937253933193772, 10.908712114635714, 14.560219778561036, 17.0, 19.849433241279208, 20.615528128088304, 25.80697580112788, 29.03446228191595, 33.97057550292606, 35.9722114972099, 34.713109915419565, 32.0624390837628, 27.85677655436824, 24.413111231467404, 23.021728866442675, 23.08679276123039, 20.46948949045872, 16.97056274847714, 14.89966442575134, 12.767145334803704, 9.746794344808963, 7.745966692414834, 6.855654600401044, 10.295630140987, 16.15549442140351, 25.729360660537214, 32.64965543462902, 24.576411454889016, 20.149441679609886, 21.517434791350013, 24.1039415863879, 24.24871130596428, 24.55605831561735, 26.343879744638983, 27.422618401604176, 30.512292604784715, 37.749172176353746, 30.757112998459398, 28.30194339616981, 27.76688675382964, 26.362852652928137, 19.924858845171276, 17.578395831246947, 15.198684153570664, 12.68857754044952, 10.14889156509222, 9.38083151964686, 9.848857801796104, 15.874507866387544, 25.84569596664017, 34.85685011586675, 24.819347291981714, 20.688160865577203, 23.895606290697042, 25.019992006393608, 26.038433132583073, 26.551836094703507, 28.548204847240395, 29.832867780352597, 32.93933818400121, 41.82104733265297, 34.9857113690718, 31.400636936215164, 31.336879231984796, 30.199337741083, 23.916521486202797, 20.29778313018444, 17.578395831246947, 15.033296378372908, 11.916375287812984, 9.055385138137417, 11.090536506409418, 17.029386365926403, 28.035691537752374, 37.027017163147235, 27.586228448267445, 23.49468024894146, 25.357444666211933, 28.513154858766505, 28.089143810376278, 29.631064780058107, 32.01562118716424, 32.38826948140329, 36.40054944640259, 45.8257569495584, 38.44476557348217, 35.70714214271425, 34.36568055487916, 31.352830813181765, 24.228082879171435, 21.587033144922902, 18.841443681416774, 14.247806848775006, 7.14142842854285, 3.0, 2.8284271247461903, 3.1622776601683795, 3.872983346207417, 6.244997998398398, 5.656854249492381, 5.196152422706632, 8.06225774829855, 14.2828568570857, 16.401219466856727, 17.0, 18.138357147217054, 14.628738838327793, 20.273134932713294, 26.0, 24.61706725018234, 23.08679276123039, 23.811761799581316, 22.494443758403985, 18.520259177452136, 16.941074346097416, 16.673332000533065, 13.341664064126334, 10.099504938362077, 9.219544457292887, 9.219544457292887, 14.89966442575134, 25.534290669607408, 34.292856398964496, 26.13426869074396, 22.516660498395403, 23.600847442411894, 26.551836094703507, 26.739483914241877, 27.784887978899608, 30.380915061926625, 31.240998703626616, 34.058772731852805, 40.50925820105819, 31.20897306865447, 27.820855486487112, 26.645825188948457, 25.69046515733026, 21.330729007701542, 20.346989949375804, 19.131126469708992, 16.3707055437449, 12.529964086141668, 10.14889156509222, 7.745966692414834, 10.44030650891055, 13.892443989449804, 19.595917942265423, 22.80350850198276, 23.68543856465402, 27.23967694375247, 30.54504869860253, 33.331666624997915, 35.9722114972099, 38.91015291668744, 37.94733192202055, 35.66510900025401, 30.56141357987225, 26.795522013948524, 26.229754097208, 24.979991993593593, 23.706539182259394, 20.54263858417414, 20.174241001832016, 17.578395831246947, 15.033296378372908, 13.19090595827292, 10.295630140987, 8.18535277187245, 8.54400374531753, 12.328828005937952, 17.11724276862369, 19.949937343260004, 21.447610589527216, 24.228082879171435, 27.40437921208944, 29.68164415931166, 31.51190251317746, 33.58571124749333, 32.54228019054596, 24.55605831561735, 19.1049731745428, 15.394804318340652, 12.083045973594572, 8.426149773176359, 8.366600265340756, 7.280109889280518, 8.18535277187245, 6.164414002968976, 5.291502622129181, 3.4641016151377544, 3.0, 5.196152422706632, 9.539392014169456, 19.235384061671343, 24.331050121192877, 19.672315572906, 17.08800749063506, 19.82422760159901, 20.074859899884732, 19.672315572906, 18.05547008526779, 16.217274740226856, 16.46207763315433, 24.596747752497688, 34.64101615137755, 28.600699292150182, 26.664583251946766, 27.03701166919155, 23.769728648009426, 19.544820285692065, 17.233687939614086, 15.588457268119896, 12.84523257866513, 9.746794344808963, 8.306623862918075, 9.591663046625438, 15.329709716755891, 26.019223662515376, 34.813790371058424, 25.709920264364882, 20.445048300260872, 22.090722034374522, 22.847319317591726, 22.715633383201094, 21.863211109075447, 22.181073012818835, 22.759613353482084, 26.814175355583846, 33.331666624997915, 26.758176320519304, 23.302360395462088, 22.22611077089287, 21.447610589527216, 17.146428199482248, 15.491933384829668, 14.933184523068078, 12.12435565298214, 9.055385138137417, 8.366600265340756, 8.94427190999916, 14.45683229480096, 24.596747752497688, 33.12099032335839, 24.779023386727733, 19.339079605813716, 18.411952639521967, 18.24828759089466, 14.0, 10.816653826391969, 13.564659966250536, 15.524174696260024, 17.86057109949175, 24.79919353527449, 20.049937655763422, 10.954451150103322, 15.198684153570664, 17.88854381999832, 15.033296378372908, 15.588457268119896, 15.716233645501712, 13.152946437965905, 10.344080432788601, 8.660254037844387, 9.0, 14.560219778561036, 24.49489742783178, 34.26368339802363, 25.553864678361276, 21.118712081942874, 23.769728648009426, 25.84569596664017, 25.45584412271571, 25.96150997149434, 27.53179979587241, 27.422618401604176, 31.606961258558215, 38.66522985836241, 30.380915061926625, 27.184554438136374, 26.94438717061496, 24.919871588754223, 20.688160865577203, 18.303005217723125, 16.822603841260722, 14.696938456699069, 11.313708498984761, 9.591663046625438, 9.746794344808963, 15.588457268119896, 25.709920264364882, 34.87119154832539, 25.768197453450252, 21.470910553583888, 24.166091947189145, 26.267851073127396, 26.115129714401192, 27.53179979587241, 29.13760456866693, 30.01666203960727, 33.28663395418648, 40.13726448077895, 30.528675044947494, 26.90724809414742, 26.0, 25.25866188063018, 20.54263858417414, 20.074859899884732, 18.973665961010276, 17.46424919657298, 14.035668847618199, 11.045361017187261, 9.055385138137417, 10.63014581273465, 14.071247279470288, 20.591260281974, 21.354156504062622, 22.22611077089287, 24.269322199023193, 28.39013913315678, 29.664793948382652, 29.24038303442689, 32.01562118716424, 30.773365106858236, 30.265491900843113, 27.129319932501073, 22.825424421026653, 22.64950330581225, 22.06807649071391, 21.447610589527216, 18.81488772222678, 19.28730152198591, 16.34013463836819, 13.96424004376894, 11.789826122551595, 9.486832980505138, 7.745966692414834, 8.426149773176359, 11.704699910719626, 15.0, 18.193405398660254, 18.947295321496416, 21.587033144922902, 25.019992006393608, 28.0, 29.698484809834994, 30.983866769659336, 32.109188716004645, 30.18277654557314, 27.712812921102035, 23.895606290697042, 22.40535650240808, 21.354156504062622, 20.591260281974, 18.33030277982336, 15.620499351813308, 13.601470508735444, 9.643650760992955, 7.874007874011811, 8.06225774829855, 9.899494936611665, 15.066519173319364, 24.1039415863879, 31.352830813181765, 23.2379000772445, 20.37154878746336, 20.54263858417414, 22.181073012818835, 22.44994432064365, 23.979157616563597, 24.576411454889016, 28.61817604250837, 30.4138126514911, 38.43175770115127, 32.109188716004645, 28.89636655359978, 28.24889378365107, 25.729360660537214, 21.142374511865974, 19.493588689617926, 16.673332000533065, 12.767145334803704, 11.269427669584644, 9.746794344808963, 10.488088481701515, 15.198684153570664, 26.551836094703507, 34.655446902326915, 26.43860813280457, 21.494185260204677, 23.664319132398465, 24.20743687382041, 23.727621035409346, 24.859605789312106, 25.219040425836983, 27.820855486487112, 30.983866769659336, 39.0, 31.937438845342623, 29.393876913398138, 29.427877939124322, 27.640549922170507, 22.956480566497994, 20.0, 18.35755975068582, 15.0, 12.24744871391589, 10.198039027185569, 10.344080432788601, 16.06237840420901, 27.2213151776324, 36.78314831549904, 26.888659319497503, 22.22611077089287, 24.24871130596428, 25.079872407968907, 26.888659319497503, 26.419689627245813, 28.0178514522438, 30.708305065568176, 34.942810419312295, 42.883563284783136, 35.888716889852724, 33.66006535941367, 32.17141588429082, 30.116440692751194, 24.779023386727733, 21.587033144922902, 19.748417658131498, 15.937377450509228, 13.038404810405298, 10.44030650891055, 10.295630140987, 16.55294535724685, 27.94637722496424, 35.79106033634656, 27.51363298439521, 21.95449840010015, 24.145392935299274, 26.720778431774775, 26.758176320519304, 26.664583251946766, 27.94637722496424, 30.93541659651604, 34.55430508634199, 42.14261501141095, 35.4964786985977, 32.848135411313685, 32.341923257592455, 30.805843601498726, 24.779023386727733, 22.135943621178654, 20.024984394500787, 16.15549442140351, 13.564659966250536, 10.723805294763608, 10.816653826391969, 16.852299546352718, 27.331300737432898, 37.49666651850535, 27.784887978899608, 24.145392935299274, 27.184554438136374, 30.643106892089126, 29.32575659723036, 31.064449134018133, 32.68026927673638, 34.0, 38.2099463490856, 43.98863489584554, 35.608987629529715, 32.32645975048923, 30.789608636681304, 29.664793948382652, 26.038433132583073, 23.173260452512935, 22.40535650240808, 19.924858845171276, 16.24807680927192, 12.767145334803704, 10.392304845413264, 11.916375287812984, 16.24807680927192, 22.11334438749598, 25.337718918639855, 24.859605789312106, 28.705400188814647, 32.7414110874898, 34.899856733230294, 37.16180835212409, 39.26830783214372, 39.72404813208241, 39.1279950930277, 37.296112397943034, 32.01562118716424, 31.176914536239792, 31.78049716414141, 30.364452901377952, 25.592967784139454, 24.06241883103193, 21.283796653792763, 17.944358444926362, 14.866068747318506, 12.12435565298214, 9.797958971132712, 10.488088481701515, 13.0, 18.49324200890693, 22.02271554554524, 23.790754506740637, 27.147743920996454, 30.430248109405877, 34.0, 34.655446902326915, 36.72873534441391, 37.53664875824692, 36.90528417449187, 36.0, 32.64965543462902, 31.368774282716245, 31.352830813181765, 29.0, 24.24871130596428, 21.633307652783937, 17.175564037317667, 12.449899597988733, 10.535653752852738, 9.273618495495704, 11.180339887498949, 18.947295321496416, 30.298514815086232, 38.3275357934736, 28.39013913315678, 24.06241883103193, 25.729360660537214, 28.600699292150182, 28.600699292150182, 30.331501776206203, 31.51190251317746, 34.899856733230294, 39.61060464067672, 49.0, 42.17819341792628, 38.948684188300895, 38.768543949960254, 34.828149534535996, 28.337254630609507, 23.065125189341593, 20.73644135332772, 16.583123951777, 12.489995996796797, 11.135528725660043, 12.767145334803704, 19.697715603592208, 32.14031735997639, 40.95119045888654, 29.444863728670914, 25.768197453450252, 26.38181191654584, 30.215889859476256, 29.49576240750525, 30.512292604784715, 31.0, 34.249087579087416, 37.89459064299283, 46.195237849804386, 37.61648574760805, 38.34057902536163, 34.97141690009142, 32.09361307176243, 21.307275752662516, 18.841443681416774, 10.63014581273465, 3.872983346207417, 4.69041575982343, 3.7416573867739413, 4.358898943540674, 13.114877048604, 25.787593916455254, 35.832945734337834, 19.44222209522358, 22.47220505424423, 27.27636339397171, 30.463092423455635, 30.83828789021855, 33.1058907144937, 34.77067730142742, 37.589892258425, 41.773197148410844, 49.01020301937138, 40.32369030731191, 37.067505985701274, 35.4400902933387, 32.264531609803356, 25.84569596664017, 20.8806130178211, 19.313207915827967, 14.832396974191326, 12.24744871391589, 9.327379053088816, 4.242640687119285, 4.58257569495584, 6.164414002968976, 14.38749456993816, 11.357816691600547, 9.746794344808963, 6.855654600401044, 8.366600265340756, 9.16515138991168, 6.782329983125268, 6.082762530298219, 5.5677643628300215, 6.782329983125268, 8.660254037844387, 8.660254037844387, 7.483314773547883, 9.9498743710662, 8.774964387392123, 8.888194417315589, 7.483314773547883, 7.0710678118654755, 5.196152422706632, 4.242640687119285, 3.0, 7.3484692283495345, 13.341664064126334, 24.310491562286437, 35.14256678161116, 26.814175355583846, 23.0, 24.454038521274967, 27.49545416973504, 26.13426869074396, 23.916521486202797, 23.345235059857504, 24.186773244895647, 27.85677655436824, 33.37663853655727, 25.67099530598687, 22.538855339169288, 21.142374511865974, 22.338307903688676, 17.663521732655695, 16.792855623746664, 15.0, 11.090536506409418, 11.045361017187261, 8.94427190999916, 7.54983443527075, 10.392304845413264, 14.352700094407323, 19.974984355438178, 20.639767440550294, 21.283796653792763, 23.515952032609693, 26.40075756488817, 29.189039038652847, 30.315012782448235, 30.4138126514911, 29.949958263743873, 30.133038346638727, 26.720778431774775, 22.759613353482084, 21.400934559032695, 21.047565179849187, 20.639767440550294, 19.183326093250876, 18.027756377319946, 14.966629547095765, 13.820274961085254, 11.874342087037917, 9.486832980505138, 7.681145747868608, 10.04987562112089, 12.609520212918492, 18.2208671582886, 20.12461179749811, 22.22611077089287, 24.20743687382041, 26.627053911388696, 29.103264421710495, 27.874719729532707, 18.520259177452136, 11.704699910719626, 7.615773105863909, 4.69041575982343, 6.6332495807108, 9.643650760992955, 13.038404810405298, 13.30413469565007, 13.490737563232042, 14.035668847618199, 11.832159566199232, 9.848857801796104, 7.211102550927978, 6.557438524302, 9.539392014169456, 15.459624833740307, 25.514701644346147, 34.10278580995987, 26.115129714401192, 22.494443758403985, 25.37715508089904, 28.26658805020514, 29.478805945967352, 30.347981810987037, 32.218007387174026, 34.42382895611701, 38.45776904605882, 49.0, 39.98749804626441, 36.90528417449187, 35.09985754956849, 32.69556544854363, 24.95996794869737, 22.02271554554524, 19.390719429665317, 15.811388300841896, 12.206555615733702, 10.099504938362077, 11.090536506409418, 19.235384061671343, 31.32091952673165, 41.255302689472536, 31.336879231984796, 26.514147167125703, 28.965496715920477, 31.984371183438952, 31.096623610932426, 30.215889859476256, 30.54504869860253, 32.863353450309965, 31.68595903550972, 42.485291572496, 33.95585369269929, 18.33030277982336, 11.532562594670797, 8.660254037844387, 14.560219778561036, 0.0, 0.0, 0.0, 0.0, 0.0, 0.0, 0.0, 0.0, 0.0, 0.0, 0.0, 0.0, 0.0, 0.0, 0.0, 0.0, 0.0, 0.0, 0.0, 0.0, 0.0, 0.0, 0.0, 0.0, 22.44994432064365, 19.339079605813716, 16.401219466856727, 13.490737563232042, 9.899494936611665, 12.0, 19.364916731037084, 32.46536616149585, 42.2965719651132, 30.854497241083024, 26.19160170741759, 28.792360097775937, 31.12876483254676, 32.07802986469088, 31.464265445104548, 32.77193921634788, 35.679125549822544, 40.792156108742276, 48.569537778323564, 40.50925820105819, 36.318039594669756, 35.22782990761707, 33.793490497431605, 27.784887978899608, 22.9128784747792, 20.784609690826528, 16.0312195418814, 12.922847983320086, 10.583005244258363, 12.489995996796797, 19.183326093250876, 31.606961258558215, 41.48493702538308, 31.336879231984796, 27.2213151776324, 29.444863728670914, 33.090784215548595, 31.192947920964443, 32.60368077380221, 33.28663395418648, 35.63705936241092, 40.76763422127902, 49.03060268852505, 40.50925820105819, 36.864617182333525, 36.207733980463345, 34.322004603461025, 29.13760456866693, 25.768197453450252, 22.64950330581225, 15.905973720586866, 7.874007874011811, 6.244997998398398, 4.47213595499958, 3.4641016151377544, 4.242640687119285, 4.123105625617661, 4.123105625617661, 6.557438524302, 7.211102550927978, 8.660254037844387, 8.366600265340756, 11.045361017187261, 14.247806848775006, 21.095023109728988, 25.98076211353316, 26.570660511172846, 24.73863375370596, 25.298221281347036, 25.15949125081825, 24.20743687382041, 22.427661492005804, 21.79449471770337, 18.681541692269406, 15.937377450509228, 13.527749258468683, 10.488088481701515, 8.06225774829855, 10.099504938362077, 14.933184523068078, 20.024984394500787, 22.64950330581225, 24.124676163629637, 28.231188426986208, 33.24154027718932, 35.05709628591621, 32.90896534380867, 7.874007874011811, 11.135528725660043, 6.48074069840786, 18.520259177452136, 17.804493814764857, 17.233687939614086, 21.540659228538015, 24.899799195977465, 21.61018278497431, 20.024984394500787, 15.033296378372908, 11.224972160321824, 10.344080432788601, 8.660254037844387, 11.489125293076057, 20.12461179749811, 32.38826948140329, 41.38840417314975, 30.364452901377952, 26.457513110645905, 29.24038303442689, 32.43454948045371, 31.192947920964443, 31.874754901018456, 33.83784863137726, 38.1051177665153, 41.86884283091664, 51.884487084291386, 41.46082488325576, 38.704004960727254, 36.810324638611924, 33.15116890850155, 27.073972741361768, 22.427661492005804, 20.518284528683193, 15.394804318340652, 12.806248474865697, 10.488088481701515, 11.958260743101398, 20.149441679609886, 33.166247903554, 43.81780460041329, 31.827660925679098, 27.03701166919155, 28.6705423736629, 33.34666400106613, 31.73326330524486, 32.202484376209235, 33.46640106136302, 36.22154055254967, 40.39801975344831, 41.557189510360296, 36.823905279043935, 35.91656999213594, 36.3318042491699, 32.72613634390714, 26.076809620810597, 22.693611435820433, 19.364916731037084, 16.1245154965971, 12.806248474865697, 10.246950765959598, 12.409673645990857, 19.87460691435179, 32.90896534380867, 42.60281680828159, 31.416556144810016, 27.586228448267445, 29.068883707497267, 32.357379374726875, 31.22498999199199, 31.096623610932426, 33.896902513356586, 36.68787265568828, 41.689327171351664, 43.79497688091638, 29.017236257093817, 36.68787265568828, 34.77067730142742, 31.670175244226233, 25.903667693977237, 22.80350850198276, 6.48074069840786, 16.76305461424021, 14.352700094407323, 11.180339887498949, 12.36931687685298, 19.157244060668017, 15.937377450509228, 4.47213595499958, 17.776388834631177, 11.789826122551595, 28.19574435974337, 30.315012782448235, 30.495901363953813, 31.559467676119, 32.2335229225724, 34.61213659975356, 39.16631205513228, 46.88283267892417, 38.58756276314948, 36.235341863986875, 34.132096331752024, 32.46536616149585, 26.019223662515376, 23.515952032609693, 20.8806130178211, 17.46424919657298, 13.711309200802088, 11.575836902790225, 12.96148139681572, 20.346989949375804, 31.28897569432403, 40.7308237088326, 31.016124838541646, 26.60826939130014, 28.372521918222215, 31.921779399024736, 31.192947920964443, 31.144823004794873, 32.863353450309965, 34.72751070837067, 39.28103868280471, 47.62352359916263, 39.72404813208241, 36.851051545376556, 34.828149534535996, 34.39476704383968, 29.8496231131986, 26.589471600616662, 25.059928172283335, 20.8806130178211, 17.52141546793523, 12.884098726725126, 11.045361017187261, 13.564659966250536, 18.0, 24.49489742783178, 25.436194683953808, 26.49528259898354, 29.5296461204668, 33.61547262794322, 36.26292872893749, 38.87158345115362, 41.593268686170845, 44.06812907306141, 45.077710678338576, 44.56455991031439, 41.36423575989287, 39.761790704142086, 38.61346915261564, 35.94440151122286, 31.432467291003423, 28.74021572639983, 24.041630560342615, 20.248456731316587, 17.0, 13.856406460551018, 11.661903789690601, 12.449899597988733, 16.673332000533065, 20.71231517720798, 15.716233645501712, 22.045407685048602, 20.591260281974, 25.11971337416094, 29.017236257093817, 19.595917942265423, 15.297058540778355, 10.14889156509222, 6.782329983125268, 7.937253933193772, 5.656854249492381, 3.4641016151377544, 4.898979485566356, 3.605551275463989, 4.242640687119285, 9.0, 6.4031242374328485, 4.58257569495584, 2.8284271247461903, 1.4142135623730951, 2.449489742783178, 2.23606797749979, 4.123105625617661, 5.0, 3.0, 3.4641016151377544, 3.1622776601683795, 3.1622776601683795, 3.3166247903554, 4.123105625617661, 3.7416573867739413, 6.4031242374328485, 6.48074069840786, 6.244997998398398, 7.0710678118654755, 6.082762530298219, 9.055385138137417, 12.806248474865697, 15.264337522473747, 14.594519519326424, 12.529964086141668, 8.246211251235321, 5.916079783099616, 5.830951894845301, 8.774964387392123, 16.186414056238647, 27.40437921208944, 38.7556447501522, 28.53068523537421, 25.25866188063018, 26.645825188948457, 30.4138126514911, 30.380915061926625, 30.692018506445613, 31.160872901765767, 33.436506994600975, 38.23610858861032, 48.14561246884289, 39.74921382870358, 36.49657518178932, 37.04051835490427, 34.85685011586675, 26.92582403567252, 23.15167380558045, 21.071307505705477, 17.4928556845359, 14.352700094407323, 10.816653826391969, 12.165525060596439, 21.18962010041709, 33.51119216023208, 43.58898943540674, 32.64965543462902, 27.49545416973504, 30.62678566222711, 34.52535300326414, 33.77869150810907, 34.07345007480164, 34.351128074635334, 38.03945320322047, 43.3358973600409, 52.98112871579842, 44.24929377967517, 40.63249930782009, 39.91240408695021, 37.17526059088221, 30.099833886584822, 26.30589287593181, 23.366642891095847, 20.223748416156685, 15.459624833740307, 11.832159566199232, 13.416407864998739, 21.2602916254693, 33.52610922848042, 43.965895873961216, 32.046840717924134, 27.294688127912362, 30.495901363953813, 34.597687784012386, 32.92415526630866, 33.51119216023208, 35.02855977627399, 37.22902093797257, 42.37924020083418, 50.73460357586329, 43.485629810317796, 39.1279950930277, 38.03945320322047, 33.85262175962151, 29.171904291629644, 25.748786379167466, 23.706539182259394, 19.0, 16.06237840420901, 11.832159566199232, 13.038404810405298, 20.663978319771825, 33.60059523282288, 43.840620433565945, 31.38470965295043, 28.089143810376278, 31.400636936215164, 33.793490497431605, 33.66006535941367, 33.391615714128, 35.397740040855716, 38.02630668366309, 43.32435804486894, 50.76416058598822, 42.567593307585526, 38.71692136521188, 36.90528417449187, 35.749125863438955, 31.22498999199199, 27.874719729532707, 25.92296279363144, 22.847319317591726, 18.027756377319946, 12.884098726725126, 12.328828005937952, 15.165750888103101, 19.390719429665317, 25.436194683953808, 28.19574435974337, 28.42534080710379, 31.622776601683793, 35.749125863438955, 37.469987990390386, 39.96248240537617, 43.30127018922193, 44.10215414239989, 45.19955751995809, 43.382023926967726, 39.87480407475377, 37.881393849751625, 36.75595189897821, 34.132096331752024, 30.083217912982647, 28.106938645110393, 23.53720459187964, 20.615528128088304, 16.217274740226856, 13.527749258468683, 11.74734012447073, 13.527749258468683, 17.52141546793523, 22.02271554554524, 26.758176320519304, 28.053520278211074, 32.55764119219941, 37.080992435478315, 40.43513323831146, 42.59107887809371, 44.93328387732194, 45.21061822182926, 45.760244754590204, 44.15880433163923, 41.376321731154405, 38.535697735995385, 37.17526059088221, 33.58571124749333, 28.635642126552707, 23.853720883753127, 19.026297590440446, 15.684387141358123, 12.529964086141668, 11.489125293076057, 13.601470508735444, 19.924858845171276, 32.78719262151, 42.320207938997655, 31.352830813181765, 27.23967694375247, 30.01666203960727, 33.075670817082454, 31.921779399024736, 32.48076353782343, 34.17601498127012, 36.66060555964672, 41.30375285612676, 50.57667446560717, 45.43126676640219, 41.2674205639267, 41.36423575989287, 38.157568056677825, 32.31098884280702, 27.964262908219126, 26.551836094703507, 23.108440016582687, 18.520259177452136, 13.674794331177344, 12.884098726725126, 17.4928556845359, 24.779023386727733, 32.66496594212215, 32.0, 31.654383582688826, 33.421549934136806, 36.26292872893749, 38.63935817272331, 39.191835884530846, 40.48456495999432, 41.94043395102154, 43.56604182158393, 45.628938186199335, 41.182520563948, 40.69397989875161, 40.54626986542659, 37.416573867739416, 29.24038303442689, 24.73863375370596, 20.322401432901575, 15.652475842498529, 13.038404810405298, 9.643650760992955, 8.717797887081348, 8.18535277187245, 10.099504938362077, 23.558437978779494, 24.677925358506133, 22.045407685048602, 14.352700094407323, 7.937253933193772, 18.083141320025124, 19.390719429665317, 11.958260743101398, 20.0, 28.513154858766505, 22.759613353482084, 11.445523142259598, 11.090536506409418, 18.083141320025124, 17.291616465790582, 17.146428199482248, 19.0, 17.97220075561143, 15.84297951775486, 12.489995996796797, 10.44030650891055, 12.767145334803704, 21.656407827707714, 34.058772731852805, 44.11349000022555, 32.57299494980466, 27.60434748368452, 28.178005607210743, 29.512709126747414, 22.715633383201094, 19.157244060668017, 24.289915602982237, 30.18277654557314, 37.69615364994153, 48.062459362791664, 40.779897008207364, 37.429934544425805, 37.255872020394314, 34.66987164671943, 28.844410203711913, 24.979991993593593, 21.908902300206645, 18.76166303929372, 14.966629547095765, 11.74734012447073, 13.638181696985855, 22.825424421026653, 35.4964786985977, 45.17742799230607, 33.98529093593286, 29.393876913398138, 31.953090617340916, 34.72751070837067, 34.95711658589707, 35.58089374931439, 36.373066958946424, 38.742741255621034, 43.09292285283048, 51.58488150611572, 43.474130238568314, 37.26929030716845, 36.02776706930364, 35.4400902933387, 30.577769702841312, 28.21347195933177, 26.758176320519304, 22.538855339169288, 19.79898987322333, 15.874507866387544, 13.784048752090222, 15.716233645501712, 18.76166303929372, 24.06241883103193, 27.54995462791182, 29.614185789921695, 32.0, 35.4682957019364, 37.52332607858744, 40.85339643163099, 42.86023798347368, 34.97141690009142, 44.87761134463375, 43.9203825119955, 41.86884283091664, 39.52214569073901, 39.382737335030434, 36.87817782917155, 33.12099032335839, 27.073972741361768, 13.45362404707371, 8.602325267042627, 6.557438524302, 4.0, 3.3166247903554, 2.6457513110645907, 4.0, 4.0, 3.4641016151377544, 3.605551275463989, 3.1622776601683795, 8.426149773176359, 14.52583904633395, 19.595917942265423, 27.748873851023216, 38.49675310984031, 41.677331968349414, 42.988370520409354, 40.48456495999432, 39.06404996924922, 38.07886552931954, 35.91656999213594, 31.874754901018456, 27.892651361962706, 24.677925358506133, 20.09975124224178, 15.7797338380595, 13.601470508735444, 13.038404810405298, 14.866068747318506, 19.72308292331602, 24.49489742783178, 27.147743920996454, 29.916550603303182, 34.161381705077446, 37.603191353926334, 40.80441152620633, 44.384682042344295, 46.8081189538738, 47.042533945356304, 48.908077042549934, 47.62352359916263, 40.792156108742276, 43.726422218150894, 41.43669871020132, 36.55133376499413, 31.52776554086889, 26.68332812825267, 20.73644135332772, 16.941074346097416, 13.92838827718412, 12.449899597988733, 14.142135623730951, 23.558437978779494, 35.77708763999664, 44.45222154178574, 33.58571124749333, 28.142494558940577, 30.919249667480614, 33.689761055846034, 33.421549934136806, 33.1058907144937, 35.59494346111537, 38.17066936798463, 44.94441010848846, 46.281745861624536, 47.3392015141785, 41.54515615568198, 38.897300677553446, 35.81898937714463, 27.694764848252458, 23.49468024894146, 5.830951894845301, 15.652475842498529, 13.674794331177344, 10.677078252031311, 14.247806848775006, 23.57965224510319, 36.51027252705737, 45.47526800360829, 30.463092423455635, 30.886890422961002, 31.85906464414798, 35.24202037341219, 34.46737587922817, 34.438350715445125, 36.38681079732051, 40.0374824383352, 45.09988913511872, 55.94640292279746, 49.040799340956916, 44.48595283907045, 44.04543109109048, 40.024992192379, 32.7566787083184, 0.0, 0.0, 0.0, 0.0, 0.0, 0.0, 0.0, 0.0, 0.0, 0.0, 0.0, 0.0, 0.0, 0.0, 0.0, 0.0, 0.0, 0.0, 0.0, 0.0, 0.0, 0.0, 0.0, 0.0, 26.90724809414742, 23.769728648009426, 19.44222209522358, 15.874507866387544, 12.409673645990857, 14.933184523068078, 22.045407685048602, 34.0, 43.37049688440288, 29.154759474226502, 28.5657137141714, 31.176914536239792, 34.07345007480164, 34.307433596816885, 34.26368339802363, 35.98610843089316, 38.67815921162743, 43.162483709814474, 51.97114584074513, 44.710177812216315, 30.675723300355934, 40.54626986542659, 39.44616584663204, 34.42382895611701, 29.359836511806396, 25.865034312755125, 20.396078054371138, 18.920887928424502, 14.38749456993816, 8.366600265340756, 6.082762530298219, 6.557438524302, 4.47213595499958, 4.0, 2.449489742783178, 4.242640687119285, 3.3166247903554, 4.358898943540674, 4.69041575982343, 4.123105625617661, 5.830951894845301, 4.898979485566356, 4.69041575982343, 5.385164807134504, 5.385164807134504, 5.0, 5.477225575051661, 7.0710678118654755, 12.041594578792296, 13.341664064126334, 13.74772708486752, 11.874342087037917, 9.1104335791443, 8.48528137423857, 11.789826122551595, 14.832396974191326, 19.924858845171276, 24.06241883103193, 26.758176320519304, 31.51190251317746, 37.86819245752297, 42.883563284783136, 45.332107826572546, 48.25971404805462, 48.774993593028796, 49.09175083453431, 48.35286961494633, 44.97777228809804, 41.400483088968905, 39.63584236521283, 33.98529093593286, 28.53068523537421, 24.1039415863879, 19.4164878389476, 15.524174696260024, 12.922847983320086, 11.0, 14.106735979665885, 23.49468024894146, 35.369478367654786, 44.68780594300866, 33.25657829663178, 27.910571473905726, 30.757112998459398, 33.090784215548595, 32.41913015489465, 33.52610922848042, 34.219877264537345, 37.8549864614954, 43.485629810317796, 53.907327887774215, 47.286361670147556, 44.328320518603, 43.41658669218482, 40.59556626036888, 32.72613634390714, 27.640549922170507, 23.727621035409346, 19.28730152198591, 15.524174696260024, 13.038404810405298, 13.490737563232042, 23.706539182259394, 35.199431813596085, 45.37620521815371, 33.88214869219483, 28.844410203711913, 30.72458299147443, 32.526911934581186, 32.863353450309965, 33.04542328371661, 34.785054261852174, 38.18376618407357, 44.170125650715555, 53.99073994677235, 47.41307836451879, 44.24929377967517, 44.090815370097204, 40.496913462633174, 29.120439557122072, 25.729360660537214, 22.40535650240808, 12.041594578792296, 12.884098726725126, 11.135528725660043, 7.211102550927978, 11.61895003862225, 19.157244060668017, 17.05872210923198, 9.848857801796104, 9.0, 15.588457268119896, 7.681145747868608, 12.288205727444508, 15.748015748023622, 15.491933384829668, 14.933184523068078, 17.435595774162696, 23.706539182259394, 20.09975124224178, 18.384776310850235, 19.949937343260004, 19.974984355438178, 15.0, 10.862780491200215, 12.0, 8.831760866327848, 6.164414002968976, 7.14142842854285, 7.3484692283495345, 8.306623862918075, 8.94427190999916, 12.328828005937952, 5.291502622129181, 11.874342087037917, 13.490737563232042, 21.61018278497431, 24.331050121192877, 18.76166303929372, 13.638181696985855, 10.099504938362077, 11.445523142259598, 20.760539492026695, 5.385164807134504, 4.123105625617661, 4.242640687119285, 5.0990195135927845, 5.916079783099616, 11.357816691600547, 10.770329614269007, 6.928203230275509, 6.855654600401044, 4.69041575982343, 5.385164807134504, 8.774964387392123, 14.491376746189438, 20.0, 20.663978319771825, 21.307275752662516, 18.76166303929372, 13.601470508735444, 22.561028345356956, 26.40075756488817, 30.099833886584822, 34.38022687534217, 39.382737335030434, 47.54997371187496, 41.84495190581536, 37.22902093797257, 35.53871128783372, 34.942810419312295, 29.393876913398138, 26.248809496813376, 26.0, 22.93468988235943, 17.88854381999832, 14.594519519326424, 14.071247279470288, 15.297058540778355, 20.8806130178211, 27.676705006196094, 30.528675044947494, 32.41913015489465, 35.91656999213594, 39.66106403010388, 43.18564576337837, 46.130250378683186, 47.62352359916263, 49.78955713801841, 48.52834223420371, 49.38623289946298, 46.26013402488151, 43.266615305567875, 42.190046219457976, 39.93745109543172, 34.19064199455752, 31.400636936215164, 26.70205984563738, 21.748563170931547, 18.627936010197157, 14.317821063276353, 12.649110640673518, 13.784048752090222, 18.466185312619388, 22.891046284519195, 26.0, 29.9833287011299, 31.827660925679098, 36.235341863986875, 39.48417404479927, 40.98780306383839, 44.710177812216315, 46.292547996410825, 48.062459362791664, 49.02040391510457, 46.314144707637645, 42.96510211788167, 40.44749683231337, 36.40054944640259, 30.708305065568176, 25.80697580112788, 20.493901531919196, 16.186414056238647, 12.84523257866513, 10.63014581273465, 14.142135623730951, 21.61018278497431, 33.689761055846034, 42.24926034855522, 33.436506994600975, 31.016124838541646, 33.60059523282288, 37.05401462729781, 38.157568056677825, 38.50973902793941, 40.149719799769464, 42.661458015403085, 47.05316142407437, 55.39855593785816, 49.49747468305833, 46.551047249229526, 45.44227107000705, 42.80186911806539, 35.679125549822544, 30.93541659651604, 28.460498941515414, 24.289915602982237, 20.149441679609886, 15.748015748023622, 13.490737563232042, 16.64331697709324, 21.047565179849187, 26.343879744638983, 30.199337741083, 33.45145736735546, 37.92097045171708, 42.40283009422838, 44.721359549995796, 37.5099986670221, 12.767145334803704, 9.273618495495704, 7.0710678118654755, 5.477225575051661, 6.708203932499369, 5.477225575051661, 7.615773105863909, 5.385164807134504, 4.242640687119285, 5.656854249492381, 5.0, 5.830951894845301, 6.557438524302, 7.681145747868608, 12.328828005937952, 20.8806130178211, 35.22782990761707, 45.110974274559844, 33.54101966249684, 29.512709126747414, 31.811947441173732, 34.87119154832539, 34.161381705077446, 34.39476704383968, 36.49657518178932, 39.534794801541594, 45.48626166217664, 55.883808030591474, 49.53786430600334, 44.73253849269008, 42.81354925721529, 39.84971769034255, 32.863353450309965, 27.892651361962706, 24.041630560342615, 19.621416870348583, 16.278820596099706, 12.68857754044952, 14.317821063276353, 23.021728866442675, 37.282703764614496, 45.617978911828175, 35.014282800023196, 29.664793948382652, 30.364452901377952, 32.96968304366907, 32.83291031876401, 32.54228019054596, 34.26368339802363, 38.144462245521304, 43.162483709814474, 53.150729063673246, 48.31148931672465, 43.61192497471305, 42.871902220452036, 40.963398296528084, 32.96968304366907, 28.827070610799147, 24.698178070456937, 20.904544960366874, 16.911534525287763, 13.711309200802088, 14.177446878757825, 23.043437243605826, 35.35533905932738, 44.67661580737735, 33.481338085566414, 28.61817604250837, 30.967725134404045, 32.89376840679705, 33.25657829663178, 34.07345007480164, 36.138621999185304, 39.153543900903784, 44.86646854834911, 54.0, 47.19110085598767, 43.64630568559039, 41.71330722922842, 40.3732584763727, 34.77067730142742, 31.416556144810016, 28.930952282978865, 23.916521486202797, 20.46948949045872, 15.231546211727817, 14.071247279470288, 17.291616465790582, 22.427661492005804, 27.622454633866266, 31.496031496047245, 31.78049716414141, 34.11744421846396, 35.84689665786984, 37.960505792204614, 38.05259518088089, 39.68626966596886, 41.10960958218893, 43.42810150121693, 44.94441010848846, 44.553338819890925, 43.69210454990696, 43.02324952859791, 41.02438299353203, 36.46916505762094, 33.0, 28.26658805020514, 23.558437978779494, 20.566963801203133, 14.422205101855956, 13.19090595827292, 15.297058540778355, 18.466185312619388, 24.657656011875904, 27.60434748368452, 28.653097563788805, 31.68595903550972, 37.469987990390386, 39.736632972611055, 41.593268686170845, 44.93328387732194, 47.34976240700686, 48.03123983409131, 47.61302342846965, 46.97871858618538, 45.21061822182926, 41.58124577258358, 37.067505985701274, 32.72613634390714, 27.748873851023216, 20.97617696340303, 18.303005217723125, 13.601470508735444, 11.575836902790225, 15.716233645501712, 25.317977802344327, 38.7556447501522, 46.84015371452148, 33.63034344160047, 28.77498913987632, 31.400636936215164, 33.74907406137241, 33.52610922848042, 33.58571124749333, 35.4682957019364, 38.691084244306204, 45.387222871640866, 56.96490147450446, 51.536394906900505, 47.45524207081869, 46.26013402488151, 43.37049688440288, 35.31288716601915, 29.0, 26.851443164195103, 21.587033144922902, 16.881943016134134, 14.2828568570857, 15.874507866387544, 25.0, 37.77565353504821, 47.265209192385896, 34.52535300326414, 29.88310559496787, 30.805843601498726, 34.40930106817051, 33.21144381083123, 34.26368339802363, 35.12833614050059, 39.89987468652001, 44.96665431183423, 46.411205543489174, 21.840329667841555, 20.54263858417414, 32.264531609803356, 33.481338085566414, 27.23967694375247, 22.516660498395403, 23.874672772626646, 20.54263858417414, 15.427248620541512, 12.922847983320086, 15.459624833740307, 22.47220505424423, 33.91164991562634, 44.01136216933077, 34.64101615137755, 30.265491900843113, 31.22498999199199, 34.45286635390443, 33.67491648096547, 33.45145736735546, 35.77708763999664, 39.63584236521283, 46.54030511288038, 57.01754116059373, 51.478150704935004, 47.15930449020638, 45.5411901469428, 41.617304093369626, 34.02939905434711, 29.0516780926679, 24.698178070456937, 21.6794833886788, 18.110770276274835, 13.711309200802088, 16.278820596099706, 25.41653005427767, 37.429934544425805, 47.75981574503821, 35.73513677041127, 30.59411708155671, 31.28897569432403, 33.67491648096547, 33.926390907374746, 34.11744421846396, 35.77708763999664, 39.370039370059054, 45.24378410345447, 55.848008021772806, 50.33885179461288, 46.51881339845203, 45.4972526643093, 43.58898943540674, 36.64696440361739, 31.0322412983658, 27.85677655436824, 23.53720459187964, 19.131126469708992, 16.278820596099706, 17.4928556845359, 25.92296279363144, 37.69615364994153, 46.357307945997036, 34.91418050019218, 29.359836511806396, 32.18695387886216, 32.802438933713454, 33.06055050963308, 32.72613634390714, 35.14256678161116, 38.57460304397182, 46.07602413403309, 55.569775957799216, 50.049975024968795, 46.50806381693394, 45.45327270945405, 44.62062303464621, 37.94733192202055, 34.132096331752024, 31.448370387032774, 26.019223662515376, 21.79449471770337, 17.663521732655695, 16.24807680927192, 18.49324200890693, 23.664319132398465, 29.966648127543394, 31.701734968294716, 32.31098884280702, 33.075670817082454, 35.397740040855716, 36.52396473549935, 37.36308338453881, 39.179076048319466, 41.31585652022719, 45.0, 47.391982444291145, 48.342527861087284, 48.35286961494633, 47.30750469005948, 44.37341546466758, 38.600518131237564, 35.32704346531139, 30.033314835362415, 25.942243542145693, 20.904544960366874, 17.146428199482248, 13.892443989449804, 15.0996688705415, 20.566963801203133, 25.67099530598687, 28.827070610799147, 30.62678566222711, 31.25699921617557, 33.67491648096547, 37.322915213043046, 37.403208418530085, 39.44616584663204, 42.82522621072771, 46.16275555033516, 48.46648326421054, 50.1398045468867, 49.59838707054898, 46.61544808322666, 41.72529209005013, 35.6931365951495, 30.62678566222711, 24.413111231467404, 18.734993995195193, 15.620499351813308, 13.114877048604, 17.291616465790582, 27.23967694375247, 38.79432948254165, 47.82258880487337, 35.25620512760839, 31.144823004794873, 31.74901573277509, 33.94112549695428, 32.93933818400121, 33.88214869219483, 35.34119409414458, 40.87786687193939, 46.79743582719036, 58.137767414994535, 52.80151512977634, 50.07993610219566, 48.75448697299562, 44.721359549995796, 36.796738985948195, 30.44667469527666, 27.23967694375247, 21.166010488516726, 17.72004514666935, 14.628738838327793, 16.792855623746664, 27.073972741361768, 40.024992192379, 48.187135212627034, 36.66060555964672, 30.967725134404045, 31.20897306865447, 33.331666624997915, 32.526911934581186, 33.46640106136302, 35.35533905932738, 37.86819245752297, 45.98912915026767, 56.806689746895124, 51.137070702182385, 48.43552415324934, 49.03060268852505, 47.29693436154187, 40.570925550201586, 35.608987629529715, 32.109188716004645, 28.142494558940577, 23.706539182259394, 18.2208671582886, 14.7648230602334, 18.734993995195193, 23.15167380558045, 28.26658805020514, 30.4138126514911, 32.96968304366907, 33.94112549695428, 37.416573867739416, 38.0, 40.0374824383352, 40.91454509095757, 44.04543109109048, 45.86937976471886, 46.49731175025068, 46.50806381693394, 46.314144707637645, 43.98863489584554, 40.29888335921977, 35.369478367654786, 31.272991542223778, 24.61706725018234, 20.445048300260872, 16.583123951777, 13.820274961085254, 16.97056274847714, 26.758176320519304, 39.382737335030434, 48.13522618623496, 36.6333181680284, 30.23243291566195, 31.096623610932426, 33.15116890850155, 32.72613634390714, 33.406586176980134, 34.219877264537345, 37.97367509209505, 44.74371464239419, 56.753854494650845, 51.468436929831086, 47.7283982551269, 46.486557196677836, 44.034077712607996, 35.91656999213594, 30.430248109405877, 27.730849247724095, 22.9128784747792, 19.1049731745428, 15.968719422671311, 17.291616465790582, 27.27636339397171, 39.293765408777, 48.45616575834287, 35.81898937714463, 31.654383582688826, 33.090784215548595, 35.4400902933387, 36.24913792078372, 35.34119409414458, 37.62977544445356, 40.84115571332428, 48.104053883222775, 57.52390807307862, 52.88667128870941, 49.759421218498915, 48.342527861087284, 46.26013402488151, 40.890096600521744, 35.31288716601915, 32.07802986469088, 27.055498516937366, 23.130067012440755, 18.76166303929372, 16.186414056238647, 19.519221295943137, 24.819347291981714, 31.0322412983658, 33.19638534539566, 34.0, 34.64101615137755, 38.23610858861032, 39.786932528155525, 41.7612260356422, 43.474130238568314, 47.92702786528704, 48.52834223420371, 43.977266854592045, 32.526911934581186, 15.684387141358123, 15.0, 27.85677655436824, 27.676705006196094, 21.97726097583591, 19.364916731037084, 12.727922061357855, 12.24744871391589, 13.19090595827292, 11.74734012447073, 14.696938456699069, 17.69180601295413, 24.879710609249457, 28.035691537752374, 30.692018506445613, 32.77193921634788, 37.97367509209505, 41.8568990729127, 44.553338819890925, 46.71188285650665, 48.30113870293329, 49.3051721424842, 48.65182422068057, 47.61302342846965, 47.958315233127195, 45.0111097397076, 40.422765862815474, 34.51086785347479, 30.298514815086232, 23.558437978779494, 18.788294228055936, 15.231546211727817, 13.92838827718412, 18.0, 28.407745422683583, 40.36087214122113, 48.73397172404482, 36.15245496505044, 31.496031496047245, 33.27160951922825, 34.698703145794944, 32.14031735997639, 32.78719262151, 35.21363372331802, 34.92849839314596, 38.40572873934304, 38.61346915261564, 29.546573405388315, 35.77708763999664, 40.58324777540605, 33.421549934136806, 19.595917942265423, 21.6794833886788, 21.307275752662516, 19.621416870348583, 14.352700094407323, 12.0, 17.204650534085253, 27.202941017470888, 39.66106403010388, 49.949974974968704, 36.29049462324811, 31.160872901765767, 33.04542328371661, 34.66987164671943, 34.85685011586675, 35.298725189445584, 37.77565353504821, 41.400483088968905, 47.644516998286385, 58.34380858325929, 53.600373133029585, 50.78385570237849, 50.049975024968795, 48.05205510693585, 40.70626487409524, 35.6931365951495, 32.984845004941285, 29.103264421710495, 24.310491562286437, 20.518284528683193, 17.029386365926403, 20.396078054371138, 25.632011235952593, 30.967725134404045, 33.331666624997915, 35.62302626111375, 38.44476557348217, 41.79712908801273, 42.82522621072771, 45.69463863518345, 47.83304297240559, 49.73932046178355, 51.61395160225576, 49.78955713801841, 49.03060268852505, 47.70744176750625, 46.54030511288038, 43.977266854592045, 37.33630940518894, 32.357379374726875, 26.739483914241877, 21.283796653792763, 17.0, 13.892443989449804, 12.409673645990857, 10.0, 9.695359714832659, 13.674794331177344, 13.228756555322953, 23.065125189341593, 27.110883423451916, 30.740852297878796, 32.49615361854384, 33.95585369269929, 35.94440151122286, 39.370039370059054, 43.977266854592045, 54.42425929675111, 43.08131845707603, 39.45883931389772, 42.50882261366456, 41.677331968349414, 35.98610843089316, 31.400636936215164, 26.77685567799177, 20.074859899884732, 12.409673645990857, 8.48528137423857, 12.68857754044952, 24.677925358506133, 38.301436004411116, 48.249352327259274, 34.20526275297414, 31.68595903550972, 33.436506994600975, 34.539832078341085, 32.17141588429082, 32.046840717924134, 38.22302970723278, 41.54515615568198, 49.59838707054898, 53.76802023508026, 54.62600113499065, 49.4064773081425, 48.342527861087284, 46.42197755374064, 39.91240408695021, 34.88552708502482, 32.49615361854384, 27.640549922170507, 22.759613353482084, 17.804493814764857, 16.64331697709324, 19.519221295943137, 24.145392935299274, 29.866369046136157, 33.823069050575526, 34.14674215792775, 36.46916505762094, 39.05124837953327, 41.27953488110059, 42.22558466143482, 43.139309220245984, 44.62062303464621, 48.815980989835694, 49.50757517794625, 49.749371855331, 49.969990994595946, 49.34571916590131, 44.66542286825459, 40.18706259482024, 37.33630940518894, 30.479501308256342, 27.477263328068172, 22.15851980616034, 17.435595774162696, 15.427248620541512, 18.0, 21.79449471770337, 26.739483914241877, 30.72458299147443, 30.870698080866262, 33.85262175962151, 37.70941526992961, 39.534794801541594, 41.340053217188775, 44.48595283907045, 47.275786614291256, 48.27007354458868, 49.73932046178355, 49.80963762164909, 49.28488612140643, 45.332107826572546, 42.649736224272246, 36.373066958946424, 30.28200785945344, 23.388031127053, 20.8806130178211, 14.212670403551895, 12.806248474865697, 19.570385790780925, 27.910571473905726, 39.87480407475377, 48.54894437575342, 35.53871128783372, 28.6705423736629, 30.24896692450835, 31.432467291003423, 30.62678566222711, 31.575306807693888, 34.307433596816885, 37.429934544425805, 45.16635916254486, 27.313000567495326, 39.45883931389772, 50.149775672479336, 41.255302689472536, 37.05401462729781, 41.617304093369626, 32.48076353782343, 27.676705006196094, 22.956480566497994, 19.209372712298546, 16.3707055437449, 17.804493814764857, 27.313000567495326, 40.19950248448356, 49.29503017546495, 37.16180835212409, 30.610455730027933, 31.843366656181317, 34.9857113690718, 35.07135583350036, 35.4682957019364, 36.91882988394946, 41.23105625617661, 48.249352327259274, 59.632206063502295, 53.0, 50.24937810560445, 48.76474136094644, 45.78209256903839, 38.157568056677825, 32.09361307176243, 28.337254630609507, 24.0, 18.439088914585774, 15.7797338380595, 18.33030277982336, 26.720778431774775, 40.36087214122113, 49.39635614091387, 37.429934544425805, 31.654383582688826, 33.166247903554, 35.38361202590826, 34.40930106817051, 34.02939905434711, 35.58089374931439, 40.0, 47.843494855622744, 58.172158288995945, 52.354560450833695, 50.18964036531842, 47.391982444291145, 44.48595283907045, 37.429934544425805, 32.90896534380867, 28.178005607210743, 23.2163735324878, 19.849433241279208, 14.66287829861518, 17.549928774784245, 26.627053911388696, 39.28103868280471, 48.68264577855234, 36.87817782917155, 30.364452901377952, 32.64965543462902, 34.597687784012386, 33.8673884437522, 33.94112549695428, 35.7211421989835, 38.379682124790975, 46.647615158762406, 58.463663928973865, 53.018864567246254, 50.556898639058154, 49.35585071701227, 46.67976006793523, 38.691084244306204, 33.71943060017473, 30.199337741083, 24.535688292770594, 20.322401432901575, 16.3707055437449, 18.33030277982336, 26.645825188948457, 39.102429592034305, 47.78074926160116, 35.832945734337834, 30.033314835362415, 31.937438845342623, 33.406586176980134, 32.7566787083184, 32.96968304366907, 34.68429039204925, 38.28837943815329, 46.32493928760188, 58.008620049092706, 52.26853738148792, 49.92995093127971, 47.44470465710583, 45.858477951192405, 40.59556626036888, 36.359317925395686, 32.7566787083184, 28.600699292150182, 23.2379000772445, 19.364916731037084, 18.411952639521967, 20.42057785666214, 24.939927826679853, 30.56141357987225, 32.7414110874898, 32.61901286060018, 35.05709628591621, 37.067505985701274, 38.50973902793941, 38.01315561749642, 39.8622628559895, 42.86023798347368, 45.83666654546336, 47.49736834815167, 47.83304297240559, 47.56048780237646, 46.636895265444075, 43.95452195167182, 37.44329045369811, 29.13760456866693, 23.345235059857504, 35.41186241925155, 25.37715508089904, 16.911534525287763, 15.329709716755891, 16.06237840420901, 19.209372712298546, 23.68543856465402, 27.09243436828813, 27.622454633866266, 29.49576240750525, 32.28002478313795, 32.58834147360065, 32.61901286060018, 34.828149534535996, 38.353617821530214, 41.88078318274385, 45.760244754590204, 47.853944456021594, 48.85693400122443, 46.400431032480725, 42.43819034784589, 36.45545226711637, 31.016124838541646, 24.186773244895647, 20.591260281974, 16.24807680927192, 14.106735979665885, 18.384776310850235, 28.0178514522438, 40.24922359499622, 48.28043081829324, 35.958309192730404, 29.631064780058107, 31.11269837220809, 32.2335229225724, 32.7566787083184, 31.874754901018456, 34.40930106817051, 37.5099986670221, 44.81071300481616, 56.90342696182718, 52.716221412388805, 49.558046773455466, 48.703182647543684, 45.232731511594565, 37.907782842049734, 32.43454948045371, 27.982137159266443, 22.891046284519195, 18.788294228055936, 11.958260743101398, 6.708203932499369, 6.082762530298219, 7.0, 7.280109889280518, 4.358898943540674, 3.0, 3.3166247903554, 3.1622776601683795, 4.898979485566356, 5.0990195135927845, 8.06225774829855, 7.483314773547883, 10.63014581273465, 12.489995996796797, 14.247806848775006, 14.106735979665885, 16.583123951777, 21.047565179849187, 23.49468024894146, 22.64950330581225, 15.937377450509228, 12.806248474865697, 12.328828005937952, 10.488088481701515, 12.727922061357855, 20.42057785666214, 32.92415526630866, 44.66542286825459, 35.185224171518364, 29.359836511806396, 31.85906464414798, 33.83784863137726, 35.12833614050059, 35.25620512760839, 36.90528417449187, 40.22437072223753, 45.98912915026767, 56.32051136131489, 49.86983055916673, 47.686476070265456, 46.9041575982343, 44.26059195266146, 31.304951684997057, 23.68543856465402, 32.68026927673638, 25.534290669607408, 18.547236990991408, 15.264337522473747, 16.30950643030009, 24.372115213907882, 37.296112397943034, 47.83304297240559, 35.298725189445584, 28.74021572639983, 30.62678566222711, 34.02939905434711, 32.2490309931942, 32.09361307176243, 34.77067730142742, 27.676705006196094, 8.06225774829855, 24.413111231467404, 30.72458299147443, 32.2335229225724, 34.97141690009142, 35.199431813596085, 30.512292604784715, 21.6794833886788, 21.447610589527216, 18.57417562100671, 15.066519173319364, 11.090536506409418, 11.532562594670797, 17.549928774784245, 29.715315916207253, 45.033320996790806, 34.56877203488721, 30.215889859476256, 30.919249667480614, 34.17601498127012, 33.421549934136806, 34.27827300200522, 34.77067730142742, 39.42080668885405, 45.81484475582123, 55.794264938253285, 51.0098029794274, 48.36320915737499, 47.16990566028302, 45.858477951192405, 39.395431207184416, 35.70714214271425, 32.71085446759225, 29.30870177950569, 25.0, 19.544820285692065, 15.716233645501712, 17.60681686165901, 21.633307652783937, 28.722813232690143, 29.359836511806396, 30.54504869860253, 29.512709126747414, 29.29163703175362, 33.823069050575526, 35.14256678161116, 36.207733980463345, 36.29049462324811, 35.93048844644336, 17.4928556845359, 21.93171219946131, 27.892651361962706, 31.701734968294716, 33.27160951922825, 30.315012782448235, 29.410882339705484, 27.202941017470888, 24.20743687382041, 19.183326093250876, 14.52583904633395, 7.3484692283495345, 7.745966692414834, 5.0, 4.47213595499958, 3.0, 3.605551275463989, 3.3166247903554, 3.0, 5.477225575051661, 3.7416573867739413, 7.14142842854285, 6.4031242374328485, 5.0, 4.123105625617661, 4.242640687119285, 4.0, 4.123105625617661, 4.0, 3.872983346207417, 5.0990195135927845, 5.291502622129181, 4.123105625617661, 4.795831523312719, 7.615773105863909, 5.291502622129181, 6.324555320336759, 11.224972160321824, 10.198039027185569, 11.313708498984761, 5.196152422706632, 12.36931687685298, 14.7648230602334, 17.435595774162696, 19.519221295943137, 24.879710609249457, 28.965496715920477, 29.34280150224242, 28.844410203711913, 6.6332495807108, 7.810249675906654, 8.48528137423857, 9.1104335791443, 12.96148139681572, 18.681541692269406, 20.174241001832016, 18.81488772222678, 15.264337522473747, 12.206555615733702, 14.966629547095765, 24.49489742783178, 36.16628264005025, 46.20606020859169, 34.0, 28.600699292150182, 30.099833886584822, 30.72458299147443, 31.52776554086889, 31.63858403911275, 32.69556544854363, 36.40054944640259, 42.22558466143482, 54.45181356024793, 50.97057974949863, 48.96937818678118, 47.58150901348127, 44.13615298142782, 36.945906403822335, 31.160872901765767, 28.21347195933177, 23.558437978779494, 19.28730152198591, 15.297058540778355, 17.776388834631177, 27.331300737432898, 38.07886552931954, 47.06378650300037, 34.51086785347479, 28.827070610799147, 30.675723300355934, 31.953090617340916, 31.73326330524486, 31.701734968294716, 32.218007387174026, 36.138621999185304, 43.08131845707603, 55.49774770204643, 51.35172830587107, 49.14264950122246, 47.686476070265456, 45.727453460694704, 37.841775856849004, 32.83291031876401, 29.086079144497972, 23.83275057562597, 19.390719429665317, 16.34013463836819, 18.05547008526779, 20.92844953645635, 28.77498913987632, 42.8485705712571, 33.34666400106613, 28.75760768909681, 29.832867780352597, 31.559467676119, 30.479501308256342, 30.54504869860253, 31.796226191169293, 33.24154027718932, 37.16180835212409, 50.93132631298737, 48.05205510693585, 46.06517122512408, 45.42025979670306, 44.05678154382138, 37.49666651850535, 32.78719262151, 28.965496715920477, 23.62202362203543, 20.074859899884732, 16.522711641858304, 17.635192088548397, 26.888659319497503, 38.06573262134856, 47.67598976424087, 36.30426972134269, 31.591137997862628, 32.0, 34.87119154832539, 34.785054261852174, 34.77067730142742, 36.68787265568828, 40.43513323831146, 47.77028364998475, 56.53317610041028, 50.566787519082126, 47.148700936505136, 46.72258554489466, 43.78355855797927, 38.18376618407357, 34.51086785347479, 32.848135411313685, 27.568097504180443, 23.345235059857504, 18.193405398660254, 16.522711641858304, 19.8997487421324, 23.811761799581316, 28.844410203711913, 31.76476034853718, 32.4037034920393, 33.60059523282288, 36.4417343165772, 37.403208418530085, 37.815340802378074, 39.736632972611055, 42.0, 44.94441010848846, 47.30750469005948, 48.49742261192856, 47.24404724407086, 47.275786614291256, 43.829214001622255, 37.62977544445356, 34.75629439396553, 30.757112998459398, 25.45584412271571, 21.447610589527216, 16.64331697709324, 15.905973720586866, 16.34013463836819, 20.248456731316587, 26.153393661244042, 28.053520278211074, 29.444863728670914, 32.449961479175904, 35.17101079013795, 37.97367509209505, 38.948684188300895, 41.14608122288197, 45.4972526643093, 47.60252094164762, 48.48711168960263, 47.66550115125194, 48.45616575834287, 45.332107826572546, 41.43669871020132, 35.38361202590826, 30.0, 23.53720459187964, 19.672315572906, 16.881943016134134, 14.352700094407323, 17.349351572897472, 22.045407685048602, 21.236760581595302, 25.88435821108957, 23.979157616563597, 14.730919862656235, 13.638181696985855, 8.426149773176359, 9.9498743710662, 10.488088481701515, 7.681145747868608, 8.246211251235321, 10.198039027185569, 11.832159566199232, 8.246211251235321, 6.928203230275509, 9.746794344808963, 8.426149773176359, 6.324555320336759, 5.385164807134504, 6.244997998398398, 9.16515138991168, 11.661903789690601, 11.532562594670797, 13.19090595827292, 23.108440016582687, 34.77067730142742, 44.91102314577124, 32.57299494980466, 27.712812921102035, 30.14962686336267, 32.17141588429082, 32.77193921634788, 33.793490497431605, 34.19064199455752, 38.23610858861032, 40.0374824383352, 40.80441152620633, 28.178005607210743, 30.133038346638727, 36.76955262170047, 31.160872901765767, 19.313207915827967, 15.491933384829668, 15.491933384829668, 15.362291495737216, 12.529964086141668, 8.426149773176359, 8.717797887081348, 13.674794331177344, 17.406895185529212, 28.75760768909681, 25.179356624028344, 24.1039415863879, 28.142494558940577, 31.04834939252005, 31.480152477394387, 32.43454948045371, 33.25657829663178, 36.66060555964672, 43.8520238985614, 54.13871073455665, 48.249352327259274, 45.254833995939045, 44.0, 43.243496620879306, 36.02776706930364, 30.62678566222711, 28.053520278211074, 22.737634001804146, 17.944358444926362, 12.609520212918492, 15.198684153570664, 24.351591323771842, 35.76310948449533, 42.555845661906424, 31.336879231984796, 27.313000567495326, 28.372521918222215, 31.480152477394387, 30.967725134404045, 31.240998703626616, 34.10278580995987, 36.0, 43.76071297408213, 54.91812087098393, 48.093658625644196, 47.05316142407437, 45.98912915026767, 44.10215414239989, 36.810324638611924, 31.71750305430741, 27.568097504180443, 24.49489742783178, 19.4164878389476, 15.524174696260024, 17.349351572897472, 25.787593916455254, 36.345563690772494, 45.9782557302906, 35.21363372331802, 28.91366458960192, 29.782545223670862, 31.827660925679098, 32.341923257592455, 31.606961258558215, 33.075670817082454, 35.93048844644336, 42.21374183841087, 53.70288632839021, 48.16637831516918, 45.48626166217664, 43.86342439892262, 43.347433603386484, 37.93415347678132, 34.19064199455752, 32.58834147360065, 27.982137159266443, 23.345235059857504, 17.52141546793523, 16.30950643030009, 18.867962264113206, 23.173260452512935, 28.053520278211074, 30.14962686336267, 30.166206257996713, 30.740852297878796, 32.2335229225724, 32.83291031876401, 32.218007387174026, 32.526911934581186, 34.307433596816885, 37.8549864614954, 40.29888335921977, 42.391036788453285, 44.97777228809804, 44.844174649557324, 41.012193308819754, 35.749125863438955, 33.80828300875393, 29.46183972531247, 25.13961017995307, 21.047565179849187, 16.673332000533065, 14.933184523068078, 17.08800749063506, 20.049937655763422, 24.758836806279895, 26.739483914241877, 26.476404589747453, 26.68332812825267, 28.337254630609507, 28.460498941515414, 28.6705423736629, 30.757112998459398, 33.54101966249684, 35.31288716601915, 38.28837943815329, 42.9767378938886, 45.36518488885502, 43.86342439892262, 40.08740450565489, 33.36165463522455, 27.055498516937366, 22.315913604421397, 21.656407827707714, 16.61324772583615, 14.52583904633395, 18.0, 26.514147167125703, 36.66060555964672, 43.98863489584554, 31.843366656181317, 26.038433132583073, 26.229754097208, 26.814175355583846, 26.962937525425527, 26.28687885618983, 27.294688127912362, 28.600699292150182, 37.749172176353746, 51.34199061197374, 48.662100242385755, 48.60041152089147, 47.3392015141785, 43.977266854592045, 35.84689665786984, 31.670175244226233, 26.30589287593181, 22.293496809607955, 19.28730152198591, 14.89966442575134, 19.28730152198591, 26.70205984563738, 36.823905279043935, 44.21538193886829, 32.109188716004645, 26.814175355583846, 28.231188426986208, 28.337254630609507, 27.622454633866266, 28.035691537752374, 29.631064780058107, 32.58834147360065, 39.88734135035826, 52.630789467763066, 48.228622207149975, 46.62617290749907, 47.67598976424087, 44.04543109109048, 36.60601043544625, 31.654383582688826, 27.2213151776324, 22.93468988235943, 19.519221295943137, 16.30950643030009, 18.083141320025124, 26.362852652928137, 36.16628264005025, 44.090815370097204, 31.336879231984796, 26.870057685088806, 26.476404589747453, 27.92848008753788, 27.892651361962706, 27.60434748368452, 27.85677655436824, 30.199337741083, 39.949968710876355, 51.884487084291386, 47.75981574503821, 46.92547282660026, 46.776062254106, 44.49719092257398, 36.796738985948195, 32.68026927673638, 28.705400188814647, 24.310491562286437, 19.82422760159901, 15.198684153570664, 18.138357147217054, 25.92296279363144, 36.26292872893749, 44.64302857109943, 31.38470965295043, 26.362852652928137, 26.210684844162312, 28.77498913987632, 28.24889378365107, 26.870057685088806, 28.75760768909681, 31.89043743820395, 39.191835884530846, 51.38093031466052, 47.38143096192854, 45.9782557302906, 46.06517122512408, 43.243496620879306, 36.30426972134269, 32.264531609803356, 27.80287754891569, 23.600847442411894, 20.688160865577203, 16.34013463836819, 18.083141320025124, 25.92296279363144, 35.369478367654786, 43.54308211415448, 32.07802986469088, 25.317977802344327, 28.124722220850465, 28.6705423736629, 28.372521918222215, 27.2213151776324, 28.178005607210743, 30.463092423455635, 38.31448812133603, 49.18333050943175, 45.65084884205331, 43.45112196480086, 43.23193264243457, 42.21374183841087, 37.76241517699841, 33.645207682521445, 30.740852297878796, 26.153393661244042, 21.840329667841555, 18.627936010197157, 17.08800749063506, 19.519221295943137, 22.15851980616034, 26.832815729997478, 27.0, 26.43860813280457, 26.0, 27.110883423451916, 26.962937525425527, 26.115129714401192, 28.0178514522438, 29.715315916207253, 31.796226191169293, 34.66987164671943, 37.72267222772003, 40.681691213615984, 41.60528812542944, 39.84971769034255, 35.888716889852724, 32.984845004941285, 27.784887978899608, 24.228082879171435, 20.92844953645635, 16.431676725154983, 16.0, 16.911534525287763, 18.973665961010276, 21.840329667841555, 22.93468988235943, 22.847319317591726, 22.338307903688676, 23.664319132398465, 23.853720883753127, 23.769728648009426, 25.13961017995307, 27.76688675382964, 31.064449134018133, 34.813790371058424, 38.44476557348217, 41.08527716834828, 40.8166632639171, 36.68787265568828, 32.09361307176243, 28.142494558940577, 23.280893453645632, 19.544820285692065, 15.427248620541512, 13.19090595827292, 17.60681686165901, 25.534290669607408, 35.22782990761707, 43.46262762420146, 31.38470965295043, 25.219040425836983, 24.71841418861655, 25.592967784139454, 26.229754097208, 25.88435821108957, 27.184554438136374, 30.983866769659336, 36.193922141707716, 49.040799340956916, 45.95650117230423, 45.28796749689701, 44.654227123532216, 41.19465984809196, 34.0147027033899, 29.563490998188964, 26.739483914241877, 22.06807649071391, 18.2208671582886, 14.7648230602334, 17.4928556845359, 25.942243542145693, 34.828149534535996, 42.661458015403085, 30.430248109405877, 24.698178070456937, 24.899799195977465, 25.903667693977237, 26.229754097208, 25.475478405713993, 27.110883423451916, 28.879058156387302, 36.013886210738214, 47.958315233127195, 44.36214602563767, 42.82522621072771, 43.57751713900185, 42.1070065428546, 34.539832078341085, 30.643106892089126, 26.94438717061496, 22.338307903688676, 18.083141320025124, 14.560219778561036, 17.291616465790582, 25.632011235952593, 34.219877264537345, 43.508619835614184, 31.54362059117501, 26.38181191654584, 27.367864366808018, 28.124722220850465, 27.982137159266443, 27.459060435491963, 27.94637722496424, 31.25699921617557, 37.57658845611187, 49.15282290977803, 45.155287619502545, 43.98863489584554, 42.555845661906424, 42.035699113967404, 35.90264614203248, 30.643106892089126, 26.795522013948524, 22.315913604421397, 18.841443681416774, 15.874507866387544, 17.4928556845359, 24.535688292770594, 34.27827300200522, 42.69660408041839, 31.080540535840107, 25.37715508089904, 24.779023386727733, 24.49489742783178, 25.059928172283335, 26.570660511172846, 27.820855486487112, 30.331501776206203, 37.33630940518894, 48.65182422068057, 44.654227123532216, 42.30839160261236, 43.22036556994862, 41.340053217188775, 35.679125549822544, 30.14962686336267, 27.331300737432898, 23.173260452512935, 19.261360284258224, 14.7648230602334, 17.175564037317667, 25.436194683953808, 33.331666624997915, 41.98809355043403, 30.56141357987225, 25.278449319529077, 24.879710609249457, 26.720778431774775, 25.553864678361276, 22.516660498395403, 27.85677655436824, 30.083217912982647, 35.90264614203248, 46.72258554489466, 40.70626487409524, 39.56008088970496, 39.331920878594275, 38.82009788756334, 34.38022687534217, 31.496031496047245, 29.58039891549808, 25.612496949731394, 21.470910553583888, 18.439088914585774, 15.748015748023622, 17.69180601295413, 20.688160865577203, 24.61706725018234, 25.903667693977237, 25.573423705088842, 24.331050121192877, 25.13961017995307, 27.2213151776324, 17.72004514666935, 21.633307652783937, 26.570660511172846, 29.376861643136763, 29.03446228191595, 31.20897306865447, 33.090784215548595, 34.79942528261063, 34.02939905434711, 32.2335229225724, 30.347981810987037, 25.219040425836983, 22.60530911091463, 20.074859899884732, 15.652475842498529, 14.106735979665885, 16.30950643030009, 18.57417562100671, 21.354156504062622, 22.781571499789035, 21.748563170931547, 21.817424229271428, 25.37715508089904, 24.939927826679853, 25.099800796022265, 26.70205984563738, 27.568097504180443, 29.916550603303182, 33.77869150810907, 38.54867053479276, 41.19465984809196, 40.47221268969612, 37.49666651850535, 33.28663395418648, 28.460498941515414, 23.979157616563597, 19.05255888325765, 15.905973720586866, 14.45683229480096, 16.522711641858304, 25.84569596664017, 33.61547262794322, 40.570925550201586, 29.427877939124322, 24.677925358506133, 24.95996794869737, 25.748786379167466, 26.229754097208, 25.39685019840059, 25.80697580112788, 29.068883707497267, 34.9857113690718, 48.4458460551573, 44.8998886412873, 44.12482294582042, 43.30127018922193, 39.395431207184416, 34.66987164671943, 30.01666203960727, 26.362852652928137, 21.817424229271428, 18.275666882497067, 15.620499351813308, 16.852299546352718, 24.166091947189145, 33.03028912982749, 40.80441152620633, 29.32575659723036, 24.124676163629637, 24.145392935299274, 25.019992006393608, 24.95996794869737, 24.06241883103193, 25.787593916455254, 27.622454633866266, 34.40930106817051, 45.73838650411709, 43.18564576337837, 42.09513035969837, 41.46082488325576, 40.162171256046406, 33.12099032335839, 29.58039891549808, 26.90724809414742, 22.38302928559939, 19.026297590440446, 15.811388300841896, 17.74823934929885, 24.939927826679853, 32.57299494980466, 39.370039370059054, 29.206163733020468, 23.2379000772445, 22.825424421026653, 23.853720883753127, 23.08679276123039, 21.79449471770337, 23.043437243605826, 23.68543856465402, 32.14031735997639, 43.9203825119955, 39.408120990476064, 37.960505792204614, 38.72983346207417, 36.9729630946723, 32.341923257592455, 29.154759474226502, 25.436194683953808, 21.42428528562855, 17.175564037317667, 14.66287829861518, 16.278820596099706, 24.041630560342615, 31.71750305430741, 39.736632972611055, 28.513154858766505, 23.430749027719962, 23.388031127053, 23.706539182259394, 23.45207879911715, 23.130067012440755, 24.596747752497688, 26.0, 32.64965543462902, 43.37049688440288, 40.06245124802026, 38.47076812334269, 39.179076048319466, 37.080992435478315, 31.937438845342623, 27.622454633866266, 25.98076211353316, 21.047565179849187, 18.083141320025124, 15.362291495737216, 16.30950643030009, 23.323807579381203, 30.610455730027933, 38.353617821530214, 28.0, 23.021728866442675, 23.979157616563597, 24.186773244895647, 24.186773244895647, 23.979157616563597, 24.49489742783178, 27.622454633866266, 33.24154027718932, 43.81780460041329, 39.4715087119811, 38.948684188300895, 38.87158345115362, 37.69615364994153, 33.21144381083123, 30.870698080866262, 29.5296461204668, 24.372115213907882, 20.85665361461421, 17.435595774162696, 15.297058540778355, 17.0, 20.12461179749811, 23.83275057562597, 24.454038521274967, 23.853720883753127, 25.592967784139454, 25.298221281347036, 26.514147167125703, 26.0, 26.267851073127396, 26.457513110645905, 30.01666203960727, 32.31098884280702, 35.73513677041127, 37.242448899072144, 37.107950630558946, 36.565010597564445, 33.98529093593286, 31.352830813181765, 27.53179979587241, 22.561028345356956, 20.024984394500787, 15.905973720586866, 13.711309200802088, 14.89966442575134, 14.933184523068078, 17.578395831246947, 20.54263858417414, 21.470910553583888, 22.338307903688676, 23.769728648009426, 24.49489742783178, 25.278449319529077, 26.68332812825267, 28.600699292150182, 31.272991542223778, 35.31288716601915, 37.5632799419859, 39.03844259188627, 38.27531841800928, 35.86084215408221, 30.692018506445613, 26.589471600616662, 21.330729007701542, 17.578395831246947, 14.798648586948742, 12.727922061357855, 16.06237840420901, 23.366642891095847, 26.43860813280457, 28.231188426986208, 24.779023386727733, 23.08679276123039, 23.853720883753127, 24.758836806279895, 25.80697580112788, 23.895606290697042, 25.41653005427767, 27.422618401604176, 32.60368077380221, 44.22668877499196, 39.344631145812, 39.20459156782532, 40.13726448077895, 37.027017163147235, 31.12876483254676, 29.017236257093817, 24.879710609249457, 21.047565179849187, 16.673332000533065, 14.177446878757825, 16.522711641858304, 25.179356624028344, 32.54228019054596, 41.1703777004778, 31.0, 25.199206336708304, 25.632011235952593, 27.748873851023216, 25.729360660537214, 25.65151067676132, 26.419689627245813, 29.24038303442689, 35.09985754956849, 47.686476070265456, 43.56604182158393, 42.8485705712571, 42.731721238442994, 40.792156108742276, 33.704599092705436, 29.206163733020468, 26.457513110645905, 22.11334438749598, 17.944358444926362, 13.527749258468683, 16.1245154965971, 24.779023386727733, 32.848135411313685, 41.14608122288197, 30.331501776206203, 25.632011235952593, 24.979991993593593, 25.079872407968907, 25.942243542145693, 25.88435821108957, 26.210684844162312, 28.965496715920477, 35.58089374931439, 48.228622207149975, 44.53088815642464, 42.68489194082609, 42.22558466143482, 40.34848200366403, 34.351128074635334, 30.479501308256342, 27.073972741361768, 21.587033144922902, 18.275666882497067, 13.74772708486752, 17.08800749063506, 24.879710609249457, 32.984845004941285, 41.60528812542944, 31.25699921617557, 25.475478405713993, 25.67099530598687, 22.0, 25.059928172283335, 23.68543856465402, 25.37715508089904, 23.643180835073778, 27.202941017470888, 43.01162633521314, 41.20679555607303, 39.88734135035826, 40.66939881532551, 38.65229618017538, 32.78719262151, 30.04995840263344, 26.60826939130014, 22.0, 18.601075237738275, 14.628738838327793, 16.822603841260722, 25.39685019840059, 32.046840717924134, 41.569219381653056, 29.866369046136157, 26.13426869074396, 26.40075756488817, 26.851443164195103, 26.38181191654584, 25.65151067676132, 26.92582403567252, 29.206163733020468, 35.958309192730404, 47.843494855622744, 43.62338822237447, 41.255302689472536, 40.50925820105819, 39.293765408777, 34.61213659975356, 31.96873472629156, 29.68164415931166, 26.28687885618983, 21.0, 16.30950643030009, 16.217274740226856, 18.841443681416774, 20.615528128088304, 25.436194683953808, 25.92296279363144, 25.357444666211933, 27.676705006196094, 27.54995462791182, 28.809720581775867, 27.073972741361768, 26.343879744638983, 28.74021572639983, 31.71750305430741, 35.6931365951495, 38.49675310984031, 38.3275357934736, 37.907782842049734, 36.75595189897821, 32.802438933713454, 31.575306807693888, 26.514147167125703, 23.53720459187964, 19.672315572906, 16.1245154965971, 14.0, 16.15549442140351, 17.776388834631177, 22.80350850198276, 23.83275057562597, 21.97726097583591, 22.93468988235943, 25.88435821108957, 26.5329983228432, 26.40075756488817, 28.635642126552707, 30.967725134404045, 34.0, 35.0, 33.421549934136806, 34.75629439396553, 36.565010597564445, 33.57082066318904, 26.589471600616662, 20.223748416156685, 15.198684153570664, 14.560219778561036, 14.0, 12.288205727444508, 15.165750888103101, 24.372115213907882, 32.63433774416144, 40.70626487409524, 30.04995840263344, 25.278449319529077, 26.019223662515376, 26.90724809414742, 26.419689627245813, 25.514701644346147, 26.627053911388696, 30.01666203960727, 36.851051545376556, 48.65182422068057, 45.12205669071391, 42.9767378938886, 43.02324952859791, 40.43513323831146, 32.95451410656816, 29.5296461204668, 26.095976701399778, 21.61018278497431, 18.57417562100671, 14.45683229480096, 15.937377450509228, 25.357444666211933, 33.12099032335839, 41.32795663954365, 30.72458299147443, 24.79919353527449, 25.219040425836983, 26.43860813280457, 26.362852652928137, 25.03996805109783, 26.457513110645905, 30.331501776206203, 36.138621999185304, 48.010415536631214, 44.40720662234904, 41.291645644125154, 41.036569057366385, 39.83716857408418, 34.132096331752024, 32.155870381627054, 29.154759474226502, 26.0, 21.77154105707724, 17.60681686165901, 15.066519173319364, 18.601075237738275, 20.71231517720798, 23.515952032609693, 23.727621035409346, 23.388031127053, 24.20743687382041, 23.727621035409346, 24.310491562286437, 25.03996805109783, 27.586228448267445, 29.614185789921695, 30.983866769659336, 30.4138126514911, 36.069377593742864, 38.72983346207417, 38.82009788756334, 36.742346141747674, 31.74901573277509, 28.42534080710379, 23.130067012440755, 19.519221295943137, 15.874507866387544, 13.152946437965905, 16.217274740226856, 25.11971337416094, 33.24154027718932, 40.74309757492672, 29.597297173897484, 24.73863375370596, 25.92296279363144, 25.84569596664017, 25.534290669607408, 25.25866188063018, 26.832815729997478, 30.033314835362415, 37.20215047547655, 49.80963762164909, 47.81213235152768, 45.9782557302906, 46.119410230400824, 44.07947368106838, 38.02630668366309, 33.301651610693426, 29.017236257093817, 23.916521486202797, 19.364916731037084, 16.61324772583615, 17.435595774162696, 26.814175355583846, 35.651086939951774, 43.79497688091638, 32.69556544854363, 26.77685567799177, 29.0516780926679, 30.066592756745816, 28.635642126552707, 28.124722220850465, 31.144823004794873, 33.34666400106613, 40.8166632639171, 52.88667128870941, 48.507731342539614, 46.151923036857305, 44.81071300481616, 42.2729227756965, 38.28837943815329, 34.51086785347479, 31.12876483254676, 26.419689627245813, 21.97726097583591, 17.776388834631177, 16.186414056238647, 19.924858845171276, 21.79449471770337, 27.459060435491963, 27.76688675382964, 27.730849247724095, 29.274562336608895, 30.854497241083024, 31.670175244226233, 33.481338085566414, 34.583232931581165, 37.389838191679836, 42.49705872175156, 44.48595283907045, 46.119410230400824, 44.328320518603, 43.42810150121693, 41.0, 36.6333181680284, 33.166247903554, 29.0516780926679, 24.71841418861655, 20.615528128088304, 16.24807680927192, 14.933184523068078, 16.1245154965971, 19.79898987322333, 24.331050121192877, 25.39685019840059, 27.055498516937366, 28.19574435974337, 30.430248109405877, 30.708305065568176, 31.176914536239792, 34.36568055487916, 37.3496987939662, 41.48493702538308, 43.9089968002003, 46.75467891024384, 45.044422518220834, 42.67317658670374, 39.319206502675, 31.874754901018456, 28.600699292150182, 22.956480566497994, 18.76166303929372, 15.968719422671311, 13.892443989449804, 16.76305461424021, 25.98076211353316, 35.84689665786984, 43.726422218150894, 31.51190251317746, 26.814175355583846, 27.676705006196094, 28.42534080710379, 29.103264421710495, 28.5657137141714, 31.496031496047245, 35.397740040855716, 41.27953488110059, 51.264022471905186, 46.49731175025068, 44.710177812216315, 44.395945760846224, 40.3732584763727, 35.22782990761707, 29.966648127543394, 26.267851073127396, 19.390719429665317, 13.152946437965905, 7.0, 7.54983443527075, 8.54400374531753, 24.657656011875904, 39.11521443121589, 29.597297173897484, 20.049937655763422, 26.095976701399778, 29.120439557122072, 28.75760768909681, 28.071337695236398, 30.93541659651604, 33.34666400106613, 40.779897008207364, 53.19774431308154, 48.620983124572874, 46.57252408878007, 45.35416188179427, 42.7551166528639, 35.73513677041127, 32.01562118716424, 27.964262908219126, 22.627416997969522, 18.601075237738275, 14.628738838327793, 17.0, 25.592967784139454, 36.46916505762094, 44.609416046390926, 31.85906464414798, 26.457513110645905, 26.645825188948457, 28.0, 26.962937525425527, 27.568097504180443, 29.017236257093817, 31.51190251317746, 38.66522985836241, 50.27922035990614, 45.68369512200168, 42.5205832509386, 42.50882261366456, 39.44616584663204, 33.421549934136806, 30.133038346638727, 27.294688127912362, 22.181073012818835, 17.435595774162696, 12.96148139681572, 13.601470508735444, 22.181073012818835, 26.832815729997478, 40.963398296528084, 30.397368307141328, 23.473389188611005, 26.664583251946766, 27.730849247724095, 24.166091947189145, 27.202941017470888, 28.930952282978865, 30.72458299147443, 35.34119409414458, 38.03945320322047, 24.124676163629637, 16.0312195418814, 13.74772708486752, 14.66287829861518, 16.34013463836819, 15.427248620541512, 14.422205101855956, 9.1104335791443, 7.874007874011811, 5.477225575051661, 6.708203932499369, 13.152946437965905, 20.0, 24.041630560342615, 22.0, 16.911534525287763, 20.37154878746336, 18.841443681416774, 16.55294535724685, 12.328828005937952, 20.12461179749811, 21.330729007701542, 20.074859899884732, 30.265491900843113, 30.789608636681304, 34.08812109811862, 36.05551275463989, 34.66987164671943, 32.92415526630866, 31.304951684997057, 29.765752132274432, 26.60826939130014, 21.354156504062622, 17.4928556845359, 15.231546211727817, 17.832554500127006, 22.135943621178654, 26.851443164195103, 28.42534080710379, 29.29163703175362, 30.265491900843113, 32.71085446759225, 35.08560958569767, 35.510561809129406, 38.93584466786357, 39.89987468652001, 42.391036788453285, 45.60701700396552, 45.19955751995809, 44.96665431183423, 44.01136216933077, 41.43669871020132, 36.837480912787726, 34.10278580995987, 27.730849247724095, 24.49489742783178, 20.639767440550294, 17.029386365926403, 13.711309200802088, 15.588457268119896, 19.519221295943137, 23.790754506740637, 26.92582403567252, 26.095976701399778, 28.124722220850465, 32.71085446759225, 25.632011235952593, 20.42057785666214, 27.964262908219126, 32.01562118716424, 37.403208418530085, 38.45776904605882, 39.949968710876355, 40.91454509095757, 35.7211421989835, 27.640549922170507, 18.65475810617763, 18.027756377319946, 7.810249675906654, 6.6332495807108, 4.69041575982343, 5.196152422706632, 6.164414002968976, 6.855654600401044, 10.14889156509222, 18.110770276274835, 8.660254037844387, 10.198039027185569, 12.165525060596439, 11.704699910719626, 12.206555615733702, 15.198684153570664, 24.08318915758459, 29.765752132274432, 36.823905279043935, 46.400431032480725, 40.18706259482024, 39.496835316262995, 41.97618372363071, 39.63584236521283, 33.36165463522455, 29.49576240750525, 25.553864678361276, 21.95449840010015, 16.76305461424021, 14.142135623730951, 14.7648230602334, 24.1039415863879, 34.38022687534217, 42.906875905849866, 29.410882339705484, 25.88435821108957, 20.273134932713294, 5.0, 5.5677643628300215, 11.224972160321824, 11.045361017187261, 7.745966692414834, 6.244997998398398, 9.797958971132712, 9.16515138991168, 3.1622776601683795, 11.045361017187261, 8.0, 7.681145747868608, 14.422205101855956, 18.275666882497067, 15.588457268119896, 13.076696830622021, 11.313708498984761, 10.44030650891055, 18.601075237738275, 29.359836511806396, 39.93745109543172, 29.444863728670914, 25.337718918639855, 25.903667693977237, 25.45584412271571, 23.2379000772445, 22.135943621178654, 24.145392935299274, 13.892443989449804, 12.649110640673518, 7.54983443527075, 4.898979485566356, 4.358898943540674, 4.69041575982343, 8.602325267042627, 14.071247279470288, 14.628738838327793, 9.9498743710662, 8.94427190999916, 9.0, 6.48074069840786, 8.54400374531753, 16.881943016134134, 27.76688675382964, 36.46916505762094, 29.086079144497972, 24.269322199023193, 26.758176320519304, 27.712812921102035, 29.410882339705484, 28.930952282978865, 31.336879231984796, 33.793490497431605, 38.379682124790975, 43.439613257946945, 41.31585652022719, 41.048751503547585, 41.617304093369626, 39.774363602702685, 34.249087579087416, 29.34280150224242, 25.534290669607408, 19.519221295943137, 17.233687939614086, 13.038404810405298, 14.730919862656235, 20.8806130178211, 28.77498913987632, 41.060930335295616, 32.38826948140329, 28.178005607210743, 29.46183972531247, 31.336879231984796, 31.064449134018133, 31.416556144810016, 33.45145736735546, 37.469987990390386, 43.23193264243457, 53.25410782277739, 48.703182647543684, 44.66542286825459, 43.94314508543966, 42.2965719651132, 36.45545226711637, 32.78719262151, 31.22498999199199, 28.0178514522438, 22.67156809750927, 18.384776310850235, 16.1245154965971, 19.026297590440446, 22.60530911091463, 28.495613697550013, 30.4138126514911, 29.34280150224242, 31.32091952673165, 32.95451410656816, 36.09709129556009, 37.027017163147235, 38.47076812334269, 40.963398296528084, 42.95346318982906, 43.497126341863094, 43.485629810317796, 37.94733192202055, 33.31666249791537, 31.496031496047245, 39.02563260217571, 36.55133376499413, 30.495901363953813, 24.698178070456937, 20.97617696340303, 15.968719422671311, 13.379088160259652, 15.7797338380595, 19.697715603592208, 24.0, 26.851443164195103, 28.319604517012593, 30.659419433511783, 32.78719262151, 35.41186241925155, 37.3496987939662, 39.370039370059054, 43.04648650006177, 45.48626166217664, 46.021733996015406, 44.56455991031439, 42.871902220452036, 41.94043395102154, 38.87158345115362, 32.357379374726875, 27.622454633866266, 22.891046284519195, 17.916472867168917, 14.52583904633395, 12.36931687685298, 16.24807680927192, 25.612496949731394, 35.874782229304195, 39.74921382870358, 26.814175355583846, 20.83266665599966, 21.047565179849187, 25.942243542145693, 27.03701166919155, 23.065125189341593, 11.704699910719626, 6.244997998398398, 4.795831523312719, 10.63014581273465, 8.54400374531753, 12.288205727444508, 10.488088481701515, 19.467922333931785, 22.045407685048602, 22.360679774997898, 22.045407685048602, 18.0, 14.933184523068078, 13.638181696985855, 14.798648586948742, 24.535688292770594, 35.90264614203248, 45.37620521815371, 32.90896534380867, 28.6705423736629, 30.659419433511783, 31.54362059117501, 31.575306807693888, 31.416556144810016, 34.322004603461025, 37.8021163428716, 44.64302857109943, 56.2672195865408, 49.90991885387112, 47.52893855326458, 47.031904065219386, 43.08131845707603, 35.11409973215888, 31.352830813181765, 27.349588662354687, 22.20360331117452, 19.390719429665317, 14.832396974191326, 15.7797338380595, 26.0, 38.561638969317684, 48.08326112068523, 34.56877203488721, 29.103264421710495, 30.610455730027933, 32.7414110874898, 32.2335229225724, 31.448370387032774, 33.63034344160047, 38.02630668366309, 45.47526800360829, 56.213877290220786, 49.678969393496885, 46.65833258915282, 44.98888751680797, 42.40283009422838, 34.91418050019218, 31.0322412983658, 27.258026340878022, 23.043437243605826, 17.88854381999832, 14.66287829861518, 15.716233645501712, 26.076809620810597, 37.92097045171708, 47.644516998286385, 34.438350715445125, 28.89636655359978, 30.675723300355934, 32.264531609803356, 32.38826948140329, 32.12475680841802, 33.0, 35.94440151122286, 39.05124837953327, 49.969990994595946, 44.609416046390926, 43.58898943540674, 43.02324952859791, 40.50925820105819, 23.706539182259394, 23.57965224510319, 18.57417562100671, 16.09347693943108, 16.09347693943108, 13.601470508735444, 15.716233645501712, 24.979991993593593, 36.68787265568828, 47.53945729601885, 34.55430508634199, 29.93325909419153, 31.432467291003423, 34.828149534535996, 33.45145736735546, 34.45286635390443, 37.296112397943034, 39.71145930332956, 46.72258554489466, 56.16048432839589, 48.63126566315131, 44.26059195266146, 43.76071297408213, 42.37924020083418, 36.91882988394946, 33.27160951922825, 31.63858403911275, 26.30589287593181, 22.44994432064365, 16.881943016134134, 15.066519173319364, 17.944358444926362, 22.60530911091463, 28.75760768909681, 30.919249667480614, 33.1058907144937, 34.336569426778794, 35.679125549822544, 38.79432948254165, 39.42080668885405, 42.33202097703345, 44.07947368106838, 46.551047249229526, 47.486840282335066, 44.474711915874174, 44.090815370097204, 43.3358973600409, 40.92676385936225, 33.793490497431605, 34.42382895611701, 28.89636655359978, 24.269322199023193, 19.87460691435179, 16.24807680927192, 12.84523257866513, 15.968719422671311, 19.131126469708992, 25.37715508089904, 28.337254630609507, 30.463092423455635, 32.41913015489465, 34.92849839314596, 37.841775856849004, 40.76763422127902, 43.32435804486894, 45.81484475582123, 46.9148164229596, 48.662100242385755, 45.088801270381985, 43.93176527297759, 42.661458015403085, 35.93048844644336, 30.675723300355934, 28.142494558940577, 22.06807649071391, 18.2208671582886, 13.2664991614216, 13.711309200802088, 15.033296378372908, 26.28687885618983, 38.24918299781056, 47.7283982551269, 33.54101966249684, 29.359836511806396, 30.56141357987225, 33.090784215548595, 32.51153641401772, 32.61901286060018, 35.34119409414458, 38.301436004411116, 46.33573135281238, 57.42821606144492, 50.17967716117751, 47.32863826479693, 45.71651780264984, 42.17819341792628, 34.97141690009142, 30.166206257996713, 25.729360660537214, 20.85665361461421, 16.15549442140351, 13.892443989449804, 16.06237840420901, 26.038433132583073, 39.44616584663204, 48.67237409455183, 35.12833614050059, 30.364452901377952, 31.811947441173732, 34.52535300326414, 33.19638534539566, 33.391615714128, 34.95711658589707, 39.07684736515984, 46.593991028886975, 56.7626637852735, 49.54795656734998, 45.51922670696417, 44.9221548904324, 43.22036556994862, 35.21363372331802, 30.805843601498726, 26.28687885618983, 21.494185260204677, 17.233687939614086, 14.66287829861518, 15.524174696260024, 25.612496949731394, 39.382737335030434, 48.8978527135906, 35.12833614050059, 30.380915061926625, 31.89043743820395, 34.132096331752024, 32.64965543462902, 32.96968304366907, 35.369478367654786, 38.65229618017538, 46.14108798023731, 57.06137047074842, 49.42671342502959, 46.32493928760188, 44.85532298401161, 42.708313008125245, 36.180105030251084, 31.11269837220809, 27.129319932501073, 20.904544960366874, 17.435595774162696, 15.491933384829668, 15.748015748023622, 25.592967784139454, 38.05259518088089, 48.25971404805462, 36.359317925395686, 30.24896692450835, 31.176914536239792, 33.45145736735546, 31.843366656181317, 33.12099032335839, 34.64101615137755, 37.89459064299283, 44.955533585978046, 56.089214649520635, 48.63126566315131, 44.75488800120049, 44.721359549995796, 41.38840417314975, 36.09709129556009, 31.160872901765767, 27.83882181415011, 21.95449840010015, 18.681541692269406, 14.933184523068078, 15.7797338380595, 25.37715508089904, 38.157568056677825, 47.46577714522327, 34.655446902326915, 30.59411708155671, 31.336879231984796, 32.984845004941285, 33.98529093593286, 34.62657938636157, 36.701498607005135, 38.768543949960254, 45.37620521815371, 53.16013544000805, 44.67661580737735, 43.23193264243457, 35.482389998420345, 23.811761799581316, 28.460498941515414, 30.099833886584822, 29.68164415931166, 24.08318915758459, 17.378147196982766, 15.297058540778355, 13.0, 16.492422502470642, 21.283796653792763, 28.792360097775937, 30.56141357987225, 31.89043743820395, 34.813790371058424, 35.832945734337834, 38.27531841800928, 38.39270764090493, 32.817678162843876, 35.679125549822544, 38.39270764090493, 39.57271787481876, 39.72404813208241, 40.162171256046406, 41.352146256270665, 39.57271787481876, 34.785054261852174, 31.843366656181317, 27.640549922170507, 20.784609690826528, 16.06237840420901, 13.711309200802088, 11.090536506409418, 11.704699910719626, 16.06237840420901, 21.540659228538015, 26.92582403567252, 28.513154858766505, 31.843366656181317, 31.448370387032774, 27.459060435491963, 20.223748416156685, 14.89966442575134, 11.916375287812984, 17.944358444926362, 22.80350850198276, 29.189039038652847, 32.7566787083184, 33.85262175962151, 31.432467291003423, 23.895606290697042, 23.043437243605826, 18.35755975068582, 15.066519173319364, 13.638181696985855, 12.649110640673518, 15.684387141358123, 25.0, 38.561638969317684, 47.70744176750625, 34.42382895611701, 29.46183972531247, 30.886890422961002, 32.90896534380867, 32.69556544854363, 33.04542328371661, 34.741905532080416, 38.01315561749642, 45.34313619501854, 57.245087125446844, 49.889878733065686, 47.24404724407086, 45.8257569495584, 43.18564576337837, 35.958309192730404, 0.0, 0.0, 0.0, 0.0, 0.0, 0.0, 0.0, 0.0, 0.0, 0.0, 0.0, 0.0, 0.0, 0.0, 0.0, 0.0, 0.0, 0.0, 0.0, 0.0, 0.0, 0.0, 0.0, 0.0, 0.0, 0.0, 0.0, 0.0, 0.0, 0.0, 0.0, 0.0, 0.0, 0.0, 0.0, 0.0, 0.0, 0.0, 0.0, 0.0, 0.0, 0.0, 0.0, 0.0, 0.0, 0.0, 0.0, 0.0, 29.765752132274432, 27.586228448267445, 22.891046284519195, 17.146428199482248, 15.524174696260024, 11.704699910719626, 6.855654600401044, 11.40175425099138, 17.291616465790582, 9.433981132056603, 9.327379053088816, 10.535653752852738, 13.416407864998739, 17.349351572897472, 23.93741840717165, 26.38181191654584, 30.199337741083, 35.91656999213594, 42.261093218230876, 35.66510900025401, 29.966648127543394, 28.0, 32.38826948140329, 30.577769702841312, 28.442925306655784, 25.96150997149434, 11.045361017187261, 5.291502622129181, 4.898979485566356, 4.898979485566356, 4.795831523312719, 6.708203932499369, 11.269427669584644, 6.855654600401044, 8.831760866327848, 9.899494936611665, 11.958260743101398, 24.49489742783178, 31.176914536239792, 35.888716889852724, 39.370039370059054, 43.634848458542855, 47.275786614291256, 41.47288270665544, 39.382737335030434, 39.242833740697165, 38.63935817272331, 34.219877264537345, 30.870698080866262, 29.58039891549808, 25.592967784139454, 21.400934559032695, 9.797958971132712, 9.643650760992955, 14.66287829861518, 19.05255888325765, 25.573423705088842, 28.460498941515414, 30.4138126514911, 32.58834147360065, 35.679125549822544, 37.53664875824692, 39.14077158156185, 42.59107887809371, 42.89522117905443, 45.221676218380054, 44.034077712607996, 41.7492514902962, 40.049968789001575, 38.7556447501522, 37.815340802378074, 33.28663395418648, 29.664793948382652, 25.37715508089904, 22.11334438749598, 18.275666882497067, 14.212670403551895, 10.295630140987, 12.0, 16.15549442140351, 20.952326839756964, 23.108440016582687, 24.899799195977465, 27.640549922170507, 30.24896692450835, 32.109188716004645, 33.704599092705436, 36.959437225152655, 38.7556447501522, 39.88734135035826, 38.62641583165593, 36.51027252705737, 35.874782229304195, 33.88214869219483, 32.77193921634788, 27.712812921102035, 24.899799195977465, 20.639767440550294, 17.378147196982766, 14.696938456699069, 11.874342087037917, 10.246950765959598, 11.874342087037917, 14.317821063276353, 17.204650534085253, 17.60681686165901, 20.639767440550294, 24.24871130596428, 27.459060435491963, 29.748949561287034, 33.15116890850155, 35.679125549822544, 37.8549864614954, 37.97367509209505, 35.17101079013795, 35.77708763999664, 35.02855977627399, 33.83784863137726, 30.95157508108432, 27.386127875258307, 23.62202362203543, 20.199009876724155, 17.08800749063506, 14.89966442575134, 12.529964086141668, 10.246950765959598, 11.489125293076057, 16.186414056238647, 20.97617696340303, 23.280893453645632, 25.826343140289914, 29.206163733020468, 32.32645975048923, 36.180105030251084, 39.01281840626232, 41.79712908801273, 44.21538193886829, 45.088801270381985, 43.41658669218482, 40.099875311526844, 39.786932528155525, 39.56008088970496, 37.656340767525464, 32.28002478313795, 29.664793948382652, 24.372115213907882, 21.283796653792763, 18.841443681416774, 14.89966442575134, 12.24744871391589, 15.165750888103101, 18.303005217723125, 24.454038521274967, 26.076809620810597, 30.380915061926625, 33.94112549695428, 36.851051545376556, 41.060930335295616, 44.40720662234904, 46.58325879540846, 47.644516998286385, 48.46648326421054, 48.36320915737499, 44.01136216933077, 40.65710270051225, 39.102429592034305, 35.34119409414458, 30.56141357987225, 27.748873851023216, 22.090722034374522, 18.05547008526779, 13.341664064126334, 12.288205727444508, 14.38749456993816, 24.269322199023193, 36.932370625238775, 46.14108798023731, 33.46640106136302, 30.116440692751194, 31.921779399024736, 34.48187929913333, 34.51086785347479, 36.124783736376884, 37.469987990390386, 40.44749683231337, 46.78675026115834, 56.16048432839589, 49.21381919745713, 45.803929962395145, 43.93176527297759, 42.43819034784589, 34.95711658589707, 0.0, 0.0, 0.0, 0.0, 0.0, 0.0, 0.0, 0.0, 0.0, 0.0, 0.0, 0.0, 0.0, 0.0, 0.0, 0.0, 0.0, 0.0, 0.0, 0.0, 0.0, 0.0, 0.0, 0.0, 32.202484376209235, 31.336879231984796, 26.267851073127396, 22.20360331117452, 17.349351572897472, 14.422205101855956, 17.029386365926403, 22.64950330581225, 29.120439557122072, 32.802438933713454, 32.72613634390714, 35.832945734337834, 38.66522985836241, 41.8568990729127, 43.497126341863094, 45.44227107000705, 47.47630988187688, 49.31531202375181, 48.95916665957459, 44.955533585978046, 42.83689998120779, 42.20189569201838, 38.742741255621034, 35.05709628591621, 0.0, 0.0, 0.0, 0.0, 0.0, 0.0, 0.0, 0.0, 0.0, 0.0, 0.0, 0.0, 0.0, 0.0, 0.0, 0.0, 0.0, 0.0, 0.0, 0.0, 0.0, 0.0, 0.0, 0.0, 26.076809620810597, 20.049937655763422, 16.186414056238647, 13.379088160259652, 11.958260743101398, 15.684387141358123, 25.13961017995307, 37.8021163428716, 45.83666654546336, 33.25657829663178, 29.257477676655586, 30.967725134404045, 33.734255586866, 32.96968304366907, 33.71943060017473, 35.4682957019364, 36.837480912787726, 42.41462012089699, 53.45091205957107, 46.06517122512408, 42.708313008125245, 42.15447781671598, 38.742741255621034, 32.51153641401772, 0.0, 0.0, 0.0, 0.0, 0.0, 0.0, 0.0, 0.0, 0.0, 0.0, 0.0, 0.0, 0.0, 0.0, 0.0, 0.0, 0.0, 0.0, 0.0, 0.0, 0.0, 0.0, 0.0, 0.0, 32.2490309931942, 29.698484809834994, 26.1725046566048, 22.293496809607955, 16.852299546352718, 13.152946437965905, 16.673332000533065, 20.97617696340303, 27.60434748368452, 31.080540535840107, 33.36165463522455, 35.32704346531139, 40.422765862815474, 43.0, 44.66542286825459, 46.9041575982343, 45.95650117230423, 48.98979485566356, 47.275786614291256, 42.33202097703345, 41.7612260356422, 39.92492955535426, 37.322915213043046, 32.14031735997639, 0.0, 0.0, 0.0, 0.0, 0.0, 0.0, 0.0, 0.0, 0.0, 0.0, 0.0, 0.0, 0.0, 0.0, 0.0, 0.0, 0.0, 0.0, 0.0, 0.0, 0.0, 0.0, 0.0, 0.0, 31.192947920964443, 27.110883423451916, 22.693611435820433, 18.138357147217054, 14.866068747318506, 14.933184523068078, 23.043437243605826, 16.792855623746664, 14.422205101855956, 6.855654600401044, 5.744562646538029, 5.385164807134504, 4.795831523312719, 4.69041575982343, 4.123105625617661, 2.8284271247461903, 5.291502622129181, 8.12403840463596, 8.602325267042627, 7.416198487095663, 6.6332495807108, 5.656854249492381, 4.795831523312719, 2.0, 0.0, 0.0, 0.0, 0.0, 0.0, 0.0, 0.0, 2.23606797749979, 2.449489742783178, 2.23606797749979, 1.4142135623730951, 4.47213595499958, 11.40175425099138, 23.0, 30.675723300355934, 35.156791662493895, 40.01249804748511, 43.243496620879306, 44.85532298401161, 41.96427051671457, 39.585350825778974, 41.60528812542944, 38.19685850956856, 34.08812109811862, 32.38826948140329, 27.712812921102035, 23.194827009486403, 19.28730152198591, 15.968719422671311, 12.083045973594572, 13.74772708486752, 18.57417562100671, 24.269322199023193, 27.440845468024488, 30.528675044947494, 34.46737587922817, 38.93584466786357, 41.400483088968905, 44.57577817604534, 46.551047249229526, 47.644516998286385, 47.486840282335066, 45.48626166217664, 40.099875311526844, 38.97435053981015, 37.21558813185679, 34.058772731852805, 28.982753492378876, 26.664583251946766, 19.748417658131498, 16.278820596099706, 13.856406460551018, 11.090536506409418, 14.66287829861518, 22.427661492005804, 34.72751070837067, 44.77722635447622, 34.14674215792775, 30.708305065568176, 33.421549934136806, 35.185224171518364, 36.09709129556009, 36.851051545376556, 38.7556447501522, 40.0374824383352, 46.119410230400824, 52.79204485526205, 46.36809247747852, 42.871902220452036, 42.28474902373195, 40.44749683231337, 34.583232931581165, 0.0, 0.0, 0.0, 0.0, 0.0, 0.0, 0.0, 0.0, 0.0, 0.0, 0.0, 0.0, 0.0, 0.0, 0.0, 0.0, 0.0, 0.0, 0.0, 0.0, 0.0, 0.0, 0.0, 0.0, 25.357444666211933, 12.0, 7.416198487095663, 9.486832980505138, 9.055385138137417, 12.328828005937952, 21.0, 34.92849839314596, 45.628938186199335, 33.12099032335839, 28.142494558940577, 30.23243291566195, 31.71750305430741, 31.85906464414798, 32.264531609803356, 34.219877264537345, 36.91882988394946, 42.13074886588179, 50.1398045468867, 41.50903516103452, 38.58756276314948, 38.01315561749642, 35.4259791678367, 30.01666203960727, 26.589471600616662, 23.259406699226016, 18.466185312619388, 14.7648230602334, 12.041594578792296, 14.035668847618199, 22.759613353482084, 35.11409973215888, 44.721359549995796, 32.71085446759225, 28.142494558940577, 30.430248109405877, 31.096623610932426, 31.622776601683793, 31.480152477394387, 32.46536616149585, 35.832945734337834, 41.048751503547585, 48.76474136094644, 40.17461885320133, 37.26929030716845, 37.389838191679836, 34.942810419312295, 29.274562336608895, 26.570660511172846, 23.043437243605826, 20.223748416156685, 15.0, 12.96148139681572, 13.527749258468683, 20.29778313018444, 33.793490497431605, 44.67661580737735, 33.25657829663178, 29.614185789921695, 30.967725134404045, 32.7566787083184, 33.31666249791537, 34.45286635390443, 36.359317925395686, 38.57460304397182, 43.61192497471305, 51.16639522186413, 42.473521163190604, 37.94733192202055, 35.94440151122286, 36.701498607005135, 30.659419433511783, 28.89636655359978, 27.184554438136374, 22.627416997969522, 19.339079605813716, 15.033296378372908, 12.165525060596439, 14.45683229480096, 20.29778313018444, 26.981475126464083, 29.206163733020468, 32.202484376209235, 34.336569426778794, 37.44329045369811, 40.64480286580315, 41.376321731154405, 42.96510211788167, 43.77213725647858, 44.66542286825459, 41.1703777004778, 37.16180835212409, 35.510561809129406, 36.22154055254967, 33.8673884437522, 31.160872901765767, 28.478061731796284, 24.166091947189145, 20.71231517720798, 17.549928774784245, 13.601470508735444, 10.488088481701515, 12.24744871391589, 17.435595774162696, 23.57965224510319, 27.83882181415011, 29.103264421710495, 32.49615361854384, 37.33630940518894, 39.91240408695021, 42.035699113967404, 44.13615298142782, 45.79301256742124, 44.609416046390926, 40.76763422127902, 37.107950630558946, 36.138621999185304, 35.510561809129406, 32.07802986469088, 28.460498941515414, 25.25866188063018, 19.82422760159901, 16.492422502470642, 13.076696830622021, 12.328828005937952, 14.45683229480096, 22.44994432064365, 35.651086939951774, 45.4972526643093, 33.45145736735546, 28.930952282978865, 30.166206257996713, 32.43454948045371, 32.526911934581186, 33.481338085566414, 34.39476704383968, 37.589892258425, 42.1070065428546, 51.332251070842396, 43.71498598878879, 40.7308237088326, 39.44616584663204, 37.107950630558946, 30.23243291566195, 26.94438717061496, 23.83275057562597, 20.663978319771825, 15.905973720586866, 12.041594578792296, 14.212670403551895, 22.15851980616034, 34.87119154832539, 46.195237849804386, 34.307433596816885, 29.223278392404914, 30.23243291566195, 32.60368077380221, 33.28663395418648, 33.36165463522455, 34.68429039204925, 37.5099986670221, 42.555845661906424, 52.11525688318153, 43.2087954009366, 39.59797974644666, 40.22437072223753, 37.749172176353746, 30.822070014844883, 27.184554438136374, 24.49489742783178, 19.519221295943137, 15.459624833740307, 12.529964086141668, 14.491376746189438, 22.427661492005804, 34.828149534535996, 46.92547282660026, 34.64101615137755, 29.017236257093817, 31.0, 32.984845004941285, 33.391615714128, 32.90896534380867, 34.27827300200522, 37.53664875824692, 43.54308211415448, 49.44694126030446, 42.649736224272246, 39.4715087119811, 38.63935817272331, 35.749125863438955, 29.93325909419153, 26.343879744638983, 24.06241883103193, 19.621416870348583, 15.620499351813308, 12.84523257866513, 13.601470508735444, 21.400934559032695, 34.51086785347479, 46.411205543489174, 34.132096331752024, 29.393876913398138, 30.28200785945344, 33.645207682521445, 33.94112549695428, 33.49626844888845, 34.68429039204925, 38.379682124790975, 42.473521163190604, 49.98999899979995, 43.3358973600409, 39.08964057138413, 38.28837943815329, 36.08323710533743, 30.72458299147443, 27.982137159266443, 25.553864678361276, 20.808652046684813, 16.186414056238647, 13.564659966250536, 12.727922061357855, 22.15851980616034, 34.46737587922817, 45.967379738244816, 34.51086785347479, 29.154759474226502, 31.32091952673165, 34.07345007480164, 34.49637662132068, 34.942810419312295, 37.282703764614496, 39.07684736515984, 44.034077712607996, 51.29327441292864, 42.05948168962618, 38.88444419044716, 38.17066936798463, 36.4828726939094, 31.906112267087632, 29.8496231131986, 27.820855486487112, 22.847319317591726, 19.6468827043885, 15.684387141358123, 12.409673645990857, 14.798648586948742, 20.663978319771825, 28.0, 30.347981810987037, 31.575306807693888, 34.27827300200522, 37.5099986670221, 39.81205847478876, 40.607881008493905, 41.95235392680606, 42.579337712087536, 44.14748010928823, 41.31585652022719, 37.5099986670221, 35.63705936241092, 35.34119409414458, 33.77869150810907, 30.364452901377952, 29.120439557122072, 24.939927826679853, 20.688160865577203, 18.49324200890693, 14.352700094407323, 12.083045973594572, 13.114877048604, 17.74823934929885, 23.108440016582687, 26.057628441590765, 30.59411708155671, 32.48076353782343, 37.64306044943742, 38.97435053981015, 40.52159917870962, 43.485629810317796, 44.45222154178574, 43.393547907494266, 40.22437072223753, 38.262252939417984, 36.138621999185304, 34.02939905434711, 32.01562118716424, 26.90724809414742, 24.95996794869737, 19.28730152198591, 15.905973720586866, 13.228756555322953, 10.488088481701515, 14.212670403551895, 22.64950330581225, 35.270384177096794, 45.94562003064057, 33.2264954516723, 28.583211855912904, 30.675723300355934, 32.155870381627054, 32.61901286060018, 33.49626844888845, 34.161381705077446, 38.262252939417984, 43.634848458542855, 51.11751167652823, 43.12771730569565, 39.91240408695021, 38.897300677553446, 36.87817782917155, 30.265491900843113, 26.94438717061496, 23.388031127053, 18.867962264113206, 15.588457268119896, 13.038404810405298, 13.892443989449804, 21.354156504062622, 28.965496715920477, 37.72267222772003, 32.03123475609393, 27.110883423451916, 9.0, 19.05255888325765, 25.534290669607408, 28.930952282978865, 31.78049716414141, 35.9722114972099, 40.049968789001575, 49.14264950122246, 41.048751503547585, 37.8549864614954, 37.14835124201342, 35.45419580247167, 29.597297173897484, 26.60826939130014, 23.93741840717165, 19.261360284258224, 15.7797338380595, 12.727922061357855, 12.806248474865697, 21.283796653792763, 34.132096331752024, 45.91296113299599, 33.926390907374746, 28.478061731796284, 30.659419433511783, 33.555923471125034, 33.25657829663178, 33.91164991562634, 34.07345007480164, 38.62641583165593, 43.634848458542855, 51.10772935672255, 42.74342054632502, 39.44616584663204, 38.262252939417984, 35.79106033634656, 29.732137494637012, 27.0, 23.916521486202797, 20.518284528683193, 16.30950643030009, 12.68857754044952, 13.892443989449804, 21.213203435596427, 35.369478367654786, 45.4972526643093, 34.17601498127012, 27.910571473905726, 30.919249667480614, 34.46737587922817, 33.97057550292606, 34.52535300326414, 35.70714214271425, 39.08964057138413, 44.28317965096906, 51.30302135352264, 44.36214602563767, 39.949968710876355, 38.897300677553446, 36.27671429443411, 30.315012782448235, 27.440845468024488, 25.079872407968907, 20.83266665599966, 18.083141320025124, 13.601470508735444, 13.341664064126334, 19.390719429665317, 23.57965224510319, 23.57965224510319, 12.0, 13.820274961085254, 7.3484692283495345, 5.385164807134504, 4.242640687119285, 12.12435565298214, 24.0, 30.0, 37.22902093797257, 43.382023926967726, 35.04283093587046, 31.670175244226233, 23.280893453645632, 26.076809620810597, 24.55605831561735, 25.298221281347036, 24.186773244895647, 21.863211109075447, 18.601075237738275, 15.264337522473747, 12.083045973594572, 14.035668847618199, 19.697715603592208, 26.70205984563738, 28.0178514522438, 29.966648127543394, 31.559467676119, 32.802438933713454, 33.436506994600975, 34.39476704383968, 35.41186241925155, 36.16628264005025, 34.292856398964496, 32.46536616149585, 29.393876913398138, 27.83882181415011, 27.83882181415011, 27.422618401604176, 25.65151067676132, 26.43860813280457, 23.043437243605826, 21.213203435596427, 17.291616465790582, 12.165525060596439, 5.196152422706632, 7.416198487095663, 11.575836902790225, 8.602325267042627, 13.96424004376894, 18.16590212458495, 23.323807579381203, 25.099800796022265, 30.265491900843113, 31.016124838541646, 30.789608636681304, 19.621416870348583, 23.130067012440755, 25.514701644346147, 25.39685019840059, 24.979991993593593, 25.88435821108957, 25.0, 22.627416997969522, 20.83266665599966, 18.05547008526779, 13.564659966250536, 11.090536506409418, 10.816653826391969, 12.68857754044952, 20.8806130178211, 32.71085446759225, 43.45112196480086, 31.953090617340916, 27.76688675382964, 28.21347195933177, 27.147743920996454, 28.548204847240395, 28.948229652260256, 29.732137494637012, 32.69556544854363, 35.6931365951495, 44.57577817604534, 37.107950630558946, 32.03123475609393, 31.28897569432403, 30.099833886584822, 25.65151067676132, 22.090722034374522, 20.97617696340303, 16.822603841260722, 13.490737563232042, 12.24744871391589, 12.727922061357855, 19.849433241279208, 31.701734968294716, 43.393547907494266, 31.336879231984796, 26.153393661244042, 27.964262908219126, 29.68164415931166, 29.103264421710495, 30.04995840263344, 31.064449134018133, 33.31666249791537, 36.837480912787726, 45.5411901469428, 37.97367509209505, 34.438350715445125, 33.8673884437522, 30.789608636681304, 22.956480566497994, 17.146428199482248, 18.0, 16.941074346097416, 15.066519173319364, 12.083045973594572, 11.874342087037917, 20.049937655763422, 32.55764119219941, 43.669211121796096, 31.559467676119, 26.77685567799177, 28.600699292150182, 30.116440692751194, 31.352830813181765, 31.0322412983658, 31.52776554086889, 34.42382895611701, 38.23610858861032, 45.760244754590204, 38.82009788756334, 34.292856398964496, 32.69556544854363, 32.984845004941285, 28.24889378365107, 24.166091947189145, 22.891046284519195, 19.026297590440446, 15.556349186104045, 12.12435565298214, 12.409673645990857, 20.808652046684813, 32.48076353782343, 43.57751713900185, 31.796226191169293, 26.38181191654584, 29.189039038652847, 30.430248109405877, 31.11269837220809, 32.2490309931942, 33.075670817082454, 34.72751070837067, 39.61060464067672, 47.47630988187688, 39.50949253027682, 35.62302626111375, 34.597687784012386, 33.391615714128, 28.39013913315678, 25.337718918639855, 23.664319132398465, 19.209372712298546, 15.84297951775486, 12.884098726725126, 12.36931687685298, 20.074859899884732, 32.0, 43.657759905886145, 32.046840717924134, 27.40437921208944, 29.664793948382652, 31.984371183438952, 33.61547262794322, 34.058772731852805, 35.369478367654786, 37.73592452822641, 41.593268686170845, 48.104053883222775, 39.59797974644666, 35.24202037341219, 33.85262175962151, 33.25657829663178, 29.171904291629644, 0.0, 0.0, 0.0, 0.0, 0.0, 0.0, 0.0, 0.0, 0.0, 0.0, 0.0, 0.0, 0.0, 0.0, 0.0, 0.0, 0.0, 0.0, 0.0, 0.0, 0.0, 0.0, 0.0, 0.0, 26.832815729997478, 22.737634001804146, 19.44222209522358, 17.204650534085253, 13.711309200802088, 10.583005244258363, 11.874342087037917, 16.09347693943108, 21.93171219946131, 25.13961017995307, 27.331300737432898, 31.0322412983658, 33.83784863137726, 36.810324638611924, 38.87158345115362, 39.736632972611055, 41.10960958218893, 39.949968710876355, 36.53765181289022, 34.351128074635334, 32.817678162843876, 31.63858403911275, 30.199337741083, 25.612496949731394, 22.80350850198276, 18.601075237738275, 14.352700094407323, 12.68857754044952, 10.344080432788601, 12.884098726725126, 21.166010488516726, 33.391615714128, 44.44097208657794, 31.701734968294716, 28.106938645110393, 28.792360097775937, 31.160872901765767, 31.400636936215164, 31.51190251317746, 33.166247903554, 36.30426972134269, 40.792156108742276, 48.54894437575342, 40.22437072223753, 38.262252939417984, 35.90264614203248, 34.85685011586675, 28.792360097775937, 0.0, 0.0, 0.0, 0.0, 0.0, 0.0, 0.0, 0.0, 0.0, 0.0, 0.0, 0.0, 0.0, 0.0, 0.0, 0.0, 0.0, 0.0, 0.0, 0.0, 0.0, 0.0, 0.0, 0.0, 25.278449319529077, 20.248456731316587, 11.661903789690601, 6.324555320336759, 6.855654600401044, 8.426149773176359, 13.92838827718412, 22.93468988235943, 34.219877264537345, 27.202941017470888, 23.558437978779494, 24.657656011875904, 26.40075756488817, 28.24889378365107, 27.694764848252458, 29.120439557122072, 28.879058156387302, 33.391615714128, 36.701498607005135, 34.292856398964496, 32.58834147360065, 32.58834147360065, 31.670175244226233, 26.057628441590765, 19.87460691435179, 12.569805089976535, 11.045361017187261, 8.831760866327848, 7.0710678118654755, 7.0, 11.661903789690601, 13.19090595827292, 12.165525060596439, 7.483314773547883, 4.123105625617661, 5.0, 4.123105625617661, 4.242640687119285, 6.782329983125268, 7.483314773547883, 3.7416573867739413, 5.477225575051661, 6.324555320336759, 4.358898943540674, 3.4641016151377544, 4.58257569495584, 3.7416573867739413, 5.0990195135927845, 0.0, 0.0, 0.0, 0.0, 0.0, 0.0, 0.0, 0.0, 0.0, 0.0, 0.0, 0.0, 0.0, 0.0, 0.0, 0.0, 0.0, 0.0, 0.0, 0.0, 0.0, 0.0, 0.0, 0.0, 27.459060435491963, 26.057628441590765, 23.83275057562597, 19.28730152198591, 14.933184523068078, 11.704699910719626, 12.922847983320086, 17.578395831246947, 24.269322199023193, 25.059928172283335, 26.43860813280457, 27.712812921102035, 32.155870381627054, 33.075670817082454, 33.36165463522455, 35.05709628591621, 35.53871128783372, 37.134889255254286, 35.014282800023196, 30.93541659651604, 29.614185789921695, 29.103264421710495, 29.748949561287034, 26.0, 25.592967784139454, 22.759613353482084, 19.235384061671343, 17.72004514666935, 13.74772708486752, 10.535653752852738, 10.816653826391969, 15.0996688705415, 19.87460691435179, 23.958297101421877, 23.727621035409346, 24.041630560342615, 27.730849247724095, 27.53179979587241, 28.460498941515414, 28.844410203711913, 24.819347291981714, 25.69046515733026, 27.422618401604176, 26.1725046566048, 26.664583251946766, 26.248809496813376, 26.267851073127396, 23.53720459187964, 21.354156504062622, 18.547236990991408, 13.674794331177344, 11.045361017187261, 10.44030650891055, 12.569805089976535, 20.46948949045872, 31.68595903550972, 41.2189276910499, 30.512292604784715, 26.13426869074396, 28.0178514522438, 29.79932885150268, 29.816103031751148, 29.765752132274432, 32.92415526630866, 34.539832078341085, 38.36665218650175, 44.96665431183423, 38.28837943815329, 35.94440151122286, 34.48187929913333, 31.984371183438952, 26.49528259898354, 24.228082879171435, 22.06807649071391, 18.16590212458495, 14.317821063276353, 11.532562594670797, 12.727922061357855, 20.049937655763422, 32.64965543462902, 43.70354676682432, 31.464265445104548, 26.645825188948457, 28.089143810376278, 29.832867780352597, 30.199337741083, 30.463092423455635, 31.304951684997057, 34.46737587922817, 37.68288736283355, 46.46504062195577, 39.102429592034305, 34.75629439396553, 34.10278580995987, 33.555923471125034, 26.795522013948524, 24.73863375370596, 22.737634001804146, 18.083141320025124, 14.491376746189438, 12.806248474865697, 11.61895003862225, 19.026297590440446, 32.357379374726875, 43.77213725647858, 31.921779399024736, 27.910571473905726, 29.866369046136157, 31.0322412983658, 32.0624390837628, 31.63858403911275, 32.60368077380221, 33.71943060017473, 39.14077158156185, 46.9041575982343, 38.262252939417984, 35.62302626111375, 35.199431813596085, 32.77193921634788, 27.51363298439521, 24.698178070456937, 22.11334438749598, 17.69180601295413, 14.798648586948742, 12.409673645990857, 13.114877048604, 18.894443627691185, 29.715315916207253, 41.060930335295616, 36.05551275463989, 27.964262908219126, 27.748873851023216, 30.692018506445613, 29.715315916207253, 29.9833287011299, 31.160872901765767, 33.51119216023208, 37.62977544445356, 45.09988913511872, 38.05259518088089, 33.85262175962151, 33.51119216023208, 32.57299494980466, 26.851443164195103, 26.13426869074396, 22.80350850198276, 19.390719429665317, 16.186414056238647, 13.076696830622021, 12.288205727444508, 20.29778313018444, 30.643106892089126, 41.13392760240627, 31.480152477394387, 26.43860813280457, 28.879058156387302, 29.765752132274432, 30.331501776206203, 30.24896692450835, 31.54362059117501, 33.555923471125034, 36.68787265568828, 44.22668877499196, 36.09709129556009, 31.54362059117501, 30.116440692751194, 29.899832775452108, 26.210684844162312, 25.019992006393608, 24.43358344574123, 21.354156504062622, 16.97056274847714, 13.96424004376894, 11.357816691600547, 12.288205727444508, 17.74823934929885, 23.021728866442675, 25.37715508089904, 27.073972741361768, 28.809720581775867, 31.52776554086889, 32.202484376209235, 31.12876483254676, 31.906112267087632, 31.20897306865447, 32.109188716004645, 29.614185789921695, 27.110883423451916, 25.37715508089904, 26.1725046566048, 25.592967784139454, 24.0, 24.331050121192877, 21.047565179849187, 18.303005217723125, 16.06237840420901, 12.84523257866513, 9.591663046625438, 10.677078252031311, 13.820274961085254, 19.261360284258224, 21.37755832643195, 24.145392935299274, 25.39685019840059, 27.85677655436824, 30.083217912982647, 32.46536616149585, 32.357379374726875, 32.03123475609393, 32.2335229225724, 30.033314835362415, 27.54995462791182, 26.814175355583846, 26.115129714401192, 25.13961017995307, 23.065125189341593, 21.37755832643195, 16.64331697709324, 13.784048752090222, 11.532562594670797, 9.38083151964686, 12.922847983320086, 20.445048300260872, 31.480152477394387, 41.84495190581536, 29.816103031751148, 25.514701644346147, 27.294688127912362, 28.0178514522438, 28.0178514522438, 28.160255680657446, 28.965496715920477, 31.11269837220809, 35.11409973215888, 43.634848458542855, 36.11094017053558, 32.09361307176243, 31.921779399024736, 30.166206257996713, 25.079872407968907, 21.863211109075447, 20.54263858417414, 16.911534525287763, 14.212670403551895, 10.908712114635714, 11.874342087037917, 19.209372712298546, 30.56141357987225, 42.638011210655684, 30.903074280724887, 25.67099530598687, 26.43860813280457, 28.071337695236398, 28.24889378365107, 28.106938645110393, 29.34280150224242, 31.096623610932426, 35.62302626111375, 43.09292285283048, 36.29049462324811, 32.83291031876401, 31.937438845342623, 30.364452901377952, 19.44222209522358, 10.908712114635714, 12.609520212918492, 11.357816691600547, 10.583005244258363, 9.848857801796104, 10.862780491200215, 17.291616465790582, 28.071337695236398, 40.27406113120453, 29.444863728670914, 24.71841418861655, 25.475478405713993, 26.40075756488817, 24.95996794869737, 21.77154105707724, 23.45207879911715, 27.477263328068172, 33.18132004607411, 40.97560249709576, 33.36165463522455, 30.59411708155671, 28.948229652260256, 28.722813232690143, 23.895606290697042, 21.047565179849187, 19.544820285692065, 16.46207763315433, 12.806248474865697, 11.0, 11.532562594670797, 18.2208671582886, 29.120439557122072, 40.87786687193939, 29.715315916207253, 24.55605831561735, 25.37715508089904, 26.77685567799177, 26.038433132583073, 26.30589287593181, 26.758176320519304, 27.54995462791182, 33.18132004607411, 39.88734135035826, 32.12475680841802, 27.874719729532707, 27.54995462791182, 26.28687885618983, 22.090722034374522, 21.6794833886788, 20.024984394500787, 16.703293088490067, 13.820274961085254, 10.44030650891055, 11.357816691600547, 18.411952639521967, 26.962937525425527, 38.93584466786357, 28.284271247461902, 24.124676163629637, 25.199206336708304, 25.768197453450252, 27.03701166919155, 26.814175355583846, 27.422618401604176, 29.8496231131986, 33.18132004607411, 39.344631145812, 31.73326330524486, 27.694764848252458, 26.057628441590765, 27.0, 23.40939982143925, 22.338307903688676, 22.516660498395403, 18.303005217723125, 16.492422502470642, 12.288205727444508, 9.746794344808963, 8.888194417315589, 5.477225575051661, 5.744562646538029, 4.898979485566356, 7.874007874011811, 10.677078252031311, 12.922847983320086, 15.524174696260024, 17.26267650163207, 18.16590212458495, 20.8806130178211, 20.85665361461421, 20.639767440550294, 20.493901531919196, 18.681541692269406, 19.79898987322333, 19.8997487421324, 19.6468827043885, 20.493901531919196, 19.235384061671343, 16.881943016134134, 13.564659966250536, 11.74734012447073, 9.38083151964686, 8.660254037844387, 11.916375287812984, 15.811388300841896, 18.841443681416774, 20.73644135332772, 22.847319317591726, 26.457513110645905, 25.98076211353316, 27.874719729532707, 29.086079144497972, 29.5296461204668, 28.513154858766505, 25.748786379167466, 24.819347291981714, 23.874672772626646, 23.366642891095847, 22.271057451320086, 19.467922333931785, 19.672315572906, 14.628738838327793, 13.228756555322953, 10.908712114635714, 9.9498743710662, 10.723805294763608, 18.411952639521967, 28.61817604250837, 39.03844259188627, 28.19574435974337, 24.20743687382041, 25.357444666211933, 27.422618401604176, 26.795522013948524, 28.21347195933177, 28.178005607210743, 30.577769702841312, 34.0, 41.32795663954365, 34.36568055487916, 30.708305065568176, 30.903074280724887, 29.086079144497972, 23.727621035409346, 22.271057451320086, 20.199009876724155, 17.291616465790582, 13.527749258468683, 9.746794344808963, 11.832159566199232, 17.804493814764857, 28.548204847240395, 39.71145930332956, 28.284271247461902, 24.819347291981714, 24.95996794869737, 25.92296279363144, 25.903667693977237, 24.49489742783178, 25.80697580112788, 27.83882181415011, 32.14031735997639, 39.21734310225516, 31.984371183438952, 28.722813232690143, 27.874719729532707, 27.202941017470888, 24.351591323771842, 21.213203435596427, 20.83266665599966, 16.583123951777, 12.922847983320086, 11.313708498984761, 11.832159566199232, 16.941074346097416, 28.21347195933177, 39.242833740697165, 28.24889378365107, 24.145392935299274, 24.657656011875904, 25.199206336708304, 26.095976701399778, 25.98076211353316, 28.24889378365107, 28.42534080710379, 33.15116890850155, 39.191835884530846, 32.2335229225724, 29.017236257093817, 29.086079144497972, 28.35489375751565, 23.558437978779494, 22.737634001804146, 22.02271554554524, 17.86057109949175, 13.96424004376894, 10.344080432788601, 11.224972160321824, 18.110770276274835, 28.284271247461902, 40.43513323831146, 28.722813232690143, 24.392621835300936, 24.95996794869737, 25.709920264364882, 25.39685019840059, 25.84569596664017, 25.534290669607408, 27.349588662354687, 31.559467676119, 39.71145930332956, 32.03123475609393, 28.600699292150182, 28.142494558940577, 26.94438717061496, 23.643180835073778, 21.77154105707724, 21.354156504062622, 17.320508075688775, 14.594519519326424, 10.770329614269007, 12.206555615733702, 17.11724276862369, 27.386127875258307, 39.07684736515984, 28.442925306655784, 23.53720459187964, 25.337718918639855, 26.832815729997478, 27.202941017470888, 27.586228448267445, 27.712812921102035, 28.930952282978865, 32.357379374726875, 37.20215047547655, 31.670175244226233, 27.640549922170507, 26.343879744638983, 26.68332812825267, 24.166091947189145], \"xaxis\": \"x\", \"yaxis\": \"y\"}, {\"alignmentgroup\": \"True\", \"hoverlabel\": {\"namelength\": 0}, \"hovertemplate\": \"Year=2018<br>x=%{x}\", \"legendgroup\": \"Year=2018\", \"marker\": {\"color\": \"#EF553B\"}, \"name\": \"Year=2018\", \"offsetgroup\": \"Year=2018\", \"scalegroup\": \"x\", \"showlegend\": false, \"type\": \"violin\", \"x\": [14.352700094407323, 15.165750888103101, 13.341664064126334, 10.908712114635714, 7.874007874011811, 7.810249675906654, 8.06225774829855, 9.0, 9.433981132056603, 11.0, 11.789826122551595, 13.0, 15.0, 15.748015748023622, 17.26267650163207, 18.547236990991408, 17.60681686165901, 16.46207763315433, 14.7648230602334, 11.180339887498949, 14.352700094407323, 14.247806848775006, 12.96148139681572, 12.409673645990857, 12.165525060596439, 10.392304845413264, 8.306623862918075, 6.4031242374328485, 5.5677643628300215, 7.615773105863909, 11.789826122551595, 18.547236990991408, 25.592967784139454, 17.74823934929885, 14.422205101855956, 16.401219466856727, 17.11724276862369, 16.522711641858304, 17.378147196982766, 17.175564037317667, 17.88854381999832, 19.313207915827967, 25.98076211353316, 20.074859899884732, 19.078784028338912, 17.435595774162696, 16.522711641858304, 13.638181696985855, 12.649110640673518, 11.40175425099138, 10.488088481701515, 8.18535277187245, 6.557438524302, 8.18535277187245, 11.704699910719626, 17.549928774784245, 25.88435821108957, 18.49324200890693, 14.594519519326424, 16.34013463836819, 17.233687939614086, 16.703293088490067, 16.431676725154983, 16.911534525287763, 17.291616465790582, 19.544820285692065, 25.238858928247925, 20.760539492026695, 17.146428199482248, 18.303005217723125, 17.05872210923198, 14.035668847618199, 12.609520212918492, 12.24744871391589, 11.090536506409418, 7.54983443527075, 6.164414002968976, 8.12403840463596, 10.954451150103322, 17.378147196982766, 25.41653005427767, 18.439088914585774, 14.035668847618199, 16.24807680927192, 17.029386365926403, 16.852299546352718, 16.186414056238647, 16.76305461424021, 17.578395831246947, 19.924858845171276, 24.55605831561735, 20.42057785666214, 17.635192088548397, 17.60681686165901, 17.4928556845359, 14.866068747318506, 14.212670403551895, 13.038404810405298, 10.862780491200215, 8.18535277187245, 6.855654600401044, 8.660254037844387, 11.090536506409418, 18.083141320025124, 25.787593916455254, 18.81488772222678, 15.231546211727817, 17.549928774784245, 19.026297590440446, 17.663521732655695, 18.520259177452136, 18.24828759089466, 18.138357147217054, 21.118712081942874, 25.199206336708304, 21.047565179849187, 17.944358444926362, 16.852299546352718, 16.76305461424021, 13.74772708486752, 13.564659966250536, 14.89966442575134, 13.2664991614216, 10.14889156509222, 7.810249675906654, 6.928203230275509, 8.306623862918075, 10.246950765959598, 13.638181696985855, 14.866068747318506, 14.2828568570857, 15.652475842498529, 16.822603841260722, 18.867962264113206, 19.235384061671343, 19.313207915827967, 18.76166303929372, 18.81488772222678, 16.46207763315433, 14.38749456993816, 13.74772708486752, 14.628738838327793, 14.7648230602334, 13.0, 13.856406460551018, 12.727922061357855, 11.313708498984761, 10.099504938362077, 7.874007874011811, 6.324555320336759, 6.164414002968976, 7.745966692414834, 11.045361017187261, 11.958260743101398, 13.379088160259652, 14.628738838327793, 16.673332000533065, 16.278820596099706, 18.193405398660254, 19.183326093250876, 18.24828759089466, 18.681541692269406, 16.431676725154983, 15.684387141358123, 15.264337522473747, 15.362291495737216, 14.628738838327793, 12.206555615733702, 12.206555615733702, 10.44030650891055, 8.774964387392123, 7.280109889280518, 6.782329983125268, 8.18535277187245, 12.609520212918492, 19.339079605813716, 26.476404589747453, 19.672315572906, 15.905973720586866, 16.673332000533065, 18.867962264113206, 17.406895185529212, 18.681541692269406, 17.832554500127006, 18.788294228055936, 19.621416870348583, 17.776388834631177, 11.269427669584644, 12.0, 12.083045973594572, 12.206555615733702, 10.583005244258363, 10.0, 10.344080432788601, 8.660254037844387, 7.211102550927978, 6.164414002968976, 7.211102550927978, 11.224972160321824, 15.652475842498529, 23.53720459187964, 17.88854381999832, 13.784048752090222, 15.716233645501712, 16.186414056238647, 16.278820596099706, 16.278820596099706, 16.0312195418814, 16.186414056238647, 18.2208671582886, 23.62202362203543, 19.078784028338912, 17.378147196982766, 16.76305461424021, 12.884098726725126, 8.94427190999916, 7.810249675906654, 8.831760866327848, 7.937253933193772, 6.324555320336759, 5.5677643628300215, 6.244997998398398, 9.16515138991168, 12.569805089976535, 19.672315572906, 15.0, 12.24744871391589, 12.96148139681572, 14.730919862656235, 14.38749456993816, 13.30413469565007, 13.892443989449804, 14.0, 16.30950643030009, 20.904544960366874, 16.09347693943108, 14.38749456993816, 14.628738838327793, 12.84523257866513, 11.789826122551595, 9.899494936611665, 10.0, 9.433981132056603, 6.164414002968976, 5.744562646538029, 6.48074069840786, 9.055385138137417, 14.247806848775006, 21.047565179849187, 15.066519173319364, 12.328828005937952, 12.083045973594572, 13.674794331177344, 13.341664064126334, 13.674794331177344, 13.45362404707371, 13.379088160259652, 14.798648586948742, 18.76166303929372, 15.84297951775486, 13.30413469565007, 12.727922061357855, 13.114877048604, 10.908712114635714, 10.246950765959598, 9.9498743710662, 9.1104335791443, 6.48074069840786, 5.477225575051661, 5.916079783099616, 9.591663046625438, 13.74772708486752, 20.46948949045872, 14.0, 10.908712114635714, 11.832159566199232, 13.341664064126334, 13.30413469565007, 13.152946437965905, 13.30413469565007, 14.0, 16.09347693943108, 20.12461179749811, 16.522711641858304, 14.491376746189438, 13.564659966250536, 13.638181696985855, 12.0, 12.328828005937952, 12.96148139681572, 12.041594578792296, 8.774964387392123, 6.855654600401044, 6.324555320336759, 6.48074069840786, 6.557438524302, 8.18535277187245, 10.099504938362077, 10.295630140987, 11.532562594670797, 13.19090595827292, 14.560219778561036, 14.66287829861518, 15.84297951775486, 15.7797338380595, 16.64331697709324, 14.933184523068078, 12.922847983320086, 12.569805089976535, 12.489995996796797, 12.96148139681572, 11.445523142259598, 12.206555615733702, 12.24744871391589, 10.535653752852738, 8.888194417315589, 6.928203230275509, 5.385164807134504, 7.0, 7.681145747868608, 9.0, 10.862780491200215, 11.575836902790225, 13.19090595827292, 15.033296378372908, 16.492422502470642, 17.435595774162696, 18.788294228055936, 19.131126469708992, 17.378147196982766, 15.811388300841896, 14.422205101855956, 14.491376746189438, 14.594519519326424, 14.0, 12.0, 13.076696830622021, 11.045361017187261, 8.602325267042627, 7.615773105863909, 6.164414002968976, 7.416198487095663, 9.055385138137417, 14.45683229480096, 21.071307505705477, 17.406895185529212, 14.560219778561036, 15.937377450509228, 17.635192088548397, 17.578395831246947, 17.4928556845359, 18.681541692269406, 19.1049731745428, 21.330729007701542, 23.558437978779494, 21.071307505705477, 17.916472867168917, 18.275666882497067, 18.24828759089466, 15.165750888103101, 14.560219778561036, 14.38749456993816, 11.874342087037917, 9.0, 7.14142842854285, 7.615773105863909, 11.832159566199232, 17.832554500127006, 25.495097567963924, 19.390719429665317, 14.866068747318506, 16.0, 16.61324772583615, 17.204650534085253, 16.61324772583615, 15.811388300841896, 16.64331697709324, 19.519221295943137, 24.331050121192877, 20.223748416156685, 18.2208671582886, 18.49324200890693, 17.916472867168917, 15.556349186104045, 14.2828568570857, 13.527749258468683, 11.832159566199232, 8.660254037844387, 7.416198487095663, 8.48528137423857, 10.723805294763608, 16.492422502470642, 23.173260452512935, 18.35755975068582, 14.560219778561036, 16.431676725154983, 17.60681686165901, 16.522711641858304, 16.06237840420901, 16.673332000533065, 17.72004514666935, 19.493588689617926, 22.38302928559939, 18.973665961010276, 16.911534525287763, 17.88854381999832, 17.69180601295413, 15.066519173319364, 14.66287829861518, 13.784048752090222, 11.704699910719626, 9.746794344808963, 7.0710678118654755, 8.246211251235321, 10.344080432788601, 16.703293088490067, 23.173260452512935, 17.46424919657298, 13.711309200802088, 16.15549442140351, 16.34013463836819, 17.52141546793523, 17.349351572897472, 16.401219466856727, 18.110770276274835, 20.396078054371138, 22.494443758403985, 19.1049731745428, 17.406895185529212, 18.411952639521967, 17.832554500127006, 15.231546211727817, 14.52583904633395, 14.38749456993816, 11.832159566199232, 9.643650760992955, 7.615773105863909, 7.810249675906654, 12.288205727444508, 18.275666882497067, 25.45584412271571, 19.672315572906, 15.968719422671311, 16.822603841260722, 18.466185312619388, 18.466185312619388, 18.681541692269406, 19.519221295943137, 19.748417658131498, 21.633307652783937, 26.49528259898354, 21.702534414210707, 18.49324200890693, 18.193405398660254, 17.08800749063506, 15.362291495737216, 15.0996688705415, 16.06237840420901, 14.696938456699069, 10.862780491200215, 9.433981132056603, 7.483314773547883, 7.0710678118654755, 10.04987562112089, 13.820274961085254, 15.297058540778355, 16.09347693943108, 16.881943016134134, 18.027756377319946, 18.867962264113206, 18.275666882497067, 20.149441679609886, 18.76166303929372, 19.4164878389476, 16.822603841260722, 14.933184523068078, 14.798648586948742, 14.832396974191326, 15.231546211727817, 12.806248474865697, 14.0, 13.30413469565007, 10.344080432788601, 10.344080432788601, 8.54400374531753, 5.656854249492381, 6.0, 7.810249675906654, 10.723805294763608, 12.328828005937952, 13.74772708486752, 14.696938456699069, 16.46207763315433, 18.520259177452136, 18.439088914585774, 19.72308292331602, 19.8997487421324, 19.570385790780925, 17.175564037317667, 14.933184523068078, 16.06237840420901, 15.394804318340652, 14.38749456993816, 13.038404810405298, 13.076696830622021, 9.848857801796104, 8.54400374531753, 7.280109889280518, 5.5677643628300215, 7.745966692414834, 12.84523257866513, 17.776388834631177, 26.13426869074396, 19.1049731745428, 14.866068747318506, 16.64331697709324, 17.97220075561143, 16.76305461424021, 15.7797338380595, 7.937253933193772, 4.242640687119285, 6.557438524302, 13.038404810405298, 12.922847983320086, 13.45362404707371, 13.674794331177344, 13.038404810405298, 11.789826122551595, 9.797958971132712, 10.954451150103322, 8.660254037844387, 7.416198487095663, 6.708203932499369, 6.6332495807108, 9.16515138991168, 14.52583904633395, 20.566963801203133, 15.0996688705415, 11.489125293076057, 13.564659966250536, 13.416407864998739, 13.74772708486752, 13.0, 13.45362404707371, 13.45362404707371, 15.459624833740307, 18.734993995195193, 15.748015748023622, 13.341664064126334, 12.041594578792296, 10.816653826391969, 10.295630140987, 9.486832980505138, 9.433981132056603, 7.0710678118654755, 5.656854249492381, 4.898979485566356, 5.830951894845301, 8.426149773176359, 12.806248474865697, 19.078784028338912, 13.856406460551018, 9.486832980505138, 11.135528725660043, 11.0, 11.832159566199232, 11.180339887498949, 12.206555615733702, 11.135528725660043, 14.247806848775006, 17.233687939614086, 14.52583904633395, 11.180339887498949, 11.489125293076057, 11.0, 9.055385138137417, 8.831760866327848, 8.246211251235321, 7.745966692414834, 5.656854249492381, 4.69041575982343, 5.830951894845301, 8.426149773176359, 12.84523257866513, 18.681541692269406, 13.674794331177344, 10.246950765959598, 11.045361017187261, 11.916375287812984, 11.40175425099138, 12.649110640673518, 11.40175425099138, 12.328828005937952, 13.038404810405298, 16.97056274847714, 13.341664064126334, 11.874342087037917, 11.704699910719626, 10.63014581273465, 8.888194417315589, 8.246211251235321, 9.643650760992955, 7.3484692283495345, 6.4031242374328485, 4.898979485566356, 6.0, 8.0, 11.916375287812984, 17.944358444926362, 12.206555615733702, 9.797958971132712, 9.643650760992955, 10.535653752852738, 10.723805294763608, 10.770329614269007, 11.832159566199232, 12.12435565298214, 14.0, 17.46424919657298, 13.076696830622021, 11.0, 11.40175425099138, 10.392304845413264, 9.433981132056603, 8.94427190999916, 9.695359714832659, 8.660254037844387, 6.4031242374328485, 6.0, 5.0, 5.744562646538029, 7.54983443527075, 9.16515138991168, 10.246950765959598, 9.797958971132712, 11.180339887498949, 12.041594578792296, 13.74772708486752, 13.892443989449804, 13.856406460551018, 13.96424004376894, 14.38749456993816, 12.727922061357855, 11.045361017187261, 10.816653826391969, 10.14889156509222, 10.677078252031311, 10.14889156509222, 11.180339887498949, 10.14889156509222, 8.48528137423857, 8.18535277187245, 6.164414002968976, 4.58257569495584, 5.477225575051661, 6.48074069840786, 8.48528137423857, 10.198039027185569, 10.535653752852738, 12.041594578792296, 13.74772708486752, 14.352700094407323, 15.0, 14.730919862656235, 13.674794331177344, 13.341664064126334, 12.529964086141668, 11.575836902790225, 10.63014581273465, 10.295630140987, 10.246950765959598, 9.0, 8.94427190999916, 7.874007874011811, 7.0, 5.196152422706632, 5.0990195135927845, 7.0710678118654755, 9.695359714832659, 15.198684153570664, 21.213203435596427, 14.730919862656235, 11.61895003862225, 12.884098726725126, 13.638181696985855, 12.884098726725126, 12.96148139681572, 13.30413469565007, 13.96424004376894, 15.459624833740307, 20.92844953645635, 16.792855623746664, 14.035668847618199, 13.490737563232042, 13.114877048604, 9.9498743710662, 10.392304845413264, 11.357816691600547, 9.16515138991168, 7.3484692283495345, 5.744562646538029, 6.855654600401044, 9.695359714832659, 14.628738838327793, 22.15851980616034, 15.937377450509228, 13.038404810405298, 14.832396974191326, 15.905973720586866, 15.0, 15.427248620541512, 13.152946437965905, 9.695359714832659, 7.280109889280518, 10.0, 7.681145747868608, 8.48528137423857, 7.745966692414834, 8.54400374531753, 7.874007874011811, 8.306623862918075, 9.797958971132712, 7.745966692414834, 6.855654600401044, 5.830951894845301, 5.830951894845301, 7.937253933193772, 11.135528725660043, 16.522711641858304, 11.704699910719626, 10.099504938362077, 12.0, 12.649110640673518, 13.076696830622021, 12.489995996796797, 14.628738838327793, 14.696938456699069, 16.703293088490067, 20.074859899884732, 16.431676725154983, 15.132745950421556, 15.132745950421556, 13.711309200802088, 11.489125293076057, 11.045361017187261, 12.206555615733702, 10.14889156509222, 9.0, 6.082762530298219, 7.14142842854285, 9.746794344808963, 15.620499351813308, 21.42428528562855, 16.09347693943108, 12.96148139681572, 13.92838827718412, 15.491933384829668, 15.264337522473747, 16.0, 17.11724276862369, 16.3707055437449, 18.466185312619388, 23.280893453645632, 18.547236990991408, 16.217274740226856, 16.0312195418814, 15.329709716755891, 11.958260743101398, 11.74734012447073, 12.609520212918492, 10.099504938362077, 8.06225774829855, 6.855654600401044, 6.928203230275509, 10.723805294763608, 16.34013463836819, 23.62202362203543, 16.73320053068151, 13.674794331177344, 15.297058540778355, 17.406895185529212, 17.146428199482248, 17.11724276862369, 17.60681686165901, 18.16590212458495, 19.544820285692065, 24.331050121192877, 19.467922333931785, 15.524174696260024, 15.0, 15.066519173319364, 13.341664064126334, 13.490737563232042, 13.564659966250536, 11.090536506409418, 7.745966692414834, 5.916079783099616, 5.5677643628300215, 5.744562646538029, 8.18535277187245, 10.770329614269007, 12.96148139681572, 12.0, 13.96424004376894, 13.856406460551018, 15.132745950421556, 14.0, 14.491376746189438, 14.317821063276353, 14.52583904633395, 13.228756555322953, 11.61895003862225, 10.44030650891055, 10.344080432788601, 9.591663046625438, 9.539392014169456, 9.899494936611665, 9.486832980505138, 7.745966692414834, 7.3484692283495345, 5.916079783099616, 4.58257569495584, 4.795831523312719, 5.830951894845301, 8.366600265340756, 9.848857801796104, 10.14889156509222, 10.723805294763608, 12.84523257866513, 12.328828005937952, 13.30413469565007, 13.784048752090222, 13.45362404707371, 13.564659966250536, 12.409673645990857, 11.135528725660043, 9.899494936611665, 10.344080432788601, 8.831760866327848, 8.774964387392123, 9.055385138137417, 7.211102550927978, 6.244997998398398, 5.744562646538029, 4.47213595499958, 6.082762530298219, 10.488088481701515, 15.066519173319364, 20.808652046684813, 14.696938456699069, 11.090536506409418, 12.489995996796797, 12.529964086141668, 13.0, 13.038404810405298, 13.0, 14.106735979665885, 15.0, 19.697715603592208, 15.684387141358123, 14.352700094407323, 13.30413469565007, 13.527749258468683, 10.723805294763608, 11.224972160321824, 9.327379053088816, 7.681145747868608, 6.0, 5.656854249492381, 6.324555320336759, 9.695359714832659, 14.594519519326424, 20.92844953645635, 14.730919862656235, 11.313708498984761, 13.228756555322953, 13.114877048604, 12.84523257866513, 12.12435565298214, 13.076696830622021, 13.228756555322953, 15.066519173319364, 19.79898987322333, 15.84297951775486, 13.892443989449804, 13.228756555322953, 13.0, 10.295630140987, 10.770329614269007, 9.797958971132712, 9.1104335791443, 7.14142842854285, 5.830951894845301, 6.708203932499369, 9.591663046625438, 14.628738838327793, 21.656407827707714, 15.394804318340652, 12.449899597988733, 13.2664991614216, 13.711309200802088, 15.0996688705415, 14.106735979665885, 14.866068747318506, 15.491933384829668, 17.88854381999832, 21.166010488516726, 16.73320053068151, 14.7648230602334, 14.933184523068078, 14.142135623730951, 12.806248474865697, 11.661903789690601, 11.224972160321824, 10.14889156509222, 7.54983443527075, 6.782329983125268, 6.244997998398398, 9.9498743710662, 15.968719422671311, 22.516660498395403, 16.431676725154983, 12.649110640673518, 14.730919862656235, 15.905973720586866, 16.431676725154983, 15.905973720586866, 16.911534525287763, 16.852299546352718, 18.35755975068582, 23.748684174075834, 19.44222209522358, 16.64331697709324, 16.3707055437449, 15.264337522473747, 13.96424004376894, 13.341664064126334, 12.609520212918492, 10.344080432788601, 8.831760866327848, 6.782329983125268, 6.0, 10.816653826391969, 16.522711641858304, 24.269322199023193, 17.549928774784245, 14.106735979665885, 15.427248620541512, 16.1245154965971, 16.3707055437449, 16.822603841260722, 17.74823934929885, 17.86057109949175, 20.54263858417414, 25.67099530598687, 20.174241001832016, 17.549928774784245, 15.588457268119896, 16.217274740226856, 13.892443989449804, 14.035668847618199, 15.394804318340652, 13.0, 12.041594578792296, 8.888194417315589, 6.4031242374328485, 6.928203230275509, 9.848857801796104, 13.711309200802088, 14.89966442575134, 14.933184523068078, 15.329709716755891, 15.748015748023622, 17.204650534085253, 16.911534525287763, 16.64331697709324, 17.05872210923198, 16.64331697709324, 14.696938456699069, 12.288205727444508, 11.489125293076057, 11.135528725660043, 11.313708498984761, 10.862780491200215, 10.583005244258363, 9.746794344808963, 9.643650760992955, 7.615773105863909, 5.830951894845301, 4.358898943540674, 6.244997998398398, 6.324555320336759, 9.0, 11.224972160321824, 11.40175425099138, 12.449899597988733, 13.19090595827292, 14.560219778561036, 13.820274961085254, 13.45362404707371, 13.228756555322953, 14.071247279470288, 12.24744871391589, 12.12435565298214, 11.269427669584644, 10.908712114635714, 10.14889156509222, 9.539392014169456, 10.14889156509222, 8.306623862918075, 6.708203932499369, 4.58257569495584, 5.744562646538029, 5.477225575051661, 10.44030650891055, 15.362291495737216, 22.737634001804146, 16.186414056238647, 12.68857754044952, 13.784048752090222, 14.212670403551895, 15.684387141358123, 13.490737563232042, 15.0996688705415, 15.459624833740307, 16.97056274847714, 21.79449471770337, 18.439088914585774, 15.620499351813308, 15.905973720586866, 14.142135623730951, 11.832159566199232, 12.569805089976535, 12.083045973594572, 10.295630140987, 8.366600265340756, 6.782329983125268, 7.14142842854285, 9.797958971132712, 17.146428199482248, 23.83275057562597, 16.881943016134134, 14.142135623730951, 15.874507866387544, 16.76305461424021, 16.0, 17.320508075688775, 17.175564037317667, 18.110770276274835, 20.248456731316587, 24.576411454889016, 20.149441679609886, 17.97220075561143, 17.029386365926403, 17.05872210923198, 14.52583904633395, 13.341664064126334, 14.594519519326424, 11.357816691600547, 10.04987562112089, 7.14142842854285, 7.483314773547883, 10.392304845413264, 17.08800749063506, 24.61706725018234, 18.05547008526779, 15.524174696260024, 16.97056274847714, 17.663521732655695, 18.681541692269406, 19.949937343260004, 21.470910553583888, 21.142374511865974, 22.0, 23.643180835073778, 17.776388834631177, 16.186414056238647, 14.696938456699069, 14.7648230602334, 12.649110640673518, 11.224972160321824, 11.090536506409418, 10.583005244258363, 8.602325267042627, 7.615773105863909, 5.656854249492381, 6.244997998398398, 7.416198487095663, 10.583005244258363, 10.583005244258363, 11.269427669584644, 13.038404810405298, 13.19090595827292, 15.491933384829668, 16.431676725154983, 16.61324772583615, 16.522711641858304, 15.362291495737216, 13.784048752090222, 12.884098726725126, 12.165525060596439, 11.575836902790225, 12.041594578792296, 9.591663046625438, 10.246950765959598, 8.774964387392123, 6.855654600401044, 6.0, 5.916079783099616, 5.291502622129181, 5.477225575051661, 7.0, 8.246211251235321, 6.928203230275509, 8.831760866327848, 9.643650760992955, 11.704699910719626, 13.0, 14.0, 15.588457268119896, 13.74772708486752, 14.491376746189438, 12.84523257866513, 11.224972160321824, 12.24744871391589, 10.677078252031311, 10.770329614269007, 9.16515138991168, 8.888194417315589, 8.426149773176359, 7.483314773547883, 5.830951894845301, 4.47213595499958, 3.7416573867739413, 6.244997998398398, 5.916079783099616, 8.94427190999916, 9.899494936611665, 10.14889156509222, 12.449899597988733, 13.527749258468683, 13.892443989449804, 16.06237840420901, 16.522711641858304, 16.34013463836819, 15.811388300841896, 14.933184523068078, 13.0, 12.041594578792296, 11.532562594670797, 11.090536506409418, 10.816653826391969, 9.9498743710662, 10.14889156509222, 9.273618495495704, 7.483314773547883, 6.082762530298219, 4.69041575982343, 6.164414002968976, 7.211102550927978, 9.591663046625438, 11.704699910719626, 12.489995996796797, 13.527749258468683, 16.217274740226856, 18.35755975068582, 19.28730152198591, 20.97617696340303, 20.09975124224178, 18.81488772222678, 17.60681686165901, 15.427248620541512, 14.594519519326424, 15.033296378372908, 13.820274961085254, 12.36931687685298, 12.165525060596439, 10.04987562112089, 7.681145747868608, 6.48074069840786, 7.0710678118654755, 7.681145747868608, 11.789826122551595, 18.681541692269406, 25.41653005427767, 18.627936010197157, 15.329709716755891, 17.72004514666935, 19.0, 18.2208671582886, 19.313207915827967, 19.79898987322333, 20.074859899884732, 22.847319317591726, 28.61817604250837, 23.08679276123039, 20.42057785666214, 19.697715603592208, 18.894443627691185, 14.7648230602334, 13.30413469565007, 13.114877048604, 10.723805294763608, 7.937253933193772, 8.0, 8.888194417315589, 12.806248474865697, 20.09975124224178, 26.962937525425527, 19.595917942265423, 16.278820596099706, 17.944358444926362, 18.867962264113206, 19.235384061671343, 18.303005217723125, 20.760539492026695, 19.82422760159901, 22.67156809750927, 27.640549922170507, 22.847319317591726, 18.920887928424502, 20.37154878746336, 17.86057109949175, 15.556349186104045, 13.076696830622021, 12.727922061357855, 10.246950765959598, 7.681145747868608, 7.0710678118654755, 7.937253933193772, 12.609520212918492, 19.621416870348583, 26.795522013948524, 19.313207915827967, 15.620499351813308, 16.61324772583615, 18.734993995195193, 17.291616465790582, 19.1049731745428, 19.131126469708992, 20.223748416156685, 21.656407827707714, 28.0, 21.447610589527216, 18.867962264113206, 18.57417562100671, 17.291616465790582, 14.933184523068078, 13.96424004376894, 13.784048752090222, 10.770329614269007, 8.426149773176359, 8.12403840463596, 8.660254037844387, 12.288205727444508, 19.313207915827967, 27.982137159266443, 19.570385790780925, 16.09347693943108, 17.549928774784245, 18.76166303929372, 17.776388834631177, 18.193405398660254, 18.867962264113206, 20.09975124224178, 21.563858652847824, 27.018512172212592, 22.338307903688676, 18.65475810617763, 19.82422760159901, 18.601075237738275, 14.212670403551895, 6.48074069840786, 7.416198487095663, 7.874007874011811, 5.656854249492381, 6.0, 6.244997998398398, 7.937253933193772, 13.19090595827292, 19.77371993328519, 14.628738838327793, 13.564659966250536, 15.165750888103101, 16.822603841260722, 17.435595774162696, 17.663521732655695, 17.663521732655695, 18.81488772222678, 21.6794833886788, 25.865034312755125, 20.518284528683193, 17.175564037317667, 17.916472867168917, 17.05872210923198, 15.588457268119896, 15.033296378372908, 16.217274740226856, 14.035668847618199, 11.532562594670797, 7.937253933193772, 7.615773105863909, 8.48528137423857, 10.392304845413264, 14.247806848775006, 15.905973720586866, 16.09347693943108, 17.26267650163207, 19.05255888325765, 20.29778313018444, 21.307275752662516, 21.61018278497431, 22.561028345356956, 21.494185260204677, 19.467922333931785, 17.4928556845359, 15.264337522473747, 15.231546211727817, 14.798648586948742, 13.674794331177344, 13.490737563232042, 13.74772708486752, 11.135528725660043, 10.14889156509222, 7.211102550927978, 6.082762530298219, 7.3484692283495345, 8.774964387392123, 12.569805089976535, 13.152946437965905, 13.96424004376894, 15.620499351813308, 19.8997487421324, 21.95449840010015, 23.916521486202797, 24.73863375370596, 26.229754097208, 24.269322199023193, 20.049937655763422, 17.233687939614086, 15.231546211727817, 15.459624833740307, 15.165750888103101, 13.152946437965905, 11.61895003862225, 11.045361017187261, 8.94427190999916, 6.782329983125268, 6.782329983125268, 8.06225774829855, 12.68857754044952, 20.049937655763422, 28.035691537752374, 20.396078054371138, 17.0, 18.867962264113206, 20.688160865577203, 21.071307505705477, 21.330729007701542, 22.825424421026653, 23.558437978779494, 25.41653005427767, 30.479501308256342, 24.879710609249457, 21.97726097583591, 22.627416997969522, 21.047565179849187, 17.549928774784245, 15.362291495737216, 14.594519519326424, 12.041594578792296, 10.099504938362077, 7.874007874011811, 8.48528137423857, 13.527749258468683, 21.047565179849187, 27.694764848252458, 21.330729007701542, 16.15549442140351, 18.49324200890693, 18.788294228055936, 18.303005217723125, 18.894443627691185, 20.049937655763422, 20.273134932713294, 23.0, 29.949958263743873, 24.819347291981714, 21.470910553583888, 21.18962010041709, 21.470910553583888, 17.60681686165901, 16.30950643030009, 15.132745950421556, 13.19090595827292, 10.770329614269007, 8.48528137423857, 7.874007874011811, 12.84523257866513, 20.639767440550294, 28.5657137141714, 20.46948949045872, 16.881943016134134, 18.2208671582886, 17.46424919657298, 5.291502622129181, 4.123105625617661, 2.6457513110645907, 3.0, 2.8284271247461903, 3.3166247903554, 4.358898943540674, 2.8284271247461903, 3.1622776601683795, 3.605551275463989, 4.795831523312719, 8.426149773176359, 12.12435565298214, 13.416407864998739, 9.591663046625438, 5.291502622129181, 3.3166247903554, 5.744562646538029, 7.810249675906654, 12.165525060596439, 12.649110640673518, 13.820274961085254, 15.459624833740307, 17.635192088548397, 18.920887928424502, 19.364916731037084, 21.400934559032695, 21.447610589527216, 20.566963801203133, 17.804493814764857, 15.198684153570664, 15.684387141358123, 14.560219778561036, 13.784048752090222, 13.784048752090222, 12.489995996796797, 10.392304845413264, 8.426149773176359, 7.0, 6.855654600401044, 8.06225774829855, 11.61895003862225, 20.024984394500787, 24.839484696748443, 18.520259177452136, 16.55294535724685, 18.520259177452136, 19.697715603592208, 19.364916731037084, 21.213203435596427, 21.517434791350013, 23.958297101421877, 25.11971337416094, 29.223278392404914, 23.83275057562597, 20.663978319771825, 19.8997487421324, 20.346989949375804, 16.852299546352718, 14.7648230602334, 15.132745950421556, 13.2664991614216, 12.206555615733702, 9.643650760992955, 7.416198487095663, 8.426149773176359, 12.609520212918492, 17.4928556845359, 18.138357147217054, 18.81488772222678, 20.760539492026695, 24.596747752497688, 27.76688675382964, 32.01562118716424, 35.185224171518364, 35.84689665786984, 34.597687784012386, 30.331501776206203, 25.099800796022265, 25.11971337416094, 24.24871130596428, 22.715633383201094, 14.66287829861518, 12.68857754044952, 10.862780491200215, 9.746794344808963, 9.486832980505138, 5.830951894845301, 3.872983346207417, 4.47213595499958, 4.795831523312719, 8.366600265340756, 12.529964086141668, 15.459624833740307, 16.522711641858304, 18.920887928424502, 20.71231517720798, 21.79449471770337, 21.633307652783937, 19.8997487421324, 22.181073012818835, 20.8806130178211, 17.0, 5.0990195135927845, 2.6457513110645907, 2.8284271247461903, 3.0, 4.69041575982343, 4.795831523312719, 3.0, 1.4142135623730951, 2.0, 4.69041575982343, 4.47213595499958, 9.219544457292887, 13.564659966250536, 14.52583904633395, 15.231546211727817, 17.944358444926362, 20.92844953645635, 21.563858652847824, 23.45207879911715, 25.238858928247925, 26.795522013948524, 29.410882339705484, 33.98529093593286, 27.964262908219126, 24.041630560342615, 23.08679276123039, 21.587033144922902, 16.55294535724685, 14.966629547095765, 13.711309200802088, 11.045361017187261, 9.055385138137417, 8.888194417315589, 8.94427190999916, 14.628738838327793, 24.145392935299274, 31.575306807693888, 23.57965224510319, 19.493588689617926, 21.79449471770337, 22.44994432064365, 22.978250586152114, 23.811761799581316, 24.819347291981714, 26.076809620810597, 29.715315916207253, 35.298725189445584, 28.861739379323623, 25.80697580112788, 25.0, 22.67156809750927, 19.0, 17.0, 13.92838827718412, 11.575836902790225, 9.591663046625438, 7.0, 9.848857801796104, 15.231546211727817, 24.454038521274967, 32.12475680841802, 23.790754506740637, 20.248456731316587, 21.0, 23.45207879911715, 22.561028345356956, 22.47220505424423, 24.899799195977465, 25.41653005427767, 29.13760456866693, 36.945906403822335, 28.26658805020514, 24.228082879171435, 20.273134932713294, 12.12435565298214, 6.928203230275509, 7.0, 4.795831523312719, 4.358898943540674, 3.4641016151377544, 2.8284271247461903, 4.123105625617661, 5.656854249492381, 8.0, 9.38083151964686, 10.0, 12.84523257866513, 17.029386365926403, 19.364916731037084, 20.12461179749811, 21.2602916254693, 23.558437978779494, 24.372115213907882, 27.51363298439521, 33.03028912982749, 26.13426869074396, 24.20743687382041, 23.08679276123039, 22.315913604421397, 17.74823934929885, 16.492422502470642, 15.0996688705415, 12.449899597988733, 10.246950765959598, 8.12403840463596, 9.38083151964686, 13.96424004376894, 23.958297101421877, 32.264531609803356, 23.874672772626646, 19.0, 21.071307505705477, 22.58317958127243, 22.561028345356956, 23.280893453645632, 24.71841418861655, 26.19160170741759, 28.879058156387302, 35.08560958569767, 26.795522013948524, 23.130067012440755, 23.173260452512935, 22.825424421026653, 17.578395831246947, 18.110770276274835, 17.46424919657298, 15.524174696260024, 11.789826122551595, 9.539392014169456, 8.888194417315589, 8.602325267042627, 14.422205101855956, 18.439088914585774, 19.519221295943137, 20.396078054371138, 22.293496809607955, 25.495097567963924, 27.51363298439521, 30.099833886584822, 30.512292604784715, 31.176914536239792, 28.792360097775937, 25.768197453450252, 23.93741840717165, 21.142374511865974, 21.6794833886788, 20.518284528683193, 18.57417562100671, 19.390719429665317, 14.89966442575134, 13.076696830622021, 10.723805294763608, 8.94427190999916, 6.708203932499369, 7.937253933193772, 10.908712114635714, 14.560219778561036, 17.0, 19.849433241279208, 20.615528128088304, 25.80697580112788, 29.03446228191595, 33.97057550292606, 35.9722114972099, 34.713109915419565, 32.0624390837628, 27.85677655436824, 24.413111231467404, 23.021728866442675, 23.08679276123039, 20.46948949045872, 16.97056274847714, 14.89966442575134, 12.767145334803704, 9.746794344808963, 7.745966692414834, 6.855654600401044, 10.295630140987, 16.15549442140351, 25.729360660537214, 32.64965543462902, 24.576411454889016, 20.149441679609886, 21.517434791350013, 24.1039415863879, 24.24871130596428, 24.55605831561735, 26.343879744638983, 27.422618401604176, 30.512292604784715, 37.749172176353746, 30.757112998459398, 28.30194339616981, 27.76688675382964, 26.362852652928137, 19.924858845171276, 17.578395831246947, 15.198684153570664, 12.68857754044952, 10.14889156509222, 9.38083151964686, 9.848857801796104, 15.874507866387544, 25.84569596664017, 34.85685011586675, 24.819347291981714, 20.688160865577203, 23.895606290697042, 25.019992006393608, 26.038433132583073, 26.551836094703507, 28.548204847240395, 29.832867780352597, 32.93933818400121, 41.82104733265297, 34.9857113690718, 31.400636936215164, 31.336879231984796, 30.199337741083, 23.916521486202797, 20.29778313018444, 17.578395831246947, 15.033296378372908, 11.916375287812984, 9.055385138137417, 11.090536506409418, 17.029386365926403, 28.035691537752374, 37.027017163147235, 27.586228448267445, 23.49468024894146, 25.357444666211933, 28.513154858766505, 28.089143810376278, 29.631064780058107, 32.01562118716424, 32.38826948140329, 36.40054944640259, 45.8257569495584, 38.44476557348217, 35.70714214271425, 34.36568055487916, 31.352830813181765, 24.228082879171435, 21.587033144922902, 18.841443681416774, 14.247806848775006, 7.14142842854285, 3.0, 2.8284271247461903, 3.1622776601683795, 3.872983346207417, 6.244997998398398, 5.656854249492381, 5.196152422706632, 8.06225774829855, 14.2828568570857, 16.401219466856727, 17.0, 18.138357147217054, 14.628738838327793, 20.273134932713294, 26.0, 24.61706725018234, 23.08679276123039, 23.811761799581316, 22.494443758403985, 18.520259177452136, 16.941074346097416, 16.673332000533065, 13.341664064126334, 10.099504938362077, 9.219544457292887, 9.219544457292887, 14.89966442575134, 25.534290669607408, 34.292856398964496, 26.13426869074396, 22.516660498395403, 23.600847442411894, 26.551836094703507, 26.739483914241877, 27.784887978899608, 30.380915061926625, 31.240998703626616, 34.058772731852805, 40.50925820105819, 31.20897306865447, 27.820855486487112, 26.645825188948457, 25.69046515733026, 21.330729007701542, 20.346989949375804, 19.131126469708992, 16.3707055437449, 12.529964086141668, 10.14889156509222, 7.745966692414834, 10.44030650891055, 13.892443989449804, 19.595917942265423, 22.80350850198276, 23.68543856465402, 27.23967694375247, 30.54504869860253, 33.331666624997915, 35.9722114972099, 38.91015291668744, 37.94733192202055, 35.66510900025401, 30.56141357987225, 26.795522013948524, 26.229754097208, 24.979991993593593, 23.706539182259394, 20.54263858417414, 20.174241001832016, 17.578395831246947, 15.033296378372908, 13.19090595827292, 10.295630140987, 8.18535277187245, 8.54400374531753, 12.328828005937952, 17.11724276862369, 19.949937343260004, 21.447610589527216, 24.228082879171435, 27.40437921208944, 29.68164415931166, 31.51190251317746, 33.58571124749333, 32.54228019054596, 24.55605831561735, 19.1049731745428, 15.394804318340652, 12.083045973594572, 8.426149773176359, 8.366600265340756, 7.280109889280518, 8.18535277187245, 6.164414002968976, 5.291502622129181, 3.4641016151377544, 3.0, 5.196152422706632, 9.539392014169456, 19.235384061671343, 24.331050121192877, 19.672315572906, 17.08800749063506, 19.82422760159901, 20.074859899884732, 19.672315572906, 18.05547008526779, 16.217274740226856, 16.46207763315433, 24.596747752497688, 34.64101615137755, 28.600699292150182, 26.664583251946766, 27.03701166919155, 23.769728648009426, 19.544820285692065, 17.233687939614086, 15.588457268119896, 12.84523257866513, 9.746794344808963, 8.306623862918075, 9.591663046625438, 15.329709716755891, 26.019223662515376, 34.813790371058424, 25.709920264364882, 20.445048300260872, 22.090722034374522, 22.847319317591726, 22.715633383201094, 21.863211109075447, 22.181073012818835, 22.759613353482084, 26.814175355583846, 33.331666624997915, 26.758176320519304, 23.302360395462088, 22.22611077089287, 21.447610589527216, 17.146428199482248, 15.491933384829668, 14.933184523068078, 12.12435565298214, 9.055385138137417, 8.366600265340756, 8.94427190999916, 14.45683229480096, 24.596747752497688, 33.12099032335839, 24.779023386727733, 19.339079605813716, 18.411952639521967, 18.24828759089466, 14.0, 10.816653826391969, 13.564659966250536, 15.524174696260024, 17.86057109949175, 24.79919353527449, 20.049937655763422, 10.954451150103322, 15.198684153570664, 17.88854381999832, 15.033296378372908, 15.588457268119896, 15.716233645501712, 13.152946437965905, 10.344080432788601, 8.660254037844387, 9.0, 14.560219778561036, 24.49489742783178, 34.26368339802363, 25.553864678361276, 21.118712081942874, 23.769728648009426, 25.84569596664017, 25.45584412271571, 25.96150997149434, 27.53179979587241, 27.422618401604176, 31.606961258558215, 38.66522985836241, 30.380915061926625, 27.184554438136374, 26.94438717061496, 24.919871588754223, 20.688160865577203, 18.303005217723125, 16.822603841260722, 14.696938456699069, 11.313708498984761, 9.591663046625438, 9.746794344808963, 15.588457268119896, 25.709920264364882, 34.87119154832539, 25.768197453450252, 21.470910553583888, 24.166091947189145, 26.267851073127396, 26.115129714401192, 27.53179979587241, 29.13760456866693, 30.01666203960727, 33.28663395418648, 40.13726448077895, 30.528675044947494, 26.90724809414742, 26.0, 25.25866188063018, 20.54263858417414, 20.074859899884732, 18.973665961010276, 17.46424919657298, 14.035668847618199, 11.045361017187261, 9.055385138137417, 10.63014581273465, 14.071247279470288, 20.591260281974, 21.354156504062622, 22.22611077089287, 24.269322199023193, 28.39013913315678, 29.664793948382652, 29.24038303442689, 32.01562118716424, 30.773365106858236, 30.265491900843113, 27.129319932501073, 22.825424421026653, 22.64950330581225, 22.06807649071391, 21.447610589527216, 18.81488772222678, 19.28730152198591, 16.34013463836819, 13.96424004376894, 11.789826122551595, 9.486832980505138, 7.745966692414834, 8.426149773176359, 11.704699910719626, 15.0, 18.193405398660254, 18.947295321496416, 21.587033144922902, 25.019992006393608, 28.0, 29.698484809834994, 30.983866769659336, 32.109188716004645, 30.18277654557314, 27.712812921102035, 23.895606290697042, 22.40535650240808, 21.354156504062622, 20.591260281974, 18.33030277982336, 15.620499351813308, 13.601470508735444, 9.643650760992955, 7.874007874011811, 8.06225774829855, 9.899494936611665, 15.066519173319364, 24.1039415863879, 31.352830813181765, 23.2379000772445, 20.37154878746336, 20.54263858417414, 22.181073012818835, 22.44994432064365, 23.979157616563597, 24.576411454889016, 28.61817604250837, 30.4138126514911, 38.43175770115127, 32.109188716004645, 28.89636655359978, 28.24889378365107, 25.729360660537214, 21.142374511865974, 19.493588689617926, 16.673332000533065, 12.767145334803704, 11.269427669584644, 9.746794344808963, 10.488088481701515, 15.198684153570664, 26.551836094703507, 34.655446902326915, 26.43860813280457, 21.494185260204677, 23.664319132398465, 24.20743687382041, 23.727621035409346, 24.859605789312106, 25.219040425836983, 27.820855486487112, 30.983866769659336, 39.0, 31.937438845342623, 29.393876913398138, 29.427877939124322, 27.640549922170507, 22.956480566497994, 20.0, 18.35755975068582, 15.0, 12.24744871391589, 10.198039027185569, 10.344080432788601, 16.06237840420901, 27.2213151776324, 36.78314831549904, 26.888659319497503, 22.22611077089287, 24.24871130596428, 25.079872407968907, 26.888659319497503, 26.419689627245813, 28.0178514522438, 30.708305065568176, 34.942810419312295, 42.883563284783136, 35.888716889852724, 33.66006535941367, 32.17141588429082, 30.116440692751194, 24.779023386727733, 21.587033144922902, 19.748417658131498, 15.937377450509228, 13.038404810405298, 10.44030650891055, 10.295630140987, 16.55294535724685, 27.94637722496424, 35.79106033634656, 27.51363298439521, 21.95449840010015, 24.145392935299274, 26.720778431774775, 26.758176320519304, 26.664583251946766, 27.94637722496424, 30.93541659651604, 34.55430508634199, 42.14261501141095, 35.4964786985977, 32.848135411313685, 32.341923257592455, 30.805843601498726, 24.779023386727733, 22.135943621178654, 20.024984394500787, 16.15549442140351, 13.564659966250536, 10.723805294763608, 10.816653826391969, 16.852299546352718, 27.331300737432898, 37.49666651850535, 27.784887978899608, 24.145392935299274, 27.184554438136374, 30.643106892089126, 29.32575659723036, 31.064449134018133, 32.68026927673638, 34.0, 38.2099463490856, 43.98863489584554, 35.608987629529715, 32.32645975048923, 30.789608636681304, 29.664793948382652, 26.038433132583073, 23.173260452512935, 22.40535650240808, 19.924858845171276, 16.24807680927192, 12.767145334803704, 10.392304845413264, 11.916375287812984, 16.24807680927192, 22.11334438749598, 25.337718918639855, 24.859605789312106, 28.705400188814647, 32.7414110874898, 34.899856733230294, 37.16180835212409, 39.26830783214372, 39.72404813208241, 39.1279950930277, 37.296112397943034, 32.01562118716424, 31.176914536239792, 31.78049716414141, 30.364452901377952, 25.592967784139454, 24.06241883103193, 21.283796653792763, 17.944358444926362, 14.866068747318506, 12.12435565298214, 9.797958971132712, 10.488088481701515, 13.0, 18.49324200890693, 22.02271554554524, 23.790754506740637, 27.147743920996454, 30.430248109405877, 34.0, 34.655446902326915, 36.72873534441391, 37.53664875824692, 36.90528417449187, 36.0, 32.64965543462902, 31.368774282716245, 31.352830813181765, 29.0, 24.24871130596428, 21.633307652783937, 17.175564037317667, 12.449899597988733, 10.535653752852738, 9.273618495495704, 11.180339887498949, 18.947295321496416, 30.298514815086232, 38.3275357934736, 28.39013913315678, 24.06241883103193, 25.729360660537214, 28.600699292150182, 28.600699292150182, 30.331501776206203, 31.51190251317746, 34.899856733230294, 39.61060464067672, 49.0, 42.17819341792628, 38.948684188300895, 38.768543949960254, 34.828149534535996, 28.337254630609507, 23.065125189341593, 20.73644135332772, 16.583123951777, 12.489995996796797, 11.135528725660043, 12.767145334803704, 19.697715603592208, 32.14031735997639, 40.95119045888654, 29.444863728670914, 25.768197453450252, 26.38181191654584, 30.215889859476256, 29.49576240750525, 30.512292604784715, 31.0, 34.249087579087416, 37.89459064299283, 46.195237849804386, 37.61648574760805, 38.34057902536163, 34.97141690009142, 32.09361307176243, 21.307275752662516, 18.841443681416774, 10.63014581273465, 3.872983346207417, 4.69041575982343, 3.7416573867739413, 4.358898943540674, 13.114877048604, 25.787593916455254, 35.832945734337834, 19.44222209522358, 22.47220505424423, 27.27636339397171, 30.463092423455635, 30.83828789021855, 33.1058907144937, 34.77067730142742, 37.589892258425, 41.773197148410844, 49.01020301937138, 40.32369030731191, 37.067505985701274, 35.4400902933387, 32.264531609803356, 25.84569596664017, 20.8806130178211, 19.313207915827967, 14.832396974191326, 12.24744871391589, 9.327379053088816, 4.242640687119285, 4.58257569495584, 6.164414002968976, 14.38749456993816, 11.357816691600547, 9.746794344808963, 6.855654600401044, 8.366600265340756, 9.16515138991168, 6.782329983125268, 6.082762530298219, 5.5677643628300215, 6.782329983125268, 8.660254037844387, 8.660254037844387, 7.483314773547883, 9.9498743710662, 8.774964387392123, 8.888194417315589, 7.483314773547883, 7.0710678118654755, 5.196152422706632, 4.242640687119285, 3.0, 7.3484692283495345, 13.341664064126334, 24.310491562286437, 35.14256678161116, 26.814175355583846, 23.0, 24.454038521274967, 27.49545416973504, 26.13426869074396, 23.916521486202797, 23.345235059857504, 24.186773244895647, 27.85677655436824, 33.37663853655727, 25.67099530598687, 22.538855339169288, 21.142374511865974, 22.338307903688676, 17.663521732655695, 16.792855623746664, 15.0, 11.090536506409418, 11.045361017187261, 8.94427190999916, 7.54983443527075, 10.392304845413264, 14.352700094407323, 19.974984355438178, 20.639767440550294, 21.283796653792763, 23.515952032609693, 26.40075756488817, 29.189039038652847, 30.315012782448235, 30.4138126514911, 29.949958263743873, 30.133038346638727, 26.720778431774775, 22.759613353482084, 21.400934559032695, 21.047565179849187, 20.639767440550294, 19.183326093250876, 18.027756377319946, 14.966629547095765, 13.820274961085254, 11.874342087037917, 9.486832980505138, 7.681145747868608, 10.04987562112089, 12.609520212918492, 18.2208671582886, 20.12461179749811, 22.22611077089287, 24.20743687382041, 26.627053911388696, 29.103264421710495, 27.874719729532707, 18.520259177452136, 11.704699910719626, 7.615773105863909, 4.69041575982343, 6.6332495807108, 9.643650760992955, 13.038404810405298, 13.30413469565007, 13.490737563232042, 14.035668847618199, 11.832159566199232, 9.848857801796104, 7.211102550927978, 6.557438524302, 9.539392014169456, 15.459624833740307, 25.514701644346147, 34.10278580995987, 26.115129714401192, 22.494443758403985, 25.37715508089904, 28.26658805020514, 29.478805945967352, 30.347981810987037, 32.218007387174026, 34.42382895611701, 38.45776904605882, 49.0, 39.98749804626441, 36.90528417449187, 35.09985754956849, 32.69556544854363, 24.95996794869737, 22.02271554554524, 19.390719429665317, 15.811388300841896, 12.206555615733702, 10.099504938362077, 11.090536506409418, 19.235384061671343, 31.32091952673165, 41.255302689472536, 31.336879231984796, 26.514147167125703, 28.965496715920477, 31.984371183438952, 31.096623610932426, 30.215889859476256, 30.54504869860253, 32.863353450309965, 31.68595903550972, 42.485291572496, 33.95585369269929, 18.33030277982336, 11.532562594670797, 8.660254037844387, 14.560219778561036, 0.0, 0.0, 0.0, 0.0, 0.0, 0.0, 0.0, 0.0, 0.0, 0.0, 0.0, 0.0, 0.0, 0.0, 0.0, 0.0, 0.0, 0.0, 0.0, 0.0, 0.0, 0.0, 0.0, 0.0, 22.44994432064365, 19.339079605813716, 16.401219466856727, 13.490737563232042, 9.899494936611665, 12.0, 19.364916731037084, 32.46536616149585, 42.2965719651132, 30.854497241083024, 26.19160170741759, 28.792360097775937, 31.12876483254676, 32.07802986469088, 31.464265445104548, 32.77193921634788, 35.679125549822544, 40.792156108742276, 48.569537778323564, 40.50925820105819, 36.318039594669756, 35.22782990761707, 33.793490497431605, 27.784887978899608, 22.9128784747792, 20.784609690826528, 16.0312195418814, 12.922847983320086, 10.583005244258363, 12.489995996796797, 19.183326093250876, 31.606961258558215, 41.48493702538308, 31.336879231984796, 27.2213151776324, 29.444863728670914, 33.090784215548595, 31.192947920964443, 32.60368077380221, 33.28663395418648, 35.63705936241092, 40.76763422127902, 49.03060268852505, 40.50925820105819, 36.864617182333525, 36.207733980463345, 34.322004603461025, 29.13760456866693, 25.768197453450252, 22.64950330581225, 15.905973720586866, 7.874007874011811, 6.244997998398398, 4.47213595499958, 3.4641016151377544, 4.242640687119285, 4.123105625617661, 4.123105625617661, 6.557438524302, 7.211102550927978, 8.660254037844387, 8.366600265340756, 11.045361017187261, 14.247806848775006, 21.095023109728988, 25.98076211353316, 26.570660511172846, 24.73863375370596, 25.298221281347036, 25.15949125081825, 24.20743687382041, 22.427661492005804, 21.79449471770337, 18.681541692269406, 15.937377450509228, 13.527749258468683, 10.488088481701515, 8.06225774829855, 10.099504938362077, 14.933184523068078, 20.024984394500787, 22.64950330581225, 24.124676163629637, 28.231188426986208, 33.24154027718932, 35.05709628591621, 32.90896534380867, 7.874007874011811, 11.135528725660043, 6.48074069840786, 18.520259177452136, 17.804493814764857, 17.233687939614086, 21.540659228538015, 24.899799195977465, 21.61018278497431, 20.024984394500787, 15.033296378372908, 11.224972160321824, 10.344080432788601, 8.660254037844387, 11.489125293076057, 20.12461179749811, 32.38826948140329, 41.38840417314975, 30.364452901377952, 26.457513110645905, 29.24038303442689, 32.43454948045371, 31.192947920964443, 31.874754901018456, 33.83784863137726, 38.1051177665153, 41.86884283091664, 51.884487084291386, 41.46082488325576, 38.704004960727254, 36.810324638611924, 33.15116890850155, 27.073972741361768, 22.427661492005804, 20.518284528683193, 15.394804318340652, 12.806248474865697, 10.488088481701515, 11.958260743101398, 20.149441679609886, 33.166247903554, 43.81780460041329, 31.827660925679098, 27.03701166919155, 28.6705423736629, 33.34666400106613, 31.73326330524486, 32.202484376209235, 33.46640106136302, 36.22154055254967, 40.39801975344831, 41.557189510360296, 36.823905279043935, 35.91656999213594, 36.3318042491699, 32.72613634390714, 26.076809620810597, 22.693611435820433, 19.364916731037084, 16.1245154965971, 12.806248474865697, 10.246950765959598, 12.409673645990857, 19.87460691435179, 32.90896534380867, 42.60281680828159, 31.416556144810016, 27.586228448267445, 29.068883707497267, 32.357379374726875, 31.22498999199199, 31.096623610932426, 33.896902513356586, 36.68787265568828, 41.689327171351664, 43.79497688091638, 29.017236257093817, 36.68787265568828, 34.77067730142742, 31.670175244226233, 25.903667693977237, 22.80350850198276, 6.48074069840786, 16.76305461424021, 14.352700094407323, 11.180339887498949, 12.36931687685298, 19.157244060668017, 15.937377450509228, 4.47213595499958, 17.776388834631177, 11.789826122551595, 28.19574435974337, 30.315012782448235, 30.495901363953813, 31.559467676119, 32.2335229225724, 34.61213659975356, 39.16631205513228, 46.88283267892417, 38.58756276314948, 36.235341863986875, 34.132096331752024, 32.46536616149585, 26.019223662515376, 23.515952032609693, 20.8806130178211, 17.46424919657298, 13.711309200802088, 11.575836902790225, 12.96148139681572, 20.346989949375804, 31.28897569432403, 40.7308237088326, 31.016124838541646, 26.60826939130014, 28.372521918222215, 31.921779399024736, 31.192947920964443, 31.144823004794873, 32.863353450309965, 34.72751070837067, 39.28103868280471, 47.62352359916263, 39.72404813208241, 36.851051545376556, 34.828149534535996, 34.39476704383968, 29.8496231131986, 26.589471600616662, 25.059928172283335, 20.8806130178211, 17.52141546793523, 12.884098726725126, 11.045361017187261, 13.564659966250536, 18.0, 24.49489742783178, 25.436194683953808, 26.49528259898354, 29.5296461204668, 33.61547262794322, 36.26292872893749, 38.87158345115362, 41.593268686170845, 44.06812907306141, 45.077710678338576, 44.56455991031439, 41.36423575989287, 39.761790704142086, 38.61346915261564, 35.94440151122286, 31.432467291003423, 28.74021572639983, 24.041630560342615, 20.248456731316587, 17.0, 13.856406460551018, 11.661903789690601, 12.449899597988733, 16.673332000533065, 20.71231517720798, 15.716233645501712, 22.045407685048602, 20.591260281974, 25.11971337416094, 29.017236257093817, 19.595917942265423, 15.297058540778355, 10.14889156509222, 6.782329983125268, 7.937253933193772, 5.656854249492381, 3.4641016151377544, 4.898979485566356, 3.605551275463989, 4.242640687119285, 9.0, 6.4031242374328485, 4.58257569495584, 2.8284271247461903, 1.4142135623730951, 2.449489742783178, 2.23606797749979, 4.123105625617661, 5.0, 3.0, 3.4641016151377544, 3.1622776601683795, 3.1622776601683795, 3.3166247903554, 4.123105625617661, 3.7416573867739413, 6.4031242374328485, 6.48074069840786, 6.244997998398398, 7.0710678118654755, 6.082762530298219, 9.055385138137417, 12.806248474865697, 15.264337522473747, 14.594519519326424, 12.529964086141668, 8.246211251235321, 5.916079783099616, 5.830951894845301, 8.774964387392123, 16.186414056238647, 27.40437921208944, 38.7556447501522, 28.53068523537421, 25.25866188063018, 26.645825188948457, 30.4138126514911, 30.380915061926625, 30.692018506445613, 31.160872901765767, 33.436506994600975, 38.23610858861032, 48.14561246884289, 39.74921382870358, 36.49657518178932, 37.04051835490427, 34.85685011586675, 26.92582403567252, 23.15167380558045, 21.071307505705477, 17.4928556845359, 14.352700094407323, 10.816653826391969, 12.165525060596439, 21.18962010041709, 33.51119216023208, 43.58898943540674, 32.64965543462902, 27.49545416973504, 30.62678566222711, 34.52535300326414, 33.77869150810907, 34.07345007480164, 34.351128074635334, 38.03945320322047, 43.3358973600409, 52.98112871579842, 44.24929377967517, 40.63249930782009, 39.91240408695021, 37.17526059088221, 30.099833886584822, 26.30589287593181, 23.366642891095847, 20.223748416156685, 15.459624833740307, 11.832159566199232, 13.416407864998739, 21.2602916254693, 33.52610922848042, 43.965895873961216, 32.046840717924134, 27.294688127912362, 30.495901363953813, 34.597687784012386, 32.92415526630866, 33.51119216023208, 35.02855977627399, 37.22902093797257, 42.37924020083418, 50.73460357586329, 43.485629810317796, 39.1279950930277, 38.03945320322047, 33.85262175962151, 29.171904291629644, 25.748786379167466, 23.706539182259394, 19.0, 16.06237840420901, 11.832159566199232, 13.038404810405298, 20.663978319771825, 33.60059523282288, 43.840620433565945, 31.38470965295043, 28.089143810376278, 31.400636936215164, 33.793490497431605, 33.66006535941367, 33.391615714128, 35.397740040855716, 38.02630668366309, 43.32435804486894, 50.76416058598822, 42.567593307585526, 38.71692136521188, 36.90528417449187, 35.749125863438955, 31.22498999199199, 27.874719729532707, 25.92296279363144, 22.847319317591726, 18.027756377319946, 12.884098726725126, 12.328828005937952, 15.165750888103101, 19.390719429665317, 25.436194683953808, 28.19574435974337, 28.42534080710379, 31.622776601683793, 35.749125863438955, 37.469987990390386, 39.96248240537617, 43.30127018922193, 44.10215414239989, 45.19955751995809, 43.382023926967726, 39.87480407475377, 37.881393849751625, 36.75595189897821, 34.132096331752024, 30.083217912982647, 28.106938645110393, 23.53720459187964, 20.615528128088304, 16.217274740226856, 13.527749258468683, 11.74734012447073, 13.527749258468683, 17.52141546793523, 22.02271554554524, 26.758176320519304, 28.053520278211074, 32.55764119219941, 37.080992435478315, 40.43513323831146, 42.59107887809371, 44.93328387732194, 45.21061822182926, 45.760244754590204, 44.15880433163923, 41.376321731154405, 38.535697735995385, 37.17526059088221, 33.58571124749333, 28.635642126552707, 23.853720883753127, 19.026297590440446, 15.684387141358123, 12.529964086141668, 11.489125293076057, 13.601470508735444, 19.924858845171276, 32.78719262151, 42.320207938997655, 31.352830813181765, 27.23967694375247, 30.01666203960727, 33.075670817082454, 31.921779399024736, 32.48076353782343, 34.17601498127012, 36.66060555964672, 41.30375285612676, 50.57667446560717, 45.43126676640219, 41.2674205639267, 41.36423575989287, 38.157568056677825, 32.31098884280702, 27.964262908219126, 26.551836094703507, 23.108440016582687, 18.520259177452136, 13.674794331177344, 12.884098726725126, 17.4928556845359, 24.779023386727733, 32.66496594212215, 32.0, 31.654383582688826, 33.421549934136806, 36.26292872893749, 38.63935817272331, 39.191835884530846, 40.48456495999432, 41.94043395102154, 43.56604182158393, 45.628938186199335, 41.182520563948, 40.69397989875161, 40.54626986542659, 37.416573867739416, 29.24038303442689, 24.73863375370596, 20.322401432901575, 15.652475842498529, 13.038404810405298, 9.643650760992955, 8.717797887081348, 8.18535277187245, 10.099504938362077, 23.558437978779494, 24.677925358506133, 22.045407685048602, 14.352700094407323, 7.937253933193772, 18.083141320025124, 19.390719429665317, 11.958260743101398, 20.0, 28.513154858766505, 22.759613353482084, 11.445523142259598, 11.090536506409418, 18.083141320025124, 17.291616465790582, 17.146428199482248, 19.0, 17.97220075561143, 15.84297951775486, 12.489995996796797, 10.44030650891055, 12.767145334803704, 21.656407827707714, 34.058772731852805, 44.11349000022555, 32.57299494980466, 27.60434748368452, 28.178005607210743, 29.512709126747414, 22.715633383201094, 19.157244060668017, 24.289915602982237, 30.18277654557314, 37.69615364994153, 48.062459362791664, 40.779897008207364, 37.429934544425805, 37.255872020394314, 34.66987164671943, 28.844410203711913, 24.979991993593593, 21.908902300206645, 18.76166303929372, 14.966629547095765, 11.74734012447073, 13.638181696985855, 22.825424421026653, 35.4964786985977, 45.17742799230607, 33.98529093593286, 29.393876913398138, 31.953090617340916, 34.72751070837067, 34.95711658589707, 35.58089374931439, 36.373066958946424, 38.742741255621034, 43.09292285283048, 51.58488150611572, 43.474130238568314, 37.26929030716845, 36.02776706930364, 35.4400902933387, 30.577769702841312, 28.21347195933177, 26.758176320519304, 22.538855339169288, 19.79898987322333, 15.874507866387544, 13.784048752090222, 15.716233645501712, 18.76166303929372, 24.06241883103193, 27.54995462791182, 29.614185789921695, 32.0, 35.4682957019364, 37.52332607858744, 40.85339643163099, 42.86023798347368, 34.97141690009142, 44.87761134463375, 43.9203825119955, 41.86884283091664, 39.52214569073901, 39.382737335030434, 36.87817782917155, 33.12099032335839, 27.073972741361768, 13.45362404707371, 8.602325267042627, 6.557438524302, 4.0, 3.3166247903554, 2.6457513110645907, 4.0, 4.0, 3.4641016151377544, 3.605551275463989, 3.1622776601683795, 8.426149773176359, 14.52583904633395, 19.595917942265423, 27.748873851023216, 38.49675310984031, 41.677331968349414, 42.988370520409354, 40.48456495999432, 39.06404996924922, 38.07886552931954, 35.91656999213594, 31.874754901018456, 27.892651361962706, 24.677925358506133, 20.09975124224178, 15.7797338380595, 13.601470508735444, 13.038404810405298, 14.866068747318506, 19.72308292331602, 24.49489742783178, 27.147743920996454, 29.916550603303182, 34.161381705077446, 37.603191353926334, 40.80441152620633, 44.384682042344295, 46.8081189538738, 47.042533945356304, 48.908077042549934, 47.62352359916263, 40.792156108742276, 43.726422218150894, 41.43669871020132, 36.55133376499413, 31.52776554086889, 26.68332812825267, 20.73644135332772, 16.941074346097416, 13.92838827718412, 12.449899597988733, 14.142135623730951, 23.558437978779494, 35.77708763999664, 44.45222154178574, 33.58571124749333, 28.142494558940577, 30.919249667480614, 33.689761055846034, 33.421549934136806, 33.1058907144937, 35.59494346111537, 38.17066936798463, 44.94441010848846, 46.281745861624536, 47.3392015141785, 41.54515615568198, 38.897300677553446, 35.81898937714463, 27.694764848252458, 23.49468024894146, 5.830951894845301, 15.652475842498529, 13.674794331177344, 10.677078252031311, 14.247806848775006, 23.57965224510319, 36.51027252705737, 45.47526800360829, 30.463092423455635, 30.886890422961002, 31.85906464414798, 35.24202037341219, 34.46737587922817, 34.438350715445125, 36.38681079732051, 40.0374824383352, 45.09988913511872, 55.94640292279746, 49.040799340956916, 44.48595283907045, 44.04543109109048, 40.024992192379, 32.7566787083184, 0.0, 0.0, 0.0, 0.0, 0.0, 0.0, 0.0, 0.0, 0.0, 0.0, 0.0, 0.0, 0.0, 0.0, 0.0, 0.0, 0.0, 0.0, 0.0, 0.0, 0.0, 0.0, 0.0, 0.0, 26.90724809414742, 23.769728648009426, 19.44222209522358, 15.874507866387544, 12.409673645990857, 14.933184523068078, 22.045407685048602, 34.0, 43.37049688440288, 29.154759474226502, 28.5657137141714, 31.176914536239792, 34.07345007480164, 34.307433596816885, 34.26368339802363, 35.98610843089316, 38.67815921162743, 43.162483709814474, 51.97114584074513, 44.710177812216315, 30.675723300355934, 40.54626986542659, 39.44616584663204, 34.42382895611701, 29.359836511806396, 25.865034312755125, 20.396078054371138, 18.920887928424502, 14.38749456993816, 8.366600265340756, 6.082762530298219, 6.557438524302, 4.47213595499958, 4.0, 2.449489742783178, 4.242640687119285, 3.3166247903554, 4.358898943540674, 4.69041575982343, 4.123105625617661, 5.830951894845301, 4.898979485566356, 4.69041575982343, 5.385164807134504, 5.385164807134504, 5.0, 5.477225575051661, 7.0710678118654755, 12.041594578792296, 13.341664064126334, 13.74772708486752, 11.874342087037917, 9.1104335791443, 8.48528137423857, 11.789826122551595, 14.832396974191326, 19.924858845171276, 24.06241883103193, 26.758176320519304, 31.51190251317746, 37.86819245752297, 42.883563284783136, 45.332107826572546, 48.25971404805462, 48.774993593028796, 49.09175083453431, 48.35286961494633, 44.97777228809804, 41.400483088968905, 39.63584236521283, 33.98529093593286, 28.53068523537421, 24.1039415863879, 19.4164878389476, 15.524174696260024, 12.922847983320086, 11.0, 14.106735979665885, 23.49468024894146, 35.369478367654786, 44.68780594300866, 33.25657829663178, 27.910571473905726, 30.757112998459398, 33.090784215548595, 32.41913015489465, 33.52610922848042, 34.219877264537345, 37.8549864614954, 43.485629810317796, 53.907327887774215, 47.286361670147556, 44.328320518603, 43.41658669218482, 40.59556626036888, 32.72613634390714, 27.640549922170507, 23.727621035409346, 19.28730152198591, 15.524174696260024, 13.038404810405298, 13.490737563232042, 23.706539182259394, 35.199431813596085, 45.37620521815371, 33.88214869219483, 28.844410203711913, 30.72458299147443, 32.526911934581186, 32.863353450309965, 33.04542328371661, 34.785054261852174, 38.18376618407357, 44.170125650715555, 53.99073994677235, 47.41307836451879, 44.24929377967517, 44.090815370097204, 40.496913462633174, 29.120439557122072, 25.729360660537214, 22.40535650240808, 12.041594578792296, 12.884098726725126, 11.135528725660043, 7.211102550927978, 11.61895003862225, 19.157244060668017, 17.05872210923198, 9.848857801796104, 9.0, 15.588457268119896, 7.681145747868608, 12.288205727444508, 15.748015748023622, 15.491933384829668, 14.933184523068078, 17.435595774162696, 23.706539182259394, 20.09975124224178, 18.384776310850235, 19.949937343260004, 19.974984355438178, 15.0, 10.862780491200215, 12.0, 8.831760866327848, 6.164414002968976, 7.14142842854285, 7.3484692283495345, 8.306623862918075, 8.94427190999916, 12.328828005937952, 5.291502622129181, 11.874342087037917, 13.490737563232042, 21.61018278497431, 24.331050121192877, 18.76166303929372, 13.638181696985855, 10.099504938362077, 11.445523142259598, 20.760539492026695, 5.385164807134504, 4.123105625617661, 4.242640687119285, 5.0990195135927845, 5.916079783099616, 11.357816691600547, 10.770329614269007, 6.928203230275509, 6.855654600401044, 4.69041575982343, 5.385164807134504, 8.774964387392123, 14.491376746189438, 20.0, 20.663978319771825, 21.307275752662516, 18.76166303929372, 13.601470508735444, 22.561028345356956, 26.40075756488817, 30.099833886584822, 34.38022687534217, 39.382737335030434, 47.54997371187496, 41.84495190581536, 37.22902093797257, 35.53871128783372, 34.942810419312295, 29.393876913398138, 26.248809496813376, 26.0, 22.93468988235943, 17.88854381999832, 14.594519519326424, 14.071247279470288, 15.297058540778355, 20.8806130178211, 27.676705006196094, 30.528675044947494, 32.41913015489465, 35.91656999213594, 39.66106403010388, 43.18564576337837, 46.130250378683186, 47.62352359916263, 49.78955713801841, 48.52834223420371, 49.38623289946298, 46.26013402488151, 43.266615305567875, 42.190046219457976, 39.93745109543172, 34.19064199455752, 31.400636936215164, 26.70205984563738, 21.748563170931547, 18.627936010197157, 14.317821063276353, 12.649110640673518, 13.784048752090222, 18.466185312619388, 22.891046284519195, 26.0, 29.9833287011299, 31.827660925679098, 36.235341863986875, 39.48417404479927, 40.98780306383839, 44.710177812216315, 46.292547996410825, 48.062459362791664, 49.02040391510457, 46.314144707637645, 42.96510211788167, 40.44749683231337, 36.40054944640259, 30.708305065568176, 25.80697580112788, 20.493901531919196, 16.186414056238647, 12.84523257866513, 10.63014581273465, 14.142135623730951, 21.61018278497431, 33.689761055846034, 42.24926034855522, 33.436506994600975, 31.016124838541646, 33.60059523282288, 37.05401462729781, 38.157568056677825, 38.50973902793941, 40.149719799769464, 42.661458015403085, 47.05316142407437, 55.39855593785816, 49.49747468305833, 46.551047249229526, 45.44227107000705, 42.80186911806539, 35.679125549822544, 30.93541659651604, 28.460498941515414, 24.289915602982237, 20.149441679609886, 15.748015748023622, 13.490737563232042, 16.64331697709324, 21.047565179849187, 26.343879744638983, 30.199337741083, 33.45145736735546, 37.92097045171708, 42.40283009422838, 44.721359549995796, 37.5099986670221, 12.767145334803704, 9.273618495495704, 7.0710678118654755, 5.477225575051661, 6.708203932499369, 5.477225575051661, 7.615773105863909, 5.385164807134504, 4.242640687119285, 5.656854249492381, 5.0, 5.830951894845301, 6.557438524302, 7.681145747868608, 12.328828005937952, 20.8806130178211, 35.22782990761707, 45.110974274559844, 33.54101966249684, 29.512709126747414, 31.811947441173732, 34.87119154832539, 34.161381705077446, 34.39476704383968, 36.49657518178932, 39.534794801541594, 45.48626166217664, 55.883808030591474, 49.53786430600334, 44.73253849269008, 42.81354925721529, 39.84971769034255, 32.863353450309965, 27.892651361962706, 24.041630560342615, 19.621416870348583, 16.278820596099706, 12.68857754044952, 14.317821063276353, 23.021728866442675, 37.282703764614496, 45.617978911828175, 35.014282800023196, 29.664793948382652, 30.364452901377952, 32.96968304366907, 32.83291031876401, 32.54228019054596, 34.26368339802363, 38.144462245521304, 43.162483709814474, 53.150729063673246, 48.31148931672465, 43.61192497471305, 42.871902220452036, 40.963398296528084, 32.96968304366907, 28.827070610799147, 24.698178070456937, 20.904544960366874, 16.911534525287763, 13.711309200802088, 14.177446878757825, 23.043437243605826, 35.35533905932738, 44.67661580737735, 33.481338085566414, 28.61817604250837, 30.967725134404045, 32.89376840679705, 33.25657829663178, 34.07345007480164, 36.138621999185304, 39.153543900903784, 44.86646854834911, 54.0, 47.19110085598767, 43.64630568559039, 41.71330722922842, 40.3732584763727, 34.77067730142742, 31.416556144810016, 28.930952282978865, 23.916521486202797, 20.46948949045872, 15.231546211727817, 14.071247279470288, 17.291616465790582, 22.427661492005804, 27.622454633866266, 31.496031496047245, 31.78049716414141, 34.11744421846396, 35.84689665786984, 37.960505792204614, 38.05259518088089, 39.68626966596886, 41.10960958218893, 43.42810150121693, 44.94441010848846, 44.553338819890925, 43.69210454990696, 43.02324952859791, 41.02438299353203, 36.46916505762094, 33.0, 28.26658805020514, 23.558437978779494, 20.566963801203133, 14.422205101855956, 13.19090595827292, 15.297058540778355, 18.466185312619388, 24.657656011875904, 27.60434748368452, 28.653097563788805, 31.68595903550972, 37.469987990390386, 39.736632972611055, 41.593268686170845, 44.93328387732194, 47.34976240700686, 48.03123983409131, 47.61302342846965, 46.97871858618538, 45.21061822182926, 41.58124577258358, 37.067505985701274, 32.72613634390714, 27.748873851023216, 20.97617696340303, 18.303005217723125, 13.601470508735444, 11.575836902790225, 15.716233645501712, 25.317977802344327, 38.7556447501522, 46.84015371452148, 33.63034344160047, 28.77498913987632, 31.400636936215164, 33.74907406137241, 33.52610922848042, 33.58571124749333, 35.4682957019364, 38.691084244306204, 45.387222871640866, 56.96490147450446, 51.536394906900505, 47.45524207081869, 46.26013402488151, 43.37049688440288, 35.31288716601915, 29.0, 26.851443164195103, 21.587033144922902, 16.881943016134134, 14.2828568570857, 15.874507866387544, 25.0, 37.77565353504821, 47.265209192385896, 34.52535300326414, 29.88310559496787, 30.805843601498726, 34.40930106817051, 33.21144381083123, 34.26368339802363, 35.12833614050059, 39.89987468652001, 44.96665431183423, 46.411205543489174, 21.840329667841555, 20.54263858417414, 32.264531609803356, 33.481338085566414, 27.23967694375247, 22.516660498395403, 23.874672772626646, 20.54263858417414, 15.427248620541512, 12.922847983320086, 15.459624833740307, 22.47220505424423, 33.91164991562634, 44.01136216933077, 34.64101615137755, 30.265491900843113, 31.22498999199199, 34.45286635390443, 33.67491648096547, 33.45145736735546, 35.77708763999664, 39.63584236521283, 46.54030511288038, 57.01754116059373, 51.478150704935004, 47.15930449020638, 45.5411901469428, 41.617304093369626, 34.02939905434711, 29.0516780926679, 24.698178070456937, 21.6794833886788, 18.110770276274835, 13.711309200802088, 16.278820596099706, 25.41653005427767, 37.429934544425805, 47.75981574503821, 35.73513677041127, 30.59411708155671, 31.28897569432403, 33.67491648096547, 33.926390907374746, 34.11744421846396, 35.77708763999664, 39.370039370059054, 45.24378410345447, 55.848008021772806, 50.33885179461288, 46.51881339845203, 45.4972526643093, 43.58898943540674, 36.64696440361739, 31.0322412983658, 27.85677655436824, 23.53720459187964, 19.131126469708992, 16.278820596099706, 17.4928556845359, 25.92296279363144, 37.69615364994153, 46.357307945997036, 34.91418050019218, 29.359836511806396, 32.18695387886216, 32.802438933713454, 33.06055050963308, 32.72613634390714, 35.14256678161116, 38.57460304397182, 46.07602413403309, 55.569775957799216, 50.049975024968795, 46.50806381693394, 45.45327270945405, 44.62062303464621, 37.94733192202055, 34.132096331752024, 31.448370387032774, 26.019223662515376, 21.79449471770337, 17.663521732655695, 16.24807680927192, 18.49324200890693, 23.664319132398465, 29.966648127543394, 31.701734968294716, 32.31098884280702, 33.075670817082454, 35.397740040855716, 36.52396473549935, 37.36308338453881, 39.179076048319466, 41.31585652022719, 45.0, 47.391982444291145, 48.342527861087284, 48.35286961494633, 47.30750469005948, 44.37341546466758, 38.600518131237564, 35.32704346531139, 30.033314835362415, 25.942243542145693, 20.904544960366874, 17.146428199482248, 13.892443989449804, 15.0996688705415, 20.566963801203133, 25.67099530598687, 28.827070610799147, 30.62678566222711, 31.25699921617557, 33.67491648096547, 37.322915213043046, 37.403208418530085, 39.44616584663204, 42.82522621072771, 46.16275555033516, 48.46648326421054, 50.1398045468867, 49.59838707054898, 46.61544808322666, 41.72529209005013, 35.6931365951495, 30.62678566222711, 24.413111231467404, 18.734993995195193, 15.620499351813308, 13.114877048604, 17.291616465790582, 27.23967694375247, 38.79432948254165, 47.82258880487337, 35.25620512760839, 31.144823004794873, 31.74901573277509, 33.94112549695428, 32.93933818400121, 33.88214869219483, 35.34119409414458, 40.87786687193939, 46.79743582719036, 58.137767414994535, 52.80151512977634, 50.07993610219566, 48.75448697299562, 44.721359549995796, 36.796738985948195, 30.44667469527666, 27.23967694375247, 21.166010488516726, 17.72004514666935, 14.628738838327793, 16.792855623746664, 27.073972741361768, 40.024992192379, 48.187135212627034, 36.66060555964672, 30.967725134404045, 31.20897306865447, 33.331666624997915, 32.526911934581186, 33.46640106136302, 35.35533905932738, 37.86819245752297, 45.98912915026767, 56.806689746895124, 51.137070702182385, 48.43552415324934, 49.03060268852505, 47.29693436154187, 40.570925550201586, 35.608987629529715, 32.109188716004645, 28.142494558940577, 23.706539182259394, 18.2208671582886, 14.7648230602334, 18.734993995195193, 23.15167380558045, 28.26658805020514, 30.4138126514911, 32.96968304366907, 33.94112549695428, 37.416573867739416, 38.0, 40.0374824383352, 40.91454509095757, 44.04543109109048, 45.86937976471886, 46.49731175025068, 46.50806381693394, 46.314144707637645, 43.98863489584554, 40.29888335921977, 35.369478367654786, 31.272991542223778, 24.61706725018234, 20.445048300260872, 16.583123951777, 13.820274961085254, 16.97056274847714, 26.758176320519304, 39.382737335030434, 48.13522618623496, 36.6333181680284, 30.23243291566195, 31.096623610932426, 33.15116890850155, 32.72613634390714, 33.406586176980134, 34.219877264537345, 37.97367509209505, 44.74371464239419, 56.753854494650845, 51.468436929831086, 47.7283982551269, 46.486557196677836, 44.034077712607996, 35.91656999213594, 30.430248109405877, 27.730849247724095, 22.9128784747792, 19.1049731745428, 15.968719422671311, 17.291616465790582, 27.27636339397171, 39.293765408777, 48.45616575834287, 35.81898937714463, 31.654383582688826, 33.090784215548595, 35.4400902933387, 36.24913792078372, 35.34119409414458, 37.62977544445356, 40.84115571332428, 48.104053883222775, 57.52390807307862, 52.88667128870941, 49.759421218498915, 48.342527861087284, 46.26013402488151, 40.890096600521744, 35.31288716601915, 32.07802986469088, 27.055498516937366, 23.130067012440755, 18.76166303929372, 16.186414056238647, 19.519221295943137, 24.819347291981714, 31.0322412983658, 33.19638534539566, 34.0, 34.64101615137755, 38.23610858861032, 39.786932528155525, 41.7612260356422, 43.474130238568314, 47.92702786528704, 48.52834223420371, 43.977266854592045, 32.526911934581186, 15.684387141358123, 15.0, 27.85677655436824, 27.676705006196094, 21.97726097583591, 19.364916731037084, 12.727922061357855, 12.24744871391589, 13.19090595827292, 11.74734012447073, 14.696938456699069, 17.69180601295413, 24.879710609249457, 28.035691537752374, 30.692018506445613, 32.77193921634788, 37.97367509209505, 41.8568990729127, 44.553338819890925, 46.71188285650665, 48.30113870293329, 49.3051721424842, 48.65182422068057, 47.61302342846965, 47.958315233127195, 45.0111097397076, 40.422765862815474, 34.51086785347479, 30.298514815086232, 23.558437978779494, 18.788294228055936, 15.231546211727817, 13.92838827718412, 18.0, 28.407745422683583, 40.36087214122113, 48.73397172404482, 36.15245496505044, 31.496031496047245, 33.27160951922825, 34.698703145794944, 32.14031735997639, 32.78719262151, 35.21363372331802, 34.92849839314596, 38.40572873934304, 38.61346915261564, 29.546573405388315, 35.77708763999664, 40.58324777540605, 33.421549934136806, 19.595917942265423, 21.6794833886788, 21.307275752662516, 19.621416870348583, 14.352700094407323, 12.0, 17.204650534085253, 27.202941017470888, 39.66106403010388, 49.949974974968704, 36.29049462324811, 31.160872901765767, 33.04542328371661, 34.66987164671943, 34.85685011586675, 35.298725189445584, 37.77565353504821, 41.400483088968905, 47.644516998286385, 58.34380858325929, 53.600373133029585, 50.78385570237849, 50.049975024968795, 48.05205510693585, 40.70626487409524, 35.6931365951495, 32.984845004941285, 29.103264421710495, 24.310491562286437, 20.518284528683193, 17.029386365926403, 20.396078054371138, 25.632011235952593, 30.967725134404045, 33.331666624997915, 35.62302626111375, 38.44476557348217, 41.79712908801273, 42.82522621072771, 45.69463863518345, 47.83304297240559, 49.73932046178355, 51.61395160225576, 49.78955713801841, 49.03060268852505, 47.70744176750625, 46.54030511288038, 43.977266854592045, 37.33630940518894, 32.357379374726875, 26.739483914241877, 21.283796653792763, 17.0, 13.892443989449804, 12.409673645990857, 10.0, 9.695359714832659, 13.674794331177344, 13.228756555322953, 23.065125189341593, 27.110883423451916, 30.740852297878796, 32.49615361854384, 33.95585369269929, 35.94440151122286, 39.370039370059054, 43.977266854592045, 54.42425929675111, 43.08131845707603, 39.45883931389772, 42.50882261366456, 41.677331968349414, 35.98610843089316, 31.400636936215164, 26.77685567799177, 20.074859899884732, 12.409673645990857, 8.48528137423857, 12.68857754044952, 24.677925358506133, 38.301436004411116, 48.249352327259274, 34.20526275297414, 31.68595903550972, 33.436506994600975, 34.539832078341085, 32.17141588429082, 32.046840717924134, 38.22302970723278, 41.54515615568198, 49.59838707054898, 53.76802023508026, 54.62600113499065, 49.4064773081425, 48.342527861087284, 46.42197755374064, 39.91240408695021, 34.88552708502482, 32.49615361854384, 27.640549922170507, 22.759613353482084, 17.804493814764857, 16.64331697709324, 19.519221295943137, 24.145392935299274, 29.866369046136157, 33.823069050575526, 34.14674215792775, 36.46916505762094, 39.05124837953327, 41.27953488110059, 42.22558466143482, 43.139309220245984, 44.62062303464621, 48.815980989835694, 49.50757517794625, 49.749371855331, 49.969990994595946, 49.34571916590131, 44.66542286825459, 40.18706259482024, 37.33630940518894, 30.479501308256342, 27.477263328068172, 22.15851980616034, 17.435595774162696, 15.427248620541512, 18.0, 21.79449471770337, 26.739483914241877, 30.72458299147443, 30.870698080866262, 33.85262175962151, 37.70941526992961, 39.534794801541594, 41.340053217188775, 44.48595283907045, 47.275786614291256, 48.27007354458868, 49.73932046178355, 49.80963762164909, 49.28488612140643, 45.332107826572546, 42.649736224272246, 36.373066958946424, 30.28200785945344, 23.388031127053, 20.8806130178211, 14.212670403551895, 12.806248474865697, 19.570385790780925, 27.910571473905726, 39.87480407475377, 48.54894437575342, 35.53871128783372, 28.6705423736629, 30.24896692450835, 31.432467291003423, 30.62678566222711, 31.575306807693888, 34.307433596816885, 37.429934544425805, 45.16635916254486, 27.313000567495326, 39.45883931389772, 50.149775672479336, 41.255302689472536, 37.05401462729781, 41.617304093369626, 32.48076353782343, 27.676705006196094, 22.956480566497994, 19.209372712298546, 16.3707055437449, 17.804493814764857, 27.313000567495326, 40.19950248448356, 49.29503017546495, 37.16180835212409, 30.610455730027933, 31.843366656181317, 34.9857113690718, 35.07135583350036, 35.4682957019364, 36.91882988394946, 41.23105625617661, 48.249352327259274, 59.632206063502295, 53.0, 50.24937810560445, 48.76474136094644, 45.78209256903839, 38.157568056677825, 32.09361307176243, 28.337254630609507, 24.0, 18.439088914585774, 15.7797338380595, 18.33030277982336, 26.720778431774775, 40.36087214122113, 49.39635614091387, 37.429934544425805, 31.654383582688826, 33.166247903554, 35.38361202590826, 34.40930106817051, 34.02939905434711, 35.58089374931439, 40.0, 47.843494855622744, 58.172158288995945, 52.354560450833695, 50.18964036531842, 47.391982444291145, 44.48595283907045, 37.429934544425805, 32.90896534380867, 28.178005607210743, 23.2163735324878, 19.849433241279208, 14.66287829861518, 17.549928774784245, 26.627053911388696, 39.28103868280471, 48.68264577855234, 36.87817782917155, 30.364452901377952, 32.64965543462902, 34.597687784012386, 33.8673884437522, 33.94112549695428, 35.7211421989835, 38.379682124790975, 46.647615158762406, 58.463663928973865, 53.018864567246254, 50.556898639058154, 49.35585071701227, 46.67976006793523, 38.691084244306204, 33.71943060017473, 30.199337741083, 24.535688292770594, 20.322401432901575, 16.3707055437449, 18.33030277982336, 26.645825188948457, 39.102429592034305, 47.78074926160116, 35.832945734337834, 30.033314835362415, 31.937438845342623, 33.406586176980134, 32.7566787083184, 32.96968304366907, 34.68429039204925, 38.28837943815329, 46.32493928760188, 58.008620049092706, 52.26853738148792, 49.92995093127971, 47.44470465710583, 45.858477951192405, 40.59556626036888, 36.359317925395686, 32.7566787083184, 28.600699292150182, 23.2379000772445, 19.364916731037084, 18.411952639521967, 20.42057785666214, 24.939927826679853, 30.56141357987225, 32.7414110874898, 32.61901286060018, 35.05709628591621, 37.067505985701274, 38.50973902793941, 38.01315561749642, 39.8622628559895, 42.86023798347368, 45.83666654546336, 47.49736834815167, 47.83304297240559, 47.56048780237646, 46.636895265444075, 43.95452195167182, 37.44329045369811, 29.13760456866693, 23.345235059857504, 35.41186241925155, 25.37715508089904, 16.911534525287763, 15.329709716755891, 16.06237840420901, 19.209372712298546, 23.68543856465402, 27.09243436828813, 27.622454633866266, 29.49576240750525, 32.28002478313795, 32.58834147360065, 32.61901286060018, 34.828149534535996, 38.353617821530214, 41.88078318274385, 45.760244754590204, 47.853944456021594, 48.85693400122443, 46.400431032480725, 42.43819034784589, 36.45545226711637, 31.016124838541646, 24.186773244895647, 20.591260281974, 16.24807680927192, 14.106735979665885, 18.384776310850235, 28.0178514522438, 40.24922359499622, 48.28043081829324, 35.958309192730404, 29.631064780058107, 31.11269837220809, 32.2335229225724, 32.7566787083184, 31.874754901018456, 34.40930106817051, 37.5099986670221, 44.81071300481616, 56.90342696182718, 52.716221412388805, 49.558046773455466, 48.703182647543684, 45.232731511594565, 37.907782842049734, 32.43454948045371, 27.982137159266443, 22.891046284519195, 18.788294228055936, 11.958260743101398, 6.708203932499369, 6.082762530298219, 7.0, 7.280109889280518, 4.358898943540674, 3.0, 3.3166247903554, 3.1622776601683795, 4.898979485566356, 5.0990195135927845, 8.06225774829855, 7.483314773547883, 10.63014581273465, 12.489995996796797, 14.247806848775006, 14.106735979665885, 16.583123951777, 21.047565179849187, 23.49468024894146, 22.64950330581225, 15.937377450509228, 12.806248474865697, 12.328828005937952, 10.488088481701515, 12.727922061357855, 20.42057785666214, 32.92415526630866, 44.66542286825459, 35.185224171518364, 29.359836511806396, 31.85906464414798, 33.83784863137726, 35.12833614050059, 35.25620512760839, 36.90528417449187, 40.22437072223753, 45.98912915026767, 56.32051136131489, 49.86983055916673, 47.686476070265456, 46.9041575982343, 44.26059195266146, 31.304951684997057, 23.68543856465402, 32.68026927673638, 25.534290669607408, 18.547236990991408, 15.264337522473747, 16.30950643030009, 24.372115213907882, 37.296112397943034, 47.83304297240559, 35.298725189445584, 28.74021572639983, 30.62678566222711, 34.02939905434711, 32.2490309931942, 32.09361307176243, 34.77067730142742, 27.676705006196094, 8.06225774829855, 24.413111231467404, 30.72458299147443, 32.2335229225724, 34.97141690009142, 35.199431813596085, 30.512292604784715, 21.6794833886788, 21.447610589527216, 18.57417562100671, 15.066519173319364, 11.090536506409418, 11.532562594670797, 17.549928774784245, 29.715315916207253, 45.033320996790806, 34.56877203488721, 30.215889859476256, 30.919249667480614, 34.17601498127012, 33.421549934136806, 34.27827300200522, 34.77067730142742, 39.42080668885405, 45.81484475582123, 55.794264938253285, 51.0098029794274, 48.36320915737499, 47.16990566028302, 45.858477951192405, 39.395431207184416, 35.70714214271425, 32.71085446759225, 29.30870177950569, 25.0, 19.544820285692065, 15.716233645501712, 17.60681686165901, 21.633307652783937, 28.722813232690143, 29.359836511806396, 30.54504869860253, 29.512709126747414, 29.29163703175362, 33.823069050575526, 35.14256678161116, 36.207733980463345, 36.29049462324811, 35.93048844644336, 17.4928556845359, 21.93171219946131, 27.892651361962706, 31.701734968294716, 33.27160951922825, 30.315012782448235, 29.410882339705484, 27.202941017470888, 24.20743687382041, 19.183326093250876, 14.52583904633395, 7.3484692283495345, 7.745966692414834, 5.0, 4.47213595499958, 3.0, 3.605551275463989, 3.3166247903554, 3.0, 5.477225575051661, 3.7416573867739413, 7.14142842854285, 6.4031242374328485, 5.0, 4.123105625617661, 4.242640687119285, 4.0, 4.123105625617661, 4.0, 3.872983346207417, 5.0990195135927845, 5.291502622129181, 4.123105625617661, 4.795831523312719, 7.615773105863909, 5.291502622129181, 6.324555320336759, 11.224972160321824, 10.198039027185569, 11.313708498984761, 5.196152422706632, 12.36931687685298, 14.7648230602334, 17.435595774162696, 19.519221295943137, 24.879710609249457, 28.965496715920477, 29.34280150224242, 28.844410203711913, 6.6332495807108, 7.810249675906654, 8.48528137423857, 9.1104335791443, 12.96148139681572, 18.681541692269406, 20.174241001832016, 18.81488772222678, 15.264337522473747, 12.206555615733702, 14.966629547095765, 24.49489742783178, 36.16628264005025, 46.20606020859169, 34.0, 28.600699292150182, 30.099833886584822, 30.72458299147443, 31.52776554086889, 31.63858403911275, 32.69556544854363, 36.40054944640259, 42.22558466143482, 54.45181356024793, 50.97057974949863, 48.96937818678118, 47.58150901348127, 44.13615298142782, 36.945906403822335, 31.160872901765767, 28.21347195933177, 23.558437978779494, 19.28730152198591, 15.297058540778355, 17.776388834631177, 27.331300737432898, 38.07886552931954, 47.06378650300037, 34.51086785347479, 28.827070610799147, 30.675723300355934, 31.953090617340916, 31.73326330524486, 31.701734968294716, 32.218007387174026, 36.138621999185304, 43.08131845707603, 55.49774770204643, 51.35172830587107, 49.14264950122246, 47.686476070265456, 45.727453460694704, 37.841775856849004, 32.83291031876401, 29.086079144497972, 23.83275057562597, 19.390719429665317, 16.34013463836819, 18.05547008526779, 20.92844953645635, 28.77498913987632, 42.8485705712571, 33.34666400106613, 28.75760768909681, 29.832867780352597, 31.559467676119, 30.479501308256342, 30.54504869860253, 31.796226191169293, 33.24154027718932, 37.16180835212409, 50.93132631298737, 48.05205510693585, 46.06517122512408, 45.42025979670306, 44.05678154382138, 37.49666651850535, 32.78719262151, 28.965496715920477, 23.62202362203543, 20.074859899884732, 16.522711641858304, 17.635192088548397, 26.888659319497503, 38.06573262134856, 47.67598976424087, 36.30426972134269, 31.591137997862628, 32.0, 34.87119154832539, 34.785054261852174, 34.77067730142742, 36.68787265568828, 40.43513323831146, 47.77028364998475, 56.53317610041028, 50.566787519082126, 47.148700936505136, 46.72258554489466, 43.78355855797927, 38.18376618407357, 34.51086785347479, 32.848135411313685, 27.568097504180443, 23.345235059857504, 18.193405398660254, 16.522711641858304, 19.8997487421324, 23.811761799581316, 28.844410203711913, 31.76476034853718, 32.4037034920393, 33.60059523282288, 36.4417343165772, 37.403208418530085, 37.815340802378074, 39.736632972611055, 42.0, 44.94441010848846, 47.30750469005948, 48.49742261192856, 47.24404724407086, 47.275786614291256, 43.829214001622255, 37.62977544445356, 34.75629439396553, 30.757112998459398, 25.45584412271571, 21.447610589527216, 16.64331697709324, 15.905973720586866, 16.34013463836819, 20.248456731316587, 26.153393661244042, 28.053520278211074, 29.444863728670914, 32.449961479175904, 35.17101079013795, 37.97367509209505, 38.948684188300895, 41.14608122288197, 45.4972526643093, 47.60252094164762, 48.48711168960263, 47.66550115125194, 48.45616575834287, 45.332107826572546, 41.43669871020132, 35.38361202590826, 30.0, 23.53720459187964, 19.672315572906, 16.881943016134134, 14.352700094407323, 17.349351572897472, 22.045407685048602, 21.236760581595302, 25.88435821108957, 23.979157616563597, 14.730919862656235, 13.638181696985855, 8.426149773176359, 9.9498743710662, 10.488088481701515, 7.681145747868608, 8.246211251235321, 10.198039027185569, 11.832159566199232, 8.246211251235321, 6.928203230275509, 9.746794344808963, 8.426149773176359, 6.324555320336759, 5.385164807134504, 6.244997998398398, 9.16515138991168, 11.661903789690601, 11.532562594670797, 13.19090595827292, 23.108440016582687, 34.77067730142742, 44.91102314577124, 32.57299494980466, 27.712812921102035, 30.14962686336267, 32.17141588429082, 32.77193921634788, 33.793490497431605, 34.19064199455752, 38.23610858861032, 40.0374824383352, 40.80441152620633, 28.178005607210743, 30.133038346638727, 36.76955262170047, 31.160872901765767, 19.313207915827967, 15.491933384829668, 15.491933384829668, 15.362291495737216, 12.529964086141668, 8.426149773176359, 8.717797887081348, 13.674794331177344, 17.406895185529212, 28.75760768909681, 25.179356624028344, 24.1039415863879, 28.142494558940577, 31.04834939252005, 31.480152477394387, 32.43454948045371, 33.25657829663178, 36.66060555964672, 43.8520238985614, 54.13871073455665, 48.249352327259274, 45.254833995939045, 44.0, 43.243496620879306, 36.02776706930364, 30.62678566222711, 28.053520278211074, 22.737634001804146, 17.944358444926362, 12.609520212918492, 15.198684153570664, 24.351591323771842, 35.76310948449533, 42.555845661906424, 31.336879231984796, 27.313000567495326, 28.372521918222215, 31.480152477394387, 30.967725134404045, 31.240998703626616, 34.10278580995987, 36.0, 43.76071297408213, 54.91812087098393, 48.093658625644196, 47.05316142407437, 45.98912915026767, 44.10215414239989, 36.810324638611924, 31.71750305430741, 27.568097504180443, 24.49489742783178, 19.4164878389476, 15.524174696260024, 17.349351572897472, 25.787593916455254, 36.345563690772494, 45.9782557302906, 35.21363372331802, 28.91366458960192, 29.782545223670862, 31.827660925679098, 32.341923257592455, 31.606961258558215, 33.075670817082454, 35.93048844644336, 42.21374183841087, 53.70288632839021, 48.16637831516918, 45.48626166217664, 43.86342439892262, 43.347433603386484, 37.93415347678132, 34.19064199455752, 32.58834147360065, 27.982137159266443, 23.345235059857504, 17.52141546793523, 16.30950643030009, 18.867962264113206, 23.173260452512935, 28.053520278211074, 30.14962686336267, 30.166206257996713, 30.740852297878796, 32.2335229225724, 32.83291031876401, 32.218007387174026, 32.526911934581186, 34.307433596816885, 37.8549864614954, 40.29888335921977, 42.391036788453285, 44.97777228809804, 44.844174649557324, 41.012193308819754, 35.749125863438955, 33.80828300875393, 29.46183972531247, 25.13961017995307, 21.047565179849187, 16.673332000533065, 14.933184523068078, 17.08800749063506, 20.049937655763422, 24.758836806279895, 26.739483914241877, 26.476404589747453, 26.68332812825267, 28.337254630609507, 28.460498941515414, 28.6705423736629, 30.757112998459398, 33.54101966249684, 35.31288716601915, 38.28837943815329, 42.9767378938886, 45.36518488885502, 43.86342439892262, 40.08740450565489, 33.36165463522455, 27.055498516937366, 22.315913604421397, 21.656407827707714, 16.61324772583615, 14.52583904633395, 18.0, 26.514147167125703, 36.66060555964672, 43.98863489584554, 31.843366656181317, 26.038433132583073, 26.229754097208, 26.814175355583846, 26.962937525425527, 26.28687885618983, 27.294688127912362, 28.600699292150182, 37.749172176353746, 51.34199061197374, 48.662100242385755, 48.60041152089147, 47.3392015141785, 43.977266854592045, 35.84689665786984, 31.670175244226233, 26.30589287593181, 22.293496809607955, 19.28730152198591, 14.89966442575134, 19.28730152198591, 26.70205984563738, 36.823905279043935, 44.21538193886829, 32.109188716004645, 26.814175355583846, 28.231188426986208, 28.337254630609507, 27.622454633866266, 28.035691537752374, 29.631064780058107, 32.58834147360065, 39.88734135035826, 52.630789467763066, 48.228622207149975, 46.62617290749907, 47.67598976424087, 44.04543109109048, 36.60601043544625, 31.654383582688826, 27.2213151776324, 22.93468988235943, 19.519221295943137, 16.30950643030009, 18.083141320025124, 26.362852652928137, 36.16628264005025, 44.090815370097204, 31.336879231984796, 26.870057685088806, 26.476404589747453, 27.92848008753788, 27.892651361962706, 27.60434748368452, 27.85677655436824, 30.199337741083, 39.949968710876355, 51.884487084291386, 47.75981574503821, 46.92547282660026, 46.776062254106, 44.49719092257398, 36.796738985948195, 32.68026927673638, 28.705400188814647, 24.310491562286437, 19.82422760159901, 15.198684153570664, 18.138357147217054, 25.92296279363144, 36.26292872893749, 44.64302857109943, 31.38470965295043, 26.362852652928137, 26.210684844162312, 28.77498913987632, 28.24889378365107, 26.870057685088806, 28.75760768909681, 31.89043743820395, 39.191835884530846, 51.38093031466052, 47.38143096192854, 45.9782557302906, 46.06517122512408, 43.243496620879306, 36.30426972134269, 32.264531609803356, 27.80287754891569, 23.600847442411894, 20.688160865577203, 16.34013463836819, 18.083141320025124, 25.92296279363144, 35.369478367654786, 43.54308211415448, 32.07802986469088, 25.317977802344327, 28.124722220850465, 28.6705423736629, 28.372521918222215, 27.2213151776324, 28.178005607210743, 30.463092423455635, 38.31448812133603, 49.18333050943175, 45.65084884205331, 43.45112196480086, 43.23193264243457, 42.21374183841087, 37.76241517699841, 33.645207682521445, 30.740852297878796, 26.153393661244042, 21.840329667841555, 18.627936010197157, 17.08800749063506, 19.519221295943137, 22.15851980616034, 26.832815729997478, 27.0, 26.43860813280457, 26.0, 27.110883423451916, 26.962937525425527, 26.115129714401192, 28.0178514522438, 29.715315916207253, 31.796226191169293, 34.66987164671943, 37.72267222772003, 40.681691213615984, 41.60528812542944, 39.84971769034255, 35.888716889852724, 32.984845004941285, 27.784887978899608, 24.228082879171435, 20.92844953645635, 16.431676725154983, 16.0, 16.911534525287763, 18.973665961010276, 21.840329667841555, 22.93468988235943, 22.847319317591726, 22.338307903688676, 23.664319132398465, 23.853720883753127, 23.769728648009426, 25.13961017995307, 27.76688675382964, 31.064449134018133, 34.813790371058424, 38.44476557348217, 41.08527716834828, 40.8166632639171, 36.68787265568828, 32.09361307176243, 28.142494558940577, 23.280893453645632, 19.544820285692065, 15.427248620541512, 13.19090595827292, 17.60681686165901, 25.534290669607408, 35.22782990761707, 43.46262762420146, 31.38470965295043, 25.219040425836983, 24.71841418861655, 25.592967784139454, 26.229754097208, 25.88435821108957, 27.184554438136374, 30.983866769659336, 36.193922141707716, 49.040799340956916, 45.95650117230423, 45.28796749689701, 44.654227123532216, 41.19465984809196, 34.0147027033899, 29.563490998188964, 26.739483914241877, 22.06807649071391, 18.2208671582886, 14.7648230602334, 17.4928556845359, 25.942243542145693, 34.828149534535996, 42.661458015403085, 30.430248109405877, 24.698178070456937, 24.899799195977465, 25.903667693977237, 26.229754097208, 25.475478405713993, 27.110883423451916, 28.879058156387302, 36.013886210738214, 47.958315233127195, 44.36214602563767, 42.82522621072771, 43.57751713900185, 42.1070065428546, 34.539832078341085, 30.643106892089126, 26.94438717061496, 22.338307903688676, 18.083141320025124, 14.560219778561036, 17.291616465790582, 25.632011235952593, 34.219877264537345, 43.508619835614184, 31.54362059117501, 26.38181191654584, 27.367864366808018, 28.124722220850465, 27.982137159266443, 27.459060435491963, 27.94637722496424, 31.25699921617557, 37.57658845611187, 49.15282290977803, 45.155287619502545, 43.98863489584554, 42.555845661906424, 42.035699113967404, 35.90264614203248, 30.643106892089126, 26.795522013948524, 22.315913604421397, 18.841443681416774, 15.874507866387544, 17.4928556845359, 24.535688292770594, 34.27827300200522, 42.69660408041839, 31.080540535840107, 25.37715508089904, 24.779023386727733, 24.49489742783178, 25.059928172283335, 26.570660511172846, 27.820855486487112, 30.331501776206203, 37.33630940518894, 48.65182422068057, 44.654227123532216, 42.30839160261236, 43.22036556994862, 41.340053217188775, 35.679125549822544, 30.14962686336267, 27.331300737432898, 23.173260452512935, 19.261360284258224, 14.7648230602334, 17.175564037317667, 25.436194683953808, 33.331666624997915, 41.98809355043403, 30.56141357987225, 25.278449319529077, 24.879710609249457, 26.720778431774775, 25.553864678361276, 22.516660498395403, 27.85677655436824, 30.083217912982647, 35.90264614203248, 46.72258554489466, 40.70626487409524, 39.56008088970496, 39.331920878594275, 38.82009788756334, 34.38022687534217, 31.496031496047245, 29.58039891549808, 25.612496949731394, 21.470910553583888, 18.439088914585774, 15.748015748023622, 17.69180601295413, 20.688160865577203, 24.61706725018234, 25.903667693977237, 25.573423705088842, 24.331050121192877, 25.13961017995307, 27.2213151776324, 17.72004514666935, 21.633307652783937, 26.570660511172846, 29.376861643136763, 29.03446228191595, 31.20897306865447, 33.090784215548595, 34.79942528261063, 34.02939905434711, 32.2335229225724, 30.347981810987037, 25.219040425836983, 22.60530911091463, 20.074859899884732, 15.652475842498529, 14.106735979665885, 16.30950643030009, 18.57417562100671, 21.354156504062622, 22.781571499789035, 21.748563170931547, 21.817424229271428, 25.37715508089904, 24.939927826679853, 25.099800796022265, 26.70205984563738, 27.568097504180443, 29.916550603303182, 33.77869150810907, 38.54867053479276, 41.19465984809196, 40.47221268969612, 37.49666651850535, 33.28663395418648, 28.460498941515414, 23.979157616563597, 19.05255888325765, 15.905973720586866, 14.45683229480096, 16.522711641858304, 25.84569596664017, 33.61547262794322, 40.570925550201586, 29.427877939124322, 24.677925358506133, 24.95996794869737, 25.748786379167466, 26.229754097208, 25.39685019840059, 25.80697580112788, 29.068883707497267, 34.9857113690718, 48.4458460551573, 44.8998886412873, 44.12482294582042, 43.30127018922193, 39.395431207184416, 34.66987164671943, 30.01666203960727, 26.362852652928137, 21.817424229271428, 18.275666882497067, 15.620499351813308, 16.852299546352718, 24.166091947189145, 33.03028912982749, 40.80441152620633, 29.32575659723036, 24.124676163629637, 24.145392935299274, 25.019992006393608, 24.95996794869737, 24.06241883103193, 25.787593916455254, 27.622454633866266, 34.40930106817051, 45.73838650411709, 43.18564576337837, 42.09513035969837, 41.46082488325576, 40.162171256046406, 33.12099032335839, 29.58039891549808, 26.90724809414742, 22.38302928559939, 19.026297590440446, 15.811388300841896, 17.74823934929885, 24.939927826679853, 32.57299494980466, 39.370039370059054, 29.206163733020468, 23.2379000772445, 22.825424421026653, 23.853720883753127, 23.08679276123039, 21.79449471770337, 23.043437243605826, 23.68543856465402, 32.14031735997639, 43.9203825119955, 39.408120990476064, 37.960505792204614, 38.72983346207417, 36.9729630946723, 32.341923257592455, 29.154759474226502, 25.436194683953808, 21.42428528562855, 17.175564037317667, 14.66287829861518, 16.278820596099706, 24.041630560342615, 31.71750305430741, 39.736632972611055, 28.513154858766505, 23.430749027719962, 23.388031127053, 23.706539182259394, 23.45207879911715, 23.130067012440755, 24.596747752497688, 26.0, 32.64965543462902, 43.37049688440288, 40.06245124802026, 38.47076812334269, 39.179076048319466, 37.080992435478315, 31.937438845342623, 27.622454633866266, 25.98076211353316, 21.047565179849187, 18.083141320025124, 15.362291495737216, 16.30950643030009, 23.323807579381203, 30.610455730027933, 38.353617821530214, 28.0, 23.021728866442675, 23.979157616563597, 24.186773244895647, 24.186773244895647, 23.979157616563597, 24.49489742783178, 27.622454633866266, 33.24154027718932, 43.81780460041329, 39.4715087119811, 38.948684188300895, 38.87158345115362, 37.69615364994153, 33.21144381083123, 30.870698080866262, 29.5296461204668, 24.372115213907882, 20.85665361461421, 17.435595774162696, 15.297058540778355, 17.0, 20.12461179749811, 23.83275057562597, 24.454038521274967, 23.853720883753127, 25.592967784139454, 25.298221281347036, 26.514147167125703, 26.0, 26.267851073127396, 26.457513110645905, 30.01666203960727, 32.31098884280702, 35.73513677041127, 37.242448899072144, 37.107950630558946, 36.565010597564445, 33.98529093593286, 31.352830813181765, 27.53179979587241, 22.561028345356956, 20.024984394500787, 15.905973720586866, 13.711309200802088, 14.89966442575134, 14.933184523068078, 17.578395831246947, 20.54263858417414, 21.470910553583888, 22.338307903688676, 23.769728648009426, 24.49489742783178, 25.278449319529077, 26.68332812825267, 28.600699292150182, 31.272991542223778, 35.31288716601915, 37.5632799419859, 39.03844259188627, 38.27531841800928, 35.86084215408221, 30.692018506445613, 26.589471600616662, 21.330729007701542, 17.578395831246947, 14.798648586948742, 12.727922061357855, 16.06237840420901, 23.366642891095847, 26.43860813280457, 28.231188426986208, 24.779023386727733, 23.08679276123039, 23.853720883753127, 24.758836806279895, 25.80697580112788, 23.895606290697042, 25.41653005427767, 27.422618401604176, 32.60368077380221, 44.22668877499196, 39.344631145812, 39.20459156782532, 40.13726448077895, 37.027017163147235, 31.12876483254676, 29.017236257093817, 24.879710609249457, 21.047565179849187, 16.673332000533065, 14.177446878757825, 16.522711641858304, 25.179356624028344, 32.54228019054596, 41.1703777004778, 31.0, 25.199206336708304, 25.632011235952593, 27.748873851023216, 25.729360660537214, 25.65151067676132, 26.419689627245813, 29.24038303442689, 35.09985754956849, 47.686476070265456, 43.56604182158393, 42.8485705712571, 42.731721238442994, 40.792156108742276, 33.704599092705436, 29.206163733020468, 26.457513110645905, 22.11334438749598, 17.944358444926362, 13.527749258468683, 16.1245154965971, 24.779023386727733, 32.848135411313685, 41.14608122288197, 30.331501776206203, 25.632011235952593, 24.979991993593593, 25.079872407968907, 25.942243542145693, 25.88435821108957, 26.210684844162312, 28.965496715920477, 35.58089374931439, 48.228622207149975, 44.53088815642464, 42.68489194082609, 42.22558466143482, 40.34848200366403, 34.351128074635334, 30.479501308256342, 27.073972741361768, 21.587033144922902, 18.275666882497067, 13.74772708486752, 17.08800749063506, 24.879710609249457, 32.984845004941285, 41.60528812542944, 31.25699921617557, 25.475478405713993, 25.67099530598687, 22.0, 25.059928172283335, 23.68543856465402, 25.37715508089904, 23.643180835073778, 27.202941017470888, 43.01162633521314, 41.20679555607303, 39.88734135035826, 40.66939881532551, 38.65229618017538, 32.78719262151, 30.04995840263344, 26.60826939130014, 22.0, 18.601075237738275, 14.628738838327793, 16.822603841260722, 25.39685019840059, 32.046840717924134, 41.569219381653056, 29.866369046136157, 26.13426869074396, 26.40075756488817, 26.851443164195103, 26.38181191654584, 25.65151067676132, 26.92582403567252, 29.206163733020468, 35.958309192730404, 47.843494855622744, 43.62338822237447, 41.255302689472536, 40.50925820105819, 39.293765408777, 34.61213659975356, 31.96873472629156, 29.68164415931166, 26.28687885618983, 21.0, 16.30950643030009, 16.217274740226856, 18.841443681416774, 20.615528128088304, 25.436194683953808, 25.92296279363144, 25.357444666211933, 27.676705006196094, 27.54995462791182, 28.809720581775867, 27.073972741361768, 26.343879744638983, 28.74021572639983, 31.71750305430741, 35.6931365951495, 38.49675310984031, 38.3275357934736, 37.907782842049734, 36.75595189897821, 32.802438933713454, 31.575306807693888, 26.514147167125703, 23.53720459187964, 19.672315572906, 16.1245154965971, 14.0, 16.15549442140351, 17.776388834631177, 22.80350850198276, 23.83275057562597, 21.97726097583591, 22.93468988235943, 25.88435821108957, 26.5329983228432, 26.40075756488817, 28.635642126552707, 30.967725134404045, 34.0, 35.0, 33.421549934136806, 34.75629439396553, 36.565010597564445, 33.57082066318904, 26.589471600616662, 20.223748416156685, 15.198684153570664, 14.560219778561036, 14.0, 12.288205727444508, 15.165750888103101, 24.372115213907882, 32.63433774416144, 40.70626487409524, 30.04995840263344, 25.278449319529077, 26.019223662515376, 26.90724809414742, 26.419689627245813, 25.514701644346147, 26.627053911388696, 30.01666203960727, 36.851051545376556, 48.65182422068057, 45.12205669071391, 42.9767378938886, 43.02324952859791, 40.43513323831146, 32.95451410656816, 29.5296461204668, 26.095976701399778, 21.61018278497431, 18.57417562100671, 14.45683229480096, 15.937377450509228, 25.357444666211933, 33.12099032335839, 41.32795663954365, 30.72458299147443, 24.79919353527449, 25.219040425836983, 26.43860813280457, 26.362852652928137, 25.03996805109783, 26.457513110645905, 30.331501776206203, 36.138621999185304, 48.010415536631214, 44.40720662234904, 41.291645644125154, 41.036569057366385, 39.83716857408418, 34.132096331752024, 32.155870381627054, 29.154759474226502, 26.0, 21.77154105707724, 17.60681686165901, 15.066519173319364, 18.601075237738275, 20.71231517720798, 23.515952032609693, 23.727621035409346, 23.388031127053, 24.20743687382041, 23.727621035409346, 24.310491562286437, 25.03996805109783, 27.586228448267445, 29.614185789921695, 30.983866769659336, 30.4138126514911, 36.069377593742864, 38.72983346207417, 38.82009788756334, 36.742346141747674, 31.74901573277509, 28.42534080710379, 23.130067012440755, 19.519221295943137, 15.874507866387544, 13.152946437965905, 16.217274740226856, 25.11971337416094, 33.24154027718932, 40.74309757492672, 29.597297173897484, 24.73863375370596, 25.92296279363144, 25.84569596664017, 25.534290669607408, 25.25866188063018, 26.832815729997478, 30.033314835362415, 37.20215047547655, 49.80963762164909, 47.81213235152768, 45.9782557302906, 46.119410230400824, 44.07947368106838, 38.02630668366309, 33.301651610693426, 29.017236257093817, 23.916521486202797, 19.364916731037084, 16.61324772583615, 17.435595774162696, 26.814175355583846, 35.651086939951774, 43.79497688091638, 32.69556544854363, 26.77685567799177, 29.0516780926679, 30.066592756745816, 28.635642126552707, 28.124722220850465, 31.144823004794873, 33.34666400106613, 40.8166632639171, 52.88667128870941, 48.507731342539614, 46.151923036857305, 44.81071300481616, 42.2729227756965, 38.28837943815329, 34.51086785347479, 31.12876483254676, 26.419689627245813, 21.97726097583591, 17.776388834631177, 16.186414056238647, 19.924858845171276, 21.79449471770337, 27.459060435491963, 27.76688675382964, 27.730849247724095, 29.274562336608895, 30.854497241083024, 31.670175244226233, 33.481338085566414, 34.583232931581165, 37.389838191679836, 42.49705872175156, 44.48595283907045, 46.119410230400824, 44.328320518603, 43.42810150121693, 41.0, 36.6333181680284, 33.166247903554, 29.0516780926679, 24.71841418861655, 20.615528128088304, 16.24807680927192, 14.933184523068078, 16.1245154965971, 19.79898987322333, 24.331050121192877, 25.39685019840059, 27.055498516937366, 28.19574435974337, 30.430248109405877, 30.708305065568176, 31.176914536239792, 34.36568055487916, 37.3496987939662, 41.48493702538308, 43.9089968002003, 46.75467891024384, 45.044422518220834, 42.67317658670374, 39.319206502675, 31.874754901018456, 28.600699292150182, 22.956480566497994, 18.76166303929372, 15.968719422671311, 13.892443989449804, 16.76305461424021, 25.98076211353316, 35.84689665786984, 43.726422218150894, 31.51190251317746, 26.814175355583846, 27.676705006196094, 28.42534080710379, 29.103264421710495, 28.5657137141714, 31.496031496047245, 35.397740040855716, 41.27953488110059, 51.264022471905186, 46.49731175025068, 44.710177812216315, 44.395945760846224, 40.3732584763727, 35.22782990761707, 29.966648127543394, 26.267851073127396, 19.390719429665317, 13.152946437965905, 7.0, 7.54983443527075, 8.54400374531753, 24.657656011875904, 39.11521443121589, 29.597297173897484, 20.049937655763422, 26.095976701399778, 29.120439557122072, 28.75760768909681, 28.071337695236398, 30.93541659651604, 33.34666400106613, 40.779897008207364, 53.19774431308154, 48.620983124572874, 46.57252408878007, 45.35416188179427, 42.7551166528639, 35.73513677041127, 32.01562118716424, 27.964262908219126, 22.627416997969522, 18.601075237738275, 14.628738838327793, 17.0, 25.592967784139454, 36.46916505762094, 44.609416046390926, 31.85906464414798, 26.457513110645905, 26.645825188948457, 28.0, 26.962937525425527, 27.568097504180443, 29.017236257093817, 31.51190251317746, 38.66522985836241, 50.27922035990614, 45.68369512200168, 42.5205832509386, 42.50882261366456, 39.44616584663204, 33.421549934136806, 30.133038346638727, 27.294688127912362, 22.181073012818835, 17.435595774162696, 12.96148139681572, 13.601470508735444, 22.181073012818835, 26.832815729997478, 40.963398296528084, 30.397368307141328, 23.473389188611005, 26.664583251946766, 27.730849247724095, 24.166091947189145, 27.202941017470888, 28.930952282978865, 30.72458299147443, 35.34119409414458, 38.03945320322047, 24.124676163629637, 16.0312195418814, 13.74772708486752, 14.66287829861518, 16.34013463836819, 15.427248620541512, 14.422205101855956, 9.1104335791443, 7.874007874011811, 5.477225575051661, 6.708203932499369, 13.152946437965905, 20.0, 24.041630560342615, 22.0, 16.911534525287763, 20.37154878746336, 18.841443681416774, 16.55294535724685, 12.328828005937952, 20.12461179749811, 21.330729007701542, 20.074859899884732, 30.265491900843113, 30.789608636681304, 34.08812109811862, 36.05551275463989, 34.66987164671943, 32.92415526630866, 31.304951684997057, 29.765752132274432, 26.60826939130014, 21.354156504062622, 17.4928556845359, 15.231546211727817, 17.832554500127006, 22.135943621178654, 26.851443164195103, 28.42534080710379, 29.29163703175362, 30.265491900843113, 32.71085446759225, 35.08560958569767, 35.510561809129406, 38.93584466786357, 39.89987468652001, 42.391036788453285, 45.60701700396552, 45.19955751995809, 44.96665431183423, 44.01136216933077, 41.43669871020132, 36.837480912787726, 34.10278580995987, 27.730849247724095, 24.49489742783178, 20.639767440550294, 17.029386365926403, 13.711309200802088, 15.588457268119896, 19.519221295943137, 23.790754506740637, 26.92582403567252, 26.095976701399778, 28.124722220850465, 32.71085446759225, 25.632011235952593, 20.42057785666214, 27.964262908219126, 32.01562118716424, 37.403208418530085, 38.45776904605882, 39.949968710876355, 40.91454509095757, 35.7211421989835, 27.640549922170507, 18.65475810617763, 18.027756377319946, 7.810249675906654, 6.6332495807108, 4.69041575982343, 5.196152422706632, 6.164414002968976, 6.855654600401044, 10.14889156509222, 18.110770276274835, 8.660254037844387, 10.198039027185569, 12.165525060596439, 11.704699910719626, 12.206555615733702, 15.198684153570664, 24.08318915758459, 29.765752132274432, 36.823905279043935, 46.400431032480725, 40.18706259482024, 39.496835316262995, 41.97618372363071, 39.63584236521283, 33.36165463522455, 29.49576240750525, 25.553864678361276, 21.95449840010015, 16.76305461424021, 14.142135623730951, 14.7648230602334, 24.1039415863879, 34.38022687534217, 42.906875905849866, 29.410882339705484, 25.88435821108957, 20.273134932713294, 5.0, 5.5677643628300215, 11.224972160321824, 11.045361017187261, 7.745966692414834, 6.244997998398398, 9.797958971132712, 9.16515138991168, 3.1622776601683795, 11.045361017187261, 8.0, 7.681145747868608, 14.422205101855956, 18.275666882497067, 15.588457268119896, 13.076696830622021, 11.313708498984761, 10.44030650891055, 18.601075237738275, 29.359836511806396, 39.93745109543172, 29.444863728670914, 25.337718918639855, 25.903667693977237, 25.45584412271571, 23.2379000772445, 22.135943621178654, 24.145392935299274, 13.892443989449804, 12.649110640673518, 7.54983443527075, 4.898979485566356, 4.358898943540674, 4.69041575982343, 8.602325267042627, 14.071247279470288, 14.628738838327793, 9.9498743710662, 8.94427190999916, 9.0, 6.48074069840786, 8.54400374531753, 16.881943016134134, 27.76688675382964, 36.46916505762094, 29.086079144497972, 24.269322199023193, 26.758176320519304, 27.712812921102035, 29.410882339705484, 28.930952282978865, 31.336879231984796, 33.793490497431605, 38.379682124790975, 43.439613257946945, 41.31585652022719, 41.048751503547585, 41.617304093369626, 39.774363602702685, 34.249087579087416, 29.34280150224242, 25.534290669607408, 19.519221295943137, 17.233687939614086, 13.038404810405298, 14.730919862656235, 20.8806130178211, 28.77498913987632, 41.060930335295616, 32.38826948140329, 28.178005607210743, 29.46183972531247, 31.336879231984796, 31.064449134018133, 31.416556144810016, 33.45145736735546, 37.469987990390386, 43.23193264243457, 53.25410782277739, 48.703182647543684, 44.66542286825459, 43.94314508543966, 42.2965719651132, 36.45545226711637, 32.78719262151, 31.22498999199199, 28.0178514522438, 22.67156809750927, 18.384776310850235, 16.1245154965971, 19.026297590440446, 22.60530911091463, 28.495613697550013, 30.4138126514911, 29.34280150224242, 31.32091952673165, 32.95451410656816, 36.09709129556009, 37.027017163147235, 38.47076812334269, 40.963398296528084, 42.95346318982906, 43.497126341863094, 43.485629810317796, 37.94733192202055, 33.31666249791537, 31.496031496047245, 39.02563260217571, 36.55133376499413, 30.495901363953813, 24.698178070456937, 20.97617696340303, 15.968719422671311, 13.379088160259652, 15.7797338380595, 19.697715603592208, 24.0, 26.851443164195103, 28.319604517012593, 30.659419433511783, 32.78719262151, 35.41186241925155, 37.3496987939662, 39.370039370059054, 43.04648650006177, 45.48626166217664, 46.021733996015406, 44.56455991031439, 42.871902220452036, 41.94043395102154, 38.87158345115362, 32.357379374726875, 27.622454633866266, 22.891046284519195, 17.916472867168917, 14.52583904633395, 12.36931687685298, 16.24807680927192, 25.612496949731394, 35.874782229304195, 39.74921382870358, 26.814175355583846, 20.83266665599966, 21.047565179849187, 25.942243542145693, 27.03701166919155, 23.065125189341593, 11.704699910719626, 6.244997998398398, 4.795831523312719, 10.63014581273465, 8.54400374531753, 12.288205727444508, 10.488088481701515, 19.467922333931785, 22.045407685048602, 22.360679774997898, 22.045407685048602, 18.0, 14.933184523068078, 13.638181696985855, 14.798648586948742, 24.535688292770594, 35.90264614203248, 45.37620521815371, 32.90896534380867, 28.6705423736629, 30.659419433511783, 31.54362059117501, 31.575306807693888, 31.416556144810016, 34.322004603461025, 37.8021163428716, 44.64302857109943, 56.2672195865408, 49.90991885387112, 47.52893855326458, 47.031904065219386, 43.08131845707603, 35.11409973215888, 31.352830813181765, 27.349588662354687, 22.20360331117452, 19.390719429665317, 14.832396974191326, 15.7797338380595, 26.0, 38.561638969317684, 48.08326112068523, 34.56877203488721, 29.103264421710495, 30.610455730027933, 32.7414110874898, 32.2335229225724, 31.448370387032774, 33.63034344160047, 38.02630668366309, 45.47526800360829, 56.213877290220786, 49.678969393496885, 46.65833258915282, 44.98888751680797, 42.40283009422838, 34.91418050019218, 31.0322412983658, 27.258026340878022, 23.043437243605826, 17.88854381999832, 14.66287829861518, 15.716233645501712, 26.076809620810597, 37.92097045171708, 47.644516998286385, 34.438350715445125, 28.89636655359978, 30.675723300355934, 32.264531609803356, 32.38826948140329, 32.12475680841802, 33.0, 35.94440151122286, 39.05124837953327, 49.969990994595946, 44.609416046390926, 43.58898943540674, 43.02324952859791, 40.50925820105819, 23.706539182259394, 23.57965224510319, 18.57417562100671, 16.09347693943108, 16.09347693943108, 13.601470508735444, 15.716233645501712, 24.979991993593593, 36.68787265568828, 47.53945729601885, 34.55430508634199, 29.93325909419153, 31.432467291003423, 34.828149534535996, 33.45145736735546, 34.45286635390443, 37.296112397943034, 39.71145930332956, 46.72258554489466, 56.16048432839589, 48.63126566315131, 44.26059195266146, 43.76071297408213, 42.37924020083418, 36.91882988394946, 33.27160951922825, 31.63858403911275, 26.30589287593181, 22.44994432064365, 16.881943016134134, 15.066519173319364, 17.944358444926362, 22.60530911091463, 28.75760768909681, 30.919249667480614, 33.1058907144937, 34.336569426778794, 35.679125549822544, 38.79432948254165, 39.42080668885405, 42.33202097703345, 44.07947368106838, 46.551047249229526, 47.486840282335066, 44.474711915874174, 44.090815370097204, 43.3358973600409, 40.92676385936225, 33.793490497431605, 34.42382895611701, 28.89636655359978, 24.269322199023193, 19.87460691435179, 16.24807680927192, 12.84523257866513, 15.968719422671311, 19.131126469708992, 25.37715508089904, 28.337254630609507, 30.463092423455635, 32.41913015489465, 34.92849839314596, 37.841775856849004, 40.76763422127902, 43.32435804486894, 45.81484475582123, 46.9148164229596, 48.662100242385755, 45.088801270381985, 43.93176527297759, 42.661458015403085, 35.93048844644336, 30.675723300355934, 28.142494558940577, 22.06807649071391, 18.2208671582886, 13.2664991614216, 13.711309200802088, 15.033296378372908, 26.28687885618983, 38.24918299781056, 47.7283982551269, 33.54101966249684, 29.359836511806396, 30.56141357987225, 33.090784215548595, 32.51153641401772, 32.61901286060018, 35.34119409414458, 38.301436004411116, 46.33573135281238, 57.42821606144492, 50.17967716117751, 47.32863826479693, 45.71651780264984, 42.17819341792628, 34.97141690009142, 30.166206257996713, 25.729360660537214, 20.85665361461421, 16.15549442140351, 13.892443989449804, 16.06237840420901, 26.038433132583073, 39.44616584663204, 48.67237409455183, 35.12833614050059, 30.364452901377952, 31.811947441173732, 34.52535300326414, 33.19638534539566, 33.391615714128, 34.95711658589707, 39.07684736515984, 46.593991028886975, 56.7626637852735, 49.54795656734998, 45.51922670696417, 44.9221548904324, 43.22036556994862, 35.21363372331802, 30.805843601498726, 26.28687885618983, 21.494185260204677, 17.233687939614086, 14.66287829861518, 15.524174696260024, 25.612496949731394, 39.382737335030434, 48.8978527135906, 35.12833614050059, 30.380915061926625, 31.89043743820395, 34.132096331752024, 32.64965543462902, 32.96968304366907, 35.369478367654786, 38.65229618017538, 46.14108798023731, 57.06137047074842, 49.42671342502959, 46.32493928760188, 44.85532298401161, 42.708313008125245, 36.180105030251084, 31.11269837220809, 27.129319932501073, 20.904544960366874, 17.435595774162696, 15.491933384829668, 15.748015748023622, 25.592967784139454, 38.05259518088089, 48.25971404805462, 36.359317925395686, 30.24896692450835, 31.176914536239792, 33.45145736735546, 31.843366656181317, 33.12099032335839, 34.64101615137755, 37.89459064299283, 44.955533585978046, 56.089214649520635, 48.63126566315131, 44.75488800120049, 44.721359549995796, 41.38840417314975, 36.09709129556009, 31.160872901765767, 27.83882181415011, 21.95449840010015, 18.681541692269406, 14.933184523068078, 15.7797338380595, 25.37715508089904, 38.157568056677825, 47.46577714522327, 34.655446902326915, 30.59411708155671, 31.336879231984796, 32.984845004941285, 33.98529093593286, 34.62657938636157, 36.701498607005135, 38.768543949960254, 45.37620521815371, 53.16013544000805, 44.67661580737735, 43.23193264243457, 35.482389998420345, 23.811761799581316, 28.460498941515414, 30.099833886584822, 29.68164415931166, 24.08318915758459, 17.378147196982766, 15.297058540778355, 13.0, 16.492422502470642, 21.283796653792763, 28.792360097775937, 30.56141357987225, 31.89043743820395, 34.813790371058424, 35.832945734337834, 38.27531841800928, 38.39270764090493, 32.817678162843876, 35.679125549822544, 38.39270764090493, 39.57271787481876, 39.72404813208241, 40.162171256046406, 41.352146256270665, 39.57271787481876, 34.785054261852174, 31.843366656181317, 27.640549922170507, 20.784609690826528, 16.06237840420901, 13.711309200802088, 11.090536506409418, 11.704699910719626, 16.06237840420901, 21.540659228538015, 26.92582403567252, 28.513154858766505, 31.843366656181317, 31.448370387032774, 27.459060435491963, 20.223748416156685, 14.89966442575134, 11.916375287812984, 17.944358444926362, 22.80350850198276, 29.189039038652847, 32.7566787083184, 33.85262175962151, 31.432467291003423, 23.895606290697042, 23.043437243605826, 18.35755975068582, 15.066519173319364, 13.638181696985855, 12.649110640673518, 15.684387141358123, 25.0, 38.561638969317684, 47.70744176750625, 34.42382895611701, 29.46183972531247, 30.886890422961002, 32.90896534380867, 32.69556544854363, 33.04542328371661, 34.741905532080416, 38.01315561749642, 45.34313619501854, 57.245087125446844, 49.889878733065686, 47.24404724407086, 45.8257569495584, 43.18564576337837, 35.958309192730404, 0.0, 0.0, 0.0, 0.0, 0.0, 0.0, 0.0, 0.0, 0.0, 0.0, 0.0, 0.0, 0.0, 0.0, 0.0, 0.0, 0.0, 0.0, 0.0, 0.0, 0.0, 0.0, 0.0, 0.0, 0.0, 0.0, 0.0, 0.0, 0.0, 0.0, 0.0, 0.0, 0.0, 0.0, 0.0, 0.0, 0.0, 0.0, 0.0, 0.0, 0.0, 0.0, 0.0, 0.0, 0.0, 0.0, 0.0, 0.0, 29.765752132274432, 27.586228448267445, 22.891046284519195, 17.146428199482248, 15.524174696260024, 11.704699910719626, 6.855654600401044, 11.40175425099138, 17.291616465790582, 9.433981132056603, 9.327379053088816, 10.535653752852738, 13.416407864998739, 17.349351572897472, 23.93741840717165, 26.38181191654584, 30.199337741083, 35.91656999213594, 42.261093218230876, 35.66510900025401, 29.966648127543394, 28.0, 32.38826948140329, 30.577769702841312, 28.442925306655784, 25.96150997149434, 11.045361017187261, 5.291502622129181, 4.898979485566356, 4.898979485566356, 4.795831523312719, 6.708203932499369, 11.269427669584644, 6.855654600401044, 8.831760866327848, 9.899494936611665, 11.958260743101398, 24.49489742783178, 31.176914536239792, 35.888716889852724, 39.370039370059054, 43.634848458542855, 47.275786614291256, 41.47288270665544, 39.382737335030434, 39.242833740697165, 38.63935817272331, 34.219877264537345, 30.870698080866262, 29.58039891549808, 25.592967784139454, 21.400934559032695, 9.797958971132712, 9.643650760992955, 14.66287829861518, 19.05255888325765, 25.573423705088842, 28.460498941515414, 30.4138126514911, 32.58834147360065, 35.679125549822544, 37.53664875824692, 39.14077158156185, 42.59107887809371, 42.89522117905443, 45.221676218380054, 44.034077712607996, 41.7492514902962, 40.049968789001575, 38.7556447501522, 37.815340802378074, 33.28663395418648, 29.664793948382652, 25.37715508089904, 22.11334438749598, 18.275666882497067, 14.212670403551895, 10.295630140987, 12.0, 16.15549442140351, 20.952326839756964, 23.108440016582687, 24.899799195977465, 27.640549922170507, 30.24896692450835, 32.109188716004645, 33.704599092705436, 36.959437225152655, 38.7556447501522, 39.88734135035826, 38.62641583165593, 36.51027252705737, 35.874782229304195, 33.88214869219483, 32.77193921634788, 27.712812921102035, 24.899799195977465, 20.639767440550294, 17.378147196982766, 14.696938456699069, 11.874342087037917, 10.246950765959598, 11.874342087037917, 14.317821063276353, 17.204650534085253, 17.60681686165901, 20.639767440550294, 24.24871130596428, 27.459060435491963, 29.748949561287034, 33.15116890850155, 35.679125549822544, 37.8549864614954, 37.97367509209505, 35.17101079013795, 35.77708763999664, 35.02855977627399, 33.83784863137726, 30.95157508108432, 27.386127875258307, 23.62202362203543, 20.199009876724155, 17.08800749063506, 14.89966442575134, 12.529964086141668, 10.246950765959598, 11.489125293076057, 16.186414056238647, 20.97617696340303, 23.280893453645632, 25.826343140289914, 29.206163733020468, 32.32645975048923, 36.180105030251084, 39.01281840626232, 41.79712908801273, 44.21538193886829, 45.088801270381985, 43.41658669218482, 40.099875311526844, 39.786932528155525, 39.56008088970496, 37.656340767525464, 32.28002478313795, 29.664793948382652, 24.372115213907882, 21.283796653792763, 18.841443681416774, 14.89966442575134, 12.24744871391589, 15.165750888103101, 18.303005217723125, 24.454038521274967, 26.076809620810597, 30.380915061926625, 33.94112549695428, 36.851051545376556, 41.060930335295616, 44.40720662234904, 46.58325879540846, 47.644516998286385, 48.46648326421054, 48.36320915737499, 44.01136216933077, 40.65710270051225, 39.102429592034305, 35.34119409414458, 30.56141357987225, 27.748873851023216, 22.090722034374522, 18.05547008526779, 13.341664064126334, 12.288205727444508, 14.38749456993816, 24.269322199023193, 36.932370625238775, 46.14108798023731, 33.46640106136302, 30.116440692751194, 31.921779399024736, 34.48187929913333, 34.51086785347479, 36.124783736376884, 37.469987990390386, 40.44749683231337, 46.78675026115834, 56.16048432839589, 49.21381919745713, 45.803929962395145, 43.93176527297759, 42.43819034784589, 34.95711658589707, 0.0, 0.0, 0.0, 0.0, 0.0, 0.0, 0.0, 0.0, 0.0, 0.0, 0.0, 0.0, 0.0, 0.0, 0.0, 0.0, 0.0, 0.0, 0.0, 0.0, 0.0, 0.0, 0.0, 0.0, 32.202484376209235, 31.336879231984796, 26.267851073127396, 22.20360331117452, 17.349351572897472, 14.422205101855956, 17.029386365926403, 22.64950330581225, 29.120439557122072, 32.802438933713454, 32.72613634390714, 35.832945734337834, 38.66522985836241, 41.8568990729127, 43.497126341863094, 45.44227107000705, 47.47630988187688, 49.31531202375181, 48.95916665957459, 44.955533585978046, 42.83689998120779, 42.20189569201838, 38.742741255621034, 35.05709628591621, 0.0, 0.0, 0.0, 0.0, 0.0, 0.0, 0.0, 0.0, 0.0, 0.0, 0.0, 0.0, 0.0, 0.0, 0.0, 0.0, 0.0, 0.0, 0.0, 0.0, 0.0, 0.0, 0.0, 0.0, 26.076809620810597, 20.049937655763422, 16.186414056238647, 13.379088160259652, 11.958260743101398, 15.684387141358123, 25.13961017995307, 37.8021163428716, 45.83666654546336, 33.25657829663178, 29.257477676655586, 30.967725134404045, 33.734255586866, 32.96968304366907, 33.71943060017473, 35.4682957019364, 36.837480912787726, 42.41462012089699, 53.45091205957107, 46.06517122512408, 42.708313008125245, 42.15447781671598, 38.742741255621034, 32.51153641401772, 0.0, 0.0, 0.0, 0.0, 0.0, 0.0, 0.0, 0.0, 0.0, 0.0, 0.0, 0.0, 0.0, 0.0, 0.0, 0.0, 0.0, 0.0, 0.0, 0.0, 0.0, 0.0, 0.0, 0.0, 32.2490309931942, 29.698484809834994, 26.1725046566048, 22.293496809607955, 16.852299546352718, 13.152946437965905, 16.673332000533065, 20.97617696340303, 27.60434748368452, 31.080540535840107, 33.36165463522455, 35.32704346531139, 40.422765862815474, 43.0, 44.66542286825459, 46.9041575982343, 45.95650117230423, 48.98979485566356, 47.275786614291256, 42.33202097703345, 41.7612260356422, 39.92492955535426, 37.322915213043046, 32.14031735997639, 0.0, 0.0, 0.0, 0.0, 0.0, 0.0, 0.0, 0.0, 0.0, 0.0, 0.0, 0.0, 0.0, 0.0, 0.0, 0.0, 0.0, 0.0, 0.0, 0.0, 0.0, 0.0, 0.0, 0.0, 31.192947920964443, 27.110883423451916, 22.693611435820433, 18.138357147217054, 14.866068747318506, 14.933184523068078, 23.043437243605826, 16.792855623746664, 14.422205101855956, 6.855654600401044, 5.744562646538029, 5.385164807134504, 4.795831523312719, 4.69041575982343, 4.123105625617661, 2.8284271247461903, 5.291502622129181, 8.12403840463596, 8.602325267042627, 7.416198487095663, 6.6332495807108, 5.656854249492381, 4.795831523312719, 2.0, 0.0, 0.0, 0.0, 0.0, 0.0, 0.0, 0.0, 2.23606797749979, 2.449489742783178, 2.23606797749979, 1.4142135623730951, 4.47213595499958, 11.40175425099138, 23.0, 30.675723300355934, 35.156791662493895, 40.01249804748511, 43.243496620879306, 44.85532298401161, 41.96427051671457, 39.585350825778974, 41.60528812542944, 38.19685850956856, 34.08812109811862, 32.38826948140329, 27.712812921102035, 23.194827009486403, 19.28730152198591, 15.968719422671311, 12.083045973594572, 13.74772708486752, 18.57417562100671, 24.269322199023193, 27.440845468024488, 30.528675044947494, 34.46737587922817, 38.93584466786357, 41.400483088968905, 44.57577817604534, 46.551047249229526, 47.644516998286385, 47.486840282335066, 45.48626166217664, 40.099875311526844, 38.97435053981015, 37.21558813185679, 34.058772731852805, 28.982753492378876, 26.664583251946766, 19.748417658131498, 16.278820596099706, 13.856406460551018, 11.090536506409418, 14.66287829861518, 22.427661492005804, 34.72751070837067, 44.77722635447622, 34.14674215792775, 30.708305065568176, 33.421549934136806, 35.185224171518364, 36.09709129556009, 36.851051545376556, 38.7556447501522, 40.0374824383352, 46.119410230400824, 52.79204485526205, 46.36809247747852, 42.871902220452036, 42.28474902373195, 40.44749683231337, 34.583232931581165, 0.0, 0.0, 0.0, 0.0, 0.0, 0.0, 0.0, 0.0, 0.0, 0.0, 0.0, 0.0, 0.0, 0.0, 0.0, 0.0, 0.0, 0.0, 0.0, 0.0, 0.0, 0.0, 0.0, 0.0, 25.357444666211933, 12.0, 7.416198487095663, 9.486832980505138, 9.055385138137417, 12.328828005937952, 21.0, 34.92849839314596, 45.628938186199335, 33.12099032335839, 28.142494558940577, 30.23243291566195, 31.71750305430741, 31.85906464414798, 32.264531609803356, 34.219877264537345, 36.91882988394946, 42.13074886588179, 50.1398045468867, 41.50903516103452, 38.58756276314948, 38.01315561749642, 35.4259791678367, 30.01666203960727, 26.589471600616662, 23.259406699226016, 18.466185312619388, 14.7648230602334, 12.041594578792296, 14.035668847618199, 22.759613353482084, 35.11409973215888, 44.721359549995796, 32.71085446759225, 28.142494558940577, 30.430248109405877, 31.096623610932426, 31.622776601683793, 31.480152477394387, 32.46536616149585, 35.832945734337834, 41.048751503547585, 48.76474136094644, 40.17461885320133, 37.26929030716845, 37.389838191679836, 34.942810419312295, 29.274562336608895, 26.570660511172846, 23.043437243605826, 20.223748416156685, 15.0, 12.96148139681572, 13.527749258468683, 20.29778313018444, 33.793490497431605, 44.67661580737735, 33.25657829663178, 29.614185789921695, 30.967725134404045, 32.7566787083184, 33.31666249791537, 34.45286635390443, 36.359317925395686, 38.57460304397182, 43.61192497471305, 51.16639522186413, 42.473521163190604, 37.94733192202055, 35.94440151122286, 36.701498607005135, 30.659419433511783, 28.89636655359978, 27.184554438136374, 22.627416997969522, 19.339079605813716, 15.033296378372908, 12.165525060596439, 14.45683229480096, 20.29778313018444, 26.981475126464083, 29.206163733020468, 32.202484376209235, 34.336569426778794, 37.44329045369811, 40.64480286580315, 41.376321731154405, 42.96510211788167, 43.77213725647858, 44.66542286825459, 41.1703777004778, 37.16180835212409, 35.510561809129406, 36.22154055254967, 33.8673884437522, 31.160872901765767, 28.478061731796284, 24.166091947189145, 20.71231517720798, 17.549928774784245, 13.601470508735444, 10.488088481701515, 12.24744871391589, 17.435595774162696, 23.57965224510319, 27.83882181415011, 29.103264421710495, 32.49615361854384, 37.33630940518894, 39.91240408695021, 42.035699113967404, 44.13615298142782, 45.79301256742124, 44.609416046390926, 40.76763422127902, 37.107950630558946, 36.138621999185304, 35.510561809129406, 32.07802986469088, 28.460498941515414, 25.25866188063018, 19.82422760159901, 16.492422502470642, 13.076696830622021, 12.328828005937952, 14.45683229480096, 22.44994432064365, 35.651086939951774, 45.4972526643093, 33.45145736735546, 28.930952282978865, 30.166206257996713, 32.43454948045371, 32.526911934581186, 33.481338085566414, 34.39476704383968, 37.589892258425, 42.1070065428546, 51.332251070842396, 43.71498598878879, 40.7308237088326, 39.44616584663204, 37.107950630558946, 30.23243291566195, 26.94438717061496, 23.83275057562597, 20.663978319771825, 15.905973720586866, 12.041594578792296, 14.212670403551895, 22.15851980616034, 34.87119154832539, 46.195237849804386, 34.307433596816885, 29.223278392404914, 30.23243291566195, 32.60368077380221, 33.28663395418648, 33.36165463522455, 34.68429039204925, 37.5099986670221, 42.555845661906424, 52.11525688318153, 43.2087954009366, 39.59797974644666, 40.22437072223753, 37.749172176353746, 30.822070014844883, 27.184554438136374, 24.49489742783178, 19.519221295943137, 15.459624833740307, 12.529964086141668, 14.491376746189438, 22.427661492005804, 34.828149534535996, 46.92547282660026, 34.64101615137755, 29.017236257093817, 31.0, 32.984845004941285, 33.391615714128, 32.90896534380867, 34.27827300200522, 37.53664875824692, 43.54308211415448, 49.44694126030446, 42.649736224272246, 39.4715087119811, 38.63935817272331, 35.749125863438955, 29.93325909419153, 26.343879744638983, 24.06241883103193, 19.621416870348583, 15.620499351813308, 12.84523257866513, 13.601470508735444, 21.400934559032695, 34.51086785347479, 46.411205543489174, 34.132096331752024, 29.393876913398138, 30.28200785945344, 33.645207682521445, 33.94112549695428, 33.49626844888845, 34.68429039204925, 38.379682124790975, 42.473521163190604, 49.98999899979995, 43.3358973600409, 39.08964057138413, 38.28837943815329, 36.08323710533743, 30.72458299147443, 27.982137159266443, 25.553864678361276, 20.808652046684813, 16.186414056238647, 13.564659966250536, 12.727922061357855, 22.15851980616034, 34.46737587922817, 45.967379738244816, 34.51086785347479, 29.154759474226502, 31.32091952673165, 34.07345007480164, 34.49637662132068, 34.942810419312295, 37.282703764614496, 39.07684736515984, 44.034077712607996, 51.29327441292864, 42.05948168962618, 38.88444419044716, 38.17066936798463, 36.4828726939094, 31.906112267087632, 29.8496231131986, 27.820855486487112, 22.847319317591726, 19.6468827043885, 15.684387141358123, 12.409673645990857, 14.798648586948742, 20.663978319771825, 28.0, 30.347981810987037, 31.575306807693888, 34.27827300200522, 37.5099986670221, 39.81205847478876, 40.607881008493905, 41.95235392680606, 42.579337712087536, 44.14748010928823, 41.31585652022719, 37.5099986670221, 35.63705936241092, 35.34119409414458, 33.77869150810907, 30.364452901377952, 29.120439557122072, 24.939927826679853, 20.688160865577203, 18.49324200890693, 14.352700094407323, 12.083045973594572, 13.114877048604, 17.74823934929885, 23.108440016582687, 26.057628441590765, 30.59411708155671, 32.48076353782343, 37.64306044943742, 38.97435053981015, 40.52159917870962, 43.485629810317796, 44.45222154178574, 43.393547907494266, 40.22437072223753, 38.262252939417984, 36.138621999185304, 34.02939905434711, 32.01562118716424, 26.90724809414742, 24.95996794869737, 19.28730152198591, 15.905973720586866, 13.228756555322953, 10.488088481701515, 14.212670403551895, 22.64950330581225, 35.270384177096794, 45.94562003064057, 33.2264954516723, 28.583211855912904, 30.675723300355934, 32.155870381627054, 32.61901286060018, 33.49626844888845, 34.161381705077446, 38.262252939417984, 43.634848458542855, 51.11751167652823, 43.12771730569565, 39.91240408695021, 38.897300677553446, 36.87817782917155, 30.265491900843113, 26.94438717061496, 23.388031127053, 18.867962264113206, 15.588457268119896, 13.038404810405298, 13.892443989449804, 21.354156504062622, 28.965496715920477, 37.72267222772003, 32.03123475609393, 27.110883423451916, 9.0, 19.05255888325765, 25.534290669607408, 28.930952282978865, 31.78049716414141, 35.9722114972099, 40.049968789001575, 49.14264950122246, 41.048751503547585, 37.8549864614954, 37.14835124201342, 35.45419580247167, 29.597297173897484, 26.60826939130014, 23.93741840717165, 19.261360284258224, 15.7797338380595, 12.727922061357855, 12.806248474865697, 21.283796653792763, 34.132096331752024, 45.91296113299599, 33.926390907374746, 28.478061731796284, 30.659419433511783, 33.555923471125034, 33.25657829663178, 33.91164991562634, 34.07345007480164, 38.62641583165593, 43.634848458542855, 51.10772935672255, 42.74342054632502, 39.44616584663204, 38.262252939417984, 35.79106033634656, 29.732137494637012, 27.0, 23.916521486202797, 20.518284528683193, 16.30950643030009, 12.68857754044952, 13.892443989449804, 21.213203435596427, 35.369478367654786, 45.4972526643093, 34.17601498127012, 27.910571473905726, 30.919249667480614, 34.46737587922817, 33.97057550292606, 34.52535300326414, 35.70714214271425, 39.08964057138413, 44.28317965096906, 51.30302135352264, 44.36214602563767, 39.949968710876355, 38.897300677553446, 36.27671429443411, 30.315012782448235, 27.440845468024488, 25.079872407968907, 20.83266665599966, 18.083141320025124, 13.601470508735444, 13.341664064126334, 19.390719429665317, 23.57965224510319, 23.57965224510319, 12.0, 13.820274961085254, 7.3484692283495345, 5.385164807134504, 4.242640687119285, 12.12435565298214, 24.0, 30.0, 37.22902093797257, 43.382023926967726, 35.04283093587046, 31.670175244226233, 23.280893453645632, 26.076809620810597, 24.55605831561735, 25.298221281347036, 24.186773244895647, 21.863211109075447, 18.601075237738275, 15.264337522473747, 12.083045973594572, 14.035668847618199, 19.697715603592208, 26.70205984563738, 28.0178514522438, 29.966648127543394, 31.559467676119, 32.802438933713454, 33.436506994600975, 34.39476704383968, 35.41186241925155, 36.16628264005025, 34.292856398964496, 32.46536616149585, 29.393876913398138, 27.83882181415011, 27.83882181415011, 27.422618401604176, 25.65151067676132, 26.43860813280457, 23.043437243605826, 21.213203435596427, 17.291616465790582, 12.165525060596439, 5.196152422706632, 7.416198487095663, 11.575836902790225, 8.602325267042627, 13.96424004376894, 18.16590212458495, 23.323807579381203, 25.099800796022265, 30.265491900843113, 31.016124838541646, 30.789608636681304, 19.621416870348583, 23.130067012440755, 25.514701644346147, 25.39685019840059, 24.979991993593593, 25.88435821108957, 25.0, 22.627416997969522, 20.83266665599966, 18.05547008526779, 13.564659966250536, 11.090536506409418, 10.816653826391969, 12.68857754044952, 20.8806130178211, 32.71085446759225, 43.45112196480086, 31.953090617340916, 27.76688675382964, 28.21347195933177, 27.147743920996454, 28.548204847240395, 28.948229652260256, 29.732137494637012, 32.69556544854363, 35.6931365951495, 44.57577817604534, 37.107950630558946, 32.03123475609393, 31.28897569432403, 30.099833886584822, 25.65151067676132, 22.090722034374522, 20.97617696340303, 16.822603841260722, 13.490737563232042, 12.24744871391589, 12.727922061357855, 19.849433241279208, 31.701734968294716, 43.393547907494266, 31.336879231984796, 26.153393661244042, 27.964262908219126, 29.68164415931166, 29.103264421710495, 30.04995840263344, 31.064449134018133, 33.31666249791537, 36.837480912787726, 45.5411901469428, 37.97367509209505, 34.438350715445125, 33.8673884437522, 30.789608636681304, 22.956480566497994, 17.146428199482248, 18.0, 16.941074346097416, 15.066519173319364, 12.083045973594572, 11.874342087037917, 20.049937655763422, 32.55764119219941, 43.669211121796096, 31.559467676119, 26.77685567799177, 28.600699292150182, 30.116440692751194, 31.352830813181765, 31.0322412983658, 31.52776554086889, 34.42382895611701, 38.23610858861032, 45.760244754590204, 38.82009788756334, 34.292856398964496, 32.69556544854363, 32.984845004941285, 28.24889378365107, 24.166091947189145, 22.891046284519195, 19.026297590440446, 15.556349186104045, 12.12435565298214, 12.409673645990857, 20.808652046684813, 32.48076353782343, 43.57751713900185, 31.796226191169293, 26.38181191654584, 29.189039038652847, 30.430248109405877, 31.11269837220809, 32.2490309931942, 33.075670817082454, 34.72751070837067, 39.61060464067672, 47.47630988187688, 39.50949253027682, 35.62302626111375, 34.597687784012386, 33.391615714128, 28.39013913315678, 25.337718918639855, 23.664319132398465, 19.209372712298546, 15.84297951775486, 12.884098726725126, 12.36931687685298, 20.074859899884732, 32.0, 43.657759905886145, 32.046840717924134, 27.40437921208944, 29.664793948382652, 31.984371183438952, 33.61547262794322, 34.058772731852805, 35.369478367654786, 37.73592452822641, 41.593268686170845, 48.104053883222775, 39.59797974644666, 35.24202037341219, 33.85262175962151, 33.25657829663178, 29.171904291629644, 0.0, 0.0, 0.0, 0.0, 0.0, 0.0, 0.0, 0.0, 0.0, 0.0, 0.0, 0.0, 0.0, 0.0, 0.0, 0.0, 0.0, 0.0, 0.0, 0.0, 0.0, 0.0, 0.0, 0.0, 26.832815729997478, 22.737634001804146, 19.44222209522358, 17.204650534085253, 13.711309200802088, 10.583005244258363, 11.874342087037917, 16.09347693943108, 21.93171219946131, 25.13961017995307, 27.331300737432898, 31.0322412983658, 33.83784863137726, 36.810324638611924, 38.87158345115362, 39.736632972611055, 41.10960958218893, 39.949968710876355, 36.53765181289022, 34.351128074635334, 32.817678162843876, 31.63858403911275, 30.199337741083, 25.612496949731394, 22.80350850198276, 18.601075237738275, 14.352700094407323, 12.68857754044952, 10.344080432788601, 12.884098726725126, 21.166010488516726, 33.391615714128, 44.44097208657794, 31.701734968294716, 28.106938645110393, 28.792360097775937, 31.160872901765767, 31.400636936215164, 31.51190251317746, 33.166247903554, 36.30426972134269, 40.792156108742276, 48.54894437575342, 40.22437072223753, 38.262252939417984, 35.90264614203248, 34.85685011586675, 28.792360097775937, 0.0, 0.0, 0.0, 0.0, 0.0, 0.0, 0.0, 0.0, 0.0, 0.0, 0.0, 0.0, 0.0, 0.0, 0.0, 0.0, 0.0, 0.0, 0.0, 0.0, 0.0, 0.0, 0.0, 0.0, 25.278449319529077, 20.248456731316587, 11.661903789690601, 6.324555320336759, 6.855654600401044, 8.426149773176359, 13.92838827718412, 22.93468988235943, 34.219877264537345, 27.202941017470888, 23.558437978779494, 24.657656011875904, 26.40075756488817, 28.24889378365107, 27.694764848252458, 29.120439557122072, 28.879058156387302, 33.391615714128, 36.701498607005135, 34.292856398964496, 32.58834147360065, 32.58834147360065, 31.670175244226233, 26.057628441590765, 19.87460691435179, 12.569805089976535, 11.045361017187261, 8.831760866327848, 7.0710678118654755, 7.0, 11.661903789690601, 13.19090595827292, 12.165525060596439, 7.483314773547883, 4.123105625617661, 5.0, 4.123105625617661, 4.242640687119285, 6.782329983125268, 7.483314773547883, 3.7416573867739413, 5.477225575051661, 6.324555320336759, 4.358898943540674, 3.4641016151377544, 4.58257569495584, 3.7416573867739413, 5.0990195135927845, 0.0, 0.0, 0.0, 0.0, 0.0, 0.0, 0.0, 0.0, 0.0, 0.0, 0.0, 0.0, 0.0, 0.0, 0.0, 0.0, 0.0, 0.0, 0.0, 0.0, 0.0, 0.0, 0.0, 0.0, 27.459060435491963, 26.057628441590765, 23.83275057562597, 19.28730152198591, 14.933184523068078, 11.704699910719626, 12.922847983320086, 17.578395831246947, 24.269322199023193, 25.059928172283335, 26.43860813280457, 27.712812921102035, 32.155870381627054, 33.075670817082454, 33.36165463522455, 35.05709628591621, 35.53871128783372, 37.134889255254286, 35.014282800023196, 30.93541659651604, 29.614185789921695, 29.103264421710495, 29.748949561287034, 26.0, 25.592967784139454, 22.759613353482084, 19.235384061671343, 17.72004514666935, 13.74772708486752, 10.535653752852738, 10.816653826391969, 15.0996688705415, 19.87460691435179, 23.958297101421877, 23.727621035409346, 24.041630560342615, 27.730849247724095, 27.53179979587241, 28.460498941515414, 28.844410203711913, 24.819347291981714, 25.69046515733026, 27.422618401604176, 26.1725046566048, 26.664583251946766, 26.248809496813376, 26.267851073127396, 23.53720459187964, 21.354156504062622, 18.547236990991408, 13.674794331177344, 11.045361017187261, 10.44030650891055, 12.569805089976535, 20.46948949045872, 31.68595903550972, 41.2189276910499, 30.512292604784715, 26.13426869074396, 28.0178514522438, 29.79932885150268, 29.816103031751148, 29.765752132274432, 32.92415526630866, 34.539832078341085, 38.36665218650175, 44.96665431183423, 38.28837943815329, 35.94440151122286, 34.48187929913333, 31.984371183438952, 26.49528259898354, 24.228082879171435, 22.06807649071391, 18.16590212458495, 14.317821063276353, 11.532562594670797, 12.727922061357855, 20.049937655763422, 32.64965543462902, 43.70354676682432, 31.464265445104548, 26.645825188948457, 28.089143810376278, 29.832867780352597, 30.199337741083, 30.463092423455635, 31.304951684997057, 34.46737587922817, 37.68288736283355, 46.46504062195577, 39.102429592034305, 34.75629439396553, 34.10278580995987, 33.555923471125034, 26.795522013948524, 24.73863375370596, 22.737634001804146, 18.083141320025124, 14.491376746189438, 12.806248474865697, 11.61895003862225, 19.026297590440446, 32.357379374726875, 43.77213725647858, 31.921779399024736, 27.910571473905726, 29.866369046136157, 31.0322412983658, 32.0624390837628, 31.63858403911275, 32.60368077380221, 33.71943060017473, 39.14077158156185, 46.9041575982343, 38.262252939417984, 35.62302626111375, 35.199431813596085, 32.77193921634788, 27.51363298439521, 24.698178070456937, 22.11334438749598, 17.69180601295413, 14.798648586948742, 12.409673645990857, 13.114877048604, 18.894443627691185, 29.715315916207253, 41.060930335295616, 36.05551275463989, 27.964262908219126, 27.748873851023216, 30.692018506445613, 29.715315916207253, 29.9833287011299, 31.160872901765767, 33.51119216023208, 37.62977544445356, 45.09988913511872, 38.05259518088089, 33.85262175962151, 33.51119216023208, 32.57299494980466, 26.851443164195103, 26.13426869074396, 22.80350850198276, 19.390719429665317, 16.186414056238647, 13.076696830622021, 12.288205727444508, 20.29778313018444, 30.643106892089126, 41.13392760240627, 31.480152477394387, 26.43860813280457, 28.879058156387302, 29.765752132274432, 30.331501776206203, 30.24896692450835, 31.54362059117501, 33.555923471125034, 36.68787265568828, 44.22668877499196, 36.09709129556009, 31.54362059117501, 30.116440692751194, 29.899832775452108, 26.210684844162312, 25.019992006393608, 24.43358344574123, 21.354156504062622, 16.97056274847714, 13.96424004376894, 11.357816691600547, 12.288205727444508, 17.74823934929885, 23.021728866442675, 25.37715508089904, 27.073972741361768, 28.809720581775867, 31.52776554086889, 32.202484376209235, 31.12876483254676, 31.906112267087632, 31.20897306865447, 32.109188716004645, 29.614185789921695, 27.110883423451916, 25.37715508089904, 26.1725046566048, 25.592967784139454, 24.0, 24.331050121192877, 21.047565179849187, 18.303005217723125, 16.06237840420901, 12.84523257866513, 9.591663046625438, 10.677078252031311, 13.820274961085254, 19.261360284258224, 21.37755832643195, 24.145392935299274, 25.39685019840059, 27.85677655436824, 30.083217912982647, 32.46536616149585, 32.357379374726875, 32.03123475609393, 32.2335229225724, 30.033314835362415, 27.54995462791182, 26.814175355583846, 26.115129714401192, 25.13961017995307, 23.065125189341593, 21.37755832643195, 16.64331697709324, 13.784048752090222, 11.532562594670797, 9.38083151964686, 12.922847983320086, 20.445048300260872, 31.480152477394387, 41.84495190581536, 29.816103031751148, 25.514701644346147, 27.294688127912362, 28.0178514522438, 28.0178514522438, 28.160255680657446, 28.965496715920477, 31.11269837220809, 35.11409973215888, 43.634848458542855, 36.11094017053558, 32.09361307176243, 31.921779399024736, 30.166206257996713, 25.079872407968907, 21.863211109075447, 20.54263858417414, 16.911534525287763, 14.212670403551895, 10.908712114635714, 11.874342087037917, 19.209372712298546, 30.56141357987225, 42.638011210655684, 30.903074280724887, 25.67099530598687, 26.43860813280457, 28.071337695236398, 28.24889378365107, 28.106938645110393, 29.34280150224242, 31.096623610932426, 35.62302626111375, 43.09292285283048, 36.29049462324811, 32.83291031876401, 31.937438845342623, 30.364452901377952, 19.44222209522358, 10.908712114635714, 12.609520212918492, 11.357816691600547, 10.583005244258363, 9.848857801796104, 10.862780491200215, 17.291616465790582, 28.071337695236398, 40.27406113120453, 29.444863728670914, 24.71841418861655, 25.475478405713993, 26.40075756488817, 24.95996794869737, 21.77154105707724, 23.45207879911715, 27.477263328068172, 33.18132004607411, 40.97560249709576, 33.36165463522455, 30.59411708155671, 28.948229652260256, 28.722813232690143, 23.895606290697042, 21.047565179849187, 19.544820285692065, 16.46207763315433, 12.806248474865697, 11.0, 11.532562594670797, 18.2208671582886, 29.120439557122072, 40.87786687193939, 29.715315916207253, 24.55605831561735, 25.37715508089904, 26.77685567799177, 26.038433132583073, 26.30589287593181, 26.758176320519304, 27.54995462791182, 33.18132004607411, 39.88734135035826, 32.12475680841802, 27.874719729532707, 27.54995462791182, 26.28687885618983, 22.090722034374522, 21.6794833886788, 20.024984394500787, 16.703293088490067, 13.820274961085254, 10.44030650891055, 11.357816691600547, 18.411952639521967, 26.962937525425527, 38.93584466786357, 28.284271247461902, 24.124676163629637, 25.199206336708304, 25.768197453450252, 27.03701166919155, 26.814175355583846, 27.422618401604176, 29.8496231131986, 33.18132004607411, 39.344631145812, 31.73326330524486, 27.694764848252458, 26.057628441590765, 27.0, 23.40939982143925, 22.338307903688676, 22.516660498395403, 18.303005217723125, 16.492422502470642, 12.288205727444508, 9.746794344808963, 8.888194417315589, 5.477225575051661, 5.744562646538029, 4.898979485566356, 7.874007874011811, 10.677078252031311, 12.922847983320086, 15.524174696260024, 17.26267650163207, 18.16590212458495, 20.8806130178211, 20.85665361461421, 20.639767440550294, 20.493901531919196, 18.681541692269406, 19.79898987322333, 19.8997487421324, 19.6468827043885, 20.493901531919196, 19.235384061671343, 16.881943016134134, 13.564659966250536, 11.74734012447073, 9.38083151964686, 8.660254037844387, 11.916375287812984, 15.811388300841896, 18.841443681416774, 20.73644135332772, 22.847319317591726, 26.457513110645905, 25.98076211353316, 27.874719729532707, 29.086079144497972, 29.5296461204668, 28.513154858766505, 25.748786379167466, 24.819347291981714, 23.874672772626646, 23.366642891095847, 22.271057451320086, 19.467922333931785, 19.672315572906, 14.628738838327793, 13.228756555322953, 10.908712114635714, 9.9498743710662, 10.723805294763608, 18.411952639521967, 28.61817604250837, 39.03844259188627, 28.19574435974337, 24.20743687382041, 25.357444666211933, 27.422618401604176, 26.795522013948524, 28.21347195933177, 28.178005607210743, 30.577769702841312, 34.0, 41.32795663954365, 34.36568055487916, 30.708305065568176, 30.903074280724887, 29.086079144497972, 23.727621035409346, 22.271057451320086, 20.199009876724155, 17.291616465790582, 13.527749258468683, 9.746794344808963, 11.832159566199232, 17.804493814764857, 28.548204847240395, 39.71145930332956, 28.284271247461902, 24.819347291981714, 24.95996794869737, 25.92296279363144, 25.903667693977237, 24.49489742783178, 25.80697580112788, 27.83882181415011, 32.14031735997639, 39.21734310225516, 31.984371183438952, 28.722813232690143, 27.874719729532707, 27.202941017470888, 24.351591323771842, 21.213203435596427, 20.83266665599966, 16.583123951777, 12.922847983320086, 11.313708498984761, 11.832159566199232, 16.941074346097416, 28.21347195933177, 39.242833740697165, 28.24889378365107, 24.145392935299274, 24.657656011875904, 25.199206336708304, 26.095976701399778, 25.98076211353316, 28.24889378365107, 28.42534080710379, 33.15116890850155, 39.191835884530846, 32.2335229225724, 29.017236257093817, 29.086079144497972, 28.35489375751565, 23.558437978779494, 22.737634001804146, 22.02271554554524, 17.86057109949175, 13.96424004376894, 10.344080432788601, 11.224972160321824, 18.110770276274835, 28.284271247461902, 40.43513323831146, 28.722813232690143, 24.392621835300936, 24.95996794869737, 25.709920264364882, 25.39685019840059, 25.84569596664017, 25.534290669607408, 27.349588662354687, 31.559467676119, 39.71145930332956, 32.03123475609393, 28.600699292150182, 28.142494558940577, 26.94438717061496, 23.643180835073778, 21.77154105707724, 21.354156504062622, 17.320508075688775, 14.594519519326424, 10.770329614269007, 12.206555615733702, 17.11724276862369, 27.386127875258307, 39.07684736515984, 28.442925306655784, 23.53720459187964, 25.337718918639855, 26.832815729997478, 27.202941017470888, 27.586228448267445, 27.712812921102035, 28.930952282978865, 32.357379374726875, 37.20215047547655, 31.670175244226233, 27.640549922170507, 26.343879744638983, 26.68332812825267, 24.166091947189145], \"xaxis\": \"x2\", \"yaxis\": \"y2\"}],\n",
              "                        {\"barmode\": \"relative\", \"legend\": {\"tracegroupgap\": 0}, \"template\": {\"data\": {\"bar\": [{\"error_x\": {\"color\": \"#2a3f5f\"}, \"error_y\": {\"color\": \"#2a3f5f\"}, \"marker\": {\"line\": {\"color\": \"#E5ECF6\", \"width\": 0.5}}, \"type\": \"bar\"}], \"barpolar\": [{\"marker\": {\"line\": {\"color\": \"#E5ECF6\", \"width\": 0.5}}, \"type\": \"barpolar\"}], \"carpet\": [{\"aaxis\": {\"endlinecolor\": \"#2a3f5f\", \"gridcolor\": \"white\", \"linecolor\": \"white\", \"minorgridcolor\": \"white\", \"startlinecolor\": \"#2a3f5f\"}, \"baxis\": {\"endlinecolor\": \"#2a3f5f\", \"gridcolor\": \"white\", \"linecolor\": \"white\", \"minorgridcolor\": \"white\", \"startlinecolor\": \"#2a3f5f\"}, \"type\": \"carpet\"}], \"choropleth\": [{\"colorbar\": {\"outlinewidth\": 0, \"ticks\": \"\"}, \"type\": \"choropleth\"}], \"contour\": [{\"colorbar\": {\"outlinewidth\": 0, \"ticks\": \"\"}, \"colorscale\": [[0.0, \"#0d0887\"], [0.1111111111111111, \"#46039f\"], [0.2222222222222222, \"#7201a8\"], [0.3333333333333333, \"#9c179e\"], [0.4444444444444444, \"#bd3786\"], [0.5555555555555556, \"#d8576b\"], [0.6666666666666666, \"#ed7953\"], [0.7777777777777778, \"#fb9f3a\"], [0.8888888888888888, \"#fdca26\"], [1.0, \"#f0f921\"]], \"type\": \"contour\"}], \"contourcarpet\": [{\"colorbar\": {\"outlinewidth\": 0, \"ticks\": \"\"}, \"type\": \"contourcarpet\"}], \"heatmap\": [{\"colorbar\": {\"outlinewidth\": 0, \"ticks\": \"\"}, \"colorscale\": [[0.0, \"#0d0887\"], [0.1111111111111111, \"#46039f\"], [0.2222222222222222, \"#7201a8\"], [0.3333333333333333, \"#9c179e\"], [0.4444444444444444, \"#bd3786\"], [0.5555555555555556, \"#d8576b\"], [0.6666666666666666, \"#ed7953\"], [0.7777777777777778, \"#fb9f3a\"], [0.8888888888888888, \"#fdca26\"], [1.0, \"#f0f921\"]], \"type\": \"heatmap\"}], \"heatmapgl\": [{\"colorbar\": {\"outlinewidth\": 0, \"ticks\": \"\"}, \"colorscale\": [[0.0, \"#0d0887\"], [0.1111111111111111, \"#46039f\"], [0.2222222222222222, \"#7201a8\"], [0.3333333333333333, \"#9c179e\"], [0.4444444444444444, \"#bd3786\"], [0.5555555555555556, \"#d8576b\"], [0.6666666666666666, \"#ed7953\"], [0.7777777777777778, \"#fb9f3a\"], [0.8888888888888888, \"#fdca26\"], [1.0, \"#f0f921\"]], \"type\": \"heatmapgl\"}], \"histogram\": [{\"marker\": {\"colorbar\": {\"outlinewidth\": 0, \"ticks\": \"\"}}, \"type\": \"histogram\"}], \"histogram2d\": [{\"colorbar\": {\"outlinewidth\": 0, \"ticks\": \"\"}, \"colorscale\": [[0.0, \"#0d0887\"], [0.1111111111111111, \"#46039f\"], [0.2222222222222222, \"#7201a8\"], [0.3333333333333333, \"#9c179e\"], [0.4444444444444444, \"#bd3786\"], [0.5555555555555556, \"#d8576b\"], [0.6666666666666666, \"#ed7953\"], [0.7777777777777778, \"#fb9f3a\"], [0.8888888888888888, \"#fdca26\"], [1.0, \"#f0f921\"]], \"type\": \"histogram2d\"}], \"histogram2dcontour\": [{\"colorbar\": {\"outlinewidth\": 0, \"ticks\": \"\"}, \"colorscale\": [[0.0, \"#0d0887\"], [0.1111111111111111, \"#46039f\"], [0.2222222222222222, \"#7201a8\"], [0.3333333333333333, \"#9c179e\"], [0.4444444444444444, \"#bd3786\"], [0.5555555555555556, \"#d8576b\"], [0.6666666666666666, \"#ed7953\"], [0.7777777777777778, \"#fb9f3a\"], [0.8888888888888888, \"#fdca26\"], [1.0, \"#f0f921\"]], \"type\": \"histogram2dcontour\"}], \"mesh3d\": [{\"colorbar\": {\"outlinewidth\": 0, \"ticks\": \"\"}, \"type\": \"mesh3d\"}], \"parcoords\": [{\"line\": {\"colorbar\": {\"outlinewidth\": 0, \"ticks\": \"\"}}, \"type\": \"parcoords\"}], \"pie\": [{\"automargin\": true, \"type\": \"pie\"}], \"scatter\": [{\"marker\": {\"colorbar\": {\"outlinewidth\": 0, \"ticks\": \"\"}}, \"type\": \"scatter\"}], \"scatter3d\": [{\"line\": {\"colorbar\": {\"outlinewidth\": 0, \"ticks\": \"\"}}, \"marker\": {\"colorbar\": {\"outlinewidth\": 0, \"ticks\": \"\"}}, \"type\": \"scatter3d\"}], \"scattercarpet\": [{\"marker\": {\"colorbar\": {\"outlinewidth\": 0, \"ticks\": \"\"}}, \"type\": \"scattercarpet\"}], \"scattergeo\": [{\"marker\": {\"colorbar\": {\"outlinewidth\": 0, \"ticks\": \"\"}}, \"type\": \"scattergeo\"}], \"scattergl\": [{\"marker\": {\"colorbar\": {\"outlinewidth\": 0, \"ticks\": \"\"}}, \"type\": \"scattergl\"}], \"scattermapbox\": [{\"marker\": {\"colorbar\": {\"outlinewidth\": 0, \"ticks\": \"\"}}, \"type\": \"scattermapbox\"}], \"scatterpolar\": [{\"marker\": {\"colorbar\": {\"outlinewidth\": 0, \"ticks\": \"\"}}, \"type\": \"scatterpolar\"}], \"scatterpolargl\": [{\"marker\": {\"colorbar\": {\"outlinewidth\": 0, \"ticks\": \"\"}}, \"type\": \"scatterpolargl\"}], \"scatterternary\": [{\"marker\": {\"colorbar\": {\"outlinewidth\": 0, \"ticks\": \"\"}}, \"type\": \"scatterternary\"}], \"surface\": [{\"colorbar\": {\"outlinewidth\": 0, \"ticks\": \"\"}, \"colorscale\": [[0.0, \"#0d0887\"], [0.1111111111111111, \"#46039f\"], [0.2222222222222222, \"#7201a8\"], [0.3333333333333333, \"#9c179e\"], [0.4444444444444444, \"#bd3786\"], [0.5555555555555556, \"#d8576b\"], [0.6666666666666666, \"#ed7953\"], [0.7777777777777778, \"#fb9f3a\"], [0.8888888888888888, \"#fdca26\"], [1.0, \"#f0f921\"]], \"type\": \"surface\"}], \"table\": [{\"cells\": {\"fill\": {\"color\": \"#EBF0F8\"}, \"line\": {\"color\": \"white\"}}, \"header\": {\"fill\": {\"color\": \"#C8D4E3\"}, \"line\": {\"color\": \"white\"}}, \"type\": \"table\"}]}, \"layout\": {\"annotationdefaults\": {\"arrowcolor\": \"#2a3f5f\", \"arrowhead\": 0, \"arrowwidth\": 1}, \"coloraxis\": {\"colorbar\": {\"outlinewidth\": 0, \"ticks\": \"\"}}, \"colorscale\": {\"diverging\": [[0, \"#8e0152\"], [0.1, \"#c51b7d\"], [0.2, \"#de77ae\"], [0.3, \"#f1b6da\"], [0.4, \"#fde0ef\"], [0.5, \"#f7f7f7\"], [0.6, \"#e6f5d0\"], [0.7, \"#b8e186\"], [0.8, \"#7fbc41\"], [0.9, \"#4d9221\"], [1, \"#276419\"]], \"sequential\": [[0.0, \"#0d0887\"], [0.1111111111111111, \"#46039f\"], [0.2222222222222222, \"#7201a8\"], [0.3333333333333333, \"#9c179e\"], [0.4444444444444444, \"#bd3786\"], [0.5555555555555556, \"#d8576b\"], [0.6666666666666666, \"#ed7953\"], [0.7777777777777778, \"#fb9f3a\"], [0.8888888888888888, \"#fdca26\"], [1.0, \"#f0f921\"]], \"sequentialminus\": [[0.0, \"#0d0887\"], [0.1111111111111111, \"#46039f\"], [0.2222222222222222, \"#7201a8\"], [0.3333333333333333, \"#9c179e\"], [0.4444444444444444, \"#bd3786\"], [0.5555555555555556, \"#d8576b\"], [0.6666666666666666, \"#ed7953\"], [0.7777777777777778, \"#fb9f3a\"], [0.8888888888888888, \"#fdca26\"], [1.0, \"#f0f921\"]]}, \"colorway\": [\"#636efa\", \"#EF553B\", \"#00cc96\", \"#ab63fa\", \"#FFA15A\", \"#19d3f3\", \"#FF6692\", \"#B6E880\", \"#FF97FF\", \"#FECB52\"], \"font\": {\"color\": \"#2a3f5f\"}, \"geo\": {\"bgcolor\": \"white\", \"lakecolor\": \"white\", \"landcolor\": \"#E5ECF6\", \"showlakes\": true, \"showland\": true, \"subunitcolor\": \"white\"}, \"hoverlabel\": {\"align\": \"left\"}, \"hovermode\": \"closest\", \"mapbox\": {\"style\": \"light\"}, \"paper_bgcolor\": \"white\", \"plot_bgcolor\": \"#E5ECF6\", \"polar\": {\"angularaxis\": {\"gridcolor\": \"white\", \"linecolor\": \"white\", \"ticks\": \"\"}, \"bgcolor\": \"#E5ECF6\", \"radialaxis\": {\"gridcolor\": \"white\", \"linecolor\": \"white\", \"ticks\": \"\"}}, \"scene\": {\"xaxis\": {\"backgroundcolor\": \"#E5ECF6\", \"gridcolor\": \"white\", \"gridwidth\": 2, \"linecolor\": \"white\", \"showbackground\": true, \"ticks\": \"\", \"zerolinecolor\": \"white\"}, \"yaxis\": {\"backgroundcolor\": \"#E5ECF6\", \"gridcolor\": \"white\", \"gridwidth\": 2, \"linecolor\": \"white\", \"showbackground\": true, \"ticks\": \"\", \"zerolinecolor\": \"white\"}, \"zaxis\": {\"backgroundcolor\": \"#E5ECF6\", \"gridcolor\": \"white\", \"gridwidth\": 2, \"linecolor\": \"white\", \"showbackground\": true, \"ticks\": \"\", \"zerolinecolor\": \"white\"}}, \"shapedefaults\": {\"line\": {\"color\": \"#2a3f5f\"}}, \"ternary\": {\"aaxis\": {\"gridcolor\": \"white\", \"linecolor\": \"white\", \"ticks\": \"\"}, \"baxis\": {\"gridcolor\": \"white\", \"linecolor\": \"white\", \"ticks\": \"\"}, \"bgcolor\": \"#E5ECF6\", \"caxis\": {\"gridcolor\": \"white\", \"linecolor\": \"white\", \"ticks\": \"\"}}, \"title\": {\"x\": 0.05}, \"xaxis\": {\"automargin\": true, \"gridcolor\": \"white\", \"linecolor\": \"white\", \"ticks\": \"\", \"title\": {\"standoff\": 15}, \"zerolinecolor\": \"white\", \"zerolinewidth\": 2}, \"yaxis\": {\"automargin\": true, \"gridcolor\": \"white\", \"linecolor\": \"white\", \"ticks\": \"\", \"title\": {\"standoff\": 15}, \"zerolinecolor\": \"white\", \"zerolinewidth\": 2}}}, \"title\": {\"text\": \"Probalility density of Square root transformation of Number of Rented Bikes\"}, \"xaxis\": {\"anchor\": \"y\", \"domain\": [0.0, 1.0], \"title\": {\"text\": \"x\"}}, \"xaxis2\": {\"anchor\": \"y2\", \"domain\": [0.0, 1.0], \"matches\": \"x\", \"showgrid\": true, \"showticklabels\": false}, \"yaxis\": {\"anchor\": \"x\", \"domain\": [0.0, 0.7326], \"title\": {\"text\": \"count\"}}, \"yaxis2\": {\"anchor\": \"x2\", \"domain\": [0.7426, 1.0], \"matches\": \"y2\", \"showgrid\": false, \"showline\": false, \"showticklabels\": false, \"ticks\": \"\"}},\n",
              "                        {\"responsive\": true}\n",
              "                    ).then(function(){\n",
              "                            \n",
              "var gd = document.getElementById('3324a647-162d-48b7-a660-2930d102e5c9');\n",
              "var x = new MutationObserver(function (mutations, observer) {{\n",
              "        var display = window.getComputedStyle(gd).display;\n",
              "        if (!display || display === 'none') {{\n",
              "            console.log([gd, 'removed!']);\n",
              "            Plotly.purge(gd);\n",
              "            observer.disconnect();\n",
              "        }}\n",
              "}});\n",
              "\n",
              "// Listen for the removal of the full notebook cells\n",
              "var notebookContainer = gd.closest('#notebook-container');\n",
              "if (notebookContainer) {{\n",
              "    x.observe(notebookContainer, {childList: true});\n",
              "}}\n",
              "\n",
              "// Listen for the clearing of the current output cell\n",
              "var outputEl = gd.closest('.output');\n",
              "if (outputEl) {{\n",
              "    x.observe(outputEl, {childList: true});\n",
              "}}\n",
              "\n",
              "                        })\n",
              "                };\n",
              "                \n",
              "            </script>\n",
              "        </div>\n",
              "</body>\n",
              "</html>"
            ]
          },
          "metadata": {}
        }
      ]
    },
    {
      "cell_type": "markdown",
      "metadata": {
        "id": "2UU4O9BFjSQA"
      },
      "source": [
        "#Exploring Categorical variables"
      ]
    },
    {
      "cell_type": "code",
      "metadata": {
        "colab": {
          "base_uri": "https://localhost:8080/"
        },
        "id": "bLFSkg7W7UYd",
        "outputId": "c93c94f3-987d-4d1b-958b-a3ec6d2950c0"
      },
      "source": [
        "bike_data.columns"
      ],
      "execution_count": 30,
      "outputs": [
        {
          "output_type": "execute_result",
          "data": {
            "text/plain": [
              "Index(['Date', 'Rented_Bike_Count', 'Hour', 'Temperature', 'Humidity',\n",
              "       'Wind_speed', 'Visibility', 'Dew_point_temperature', 'Solar_Radiation',\n",
              "       'Rainfall', 'Snowfall', 'Seasons', 'Holiday', 'Functioning_Day', 'Year',\n",
              "       'Day', 'Month', 'weekday', 'Months_string'],\n",
              "      dtype='object')"
            ]
          },
          "metadata": {},
          "execution_count": 30
        }
      ]
    },
    {
      "cell_type": "markdown",
      "metadata": {
        "id": "QSssGJXYzDUR"
      },
      "source": [
        "**Counting no. of sections in categorical features in dataset**"
      ]
    },
    {
      "cell_type": "code",
      "metadata": {
        "colab": {
          "base_uri": "https://localhost:8080/",
          "height": 296
        },
        "id": "UpDynyHezNsH",
        "outputId": "6e6396e2-be06-40b9-b1af-f41640495ff3"
      },
      "source": [
        "#count plot for diffrent seasons\n",
        "sns.countplot(x ='Seasons', data = bike_data)"
      ],
      "execution_count": 31,
      "outputs": [
        {
          "output_type": "execute_result",
          "data": {
            "text/plain": [
              "<matplotlib.axes._subplots.AxesSubplot at 0x7f5436afaad0>"
            ]
          },
          "metadata": {},
          "execution_count": 31
        },
        {
          "output_type": "display_data",
          "data": {
            "image/png": "[encoded data removed]",
            "text/plain": [
              "<Figure size 432x288 with 1 Axes>"
            ]
          },
          "metadata": {
            "needs_background": "light"
          }
        }
      ]
    },
    {
      "cell_type": "markdown",
      "metadata": {
        "id": "c-BWQvAAB1g2"
      },
      "source": [
        "In our dataset, information about all months are given."
      ]
    },
    {
      "cell_type": "code",
      "metadata": {
        "colab": {
          "base_uri": "https://localhost:8080/",
          "height": 296
        },
        "id": "gyiZ-mgCBuRO",
        "outputId": "53f7bebd-1359-48ac-e033-6f009eaf51c2"
      },
      "source": [
        "#comment for countplot for year\n",
        "sns.countplot(x ='Year', data = bike_data)\n"
      ],
      "execution_count": 33,
      "outputs": [
        {
          "output_type": "execute_result",
          "data": {
            "text/plain": [
              "<matplotlib.axes._subplots.AxesSubplot at 0x7f54366e7910>"
            ]
          },
          "metadata": {},
          "execution_count": 33
        },
        {
          "output_type": "display_data",
          "data": {
            "image/png": "[encoded data removed]",
            "text/plain": [
              "<Figure size 432x288 with 1 Axes>"
            ]
          },
          "metadata": {
            "needs_background": "light"
          }
        }
      ]
    },
    {
      "cell_type": "markdown",
      "metadata": {
        "id": "Ejv_80ayBcl-"
      },
      "source": [
        "Our dataset mostly contains information of year 2018 and very little information of year 2017."
      ]
    },
    {
      "cell_type": "markdown",
      "metadata": {
        "id": "k6W_-FiUAOjP"
      },
      "source": [
        "## **Finding relation between variables USING BAR PLOT**"
      ]
    },
    {
      "cell_type": "code",
      "metadata": {
        "id": "0UtKbg5bOwWt"
      },
      "source": [
        "#Finding relation betwwen seasons and rented bike count. telling us rented bike count on that season.\n",
        "# sns.set_style('darkgrid')\n",
        "sns.barplot(x ='Seasons', y ='Rented_Bike_Count', data = bike_data, palette ='tab10')\n"
      ],
      "execution_count": null,
      "outputs": []
    },
    {
      "cell_type": "markdown",
      "metadata": {
        "id": "yqCOs41GEOS2"
      },
      "source": [
        "Rented bike count is less in winter and almost consistantly higher in other months."
      ]
    },
    {
      "cell_type": "code",
      "metadata": {
        "id": "5QWyWwhzLzDy"
      },
      "source": [
        "#plot for the rented bike forweekday\n",
        "sns.barplot(x ='weekday', y ='Rented_Bike_Count', data = bike_data, palette ='tab10')\n"
      ],
      "execution_count": null,
      "outputs": []
    },
    {
      "cell_type": "markdown",
      "metadata": {
        "id": "kz6rNvqxMMMF"
      },
      "source": [
        "In all days, rented bike count is consistant and equal."
      ]
    },
    {
      "cell_type": "code",
      "metadata": {
        "id": "25jAAKrZLy9k"
      },
      "source": [
        "#holiday or not holiday plot\n",
        "sns.countplot(x ='Functioning_Day',hue = 'Holiday', data = bike_data)\n"
      ],
      "execution_count": null,
      "outputs": []
    },
    {
      "cell_type": "markdown",
      "metadata": {
        "id": "QAX9c469O3kD"
      },
      "source": [
        "We got to know all Holidays are falling into functioning days."
      ]
    },
    {
      "cell_type": "markdown",
      "metadata": {
        "id": "dsy-nieOLfHj"
      },
      "source": [
        "**Visualizing Seasons by comparing between holidays and no holidays.**"
      ]
    },
    {
      "cell_type": "markdown",
      "metadata": {
        "id": "-JxXqWO4K2Jd"
      },
      "source": [
        "#Exploring Numerical Variables"
      ]
    },
    {
      "cell_type": "code",
      "metadata": {
        "id": "5nVlkZ4JM2sE"
      },
      "source": [
        "bike_data.columns"
      ],
      "execution_count": null,
      "outputs": []
    },
    {
      "cell_type": "code",
      "metadata": {
        "id": "62zKXeJIM9KU"
      },
      "source": [
        "#selecting numerical features\n",
        "numerical_features = ['Hour', 'Temperature', 'Humidity',\n",
        "       'Wind_speed', 'Visibility', 'Dew_point_temperature', 'Solar_Radiation',\n",
        "       'Rainfall', 'Snowfall' ]"
      ],
      "execution_count": null,
      "outputs": []
    },
    {
      "cell_type": "code",
      "metadata": {
        "id": "5V7WGmcThTcI"
      },
      "source": [
        "# List of colors in the color palettes\n",
        "rgb_values = sns.color_palette(\"bright\")"
      ],
      "execution_count": null,
      "outputs": []
    },
    {
      "cell_type": "code",
      "metadata": {
        "id": "E_VA8-okhV_e"
      },
      "source": [
        "# Map continents to the colors\n",
        "color_map = dict(zip(numerical_features, rgb_values))"
      ],
      "execution_count": null,
      "outputs": []
    },
    {
      "cell_type": "code",
      "metadata": {
        "id": "ZopRRtb9hKsQ"
      },
      "source": [
        "#plot for numerical feature\n",
        "plt.rcParams['figure.figsize'] = (8, 6)\n",
        "for col, key in zip(numerical_features, color_map):\n",
        "  plt.figure()\n",
        "  sns.regplot(x=bike_data[col], y = bike_data['Rented_Bike_Count'],scatter_kws={\"color\": color_map[key]}, line_kws={\"color\": \"Red\"})"
      ],
      "execution_count": null,
      "outputs": []
    },
    {
      "cell_type": "markdown",
      "metadata": {
        "id": "ebebWncCjQ1P"
      },
      "source": [
        "Hour: Demand for bike is mostly in morning (7 to 8) and in the evening (3 to 9).\n",
        "\n",
        "Temperature : rented bike count is highest between 20 °C and 30 °C.\n",
        "\n",
        "Humidity : \n",
        "Humidity is the amount of water vapor in the air. So, People preferring to borrow bike When there is less humidity.\n",
        "\n",
        "Wind_speed :\n",
        "wind speed doesn't affect our data much.\n",
        "\n",
        "Visibility:\n",
        "Visibility doesn't affect our results much.\n",
        "\n",
        "SnowFall and Rainfall:\n",
        "People don't prefer borrowing bike, where there is rainfall or snowfall."
      ]
    },
    {
      "cell_type": "code",
      "metadata": {
        "id": "5pQANB3sayOS"
      },
      "source": [
        "# The dew point is the temperature the air needs to be cooled to (at constant pressure) in order to achieve a relative humidity."
      ],
      "execution_count": null,
      "outputs": []
    },
    {
      "cell_type": "markdown",
      "metadata": {
        "id": "87Y8cwRF1A7l"
      },
      "source": [
        "Finding Correlation of Dependent variable with other variables"
      ]
    },
    {
      "cell_type": "code",
      "metadata": {
        "id": "G4-29OLiv6a_"
      },
      "source": [
        "# bar plot between hr and rented bike count\n",
        "plt.figure(figsize=(10,8))\n",
        "sns.lineplot(x = bike_data['Hour'],y = bike_data['Rented_Bike_Count'])\n",
        "sns.barplot(x = bike_data['Hour'],y = bike_data['Rented_Bike_Count'], color=\"salmon\")\n"
      ],
      "execution_count": null,
      "outputs": []
    },
    {
      "cell_type": "code",
      "metadata": {
        "id": "wBZWXzzo2jCg"
      },
      "source": [
        "# group by Hrs and get average Bikes rented, and precent change\n",
        "avg_rent_hrs = bike_data.groupby('Hour')['Rented_Bike_Count'].mean()\n",
        "pct_rent_hrs = bike_data.groupby('Hour')['Rented_Bike_Count'].sum().pct_change()\n",
        "\n",
        "fig, (axis1,axis2) = plt.subplots(2,1,sharex=True,figsize=(15,8))\n",
        "\n",
        "# plot average rent over time(hrs)\n",
        "ax1 = avg_rent_hrs.plot(legend=True,ax=axis1,marker='o',title=\"Average Bikes Rented Per Hr\")\n",
        "ax1.set_xticks(range(len(avg_rent_hrs)))\n",
        "ax1.set_xticklabels(avg_rent_hrs.index.tolist(), rotation=85)\n",
        "\n",
        "# plot precent change for rent over time(hrs)\n",
        "ax2 = pct_rent_hrs.plot(legend=True,ax=axis2,marker='o',rot=85,colormap=\"summer\",title=\"Bike Rent Percent Change\")\n",
        "#ax1.set_xticks(range(len(avg_rent_hrs)))"
      ],
      "execution_count": null,
      "outputs": []
    },
    {
      "cell_type": "code",
      "metadata": {
        "id": "BMMLh_X3OwRg"
      },
      "source": [
        "# line plot seasonal varaition\n",
        "plt.figure(figsize=(12,4), dpi=100)\n",
        "sns.lineplot(data=bike_data, x=\"Hour\", y=\"Rented_Bike_Count\", hue=\"Seasons\")"
      ],
      "execution_count": null,
      "outputs": []
    },
    {
      "cell_type": "markdown",
      "metadata": {
        "id": "z7VYSr3GK2Cy"
      },
      "source": [
        "**#Relational Analysis - Findind correlation betwwen different variables**"
      ]
    },
    {
      "cell_type": "code",
      "metadata": {
        "id": "F8gl0nCWTvPb"
      },
      "source": [
        "#correlation data\n",
        "np.round(bike_data.corr()['Rented_Bike_Count'],3)"
      ],
      "execution_count": null,
      "outputs": []
    },
    {
      "cell_type": "markdown",
      "metadata": {
        "id": "FMeTuwY744KO"
      },
      "source": [
        "let's drop some columns which are not important"
      ]
    },
    {
      "cell_type": "code",
      "metadata": {
        "id": "VdQSo5E0DEG0"
      },
      "source": [
        "# dropping the non-perfoming column\n",
        "bike_data.drop('Months_string',axis=1,inplace=True)\n",
        "bike_data.drop('Date',axis=1,inplace=True)"
      ],
      "execution_count": null,
      "outputs": []
    },
    {
      "cell_type": "code",
      "metadata": {
        "id": "UclQCXrAOwUF"
      },
      "source": [
        "import seaborn as sns\n",
        "#get correlations of each features in dataset\n",
        "corrmat = bike_data.corr()\n",
        "top_corr_features = corrmat.index\n",
        "plt.figure(figsize=(14,11))\n",
        "#plot heat map\n",
        "g=sns.heatmap(bike_data[top_corr_features].corr(),annot=True,cmap=\"RdYlGn\",center=0.3)"
      ],
      "execution_count": null,
      "outputs": []
    },
    {
      "cell_type": "markdown",
      "metadata": {
        "id": "XGsLINh8f9Dc"
      },
      "source": [
        "* Temperature and Dew point temperature are highly correlated. We can add them to make one single column\n"
      ]
    },
    {
      "cell_type": "code",
      "metadata": {
        "id": "t8fjYUYCf3Yv"
      },
      "source": [
        "# creating new  feature\n",
        "bike_data['Temperature_and_DP_Temp'] = [bike_data['Temperature'][i]+bike_data['Dew_point_temperature'][i] for i in range(len(bike_data))]\n",
        "bike_data.drop(['Temperature','Dew_point_temperature'],axis=1,inplace=True)\n"
      ],
      "execution_count": null,
      "outputs": []
    },
    {
      "cell_type": "code",
      "metadata": {
        "id": "Cf0tWE3rf4Py"
      },
      "source": [
        "#correlation plot\n",
        "corrmat = bike_data.corr()\n",
        "top_corr_features = corrmat.index\n",
        "plt.figure(figsize=(14,11))\n",
        "#plot heat map\n",
        "g=sns.heatmap(bike_data[top_corr_features].corr(),annot=True,cmap=\"RdYlGn\",center=0.3)"
      ],
      "execution_count": null,
      "outputs": []
    },
    {
      "cell_type": "code",
      "metadata": {
        "id": "TP5DGFVcf4J0"
      },
      "source": [
        "#creating dummies column for the given feature\n",
        "bike_data=pd.get_dummies(bike_data,drop_first=True)\n"
      ],
      "execution_count": null,
      "outputs": []
    },
    {
      "cell_type": "code",
      "metadata": {
        "id": "LP2zrtbRf4HC"
      },
      "source": [
        "# table after feature engineering\n",
        "bike_data.head()"
      ],
      "execution_count": null,
      "outputs": []
    },
    {
      "cell_type": "code",
      "metadata": {
        "id": "cGdzJ0z8OwO8"
      },
      "source": [
        "# removing less importance column\n",
        "bike_data.drop('weekday',axis=1,inplace=True)"
      ],
      "execution_count": null,
      "outputs": []
    },
    {
      "cell_type": "code",
      "metadata": {
        "id": "zj-Uw8XBl86K"
      },
      "source": [
        "bike_data.head()"
      ],
      "execution_count": null,
      "outputs": []
    },
    {
      "cell_type": "code",
      "metadata": {
        "id": "j9J4MzvW8vHL"
      },
      "source": [
        "# shape of the data\n",
        "bike_data.shape"
      ],
      "execution_count": null,
      "outputs": []
    },
    {
      "cell_type": "markdown",
      "metadata": {
        "id": "sKG44Ac5n6U5"
      },
      "source": [
        "# **Model Building**"
      ]
    },
    {
      "cell_type": "code",
      "metadata": {
        "id": "aMkr8XCRVgWT"
      },
      "source": [
        "# Data for all the independent variables\n",
        "X = bike_data.drop(labels='Rented_Bike_Count',axis=1)\n",
        "\n",
        "# Data for the dependent variable\n",
        "\n",
        "y = np.sqrt(bike_data['Rented_Bike_Count'])\n",
        "y.head()"
      ],
      "execution_count": null,
      "outputs": []
    },
    {
      "cell_type": "code",
      "metadata": {
        "id": "ZWX4ZpCa8wsY"
      },
      "source": [
        "# Feature Importance\n",
        "\n",
        "from sklearn.ensemble import ExtraTreesRegressor\n",
        "import matplotlib.pyplot as plt\n",
        "model = ExtraTreesRegressor()\n",
        "model.fit(X,y)"
      ],
      "execution_count": null,
      "outputs": []
    },
    {
      "cell_type": "code",
      "metadata": {
        "id": "_r-thPZV9Tl-"
      },
      "source": [
        "print(model.feature_importances_)\n"
      ],
      "execution_count": null,
      "outputs": []
    },
    {
      "cell_type": "code",
      "metadata": {
        "id": "HuXpiA1Z9Z8Y"
      },
      "source": [
        "\n",
        "#plot graph of feature importances for better visualization\n",
        "feat_importances = pd.Series(model.feature_importances_, index=X.columns)\n",
        "feat_importances.nlargest(5).plot(kind='barh')\n",
        "plt.show()"
      ],
      "execution_count": null,
      "outputs": []
    },
    {
      "cell_type": "markdown",
      "metadata": {
        "id": "yvHsWxk16axe"
      },
      "source": [
        "#Train Test Split Model"
      ]
    },
    {
      "cell_type": "code",
      "metadata": {
        "id": "SNBznrxNwni4"
      },
      "source": [
        "#import train-test split lib\n",
        "from sklearn.model_selection import train_test_split"
      ],
      "execution_count": null,
      "outputs": []
    },
    {
      "cell_type": "code",
      "metadata": {
        "id": "FI3USyjYw9ZD"
      },
      "source": [
        "# function which split data into train and test\n",
        "X_train,X_test,y_train,y_test=train_test_split(X,y,test_size=0.2,random_state=34)"
      ],
      "execution_count": null,
      "outputs": []
    },
    {
      "cell_type": "code",
      "metadata": {
        "id": "IxClbWO-xBqS"
      },
      "source": [
        "print(X_train.shape,y_train.shape)\n",
        "print(X_test.shape,y_test.shape)"
      ],
      "execution_count": null,
      "outputs": []
    },
    {
      "cell_type": "markdown",
      "metadata": {
        "id": "T2VACivpyhmN"
      },
      "source": [
        "## **In this project we are using four model on our data set for getting best performance:-**\n",
        "\n",
        "LINEAR REGRESION \n",
        "\n",
        "LASSO REGRESSION\n",
        "\n",
        "RIDGE REGRESSION\n",
        "\n",
        "GRADIENT BOOSTING\n",
        "\n",
        "DECISION TREE\n",
        "\n",
        "RANDOM FORREST \n",
        "\n",
        "XGBOOST"
      ]
    },
    {
      "cell_type": "markdown",
      "metadata": {
        "id": "oaCVrFsM8wjD"
      },
      "source": [
        "#Linear Regression Model\n",
        "\n",
        "For linear regression we have some assumptions, given below are the basic assumptions that a linear regression model makes regarding a dataset on which it is applied:(rewrite)\n",
        "\n",
        "* **Linear relationship**: Relationship between response and feature variables should be linear. The linearity assumption can be tested using scatter plots.\n",
        "* **Little or no multi-collinearity**: It is assumed that there is little or no multicollinearity in the data. Multicollinearity occurs when the features (or independent variables) are not independent from each other.\n",
        "* **Little or no auto-correlation**: Another assumption is that there is little or no autocorrelation in the data. Autocorrelation occurs when the residual errors are not independent from each other.\n",
        "* **Homoscedasticity**: Homoscedasticity describes a situation in which the error term (that is, the “noise” or random disturbance in the relationship between the independent variables and the dependent variable) is the same across all values of the independent"
      ]
    },
    {
      "cell_type": "code",
      "metadata": {
        "id": "v0W_7vIB-Djh"
      },
      "source": [
        "from sklearn.linear_model import LinearRegression\n",
        "reg= LinearRegression().fit(X_train, y_train)"
      ],
      "execution_count": null,
      "outputs": []
    },
    {
      "cell_type": "code",
      "metadata": {
        "id": "doiG4pS8-Dg5"
      },
      "source": [
        "# all coeffient\n",
        "reg.score(X_train, y_train)"
      ],
      "execution_count": null,
      "outputs": []
    },
    {
      "cell_type": "code",
      "metadata": {
        "id": "S96eNzaQ6QZo"
      },
      "source": [
        "reg.coef_"
      ],
      "execution_count": null,
      "outputs": []
    },
    {
      "cell_type": "code",
      "metadata": {
        "id": "CTavS2uY6gqw"
      },
      "source": [
        "# pred train test\n",
        "y_pred_train=reg.predict(X_train)\n",
        "y_pred_test=reg.predict(X_test)"
      ],
      "execution_count": null,
      "outputs": []
    },
    {
      "cell_type": "code",
      "metadata": {
        "id": "Om0XH_bs6jYp"
      },
      "source": [
        "#metrics for linear regession analysis\n",
        "from sklearn.metrics import mean_squared_error\n",
        "MSE= mean_squared_error((y_train), (y_pred_train))\n",
        "print(\"MSE :\",MSE)\n",
        "\n",
        "RMSE=np.sqrt(MSE)\n",
        "print(\"RMSE :\",RMSE)\n",
        "\n",
        "\n",
        "\n",
        "\n",
        "from sklearn.metrics import r2_score\n",
        "r2= r2_score(y_train, y_pred_train)\n",
        "print(\"R2 :\",r2)\n",
        "print(\"Adjusted R2 :\",1-(1-r2_score(y_train, y_pred_train))*((X_test.shape[0]-1)/(X_test.shape[0]-X_test.shape[1]-1)) )"
      ],
      "execution_count": null,
      "outputs": []
    },
    {
      "cell_type": "code",
      "metadata": {
        "id": "VqT-qrHUDxqL"
      },
      "source": [
        "#metrics for linear regession analysis for test dataset\n",
        "from sklearn.metrics import mean_squared_error\n",
        "MSE= mean_squared_error((y_test), (y_pred_test))\n",
        "print(\"MSE :\",MSE)\n",
        "\n",
        "RMSE=np.sqrt(MSE)\n",
        "print(\"RMSE :\",RMSE)\n",
        "r2= r2_score(y_test, y_pred_test)\n",
        "print(\"R2 :\",r2)\n",
        "print(\"Adjusted R2 :\",1-(1-r2_score(y_test, y_pred_test))*((X_test.shape[0]-1)/(X_test.shape[0]-X_test.shape[1]-1)) )"
      ],
      "execution_count": null,
      "outputs": []
    },
    {
      "cell_type": "code",
      "metadata": {
        "id": "ybDb1Sht60-r"
      },
      "source": [
        "#predicted vs actual for test data\n",
        "plt.figure(figsize=(10,5))\n",
        "plt.plot(np.array(y_pred_test))\n",
        "plt.plot(np.array((y_test)))\n",
        "plt.legend([\"Predicted\",\"Actual\"])\n",
        "plt.show()"
      ],
      "execution_count": null,
      "outputs": []
    },
    {
      "cell_type": "code",
      "metadata": {
        "id": "a1EmZscN7VAk"
      },
      "source": [
        "# Heteroscadacity\n",
        "plt.scatter((y_pred_test),(y_test)-(y_pred_test))"
      ],
      "execution_count": null,
      "outputs": []
    },
    {
      "cell_type": "markdown",
      "metadata": {
        "id": "DJZfvn_J8AtT"
      },
      "source": [
        "# Implementing lasso Regression"
      ]
    },
    {
      "cell_type": "code",
      "metadata": {
        "id": "CFT9aZcr7pvr"
      },
      "source": [
        "from sklearn.linear_model import Lasso\n",
        "lasso=Lasso(alpha=0.1,max_iter=3000)\n",
        "lasso.fit(X_train,y_train)"
      ],
      "execution_count": null,
      "outputs": []
    },
    {
      "cell_type": "code",
      "metadata": {
        "id": "1mOlY_3D9kKD"
      },
      "source": [
        "lasso.score(X_train, y_train)"
      ],
      "execution_count": null,
      "outputs": []
    },
    {
      "cell_type": "code",
      "metadata": {
        "id": "n8HK5rev9wJ1"
      },
      "source": [
        "# lasso y pred test and train\n",
        "y_pred_train_lasso=lasso.predict(X_train)\n",
        "y_pred_test_lasso=lasso.predict(X_test)"
      ],
      "execution_count": null,
      "outputs": []
    },
    {
      "cell_type": "code",
      "metadata": {
        "id": "m3ssXN9H98nw"
      },
      "source": [
        "# mterics for lasso regressor flor train dataset\n",
        "from sklearn.metrics import mean_squared_error\n",
        "MSE= mean_squared_error((y_train), (y_pred_train_lasso))\n",
        "print(\"MSE :\",MSE)\n",
        "\n",
        "RMSE=np.sqrt(MSE)\n",
        "print(\"RMSE :\",RMSE)\n",
        "from sklearn.metrics import r2_score\n",
        "r2= r2_score(y_train, y_pred_train_lasso)\n",
        "print(\"R2 :\",r2)\n",
        "print(\"Adjusted R2 :\",1-(1-r2_score(y_train, y_pred_train_lasso))*((X_test.shape[0]-1)/(X_test.shape[0]-X_test.shape[1]-1)) )"
      ],
      "execution_count": null,
      "outputs": []
    },
    {
      "cell_type": "code",
      "metadata": {
        "id": "VYB3Jk-EjtLj"
      },
      "source": [
        "# mterics for lasso regressor flor test dataset\n",
        "from sklearn.metrics import mean_squared_error\n",
        "MSE= mean_squared_error((y_test), (y_pred_test_lasso))\n",
        "print(\"MSE :\",MSE)\n",
        "\n",
        "RMSE=np.sqrt(MSE)\n",
        "print(\"RMSE :\",RMSE)\n",
        "from sklearn.metrics import r2_score\n",
        "r2= r2_score(y_test, y_pred_test_lasso)\n",
        "print(\"R2 :\",r2)\n",
        "print(\"Adjusted R2 :\",1-(1-r2_score(y_test, y_pred_test_lasso))*((X_test.shape[0]-1)/(X_test.shape[0]-X_test.shape[1]-1)) )"
      ],
      "execution_count": null,
      "outputs": []
    },
    {
      "cell_type": "code",
      "metadata": {
        "id": "YSvX8Oza-DLA"
      },
      "source": [
        "plt.figure(figsize=(8,5))\n",
        "plt.plot(np.array(y_pred_test_lasso))\n",
        "plt.plot(np.array((y_test)))\n",
        "plt.legend([\"Predicted\",\"Actual\"])\n",
        "plt.show()"
      ],
      "execution_count": null,
      "outputs": []
    },
    {
      "cell_type": "code",
      "metadata": {
        "id": "Wn8uDtxT_N-h"
      },
      "source": [
        "# Heteroscadacity\n",
        "plt.scatter((y_pred_test_lasso),(y_test-y_pred_test_lasso))"
      ],
      "execution_count": null,
      "outputs": []
    },
    {
      "cell_type": "markdown",
      "metadata": {
        "id": "uZBi8ATW_-Zj"
      },
      "source": [
        "# Implementing Ridge Regression"
      ]
    },
    {
      "cell_type": "code",
      "metadata": {
        "id": "Pwk0Jj0-_ZqH"
      },
      "source": [
        "#importing ridge regression\n",
        "from sklearn.linear_model import Ridge\n",
        "\n",
        "ridge= Ridge(alpha=0.1)\n",
        "ridge.fit(X_train,y_train)"
      ],
      "execution_count": null,
      "outputs": []
    },
    {
      "cell_type": "code",
      "metadata": {
        "id": "QA8ucMr3AKWK"
      },
      "source": [
        "# ridge score\n",
        "ridge.score(X_train, y_train)"
      ],
      "execution_count": null,
      "outputs": []
    },
    {
      "cell_type": "code",
      "metadata": {
        "id": "pxRpP725AQU0"
      },
      "source": [
        "#y pred  ridge test and train\n",
        "y_pred_train_ridge=ridge.predict(X_train)\n",
        "y_pred_test_ridge=ridge.predict(X_test)"
      ],
      "execution_count": null,
      "outputs": []
    },
    {
      "cell_type": "code",
      "metadata": {
        "id": "zYMLmsz5AU4p"
      },
      "source": [
        "# metrics for ridge regression\n",
        "from sklearn.metrics import mean_squared_error\n",
        "MSE= mean_squared_error((y_train), (y_pred_train_ridge))\n",
        "print(\"MSE :\",MSE)\n",
        "\n",
        "RMSE=np.sqrt(MSE)\n",
        "print(\"RMSE :\",RMSE)\n",
        "\n",
        "\n",
        "from sklearn.metrics import r2_score\n",
        "r2= r2_score(y_train, y_pred_train_ridge)\n",
        "print(\"R2 :\",r2)\n",
        "print(\"Adjusted R2 :\",1-(1-r2_score(y_train, y_pred_train_ridge))*((X_test.shape[0]-1)/(X_test.shape[0]-X_test.shape[1]-1)) )"
      ],
      "execution_count": null,
      "outputs": []
    },
    {
      "cell_type": "code",
      "metadata": {
        "id": "pMK6EcUqn8bR"
      },
      "source": [
        "# metrics for ridge regression for test\n",
        "from sklearn.metrics import mean_squared_error\n",
        "MSE= mean_squared_error((y_test), (y_pred_test_ridge))\n",
        "print(\"MSE :\",MSE)\n",
        "\n",
        "RMSE=np.sqrt(MSE)\n",
        "print(\"RMSE :\",RMSE)\n",
        "\n",
        "\n",
        "from sklearn.metrics import r2_score\n",
        "r2= r2_score(y_test, y_pred_test_ridge)\n",
        "print(\"R2 :\",r2)\n",
        "print(\"Adjusted R2 :\",1-(1-r2_score(y_test, y_pred_test_ridge))*((X_test.shape[0]-1)/(X_test.shape[0]-X_test.shape[1]-1)) )"
      ],
      "execution_count": null,
      "outputs": []
    },
    {
      "cell_type": "code",
      "metadata": {
        "id": "YL9ErQmaAthQ"
      },
      "source": [
        "#plot for ridge \n",
        "plt.figure(figsize=(8,5))\n",
        "plt.plot((y_pred_test_ridge))\n",
        "plt.plot((np.array(y_test)))\n",
        "plt.legend([\"Predicted\",\"Actual\"])\n",
        "plt.show()"
      ],
      "execution_count": null,
      "outputs": []
    },
    {
      "cell_type": "code",
      "metadata": {
        "id": "S72Rd-GUA9a8"
      },
      "source": [
        "# Heteroscadacity\n",
        "plt.scatter((y_pred_test_ridge),(y_test)-(y_pred_test_ridge))"
      ],
      "execution_count": null,
      "outputs": []
    },
    {
      "cell_type": "markdown",
      "metadata": {
        "id": "apwAtFkXCSdu"
      },
      "source": [
        "# Implementing Elastic Net Regressor"
      ]
    },
    {
      "cell_type": "code",
      "metadata": {
        "id": "F3XUqMsgBOtm"
      },
      "source": [
        "#importing elasticnet model\n",
        "from sklearn.linear_model import ElasticNet\n",
        "elasticnet = ElasticNet(alpha=0.1, l1_ratio=0.5)\n",
        "#a*l1+b*l2\n",
        "#alpha=a+b and l1 ratio=a/a+b\n",
        "elasticnet.fit(X_train,y_train)"
      ],
      "execution_count": null,
      "outputs": []
    },
    {
      "cell_type": "code",
      "metadata": {
        "id": "FfJ3OrHpDA74"
      },
      "source": [
        "#elastic net score\n",
        "\n",
        "elasticnet.score(X_train, y_train)"
      ],
      "execution_count": null,
      "outputs": []
    },
    {
      "cell_type": "code",
      "metadata": {
        "id": "ySOU04ICDd-E"
      },
      "source": [
        "#y_predict for train and test dataset\n",
        "y_pred_train_en=elasticnet.predict(X_train)\n",
        "y_pred_test_en=elasticnet.predict(X_test)"
      ],
      "execution_count": null,
      "outputs": []
    },
    {
      "cell_type": "code",
      "metadata": {
        "id": "vf96CIO9fq-g"
      },
      "source": [
        ""
      ],
      "execution_count": null,
      "outputs": []
    },
    {
      "cell_type": "code",
      "metadata": {
        "id": "WA0-msblDhtB"
      },
      "source": [
        "#metris for the elasticnet regression on train\n",
        "from sklearn.metrics import mean_squared_error\n",
        "MSE= mean_squared_error((y_train), (y_pred_train_en))\n",
        "print(\"MSE :\",MSE)\n",
        "\n",
        "RMSE=np.sqrt(MSE)\n",
        "print(\"RMSE :\",RMSE)\n",
        "\n",
        "\n",
        "from sklearn.metrics import r2_score\n",
        "r2= r2_score(y_train, y_pred_train_en)\n",
        "print(\"R2 :\",r2)\n",
        "print(\"Adjusted R2 :\",1-(1-r2_score(y_train, y_pred_train_en))*((X_test.shape[0]-1)/(X_test.shape[0]-X_test.shape[1]-1)) )"
      ],
      "execution_count": null,
      "outputs": []
    },
    {
      "cell_type": "code",
      "metadata": {
        "id": "rF4uNTTXD_eZ"
      },
      "source": [
        "#metris for the elasticnet regression on test\n",
        "from sklearn.metrics import mean_squared_error\n",
        "MSE= mean_squared_error((y_test), (y_pred_test_en))\n",
        "print(\"MSE :\",MSE)\n",
        "\n",
        "RMSE=np.sqrt(MSE)\n",
        "print(\"RMSE :\",RMSE)\n",
        "\n",
        "from sklearn.metrics import r2_score\n",
        "r2= r2_score(y_test, y_pred_test_en)\n",
        "print(\"R2 :\",r2)\n",
        "print(\"Adjusted R2 :\",1-(1-r2_score(y_test, y_pred_test_en))*((X_test.shape[0]-1)/(X_test.shape[0]-X_test.shape[1]-1)) )"
      ],
      "execution_count": null,
      "outputs": []
    },
    {
      "cell_type": "code",
      "metadata": {
        "id": "IPwVkmBhEO-h"
      },
      "source": [
        "#plot for pred vs actual for test\n",
        "plt.figure(figsize=(8,5))\n",
        "plt.plot(np.array(y_pred_test_en))\n",
        "plt.plot((np.array(y_test)))\n",
        "plt.legend([\"Predicted\",\"Actual\"])\n",
        "plt.show()"
      ],
      "execution_count": null,
      "outputs": []
    },
    {
      "cell_type": "code",
      "metadata": {
        "id": "KsimKVhKEh_2"
      },
      "source": [
        "#Heteroscadacity\n",
        "plt.scatter((y_pred_test_en),(y_test)-(y_pred_test_en))"
      ],
      "execution_count": null,
      "outputs": []
    },
    {
      "cell_type": "markdown",
      "metadata": {
        "id": "bPbUYuguFKFm"
      },
      "source": [
        "# Implementing of decision tree by using decision tree regressor"
      ]
    },
    {
      "cell_type": "code",
      "metadata": {
        "id": "IHVmJBF4Emvy"
      },
      "source": [
        "decision_regressor = DecisionTreeRegressor(criterion='mse', max_depth=8,\n",
        "                      max_features=9, max_leaf_nodes=100,)\n",
        "decision_regressor.fit(X_train, y_train)"
      ],
      "execution_count": null,
      "outputs": []
    },
    {
      "cell_type": "code",
      "metadata": {
        "id": "OiHGV8ofGV34"
      },
      "source": [
        "#y pred for test and train data\n",
        "y_pred_train_dt = decision_regressor.predict(X_train)\n",
        "y_pred_test_dt = decision_regressor.predict(X_test)"
      ],
      "execution_count": null,
      "outputs": []
    },
    {
      "cell_type": "code",
      "metadata": {
        "id": "cWPJvpjrGjkU"
      },
      "source": [
        "#metric for decison tree for train data\n",
        "from sklearn.metrics import mean_squared_error\n",
        "print(\"Model Score:\",decision_regressor.score(X_train,y_train))\n",
        "\n",
        "MSE= mean_squared_error(y_train, y_pred_train_dt)\n",
        "print(\"MSE :\",MSE)\n",
        "\n",
        "RMSE=np.sqrt(MSE)\n",
        "print(\"RMSE :\",RMSE)\n",
        "\n",
        "from sklearn.metrics import r2_score\n",
        "r2= r2_score(y_train, y_pred_train_dt)\n",
        "print(\"R2 :\",r2)\n",
        "print(\"Adjusted R2 :\",1-(1-r2_score(y_train, y_pred_train_dt))*((X_test.shape[0]-1)/(X_test.shape[0]-X_test.shape[1]-1)) )"
      ],
      "execution_count": null,
      "outputs": []
    },
    {
      "cell_type": "code",
      "metadata": {
        "id": "mr5piIf-Gzee"
      },
      "source": [
        "#metric for decison tree for test data\n",
        "from sklearn.metrics import mean_squared_error\n",
        "MSE= mean_squared_error(y_test, y_pred_test_dt)\n",
        "print(\"MSE :\",MSE)\n",
        "\n",
        "RMSE=np.sqrt(MSE)\n",
        "print(\"RMSE :\",RMSE)\n",
        "\n",
        "from sklearn.metrics import r2_score\n",
        "r2= r2_score((y_test), (y_pred_test_dt))\n",
        "print(\"R2 :\",r2)\n",
        "print(\"Adjusted R2 :\",1-(1-r2_score((y_test), (y_pred_test_dt)))*((X_test.shape[0]-1)/(X_test.shape[0]-X_test.shape[1]-1)) )"
      ],
      "execution_count": null,
      "outputs": []
    },
    {
      "cell_type": "code",
      "metadata": {
        "id": "l52q5Q_ZG52Q"
      },
      "source": [
        "#pred vs actual for decision tree\n",
        "plt.figure(figsize=(8,5))\n",
        "plt.plot((np.array(y_pred_test_dt)))\n",
        "plt.plot(np.array((y_test)))\n",
        "plt.legend([\"Predicted\",\"Actual\"])\n",
        "plt.show()"
      ],
      "execution_count": null,
      "outputs": []
    },
    {
      "cell_type": "code",
      "metadata": {
        "id": "moFHXkMpH9ys"
      },
      "source": [
        "# Heteroscadacity\n",
        "plt.scatter((y_pred_test_dt),(y_test)-(y_pred_test_dt))"
      ],
      "execution_count": null,
      "outputs": []
    },
    {
      "cell_type": "markdown",
      "metadata": {
        "id": "fpB6gyWMIh-M"
      },
      "source": [
        "# Visualization of decision tree"
      ]
    },
    {
      "cell_type": "code",
      "metadata": {
        "id": "60H-lz1JIKOz"
      },
      "source": [
        "# decision tree visualization\n",
        "graph = Source(tree.export_graphviz(decision_regressor, out_file=None\n",
        "   , feature_names=X_train.columns, class_names=['0', '1'] \n",
        "   , filled = True))\n",
        "display(SVG(graph.pipe(format='svg')))"
      ],
      "execution_count": null,
      "outputs": []
    },
    {
      "cell_type": "markdown",
      "metadata": {
        "id": "WFjNmTDkG3Ky"
      },
      "source": [
        "# Implementing Random forrest Rergressor"
      ]
    },
    {
      "cell_type": "code",
      "metadata": {
        "id": "D6f2iA8wHBnN"
      },
      "source": [
        "#creating an instance for the random forest\n",
        "rf_model=RandomForestRegressor()\n",
        "rf_model.fit(X_train,y_train)"
      ],
      "execution_count": null,
      "outputs": []
    },
    {
      "cell_type": "code",
      "metadata": {
        "id": "D_Ff7cMWH4Uo"
      },
      "source": [
        "# Making predictions on train and test data in rf\n",
        "\n",
        "y_pred_train_rf = rf_model.predict(X_train)\n",
        "y_pred_test_rf = rf_model.predict(X_test)"
      ],
      "execution_count": null,
      "outputs": []
    },
    {
      "cell_type": "code",
      "metadata": {
        "id": "7hnljwZSIWqZ"
      },
      "source": [
        "#metric score for the rf for train dataset\n",
        "from sklearn.metrics import mean_squared_error\n",
        "print(\"Model Score:\",rf_model.score(X_train,y_train))\n",
        "\n",
        "MSE= mean_squared_error(y_train, y_pred_train_rf)\n",
        "print(\"MSE :\",MSE)\n",
        "\n",
        "RMSE=np.sqrt(MSE)\n",
        "print(\"RMSE :\",RMSE)\n",
        "from sklearn.metrics import r2_score\n",
        "r2= r2_score(y_train, y_pred_train_rf)\n",
        "print(\"R2 :\",r2)\n",
        "print(\"Adjusted R2 :\",1-(1-r2_score(y_train, y_pred_train_rf))*((X_test.shape[0]-1)/(X_test.shape[0]-X_test.shape[1]-1)) )"
      ],
      "execution_count": null,
      "outputs": []
    },
    {
      "cell_type": "code",
      "metadata": {
        "id": "DoB9X56frWnK"
      },
      "source": [
        "#metric score for the rf for test dataset\n",
        "print(\"Model Score:\",rf_model.score(X_test,y_test))\n",
        "\n",
        "MSE= mean_squared_error(y_test, y_pred_test_rf)\n",
        "print(\"MSE :\",MSE)\n",
        "\n",
        "RMSE=np.sqrt(MSE)\n",
        "print(\"RMSE :\",RMSE)\n",
        "from sklearn.metrics import r2_score\n",
        "r2= r2_score(y_test, y_pred_test_rf)\n",
        "print(\"R2 :\",r2)\n",
        "print(\"Adjusted R2 :\",1-(1-r2_score(y_test, y_pred_test_rf))*((X_test.shape[0]-1)/(X_test.shape[0]-X_test.shape[1]-1)) )"
      ],
      "execution_count": null,
      "outputs": []
    },
    {
      "cell_type": "code",
      "metadata": {
        "id": "B58aPwABJaty"
      },
      "source": [
        "#pred vs actual for random forrest\n",
        "plt.figure(figsize=(8,5))\n",
        "plt.plot((np.array(y_pred_test_rf)))\n",
        "plt.plot(np.array((y_test)))\n",
        "plt.legend([\"Predicted\",\"Actual\"])\n",
        "plt.show()"
      ],
      "execution_count": null,
      "outputs": []
    },
    {
      "cell_type": "code",
      "metadata": {
        "id": "ZsHpG0Z9IgnX"
      },
      "source": [
        "#Heteroscadacity\n",
        "plt.scatter((y_pred_test_rf),(y_test)-(y_pred_test_rf))"
      ],
      "execution_count": null,
      "outputs": []
    },
    {
      "cell_type": "code",
      "metadata": {
        "id": "Ze6K99GtJHz8"
      },
      "source": [
        "rf_model.feature_importances_"
      ],
      "execution_count": null,
      "outputs": []
    },
    {
      "cell_type": "code",
      "metadata": {
        "id": "kJBNfzq4O0Ot"
      },
      "source": [
        "importance_rf=rf_model.feature_importances_"
      ],
      "execution_count": null,
      "outputs": []
    },
    {
      "cell_type": "code",
      "metadata": {
        "id": "5LaXwyqmPS1-"
      },
      "source": [
        "imortance_rf_dict={\"Feature\":list(X_train.columns),\"Feature importance\":importance_rf}\n",
        "imortance_rf_df=pd.DataFrame(imortance_rf_dict)"
      ],
      "execution_count": null,
      "outputs": []
    },
    {
      "cell_type": "code",
      "metadata": {
        "id": "0ceyuksOQVg_"
      },
      "source": [
        "imortance_rf_df[\"Feature importance\"]=round(imortance_rf_df[\"Feature importance\"],2)"
      ],
      "execution_count": null,
      "outputs": []
    },
    {
      "cell_type": "code",
      "metadata": {
        "id": "OxCTreDDQt6i"
      },
      "source": [
        "imortance_rf_df.sort_values(by=[\"Feature importance\"],ascending=False)\n"
      ],
      "execution_count": null,
      "outputs": []
    },
    {
      "cell_type": "code",
      "metadata": {
        "id": "RBk30zouSKgq"
      },
      "source": [
        "rf_model.fit(X_train,y_train)"
      ],
      "execution_count": null,
      "outputs": []
    },
    {
      "cell_type": "code",
      "metadata": {
        "id": "AtCPEgE1SdLp"
      },
      "source": [
        "features=X_train.columns\n",
        "importance_rf=rf_model.feature_importances_\n",
        "indices=np.argsort(importance_rf)"
      ],
      "execution_count": null,
      "outputs": []
    },
    {
      "cell_type": "code",
      "metadata": {
        "id": "S7YOIj43TGzt"
      },
      "source": [
        "plt.title(\"feature imporance\")\n",
        "plt.barh(range(len(indices)),importance_rf[indices],color=\"green\",align=\"center\")\n",
        "\n",
        "plt.yticks(range(len(indices)),[features[i] for i in indices])\n",
        "plt.xlabel(\"Relative importance\") \n",
        "plt.show()         "
      ],
      "execution_count": null,
      "outputs": []
    },
    {
      "cell_type": "markdown",
      "metadata": {
        "id": "Xo1zpPWQae9k"
      },
      "source": [
        "# Training Random forrest Regressor from GridesearchCV "
      ]
    },
    {
      "cell_type": "code",
      "metadata": {
        "id": "_ZEUW0YZUj6m"
      },
      "source": [
        "# number of trees\n",
        "n_estimators=[50,80,100]\n",
        "\n",
        "#max deapth of tree\n",
        "max_depth=[4,6,8]\n",
        "\n",
        "#minimum no of sample required for spliting the node\n",
        "min_samples_split=[50,100,150]\n",
        "\n",
        "#minimum no of sample required at each leaf node\n",
        "min_samples_leaf=[40,50]\n",
        "#hyper parametr gride\n",
        "param_dict = {'n_estimators' : n_estimators,\n",
        "              'max_depth' : max_depth,\n",
        "              'min_samples_split' : min_samples_split,\n",
        "              'min_samples_leaf' : min_samples_leaf}\n"
      ],
      "execution_count": null,
      "outputs": []
    },
    {
      "cell_type": "code",
      "metadata": {
        "id": "C_He7ub9dQ50"
      },
      "source": [
        "param_dict"
      ],
      "execution_count": null,
      "outputs": []
    },
    {
      "cell_type": "markdown",
      "metadata": {
        "id": "BiAEFda6dzFZ"
      },
      "source": [
        "# Importing Random forrest Regressor"
      ]
    },
    {
      "cell_type": "code",
      "metadata": {
        "id": "q3TCO0vidTD0"
      },
      "source": [
        "# Create an instance of the RandomForestRegressor\n",
        "rf_model = RandomForestRegressor()\n",
        "\n",
        "# Grid search\n",
        "rf_grid = GridSearchCV(estimator=rf_model,\n",
        "                       param_grid = param_dict,\n",
        "                       cv = 5, verbose=2)\n",
        "\n",
        "rf_grid.fit(X_train,y_train)"
      ],
      "execution_count": null,
      "outputs": []
    },
    {
      "cell_type": "code",
      "metadata": {
        "id": "fxYNYGdOe-7i"
      },
      "source": [
        "rf_grid.best_estimator_"
      ],
      "execution_count": null,
      "outputs": []
    },
    {
      "cell_type": "code",
      "metadata": {
        "id": "54MrATeZfEIr"
      },
      "source": [
        "rf_optimal_model = rf_grid.best_estimator_"
      ],
      "execution_count": null,
      "outputs": []
    },
    {
      "cell_type": "code",
      "metadata": {
        "id": "7NiP-QKkfGzb"
      },
      "source": [
        "rf_grid.best_params_"
      ],
      "execution_count": null,
      "outputs": []
    },
    {
      "cell_type": "code",
      "metadata": {
        "id": "qfRuaLP0fLbf"
      },
      "source": [
        "# Making predictions on train and test data\n",
        "\n",
        "y_pred_train_r_g = rf_optimal_model.predict(X_train)\n",
        "y_pred_test_r_g = rf_optimal_model.predict(X_test)"
      ],
      "execution_count": null,
      "outputs": []
    },
    {
      "cell_type": "code",
      "metadata": {
        "id": "csCCrQ1IfTYp"
      },
      "source": [
        "#metrics for rf score with gd for train\n",
        "from sklearn.metrics import mean_squared_error\n",
        "print(\"Model Score:\",rf_optimal_model.score(X_train,y_train))\n",
        "\n",
        "MSE= mean_squared_error(y_train, y_pred_train_r_g)\n",
        "print(\"MSE :\",MSE)\n",
        "\n",
        "RMSE=np.sqrt(MSE)\n",
        "print(\"RMSE :\",RMSE)\n",
        "\n",
        "\n",
        "from sklearn.metrics import r2_score\n",
        "r2= r2_score(y_train, y_pred_train_r_g)\n",
        "print(\"R2 :\",r2)\n",
        "print(\"Adjusted R2 :\",1-(1-r2_score(y_train, y_pred_train_r_g))*((X_test.shape[0]-1)/(X_test.shape[0]-X_test.shape[1]-1)) )"
      ],
      "execution_count": null,
      "outputs": []
    },
    {
      "cell_type": "code",
      "metadata": {
        "id": "vSssck3ofha2"
      },
      "source": [
        "#metrics for rf score with gd for test\n",
        "from sklearn.metrics import mean_squared_error\n",
        "print(\"Model Score:\",rf_optimal_model.score(X_train,y_train))\n",
        "\n",
        "MSE= mean_squared_error(y_test, y_pred_test_r_g)\n",
        "print(\"MSE :\",MSE)\n",
        "\n",
        "RMSE=np.sqrt(MSE)\n",
        "print(\"RMSE :\",RMSE)\n",
        "\n",
        "\n",
        "from sklearn.metrics import r2_score\n",
        "r2= r2_score(y_test, y_pred_test_r_g)\n",
        "print(\"R2 :\",r2)\n",
        "print(\"Adjusted R2 :\",1-(1-r2_score(y_test, y_pred_test_r_g))*((X_test.shape[0]-1)/(X_test.shape[0]-X_test.shape[1]-1)) )"
      ],
      "execution_count": null,
      "outputs": []
    },
    {
      "cell_type": "code",
      "metadata": {
        "id": "3kqe2M8jgmeW"
      },
      "source": [
        "# for the important features\n",
        "rf_optimal_model.feature_importances_"
      ],
      "execution_count": null,
      "outputs": []
    },
    {
      "cell_type": "code",
      "metadata": {
        "id": "p-cElQmFgmVv"
      },
      "source": [
        "importance_rf_gd=rf_optimal_model.feature_importances_\n",
        "imortance_rf_gddict={\"Feature\":list(X_train.columns),\"Feature importance\":importance_rf_gd}\n",
        "imortance_rf_gddf=pd.DataFrame(imortance_rf_gddict)"
      ],
      "execution_count": null,
      "outputs": []
    },
    {
      "cell_type": "code",
      "metadata": {
        "id": "7hULRAmShPOG"
      },
      "source": [
        "imortance_rf_gddf['Feature importance'] = round(imortance_rf_gddf['Feature importance'],2)"
      ],
      "execution_count": null,
      "outputs": []
    },
    {
      "cell_type": "code",
      "metadata": {
        "id": "7r_v83sDhcR6"
      },
      "source": [
        "imortance_rf_gddf.head()"
      ],
      "execution_count": null,
      "outputs": []
    },
    {
      "cell_type": "code",
      "metadata": {
        "id": "bIaX9cTwhsdL"
      },
      "source": [
        "imortance_rf_gddf.sort_values(by=[\"Feature importance\"],ascending=False)"
      ],
      "execution_count": null,
      "outputs": []
    },
    {
      "cell_type": "code",
      "metadata": {
        "id": "GnaZNEa8h2hT"
      },
      "source": [
        "rf_optimal_model.fit(X_train,y_train)"
      ],
      "execution_count": null,
      "outputs": []
    },
    {
      "cell_type": "code",
      "metadata": {
        "id": "NxdDMfyXiXRB"
      },
      "source": [
        "features=X_train.columns\n",
        "importance_rfgd=rf_optimal_model.feature_importances_\n",
        "indices=np.argsort(importance_rfgd)"
      ],
      "execution_count": null,
      "outputs": []
    },
    {
      "cell_type": "code",
      "metadata": {
        "id": "FIP0dBDzig-b"
      },
      "source": [
        "plt.title(\"feature imporance\")\n",
        "plt.barh(range(len(indices)),importance_rfgd[indices],color=\"green\",align=\"center\")\n",
        "\n",
        "plt.yticks(range(len(indices)),[features[i] for i in indices])\n",
        "plt.xlabel(\"Relative importance\") \n",
        "plt.show()  "
      ],
      "execution_count": null,
      "outputs": []
    },
    {
      "cell_type": "markdown",
      "metadata": {
        "id": "788dxhrz3tPM"
      },
      "source": [
        "# Implementing Gradient Boosting Regression"
      ]
    },
    {
      "cell_type": "code",
      "metadata": {
        "id": "ouButQoYjP0Q"
      },
      "source": [
        "gbd_model=GradientBoostingRegressor()\n",
        "gbd_model.fit(X_train,y_train)"
      ],
      "execution_count": null,
      "outputs": []
    },
    {
      "cell_type": "code",
      "metadata": {
        "id": "zq-xamQp63IF"
      },
      "source": [
        "# Making predictions on train and test data\n",
        "\n",
        "y_pred_train_gb = gbd_model.predict(X_train)\n",
        "y_pred_test_gb = gbd_model.predict(X_test)"
      ],
      "execution_count": null,
      "outputs": []
    },
    {
      "cell_type": "code",
      "metadata": {
        "id": "ormC0geOG4cQ"
      },
      "source": [
        "# for train data set\n",
        "print(\"Model Score:\",gbd_model.score(X_train,y_train))\n",
        "MSE= mean_squared_error(y_train, y_pred_train_gb)\n",
        "print(\"MSE :\",MSE)\n",
        "\n",
        "RMSE=np.sqrt(MSE)\n",
        "print(\"RMSE :\",RMSE)\n",
        "\n",
        "r2= r2_score(y_train, y_pred_train_gb)\n",
        "print(\"R2 :\",r2)\n",
        "print(\"Adjusted R2 :\",1-(1-r2_score(y_train, y_pred_train_gb))*((X_test.shape[0]-1)/(X_test.shape[0]-X_test.shape[1]-1)) )"
      ],
      "execution_count": null,
      "outputs": []
    },
    {
      "cell_type": "code",
      "metadata": {
        "id": "jQ0Zifq1HF9d"
      },
      "source": [
        "# for test data set\n",
        "print(\"Model Score:\",gbd_model.score(X_train,y_train))\n",
        "MSE= mean_squared_error(y_test, y_pred_test_gb)\n",
        "print(\"MSE :\",MSE)\n",
        "\n",
        "RMSE=np.sqrt(MSE)\n",
        "print(\"RMSE :\",RMSE)\n",
        "\n",
        "r2= r2_score((y_test), (y_pred_test_gb))\n",
        "print(\"R2 :\",r2)\n",
        "print(\"Adjusted R2 :\",1-(1-r2_score((y_test), (y_pred_test_gb)))*((X_test.shape[0]-1)/(X_test.shape[0]-X_test.shape[1]-1)) )"
      ],
      "execution_count": null,
      "outputs": []
    },
    {
      "cell_type": "code",
      "metadata": {
        "id": "djCxcu6iJuFu"
      },
      "source": [
        "#Heteroscadacity\n",
        "plt.scatter((y_pred_test_gb),(y_test)-(y_pred_test_gb))"
      ],
      "execution_count": null,
      "outputs": []
    },
    {
      "cell_type": "markdown",
      "metadata": {
        "id": "9cVSU-fAXAIN"
      },
      "source": [
        "feature importance"
      ]
    },
    {
      "cell_type": "code",
      "metadata": {
        "id": "4_bhgbdNKCK5"
      },
      "source": [
        "gbd_model.feature_importances_"
      ],
      "execution_count": null,
      "outputs": []
    },
    {
      "cell_type": "code",
      "metadata": {
        "id": "hvnXIDXwW_Go"
      },
      "source": [
        "importances_gb = gbd_model.feature_importances_\n",
        "\n",
        "importance_dictgb = {'Feature' : list(X_train.columns),\n",
        "                   'Feature Importance' : importances_gb}\n",
        "\n",
        "importance_dfgb = pd.DataFrame(importance_dictgb)"
      ],
      "execution_count": null,
      "outputs": []
    },
    {
      "cell_type": "code",
      "metadata": {
        "id": "uWrJfQAzXUFi"
      },
      "source": [
        "importance_dfgb['Feature Importance'] = round(importance_dfgb['Feature Importance'],2)"
      ],
      "execution_count": null,
      "outputs": []
    },
    {
      "cell_type": "code",
      "metadata": {
        "id": "MIEGDjylTtIn"
      },
      "source": [
        "importance_dfgb.head()"
      ],
      "execution_count": null,
      "outputs": []
    },
    {
      "cell_type": "code",
      "metadata": {
        "id": "ngIhz4WFTxMA"
      },
      "source": [
        "importance_dfgb.sort_values(by=['Feature Importance'],ascending=False)"
      ],
      "execution_count": null,
      "outputs": []
    },
    {
      "cell_type": "code",
      "metadata": {
        "id": "RxCaNwNPT7BJ"
      },
      "source": [
        "gbd_model.fit(X_train,y_train)"
      ],
      "execution_count": null,
      "outputs": []
    },
    {
      "cell_type": "code",
      "metadata": {
        "id": "j2OEjkn3UJfm"
      },
      "source": [
        "features = X_train.columns\n",
        "importances =gbd_model.feature_importances_\n",
        "indices = np.argsort(importances)"
      ],
      "execution_count": null,
      "outputs": []
    },
    {
      "cell_type": "code",
      "metadata": {
        "id": "gT-TWQ3xUVaZ"
      },
      "source": [
        "plt.title('Feature Importance')\n",
        "plt.barh(range(len(indices)), importances[indices], color='red', align='center')\n",
        "plt.yticks(range(len(indices)), [features[i] for i in indices])\n",
        "plt.xlabel('Relative Importance')\n",
        "\n",
        "plt.show()"
      ],
      "execution_count": null,
      "outputs": []
    },
    {
      "cell_type": "markdown",
      "metadata": {
        "id": "ii04rD7PUcZb"
      },
      "source": [
        "# Training Gradient Regressor with GridsearchCV"
      ]
    },
    {
      "cell_type": "code",
      "metadata": {
        "id": "ob7RPApnUleG"
      },
      "source": [
        "# Create an instance of the GradientBoostingRegressor\n",
        "gb_model = GradientBoostingRegressor()\n",
        "\n",
        "# Grid search\n",
        "gb_grid = GridSearchCV(estimator=gb_model,\n",
        "                       param_grid = param_dict,\n",
        "                       cv = 5, verbose=2)\n",
        "\n",
        "gb_grid.fit(X_train,y_train)"
      ],
      "execution_count": null,
      "outputs": []
    },
    {
      "cell_type": "code",
      "metadata": {
        "id": "gMeJm2dxecb4"
      },
      "source": [
        "gb_grid.best_estimator_"
      ],
      "execution_count": null,
      "outputs": []
    },
    {
      "cell_type": "code",
      "metadata": {
        "id": "fLBXmBPJenM_"
      },
      "source": [
        "gb_optimal_model = gb_grid.best_estimator_"
      ],
      "execution_count": null,
      "outputs": []
    },
    {
      "cell_type": "code",
      "metadata": {
        "id": "9Nysgvcteq2h"
      },
      "source": [
        "gb_grid.best_params_"
      ],
      "execution_count": null,
      "outputs": []
    },
    {
      "cell_type": "code",
      "metadata": {
        "id": "oj-1Cly1ewVi"
      },
      "source": [
        "# Making predictions on train and test data\n",
        "\n",
        "y_pred_train_gd_g = gb_optimal_model.predict(X_train)\n",
        "y_pred_test_gd_g= gb_optimal_model.predict(X_test)"
      ],
      "execution_count": null,
      "outputs": []
    },
    {
      "cell_type": "code",
      "metadata": {
        "id": "tvZ7BVffe6oL"
      },
      "source": [
        "#gd with grid cv train performance\n",
        "print(\"Model Score:\",gb_optimal_model.score(X_train,y_train))\n",
        "MSE= mean_squared_error(y_train, y_pred_train_gd_g)\n",
        "print(\"MSE :\",MSE)\n",
        "\n",
        "RMSE=np.sqrt(MSE)\n",
        "print(\"RMSE :\",RMSE)\n",
        "\n",
        "r2= r2_score(y_train, y_pred_train_gd_g)\n",
        "print(\"R2 :\",r2)\n",
        "print(\"Adjusted R2 :\",1-(1-r2_score(y_train, y_pred_train_gd_g))*((X_test.shape[0]-1)/(X_test.shape[0]-X_test.shape[1]-1)) )"
      ],
      "execution_count": null,
      "outputs": []
    },
    {
      "cell_type": "code",
      "metadata": {
        "id": "dntQUDu0g9lI"
      },
      "source": [
        "#metrics for rf score with gd for train\n",
        "from sklearn.metrics import mean_squared_error\n",
        "print(\"Model Score:\",gb_optimal_model.score(X_train,y_train))\n",
        "\n",
        "MSE= mean_squared_error(y_test, y_pred_test_gd_g)\n",
        "print(\"MSE :\",MSE)\n",
        "\n",
        "RMSE=np.sqrt(MSE)\n",
        "print(\"RMSE :\",RMSE)\n",
        "\n",
        "\n",
        "from sklearn.metrics import r2_score\n",
        "r2= r2_score(y_test, y_pred_test_gd_g)\n",
        "print(\"R2 :\",r2)\n",
        "print(\"Adjusted R2 :\",1-(1-r2_score(y_test, y_pred_test_gd_g))*((X_test.shape[0]-1)/(X_test.shape[0]-X_test.shape[1]-1)) )"
      ],
      "execution_count": null,
      "outputs": []
    },
    {
      "cell_type": "markdown",
      "metadata": {
        "id": "Ux-NR3rqVCie"
      },
      "source": [
        "# **Implementing Xgboost Regressor**"
      ]
    },
    {
      "cell_type": "code",
      "metadata": {
        "id": "Df-3tBlpVTFc"
      },
      "source": [
        "# Create an instance of the RandomForestRegressor\n",
        "import xgboost as xgb\n",
        "xg_model = xgb.XGBRegressor()\n",
        "\n",
        "\n",
        "xg_model.fit(X_train,y_train)"
      ],
      "execution_count": null,
      "outputs": []
    },
    {
      "cell_type": "code",
      "metadata": {
        "id": "Cqko0y4kWkT7"
      },
      "source": [
        "# Making predictions on train and test data\n",
        "\n",
        "y_pred_train_xg = xg_model.predict(X_train)\n",
        "y_pred_test_xg = xg_model.predict(X_test)"
      ],
      "execution_count": null,
      "outputs": []
    },
    {
      "cell_type": "code",
      "metadata": {
        "id": "Xs1-u4tmW0I0"
      },
      "source": [
        "#xg boost on train data\n",
        "print(\"Model Score:\",xg_model.score(X_train,y_train))\n",
        "MSE= mean_squared_error(y_train, y_pred_train_xg)\n",
        "print(\"MSE :\",MSE)\n",
        "\n",
        "RMSE=np.sqrt(MSE)\n",
        "print(\"RMSE :\",RMSE)\n",
        "\n",
        "r2= r2_score(y_train, y_pred_train_xg)\n",
        "print(\"R2 :\",r2)\n",
        "print(\"Adjusted R2 :\",1-(1-r2_score(y_train, y_pred_train_xg))*((X_test.shape[0]-1)/(X_test.shape[0]-X_test.shape[1]-1)) )"
      ],
      "execution_count": null,
      "outputs": []
    },
    {
      "cell_type": "code",
      "metadata": {
        "id": "AhWKnby5XZcG"
      },
      "source": [
        "#Xg boost for test\n",
        "MSE= mean_squared_error(y_test, y_pred_test_xg)\n",
        "print(\"MSE :\",MSE)\n",
        "\n",
        "RMSE=np.sqrt(MSE)\n",
        "print(\"RMSE :\",RMSE)\n",
        "\n",
        "r2= r2_score((y_test), (y_pred_test_xg))\n",
        "print(\"R2 :\",r2)\n",
        "print(\"Adjusted R2 :\",1-(1-r2_score((y_test), (y_pred_test_xg)))*((X_test.shape[0]-1)/(X_test.shape[0]-X_test.shape[1]-1)) )"
      ],
      "execution_count": null,
      "outputs": []
    },
    {
      "cell_type": "code",
      "metadata": {
        "id": "GtA2WfXfbilv"
      },
      "source": [
        "#Heteroscadacity\n",
        "plt.scatter((y_pred_test_xg),(y_test)-(y_pred_test_xg))"
      ],
      "execution_count": null,
      "outputs": []
    },
    {
      "cell_type": "markdown",
      "metadata": {
        "id": "8TUlmFa6antC"
      },
      "source": [
        "Feature  importance selction"
      ]
    },
    {
      "cell_type": "code",
      "metadata": {
        "id": "w1MUwC0gal6f"
      },
      "source": [
        "xg_model.feature_importances_"
      ],
      "execution_count": null,
      "outputs": []
    },
    {
      "cell_type": "code",
      "metadata": {
        "id": "OPE6-NzrawC9"
      },
      "source": [
        "importances = xg_model.feature_importances_\n",
        "\n",
        "importance_dictxg = {'Feature' : list(X_train.columns),\n",
        "                   'Feature Importance' : importances}\n",
        "\n",
        "importance_dfxg = pd.DataFrame(importance_dictxg)"
      ],
      "execution_count": null,
      "outputs": []
    },
    {
      "cell_type": "code",
      "metadata": {
        "id": "VjLqxt2ja1y-"
      },
      "source": [
        "importance_dfxg['Feature Importance'] = round(importance_dfxg['Feature Importance'],2)"
      ],
      "execution_count": null,
      "outputs": []
    },
    {
      "cell_type": "code",
      "metadata": {
        "id": "PSlimCUFbFwm"
      },
      "source": [
        "xg_model.fit(X_train,y_train)"
      ],
      "execution_count": null,
      "outputs": []
    },
    {
      "cell_type": "code",
      "metadata": {
        "id": "7JhlHLJCbJAS"
      },
      "source": [
        "features = X_train.columns\n",
        "importances = xg_model.feature_importances_\n",
        "indices = np.argsort(importances)"
      ],
      "execution_count": null,
      "outputs": []
    },
    {
      "cell_type": "code",
      "metadata": {
        "id": "tg4-J8KKbOKa"
      },
      "source": [
        "plt.title('Feature Importance')\n",
        "plt.barh(range(len(indices)), importances[indices], color='red', align='center')\n",
        "plt.yticks(range(len(indices)), [features[i] for i in indices])\n",
        "plt.xlabel('Relative Importance')\n",
        "\n",
        "plt.show()"
      ],
      "execution_count": null,
      "outputs": []
    },
    {
      "cell_type": "markdown",
      "metadata": {
        "id": "hVFAaW7BcJOC"
      },
      "source": [
        "# **Training Xgboost regressor with Gridsearch**"
      ]
    },
    {
      "cell_type": "markdown",
      "metadata": {
        "id": "9aqegYgXlj6h"
      },
      "source": [
        "# Provide the range for  Hyperparametre"
      ]
    },
    {
      "cell_type": "code",
      "metadata": {
        "id": "M5SODg4JleJ-"
      },
      "source": [
        "# Number of trees\n",
        "n_estimators = [50,80,100]\n",
        "\n",
        "# Maximum depth of trees\n",
        "max_depth = [4,6,8]\n",
        "\n",
        "# Minimum number of samples required to split a node\n",
        "min_samples_split = [50,100,150]\n",
        "\n",
        "# Minimum number of samples required at each leaf node\n",
        "min_samples_leaf = [40,50]\n",
        "\n",
        "# HYperparameter Grid\n",
        "param_dict_xgb = {'n_estimators' : n_estimators,\n",
        "              'max_depth' : max_depth,\n",
        "              'min_samples_split' : min_samples_split,\n",
        "              'min_samples_leaf' : min_samples_leaf,'learning_rate': [0.1, 0.05, 0.01, 0.005]}"
      ],
      "execution_count": null,
      "outputs": []
    },
    {
      "cell_type": "code",
      "metadata": {
        "id": "PLZ65v3op4Ps"
      },
      "source": [
        "import xgboost as xgb\n",
        "xg_model = xgb.XGBRegressor()\n",
        "\n",
        "\n",
        "xg_model.fit(X_train,y_train)"
      ],
      "execution_count": null,
      "outputs": []
    },
    {
      "cell_type": "code",
      "metadata": {
        "id": "pAWlpLNgp6xr"
      },
      "source": [
        "# Grid search\n",
        "xg_grid = GridSearchCV(estimator=xg_model,\n",
        "                       param_grid = param_dict,\n",
        "                       cv = 5, verbose=2)\n",
        "\n",
        "xg_grid.fit(X_train,y_train)"
      ],
      "execution_count": null,
      "outputs": []
    },
    {
      "cell_type": "code",
      "metadata": {
        "id": "pri8ohQzoDnh"
      },
      "source": [
        "xg_grid.best_estimator_"
      ],
      "execution_count": null,
      "outputs": []
    },
    {
      "cell_type": "code",
      "metadata": {
        "id": "wjFM0bWVqqaQ"
      },
      "source": [
        "xg_optimal_model = xg_grid.best_estimator_"
      ],
      "execution_count": null,
      "outputs": []
    },
    {
      "cell_type": "code",
      "metadata": {
        "id": "agx_SiFuquLL"
      },
      "source": [
        "xg_grid.best_params_"
      ],
      "execution_count": null,
      "outputs": []
    },
    {
      "cell_type": "code",
      "metadata": {
        "id": "QCDxDFOxqyQR"
      },
      "source": [
        "# Making predictions on train and test data\n",
        "\n",
        "y_pred_train_x_g = xg_optimal_model.predict(X_train)\n",
        "y_pred_test_x_g  = xg_optimal_model.predict(X_test)"
      ],
      "execution_count": null,
      "outputs": []
    },
    {
      "cell_type": "code",
      "metadata": {
        "id": "pXmwemMNq5lR"
      },
      "source": [
        "#xg after training score for train data\n",
        "print(\"Model Score:\",xg_optimal_model.score(X_train,y_train))\n",
        "MSE= mean_squared_error(y_train, y_pred_train_x_g)\n",
        "print(\"MSE :\",MSE)\n",
        "\n",
        "RMSE=np.sqrt(MSE)\n",
        "print(\"RMSE :\",RMSE)\n",
        "r2= r2_score(y_train, y_pred_train_x_g)\n",
        "print(\"R2 :\",r2)\n",
        "print(\"Adjusted R2 :\",1-(1-r2_score(y_train, y_pred_train_x_g))*((X_test.shape[0]-1)/(X_test.shape[0]-X_test.shape[1]-1)) )"
      ],
      "execution_count": null,
      "outputs": []
    },
    {
      "cell_type": "code",
      "metadata": {
        "id": "LoN4Zhb3rDXt"
      },
      "source": [
        "#Xg boost  after training for test\n",
        "print(\"Model Score:\",xg_optimal_model.score(X_train,y_train))\n",
        "MSE= mean_squared_error(y_test, y_pred_test_x_g)\n",
        "print(\"MSE :\",MSE)\n",
        "\n",
        "RMSE=np.sqrt(MSE)\n",
        "print(\"RMSE :\",RMSE)\n",
        "\n",
        "r2= r2_score((y_test), (y_pred_test_x_g))\n",
        "print(\"R2 :\",r2)\n",
        "print(\"Adjusted R2 :\",1-(1-r2_score((y_test), (y_pred_test_x_g)))*((X_test.shape[0]-1)/(X_test.shape[0]-X_test.shape[1]-1)) )"
      ],
      "execution_count": null,
      "outputs": []
    },
    {
      "cell_type": "code",
      "metadata": {
        "id": "K5gVOYPOrfWp"
      },
      "source": [
        "plt.figure(figsize=(8,5))\n",
        "plt.plot((y_pred_test_x_g))\n",
        "plt.plot(np.array((y_test)))\n",
        "plt.legend([\"Predicted\",\"Actual\"])\n",
        "plt.show()"
      ],
      "execution_count": null,
      "outputs": []
    },
    {
      "cell_type": "code",
      "metadata": {
        "id": "ralmMoFWrX4K"
      },
      "source": [
        "### Heteroscadacity\n",
        "plt.scatter((y_pred_test_x_g),(y_test)-(y_pred_test_x_g))"
      ],
      "execution_count": null,
      "outputs": []
    },
    {
      "cell_type": "markdown",
      "metadata": {
        "id": "KLqsyX7nU_Qj"
      },
      "source": [
        "# Feature importance wirh xg train"
      ]
    },
    {
      "cell_type": "code",
      "metadata": {
        "id": "uRmV9EO3rtOn"
      },
      "source": [
        "xg_optimal_model.feature_importances_"
      ],
      "execution_count": null,
      "outputs": []
    },
    {
      "cell_type": "code",
      "metadata": {
        "id": "Pq_9_r7gryen"
      },
      "source": [
        "importances = xg_optimal_model.feature_importances_\n",
        "\n",
        "importance_dictxgt = {'Feature' : list(X_train.columns),\n",
        "                   'Feature Importance' : importances}\n",
        "\n",
        "importance_dfxgt = pd.DataFrame(importance_dictxgt)"
      ],
      "execution_count": null,
      "outputs": []
    },
    {
      "cell_type": "code",
      "metadata": {
        "id": "ldlCphB2r6gc"
      },
      "source": [
        "importance_dfxgt['Feature Importance'] = round(importance_dfxgt['Feature Importance'],2)"
      ],
      "execution_count": null,
      "outputs": []
    },
    {
      "cell_type": "code",
      "metadata": {
        "id": "68ril_UssAEf"
      },
      "source": [
        "importance_dfxgt.head()"
      ],
      "execution_count": null,
      "outputs": []
    },
    {
      "cell_type": "code",
      "metadata": {
        "id": "EQ49k_k7sBlH"
      },
      "source": [
        "importance_dfxgt.sort_values(by=['Feature Importance'],ascending=False)"
      ],
      "execution_count": null,
      "outputs": []
    },
    {
      "cell_type": "code",
      "metadata": {
        "id": "FGcfln_xsF1X"
      },
      "source": [
        "features = X_train.columns\n",
        "importances = xg_optimal_model.feature_importances_\n",
        "indices = np.argsort(importances)"
      ],
      "execution_count": null,
      "outputs": []
    },
    {
      "cell_type": "code",
      "metadata": {
        "id": "AD0C27r9sZKt"
      },
      "source": [
        "plt.title('Feature Importance')\n",
        "plt.barh(range(len(indices)), importances[indices], color='red', align='center')\n",
        "plt.yticks(range(len(indices)), [features[i] for i in indices])\n",
        "plt.xlabel('Relative Importance')\n",
        "\n",
        "plt.show()"
      ],
      "execution_count": null,
      "outputs": []
    },
    {
      "cell_type": "markdown",
      "metadata": {
        "id": "iTcbzgRh29D-"
      },
      "source": [
        "# Model Summery for the train data set "
      ]
    },
    {
      "cell_type": "code",
      "metadata": {
        "id": "wOWEzax92-Xk"
      },
      "source": [
        "from prettytable import PrettyTable\n",
        "train = PrettyTable(['SL NO',\"MODEL_NAME\", \"Train MSE\", \"Train RMSE\",'Train R^2','Train Adjusted R^2'])\n",
        "train.add_row(['1','Linear Regression','52.95555328513579',' 7.277056636108846','0.6547192361864398',' 0.651535090814095'])\n",
        "train.add_row(['2','lasso Regression','54.64834166119503','7.392451667829492','0.6436819185266032','0.6403959880922664'])\n",
        "train.add_row(['3','Ridge Regression','52.955560208927636','7.277057111836325','0.6547191910419368','0.6515350452532745'])\n",
        "train.add_row(['4','Elastic net regressor','64.38876290053423','8.024260894346234','0.5801724303474118','0.5763008216359182'])\n",
        "train.add_row(['5','Decision Tree regressor','28.409014527459313','5.330010743653273','0.8147675621022166','.8130593667094993'])\n",
        "train.add_row(['6','Random forrest regressor','24.007196716801857','4.899713942344171','0.8434682917055565','0.842024771629066'])\n",
        "train.add_row(['7','Gradient Boost','8.001689449028063','2.8287257641963217','0.9478273897001314','0.9473462589999597'])\n",
        "train.add_row(['8','XGBoost','3.522757241759442','1.8769009674885466','0.9770309205417014','0.9768191019415096'])\n",
        "print(train)"
      ],
      "execution_count": null,
      "outputs": []
    },
    {
      "cell_type": "markdown",
      "metadata": {
        "id": "TtzLswKsCVXB"
      },
      "source": [
        "# Model Summery for the test data set "
      ]
    },
    {
      "cell_type": "code",
      "metadata": {
        "id": "aZW1jj8DvrNT"
      },
      "source": [
        "from prettytable import PrettyTable\n",
        "test = PrettyTable(['SL NO',\"MODEL_NAME\", \"Test MSE\", \"Test RMSE\",'Test R^2','Test Adjusted R^2'])\n",
        "test.add_row(['1','Linear Regression','55.08739505098533','7.4220883214217634','0.6588467149667641','0.6557006327993107'])\n",
        "test.add_row(['2','lasso Regression', '57.49564641514416','7.582588371733241','0.643932543343507','0.6406489241466748'])\n",
        "test.add_row(['3','Ridge Regression','55.08773606712857','7.422111294445036','0.6588446030720665','0.655698501428'])\n",
        "test.add_row(['4','Elastic net regressor','67.17969621593292','8.196322115188796','0.5839597419629589','0.5801230594680928'])\n",
        "test.add_row(['5','Decision Tree regressor','32.217717802173574','5.676065345128928','0.8004774004232265','0.7986374225596943'])\n",
        "test.add_row(['6','Random forrest regressor','26.998863153577467','5.196043028457084','0.8327974875471809','0.8312555623602961'])\n",
        "test.add_row(['7','Gradient Boost','14.1788868387969','3.7654862685710233','0.9121909137527177','0.9113811469631173'])\n",
        "test.add_row(['8','XGBoost','13.00960734058643','3.6068833278311665','0.9194321990152959','0.9186892106488664'])\n",
        "print(test)"
      ],
      "execution_count": null,
      "outputs": []
    },
    {
      "cell_type": "markdown",
      "metadata": {
        "id": "xraDHhvQPzIP"
      },
      "source": [
        "# Conclusion:\n",
        "* As it was stated in the problem, rented bike count was low in 2017 untill november. That is when business took off and rented bike count started increasing.\n",
        "\n",
        "* There was sharp increase in demand from the end of 2017 that too in winter season of the year. The demand however decrease at the end of 2018. \n",
        "\n",
        "* bike count rent is highly correlated with 'Hour', which seems obvious.Demand for bike is mostly in morning (7 to 8) and in the evening (3 to 9).\n",
        "\n",
        "* After doing exploratory data analysis, applying Linear Regression model didn't go quite well as it gave only 65% accuracy.\n",
        "\n",
        "\n",
        "* Lasso and Ridge Regression helps to reduce model complexity and prevent over-fitting which may result from simple linear regression. with Lasso, ridge and ElsaticNet regressor We got r squared value of 0.64,0.65, 0.68 respectively.\n",
        "\n",
        "\n",
        "* With Decision tree we reached at the model r squared value of 0.80. "
      ]
    }
  ]
}