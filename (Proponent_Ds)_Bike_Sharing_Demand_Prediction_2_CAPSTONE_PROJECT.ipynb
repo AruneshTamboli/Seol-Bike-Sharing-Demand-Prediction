{
  "nbformat": 4,
  "nbformat_minor": 0,
  "metadata": {
    "colab": {
      "name": "(Proponent_Ds) Bike Sharing Demand Prediction - 2 CAPSTONE PROJECT.ipynb",
      "provenance": [],
      "collapsed_sections": [],
      "include_colab_link": true
    },
    "kernelspec": {
      "display_name": "Python 3",
      "language": "python",
      "name": "python3"
    },
    "language_info": {
      "codemirror_mode": {
        "name": "ipython",
        "version": 3
      },
      "file_extension": ".py",
      "mimetype": "text/x-python",
      "name": "python",
      "nbconvert_exporter": "python",
      "pygments_lexer": "ipython3",
      "version": "3.6.6"
    }
  },
  "cells": [
    {
      "cell_type": "markdown",
      "metadata": {
        "id": "view-in-github",
        "colab_type": "text"
      },
      "source": [
        "<a href=\"https://colab.research.google.com/github/AruneshTamboli/Seol-Bike-Sharing-Demand-Prediction/blob/main/(Proponent_Ds)_Bike_Sharing_Demand_Prediction_2_CAPSTONE_PROJECT.ipynb\" target=\"_parent\"><img src=\"https://colab.research.google.com/assets/colab-badge.svg\" alt=\"Open In Colab\"/></a>"
      ]
    },
    {
      "cell_type": "markdown",
      "metadata": {
        "id": "tOGC-qoyhJeX"
      },
      "source": [
        "# <b><u> Project Title : Seoul Bike Sharing Demand Prediction </u></b>"
      ]
    },
    {
      "cell_type": "markdown",
      "metadata": {
        "id": "Y06xIdG26kRF"
      },
      "source": [
        "## <b> Problem Description </b>\n",
        "\n",
        "### Currently Rental bikes are introduced in many urban cities for the enhancement of mobility comfort. It is important to make the rental bike available and accessible to the public at the right time as it lessens the waiting time. Eventually, providing the city with a stable supply of rental bikes becomes a major concern. The crucial part is the prediction of bike count required at each hour for the stable supply of rental bikes.\n"
      ]
    },
    {
      "cell_type": "markdown",
      "metadata": {
        "id": "AlLxAtlziMbP"
      },
      "source": [
        "## <b> Data Description </b>\n",
        "\n",
        "### <b> The dataset contains weather information (Temperature, Humidity, Windspeed, Visibility, Dewpoint, Solar radiation, Snowfall, Rainfall), the number of bikes rented per hour and date information.</b>\n",
        "\n",
        "\n",
        "### <b>Attribute Information: </b>\n",
        "\n",
        "* ### Date : year-month-day\n",
        "* ### Rented Bike count - Count of bikes rented at each hour\n",
        "* ### Hour - Hour of he day\n",
        "* ### Temperature-Temperature in Celsius\n",
        "* ### Humidity - %\n",
        "* ### Windspeed - m/s\n",
        "* ### Visibility - 10m\n",
        "* ### Dew point temperature - Celsius\n",
        "* ### Solar radiation - MJ/m2\n",
        "* ### Rainfall - mm\n",
        "* ### Snowfall - cm\n",
        "* ### Seasons - Winter, Spring, Summer, Autumn\n",
        "* ### Holiday - Holiday/No holiday\n",
        "* ### Functional Day - NoFunc(Non Functional Hours), Fun(Functional hours)"
      ]
    },
    {
      "cell_type": "markdown",
      "metadata": {
        "id": "9YxGsurwPNIN"
      },
      "source": [
        "#Importing libraries"
      ]
    },
    {
      "cell_type": "code",
      "metadata": {
        "id": "dByMsuzT8Tnw"
      },
      "source": [
        "# Importing the  common libraries\n",
        "import numpy as np\n",
        "import pandas as pd\n",
        "from numpy import math\n",
        "from numpy import loadtxt\n",
        "import seaborn as sns\n",
        "import matplotlib.pyplot as plt\n",
        "%matplotlib inline\n",
        "from datetime import datetime     #importing for date time application\n",
        "import datetime as dt\n",
        "from sklearn import tree\n",
        "from sklearn.tree import DecisionTreeRegressor\n",
        "from sklearn.tree import export_graphviz\n",
        "from graphviz import Source\n",
        "\n",
        "from IPython.display import SVG\n",
        "from IPython.display import display\n",
        "\n",
        "\n",
        "from sklearn.model_selection import cross_validate\n",
        "from sklearn.model_selection import train_test_split\n",
        "from sklearn.model_selection import GridSearchCV\n",
        "from sklearn.model_selection import cross_val_score\n",
        "from sklearn.model_selection import RepeatedStratifiedKFold\n",
        "from sklearn.model_selection import RandomizedSearchCV\n",
        "from sklearn import metrics\n",
        "from sklearn.metrics import r2_score\n",
        "from sklearn.metrics import mean_squared_error\n",
        "from sklearn import ensemble\n",
        "from sklearn.ensemble import RandomForestRegressor\n",
        "from sklearn.ensemble import GradientBoostingRegressor\n",
        "from sklearn.ensemble import AdaBoostRegressor\n",
        "import xgboost as xgb\n",
        "\n"
      ],
      "execution_count": 1,
      "outputs": []
    },
    {
      "cell_type": "markdown",
      "metadata": {
        "id": "TpVWj-7llEu5"
      },
      "source": [
        "## Data Initialization"
      ]
    },
    {
      "cell_type": "code",
      "metadata": {
        "colab": {
          "base_uri": "https://localhost:8080/"
        },
        "id": "T07YYUhpH6LA",
        "outputId": "777912d7-e6c7-4063-c21a-5f45ae856b91"
      },
      "source": [
        "from google.colab import drive\n",
        "drive.mount('/content/drive')"
      ],
      "execution_count": 2,
      "outputs": [
        {
          "output_type": "stream",
          "name": "stdout",
          "text": [
            "Mounted at /content/drive\n"
          ]
        }
      ]
    },
    {
      "cell_type": "code",
      "metadata": {
        "id": "b4tnOCTiIRmq"
      },
      "source": [
        "bike_data = pd.read_csv(\"/content/drive/MyDrive/Almabetter/Capstone Projects/ML CAPSTONE PROJECT 09-09-21/Bike Sharing Demand Prediction/SeoulBikeData.csv\", encoding= 'unicode_escape')"
      ],
      "execution_count": 6,
      "outputs": []
    },
    {
      "cell_type": "markdown",
      "metadata": {
        "id": "H-FN82WDGCzZ"
      },
      "source": [
        "# **Exploratory Data Analysis**"
      ]
    },
    {
      "cell_type": "markdown",
      "metadata": {
        "id": "sG_A1fbQPIkp"
      },
      "source": [
        "Taking a quick look at our Data"
      ]
    },
    {
      "cell_type": "code",
      "metadata": {
        "colab": {
          "base_uri": "https://localhost:8080/",
          "height": 321
        },
        "id": "KnKH6g0_IdX0",
        "outputId": "d961b2d5-079f-4ef2-de93-2b74457aa0cb"
      },
      "source": [
        "bike_data.head()"
      ],
      "execution_count": 7,
      "outputs": [
        {
          "output_type": "execute_result",
          "data": {
            "text/html": [
              "<div>\n",
              "<style scoped>\n",
              "    .dataframe tbody tr th:only-of-type {\n",
              "        vertical-align: middle;\n",
              "    }\n",
              "\n",
              "    .dataframe tbody tr th {\n",
              "        vertical-align: top;\n",
              "    }\n",
              "\n",
              "    .dataframe thead th {\n",
              "        text-align: right;\n",
              "    }\n",
              "</style>\n",
              "<table border=\"1\" class=\"dataframe\">\n",
              "  <thead>\n",
              "    <tr style=\"text-align: right;\">\n",
              "      <th></th>\n",
              "      <th>Date</th>\n",
              "      <th>Rented Bike Count</th>\n",
              "      <th>Hour</th>\n",
              "      <th>Temperature(°C)</th>\n",
              "      <th>Humidity(%)</th>\n",
              "      <th>Wind speed (m/s)</th>\n",
              "      <th>Visibility (10m)</th>\n",
              "      <th>Dew point temperature(°C)</th>\n",
              "      <th>Solar Radiation (MJ/m2)</th>\n",
              "      <th>Rainfall(mm)</th>\n",
              "      <th>Snowfall (cm)</th>\n",
              "      <th>Seasons</th>\n",
              "      <th>Holiday</th>\n",
              "      <th>Functioning Day</th>\n",
              "    </tr>\n",
              "  </thead>\n",
              "  <tbody>\n",
              "    <tr>\n",
              "      <th>0</th>\n",
              "      <td>01/12/2017</td>\n",
              "      <td>254</td>\n",
              "      <td>0</td>\n",
              "      <td>-5.2</td>\n",
              "      <td>37</td>\n",
              "      <td>2.2</td>\n",
              "      <td>2000</td>\n",
              "      <td>-17.6</td>\n",
              "      <td>0.0</td>\n",
              "      <td>0.0</td>\n",
              "      <td>0.0</td>\n",
              "      <td>Winter</td>\n",
              "      <td>No Holiday</td>\n",
              "      <td>Yes</td>\n",
              "    </tr>\n",
              "    <tr>\n",
              "      <th>1</th>\n",
              "      <td>01/12/2017</td>\n",
              "      <td>204</td>\n",
              "      <td>1</td>\n",
              "      <td>-5.5</td>\n",
              "      <td>38</td>\n",
              "      <td>0.8</td>\n",
              "      <td>2000</td>\n",
              "      <td>-17.6</td>\n",
              "      <td>0.0</td>\n",
              "      <td>0.0</td>\n",
              "      <td>0.0</td>\n",
              "      <td>Winter</td>\n",
              "      <td>No Holiday</td>\n",
              "      <td>Yes</td>\n",
              "    </tr>\n",
              "    <tr>\n",
              "      <th>2</th>\n",
              "      <td>01/12/2017</td>\n",
              "      <td>173</td>\n",
              "      <td>2</td>\n",
              "      <td>-6.0</td>\n",
              "      <td>39</td>\n",
              "      <td>1.0</td>\n",
              "      <td>2000</td>\n",
              "      <td>-17.7</td>\n",
              "      <td>0.0</td>\n",
              "      <td>0.0</td>\n",
              "      <td>0.0</td>\n",
              "      <td>Winter</td>\n",
              "      <td>No Holiday</td>\n",
              "      <td>Yes</td>\n",
              "    </tr>\n",
              "    <tr>\n",
              "      <th>3</th>\n",
              "      <td>01/12/2017</td>\n",
              "      <td>107</td>\n",
              "      <td>3</td>\n",
              "      <td>-6.2</td>\n",
              "      <td>40</td>\n",
              "      <td>0.9</td>\n",
              "      <td>2000</td>\n",
              "      <td>-17.6</td>\n",
              "      <td>0.0</td>\n",
              "      <td>0.0</td>\n",
              "      <td>0.0</td>\n",
              "      <td>Winter</td>\n",
              "      <td>No Holiday</td>\n",
              "      <td>Yes</td>\n",
              "    </tr>\n",
              "    <tr>\n",
              "      <th>4</th>\n",
              "      <td>01/12/2017</td>\n",
              "      <td>78</td>\n",
              "      <td>4</td>\n",
              "      <td>-6.0</td>\n",
              "      <td>36</td>\n",
              "      <td>2.3</td>\n",
              "      <td>2000</td>\n",
              "      <td>-18.6</td>\n",
              "      <td>0.0</td>\n",
              "      <td>0.0</td>\n",
              "      <td>0.0</td>\n",
              "      <td>Winter</td>\n",
              "      <td>No Holiday</td>\n",
              "      <td>Yes</td>\n",
              "    </tr>\n",
              "  </tbody>\n",
              "</table>\n",
              "</div>"
            ],
            "text/plain": [
              "         Date  Rented Bike Count  Hour  ...  Seasons     Holiday  Functioning Day\n",
              "0  01/12/2017                254     0  ...   Winter  No Holiday              Yes\n",
              "1  01/12/2017                204     1  ...   Winter  No Holiday              Yes\n",
              "2  01/12/2017                173     2  ...   Winter  No Holiday              Yes\n",
              "3  01/12/2017                107     3  ...   Winter  No Holiday              Yes\n",
              "4  01/12/2017                 78     4  ...   Winter  No Holiday              Yes\n",
              "\n",
              "[5 rows x 14 columns]"
            ]
          },
          "metadata": {},
          "execution_count": 7
        }
      ]
    },
    {
      "cell_type": "code",
      "metadata": {
        "colab": {
          "base_uri": "https://localhost:8080/",
          "height": 458
        },
        "id": "xX7_oL5nJS38",
        "outputId": "5a0b4227-72fe-442a-e169-64c8df56c8c4"
      },
      "source": [
        "# dat description for the info\n",
        "bike_data.describe(include='all')"
      ],
      "execution_count": 8,
      "outputs": [
        {
          "output_type": "execute_result",
          "data": {
            "text/html": [
              "<div>\n",
              "<style scoped>\n",
              "    .dataframe tbody tr th:only-of-type {\n",
              "        vertical-align: middle;\n",
              "    }\n",
              "\n",
              "    .dataframe tbody tr th {\n",
              "        vertical-align: top;\n",
              "    }\n",
              "\n",
              "    .dataframe thead th {\n",
              "        text-align: right;\n",
              "    }\n",
              "</style>\n",
              "<table border=\"1\" class=\"dataframe\">\n",
              "  <thead>\n",
              "    <tr style=\"text-align: right;\">\n",
              "      <th></th>\n",
              "      <th>Date</th>\n",
              "      <th>Rented Bike Count</th>\n",
              "      <th>Hour</th>\n",
              "      <th>Temperature(°C)</th>\n",
              "      <th>Humidity(%)</th>\n",
              "      <th>Wind speed (m/s)</th>\n",
              "      <th>Visibility (10m)</th>\n",
              "      <th>Dew point temperature(°C)</th>\n",
              "      <th>Solar Radiation (MJ/m2)</th>\n",
              "      <th>Rainfall(mm)</th>\n",
              "      <th>Snowfall (cm)</th>\n",
              "      <th>Seasons</th>\n",
              "      <th>Holiday</th>\n",
              "      <th>Functioning Day</th>\n",
              "    </tr>\n",
              "  </thead>\n",
              "  <tbody>\n",
              "    <tr>\n",
              "      <th>count</th>\n",
              "      <td>8760</td>\n",
              "      <td>8760.000000</td>\n",
              "      <td>8760.000000</td>\n",
              "      <td>8760.000000</td>\n",
              "      <td>8760.000000</td>\n",
              "      <td>8760.000000</td>\n",
              "      <td>8760.000000</td>\n",
              "      <td>8760.000000</td>\n",
              "      <td>8760.000000</td>\n",
              "      <td>8760.000000</td>\n",
              "      <td>8760.000000</td>\n",
              "      <td>8760</td>\n",
              "      <td>8760</td>\n",
              "      <td>8760</td>\n",
              "    </tr>\n",
              "    <tr>\n",
              "      <th>unique</th>\n",
              "      <td>365</td>\n",
              "      <td>NaN</td>\n",
              "      <td>NaN</td>\n",
              "      <td>NaN</td>\n",
              "      <td>NaN</td>\n",
              "      <td>NaN</td>\n",
              "      <td>NaN</td>\n",
              "      <td>NaN</td>\n",
              "      <td>NaN</td>\n",
              "      <td>NaN</td>\n",
              "      <td>NaN</td>\n",
              "      <td>4</td>\n",
              "      <td>2</td>\n",
              "      <td>2</td>\n",
              "    </tr>\n",
              "    <tr>\n",
              "      <th>top</th>\n",
              "      <td>14/05/2018</td>\n",
              "      <td>NaN</td>\n",
              "      <td>NaN</td>\n",
              "      <td>NaN</td>\n",
              "      <td>NaN</td>\n",
              "      <td>NaN</td>\n",
              "      <td>NaN</td>\n",
              "      <td>NaN</td>\n",
              "      <td>NaN</td>\n",
              "      <td>NaN</td>\n",
              "      <td>NaN</td>\n",
              "      <td>Summer</td>\n",
              "      <td>No Holiday</td>\n",
              "      <td>Yes</td>\n",
              "    </tr>\n",
              "    <tr>\n",
              "      <th>freq</th>\n",
              "      <td>24</td>\n",
              "      <td>NaN</td>\n",
              "      <td>NaN</td>\n",
              "      <td>NaN</td>\n",
              "      <td>NaN</td>\n",
              "      <td>NaN</td>\n",
              "      <td>NaN</td>\n",
              "      <td>NaN</td>\n",
              "      <td>NaN</td>\n",
              "      <td>NaN</td>\n",
              "      <td>NaN</td>\n",
              "      <td>2208</td>\n",
              "      <td>8328</td>\n",
              "      <td>8465</td>\n",
              "    </tr>\n",
              "    <tr>\n",
              "      <th>mean</th>\n",
              "      <td>NaN</td>\n",
              "      <td>704.602055</td>\n",
              "      <td>11.500000</td>\n",
              "      <td>12.882922</td>\n",
              "      <td>58.226256</td>\n",
              "      <td>1.724909</td>\n",
              "      <td>1436.825799</td>\n",
              "      <td>4.073813</td>\n",
              "      <td>0.569111</td>\n",
              "      <td>0.148687</td>\n",
              "      <td>0.075068</td>\n",
              "      <td>NaN</td>\n",
              "      <td>NaN</td>\n",
              "      <td>NaN</td>\n",
              "    </tr>\n",
              "    <tr>\n",
              "      <th>std</th>\n",
              "      <td>NaN</td>\n",
              "      <td>644.997468</td>\n",
              "      <td>6.922582</td>\n",
              "      <td>11.944825</td>\n",
              "      <td>20.362413</td>\n",
              "      <td>1.036300</td>\n",
              "      <td>608.298712</td>\n",
              "      <td>13.060369</td>\n",
              "      <td>0.868746</td>\n",
              "      <td>1.128193</td>\n",
              "      <td>0.436746</td>\n",
              "      <td>NaN</td>\n",
              "      <td>NaN</td>\n",
              "      <td>NaN</td>\n",
              "    </tr>\n",
              "    <tr>\n",
              "      <th>min</th>\n",
              "      <td>NaN</td>\n",
              "      <td>0.000000</td>\n",
              "      <td>0.000000</td>\n",
              "      <td>-17.800000</td>\n",
              "      <td>0.000000</td>\n",
              "      <td>0.000000</td>\n",
              "      <td>27.000000</td>\n",
              "      <td>-30.600000</td>\n",
              "      <td>0.000000</td>\n",
              "      <td>0.000000</td>\n",
              "      <td>0.000000</td>\n",
              "      <td>NaN</td>\n",
              "      <td>NaN</td>\n",
              "      <td>NaN</td>\n",
              "    </tr>\n",
              "    <tr>\n",
              "      <th>25%</th>\n",
              "      <td>NaN</td>\n",
              "      <td>191.000000</td>\n",
              "      <td>5.750000</td>\n",
              "      <td>3.500000</td>\n",
              "      <td>42.000000</td>\n",
              "      <td>0.900000</td>\n",
              "      <td>940.000000</td>\n",
              "      <td>-4.700000</td>\n",
              "      <td>0.000000</td>\n",
              "      <td>0.000000</td>\n",
              "      <td>0.000000</td>\n",
              "      <td>NaN</td>\n",
              "      <td>NaN</td>\n",
              "      <td>NaN</td>\n",
              "    </tr>\n",
              "    <tr>\n",
              "      <th>50%</th>\n",
              "      <td>NaN</td>\n",
              "      <td>504.500000</td>\n",
              "      <td>11.500000</td>\n",
              "      <td>13.700000</td>\n",
              "      <td>57.000000</td>\n",
              "      <td>1.500000</td>\n",
              "      <td>1698.000000</td>\n",
              "      <td>5.100000</td>\n",
              "      <td>0.010000</td>\n",
              "      <td>0.000000</td>\n",
              "      <td>0.000000</td>\n",
              "      <td>NaN</td>\n",
              "      <td>NaN</td>\n",
              "      <td>NaN</td>\n",
              "    </tr>\n",
              "    <tr>\n",
              "      <th>75%</th>\n",
              "      <td>NaN</td>\n",
              "      <td>1065.250000</td>\n",
              "      <td>17.250000</td>\n",
              "      <td>22.500000</td>\n",
              "      <td>74.000000</td>\n",
              "      <td>2.300000</td>\n",
              "      <td>2000.000000</td>\n",
              "      <td>14.800000</td>\n",
              "      <td>0.930000</td>\n",
              "      <td>0.000000</td>\n",
              "      <td>0.000000</td>\n",
              "      <td>NaN</td>\n",
              "      <td>NaN</td>\n",
              "      <td>NaN</td>\n",
              "    </tr>\n",
              "    <tr>\n",
              "      <th>max</th>\n",
              "      <td>NaN</td>\n",
              "      <td>3556.000000</td>\n",
              "      <td>23.000000</td>\n",
              "      <td>39.400000</td>\n",
              "      <td>98.000000</td>\n",
              "      <td>7.400000</td>\n",
              "      <td>2000.000000</td>\n",
              "      <td>27.200000</td>\n",
              "      <td>3.520000</td>\n",
              "      <td>35.000000</td>\n",
              "      <td>8.800000</td>\n",
              "      <td>NaN</td>\n",
              "      <td>NaN</td>\n",
              "      <td>NaN</td>\n",
              "    </tr>\n",
              "  </tbody>\n",
              "</table>\n",
              "</div>"
            ],
            "text/plain": [
              "              Date  Rented Bike Count  ...     Holiday  Functioning Day\n",
              "count         8760        8760.000000  ...        8760             8760\n",
              "unique         365                NaN  ...           2                2\n",
              "top     14/05/2018                NaN  ...  No Holiday              Yes\n",
              "freq            24                NaN  ...        8328             8465\n",
              "mean           NaN         704.602055  ...         NaN              NaN\n",
              "std            NaN         644.997468  ...         NaN              NaN\n",
              "min            NaN           0.000000  ...         NaN              NaN\n",
              "25%            NaN         191.000000  ...         NaN              NaN\n",
              "50%            NaN         504.500000  ...         NaN              NaN\n",
              "75%            NaN        1065.250000  ...         NaN              NaN\n",
              "max            NaN        3556.000000  ...         NaN              NaN\n",
              "\n",
              "[11 rows x 14 columns]"
            ]
          },
          "metadata": {},
          "execution_count": 8
        }
      ]
    },
    {
      "cell_type": "code",
      "metadata": {
        "colab": {
          "base_uri": "https://localhost:8080/"
        },
        "id": "HiaxYPfRd3Ga",
        "outputId": "87010c78-ea71-47a7-b949-e70a886c5b22"
      },
      "source": [
        "#reading no of row and column\n",
        "bike_data.shape"
      ],
      "execution_count": 9,
      "outputs": [
        {
          "output_type": "execute_result",
          "data": {
            "text/plain": [
              "(8760, 14)"
            ]
          },
          "metadata": {},
          "execution_count": 9
        }
      ]
    },
    {
      "cell_type": "markdown",
      "metadata": {
        "id": "EPOGeZZvP2lJ"
      },
      "source": [
        "#Changing column names into simple column names"
      ]
    },
    {
      "cell_type": "code",
      "metadata": {
        "id": "Dlm1iAA1OL5b"
      },
      "source": [
        "# all the column or feature\n",
        "bike_data.columns"
      ],
      "execution_count": null,
      "outputs": []
    },
    {
      "cell_type": "code",
      "metadata": {
        "id": "jfz_rZ5tQp8T"
      },
      "source": [
        "#rename column\n",
        "bike_data = bike_data.rename(columns={'Rented Bike Count': 'Rented_Bike_Count', \n",
        "                        'Temperature(°C)': 'Temperature',\n",
        "                        'Humidity(%)': 'Humidity', \n",
        "                        'Wind speed (m/s)': 'Wind_speed', \n",
        "                        'Visibility (10m)': 'Visibility', \n",
        "                        'Dew point temperature(°C)': 'Dew_point_temperature', \n",
        "                        'Solar Radiation (MJ/m2)': 'Solar_Radiation', \n",
        "                        'Rainfall(mm)': 'Rainfall', \n",
        "                        'Snowfall (cm)': 'Snowfall',\n",
        "                        'Functioning Day': 'Functioning_Day'})"
      ],
      "execution_count": null,
      "outputs": []
    },
    {
      "cell_type": "markdown",
      "metadata": {
        "id": "v-BrdtDwliVd"
      },
      "source": [
        "Simplifying column names for ease of reading."
      ]
    },
    {
      "cell_type": "markdown",
      "metadata": {
        "id": "sXNY_hPxUK-G"
      },
      "source": [
        "#Finding categorical features in our dataset."
      ]
    },
    {
      "cell_type": "code",
      "metadata": {
        "id": "MHtgpm-UeUFG"
      },
      "source": [
        "#To find out categorical features in our dataset\n",
        "bike_data.dtypes"
      ],
      "execution_count": null,
      "outputs": []
    },
    {
      "cell_type": "code",
      "metadata": {
        "id": "-VbN5SIhEyym"
      },
      "source": [
        "print(bike_data.dtypes.astype(str).value_counts())"
      ],
      "execution_count": null,
      "outputs": []
    },
    {
      "cell_type": "code",
      "metadata": {
        "id": "bCsVfid_OL2r"
      },
      "source": [
        "# see all the date or diffrent sesaons and holiday and functioning day\n",
        "print(bike_data['Seasons'].unique())\n",
        "print(bike_data['Holiday'].unique())\n",
        "print(bike_data['Functioning_Day'].unique())\n",
        "print(bike_data['Date'].unique())"
      ],
      "execution_count": null,
      "outputs": []
    },
    {
      "cell_type": "markdown",
      "metadata": {
        "id": "TJCRVcNfPAdy"
      },
      "source": [
        "#Checking for null values"
      ]
    },
    {
      "cell_type": "code",
      "metadata": {
        "id": "CZVBF-N4KLnB"
      },
      "source": [
        "# data information for null value\n",
        "bike_data.info()"
      ],
      "execution_count": null,
      "outputs": []
    },
    {
      "cell_type": "code",
      "metadata": {
        "id": "4BDvOtFpeUCO"
      },
      "source": [
        "# checkng for no null value\n",
        "bike_data.isnull().sum()"
      ],
      "execution_count": null,
      "outputs": []
    },
    {
      "cell_type": "markdown",
      "metadata": {
        "id": "QyM4SYH2Po4M"
      },
      "source": [
        "So, here we can see, This dataset contains no null values. So, we need not to worry about missing Data."
      ]
    },
    {
      "cell_type": "markdown",
      "metadata": {
        "id": "qlNJZum5-706"
      },
      "source": [
        "#Extracting features from date"
      ]
    },
    {
      "cell_type": "code",
      "metadata": {
        "id": "TiN_UMDoOLxV"
      },
      "source": [
        "#extarcting all usefull from date formate\n",
        "bike_data['Date']=pd.to_datetime(bike_data['Date'])\n",
        "bike_data['Year'] = pd.DatetimeIndex(bike_data['Date']).year\n",
        "bike_data['Day'] = pd.DatetimeIndex(bike_data['Date']).day\n",
        "bike_data['Month']= pd.DatetimeIndex(bike_data['Date']).month\n",
        "bike_data['weekday']=pd.DatetimeIndex(bike_data['Date']).weekday"
      ],
      "execution_count": null,
      "outputs": []
    },
    {
      "cell_type": "code",
      "metadata": {
        "id": "gMViq3cJOLt6"
      },
      "source": [
        "# data after date time extraction\n",
        "bike_data.head(2)"
      ],
      "execution_count": null,
      "outputs": []
    },
    {
      "cell_type": "code",
      "metadata": {
        "id": "68xiCZG8jO0E"
      },
      "source": [
        "display(bike_data['weekday'].unique())"
      ],
      "execution_count": null,
      "outputs": []
    },
    {
      "cell_type": "code",
      "metadata": {
        "id": "ICfESTE7jOyU"
      },
      "source": [
        "#weekday is in range 0-6, so we need to make it to normal 1-7\n",
        "bike_data['weekday'] = np.array(bike_data['weekday'])+1\n",
        "display(bike_data['weekday'].unique())"
      ],
      "execution_count": null,
      "outputs": []
    },
    {
      "cell_type": "code",
      "metadata": {
        "id": "q6ttkHrojOva"
      },
      "source": [
        "# Rented_bike_per_year = pd.DataFrame(df['Rented Bike Count'].groupby(by=df['Year']).sum()).reset_index().sort_values(\"Year\", ascending=True)\n",
        "# Rented_bike_per_month = pd.DataFrame(df['Rented Bike Count'].groupby(by=df['Month']).sum()).reset_index().sort_values(\"Month\", ascending=True)\n",
        "# Rented_bike_per_Day= pd.DataFrame(df['Rented Bike Count'].groupby(by=df['Day']).sum()).reset_index().sort_values(\"Day\", ascending=True)\n",
        "Rented_bike_per_Weekday= pd.DataFrame(bike_data['Rented_Bike_Count'].groupby(by=bike_data['weekday']).sum()).reset_index().sort_values(\"weekday\", ascending=True)\n",
        "Rented_bike_per_Weekday"
      ],
      "execution_count": null,
      "outputs": []
    },
    {
      "cell_type": "code",
      "metadata": {
        "id": "-DiJVQXeWSrY"
      },
      "source": [
        "# read the data for the year\n",
        "bike_data['Year'].value_counts()"
      ],
      "execution_count": null,
      "outputs": []
    },
    {
      "cell_type": "code",
      "metadata": {
        "id": "Q9-P0QBQWSpk"
      },
      "source": [
        "# year mont count from the data set\n",
        "bike_data.groupby(['Year','Month']).agg({'Rented_Bike_Count':['sum']}).reset_index()"
      ],
      "execution_count": null,
      "outputs": []
    },
    {
      "cell_type": "code",
      "metadata": {
        "id": "NcrBppxPeT6A"
      },
      "source": [
        "bike_data['Months_string'] = bike_data['Month'].map({1:'January',2:'February',3:'March',4:'April',5:'May',6:'June',7:'July',8:'August',9:'September',10:'October',11:'November',12:'December'})"
      ],
      "execution_count": null,
      "outputs": []
    },
    {
      "cell_type": "code",
      "metadata": {
        "id": "qSOhKnRkf52O"
      },
      "source": [
        "import plotly.express as px"
      ],
      "execution_count": null,
      "outputs": []
    },
    {
      "cell_type": "code",
      "metadata": {
        "id": "cRa6dZoiVgeZ"
      },
      "source": [
        "#line plot for the month_year group\n",
        "month_year_group= bike_data.groupby(by=['Month','Months_string','Year']).agg({'Rented_Bike_Count':'sum'}).reset_index()\n",
        "px.line(month_year_group,y= 'Rented_Bike_Count',x= 'Months_string',color= 'Year',title='Total Rented Bikes in 2017 and 2018 on monthly basis',width=1000, height=500)"
      ],
      "execution_count": null,
      "outputs": []
    },
    {
      "cell_type": "code",
      "metadata": {
        "id": "czo8T1LPVgbn"
      },
      "source": [
        "#bar plot for diffrent year\n",
        "px.bar(month_year_group,y= 'Rented_Bike_Count',x='Months_string' ,facet_row= 'Year',title='Total Rented Bikes on monthly basis in 2017 and 2018',width=800, height=600)\n"
      ],
      "execution_count": null,
      "outputs": []
    },
    {
      "cell_type": "markdown",
      "metadata": {
        "id": "QkTI-IbDhDgH"
      },
      "source": [
        "As we can see, rented bike count was very low in 2017.\n",
        "\n",
        "in 2018, we can see a sharp increase in Rented bike count.\n",
        "\n",
        "Highest Demand for rented bike is high in midyear (may, june, july)"
      ]
    },
    {
      "cell_type": "markdown",
      "metadata": {
        "id": "0dmR9Ukxj0DH"
      },
      "source": [
        "### Checking distribution of our dependent variable"
      ]
    },
    {
      "cell_type": "code",
      "metadata": {
        "id": "G8n2gyErayIR"
      },
      "source": [
        "# histogram  plot for the rented bike and year\n",
        "px.histogram(bike_data, x=\"Rented_Bike_Count\",marginal=\"violin\",color='Year')"
      ],
      "execution_count": null,
      "outputs": []
    },
    {
      "cell_type": "code",
      "metadata": {
        "id": "6SIq9YrPv6gQ"
      },
      "source": [
        "#square root transformation\n",
        "px.histogram(bike_data, x=np.sqrt(bike_data[\"Rented_Bike_Count\"]),color='Year',marginal=\"violin\", title='Probalility density of Square root transformation of Number of Rented Bikes',histnorm='probability density')"
      ],
      "execution_count": null,
      "outputs": []
    },
    {
      "cell_type": "markdown",
      "metadata": {
        "id": "2UU4O9BFjSQA"
      },
      "source": [
        "#Exploring Categorical variables"
      ]
    },
    {
      "cell_type": "code",
      "metadata": {
        "id": "bLFSkg7W7UYd"
      },
      "source": [
        "bike_data.columns"
      ],
      "execution_count": null,
      "outputs": []
    },
    {
      "cell_type": "markdown",
      "metadata": {
        "id": "QSssGJXYzDUR"
      },
      "source": [
        "**Counting no. of sections in categorical features in dataset**"
      ]
    },
    {
      "cell_type": "code",
      "metadata": {
        "id": "UpDynyHezNsH"
      },
      "source": [
        "#count plot for diffrent seasons\n",
        "sns.countplot(x ='Seasons', data = bike_data)"
      ],
      "execution_count": null,
      "outputs": []
    },
    {
      "cell_type": "markdown",
      "metadata": {
        "id": "c-BWQvAAB1g2"
      },
      "source": [
        "In our dataset, information about all months are given."
      ]
    },
    {
      "cell_type": "code",
      "metadata": {
        "id": "r2xeNgL58Y1C"
      },
      "source": [
        "# sns.countplot(x ='Functioning_Day', data = bike_data)\n",
        "# commented it because, obviously functioning data will be more (as given in data set) so no need to visualize it."
      ],
      "execution_count": null,
      "outputs": []
    },
    {
      "cell_type": "code",
      "metadata": {
        "id": "gyiZ-mgCBuRO"
      },
      "source": [
        "#comment for countplot for year\n",
        "sns.countplot(x ='Year', data = bike_data)\n"
      ],
      "execution_count": null,
      "outputs": []
    },
    {
      "cell_type": "markdown",
      "metadata": {
        "id": "Ejv_80ayBcl-"
      },
      "source": [
        "Our dataset mostly contains information of year 2018 and very little information of year 2017."
      ]
    },
    {
      "cell_type": "markdown",
      "metadata": {
        "id": "k6W_-FiUAOjP"
      },
      "source": [
        "**Finding relation between variables USING BAR PLOT**"
      ]
    },
    {
      "cell_type": "code",
      "metadata": {
        "id": "0UtKbg5bOwWt"
      },
      "source": [
        "#Finding relation betwwen seasons and rented bike count. telling us rented bike count on that season.\n",
        "# sns.set_style('darkgrid')\n",
        "sns.barplot(x ='Seasons', y ='Rented_Bike_Count', data = bike_data, palette ='tab10')\n"
      ],
      "execution_count": null,
      "outputs": []
    },
    {
      "cell_type": "markdown",
      "metadata": {
        "id": "yqCOs41GEOS2"
      },
      "source": [
        "Rented bike count is less in winter and almost consistantly higher in other months."
      ]
    },
    {
      "cell_type": "code",
      "metadata": {
        "id": "5QWyWwhzLzDy"
      },
      "source": [
        "#plot for the rented bike forweekday\n",
        "sns.barplot(x ='weekday', y ='Rented_Bike_Count', data = bike_data, palette ='tab10')\n"
      ],
      "execution_count": null,
      "outputs": []
    },
    {
      "cell_type": "markdown",
      "metadata": {
        "id": "kz6rNvqxMMMF"
      },
      "source": [
        "In all days, rented bike count is consistant and equal."
      ]
    },
    {
      "cell_type": "code",
      "metadata": {
        "id": "25jAAKrZLy9k"
      },
      "source": [
        "#holiday or not holiday plot\n",
        "sns.countplot(x ='Functioning_Day',hue = 'Holiday', data = bike_data)\n"
      ],
      "execution_count": null,
      "outputs": []
    },
    {
      "cell_type": "markdown",
      "metadata": {
        "id": "QAX9c469O3kD"
      },
      "source": [
        "We got to know all Holidays are falling into functioning days."
      ]
    },
    {
      "cell_type": "markdown",
      "metadata": {
        "id": "dsy-nieOLfHj"
      },
      "source": [
        "**Visualizing Seasons by comparing between holidays and no holidays.**"
      ]
    },
    {
      "cell_type": "markdown",
      "metadata": {
        "id": "-JxXqWO4K2Jd"
      },
      "source": [
        "#Exploring Numerical Variables"
      ]
    },
    {
      "cell_type": "code",
      "metadata": {
        "id": "5nVlkZ4JM2sE"
      },
      "source": [
        "bike_data.columns"
      ],
      "execution_count": null,
      "outputs": []
    },
    {
      "cell_type": "code",
      "metadata": {
        "id": "62zKXeJIM9KU"
      },
      "source": [
        "#selecting numerical features\n",
        "numerical_features = ['Hour', 'Temperature', 'Humidity',\n",
        "       'Wind_speed', 'Visibility', 'Dew_point_temperature', 'Solar_Radiation',\n",
        "       'Rainfall', 'Snowfall' ]"
      ],
      "execution_count": null,
      "outputs": []
    },
    {
      "cell_type": "code",
      "metadata": {
        "id": "5V7WGmcThTcI"
      },
      "source": [
        "# List of colors in the color palettes\n",
        "rgb_values = sns.color_palette(\"bright\")"
      ],
      "execution_count": null,
      "outputs": []
    },
    {
      "cell_type": "code",
      "metadata": {
        "id": "E_VA8-okhV_e"
      },
      "source": [
        "# Map continents to the colors\n",
        "color_map = dict(zip(numerical_features, rgb_values))"
      ],
      "execution_count": null,
      "outputs": []
    },
    {
      "cell_type": "code",
      "metadata": {
        "id": "ZopRRtb9hKsQ"
      },
      "source": [
        "#plot for numerical feature\n",
        "plt.rcParams['figure.figsize'] = (8, 6)\n",
        "for col, key in zip(numerical_features, color_map):\n",
        "  plt.figure()\n",
        "  sns.regplot(x=bike_data[col], y = bike_data['Rented_Bike_Count'],scatter_kws={\"color\": color_map[key]}, line_kws={\"color\": \"Red\"})"
      ],
      "execution_count": null,
      "outputs": []
    },
    {
      "cell_type": "markdown",
      "metadata": {
        "id": "ebebWncCjQ1P"
      },
      "source": [
        "Hour: Demand for bike is mostly in morning (7 to 8) and in the evening (3 to 9).\n",
        "\n",
        "Temperature : rented bike count is highest between 20 °C and 30 °C.\n",
        "\n",
        "Humidity : \n",
        "Humidity is the amount of water vapor in the air. So, People preferring to borrow bike When there is less humidity.\n",
        "\n",
        "Wind_speed :\n",
        "wind speed doesn't affect our data much.\n",
        "\n",
        "Visibility:\n",
        "Visibility doesn't affect our results much.\n",
        "\n",
        "SnowFall and Rainfall:\n",
        "People don't prefer borrowing bike, where there is rainfall or snowfall."
      ]
    },
    {
      "cell_type": "code",
      "metadata": {
        "id": "5pQANB3sayOS"
      },
      "source": [
        "# The dew point is the temperature the air needs to be cooled to (at constant pressure) in order to achieve a relative humidity."
      ],
      "execution_count": null,
      "outputs": []
    },
    {
      "cell_type": "markdown",
      "metadata": {
        "id": "87Y8cwRF1A7l"
      },
      "source": [
        "Finding Correlation of Dependent variable with other variables"
      ]
    },
    {
      "cell_type": "code",
      "metadata": {
        "id": "G4-29OLiv6a_"
      },
      "source": [
        "# bar plot between hr and rented bike count\n",
        "plt.figure(figsize=(10,8))\n",
        "sns.lineplot(x = bike_data['Hour'],y = bike_data['Rented_Bike_Count'])\n",
        "sns.barplot(x = bike_data['Hour'],y = bike_data['Rented_Bike_Count'], color=\"salmon\")\n"
      ],
      "execution_count": null,
      "outputs": []
    },
    {
      "cell_type": "code",
      "metadata": {
        "id": "wBZWXzzo2jCg"
      },
      "source": [
        "# group by Hrs and get average Bikes rented, and precent change\n",
        "avg_rent_hrs = bike_data.groupby('Hour')['Rented_Bike_Count'].mean()\n",
        "pct_rent_hrs = bike_data.groupby('Hour')['Rented_Bike_Count'].sum().pct_change()\n",
        "\n",
        "fig, (axis1,axis2) = plt.subplots(2,1,sharex=True,figsize=(15,8))\n",
        "\n",
        "# plot average rent over time(hrs)\n",
        "ax1 = avg_rent_hrs.plot(legend=True,ax=axis1,marker='o',title=\"Average Bikes Rented Per Hr\")\n",
        "ax1.set_xticks(range(len(avg_rent_hrs)))\n",
        "ax1.set_xticklabels(avg_rent_hrs.index.tolist(), rotation=85)\n",
        "\n",
        "# plot precent change for rent over time(hrs)\n",
        "ax2 = pct_rent_hrs.plot(legend=True,ax=axis2,marker='o',rot=85,colormap=\"summer\",title=\"Bike Rent Percent Change\")\n",
        "#ax1.set_xticks(range(len(avg_rent_hrs)))"
      ],
      "execution_count": null,
      "outputs": []
    },
    {
      "cell_type": "code",
      "metadata": {
        "id": "BMMLh_X3OwRg"
      },
      "source": [
        "# line plot seasonal varaition\n",
        "plt.figure(figsize=(12,4), dpi=100)\n",
        "sns.lineplot(data=bike_data, x=\"Hour\", y=\"Rented_Bike_Count\", hue=\"Seasons\")"
      ],
      "execution_count": null,
      "outputs": []
    },
    {
      "cell_type": "markdown",
      "metadata": {
        "id": "z7VYSr3GK2Cy"
      },
      "source": [
        "**#Relational Analysis - Findind correlation betwwen different variables**"
      ]
    },
    {
      "cell_type": "code",
      "metadata": {
        "id": "F8gl0nCWTvPb"
      },
      "source": [
        "#correlation data\n",
        "np.round(bike_data.corr()['Rented_Bike_Count'],3)"
      ],
      "execution_count": null,
      "outputs": []
    },
    {
      "cell_type": "markdown",
      "metadata": {
        "id": "FMeTuwY744KO"
      },
      "source": [
        "let's drop some columns which are not important"
      ]
    },
    {
      "cell_type": "code",
      "metadata": {
        "id": "VdQSo5E0DEG0"
      },
      "source": [
        "# dropping the non-perfoming column\n",
        "bike_data.drop('Months_string',axis=1,inplace=True)\n",
        "bike_data.drop('Date',axis=1,inplace=True)"
      ],
      "execution_count": null,
      "outputs": []
    },
    {
      "cell_type": "code",
      "metadata": {
        "id": "UclQCXrAOwUF"
      },
      "source": [
        "import seaborn as sns\n",
        "#get correlations of each features in dataset\n",
        "corrmat = bike_data.corr()\n",
        "top_corr_features = corrmat.index\n",
        "plt.figure(figsize=(14,11))\n",
        "#plot heat map\n",
        "g=sns.heatmap(bike_data[top_corr_features].corr(),annot=True,cmap=\"RdYlGn\",center=0.3)"
      ],
      "execution_count": null,
      "outputs": []
    },
    {
      "cell_type": "markdown",
      "metadata": {
        "id": "XGsLINh8f9Dc"
      },
      "source": [
        "* Temperature and Dew point temperature are highly correlated. We can add them to make one single column\n"
      ]
    },
    {
      "cell_type": "code",
      "metadata": {
        "id": "t8fjYUYCf3Yv"
      },
      "source": [
        "# creating new  feature\n",
        "bike_data['Temperature_and_DP_Temp'] = [bike_data['Temperature'][i]+bike_data['Dew_point_temperature'][i] for i in range(len(bike_data))]\n",
        "bike_data.drop(['Temperature','Dew_point_temperature'],axis=1,inplace=True)\n"
      ],
      "execution_count": null,
      "outputs": []
    },
    {
      "cell_type": "code",
      "metadata": {
        "id": "Cf0tWE3rf4Py"
      },
      "source": [
        "#correlation plot\n",
        "corrmat = bike_data.corr()\n",
        "top_corr_features = corrmat.index\n",
        "plt.figure(figsize=(14,11))\n",
        "#plot heat map\n",
        "g=sns.heatmap(bike_data[top_corr_features].corr(),annot=True,cmap=\"RdYlGn\",center=0.3)"
      ],
      "execution_count": null,
      "outputs": []
    },
    {
      "cell_type": "code",
      "metadata": {
        "id": "TP5DGFVcf4J0"
      },
      "source": [
        "#creating dummies column for the given feature\n",
        "bike_data=pd.get_dummies(bike_data,drop_first=True)\n"
      ],
      "execution_count": null,
      "outputs": []
    },
    {
      "cell_type": "code",
      "metadata": {
        "id": "LP2zrtbRf4HC"
      },
      "source": [
        "# table after feature engineering\n",
        "bike_data.head()"
      ],
      "execution_count": null,
      "outputs": []
    },
    {
      "cell_type": "code",
      "metadata": {
        "id": "cGdzJ0z8OwO8"
      },
      "source": [
        "# removing less importance column\n",
        "bike_data.drop('weekday',axis=1,inplace=True)"
      ],
      "execution_count": null,
      "outputs": []
    },
    {
      "cell_type": "code",
      "metadata": {
        "id": "zj-Uw8XBl86K"
      },
      "source": [
        "bike_data.head()"
      ],
      "execution_count": null,
      "outputs": []
    },
    {
      "cell_type": "code",
      "metadata": {
        "id": "j9J4MzvW8vHL"
      },
      "source": [
        "# shape of the data\n",
        "bike_data.shape"
      ],
      "execution_count": null,
      "outputs": []
    },
    {
      "cell_type": "markdown",
      "metadata": {
        "id": "sKG44Ac5n6U5"
      },
      "source": [
        "# **Model Building**"
      ]
    },
    {
      "cell_type": "code",
      "metadata": {
        "id": "aMkr8XCRVgWT"
      },
      "source": [
        "# Data for all the independent variables\n",
        "X = bike_data.drop(labels='Rented_Bike_Count',axis=1)\n",
        "\n",
        "# Data for the dependent variable\n",
        "\n",
        "y = np.sqrt(bike_data['Rented_Bike_Count'])\n",
        "y.head()"
      ],
      "execution_count": null,
      "outputs": []
    },
    {
      "cell_type": "code",
      "metadata": {
        "id": "ZWX4ZpCa8wsY"
      },
      "source": [
        "# Feature Importance\n",
        "\n",
        "from sklearn.ensemble import ExtraTreesRegressor\n",
        "import matplotlib.pyplot as plt\n",
        "model = ExtraTreesRegressor()\n",
        "model.fit(X,y)"
      ],
      "execution_count": null,
      "outputs": []
    },
    {
      "cell_type": "code",
      "metadata": {
        "id": "_r-thPZV9Tl-"
      },
      "source": [
        "print(model.feature_importances_)\n"
      ],
      "execution_count": null,
      "outputs": []
    },
    {
      "cell_type": "code",
      "metadata": {
        "id": "HuXpiA1Z9Z8Y"
      },
      "source": [
        "\n",
        "#plot graph of feature importances for better visualization\n",
        "feat_importances = pd.Series(model.feature_importances_, index=X.columns)\n",
        "feat_importances.nlargest(5).plot(kind='barh')\n",
        "plt.show()"
      ],
      "execution_count": null,
      "outputs": []
    },
    {
      "cell_type": "markdown",
      "metadata": {
        "id": "yvHsWxk16axe"
      },
      "source": [
        "#Train Test Split Model"
      ]
    },
    {
      "cell_type": "code",
      "metadata": {
        "id": "SNBznrxNwni4"
      },
      "source": [
        "#import train-test split lib\n",
        "from sklearn.model_selection import train_test_split"
      ],
      "execution_count": null,
      "outputs": []
    },
    {
      "cell_type": "code",
      "metadata": {
        "id": "FI3USyjYw9ZD"
      },
      "source": [
        "# function which split data into train and test\n",
        "X_train,X_test,y_train,y_test=train_test_split(X,y,test_size=0.2,random_state=34)"
      ],
      "execution_count": null,
      "outputs": []
    },
    {
      "cell_type": "code",
      "metadata": {
        "id": "IxClbWO-xBqS"
      },
      "source": [
        "print(X_train.shape,y_train.shape)\n",
        "print(X_test.shape,y_test.shape)"
      ],
      "execution_count": null,
      "outputs": []
    },
    {
      "cell_type": "markdown",
      "metadata": {
        "id": "T2VACivpyhmN"
      },
      "source": [
        "## **In this project we are using four model on our data set for getting best performance:-**\n",
        "\n",
        "LINEAR REGRESION \n",
        "\n",
        "LASSO REGRESSION\n",
        "\n",
        "RIDGE REGRESSION\n",
        "\n",
        "GRADIENT BOOSTING\n",
        "\n",
        "DECISION TREE\n",
        "\n",
        "RANDOM FORREST \n",
        "\n",
        "XGBOOST"
      ]
    },
    {
      "cell_type": "markdown",
      "metadata": {
        "id": "oaCVrFsM8wjD"
      },
      "source": [
        "#Linear Regression Model\n",
        "\n",
        "For linear regression we have some assumptions, given below are the basic assumptions that a linear regression model makes regarding a dataset on which it is applied:(rewrite)\n",
        "\n",
        "* **Linear relationship**: Relationship between response and feature variables should be linear. The linearity assumption can be tested using scatter plots.\n",
        "* **Little or no multi-collinearity**: It is assumed that there is little or no multicollinearity in the data. Multicollinearity occurs when the features (or independent variables) are not independent from each other.\n",
        "* **Little or no auto-correlation**: Another assumption is that there is little or no autocorrelation in the data. Autocorrelation occurs when the residual errors are not independent from each other.\n",
        "* **Homoscedasticity**: Homoscedasticity describes a situation in which the error term (that is, the “noise” or random disturbance in the relationship between the independent variables and the dependent variable) is the same across all values of the independent"
      ]
    },
    {
      "cell_type": "code",
      "metadata": {
        "id": "v0W_7vIB-Djh"
      },
      "source": [
        "from sklearn.linear_model import LinearRegression\n",
        "reg= LinearRegression().fit(X_train, y_train)"
      ],
      "execution_count": null,
      "outputs": []
    },
    {
      "cell_type": "code",
      "metadata": {
        "id": "doiG4pS8-Dg5"
      },
      "source": [
        "# all coeffient\n",
        "reg.score(X_train, y_train)"
      ],
      "execution_count": null,
      "outputs": []
    },
    {
      "cell_type": "code",
      "metadata": {
        "id": "S96eNzaQ6QZo"
      },
      "source": [
        "reg.coef_"
      ],
      "execution_count": null,
      "outputs": []
    },
    {
      "cell_type": "code",
      "metadata": {
        "id": "CTavS2uY6gqw"
      },
      "source": [
        "# pred train test\n",
        "y_pred_train=reg.predict(X_train)\n",
        "y_pred_test=reg.predict(X_test)"
      ],
      "execution_count": null,
      "outputs": []
    },
    {
      "cell_type": "code",
      "metadata": {
        "id": "Om0XH_bs6jYp"
      },
      "source": [
        "#metrics for linear regession analysis\n",
        "from sklearn.metrics import mean_squared_error\n",
        "MSE= mean_squared_error((y_train), (y_pred_train))\n",
        "print(\"MSE :\",MSE)\n",
        "\n",
        "RMSE=np.sqrt(MSE)\n",
        "print(\"RMSE :\",RMSE)\n",
        "\n",
        "\n",
        "\n",
        "\n",
        "from sklearn.metrics import r2_score\n",
        "r2= r2_score(y_train, y_pred_train)\n",
        "print(\"R2 :\",r2)\n",
        "print(\"Adjusted R2 :\",1-(1-r2_score(y_train, y_pred_train))*((X_test.shape[0]-1)/(X_test.shape[0]-X_test.shape[1]-1)) )"
      ],
      "execution_count": null,
      "outputs": []
    },
    {
      "cell_type": "code",
      "metadata": {
        "id": "VqT-qrHUDxqL"
      },
      "source": [
        "#metrics for linear regession analysis for test dataset\n",
        "from sklearn.metrics import mean_squared_error\n",
        "MSE= mean_squared_error((y_test), (y_pred_test))\n",
        "print(\"MSE :\",MSE)\n",
        "\n",
        "RMSE=np.sqrt(MSE)\n",
        "print(\"RMSE :\",RMSE)\n",
        "r2= r2_score(y_test, y_pred_test)\n",
        "print(\"R2 :\",r2)\n",
        "print(\"Adjusted R2 :\",1-(1-r2_score(y_test, y_pred_test))*((X_test.shape[0]-1)/(X_test.shape[0]-X_test.shape[1]-1)) )"
      ],
      "execution_count": null,
      "outputs": []
    },
    {
      "cell_type": "code",
      "metadata": {
        "id": "ybDb1Sht60-r"
      },
      "source": [
        "#predicted vs actual for test data\n",
        "plt.figure(figsize=(10,5))\n",
        "plt.plot(np.array(y_pred_test))\n",
        "plt.plot(np.array((y_test)))\n",
        "plt.legend([\"Predicted\",\"Actual\"])\n",
        "plt.show()"
      ],
      "execution_count": null,
      "outputs": []
    },
    {
      "cell_type": "code",
      "metadata": {
        "id": "a1EmZscN7VAk"
      },
      "source": [
        "# Heteroscadacity\n",
        "plt.scatter((y_pred_test),(y_test)-(y_pred_test))"
      ],
      "execution_count": null,
      "outputs": []
    },
    {
      "cell_type": "markdown",
      "metadata": {
        "id": "DJZfvn_J8AtT"
      },
      "source": [
        "# Implementing lasso Regression"
      ]
    },
    {
      "cell_type": "code",
      "metadata": {
        "id": "CFT9aZcr7pvr"
      },
      "source": [
        "from sklearn.linear_model import Lasso\n",
        "lasso=Lasso(alpha=0.1,max_iter=3000)\n",
        "lasso.fit(X_train,y_train)"
      ],
      "execution_count": null,
      "outputs": []
    },
    {
      "cell_type": "code",
      "metadata": {
        "id": "1mOlY_3D9kKD"
      },
      "source": [
        "lasso.score(X_train, y_train)"
      ],
      "execution_count": null,
      "outputs": []
    },
    {
      "cell_type": "code",
      "metadata": {
        "id": "n8HK5rev9wJ1"
      },
      "source": [
        "# lasso y pred test and train\n",
        "y_pred_train_lasso=lasso.predict(X_train)\n",
        "y_pred_test_lasso=lasso.predict(X_test)"
      ],
      "execution_count": null,
      "outputs": []
    },
    {
      "cell_type": "code",
      "metadata": {
        "id": "m3ssXN9H98nw"
      },
      "source": [
        "# mterics for lasso regressor flor train dataset\n",
        "from sklearn.metrics import mean_squared_error\n",
        "MSE= mean_squared_error((y_train), (y_pred_train_lasso))\n",
        "print(\"MSE :\",MSE)\n",
        "\n",
        "RMSE=np.sqrt(MSE)\n",
        "print(\"RMSE :\",RMSE)\n",
        "from sklearn.metrics import r2_score\n",
        "r2= r2_score(y_train, y_pred_train_lasso)\n",
        "print(\"R2 :\",r2)\n",
        "print(\"Adjusted R2 :\",1-(1-r2_score(y_train, y_pred_train_lasso))*((X_test.shape[0]-1)/(X_test.shape[0]-X_test.shape[1]-1)) )"
      ],
      "execution_count": null,
      "outputs": []
    },
    {
      "cell_type": "code",
      "metadata": {
        "id": "VYB3Jk-EjtLj"
      },
      "source": [
        "# mterics for lasso regressor flor test dataset\n",
        "from sklearn.metrics import mean_squared_error\n",
        "MSE= mean_squared_error((y_test), (y_pred_test_lasso))\n",
        "print(\"MSE :\",MSE)\n",
        "\n",
        "RMSE=np.sqrt(MSE)\n",
        "print(\"RMSE :\",RMSE)\n",
        "from sklearn.metrics import r2_score\n",
        "r2= r2_score(y_test, y_pred_test_lasso)\n",
        "print(\"R2 :\",r2)\n",
        "print(\"Adjusted R2 :\",1-(1-r2_score(y_test, y_pred_test_lasso))*((X_test.shape[0]-1)/(X_test.shape[0]-X_test.shape[1]-1)) )"
      ],
      "execution_count": null,
      "outputs": []
    },
    {
      "cell_type": "code",
      "metadata": {
        "id": "YSvX8Oza-DLA"
      },
      "source": [
        "plt.figure(figsize=(8,5))\n",
        "plt.plot(np.array(y_pred_test_lasso))\n",
        "plt.plot(np.array((y_test)))\n",
        "plt.legend([\"Predicted\",\"Actual\"])\n",
        "plt.show()"
      ],
      "execution_count": null,
      "outputs": []
    },
    {
      "cell_type": "code",
      "metadata": {
        "id": "Wn8uDtxT_N-h"
      },
      "source": [
        "# Heteroscadacity\n",
        "plt.scatter((y_pred_test_lasso),(y_test-y_pred_test_lasso))"
      ],
      "execution_count": null,
      "outputs": []
    },
    {
      "cell_type": "markdown",
      "metadata": {
        "id": "uZBi8ATW_-Zj"
      },
      "source": [
        "# Implementing Ridge Regression"
      ]
    },
    {
      "cell_type": "code",
      "metadata": {
        "id": "Pwk0Jj0-_ZqH"
      },
      "source": [
        "#importing ridge regression\n",
        "from sklearn.linear_model import Ridge\n",
        "\n",
        "ridge= Ridge(alpha=0.1)\n",
        "ridge.fit(X_train,y_train)"
      ],
      "execution_count": null,
      "outputs": []
    },
    {
      "cell_type": "code",
      "metadata": {
        "id": "QA8ucMr3AKWK"
      },
      "source": [
        "# ridge score\n",
        "ridge.score(X_train, y_train)"
      ],
      "execution_count": null,
      "outputs": []
    },
    {
      "cell_type": "code",
      "metadata": {
        "id": "pxRpP725AQU0"
      },
      "source": [
        "#y pred  ridge test and train\n",
        "y_pred_train_ridge=ridge.predict(X_train)\n",
        "y_pred_test_ridge=ridge.predict(X_test)"
      ],
      "execution_count": null,
      "outputs": []
    },
    {
      "cell_type": "code",
      "metadata": {
        "id": "zYMLmsz5AU4p"
      },
      "source": [
        "# metrics for ridge regression\n",
        "from sklearn.metrics import mean_squared_error\n",
        "MSE= mean_squared_error((y_train), (y_pred_train_ridge))\n",
        "print(\"MSE :\",MSE)\n",
        "\n",
        "RMSE=np.sqrt(MSE)\n",
        "print(\"RMSE :\",RMSE)\n",
        "\n",
        "\n",
        "from sklearn.metrics import r2_score\n",
        "r2= r2_score(y_train, y_pred_train_ridge)\n",
        "print(\"R2 :\",r2)\n",
        "print(\"Adjusted R2 :\",1-(1-r2_score(y_train, y_pred_train_ridge))*((X_test.shape[0]-1)/(X_test.shape[0]-X_test.shape[1]-1)) )"
      ],
      "execution_count": null,
      "outputs": []
    },
    {
      "cell_type": "code",
      "metadata": {
        "id": "pMK6EcUqn8bR"
      },
      "source": [
        "# metrics for ridge regression for test\n",
        "from sklearn.metrics import mean_squared_error\n",
        "MSE= mean_squared_error((y_test), (y_pred_test_ridge))\n",
        "print(\"MSE :\",MSE)\n",
        "\n",
        "RMSE=np.sqrt(MSE)\n",
        "print(\"RMSE :\",RMSE)\n",
        "\n",
        "\n",
        "from sklearn.metrics import r2_score\n",
        "r2= r2_score(y_test, y_pred_test_ridge)\n",
        "print(\"R2 :\",r2)\n",
        "print(\"Adjusted R2 :\",1-(1-r2_score(y_test, y_pred_test_ridge))*((X_test.shape[0]-1)/(X_test.shape[0]-X_test.shape[1]-1)) )"
      ],
      "execution_count": null,
      "outputs": []
    },
    {
      "cell_type": "code",
      "metadata": {
        "id": "YL9ErQmaAthQ"
      },
      "source": [
        "#plot for ridge \n",
        "plt.figure(figsize=(8,5))\n",
        "plt.plot((y_pred_test_ridge))\n",
        "plt.plot((np.array(y_test)))\n",
        "plt.legend([\"Predicted\",\"Actual\"])\n",
        "plt.show()"
      ],
      "execution_count": null,
      "outputs": []
    },
    {
      "cell_type": "code",
      "metadata": {
        "id": "S72Rd-GUA9a8"
      },
      "source": [
        "# Heteroscadacity\n",
        "plt.scatter((y_pred_test_ridge),(y_test)-(y_pred_test_ridge))"
      ],
      "execution_count": null,
      "outputs": []
    },
    {
      "cell_type": "markdown",
      "metadata": {
        "id": "apwAtFkXCSdu"
      },
      "source": [
        "# Implementing Elastic Net Regressor"
      ]
    },
    {
      "cell_type": "code",
      "metadata": {
        "id": "F3XUqMsgBOtm"
      },
      "source": [
        "#importing elasticnet model\n",
        "from sklearn.linear_model import ElasticNet\n",
        "elasticnet = ElasticNet(alpha=0.1, l1_ratio=0.5)\n",
        "#a*l1+b*l2\n",
        "#alpha=a+b and l1 ratio=a/a+b\n",
        "elasticnet.fit(X_train,y_train)"
      ],
      "execution_count": null,
      "outputs": []
    },
    {
      "cell_type": "code",
      "metadata": {
        "id": "FfJ3OrHpDA74"
      },
      "source": [
        "#elastic net score\n",
        "\n",
        "elasticnet.score(X_train, y_train)"
      ],
      "execution_count": null,
      "outputs": []
    },
    {
      "cell_type": "code",
      "metadata": {
        "id": "ySOU04ICDd-E"
      },
      "source": [
        "#y_predict for train and test dataset\n",
        "y_pred_train_en=elasticnet.predict(X_train)\n",
        "y_pred_test_en=elasticnet.predict(X_test)"
      ],
      "execution_count": null,
      "outputs": []
    },
    {
      "cell_type": "code",
      "metadata": {
        "id": "vf96CIO9fq-g"
      },
      "source": [
        ""
      ],
      "execution_count": null,
      "outputs": []
    },
    {
      "cell_type": "code",
      "metadata": {
        "id": "WA0-msblDhtB"
      },
      "source": [
        "#metris for the elasticnet regression on train\n",
        "from sklearn.metrics import mean_squared_error\n",
        "MSE= mean_squared_error((y_train), (y_pred_train_en))\n",
        "print(\"MSE :\",MSE)\n",
        "\n",
        "RMSE=np.sqrt(MSE)\n",
        "print(\"RMSE :\",RMSE)\n",
        "\n",
        "\n",
        "from sklearn.metrics import r2_score\n",
        "r2= r2_score(y_train, y_pred_train_en)\n",
        "print(\"R2 :\",r2)\n",
        "print(\"Adjusted R2 :\",1-(1-r2_score(y_train, y_pred_train_en))*((X_test.shape[0]-1)/(X_test.shape[0]-X_test.shape[1]-1)) )"
      ],
      "execution_count": null,
      "outputs": []
    },
    {
      "cell_type": "code",
      "metadata": {
        "id": "rF4uNTTXD_eZ"
      },
      "source": [
        "#metris for the elasticnet regression on test\n",
        "from sklearn.metrics import mean_squared_error\n",
        "MSE= mean_squared_error((y_test), (y_pred_test_en))\n",
        "print(\"MSE :\",MSE)\n",
        "\n",
        "RMSE=np.sqrt(MSE)\n",
        "print(\"RMSE :\",RMSE)\n",
        "\n",
        "from sklearn.metrics import r2_score\n",
        "r2= r2_score(y_test, y_pred_test_en)\n",
        "print(\"R2 :\",r2)\n",
        "print(\"Adjusted R2 :\",1-(1-r2_score(y_test, y_pred_test_en))*((X_test.shape[0]-1)/(X_test.shape[0]-X_test.shape[1]-1)) )"
      ],
      "execution_count": null,
      "outputs": []
    },
    {
      "cell_type": "code",
      "metadata": {
        "id": "IPwVkmBhEO-h"
      },
      "source": [
        "#plot for pred vs actual for test\n",
        "plt.figure(figsize=(8,5))\n",
        "plt.plot(np.array(y_pred_test_en))\n",
        "plt.plot((np.array(y_test)))\n",
        "plt.legend([\"Predicted\",\"Actual\"])\n",
        "plt.show()"
      ],
      "execution_count": null,
      "outputs": []
    },
    {
      "cell_type": "code",
      "metadata": {
        "id": "KsimKVhKEh_2"
      },
      "source": [
        "#Heteroscadacity\n",
        "plt.scatter((y_pred_test_en),(y_test)-(y_pred_test_en))"
      ],
      "execution_count": null,
      "outputs": []
    },
    {
      "cell_type": "markdown",
      "metadata": {
        "id": "bPbUYuguFKFm"
      },
      "source": [
        "# Implementing of decision tree by using decision tree regressor"
      ]
    },
    {
      "cell_type": "code",
      "metadata": {
        "id": "IHVmJBF4Emvy"
      },
      "source": [
        "decision_regressor = DecisionTreeRegressor(criterion='mse', max_depth=8,\n",
        "                      max_features=9, max_leaf_nodes=100,)\n",
        "decision_regressor.fit(X_train, y_train)"
      ],
      "execution_count": null,
      "outputs": []
    },
    {
      "cell_type": "code",
      "metadata": {
        "id": "OiHGV8ofGV34"
      },
      "source": [
        "#y pred for test and train data\n",
        "y_pred_train_dt = decision_regressor.predict(X_train)\n",
        "y_pred_test_dt = decision_regressor.predict(X_test)"
      ],
      "execution_count": null,
      "outputs": []
    },
    {
      "cell_type": "code",
      "metadata": {
        "id": "cWPJvpjrGjkU"
      },
      "source": [
        "#metric for decison tree for train data\n",
        "from sklearn.metrics import mean_squared_error\n",
        "print(\"Model Score:\",decision_regressor.score(X_train,y_train))\n",
        "\n",
        "MSE= mean_squared_error(y_train, y_pred_train_dt)\n",
        "print(\"MSE :\",MSE)\n",
        "\n",
        "RMSE=np.sqrt(MSE)\n",
        "print(\"RMSE :\",RMSE)\n",
        "\n",
        "from sklearn.metrics import r2_score\n",
        "r2= r2_score(y_train, y_pred_train_dt)\n",
        "print(\"R2 :\",r2)\n",
        "print(\"Adjusted R2 :\",1-(1-r2_score(y_train, y_pred_train_dt))*((X_test.shape[0]-1)/(X_test.shape[0]-X_test.shape[1]-1)) )"
      ],
      "execution_count": null,
      "outputs": []
    },
    {
      "cell_type": "code",
      "metadata": {
        "id": "mr5piIf-Gzee"
      },
      "source": [
        "#metric for decison tree for test data\n",
        "from sklearn.metrics import mean_squared_error\n",
        "MSE= mean_squared_error(y_test, y_pred_test_dt)\n",
        "print(\"MSE :\",MSE)\n",
        "\n",
        "RMSE=np.sqrt(MSE)\n",
        "print(\"RMSE :\",RMSE)\n",
        "\n",
        "from sklearn.metrics import r2_score\n",
        "r2= r2_score((y_test), (y_pred_test_dt))\n",
        "print(\"R2 :\",r2)\n",
        "print(\"Adjusted R2 :\",1-(1-r2_score((y_test), (y_pred_test_dt)))*((X_test.shape[0]-1)/(X_test.shape[0]-X_test.shape[1]-1)) )"
      ],
      "execution_count": null,
      "outputs": []
    },
    {
      "cell_type": "code",
      "metadata": {
        "id": "l52q5Q_ZG52Q"
      },
      "source": [
        "#pred vs actual for decision tree\n",
        "plt.figure(figsize=(8,5))\n",
        "plt.plot((np.array(y_pred_test_dt)))\n",
        "plt.plot(np.array((y_test)))\n",
        "plt.legend([\"Predicted\",\"Actual\"])\n",
        "plt.show()"
      ],
      "execution_count": null,
      "outputs": []
    },
    {
      "cell_type": "code",
      "metadata": {
        "id": "moFHXkMpH9ys"
      },
      "source": [
        "# Heteroscadacity\n",
        "plt.scatter((y_pred_test_dt),(y_test)-(y_pred_test_dt))"
      ],
      "execution_count": null,
      "outputs": []
    },
    {
      "cell_type": "markdown",
      "metadata": {
        "id": "fpB6gyWMIh-M"
      },
      "source": [
        "# Visualization of decision tree"
      ]
    },
    {
      "cell_type": "code",
      "metadata": {
        "id": "60H-lz1JIKOz"
      },
      "source": [
        "# decision tree visualization\n",
        "graph = Source(tree.export_graphviz(decision_regressor, out_file=None\n",
        "   , feature_names=X_train.columns, class_names=['0', '1'] \n",
        "   , filled = True))\n",
        "display(SVG(graph.pipe(format='svg')))"
      ],
      "execution_count": null,
      "outputs": []
    },
    {
      "cell_type": "markdown",
      "metadata": {
        "id": "WFjNmTDkG3Ky"
      },
      "source": [
        "# Implementing Random forrest Rergressor"
      ]
    },
    {
      "cell_type": "code",
      "metadata": {
        "id": "D6f2iA8wHBnN"
      },
      "source": [
        "#creating an instance for the random forest\n",
        "rf_model=RandomForestRegressor()\n",
        "rf_model.fit(X_train,y_train)"
      ],
      "execution_count": null,
      "outputs": []
    },
    {
      "cell_type": "code",
      "metadata": {
        "id": "D_Ff7cMWH4Uo"
      },
      "source": [
        "# Making predictions on train and test data in rf\n",
        "\n",
        "y_pred_train_rf = rf_model.predict(X_train)\n",
        "y_pred_test_rf = rf_model.predict(X_test)"
      ],
      "execution_count": null,
      "outputs": []
    },
    {
      "cell_type": "code",
      "metadata": {
        "id": "7hnljwZSIWqZ"
      },
      "source": [
        "#metric score for the rf for train dataset\n",
        "from sklearn.metrics import mean_squared_error\n",
        "print(\"Model Score:\",rf_model.score(X_train,y_train))\n",
        "\n",
        "MSE= mean_squared_error(y_train, y_pred_train_rf)\n",
        "print(\"MSE :\",MSE)\n",
        "\n",
        "RMSE=np.sqrt(MSE)\n",
        "print(\"RMSE :\",RMSE)\n",
        "from sklearn.metrics import r2_score\n",
        "r2= r2_score(y_train, y_pred_train_rf)\n",
        "print(\"R2 :\",r2)\n",
        "print(\"Adjusted R2 :\",1-(1-r2_score(y_train, y_pred_train_rf))*((X_test.shape[0]-1)/(X_test.shape[0]-X_test.shape[1]-1)) )"
      ],
      "execution_count": null,
      "outputs": []
    },
    {
      "cell_type": "code",
      "metadata": {
        "id": "DoB9X56frWnK"
      },
      "source": [
        "#metric score for the rf for test dataset\n",
        "print(\"Model Score:\",rf_model.score(X_test,y_test))\n",
        "\n",
        "MSE= mean_squared_error(y_test, y_pred_test_rf)\n",
        "print(\"MSE :\",MSE)\n",
        "\n",
        "RMSE=np.sqrt(MSE)\n",
        "print(\"RMSE :\",RMSE)\n",
        "from sklearn.metrics import r2_score\n",
        "r2= r2_score(y_test, y_pred_test_rf)\n",
        "print(\"R2 :\",r2)\n",
        "print(\"Adjusted R2 :\",1-(1-r2_score(y_test, y_pred_test_rf))*((X_test.shape[0]-1)/(X_test.shape[0]-X_test.shape[1]-1)) )"
      ],
      "execution_count": null,
      "outputs": []
    },
    {
      "cell_type": "code",
      "metadata": {
        "id": "B58aPwABJaty"
      },
      "source": [
        "#pred vs actual for random forrest\n",
        "plt.figure(figsize=(8,5))\n",
        "plt.plot((np.array(y_pred_test_rf)))\n",
        "plt.plot(np.array((y_test)))\n",
        "plt.legend([\"Predicted\",\"Actual\"])\n",
        "plt.show()"
      ],
      "execution_count": null,
      "outputs": []
    },
    {
      "cell_type": "code",
      "metadata": {
        "id": "ZsHpG0Z9IgnX"
      },
      "source": [
        "#Heteroscadacity\n",
        "plt.scatter((y_pred_test_rf),(y_test)-(y_pred_test_rf))"
      ],
      "execution_count": null,
      "outputs": []
    },
    {
      "cell_type": "code",
      "metadata": {
        "id": "Ze6K99GtJHz8"
      },
      "source": [
        "rf_model.feature_importances_"
      ],
      "execution_count": null,
      "outputs": []
    },
    {
      "cell_type": "code",
      "metadata": {
        "id": "kJBNfzq4O0Ot"
      },
      "source": [
        "importance_rf=rf_model.feature_importances_"
      ],
      "execution_count": null,
      "outputs": []
    },
    {
      "cell_type": "code",
      "metadata": {
        "id": "5LaXwyqmPS1-"
      },
      "source": [
        "imortance_rf_dict={\"Feature\":list(X_train.columns),\"Feature importance\":importance_rf}\n",
        "imortance_rf_df=pd.DataFrame(imortance_rf_dict)"
      ],
      "execution_count": null,
      "outputs": []
    },
    {
      "cell_type": "code",
      "metadata": {
        "id": "0ceyuksOQVg_"
      },
      "source": [
        "imortance_rf_df[\"Feature importance\"]=round(imortance_rf_df[\"Feature importance\"],2)"
      ],
      "execution_count": null,
      "outputs": []
    },
    {
      "cell_type": "code",
      "metadata": {
        "id": "OxCTreDDQt6i"
      },
      "source": [
        "imortance_rf_df.sort_values(by=[\"Feature importance\"],ascending=False)\n"
      ],
      "execution_count": null,
      "outputs": []
    },
    {
      "cell_type": "code",
      "metadata": {
        "id": "RBk30zouSKgq"
      },
      "source": [
        "rf_model.fit(X_train,y_train)"
      ],
      "execution_count": null,
      "outputs": []
    },
    {
      "cell_type": "code",
      "metadata": {
        "id": "AtCPEgE1SdLp"
      },
      "source": [
        "features=X_train.columns\n",
        "importance_rf=rf_model.feature_importances_\n",
        "indices=np.argsort(importance_rf)"
      ],
      "execution_count": null,
      "outputs": []
    },
    {
      "cell_type": "code",
      "metadata": {
        "id": "S7YOIj43TGzt"
      },
      "source": [
        "plt.title(\"feature imporance\")\n",
        "plt.barh(range(len(indices)),importance_rf[indices],color=\"green\",align=\"center\")\n",
        "\n",
        "plt.yticks(range(len(indices)),[features[i] for i in indices])\n",
        "plt.xlabel(\"Relative importance\") \n",
        "plt.show()         "
      ],
      "execution_count": null,
      "outputs": []
    },
    {
      "cell_type": "markdown",
      "metadata": {
        "id": "Xo1zpPWQae9k"
      },
      "source": [
        "# Training Random forrest Regressor from GridesearchCV "
      ]
    },
    {
      "cell_type": "code",
      "metadata": {
        "id": "_ZEUW0YZUj6m"
      },
      "source": [
        "# number of trees\n",
        "n_estimators=[50,80,100]\n",
        "\n",
        "#max deapth of tree\n",
        "max_depth=[4,6,8]\n",
        "\n",
        "#minimum no of sample required for spliting the node\n",
        "min_samples_split=[50,100,150]\n",
        "\n",
        "#minimum no of sample required at each leaf node\n",
        "min_samples_leaf=[40,50]\n",
        "#hyper parametr gride\n",
        "param_dict = {'n_estimators' : n_estimators,\n",
        "              'max_depth' : max_depth,\n",
        "              'min_samples_split' : min_samples_split,\n",
        "              'min_samples_leaf' : min_samples_leaf}\n"
      ],
      "execution_count": null,
      "outputs": []
    },
    {
      "cell_type": "code",
      "metadata": {
        "id": "C_He7ub9dQ50"
      },
      "source": [
        "param_dict"
      ],
      "execution_count": null,
      "outputs": []
    },
    {
      "cell_type": "markdown",
      "metadata": {
        "id": "BiAEFda6dzFZ"
      },
      "source": [
        "# Importing Random forrest Regressor"
      ]
    },
    {
      "cell_type": "code",
      "metadata": {
        "id": "q3TCO0vidTD0"
      },
      "source": [
        "# Create an instance of the RandomForestRegressor\n",
        "rf_model = RandomForestRegressor()\n",
        "\n",
        "# Grid search\n",
        "rf_grid = GridSearchCV(estimator=rf_model,\n",
        "                       param_grid = param_dict,\n",
        "                       cv = 5, verbose=2)\n",
        "\n",
        "rf_grid.fit(X_train,y_train)"
      ],
      "execution_count": null,
      "outputs": []
    },
    {
      "cell_type": "code",
      "metadata": {
        "id": "fxYNYGdOe-7i"
      },
      "source": [
        "rf_grid.best_estimator_"
      ],
      "execution_count": null,
      "outputs": []
    },
    {
      "cell_type": "code",
      "metadata": {
        "id": "54MrATeZfEIr"
      },
      "source": [
        "rf_optimal_model = rf_grid.best_estimator_"
      ],
      "execution_count": null,
      "outputs": []
    },
    {
      "cell_type": "code",
      "metadata": {
        "id": "7NiP-QKkfGzb"
      },
      "source": [
        "rf_grid.best_params_"
      ],
      "execution_count": null,
      "outputs": []
    },
    {
      "cell_type": "code",
      "metadata": {
        "id": "qfRuaLP0fLbf"
      },
      "source": [
        "# Making predictions on train and test data\n",
        "\n",
        "y_pred_train_r_g = rf_optimal_model.predict(X_train)\n",
        "y_pred_test_r_g = rf_optimal_model.predict(X_test)"
      ],
      "execution_count": null,
      "outputs": []
    },
    {
      "cell_type": "code",
      "metadata": {
        "id": "csCCrQ1IfTYp"
      },
      "source": [
        "#metrics for rf score with gd for train\n",
        "from sklearn.metrics import mean_squared_error\n",
        "print(\"Model Score:\",rf_optimal_model.score(X_train,y_train))\n",
        "\n",
        "MSE= mean_squared_error(y_train, y_pred_train_r_g)\n",
        "print(\"MSE :\",MSE)\n",
        "\n",
        "RMSE=np.sqrt(MSE)\n",
        "print(\"RMSE :\",RMSE)\n",
        "\n",
        "\n",
        "from sklearn.metrics import r2_score\n",
        "r2= r2_score(y_train, y_pred_train_r_g)\n",
        "print(\"R2 :\",r2)\n",
        "print(\"Adjusted R2 :\",1-(1-r2_score(y_train, y_pred_train_r_g))*((X_test.shape[0]-1)/(X_test.shape[0]-X_test.shape[1]-1)) )"
      ],
      "execution_count": null,
      "outputs": []
    },
    {
      "cell_type": "code",
      "metadata": {
        "id": "vSssck3ofha2"
      },
      "source": [
        "#metrics for rf score with gd for test\n",
        "from sklearn.metrics import mean_squared_error\n",
        "print(\"Model Score:\",rf_optimal_model.score(X_train,y_train))\n",
        "\n",
        "MSE= mean_squared_error(y_test, y_pred_test_r_g)\n",
        "print(\"MSE :\",MSE)\n",
        "\n",
        "RMSE=np.sqrt(MSE)\n",
        "print(\"RMSE :\",RMSE)\n",
        "\n",
        "\n",
        "from sklearn.metrics import r2_score\n",
        "r2= r2_score(y_test, y_pred_test_r_g)\n",
        "print(\"R2 :\",r2)\n",
        "print(\"Adjusted R2 :\",1-(1-r2_score(y_test, y_pred_test_r_g))*((X_test.shape[0]-1)/(X_test.shape[0]-X_test.shape[1]-1)) )"
      ],
      "execution_count": null,
      "outputs": []
    },
    {
      "cell_type": "code",
      "metadata": {
        "id": "3kqe2M8jgmeW"
      },
      "source": [
        "# for the important features\n",
        "rf_optimal_model.feature_importances_"
      ],
      "execution_count": null,
      "outputs": []
    },
    {
      "cell_type": "code",
      "metadata": {
        "id": "p-cElQmFgmVv"
      },
      "source": [
        "importance_rf_gd=rf_optimal_model.feature_importances_\n",
        "imortance_rf_gddict={\"Feature\":list(X_train.columns),\"Feature importance\":importance_rf_gd}\n",
        "imortance_rf_gddf=pd.DataFrame(imortance_rf_gddict)"
      ],
      "execution_count": null,
      "outputs": []
    },
    {
      "cell_type": "code",
      "metadata": {
        "id": "7hULRAmShPOG"
      },
      "source": [
        "imortance_rf_gddf['Feature importance'] = round(imortance_rf_gddf['Feature importance'],2)"
      ],
      "execution_count": null,
      "outputs": []
    },
    {
      "cell_type": "code",
      "metadata": {
        "id": "7r_v83sDhcR6"
      },
      "source": [
        "imortance_rf_gddf.head()"
      ],
      "execution_count": null,
      "outputs": []
    },
    {
      "cell_type": "code",
      "metadata": {
        "id": "bIaX9cTwhsdL"
      },
      "source": [
        "imortance_rf_gddf.sort_values(by=[\"Feature importance\"],ascending=False)"
      ],
      "execution_count": null,
      "outputs": []
    },
    {
      "cell_type": "code",
      "metadata": {
        "id": "GnaZNEa8h2hT"
      },
      "source": [
        "rf_optimal_model.fit(X_train,y_train)"
      ],
      "execution_count": null,
      "outputs": []
    },
    {
      "cell_type": "code",
      "metadata": {
        "id": "NxdDMfyXiXRB"
      },
      "source": [
        "features=X_train.columns\n",
        "importance_rfgd=rf_optimal_model.feature_importances_\n",
        "indices=np.argsort(importance_rfgd)"
      ],
      "execution_count": null,
      "outputs": []
    },
    {
      "cell_type": "code",
      "metadata": {
        "id": "FIP0dBDzig-b"
      },
      "source": [
        "plt.title(\"feature imporance\")\n",
        "plt.barh(range(len(indices)),importance_rfgd[indices],color=\"green\",align=\"center\")\n",
        "\n",
        "plt.yticks(range(len(indices)),[features[i] for i in indices])\n",
        "plt.xlabel(\"Relative importance\") \n",
        "plt.show()  "
      ],
      "execution_count": null,
      "outputs": []
    },
    {
      "cell_type": "markdown",
      "metadata": {
        "id": "788dxhrz3tPM"
      },
      "source": [
        "# Implementing Gradient Boosting Regression"
      ]
    },
    {
      "cell_type": "code",
      "metadata": {
        "id": "ouButQoYjP0Q"
      },
      "source": [
        "gbd_model=GradientBoostingRegressor()\n",
        "gbd_model.fit(X_train,y_train)"
      ],
      "execution_count": null,
      "outputs": []
    },
    {
      "cell_type": "code",
      "metadata": {
        "id": "zq-xamQp63IF"
      },
      "source": [
        "# Making predictions on train and test data\n",
        "\n",
        "y_pred_train_gb = gbd_model.predict(X_train)\n",
        "y_pred_test_gb = gbd_model.predict(X_test)"
      ],
      "execution_count": null,
      "outputs": []
    },
    {
      "cell_type": "code",
      "metadata": {
        "id": "ormC0geOG4cQ"
      },
      "source": [
        "# for train data set\n",
        "print(\"Model Score:\",gbd_model.score(X_train,y_train))\n",
        "MSE= mean_squared_error(y_train, y_pred_train_gb)\n",
        "print(\"MSE :\",MSE)\n",
        "\n",
        "RMSE=np.sqrt(MSE)\n",
        "print(\"RMSE :\",RMSE)\n",
        "\n",
        "r2= r2_score(y_train, y_pred_train_gb)\n",
        "print(\"R2 :\",r2)\n",
        "print(\"Adjusted R2 :\",1-(1-r2_score(y_train, y_pred_train_gb))*((X_test.shape[0]-1)/(X_test.shape[0]-X_test.shape[1]-1)) )"
      ],
      "execution_count": null,
      "outputs": []
    },
    {
      "cell_type": "code",
      "metadata": {
        "id": "jQ0Zifq1HF9d"
      },
      "source": [
        "# for test data set\n",
        "print(\"Model Score:\",gbd_model.score(X_train,y_train))\n",
        "MSE= mean_squared_error(y_test, y_pred_test_gb)\n",
        "print(\"MSE :\",MSE)\n",
        "\n",
        "RMSE=np.sqrt(MSE)\n",
        "print(\"RMSE :\",RMSE)\n",
        "\n",
        "r2= r2_score((y_test), (y_pred_test_gb))\n",
        "print(\"R2 :\",r2)\n",
        "print(\"Adjusted R2 :\",1-(1-r2_score((y_test), (y_pred_test_gb)))*((X_test.shape[0]-1)/(X_test.shape[0]-X_test.shape[1]-1)) )"
      ],
      "execution_count": null,
      "outputs": []
    },
    {
      "cell_type": "code",
      "metadata": {
        "id": "djCxcu6iJuFu"
      },
      "source": [
        "#Heteroscadacity\n",
        "plt.scatter((y_pred_test_gb),(y_test)-(y_pred_test_gb))"
      ],
      "execution_count": null,
      "outputs": []
    },
    {
      "cell_type": "markdown",
      "metadata": {
        "id": "9cVSU-fAXAIN"
      },
      "source": [
        "feature importance"
      ]
    },
    {
      "cell_type": "code",
      "metadata": {
        "id": "4_bhgbdNKCK5"
      },
      "source": [
        "gbd_model.feature_importances_"
      ],
      "execution_count": null,
      "outputs": []
    },
    {
      "cell_type": "code",
      "metadata": {
        "id": "hvnXIDXwW_Go"
      },
      "source": [
        "importances_gb = gbd_model.feature_importances_\n",
        "\n",
        "importance_dictgb = {'Feature' : list(X_train.columns),\n",
        "                   'Feature Importance' : importances_gb}\n",
        "\n",
        "importance_dfgb = pd.DataFrame(importance_dictgb)"
      ],
      "execution_count": null,
      "outputs": []
    },
    {
      "cell_type": "code",
      "metadata": {
        "id": "uWrJfQAzXUFi"
      },
      "source": [
        "importance_dfgb['Feature Importance'] = round(importance_dfgb['Feature Importance'],2)"
      ],
      "execution_count": null,
      "outputs": []
    },
    {
      "cell_type": "code",
      "metadata": {
        "id": "MIEGDjylTtIn"
      },
      "source": [
        "importance_dfgb.head()"
      ],
      "execution_count": null,
      "outputs": []
    },
    {
      "cell_type": "code",
      "metadata": {
        "id": "ngIhz4WFTxMA"
      },
      "source": [
        "importance_dfgb.sort_values(by=['Feature Importance'],ascending=False)"
      ],
      "execution_count": null,
      "outputs": []
    },
    {
      "cell_type": "code",
      "metadata": {
        "id": "RxCaNwNPT7BJ"
      },
      "source": [
        "gbd_model.fit(X_train,y_train)"
      ],
      "execution_count": null,
      "outputs": []
    },
    {
      "cell_type": "code",
      "metadata": {
        "id": "j2OEjkn3UJfm"
      },
      "source": [
        "features = X_train.columns\n",
        "importances =gbd_model.feature_importances_\n",
        "indices = np.argsort(importances)"
      ],
      "execution_count": null,
      "outputs": []
    },
    {
      "cell_type": "code",
      "metadata": {
        "id": "gT-TWQ3xUVaZ"
      },
      "source": [
        "plt.title('Feature Importance')\n",
        "plt.barh(range(len(indices)), importances[indices], color='red', align='center')\n",
        "plt.yticks(range(len(indices)), [features[i] for i in indices])\n",
        "plt.xlabel('Relative Importance')\n",
        "\n",
        "plt.show()"
      ],
      "execution_count": null,
      "outputs": []
    },
    {
      "cell_type": "markdown",
      "metadata": {
        "id": "ii04rD7PUcZb"
      },
      "source": [
        "# Training Gradient Regressor with GridsearchCV"
      ]
    },
    {
      "cell_type": "code",
      "metadata": {
        "id": "ob7RPApnUleG"
      },
      "source": [
        "# Create an instance of the GradientBoostingRegressor\n",
        "gb_model = GradientBoostingRegressor()\n",
        "\n",
        "# Grid search\n",
        "gb_grid = GridSearchCV(estimator=gb_model,\n",
        "                       param_grid = param_dict,\n",
        "                       cv = 5, verbose=2)\n",
        "\n",
        "gb_grid.fit(X_train,y_train)"
      ],
      "execution_count": null,
      "outputs": []
    },
    {
      "cell_type": "code",
      "metadata": {
        "id": "gMeJm2dxecb4"
      },
      "source": [
        "gb_grid.best_estimator_"
      ],
      "execution_count": null,
      "outputs": []
    },
    {
      "cell_type": "code",
      "metadata": {
        "id": "fLBXmBPJenM_"
      },
      "source": [
        "gb_optimal_model = gb_grid.best_estimator_"
      ],
      "execution_count": null,
      "outputs": []
    },
    {
      "cell_type": "code",
      "metadata": {
        "id": "9Nysgvcteq2h"
      },
      "source": [
        "gb_grid.best_params_"
      ],
      "execution_count": null,
      "outputs": []
    },
    {
      "cell_type": "code",
      "metadata": {
        "id": "oj-1Cly1ewVi"
      },
      "source": [
        "# Making predictions on train and test data\n",
        "\n",
        "y_pred_train_gd_g = gb_optimal_model.predict(X_train)\n",
        "y_pred_test_gd_g= gb_optimal_model.predict(X_test)"
      ],
      "execution_count": null,
      "outputs": []
    },
    {
      "cell_type": "code",
      "metadata": {
        "id": "tvZ7BVffe6oL"
      },
      "source": [
        "#gd with grid cv train performance\n",
        "print(\"Model Score:\",gb_optimal_model.score(X_train,y_train))\n",
        "MSE= mean_squared_error(y_train, y_pred_train_gd_g)\n",
        "print(\"MSE :\",MSE)\n",
        "\n",
        "RMSE=np.sqrt(MSE)\n",
        "print(\"RMSE :\",RMSE)\n",
        "\n",
        "r2= r2_score(y_train, y_pred_train_gd_g)\n",
        "print(\"R2 :\",r2)\n",
        "print(\"Adjusted R2 :\",1-(1-r2_score(y_train, y_pred_train_gd_g))*((X_test.shape[0]-1)/(X_test.shape[0]-X_test.shape[1]-1)) )"
      ],
      "execution_count": null,
      "outputs": []
    },
    {
      "cell_type": "code",
      "metadata": {
        "id": "dntQUDu0g9lI"
      },
      "source": [
        "#metrics for rf score with gd for train\n",
        "from sklearn.metrics import mean_squared_error\n",
        "print(\"Model Score:\",gb_optimal_model.score(X_train,y_train))\n",
        "\n",
        "MSE= mean_squared_error(y_test, y_pred_test_gd_g)\n",
        "print(\"MSE :\",MSE)\n",
        "\n",
        "RMSE=np.sqrt(MSE)\n",
        "print(\"RMSE :\",RMSE)\n",
        "\n",
        "\n",
        "from sklearn.metrics import r2_score\n",
        "r2= r2_score(y_test, y_pred_test_gd_g)\n",
        "print(\"R2 :\",r2)\n",
        "print(\"Adjusted R2 :\",1-(1-r2_score(y_test, y_pred_test_gd_g))*((X_test.shape[0]-1)/(X_test.shape[0]-X_test.shape[1]-1)) )"
      ],
      "execution_count": null,
      "outputs": []
    },
    {
      "cell_type": "markdown",
      "metadata": {
        "id": "Ux-NR3rqVCie"
      },
      "source": [
        "# **Implementing Xgboost Regressor**"
      ]
    },
    {
      "cell_type": "code",
      "metadata": {
        "id": "Df-3tBlpVTFc"
      },
      "source": [
        "# Create an instance of the RandomForestRegressor\n",
        "import xgboost as xgb\n",
        "xg_model = xgb.XGBRegressor()\n",
        "\n",
        "\n",
        "xg_model.fit(X_train,y_train)"
      ],
      "execution_count": null,
      "outputs": []
    },
    {
      "cell_type": "code",
      "metadata": {
        "id": "Cqko0y4kWkT7"
      },
      "source": [
        "# Making predictions on train and test data\n",
        "\n",
        "y_pred_train_xg = xg_model.predict(X_train)\n",
        "y_pred_test_xg = xg_model.predict(X_test)"
      ],
      "execution_count": null,
      "outputs": []
    },
    {
      "cell_type": "code",
      "metadata": {
        "id": "Xs1-u4tmW0I0"
      },
      "source": [
        "#xg boost on train data\n",
        "print(\"Model Score:\",xg_model.score(X_train,y_train))\n",
        "MSE= mean_squared_error(y_train, y_pred_train_xg)\n",
        "print(\"MSE :\",MSE)\n",
        "\n",
        "RMSE=np.sqrt(MSE)\n",
        "print(\"RMSE :\",RMSE)\n",
        "\n",
        "r2= r2_score(y_train, y_pred_train_xg)\n",
        "print(\"R2 :\",r2)\n",
        "print(\"Adjusted R2 :\",1-(1-r2_score(y_train, y_pred_train_xg))*((X_test.shape[0]-1)/(X_test.shape[0]-X_test.shape[1]-1)) )"
      ],
      "execution_count": null,
      "outputs": []
    },
    {
      "cell_type": "code",
      "metadata": {
        "id": "AhWKnby5XZcG"
      },
      "source": [
        "#Xg boost for test\n",
        "MSE= mean_squared_error(y_test, y_pred_test_xg)\n",
        "print(\"MSE :\",MSE)\n",
        "\n",
        "RMSE=np.sqrt(MSE)\n",
        "print(\"RMSE :\",RMSE)\n",
        "\n",
        "r2= r2_score((y_test), (y_pred_test_xg))\n",
        "print(\"R2 :\",r2)\n",
        "print(\"Adjusted R2 :\",1-(1-r2_score((y_test), (y_pred_test_xg)))*((X_test.shape[0]-1)/(X_test.shape[0]-X_test.shape[1]-1)) )"
      ],
      "execution_count": null,
      "outputs": []
    },
    {
      "cell_type": "code",
      "metadata": {
        "id": "GtA2WfXfbilv"
      },
      "source": [
        "#Heteroscadacity\n",
        "plt.scatter((y_pred_test_xg),(y_test)-(y_pred_test_xg))"
      ],
      "execution_count": null,
      "outputs": []
    },
    {
      "cell_type": "markdown",
      "metadata": {
        "id": "8TUlmFa6antC"
      },
      "source": [
        "Feature  importance selction"
      ]
    },
    {
      "cell_type": "code",
      "metadata": {
        "id": "w1MUwC0gal6f"
      },
      "source": [
        "xg_model.feature_importances_"
      ],
      "execution_count": null,
      "outputs": []
    },
    {
      "cell_type": "code",
      "metadata": {
        "id": "OPE6-NzrawC9"
      },
      "source": [
        "importances = xg_model.feature_importances_\n",
        "\n",
        "importance_dictxg = {'Feature' : list(X_train.columns),\n",
        "                   'Feature Importance' : importances}\n",
        "\n",
        "importance_dfxg = pd.DataFrame(importance_dictxg)"
      ],
      "execution_count": null,
      "outputs": []
    },
    {
      "cell_type": "code",
      "metadata": {
        "id": "VjLqxt2ja1y-"
      },
      "source": [
        "importance_dfxg['Feature Importance'] = round(importance_dfxg['Feature Importance'],2)"
      ],
      "execution_count": null,
      "outputs": []
    },
    {
      "cell_type": "code",
      "metadata": {
        "id": "PSlimCUFbFwm"
      },
      "source": [
        "xg_model.fit(X_train,y_train)"
      ],
      "execution_count": null,
      "outputs": []
    },
    {
      "cell_type": "code",
      "metadata": {
        "id": "7JhlHLJCbJAS"
      },
      "source": [
        "features = X_train.columns\n",
        "importances = xg_model.feature_importances_\n",
        "indices = np.argsort(importances)"
      ],
      "execution_count": null,
      "outputs": []
    },
    {
      "cell_type": "code",
      "metadata": {
        "id": "tg4-J8KKbOKa"
      },
      "source": [
        "plt.title('Feature Importance')\n",
        "plt.barh(range(len(indices)), importances[indices], color='red', align='center')\n",
        "plt.yticks(range(len(indices)), [features[i] for i in indices])\n",
        "plt.xlabel('Relative Importance')\n",
        "\n",
        "plt.show()"
      ],
      "execution_count": null,
      "outputs": []
    },
    {
      "cell_type": "markdown",
      "metadata": {
        "id": "hVFAaW7BcJOC"
      },
      "source": [
        "# **Training Xgboost regressor with Gridsearch**"
      ]
    },
    {
      "cell_type": "markdown",
      "metadata": {
        "id": "9aqegYgXlj6h"
      },
      "source": [
        "# Provide the range for  Hyperparametre"
      ]
    },
    {
      "cell_type": "code",
      "metadata": {
        "id": "M5SODg4JleJ-"
      },
      "source": [
        "# Number of trees\n",
        "n_estimators = [50,80,100]\n",
        "\n",
        "# Maximum depth of trees\n",
        "max_depth = [4,6,8]\n",
        "\n",
        "# Minimum number of samples required to split a node\n",
        "min_samples_split = [50,100,150]\n",
        "\n",
        "# Minimum number of samples required at each leaf node\n",
        "min_samples_leaf = [40,50]\n",
        "\n",
        "# HYperparameter Grid\n",
        "param_dict_xgb = {'n_estimators' : n_estimators,\n",
        "              'max_depth' : max_depth,\n",
        "              'min_samples_split' : min_samples_split,\n",
        "              'min_samples_leaf' : min_samples_leaf,'learning_rate': [0.1, 0.05, 0.01, 0.005]}"
      ],
      "execution_count": null,
      "outputs": []
    },
    {
      "cell_type": "code",
      "metadata": {
        "id": "PLZ65v3op4Ps"
      },
      "source": [
        "import xgboost as xgb\n",
        "xg_model = xgb.XGBRegressor()\n",
        "\n",
        "\n",
        "xg_model.fit(X_train,y_train)"
      ],
      "execution_count": null,
      "outputs": []
    },
    {
      "cell_type": "code",
      "metadata": {
        "id": "pAWlpLNgp6xr"
      },
      "source": [
        "# Grid search\n",
        "xg_grid = GridSearchCV(estimator=xg_model,\n",
        "                       param_grid = param_dict,\n",
        "                       cv = 5, verbose=2)\n",
        "\n",
        "xg_grid.fit(X_train,y_train)"
      ],
      "execution_count": null,
      "outputs": []
    },
    {
      "cell_type": "code",
      "metadata": {
        "id": "pri8ohQzoDnh"
      },
      "source": [
        "xg_grid.best_estimator_"
      ],
      "execution_count": null,
      "outputs": []
    },
    {
      "cell_type": "code",
      "metadata": {
        "id": "wjFM0bWVqqaQ"
      },
      "source": [
        "xg_optimal_model = xg_grid.best_estimator_"
      ],
      "execution_count": null,
      "outputs": []
    },
    {
      "cell_type": "code",
      "metadata": {
        "id": "agx_SiFuquLL"
      },
      "source": [
        "xg_grid.best_params_"
      ],
      "execution_count": null,
      "outputs": []
    },
    {
      "cell_type": "code",
      "metadata": {
        "id": "QCDxDFOxqyQR"
      },
      "source": [
        "# Making predictions on train and test data\n",
        "\n",
        "y_pred_train_x_g = xg_optimal_model.predict(X_train)\n",
        "y_pred_test_x_g  = xg_optimal_model.predict(X_test)"
      ],
      "execution_count": null,
      "outputs": []
    },
    {
      "cell_type": "code",
      "metadata": {
        "id": "pXmwemMNq5lR"
      },
      "source": [
        "#xg after training score for train data\n",
        "print(\"Model Score:\",xg_optimal_model.score(X_train,y_train))\n",
        "MSE= mean_squared_error(y_train, y_pred_train_x_g)\n",
        "print(\"MSE :\",MSE)\n",
        "\n",
        "RMSE=np.sqrt(MSE)\n",
        "print(\"RMSE :\",RMSE)\n",
        "r2= r2_score(y_train, y_pred_train_x_g)\n",
        "print(\"R2 :\",r2)\n",
        "print(\"Adjusted R2 :\",1-(1-r2_score(y_train, y_pred_train_x_g))*((X_test.shape[0]-1)/(X_test.shape[0]-X_test.shape[1]-1)) )"
      ],
      "execution_count": null,
      "outputs": []
    },
    {
      "cell_type": "code",
      "metadata": {
        "id": "LoN4Zhb3rDXt"
      },
      "source": [
        "#Xg boost  after training for test\n",
        "print(\"Model Score:\",xg_optimal_model.score(X_train,y_train))\n",
        "MSE= mean_squared_error(y_test, y_pred_test_x_g)\n",
        "print(\"MSE :\",MSE)\n",
        "\n",
        "RMSE=np.sqrt(MSE)\n",
        "print(\"RMSE :\",RMSE)\n",
        "\n",
        "r2= r2_score((y_test), (y_pred_test_x_g))\n",
        "print(\"R2 :\",r2)\n",
        "print(\"Adjusted R2 :\",1-(1-r2_score((y_test), (y_pred_test_x_g)))*((X_test.shape[0]-1)/(X_test.shape[0]-X_test.shape[1]-1)) )"
      ],
      "execution_count": null,
      "outputs": []
    },
    {
      "cell_type": "code",
      "metadata": {
        "id": "K5gVOYPOrfWp"
      },
      "source": [
        "plt.figure(figsize=(8,5))\n",
        "plt.plot((y_pred_test_x_g))\n",
        "plt.plot(np.array((y_test)))\n",
        "plt.legend([\"Predicted\",\"Actual\"])\n",
        "plt.show()"
      ],
      "execution_count": null,
      "outputs": []
    },
    {
      "cell_type": "code",
      "metadata": {
        "id": "ralmMoFWrX4K"
      },
      "source": [
        "### Heteroscadacity\n",
        "plt.scatter((y_pred_test_x_g),(y_test)-(y_pred_test_x_g))"
      ],
      "execution_count": null,
      "outputs": []
    },
    {
      "cell_type": "markdown",
      "metadata": {
        "id": "KLqsyX7nU_Qj"
      },
      "source": [
        "# Feature importance wirh xg train"
      ]
    },
    {
      "cell_type": "code",
      "metadata": {
        "id": "uRmV9EO3rtOn"
      },
      "source": [
        "xg_optimal_model.feature_importances_"
      ],
      "execution_count": null,
      "outputs": []
    },
    {
      "cell_type": "code",
      "metadata": {
        "id": "Pq_9_r7gryen"
      },
      "source": [
        "importances = xg_optimal_model.feature_importances_\n",
        "\n",
        "importance_dictxgt = {'Feature' : list(X_train.columns),\n",
        "                   'Feature Importance' : importances}\n",
        "\n",
        "importance_dfxgt = pd.DataFrame(importance_dictxgt)"
      ],
      "execution_count": null,
      "outputs": []
    },
    {
      "cell_type": "code",
      "metadata": {
        "id": "ldlCphB2r6gc"
      },
      "source": [
        "importance_dfxgt['Feature Importance'] = round(importance_dfxgt['Feature Importance'],2)"
      ],
      "execution_count": null,
      "outputs": []
    },
    {
      "cell_type": "code",
      "metadata": {
        "id": "68ril_UssAEf"
      },
      "source": [
        "importance_dfxgt.head()"
      ],
      "execution_count": null,
      "outputs": []
    },
    {
      "cell_type": "code",
      "metadata": {
        "id": "EQ49k_k7sBlH"
      },
      "source": [
        "importance_dfxgt.sort_values(by=['Feature Importance'],ascending=False)"
      ],
      "execution_count": null,
      "outputs": []
    },
    {
      "cell_type": "code",
      "metadata": {
        "id": "FGcfln_xsF1X"
      },
      "source": [
        "features = X_train.columns\n",
        "importances = xg_optimal_model.feature_importances_\n",
        "indices = np.argsort(importances)"
      ],
      "execution_count": null,
      "outputs": []
    },
    {
      "cell_type": "code",
      "metadata": {
        "id": "AD0C27r9sZKt"
      },
      "source": [
        "plt.title('Feature Importance')\n",
        "plt.barh(range(len(indices)), importances[indices], color='red', align='center')\n",
        "plt.yticks(range(len(indices)), [features[i] for i in indices])\n",
        "plt.xlabel('Relative Importance')\n",
        "\n",
        "plt.show()"
      ],
      "execution_count": null,
      "outputs": []
    },
    {
      "cell_type": "markdown",
      "metadata": {
        "id": "iTcbzgRh29D-"
      },
      "source": [
        "# Model Summery for the train data set "
      ]
    },
    {
      "cell_type": "code",
      "metadata": {
        "id": "wOWEzax92-Xk"
      },
      "source": [
        "from prettytable import PrettyTable\n",
        "train = PrettyTable(['SL NO',\"MODEL_NAME\", \"Train MSE\", \"Train RMSE\",'Train R^2','Train Adjusted R^2'])\n",
        "train.add_row(['1','Linear Regression','52.95555328513579',' 7.277056636108846','0.6547192361864398',' 0.651535090814095'])\n",
        "train.add_row(['2','lasso Regression','54.64834166119503','7.392451667829492','0.6436819185266032','0.6403959880922664'])\n",
        "train.add_row(['3','Ridge Regression','52.955560208927636','7.277057111836325','0.6547191910419368','0.6515350452532745'])\n",
        "train.add_row(['4','Elastic net regressor','64.38876290053423','8.024260894346234','0.5801724303474118','0.5763008216359182'])\n",
        "train.add_row(['5','Decision Tree regressor','28.409014527459313','5.330010743653273','0.8147675621022166','.8130593667094993'])\n",
        "train.add_row(['6','Random forrest regressor','24.007196716801857','4.899713942344171','0.8434682917055565','0.842024771629066'])\n",
        "train.add_row(['7','Gradient Boost','8.001689449028063','2.8287257641963217','0.9478273897001314','0.9473462589999597'])\n",
        "train.add_row(['8','XGBoost','3.522757241759442','1.8769009674885466','0.9770309205417014','0.9768191019415096'])\n",
        "print(train)"
      ],
      "execution_count": null,
      "outputs": []
    },
    {
      "cell_type": "markdown",
      "metadata": {
        "id": "TtzLswKsCVXB"
      },
      "source": [
        "# Model Summery for the test data set "
      ]
    },
    {
      "cell_type": "code",
      "metadata": {
        "id": "aZW1jj8DvrNT"
      },
      "source": [
        "from prettytable import PrettyTable\n",
        "test = PrettyTable(['SL NO',\"MODEL_NAME\", \"Test MSE\", \"Test RMSE\",'Test R^2','Test Adjusted R^2'])\n",
        "test.add_row(['1','Linear Regression','55.08739505098533','7.4220883214217634','0.6588467149667641','0.6557006327993107'])\n",
        "test.add_row(['2','lasso Regression', '57.49564641514416','7.582588371733241','0.643932543343507','0.6406489241466748'])\n",
        "test.add_row(['3','Ridge Regression','55.08773606712857','7.422111294445036','0.6588446030720665','0.655698501428'])\n",
        "test.add_row(['4','Elastic net regressor','67.17969621593292','8.196322115188796','0.5839597419629589','0.5801230594680928'])\n",
        "test.add_row(['5','Decision Tree regressor','32.217717802173574','5.676065345128928','0.8004774004232265','0.7986374225596943'])\n",
        "test.add_row(['6','Random forrest regressor','26.998863153577467','5.196043028457084','0.8327974875471809','0.8312555623602961'])\n",
        "test.add_row(['7','Gradient Boost','14.1788868387969','3.7654862685710233','0.9121909137527177','0.9113811469631173'])\n",
        "test.add_row(['8','XGBoost','13.00960734058643','3.6068833278311665','0.9194321990152959','0.9186892106488664'])\n",
        "print(test)"
      ],
      "execution_count": null,
      "outputs": []
    },
    {
      "cell_type": "markdown",
      "metadata": {
        "id": "xraDHhvQPzIP"
      },
      "source": [
        "# Conclusion:\n",
        "* As it was stated in the problem, rented bike count was low in 2017 untill november. That is when business took off and rented bike count started increasing.\n",
        "\n",
        "* There was sharp increase in demand from the end of 2017 that too in winter season of the year. The demand however decrease at the end of 2018. \n",
        "\n",
        "* bike count rent is highly correlated with 'Hour', which seems obvious.Demand for bike is mostly in morning (7 to 8) and in the evening (3 to 9).\n",
        "\n",
        "* After doing exploratory data analysis, applying Linear Regression model didn't go quite well as it gave only 65% accuracy.\n",
        "\n",
        "\n",
        "* Lasso and Ridge Regression helps to reduce model complexity and prevent over-fitting which may result from simple linear regression. with Lasso, ridge and ElsaticNet regressor We got r squared value of 0.64,0.65, 0.68 respectively.\n",
        "\n",
        "\n",
        "* With Decision tree we reached at the model r squared value of 0.80. "
      ]
    }
  ]
}